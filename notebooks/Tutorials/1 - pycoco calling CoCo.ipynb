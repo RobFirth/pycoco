{
 "cells": [
  {
   "cell_type": "markdown",
   "metadata": {},
   "source": [
    "# **`pycoco`** calling **`CoCo`**\n",
    "\n",
    "___\n",
    "\n",
    "## Brief description of operation\n",
    "___\n",
    "\n",
    "lcfit, specfit, specphase, lcsim\n",
    "\n",
    "![flowchart](data/pycoco_flowchart.png)\n",
    "\n",
    "\n",
    "## Introduction\n",
    "\n",
    "---\n",
    "**`pycoco.coco_calls`**"
   ]
  },
  {
   "cell_type": "code",
   "execution_count": 1,
   "metadata": {},
   "outputs": [],
   "source": [
    "# %matplotlib notebook\n",
    "%matplotlib inline\n",
    "\n",
    "from matplotlib import pyplot as plt\n",
    "\n",
    "import os\n",
    "import numpy as np\n",
    "from astropy.table import Table\n",
    "\n",
    "import pycoco as pcc"
   ]
  },
  {
   "cell_type": "markdown",
   "metadata": {},
   "source": [
    "# Run Light Curve Fits\n",
    "___\n",
    "## Individual SNe\n",
    "First test - let's load in the photometry to a SN object, see if you have a fit for SN2006aj and plot the light curve."
   ]
  },
  {
   "cell_type": "code",
   "execution_count": null,
   "metadata": {},
   "outputs": [],
   "source": [
    "snname = \"SN2006aj\"\n",
    "sn = pcc.classes.SNClass(snname)\n",
    "sn.load_phot(verbose=False)\n",
    "\n",
    "sn.plot_lc(multiplot=False)\n",
    "pcc.coco.test_LCfit(snname)"
   ]
  },
  {
   "cell_type": "markdown",
   "metadata": {},
   "source": [
    "Let's try running a fit anyway:"
   ]
  },
  {
   "cell_type": "code",
   "execution_count": null,
   "metadata": {},
   "outputs": [],
   "source": [
    "pcc.coco.run_LCfit(snname+\".dat\") ## This will look for a file called SN2006aj.dat in the current working directory"
   ]
  },
  {
   "cell_type": "markdown",
   "metadata": {},
   "source": [
    "Unless you had the file in here, this probably threw a warning. To run, it is best to give the explicit path to the file you want to fit, like so."
   ]
  },
  {
   "cell_type": "code",
   "execution_count": null,
   "metadata": {},
   "outputs": [],
   "source": [
    "pcc.coco.run_LCfit(os.path.join(pcc.defaults._default_data_dir_path, \"lc/\"+snname+\".dat\"))"
   ]
  },
  {
   "cell_type": "markdown",
   "metadata": {},
   "source": [
    "Great, let's take a look at what we have."
   ]
  },
  {
   "cell_type": "code",
   "execution_count": null,
   "metadata": {},
   "outputs": [],
   "source": [
    "sn.get_lcfit(os.path.join(pcc.defaults._default_recon_dir_path, snname + \".dat\"))\n",
    "\n",
    "sn.plot_lc(multiplot=False)"
   ]
  },
  {
   "cell_type": "markdown",
   "metadata": {},
   "source": [
    "## All SNe as Batch\n",
    "___\n",
    "\n",
    "You can run using a file input containing a list of the lightcurves. "
   ]
  },
  {
   "cell_type": "code",
   "execution_count": null,
   "metadata": {},
   "outputs": [],
   "source": [
    "lclist_path = os.path.join(pcc.defaults._default_coco_dir_path, \"examples/lc.list\")\n",
    "\n",
    "with open(lclist_path, \"r\") as f:\n",
    "    print(f.read())"
   ]
  },
  {
   "cell_type": "code",
   "execution_count": null,
   "metadata": {
    "scrolled": false
   },
   "outputs": [],
   "source": [
    "run_all = True\n",
    "# run_all = False\n",
    "\n",
    "if run_all:                                  ## This can take a while!\n",
    "    pcc.coco.run_LCfit_fileinput(lclist_path)\n",
    "    print(\"Done.\")"
   ]
  },
  {
   "cell_type": "markdown",
   "metadata": {},
   "source": [
    "## Call Specfit\n",
    "---\n",
    "specfitting takes the list of spectra that lives in `COCO_ROOT_DIR/lists/` and adjusts their fluxes, by multiplying them by a cubic spline, so that their spectrophotometric flux matches that of the light curves we have just done at their observed MJD. \n",
    "\n",
    "### individual speclists"
   ]
  },
  {
   "cell_type": "code",
   "execution_count": 5,
   "metadata": {},
   "outputs": [
    {
     "ename": "NameError",
     "evalue": "name 'sn' is not defined",
     "output_type": "error",
     "traceback": [
      "\u001b[0;31m---------------------------------------------------------------------------\u001b[0m",
      "\u001b[0;31mNameError\u001b[0m                                 Traceback (most recent call last)",
      "\u001b[0;32m<ipython-input-5-5538baa1b8cf>\u001b[0m in \u001b[0;36m<module>\u001b[0;34m()\u001b[0m\n\u001b[0;32m----> 1\u001b[0;31m \u001b[0mpcc\u001b[0m\u001b[0;34m.\u001b[0m\u001b[0mcoco\u001b[0m\u001b[0;34m.\u001b[0m\u001b[0mtest_specfit\u001b[0m\u001b[0;34m(\u001b[0m\u001b[0msn\u001b[0m\u001b[0;34m.\u001b[0m\u001b[0mname\u001b[0m\u001b[0;34m)\u001b[0m\u001b[0;34m\u001b[0m\u001b[0m\n\u001b[0m",
      "\u001b[0;31mNameError\u001b[0m: name 'sn' is not defined"
     ]
    }
   ],
   "source": [
    "pcc.coco.test_specfit(sn.name)"
   ]
  },
  {
   "cell_type": "code",
   "execution_count": null,
   "metadata": {
    "scrolled": false
   },
   "outputs": [],
   "source": [
    "pcc.coco.specfit_sn(SNobject=sn, overwrite=True, verbose=False)"
   ]
  },
  {
   "cell_type": "markdown",
   "metadata": {},
   "source": [
    "## All Speclists\n",
    "___"
   ]
  },
  {
   "cell_type": "code",
   "execution_count": null,
   "metadata": {},
   "outputs": [],
   "source": [
    "specfit_all = True\n",
    "# specfit_all = False\n",
    "if specfit_all:           ## This also might take a while!\n",
    "    pcc.coco.specfit_all(overwrite=True, verbose=False)"
   ]
  },
  {
   "cell_type": "markdown",
   "metadata": {},
   "source": [
    "# Specphase"
   ]
  },
  {
   "cell_type": "code",
   "execution_count": 4,
   "metadata": {},
   "outputs": [
    {
     "name": "stdout",
     "output_type": "stream",
     "text": [
      "current list.txt is up to date. re run with force = True to force.\n"
     ]
    }
   ],
   "source": [
    "phase_path = os.path.join(pcc.defaults._default_coco_dir_path, \"examples/phase.list\")\n",
    "pcc.coco.run_specphase(\"BessellV\", phase_path)"
   ]
  },
  {
   "cell_type": "code",
   "execution_count": null,
   "metadata": {},
   "outputs": [],
   "source": []
  }
 ],
 "metadata": {
  "anaconda-cloud": {},
  "kernelspec": {
   "display_name": "Python [default]",
   "language": "python",
   "name": "python3"
  },
  "language_info": {
   "codemirror_mode": {
    "name": "ipython",
    "version": 3
   },
   "file_extension": ".py",
   "mimetype": "text/x-python",
   "name": "python",
   "nbconvert_exporter": "python",
   "pygments_lexer": "ipython3",
   "version": "3.5.4"
  }
 },
 "nbformat": 4,
 "nbformat_minor": 2
}
