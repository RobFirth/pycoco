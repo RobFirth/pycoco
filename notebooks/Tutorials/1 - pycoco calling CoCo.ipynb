{
 "cells": [
  {
   "cell_type": "markdown",
   "metadata": {},
   "source": [
    "# **`pycoco`** calling **`CoCo`**\n",
    "\n",
    "___\n",
    "\n",
    "## Brief description of operation\n",
    "___\n",
    "\n",
    "lcfit, specfit, specphase, lcsim\n",
    "\n",
    "![flowchart](data/pycoco_flowchart.png)\n",
    "\n",
    "\n",
    "## Introduction\n",
    "\n",
    "---\n",
    "**`pycoco.coco_calls`**"
   ]
  },
  {
   "cell_type": "code",
   "execution_count": 1,
   "metadata": {},
   "outputs": [],
   "source": [
    "# %matplotlib notebook\n",
    "%matplotlib inline\n",
    "\n",
    "from matplotlib import pyplot as plt\n",
    "\n",
    "import os\n",
    "import numpy as np\n",
    "from astropy.table import Table\n",
    "\n",
    "import pycoco as pcc"
   ]
  },
  {
   "cell_type": "markdown",
   "metadata": {},
   "source": [
    "# Run Light Curve Fits\n",
    "___\n",
    "## Individual SNe\n",
    "First test - let's load in the photometry to a SN object, see if you have a fit for SN2006aj and plot the light curve."
   ]
  },
  {
   "cell_type": "code",
   "execution_count": 2,
   "metadata": {},
   "outputs": [
    {
     "data": {
      "image/png": "[encoded data removed]",
      "text/plain": [
       "<matplotlib.figure.Figure at 0x10d63e5f8>"
      ]
     },
     "metadata": {},
     "output_type": "display_data"
    },
    {
     "data": {
      "text/plain": [
       "True"
      ]
     },
     "execution_count": 2,
     "metadata": {},
     "output_type": "execute_result"
    }
   ],
   "source": [
    "snname = \"SN2006aj\"\n",
    "sn = pcc.classes.SNClass(snname)\n",
    "sn.load_phot(verbose=False)\n",
    "\n",
    "sn.plot_lc(multiplot=False)\n",
    "pcc.coco.test_LCfit(snname)"
   ]
  },
  {
   "cell_type": "markdown",
   "metadata": {},
   "source": [
    "Let's try running a fit anyway:"
   ]
  },
  {
   "cell_type": "code",
   "execution_count": null,
   "metadata": {},
   "outputs": [],
   "source": [
    "pcc.coco.run_LCfit(snname+\".dat\") ## This will look for a file called SN2006aj.dat in the current working directory"
   ]
  },
  {
   "cell_type": "markdown",
   "metadata": {},
   "source": [
    "Unless you had the file in here, this probably threw a warning. To run, it is best to give the explicit path to the file you want to fit, like so."
   ]
  },
  {
   "cell_type": "code",
   "execution_count": null,
   "metadata": {},
   "outputs": [],
   "source": [
    "pcc.coco.run_LCfit(os.path.join(pcc.defaults._default_data_dir_path, \"lc/\"+snname+\".dat\"))"
   ]
  },
  {
   "cell_type": "markdown",
   "metadata": {},
   "source": [
    "Great, let's take a look at what we have."
   ]
  },
  {
   "cell_type": "code",
   "execution_count": null,
   "metadata": {},
   "outputs": [],
   "source": [
    "sn.get_lcfit(os.path.join(pcc.defaults._default_recon_dir_path, snname + \".dat\"))\n",
    "\n",
    "sn.plot_lc(multiplot=False)"
   ]
  },
  {
   "cell_type": "markdown",
   "metadata": {},
   "source": [
    "## All SNe as Batch\n",
    "___\n",
    "\n",
    "You can run using a file input containing a list of the lightcurves. "
   ]
  },
  {
   "cell_type": "code",
   "execution_count": null,
   "metadata": {},
   "outputs": [],
   "source": [
    "lclist_path = os.path.join(pcc.defaults._default_coco_dir_path, \"examples/lc.list\")\n",
    "\n",
    "with open(lclist_path, \"r\") as f:\n",
    "    print(f.read())"
   ]
  },
  {
   "cell_type": "code",
   "execution_count": null,
   "metadata": {
    "scrolled": false
   },
   "outputs": [],
   "source": [
    "# run_all = True\n",
    "run_all = False\n",
    "\n",
    "if run_all:                                  ## This can take a while!\n",
    "    pcc.coco.run_LCfit_fileinput(lclist_path)\n",
    "    print(\"Done.\")"
   ]
  },
  {
   "cell_type": "markdown",
   "metadata": {},
   "source": [
    "## Call Specfit\n",
    "---\n",
    "specfitting takes the list of spectra that lives in `COCO_ROOT_DIR/lists/` and adjusts their fluxes, by multiplying them by a cubic spline, so that their spectrophotometric flux matches that of the light curves we have just done at their observed MJD. \n",
    "\n",
    "### individual speclists"
   ]
  },
  {
   "cell_type": "code",
   "execution_count": 3,
   "metadata": {},
   "outputs": [
    {
     "data": {
      "text/plain": [
       "True"
      ]
     },
     "execution_count": 3,
     "metadata": {},
     "output_type": "execute_result"
    }
   ],
   "source": [
    "pcc.coco.test_specfit(sn.name)"
   ]
  },
  {
   "cell_type": "code",
   "execution_count": 6,
   "metadata": {
    "scrolled": false
   },
   "outputs": [
    {
     "name": "stdout",
     "output_type": "stream",
     "text": [
      "['BessellB', 'BessellI', 'BessellR', 'BessellV']\n",
      "Overwriting /Users/berto/Code/CoCo/recon/SN2006aj_m.dat\n",
      "Overwriting /Users/berto/Code/CoCo/recon/SN2006aj_53786.270000.spec\n",
      "Overwriting /Users/berto/Code/CoCo/recon/SN2006aj_53787.230000.spec\n",
      "Overwriting /Users/berto/Code/CoCo/recon/SN2006aj_53788.200000.spec\n",
      "Overwriting /Users/berto/Code/CoCo/recon/SN2006aj_53789.170000.spec\n",
      "Overwriting /Users/berto/Code/CoCo/recon/SN2006aj_53790.140000.spec\n",
      "Overwriting /Users/berto/Code/CoCo/recon/SN2006aj_53791.100000.spec\n",
      "Overwriting /Users/berto/Code/CoCo/recon/SN2006aj_53792.070000.spec\n",
      "Overwriting /Users/berto/Code/CoCo/recon/SN2006aj_53793.040000.spec\n",
      "Overwriting /Users/berto/Code/CoCo/recon/SN2006aj_53794.010000.spec\n",
      "Overwriting /Users/berto/Code/CoCo/recon/SN2006aj_53794.970000.spec\n",
      "Overwriting /Users/berto/Code/CoCo/recon/SN2006aj_53795.940000.spec\n",
      "Overwriting /Users/berto/Code/CoCo/recon/SN2006aj_53796.910000.spec\n",
      "Overwriting /Users/berto/Code/CoCo/recon/SN2006aj_53797.880000.spec\n",
      "Overwriting /Users/berto/Code/CoCo/recon/SN2006aj_53798.840000.spec\n",
      "Overwriting /Users/berto/Code/CoCo/recon/SN2006aj_53799.810000.spec\n",
      "Overwriting /Users/berto/Code/CoCo/recon/SN2006aj_53801.750000.spec\n",
      "Overwriting /Users/berto/Code/CoCo/recon/SN2006aj_53802.720000.spec\n",
      "Overwriting /Users/berto/Code/CoCo/recon/SN2006aj_53803.680000.spec\n",
      "Overwriting /Users/berto/Code/CoCo/recon/SN2006aj_53803.680001.spec\n"
     ]
    }
   ],
   "source": [
    "pcc.coco.specfit_sn(SNobject=sn, overwrite=True)"
   ]
  },
  {
   "cell_type": "markdown",
   "metadata": {},
   "source": [
    "## All Speclists\n",
    "___"
   ]
  },
  {
   "cell_type": "code",
   "execution_count": null,
   "metadata": {},
   "outputs": [],
   "source": [
    "# specfit_all = True\n",
    "specfit_all = False\n",
    "if specfit_all:           ## This also might take a while!\n",
    "    pcc.coco.specfit_all()"
   ]
  },
  {
   "cell_type": "markdown",
   "metadata": {},
   "source": [
    "# Specphase"
   ]
  },
  {
   "cell_type": "code",
   "execution_count": 7,
   "metadata": {},
   "outputs": [
    {
     "name": "stdout",
     "output_type": "stream",
     "text": [
      "current list.txt is up to date. re run with force = True to force.\n"
     ]
    }
   ],
   "source": [
    "phase_path = os.path.join(pcc.defaults._default_coco_dir_path, \"examples/phase.list\")\n",
    "pcc.coco.run_specphase(\"BessellV\", phase_path)"
   ]
  }
 ],
 "metadata": {
  "anaconda-cloud": {},
  "kernelspec": {
   "display_name": "Python 3",
   "language": "python",
   "name": "python3"
  },
  "language_info": {
   "codemirror_mode": {
    "name": "ipython",
    "version": 3
   },
   "file_extension": ".py",
   "mimetype": "text/x-python",
   "name": "python",
   "nbconvert_exporter": "python",
   "pygments_lexer": "ipython3",
   "version": "3.6.0"
  }
 },
 "nbformat": 4,
 "nbformat_minor": 1
}
