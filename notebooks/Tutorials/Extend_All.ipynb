{
 "cells": [
  {
   "cell_type": "code",
   "execution_count": 2,
   "metadata": {},
   "outputs": [],
   "source": [
    "import os\n",
    "import numpy as np\n",
    "import pandas as pd\n",
    "\n",
    "from astropy.modeling import blackbody as bb\n",
    "from astropy.table import Table, Column, Row\n",
    "from astropy import units as u\n",
    "\n",
    "from lmfit import minimize, Parameters, fit_report\n",
    "\n",
    "import pycoco as pcc\n",
    "%matplotlib inline"
   ]
  },
  {
   "cell_type": "markdown",
   "metadata": {},
   "source": [
    "# Extend LC"
   ]
  },
  {
   "cell_type": "code",
   "execution_count": 5,
   "metadata": {},
   "outputs": [
    {
     "name": "stdout",
     "output_type": "stream",
     "text": [
      "SN1996cb.dat\n"
     ]
    },
    {
     "name": "stderr",
     "output_type": "stream",
     "text": [
      "/Users/szymon/anaconda/lib/python3.5/site-packages/ipykernel/__main__.py:12: SettingWithCopyWarning: \n",
      "A value is trying to be set on a copy of a slice from a DataFrame.\n",
      "Try using .loc[row_indexer,col_indexer] = value instead\n",
      "\n",
      "See the caveats in the documentation: http://pandas.pydata.org/pandas-docs/stable/indexing.html#indexing-view-versus-copy\n",
      "/Users/szymon/anaconda/lib/python3.5/site-packages/ipykernel/__main__.py:13: SettingWithCopyWarning: \n",
      "A value is trying to be set on a copy of a slice from a DataFrame.\n",
      "Try using .loc[row_indexer,col_indexer] = value instead\n",
      "\n",
      "See the caveats in the documentation: http://pandas.pydata.org/pandas-docs/stable/indexing.html#indexing-view-versus-copy\n",
      "/Users/szymon/anaconda/lib/python3.5/site-packages/ipykernel/__main__.py:14: SettingWithCopyWarning: \n",
      "A value is trying to be set on a copy of a slice from a DataFrame.\n",
      "Try using .loc[row_indexer,col_indexer] = value instead\n",
      "\n",
      "See the caveats in the documentation: http://pandas.pydata.org/pandas-docs/stable/indexing.html#indexing-view-versus-copy\n"
     ]
    },
    {
     "name": "stdout",
     "output_type": "stream",
     "text": [
      "SN2011dh.dat\n",
      "SN2010as.dat\n",
      "SN2012ap.dat\n",
      "SN2007uy.dat\n",
      "SN2013ge.dat\n",
      "SN1993J.dat\n",
      "SN2011fu.dat\n",
      "SN2005bf.dat\n",
      "iPTF13bvn.dat\n",
      "SN1999dn.dat\n",
      "SN2011ei.dat\n",
      "SN2009iz.dat\n",
      "SN2005hg.dat\n",
      "SN2006aj.dat\n",
      "SN2011bm.dat\n",
      "SN1994I.dat\n",
      "SN2009jf.dat\n",
      "SN2008bo.dat\n",
      "SN2007C.dat\n",
      "SN2007Y.dat\n",
      "SN2008ax.dat\n",
      "SN2002ap.dat\n",
      "SN2004aw.dat\n",
      "SN2009er.dat\n",
      "SN2003jd.dat\n",
      "SN2007gr.dat\n",
      "SN2008D.dat\n",
      "SN1998bw.dat\n",
      "SN2010al.dat\n",
      "SN2009bb.dat\n"
     ]
    }
   ],
   "source": [
    "files = os.listdir(path + '/lc/')\n",
    "files.remove('README')\n",
    "\n",
    "for lc in files:\n",
    "    print(lc)\n",
    "\n",
    "    data = pd.read_csv(path + '/lc/'+lc, delim_whitespace=True, header=None, comment='#')\n",
    "    data.columns = ['mjd', 'flux', 'flux_err', 'band']\n",
    "    V = data.query('band == \"BessellV\"')\n",
    "\n",
    "    if V.size > 0:\n",
    "        V['flux'] /= 10\n",
    "        V['flux_err'] *= np.sqrt(10)\n",
    "        V['band'] = \"swift_UVW1\"\n",
    "\n",
    "        data = pd.concat((data, V))\n",
    "        data.to_csv(path + '/lc_extend/' + lc, header=False, sep=' ', index=False)\n"
   ]
  },
  {
   "cell_type": "markdown",
   "metadata": {},
   "source": [
    "# Spectrum Extensions"
   ]
  },
  {
   "cell_type": "code",
   "execution_count": 6,
   "metadata": {},
   "outputs": [],
   "source": [
    "params = Parameters()\n",
    "params.add(\"T\", value=10000, min=1000) \n",
    "params.add(\"flux_scale\", value=1e23)\n",
    "params.add(\"EBV\", value=0.001, min=0.0) \n",
    "\n",
    "\n",
    "def bb_min_fun(params, filters, wavelength, verbose=False):\n",
    "    T = params[\"T\"]\n",
    "    flux_scale = params[\"flux_scale\"]\n",
    "    EBV = params[\"EBV\"]\n",
    "    \n",
    "    bb_flux = bb.blackbody_lambda(np.array(wavelength)*u.AA, temperature=T*u.Kelvin)\n",
    "\n",
    "    bb_spec = pcc.classes.SpectrumClass()\n",
    "    bb_spec.load_table(Table([wavelength, bb_flux], names=(\"wavelength\", \"flux\")))\n",
    "\n",
    "    bb_spec.flux = pcc.extinction.unred(bb_spec.wavelength, bb_spec.flux, EBV=EBV)\n",
    "\n",
    "    bb_spec.data[\"flux\"] = bb_spec.data[\"flux\"] / flux_scale\n",
    "    bb_spec.flux = bb_spec.flux / flux_scale\n",
    "\n",
    "    bb_spec.get_specphot(filters, verbose=False)\n",
    "    \n",
    "    return bb_spec\n",
    "\n",
    "\n",
    "def bb_min(params, specphot, filters, wavelength, verbose=False):\n",
    "    bb_flux = bb_min_fun(params, filters, wavelength, verbose).specphot[\"flux\"]\n",
    "\n",
    "    residual = specphot[\"flux\"] - bb_flux\n",
    "\n",
    "    return residual"
   ]
  },
  {
   "cell_type": "code",
   "execution_count": 7,
   "metadata": {},
   "outputs": [
    {
     "name": "stdout",
     "output_type": "stream",
     "text": [
      "2009bb_-4.85.txt\n",
      "2009bb_-3.86.txt\n",
      "2009bb_1.09.txt\n",
      "2009bb_5.05.txt\n"
     ]
    },
    {
     "name": "stderr",
     "output_type": "stream",
     "text": [
      "/Users/szymon/anaconda/lib/python3.5/site-packages/scipy/integrate/quadrature.py:324: RuntimeWarning: divide by zero encountered in true_divide\n",
      "  h0divh1 = h0 / h1\n",
      "/Users/szymon/anaconda/lib/python3.5/site-packages/scipy/integrate/quadrature.py:326: RuntimeWarning: divide by zero encountered in true_divide\n",
      "  y[slice1]*hsum*hsum/hprod +\n",
      "/Users/szymon/anaconda/lib/python3.5/site-packages/scipy/integrate/quadrature.py:326: RuntimeWarning: invalid value encountered in multiply\n",
      "  y[slice1]*hsum*hsum/hprod +\n",
      "/Users/szymon/anaconda/lib/python3.5/site-packages/scipy/integrate/quadrature.py:326: RuntimeWarning: invalid value encountered in true_divide\n",
      "  y[slice1]*hsum*hsum/hprod +\n",
      "/Users/szymon/anaconda/lib/python3.5/site-packages/scipy/integrate/quadrature.py:327: RuntimeWarning: invalid value encountered in multiply\n",
      "  y[slice2]*(2-h0divh1))\n",
      "/Users/szymon/anaconda/lib/python3.5/site-packages/scipy/integrate/quadrature.py:326: RuntimeWarning: invalid value encountered in add\n",
      "  y[slice1]*hsum*hsum/hprod +\n",
      "/Users/szymon/anaconda/lib/python3.5/site-packages/scipy/integrate/quadrature.py:327: RuntimeWarning: invalid value encountered in add\n",
      "  y[slice2]*(2-h0divh1))\n"
     ]
    },
    {
     "name": "stdout",
     "output_type": "stream",
     "text": [
      "2009bb_14.95.txt\n",
      "2009bb_15.94.txt\n",
      "2009bb_19.9.txt\n",
      "2009bb_20.89.txt\n",
      "2009bb_23.86.txt\n",
      "2009bb_27.82.txt\n",
      "2005hg_-12.54.txt\n",
      "2005hg_-11.56.txt\n",
      "2005hg_-9.6.txt\n",
      "2005hg_-8.62.txt\n",
      "2005hg_-7.64.txt\n",
      "2005hg_-6.66.txt\n",
      "2005hg_-5.68.txt\n",
      "2005hg_-4.7.txt\n",
      "2005hg_-3.72.txt\n",
      "2005hg_-2.74.txt\n",
      "2005hg_-1.76.txt\n",
      "2005hg_-0.78.txt\n",
      "2005hg_0.2.txt\n",
      "2005hg_12.93.txt\n",
      "2005hg_16.85.txt\n",
      "2005hg_22.72.txt\n"
     ]
    },
    {
     "name": "stderr",
     "output_type": "stream",
     "text": [
      "/Users/szymon/anaconda/lib/python3.5/site-packages/pycocosn-0.9.19-py3.5.egg/pycoco/kcorr.py:247: RuntimeWarning: invalid value encountered in double_scalars\n",
      "  return  integrated_flux/filter_area\n"
     ]
    },
    {
     "ename": "ValueError",
     "evalue": "The input contains nan values",
     "output_type": "error",
     "traceback": [
      "\u001b[0;31m---------------------------------------------------------------------------\u001b[0m",
      "\u001b[0;31mValueError\u001b[0m                                Traceback (most recent call last)",
      "\u001b[0;32m<ipython-input-7-c6a5a44e8171>\u001b[0m in \u001b[0;36m<module>\u001b[0;34m()\u001b[0m\n\u001b[1;32m     25\u001b[0m         out = minimize(bb_min, \n\u001b[1;32m     26\u001b[0m                        \u001b[0mparams\u001b[0m\u001b[0;34m,\u001b[0m\u001b[0;34m\u001b[0m\u001b[0m\n\u001b[0;32m---> 27\u001b[0;31m                        args=(Spec.specphot, sn.phot.data_filters, wav))\n\u001b[0m\u001b[1;32m     28\u001b[0m         best_bb = bb_min_fun(out.params, \n\u001b[1;32m     29\u001b[0m                              \u001b[0msn\u001b[0m\u001b[0;34m.\u001b[0m\u001b[0mphot\u001b[0m\u001b[0;34m.\u001b[0m\u001b[0mdata_filters\u001b[0m\u001b[0;34m,\u001b[0m\u001b[0;34m\u001b[0m\u001b[0m\n",
      "\u001b[0;32m~/anaconda/lib/python3.5/site-packages/lmfit/minimizer.py\u001b[0m in \u001b[0;36mminimize\u001b[0;34m(fcn, params, method, args, kws, scale_covar, iter_cb, reduce_fcn, **fit_kws)\u001b[0m\n\u001b[1;32m   1954\u001b[0m                        \u001b[0miter_cb\u001b[0m\u001b[0;34m=\u001b[0m\u001b[0miter_cb\u001b[0m\u001b[0;34m,\u001b[0m \u001b[0mscale_covar\u001b[0m\u001b[0;34m=\u001b[0m\u001b[0mscale_covar\u001b[0m\u001b[0;34m,\u001b[0m\u001b[0;34m\u001b[0m\u001b[0m\n\u001b[1;32m   1955\u001b[0m                        reduce_fcn=reduce_fcn, **fit_kws)\n\u001b[0;32m-> 1956\u001b[0;31m     \u001b[0;32mreturn\u001b[0m \u001b[0mfitter\u001b[0m\u001b[0;34m.\u001b[0m\u001b[0mminimize\u001b[0m\u001b[0;34m(\u001b[0m\u001b[0mmethod\u001b[0m\u001b[0;34m=\u001b[0m\u001b[0mmethod\u001b[0m\u001b[0;34m)\u001b[0m\u001b[0;34m\u001b[0m\u001b[0m\n\u001b[0m",
      "\u001b[0;32m~/anaconda/lib/python3.5/site-packages/lmfit/minimizer.py\u001b[0m in \u001b[0;36mminimize\u001b[0;34m(self, method, params, **kws)\u001b[0m\n\u001b[1;32m   1647\u001b[0m                         val.lower().startswith(user_method)):\n\u001b[1;32m   1648\u001b[0m                     \u001b[0mkwargs\u001b[0m\u001b[0;34m[\u001b[0m\u001b[0;34m'method'\u001b[0m\u001b[0;34m]\u001b[0m \u001b[0;34m=\u001b[0m \u001b[0mval\u001b[0m\u001b[0;34m\u001b[0m\u001b[0m\n\u001b[0;32m-> 1649\u001b[0;31m         \u001b[0;32mreturn\u001b[0m \u001b[0mfunction\u001b[0m\u001b[0;34m(\u001b[0m\u001b[0;34m**\u001b[0m\u001b[0mkwargs\u001b[0m\u001b[0;34m)\u001b[0m\u001b[0;34m\u001b[0m\u001b[0m\n\u001b[0m\u001b[1;32m   1650\u001b[0m \u001b[0;34m\u001b[0m\u001b[0m\n\u001b[1;32m   1651\u001b[0m \u001b[0;34m\u001b[0m\u001b[0m\n",
      "\u001b[0;32m~/anaconda/lib/python3.5/site-packages/lmfit/minimizer.py\u001b[0m in \u001b[0;36mleastsq\u001b[0;34m(self, params, **kws)\u001b[0m\n\u001b[1;32m   1300\u001b[0m         \u001b[0mnp\u001b[0m\u001b[0;34m.\u001b[0m\u001b[0mseterr\u001b[0m\u001b[0;34m(\u001b[0m\u001b[0mall\u001b[0m\u001b[0;34m=\u001b[0m\u001b[0;34m'ignore'\u001b[0m\u001b[0;34m)\u001b[0m\u001b[0;34m\u001b[0m\u001b[0m\n\u001b[1;32m   1301\u001b[0m \u001b[0;34m\u001b[0m\u001b[0m\n\u001b[0;32m-> 1302\u001b[0;31m         \u001b[0mlsout\u001b[0m \u001b[0;34m=\u001b[0m \u001b[0mscipy_leastsq\u001b[0m\u001b[0;34m(\u001b[0m\u001b[0mself\u001b[0m\u001b[0;34m.\u001b[0m\u001b[0m__residual\u001b[0m\u001b[0;34m,\u001b[0m \u001b[0mvars\u001b[0m\u001b[0;34m,\u001b[0m \u001b[0;34m**\u001b[0m\u001b[0mlskws\u001b[0m\u001b[0;34m)\u001b[0m\u001b[0;34m\u001b[0m\u001b[0m\n\u001b[0m\u001b[1;32m   1303\u001b[0m         \u001b[0m_best\u001b[0m\u001b[0;34m,\u001b[0m \u001b[0m_cov\u001b[0m\u001b[0;34m,\u001b[0m \u001b[0minfodict\u001b[0m\u001b[0;34m,\u001b[0m \u001b[0merrmsg\u001b[0m\u001b[0;34m,\u001b[0m \u001b[0mier\u001b[0m \u001b[0;34m=\u001b[0m \u001b[0mlsout\u001b[0m\u001b[0;34m\u001b[0m\u001b[0m\n\u001b[1;32m   1304\u001b[0m         \u001b[0mresult\u001b[0m\u001b[0;34m.\u001b[0m\u001b[0maborted\u001b[0m \u001b[0;34m=\u001b[0m \u001b[0mself\u001b[0m\u001b[0;34m.\u001b[0m\u001b[0m_abort\u001b[0m\u001b[0;34m\u001b[0m\u001b[0m\n",
      "\u001b[0;32m~/anaconda/lib/python3.5/site-packages/scipy/optimize/minpack.py\u001b[0m in \u001b[0;36mleastsq\u001b[0;34m(func, x0, args, Dfun, full_output, col_deriv, ftol, xtol, gtol, maxfev, epsfcn, factor, diag)\u001b[0m\n\u001b[1;32m    375\u001b[0m     \u001b[0;32mif\u001b[0m \u001b[0;32mnot\u001b[0m \u001b[0misinstance\u001b[0m\u001b[0;34m(\u001b[0m\u001b[0margs\u001b[0m\u001b[0;34m,\u001b[0m \u001b[0mtuple\u001b[0m\u001b[0;34m)\u001b[0m\u001b[0;34m:\u001b[0m\u001b[0;34m\u001b[0m\u001b[0m\n\u001b[1;32m    376\u001b[0m         \u001b[0margs\u001b[0m \u001b[0;34m=\u001b[0m \u001b[0;34m(\u001b[0m\u001b[0margs\u001b[0m\u001b[0;34m,\u001b[0m\u001b[0;34m)\u001b[0m\u001b[0;34m\u001b[0m\u001b[0m\n\u001b[0;32m--> 377\u001b[0;31m     \u001b[0mshape\u001b[0m\u001b[0;34m,\u001b[0m \u001b[0mdtype\u001b[0m \u001b[0;34m=\u001b[0m \u001b[0m_check_func\u001b[0m\u001b[0;34m(\u001b[0m\u001b[0;34m'leastsq'\u001b[0m\u001b[0;34m,\u001b[0m \u001b[0;34m'func'\u001b[0m\u001b[0;34m,\u001b[0m \u001b[0mfunc\u001b[0m\u001b[0;34m,\u001b[0m \u001b[0mx0\u001b[0m\u001b[0;34m,\u001b[0m \u001b[0margs\u001b[0m\u001b[0;34m,\u001b[0m \u001b[0mn\u001b[0m\u001b[0;34m)\u001b[0m\u001b[0;34m\u001b[0m\u001b[0m\n\u001b[0m\u001b[1;32m    378\u001b[0m     \u001b[0mm\u001b[0m \u001b[0;34m=\u001b[0m \u001b[0mshape\u001b[0m\u001b[0;34m[\u001b[0m\u001b[0;36m0\u001b[0m\u001b[0;34m]\u001b[0m\u001b[0;34m\u001b[0m\u001b[0m\n\u001b[1;32m    379\u001b[0m     \u001b[0;32mif\u001b[0m \u001b[0mn\u001b[0m \u001b[0;34m>\u001b[0m \u001b[0mm\u001b[0m\u001b[0;34m:\u001b[0m\u001b[0;34m\u001b[0m\u001b[0m\n",
      "\u001b[0;32m~/anaconda/lib/python3.5/site-packages/scipy/optimize/minpack.py\u001b[0m in \u001b[0;36m_check_func\u001b[0;34m(checker, argname, thefunc, x0, args, numinputs, output_shape)\u001b[0m\n\u001b[1;32m     24\u001b[0m def _check_func(checker, argname, thefunc, x0, args, numinputs,\n\u001b[1;32m     25\u001b[0m                 output_shape=None):\n\u001b[0;32m---> 26\u001b[0;31m     \u001b[0mres\u001b[0m \u001b[0;34m=\u001b[0m \u001b[0matleast_1d\u001b[0m\u001b[0;34m(\u001b[0m\u001b[0mthefunc\u001b[0m\u001b[0;34m(\u001b[0m\u001b[0;34m*\u001b[0m\u001b[0;34m(\u001b[0m\u001b[0;34m(\u001b[0m\u001b[0mx0\u001b[0m\u001b[0;34m[\u001b[0m\u001b[0;34m:\u001b[0m\u001b[0mnuminputs\u001b[0m\u001b[0;34m]\u001b[0m\u001b[0;34m,\u001b[0m\u001b[0;34m)\u001b[0m \u001b[0;34m+\u001b[0m \u001b[0margs\u001b[0m\u001b[0;34m)\u001b[0m\u001b[0;34m)\u001b[0m\u001b[0;34m)\u001b[0m\u001b[0;34m\u001b[0m\u001b[0m\n\u001b[0m\u001b[1;32m     27\u001b[0m     \u001b[0;32mif\u001b[0m \u001b[0;34m(\u001b[0m\u001b[0moutput_shape\u001b[0m \u001b[0;32mis\u001b[0m \u001b[0;32mnot\u001b[0m \u001b[0;32mNone\u001b[0m\u001b[0;34m)\u001b[0m \u001b[0;32mand\u001b[0m \u001b[0;34m(\u001b[0m\u001b[0mshape\u001b[0m\u001b[0;34m(\u001b[0m\u001b[0mres\u001b[0m\u001b[0;34m)\u001b[0m \u001b[0;34m!=\u001b[0m \u001b[0moutput_shape\u001b[0m\u001b[0;34m)\u001b[0m\u001b[0;34m:\u001b[0m\u001b[0;34m\u001b[0m\u001b[0m\n\u001b[1;32m     28\u001b[0m         \u001b[0;32mif\u001b[0m \u001b[0;34m(\u001b[0m\u001b[0moutput_shape\u001b[0m\u001b[0;34m[\u001b[0m\u001b[0;36m0\u001b[0m\u001b[0;34m]\u001b[0m \u001b[0;34m!=\u001b[0m \u001b[0;36m1\u001b[0m\u001b[0;34m)\u001b[0m\u001b[0;34m:\u001b[0m\u001b[0;34m\u001b[0m\u001b[0m\n",
      "\u001b[0;32m~/anaconda/lib/python3.5/site-packages/lmfit/minimizer.py\u001b[0m in \u001b[0;36m__residual\u001b[0;34m(self, fvars, apply_bounds_transformation)\u001b[0m\n\u001b[1;32m    487\u001b[0m \u001b[0;34m\u001b[0m\u001b[0m\n\u001b[1;32m    488\u001b[0m         \u001b[0mout\u001b[0m \u001b[0;34m=\u001b[0m \u001b[0mself\u001b[0m\u001b[0;34m.\u001b[0m\u001b[0muserfcn\u001b[0m\u001b[0;34m(\u001b[0m\u001b[0mparams\u001b[0m\u001b[0;34m,\u001b[0m \u001b[0;34m*\u001b[0m\u001b[0mself\u001b[0m\u001b[0;34m.\u001b[0m\u001b[0muserargs\u001b[0m\u001b[0;34m,\u001b[0m \u001b[0;34m**\u001b[0m\u001b[0mself\u001b[0m\u001b[0;34m.\u001b[0m\u001b[0muserkws\u001b[0m\u001b[0;34m)\u001b[0m\u001b[0;34m\u001b[0m\u001b[0m\n\u001b[0;32m--> 489\u001b[0;31m         \u001b[0mout\u001b[0m \u001b[0;34m=\u001b[0m \u001b[0m_nan_policy\u001b[0m\u001b[0;34m(\u001b[0m\u001b[0mout\u001b[0m\u001b[0;34m,\u001b[0m \u001b[0mnan_policy\u001b[0m\u001b[0;34m=\u001b[0m\u001b[0mself\u001b[0m\u001b[0;34m.\u001b[0m\u001b[0mnan_policy\u001b[0m\u001b[0;34m)\u001b[0m\u001b[0;34m\u001b[0m\u001b[0m\n\u001b[0m\u001b[1;32m    490\u001b[0m \u001b[0;34m\u001b[0m\u001b[0m\n\u001b[1;32m    491\u001b[0m         \u001b[0;32mif\u001b[0m \u001b[0mcallable\u001b[0m\u001b[0;34m(\u001b[0m\u001b[0mself\u001b[0m\u001b[0;34m.\u001b[0m\u001b[0miter_cb\u001b[0m\u001b[0;34m)\u001b[0m\u001b[0;34m:\u001b[0m\u001b[0;34m\u001b[0m\u001b[0m\n",
      "\u001b[0;32m~/anaconda/lib/python3.5/site-packages/lmfit/minimizer.py\u001b[0m in \u001b[0;36m_nan_policy\u001b[0;34m(a, nan_policy, handle_inf)\u001b[0m\n\u001b[1;32m   1835\u001b[0m \u001b[0;34m\u001b[0m\u001b[0m\n\u001b[1;32m   1836\u001b[0m         \u001b[0;32mif\u001b[0m \u001b[0mcontains_nan\u001b[0m\u001b[0;34m:\u001b[0m\u001b[0;34m\u001b[0m\u001b[0m\n\u001b[0;32m-> 1837\u001b[0;31m             \u001b[0;32mraise\u001b[0m \u001b[0mValueError\u001b[0m\u001b[0;34m(\u001b[0m\u001b[0;34m\"The input contains nan values\"\u001b[0m\u001b[0;34m)\u001b[0m\u001b[0;34m\u001b[0m\u001b[0m\n\u001b[0m\u001b[1;32m   1838\u001b[0m         \u001b[0;32mreturn\u001b[0m \u001b[0ma\u001b[0m\u001b[0;34m\u001b[0m\u001b[0m\n\u001b[1;32m   1839\u001b[0m \u001b[0;34m\u001b[0m\u001b[0m\n",
      "\u001b[0;31mValueError\u001b[0m: The input contains nan values"
     ]
    }
   ],
   "source": [
    "for snname in os.listdir(path + '/spec/'):\n",
    "    if not os.path.exists(path + 'spec_extend/' + snname):\n",
    "        os.mkdir(path + 'spec_extend/' + snname)\n",
    "    \n",
    "    sn = pcc.classes.SNClass(snname)\n",
    "\n",
    "    sn.load_phot(path = os.path.join(pcc.defaults._default_data_dir_path, \"lc/\" + snname + \".dat\"))\n",
    "    sn.load_list(os.path.join(pcc.defaults._default_list_dir_path, snname + \".list\"))\n",
    "    sn.load_spec()\n",
    "    sn.check_overlaps()\n",
    "\n",
    "    for file_name, Spec in sn.spec.items():\n",
    "        print(file_name)\n",
    "\n",
    "        Spec.specphot = Table(names=(\"lambda_effective\", \"flux\", \"filter\"), dtype=('f4', 'f4', 'S'))\n",
    "        for filter_name in sn.phot.data_filters:\n",
    "            flux = pcc.kcorr.calc_spectrum_filter_flux(filter_object=sn.phot.data_filters[filter_name], \n",
    "                                                       spectrum_object=Spec, verbose=False)\n",
    "\n",
    "            Spec.specphot.add_row((sn.phot.data_filters[filter_name].lambda_effective, \n",
    "                                   flux, \n",
    "                                   filter_name))\n",
    "            wav = sn.phot.data_filters[filter_name].wavelength\n",
    "        \n",
    "        out = minimize(bb_min, \n",
    "                       params, \n",
    "                       args=(Spec.specphot, sn.phot.data_filters, wav))\n",
    "        best_bb = bb_min_fun(out.params, \n",
    "                             sn.phot.data_filters, \n",
    "                             Column(np.arange(2000, 11000)*u.Angstrom))\n",
    "        \n",
    "        w_red = np.where(best_bb.wavelength > np.nanmax(Spec.wavelength))\n",
    "        \n",
    "        idx = np.where(Spec.wavelength < np.min(Spec.wavelength) + 50)\n",
    "\n",
    "        low = 0.2 * np.mean(Spec.flux)\n",
    "        w_blue = np.arange(1500, np.min(Spec.wavelength))\n",
    "        flux_blue = np.linspace(low, np.mean(Spec.flux[idx]), w_blue.size)\n",
    "        \n",
    "        new_flux = np.concatenate((flux_blue, Spec.flux, best_bb.flux[w_red]))\n",
    "        new_wav = np.concatenate((w_blue, Spec.wavelength, best_bb.wavelength[w_red]))\n",
    "        \n",
    "        df = pd.DataFrame({'wav': new_wav, 'flux': new_flux})\n",
    "        df.to_csv(path + 'spec_extend/' + snname + '/' + file_name, \n",
    "                  columns=['wav', 'flux'],\n",
    "                  header=False, \n",
    "                  sep=' ', \n",
    "                  index=False)"
   ]
  }
 ],
 "metadata": {
  "kernelspec": {
   "display_name": "Python [default]",
   "language": "python",
   "name": "python3"
  },
  "language_info": {
   "codemirror_mode": {
    "name": "ipython",
    "version": 3
   },
   "file_extension": ".py",
   "mimetype": "text/x-python",
   "name": "python",
   "nbconvert_exporter": "python",
   "pygments_lexer": "ipython3",
   "version": "3.5.4"
  }
 },
 "nbformat": 4,
 "nbformat_minor": 2
}
