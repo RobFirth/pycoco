{
 "cells": [
  {
   "cell_type": "code",
   "execution_count": 1,
   "metadata": {},
   "outputs": [],
   "source": [
    "%matplotlib inline\n",
    "\n",
    "import os\n",
    "import numpy as np\n",
    "import pandas as pd\n",
    "import pycoco as pcc\n",
    "import pyCoCo as pccsim\n",
    "from astropy.table import vstack\n",
    "\n",
    "fltPath = pcc.utils.b(pcc.defaults._default_filter_dir_path)\n",
    "rootPath = pcc.utils.b(pcc.defaults._default_coco_dir_path)\n",
    "coco = pccsim.pyCoCo(fltPath, rootPath)\n",
    "\n",
    "import matplotlib.pyplot as plt\n",
    "from astropy.cosmology import Planck15 as cosmo"
   ]
  },
  {
   "cell_type": "code",
   "execution_count": 2,
   "metadata": {},
   "outputs": [],
   "source": [
    "info = pcc.classes.InfoClass()\n",
    "info.load()\n",
    "\n",
    "df = pd.DataFrame({'snname': info.snname, \n",
    "                   'model': 'Bazin09', \n",
    "                   'rerun_lc': True, \n",
    "                   'rerun_spec': True})\n",
    "\n",
    "mjdmax = 50                    \n",
    "absmag_offset = 0.0\n",
    "EBV_MW = 0.0\n",
    "EBV_host = 0.0\n",
    "R_v = 3.1\n",
    "\n",
    "mjd_obs = np.arange(0.,105.,1.)\n",
    "filters = [\"DES_g\", \"DES_r\", \"DES_i\", \"DES_z\"]"
   ]
  },
  {
   "cell_type": "code",
   "execution_count": 3,
   "metadata": {},
   "outputs": [
    {
     "data": {
      "image/png": "[encoded data removed]",
      "text/plain": [
       "<matplotlib.figure.Figure at 0x11e977fd0>"
      ]
     },
     "metadata": {},
     "output_type": "display_data"
    }
   ],
   "source": [
    "zp_dict = {}\n",
    "for flt in filters:\n",
    "    zp_dict[flt] = pcc.kcorr.calc_AB_zp(flt)\n",
    "\n",
    "filter_obs = np.array([pcc.utils.b('DES_g') for observation in mjd_obs])\n",
    "flux, flux_err = coco.simulate(pcc.utils.b('SN1993J'),\n",
    "                               0.1, \n",
    "                               absmag_offset, \n",
    "                               EBV_MW, EBV_host, R_v,\n",
    "                               mjdmax, mjd_obs,\n",
    "                               filter_obs)\n",
    "\n",
    "distmod = cosmo.distmod(0.1).value\n",
    "g = -2.5*np.log10(flux) - zp_dict['DES_g'] - distmod\n",
    "plt.plot(mjd_obs, g)\n",
    "\n",
    "filter_obs = np.array([pcc.utils.b('DES_i') for observation in mjd_obs])\n",
    "flux, flux_err = coco.simulate(pcc.utils.b('SN1993J'),\n",
    "                               0.8, \n",
    "                               absmag_offset, \n",
    "                               EBV_MW, EBV_host, R_v,\n",
    "                               mjdmax, mjd_obs,\n",
    "                               filter_obs)\n",
    "\n",
    "distmod = cosmo.distmod(0.8).value\n",
    "i = -2.5*np.log10(flux) - zp_dict['DES_i'] - distmod\n",
    "plt.plot(mjd_obs, i)\n",
    "\n",
    "plt.gca().invert_yaxis()"
   ]
  },
  {
   "cell_type": "code",
   "execution_count": 4,
   "metadata": {},
   "outputs": [
    {
     "data": {
      "text/plain": [
       "-16.797763939977525"
      ]
     },
     "execution_count": 4,
     "metadata": {},
     "output_type": "execute_result"
    }
   ],
   "source": [
    "g.min()"
   ]
  },
  {
   "cell_type": "code",
   "execution_count": 5,
   "metadata": {},
   "outputs": [
    {
     "data": {
      "text/plain": [
       "-16.832033945620058"
      ]
     },
     "execution_count": 5,
     "metadata": {},
     "output_type": "execute_result"
    }
   ],
   "source": [
    "i.min()"
   ]
  },
  {
   "cell_type": "code",
   "execution_count": 8,
   "metadata": {},
   "outputs": [
    {
     "data": {
      "text/plain": [
       "1.0320672623711866"
      ]
     },
     "execution_count": 8,
     "metadata": {},
     "output_type": "execute_result"
    }
   ],
   "source": [
    "10**(0.4*(g.min() - i.min()))"
   ]
  },
  {
   "cell_type": "code",
   "execution_count": null,
   "metadata": {},
   "outputs": [],
   "source": []
  }
 ],
 "metadata": {
  "kernelspec": {
   "display_name": "Python [default]",
   "language": "python",
   "name": "python3"
  },
  "language_info": {
   "codemirror_mode": {
    "name": "ipython",
    "version": 3
   },
   "file_extension": ".py",
   "mimetype": "text/x-python",
   "name": "python",
   "nbconvert_exporter": "python",
   "pygments_lexer": "ipython3",
   "version": "3.5.4"
  }
 },
 "nbformat": 4,
 "nbformat_minor": 2
}
