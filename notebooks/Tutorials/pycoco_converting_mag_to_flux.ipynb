{
 "cells": [
  {
   "cell_type": "code",
   "execution_count": 1,
   "metadata": {
    "collapsed": false
   },
   "outputs": [],
   "source": [
    "from __future__ import print_function ## Force python3-like printing\n",
    "\n",
    "try:\n",
    "    from importlib import reload\n",
    "except:\n",
    "    pass\n",
    "\n",
    "%matplotlib inline\n",
    "# %matplotlib notebook\n",
    "\n",
    "from matplotlib import pyplot as plt\n",
    "\n",
    "import os\n",
    "import warnings\n",
    "\n",
    "import numpy as np\n",
    "from astropy.table import Table\n",
    "from scipy.integrate import simps\n",
    "\n",
    "import pycoco as pcc\n",
    "\n",
    "reload(pcc) ## FOR DEV\n",
    "reload(pcc.kcorr) ## FOR DEV\n",
    "reload(pcc.functions) ## FOR DEV\n",
    "reload(pcc.classes) ## FOR DEV\n",
    "reload(pcc.colours)\n",
    "\n",
    "warnings.resetwarnings() ## FOR DEV"
   ]
  },
  {
   "cell_type": "code",
   "execution_count": 2,
   "metadata": {
    "collapsed": false
   },
   "outputs": [],
   "source": [
    "V = pcc.functions.load_filter('/Users/berto/Code/CoCo/data/filters/BessellV.dat')\n",
    "B = pcc.functions.load_filter('/Users/berto/Code/CoCo/data/filters/BessellB.dat')\n",
    "\n",
    "vega = pcc.kcorr.load_vega()\n",
    "AB = pcc.kcorr.load_AB()"
   ]
  },
  {
   "cell_type": "code",
   "execution_count": 37,
   "metadata": {
    "collapsed": false
   },
   "outputs": [
    {
     "data": {
      "text/plain": [
       "[<matplotlib.lines.Line2D at 0x11762dc18>]"
      ]
     },
     "execution_count": 37,
     "metadata": {},
     "output_type": "execute_result"
    },
    {
     "data": {
      "image/png": "[encoded data removed]",
      "text/plain": [
       "<matplotlib.figure.Figure at 0x1176b71d0>"
      ]
     },
     "metadata": {},
     "output_type": "display_data"
    }
   ],
   "source": [
    "fig = plt.figure(figsize=[8, 4])\n",
    "fig.subplots_adjust(left = 0.09, bottom = 0.13, top = 0.99,\n",
    "                    right = 0.99, hspace=0, wspace = 0)\n",
    "\n",
    "ax1 = fig.add_subplot(111)\n",
    "ax2 = ax1.twinx()\n",
    "\n",
    "ax1.plot(vega.wavelength, vega.flux)\n",
    "ax1.plot(AB.wavelength, AB.flux)\n",
    "\n",
    "ax2.plot(B.wavelength, B.throughput)\n",
    "ax2.plot([B.lambda_effective.value, B.lambda_effective.value], [0,1], color = pcc.colours.hex[\"black\"], ls = \":\")\n",
    "ax2.plot(V.wavelength, V.throughput)\n",
    "ax2.plot([V.lambda_effective.value, V.lambda_effective.value], [0,1], color = pcc.colours.hex[\"black\"], ls = \":\")\n"
   ]
  },
  {
   "cell_type": "markdown",
   "metadata": {},
   "source": [
    "Test whether the scaling matches that in Bohlin & Gilliland, 2004, AJ, 127, 3508 (the source of the spectrum) i.e. absolute flux level is 3.46 × 10-9 ergs cm-2 s-1 at 5556 Angstroms"
   ]
  },
  {
   "cell_type": "code",
   "execution_count": 4,
   "metadata": {
    "collapsed": false
   },
   "outputs": [
    {
     "data": {
      "text/html": [
       "&lt;Table length=1&gt;\n",
       "<table id=\"table4623456072\" class=\"table-striped table-bordered table-condensed\">\n",
       "<thead><tr><th>wavelength</th><th>flux</th></tr></thead>\n",
       "<thead><tr><th>Angstrom</th><th>erg / (Angstrom cm2 s)</th></tr></thead>\n",
       "<thead><tr><th>float64</th><th>float64</th></tr></thead>\n",
       "<tr><td>5555.0</td><td>3.464e-09</td></tr>\n",
       "</table>"
      ],
      "text/plain": [
       "<Table length=1>\n",
       "wavelength          flux         \n",
       " Angstrom  erg / (Angstrom cm2 s)\n",
       " float64          float64        \n",
       "---------- ----------------------\n",
       "    5555.0              3.464e-09"
      ]
     },
     "execution_count": 4,
     "metadata": {},
     "output_type": "execute_result"
    }
   ],
   "source": [
    "vega.data[np.logical_and(vega.data[\"wavelength\"] > 5550., vega.data[\"wavelength\"] < 5560.)]"
   ]
  },
  {
   "cell_type": "markdown",
   "metadata": {},
   "source": [
    "Want to find the flux in a given band, take Bessell V as an example."
   ]
  },
  {
   "cell_type": "code",
   "execution_count": 5,
   "metadata": {
    "collapsed": false
   },
   "outputs": [],
   "source": [
    "filter_name = \"BessellV\"\n",
    "filter_object = pcc.kcorr.load_filter(\"/Users/berto/Code/CoCo/data/filters/\" + filter_name + \".dat\")"
   ]
  },
  {
   "cell_type": "markdown",
   "metadata": {},
   "source": [
    "Resample the filter wavelength to that of the spectrum, and calculate the resulting transmission"
   ]
  },
  {
   "cell_type": "code",
   "execution_count": 6,
   "metadata": {
    "collapsed": false
   },
   "outputs": [],
   "source": [
    "filter_object.resample_response(new_wavelength = AB.wavelength)\n",
    "transmitted_spec = filter_object.throughput * AB.flux"
   ]
  },
  {
   "cell_type": "code",
   "execution_count": 7,
   "metadata": {
    "collapsed": false
   },
   "outputs": [
    {
     "name": "stdout",
     "output_type": "stream",
     "text": [
      "3.24042605185e-06\n"
     ]
    }
   ],
   "source": [
    "integrated_flux = simps(transmitted_spec, AB.wavelength)\n",
    "\n",
    "print(integrated_flux)"
   ]
  },
  {
   "cell_type": "code",
   "execution_count": 8,
   "metadata": {
    "collapsed": true
   },
   "outputs": [],
   "source": [
    "filter_area = simps(filter_object.throughput, filter_object.wavelength)"
   ]
  },
  {
   "cell_type": "code",
   "execution_count": 9,
   "metadata": {
    "collapsed": false
   },
   "outputs": [
    {
     "name": "stdout",
     "output_type": "stream",
     "text": [
      "21.1007662906\n"
     ]
    }
   ],
   "source": [
    "zp_AB = -2.5*np.log10(integrated_flux/filter_area)\n",
    "print(zp_AB)"
   ]
  },
  {
   "cell_type": "markdown",
   "metadata": {},
   "source": [
    "These steps are combined in **`pycoco.kcorr.calc_AB_zp()`**"
   ]
  },
  {
   "cell_type": "code",
   "execution_count": 10,
   "metadata": {
    "collapsed": false
   },
   "outputs": [
    {
     "name": "stdout",
     "output_type": "stream",
     "text": [
      "21.1011399643\n"
     ]
    }
   ],
   "source": [
    "print(pcc.kcorr.calc_AB_zp(\"BessellV\"))"
   ]
  },
  {
   "cell_type": "markdown",
   "metadata": {},
   "source": [
    "Equivalently, for Vega Magnitudes - **`pycoco.calc_vega_zp`**"
   ]
  },
  {
   "cell_type": "code",
   "execution_count": 11,
   "metadata": {
    "collapsed": false
   },
   "outputs": [
    {
     "name": "stdout",
     "output_type": "stream",
     "text": [
      "21.1063492424\n"
     ]
    }
   ],
   "source": [
    "print(pcc.kcorr.calc_vega_zp(\"BessellV\"))"
   ]
  },
  {
   "cell_type": "markdown",
   "metadata": {},
   "source": [
    "$m = -2.5log_{10}(F) - m_{zp}$\n",
    "\n",
    "so\n",
    "\n",
    "$F = 10^{\\frac{m - m_{zp}}{-2.5}}$\n",
    "\n",
    "and \n",
    "\n",
    "$\\Delta F = 1.086F \\frac{\\Delta m}{m}$"
   ]
  },
  {
   "cell_type": "code",
   "execution_count": null,
   "metadata": {
    "collapsed": true
   },
   "outputs": [],
   "source": []
  },
  {
   "cell_type": "code",
   "execution_count": 17,
   "metadata": {
    "collapsed": false
   },
   "outputs": [
    {
     "name": "stdout",
     "output_type": "stream",
     "text": [
      "/Users/berto/Code/CoCo/data/lc/SN2006aj.dat\n"
     ]
    }
   ],
   "source": [
    "sn = pcc.classes.SNClass(\"SN2006aj\")\n",
    "sn.load_phot( path = os.path.join(pcc.defaults._default_data_dir_path,\"lc/SN2006aj.dat\"))\n",
    "sn.load_list(os.path.join(pcc.defaults._default_coco_dir_path, \"lists/SN2006aj.list\"))\n",
    "# sn.load_spec()\n",
    "# sn.check_overlaps()\n",
    "# sn.get_lcfit(\"/Users/berto/Code/CoCo/recon/SN2006aj.dat\")"
   ]
  },
  {
   "cell_type": "code",
   "execution_count": 18,
   "metadata": {
    "collapsed": false
   },
   "outputs": [],
   "source": [
    "sn.phot.load(os.path.join(pcc.defaults._default_data_dir_path,\"lc/SN2006aj.dat\"))"
   ]
  },
  {
   "cell_type": "code",
   "execution_count": 19,
   "metadata": {
    "collapsed": false
   },
   "outputs": [
    {
     "data": {
      "image/png": "[encoded data removed]",
      "text/plain": [
       "<matplotlib.figure.Figure at 0x11761f5f8>"
      ]
     },
     "metadata": {},
     "output_type": "display_data"
    }
   ],
   "source": [
    "sn.plot_lc()"
   ]
  },
  {
   "cell_type": "code",
   "execution_count": 20,
   "metadata": {
    "collapsed": false
   },
   "outputs": [
    {
     "name": "stdout",
     "output_type": "stream",
     "text": [
      "(53786.161999999997, 18.11823445263655)\n",
      "(53786.207999999999, 18.168233416286597)\n",
      "(53786.878700000001, 17.998232374372812)\n",
      "(53787.032299999999, 17.978233217608427)\n",
      "(53787.196000000004, 18.008234672141633)\n",
      "(53788.127699999997, 17.728232521902825)\n",
      "(53788.186000000002, 17.778234046610692)\n",
      "(53789.0573, 17.608233099005275)\n",
      "(53789.126600000003, 17.57823423011056)\n",
      "(53789.196000000004, 17.57823423011056)\n",
      "(53790.127500000002, 17.498233866900861)\n",
      "(53790.871299999999, 17.418233932019874)\n",
      "(53791.048300000002, 17.388233531073041)\n",
      "(53791.112000000001, 17.37823310260972)\n",
      "(53792.041299999997, 17.318234564798807)\n",
      "(53792.139999999999, 17.288234747053679)\n",
      "(53792.872000000003, 17.288234747053679)\n",
      "(53793.015599999999, 17.258234485020708)\n",
      "(53793.049700000003, 17.268233224970075)\n",
      "(53793.167000000001, 17.278233583930252)\n",
      "(53794.005299999997, 17.258234485020708)\n",
      "(53794.167999999998, 17.208233052823445)\n",
      "(53795.035300000003, 17.258234485020708)\n",
      "(53796.031300000002, 17.278233583930252)\n",
      "(53796.142999999996, 17.248234208523748)\n",
      "(53796.867299999998, 17.308234024738191)\n",
      "(53797.034500000002, 17.318234564798807)\n",
      "(53797.101999999999, 17.318234564798807)\n",
      "(53798.033100000001, 17.368233554198376)\n",
      "(53798.097000000002, 17.368233554198376)\n",
      "(53799.013400000003, 17.408233662460319)\n",
      "(53800.037900000003, 17.488233257452983)\n",
      "(53800.118000000002, 17.528233283219386)\n",
      "(53800.891199999998, 17.478233652422624)\n",
      "(53802.001799999998, 17.658233467027408)\n",
      "(53802.034699999997, 17.668233977510994)\n",
      "(53802.999799999998, 17.728232521902825)\n",
      "(53803.006699999998, 17.728232521902825)\n",
      "(53804.002399999998, 17.818233214815805)\n",
      "(53804.008000000002, 17.788233666628784)\n",
      "(53805.998699999996, 17.948233340021723)\n",
      "(53807.015700000004, 18.028232521785377)\n",
      "(53807.112000000001, 18.138233675378999)\n",
      "(53807.999100000001, 18.108234012977661)\n",
      "(53808.999199999998, 18.218232270141506)\n",
      "(53810.0023, 18.22823300813679)\n",
      "(53810.108, 18.348234180210831)\n"
     ]
    }
   ],
   "source": [
    "mag = -2.5*np.log10(sn.phot.data['BessellV'][\"flux\"]) - zp_AB + 0.2\n",
    "t = sn.phot.data['BessellV'][\"MJD\"]\n",
    "\n",
    "for i in zip(t, mag):\n",
    "    print(i)"
   ]
  },
  {
   "cell_type": "code",
   "execution_count": null,
   "metadata": {
    "collapsed": false
   },
   "outputs": [],
   "source": []
  },
  {
   "cell_type": "code",
   "execution_count": null,
   "metadata": {
    "collapsed": false
   },
   "outputs": [],
   "source": []
  },
  {
   "cell_type": "code",
   "execution_count": null,
   "metadata": {
    "collapsed": false
   },
   "outputs": [],
   "source": []
  },
  {
   "cell_type": "code",
   "execution_count": null,
   "metadata": {
    "collapsed": true
   },
   "outputs": [],
   "source": []
  },
  {
   "cell_type": "code",
   "execution_count": null,
   "metadata": {
    "collapsed": false
   },
   "outputs": [],
   "source": []
  },
  {
   "cell_type": "code",
   "execution_count": 18,
   "metadata": {
    "collapsed": false
   },
   "outputs": [],
   "source": [
    "import pycoco.litdata as plit"
   ]
  },
  {
   "cell_type": "code",
   "execution_count": 124,
   "metadata": {
    "collapsed": false
   },
   "outputs": [],
   "source": [
    "def get_lit_sn(snname = \"2006aj\"):\n",
    "    lit_sn = OrderedDict()\n",
    "    \n",
    "    data = plit.load_CfA_phot_table()\n",
    "    \n",
    "    sndata = data[np.where(data[\"SN\"] == snname)]"
   ]
  },
  {
   "cell_type": "code",
   "execution_count": 125,
   "metadata": {
    "collapsed": false
   },
   "outputs": [],
   "source": [
    "snname = \"2006aj\"\n",
    "data = plit.load_CfA_phot_table()\n",
    "sndata = data[np.where(data[\"SN\"] == snname)]"
   ]
  },
  {
   "cell_type": "code",
   "execution_count": null,
   "metadata": {
    "collapsed": false
   },
   "outputs": [],
   "source": []
  },
  {
   "cell_type": "code",
   "execution_count": 127,
   "metadata": {
    "collapsed": false
   },
   "outputs": [
    {
     "data": {
      "text/html": [
       "&lt;Table length=14&gt;\n",
       "<table id=\"table4814912312\" class=\"table-striped table-bordered table-condensed\">\n",
       "<thead><tr><th>SN</th><th>MJD</th><th>mag</th><th>e_mag</th><th>Code</th><th>Filter</th><th>EBV</th></tr></thead>\n",
       "<thead><tr><th>str6</th><th>float64</th><th>float64</th><th>float64</th><th>str9</th><th>str8</th><th>float64</th></tr></thead>\n",
       "<tr><td>2006aj</td><td>53788.12746</td><td>18.079</td><td>0.046</td><td>CfA3_KEP</td><td>BessellV</td><td>0.1267</td></tr>\n",
       "<tr><td>2006aj</td><td>53790.11067</td><td>17.722</td><td>0.03</td><td>CfA3_KEP</td><td>BessellV</td><td>0.1267</td></tr>\n",
       "<tr><td>2006aj</td><td>53790.12778</td><td>17.74</td><td>0.024</td><td>CfA3_KEP</td><td>BessellV</td><td>0.1267</td></tr>\n",
       "<tr><td>2006aj</td><td>53791.1203</td><td>17.631</td><td>0.019</td><td>CfA3_KEP</td><td>BessellV</td><td>0.1267</td></tr>\n",
       "<tr><td>2006aj</td><td>53791.13345</td><td>17.654</td><td>0.021</td><td>CfA3_KEP</td><td>BessellV</td><td>0.1267</td></tr>\n",
       "<tr><td>2006aj</td><td>53792.12275</td><td>17.547</td><td>0.026</td><td>CfA3_KEP</td><td>BessellV</td><td>0.1267</td></tr>\n",
       "<tr><td>2006aj</td><td>53792.13554</td><td>17.595</td><td>0.023</td><td>CfA3_KEP</td><td>BessellV</td><td>0.1267</td></tr>\n",
       "<tr><td>2006aj</td><td>53793.12243</td><td>17.546</td><td>0.018</td><td>CfA3_KEP</td><td>BessellV</td><td>0.1267</td></tr>\n",
       "<tr><td>2006aj</td><td>53793.13649</td><td>17.513</td><td>0.018</td><td>CfA3_KEP</td><td>BessellV</td><td>0.1267</td></tr>\n",
       "<tr><td>2006aj</td><td>53797.11672</td><td>17.593</td><td>0.021</td><td>CfA3_KEP</td><td>BessellV</td><td>0.1267</td></tr>\n",
       "<tr><td>2006aj</td><td>53798.1483</td><td>17.656</td><td>0.025</td><td>CfA3_KEP</td><td>BessellV</td><td>0.1267</td></tr>\n",
       "<tr><td>2006aj</td><td>53808.11157</td><td>18.756</td><td>0.107</td><td>CfA3_KEP</td><td>BessellV</td><td>0.1267</td></tr>\n",
       "<tr><td>2006aj</td><td>53809.09959</td><td>18.877</td><td>0.15</td><td>CfA3_KEP</td><td>BessellV</td><td>0.1267</td></tr>\n",
       "<tr><td>2006aj</td><td>53817.11534</td><td>19.361</td><td>0.108</td><td>CfA3_KEP</td><td>BessellV</td><td>0.1267</td></tr>\n",
       "</table>"
      ],
      "text/plain": [
       "<Table length=14>\n",
       "  SN       MJD       mag    e_mag    Code    Filter    EBV  \n",
       " str6    float64   float64 float64   str9     str8   float64\n",
       "------ ----------- ------- ------- -------- -------- -------\n",
       "2006aj 53788.12746  18.079   0.046 CfA3_KEP BessellV  0.1267\n",
       "2006aj 53790.11067  17.722    0.03 CfA3_KEP BessellV  0.1267\n",
       "2006aj 53790.12778   17.74   0.024 CfA3_KEP BessellV  0.1267\n",
       "2006aj  53791.1203  17.631   0.019 CfA3_KEP BessellV  0.1267\n",
       "2006aj 53791.13345  17.654   0.021 CfA3_KEP BessellV  0.1267\n",
       "2006aj 53792.12275  17.547   0.026 CfA3_KEP BessellV  0.1267\n",
       "2006aj 53792.13554  17.595   0.023 CfA3_KEP BessellV  0.1267\n",
       "2006aj 53793.12243  17.546   0.018 CfA3_KEP BessellV  0.1267\n",
       "2006aj 53793.13649  17.513   0.018 CfA3_KEP BessellV  0.1267\n",
       "2006aj 53797.11672  17.593   0.021 CfA3_KEP BessellV  0.1267\n",
       "2006aj  53798.1483  17.656   0.025 CfA3_KEP BessellV  0.1267\n",
       "2006aj 53808.11157  18.756   0.107 CfA3_KEP BessellV  0.1267\n",
       "2006aj 53809.09959  18.877    0.15 CfA3_KEP BessellV  0.1267\n",
       "2006aj 53817.11534  19.361   0.108 CfA3_KEP BessellV  0.1267"
      ]
     },
     "execution_count": 127,
     "metadata": {},
     "output_type": "execute_result"
    }
   ],
   "source": [
    "sndata[np.where(sndata[\"Filter\"] == \"BessellV\")]"
   ]
  },
  {
   "cell_type": "code",
   "execution_count": 157,
   "metadata": {
    "collapsed": false
   },
   "outputs": [
    {
     "data": {
      "text/plain": [
       "False"
      ]
     },
     "execution_count": 157,
     "metadata": {},
     "output_type": "execute_result"
    }
   ],
   "source": [
    "import pycoco\n",
    "isinstance(pycoco.classes.FilterClass, FilterClass)"
   ]
  },
  {
   "cell_type": "code",
   "execution_count": 158,
   "metadata": {
    "collapsed": false
   },
   "outputs": [],
   "source": [
    "from pycoco.classes import FilterClass"
   ]
  },
  {
   "cell_type": "code",
   "execution_count": null,
   "metadata": {
    "collapsed": true
   },
   "outputs": [],
   "source": []
  }
 ],
 "metadata": {
  "anaconda-cloud": {},
  "kernelspec": {
   "display_name": "Python [default]",
   "language": "python",
   "name": "python3"
  },
  "language_info": {
   "codemirror_mode": {
    "name": "ipython",
    "version": 3
   },
   "file_extension": ".py",
   "mimetype": "text/x-python",
   "name": "python",
   "nbconvert_exporter": "python",
   "pygments_lexer": "ipython3",
   "version": "3.5.4"
  }
 },
 "nbformat": 4,
 "nbformat_minor": 2
}
