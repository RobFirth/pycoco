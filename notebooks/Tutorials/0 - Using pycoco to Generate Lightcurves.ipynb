{
 "cells": [
  {
   "cell_type": "markdown",
   "metadata": {},
   "source": [
    "# 0 - Using pycoco to Generate Lightcurves\n",
    "___\n",
    "CoCo is a tool to generate Core-Collapse Supernova lightcurves using spectrophotometric templates, based on a sample of 30 Stripped-Envelope SNe. This set of notebooks (and module) basically assume that you have this installed - if not, head to [https://github.com/UoS-SNe/CoCo](https://github.com/UoS-SNe/CoCo) and follow the instructions.\n",
    "\n",
    "## Brief description of operation\n",
    "___\n",
    "![flowchart](data/pycoco_flowchart.png)\n",
    "\n",
    "## Prerequisites\n",
    "___\n",
    "There are three environment variables you need to have set before `pycoco` will work properly:\n",
    "\n",
    "* `COCO_ROOT_DIR` (my default is `${HOME}/Code/CoCo/`)\n",
    "* `SFD_DIR` (this points to dust maps for extincting simulations - my default is `${HOME}/data/Dust/sfddata-master/` - see https://github.com/kbarbary/sfdmap for detailed instructions, including where to download the maps)\n",
    "* `LSST_THROUGHPUTS`  (my default is `${HOME}/projects/LSST/throughputs` - this needs to point at a clone of [https://github.com/lsst/throughputs](https://github.com/lsst/throughputs)) \n",
    "\n",
    "\n",
    "The `CoCo` cython simulation module also needs to be built. Run:\n",
    "\n",
    "```python setup.py build_ext --inplace```\n",
    "\n",
    "_note_: `COCO_ROOT_DIR` should also be in your path \n",
    "\n",
    "This creates the module `pyCoCo` (_note caps_) which I'll be importing as `pccsims`. \n",
    "\n",
    "## Testing `pycoco`\n",
    "\n",
    "Assuming you have done the above, you can check the install by running the bundled tests:"
   ]
  },
  {
   "cell_type": "code",
   "execution_count": null,
   "metadata": {
    "scrolled": false
   },
   "outputs": [],
   "source": [
    "import pycoco as pcc\n",
    "\n",
    "pcc.testing.runtests()"
   ]
  },
  {
   "cell_type": "markdown",
   "metadata": {},
   "source": [
    "# Simulating Lightcurves\n",
    "___\n",
    "This section deals with simulating lightcurves - hopefully you have the bundled fits, or have run your own (if not, now is a good time to head over to [1 - pycoco calling CoCo.ipynb](1 - pycoco calling CoCo.ipynb)).\n",
    "\n",
    "Below is a minumum working example. Following on from that is a more realistic treatment using a subset of LSST OpSim simulations."
   ]
  },
  {
   "cell_type": "code",
   "execution_count": 7,
   "metadata": {},
   "outputs": [],
   "source": [
    "%matplotlib inline\n",
    "\n",
    "from matplotlib import pyplot as plt\n",
    "\n",
    "import os\n",
    "import numpy as np\n",
    "\n",
    "import pycoco as pcc\n",
    "import pyCoCo as pccsim"
   ]
  },
  {
   "cell_type": "markdown",
   "metadata": {},
   "source": [
    "## Set up the Simulator Generator\n",
    "___"
   ]
  },
  {
   "cell_type": "code",
   "execution_count": 2,
   "metadata": {},
   "outputs": [
    {
     "name": "stdout",
     "output_type": "stream",
     "text": [
      "b'/Users/szymon/Projects/CoCo/data/filters/'\n",
      "b'/Users/szymon/Projects/CoCo/'\n"
     ]
    }
   ],
   "source": [
    "fltPath = pcc.utils.b(pcc.defaults._default_filter_dir_path)\n",
    "rootPath = pcc.utils.b(pcc.defaults._default_coco_dir_path)\n",
    "print(fltPath)\n",
    "print(rootPath)\n",
    "\n",
    "info = pcc.classes.InfoClass()\n",
    "info.load()\n",
    "\n",
    "coco = pccsim.pyCoCo(fltPath, rootPath)"
   ]
  },
  {
   "cell_type": "markdown",
   "metadata": {},
   "source": [
    "# Simple LC\n",
    "___\n",
    "## Set Params"
   ]
  },
  {
   "cell_type": "code",
   "execution_count": 10,
   "metadata": {},
   "outputs": [],
   "source": [
    "snname = \"SN1998bw\"             ## Name of the SN Template to use\n",
    "mjdmax = 50.                    ## Time that peak set by specphase() occurs at\n",
    "mjd_obs = np.arange(0.,105.,5.) ## 5 Day Cadence, single filter\n",
    "\n",
    "filter_name = \"LSST_g\"                                                       ## The filters must be a np array of\n",
    "filter_obs = np.array([pcc.utils.b(filter_name) for observation in mjd_obs]) ## bytestrings\n",
    "                                                                             \n",
    "z_sim = info.get_sn_info(snname)[\"z_distmod\"]\n",
    "\n",
    "absmag_offset = 0.0\n",
    "EBV_MW = 0.0\n",
    "EBV_host = 0.0\n",
    "R_v = 3.1"
   ]
  },
  {
   "cell_type": "markdown",
   "metadata": {},
   "source": [
    "## Generate Lightcurve"
   ]
  },
  {
   "cell_type": "code",
   "execution_count": 11,
   "metadata": {},
   "outputs": [],
   "source": [
    "flux, flux_err = coco.simulate(pcc.utils.b(snname),\n",
    "                               z_sim, \n",
    "                               absmag_offset, \n",
    "                               EBV_MW, EBV_host, R_v,\n",
    "                               mjdmax, mjd_obs,\n",
    "                               filter_obs)"
   ]
  },
  {
   "cell_type": "markdown",
   "metadata": {},
   "source": [
    "## Load in and Inspect"
   ]
  },
  {
   "cell_type": "code",
   "execution_count": 12,
   "metadata": {},
   "outputs": [
    {
     "data": {
      "text/plain": [
       "OrderedDict([('LSST_g', <Table length=31>\n",
       "                MJD          flux       flux_err filter\n",
       "              float64      float64      float64   str6 \n",
       "              ------- ----------------- -------- ------\n",
       "                -50.0 2.29290191677e-14      0.0 LSST_g\n",
       "                -45.0 2.25548356074e-14      0.0 LSST_g\n",
       "                -40.0 2.21620182764e-14      0.0 LSST_g\n",
       "                -35.0 2.17467612135e-14      0.0 LSST_g\n",
       "                -30.0 2.13047785151e-14      0.0 LSST_g\n",
       "                -25.0 2.08313243668e-14      0.0 LSST_g\n",
       "                -20.0  2.0321257275e-14      0.0 LSST_g\n",
       "                -15.0 1.97691659874e-14      0.0 LSST_g\n",
       "                -10.0 1.91695763401e-14      0.0 LSST_g\n",
       "                 -5.0 1.85172572424e-14      0.0 LSST_g\n",
       "                  ...               ...      ...    ...\n",
       "                 55.0 7.10220664096e-15      0.0 LSST_g\n",
       "                 60.0 6.17851301083e-15      0.0 LSST_g\n",
       "                 65.0 5.32715115312e-15      0.0 LSST_g\n",
       "                 70.0 4.55514159767e-15      0.0 LSST_g\n",
       "                 75.0  3.8655865109e-15      0.0 LSST_g\n",
       "                 80.0 3.25810319585e-15      0.0 LSST_g\n",
       "                 85.0 2.72949752467e-15      0.0 LSST_g\n",
       "                 90.0 2.27453371177e-15      0.0 LSST_g\n",
       "                 95.0 1.88668302253e-15      0.0 LSST_g\n",
       "                100.0 1.55877404645e-15      0.0 LSST_g)])"
      ]
     },
     "execution_count": 12,
     "metadata": {},
     "output_type": "execute_result"
    }
   ],
   "source": [
    "sn_sim = pcc.classes.SNClass(\"SN1998bw\")\n",
    "sn_sim.load_phot(phot_table = pcc.utils.simulate_out_to_ap_table(mjd_obs, flux, flux_err, filter_obs))\n",
    "sn_sim.phot.data"
   ]
  },
  {
   "cell_type": "code",
   "execution_count": 13,
   "metadata": {},
   "outputs": [
    {
     "data": {
      "image/png": "[encoded data removed]",
      "text/plain": [
       "<matplotlib.figure.Figure at 0x11a460cc0>"
      ]
     },
     "metadata": {},
     "output_type": "display_data"
    }
   ],
   "source": [
    "sn_sim.plot_lc(multiplot = False)"
   ]
  },
  {
   "cell_type": "markdown",
   "metadata": {},
   "source": [
    "## Let's Compare"
   ]
  },
  {
   "cell_type": "code",
   "execution_count": 9,
   "metadata": {},
   "outputs": [
    {
     "data": {
      "image/png": "[encoded data removed]",
      "text/plain": [
       "<matplotlib.figure.Figure at 0x11f0dd0b8>"
      ]
     },
     "metadata": {},
     "output_type": "display_data"
    }
   ],
   "source": [
    "sn = pcc.classes.SNClass(snname)\n",
    "sn.load_phot(verbose=False)\n",
    "sn.get_lcfit(os.path.join(pcc.defaults._default_recon_dir_path, snname + \".dat\"))\n",
    "\n",
    "sn.plot_lc(multiplot=False)"
   ]
  },
  {
   "cell_type": "code",
   "execution_count": null,
   "metadata": {},
   "outputs": [],
   "source": [
    "mjdmax_bessellV = pcc.utils.get_mjdmax(sn, \"BessellV\")\n",
    "\n",
    "fig = sn_sim.plot_lc(multiplot = False, return_figure=True)\n",
    "\n",
    "ax = fig.add_subplot(111)\n",
    "ax.errorbar(sn.phot.data[\"BessellV\"][\"MJD\"] - mjdmax_bessellV + 50, sn.phot.data[\"BessellV\"][\"flux\"],\n",
    "            yerr = sn.phot.data[\"BessellV\"][\"flux_err\"], capsize = 0, fmt = 'o',\n",
    "            color = pcc.colours.hex[\"BessellV\"], ecolor = pcc.colours.hex['batman'], mec = pcc.colours.hex[\"batman\"],\n",
    "            zorder = -99, label=r\"$\\rm{BessellV}$\")\n",
    "ax.errorbar(sn.phot.data[\"BessellB\"][\"MJD\"] - mjdmax_bessellV + 50, sn.phot.data[\"BessellB\"][\"flux\"],\n",
    "            yerr = sn.phot.data[\"BessellB\"][\"flux_err\"], capsize = 0, fmt = 'o',\n",
    "            color = pcc.colours.hex[\"BessellB\"], ecolor = pcc.colours.hex['batman'], mec = pcc.colours.hex[\"batman\"],\n",
    "            zorder = -99, label=r\"$\\rm{BessellB}$\")\n",
    "legend = ax.legend(loc = 'upper right', scatterpoints = 1, markerfirst = False,\n",
    "                                              numpoints = 1, frameon = False, bbox_to_anchor=(1., 1.),\n",
    "                                              fontsize = 12.)"
   ]
  },
  {
   "cell_type": "markdown",
   "metadata": {},
   "source": [
    "# LSST-like LC\n",
    "___\n",
    "\n",
    "Rather than making a single band light curve that is sampled every 5 days, you probably want to simulate a realistic cadence, in more than one band. Luckily, there is an example for that too.\n",
    "\n",
    "## Deep Drilling Fields"
   ]
  },
  {
   "cell_type": "code",
   "execution_count": null,
   "metadata": {},
   "outputs": [],
   "source": [
    "from astropy.table import Table\n",
    "\n",
    "ddf_opsimpath = \"data/ddf_opsimdf_fieldID2786_minion.csv\"\n",
    "# ddf_opsimpath = \"data/ddf_opsimdf_fieldID2786_fakerolling.csv\"\n",
    "\n",
    "t = Table.read(ddf_opsimpath)"
   ]
  },
  {
   "cell_type": "code",
   "execution_count": null,
   "metadata": {},
   "outputs": [],
   "source": [
    "t[:5]"
   ]
  },
  {
   "cell_type": "code",
   "execution_count": null,
   "metadata": {},
   "outputs": [],
   "source": [
    "w = np.where(t[\"night\"] < 356)\n",
    "\n",
    "t_y1 = t[w] ## just consider the first year"
   ]
  },
  {
   "cell_type": "code",
   "execution_count": null,
   "metadata": {},
   "outputs": [],
   "source": [
    "snname = \"SN1998bw\"             ## Name of the SN Template to use\n",
    "mjdmax = 90                     ## Time that peak set by specphase() occurs at, relative to the first observation\n",
    "mjd_obs = t_y1[\"expMJD\"]-np.nanmin(t_y1[\"expMJD\"])\n",
    "                                                                                        ## The filters must be a np array of\n",
    "filter_obs = np.array([pcc.utils.b(\"LSST_\"+filter_name) for filter_name in t_y1[\"filter\"]]) ## bytestrings\n",
    "                                                                             \n",
    "z_sim = info.get_sn_info(snname)[\"z_distmod\"] ## simulate at the same redshift as before\n",
    "\n",
    "absmag_offset = 0.0\n",
    "EBV_MW = 0.0\n",
    "EBV_host = 0.0\n",
    "R_v = 3.1"
   ]
  },
  {
   "cell_type": "code",
   "execution_count": null,
   "metadata": {},
   "outputs": [],
   "source": [
    "flux, flux_err = coco.simulate(pcc.utils.b(snname),\n",
    "                               z_sim, \n",
    "                               absmag_offset, \n",
    "                               EBV_MW, EBV_host, R_v,\n",
    "                               mjdmax, mjd_obs,\n",
    "                               filter_obs)"
   ]
  },
  {
   "cell_type": "code",
   "execution_count": null,
   "metadata": {},
   "outputs": [],
   "source": [
    "sn_sim = pcc.classes.SNClass(\"SN1998bw\")\n",
    "sn_sim.load_phot(phot_table = pcc.utils.simulate_out_to_ap_table(mjd_obs, flux, flux_err, filter_obs))\n",
    "sn_sim.phot.data"
   ]
  },
  {
   "cell_type": "code",
   "execution_count": null,
   "metadata": {
    "scrolled": false
   },
   "outputs": [],
   "source": [
    "sn_sim.plot_lc()"
   ]
  },
  {
   "cell_type": "markdown",
   "metadata": {},
   "source": [
    "## Wide-Fast-Deep Fields\n",
    "___"
   ]
  },
  {
   "cell_type": "code",
   "execution_count": null,
   "metadata": {},
   "outputs": [],
   "source": [
    "from astropy.table import Table\n",
    "\n",
    "ddf_opsimpath = \"data/wfd_opsimdf_fieldID1000_minion.csv\"\n",
    "# ddf_opsimpath = \"data/wfd_opsimdf_fieldID1000_fakerolling.csv\"\n",
    "\n",
    "\n",
    "t = Table.read(ddf_opsimpath)"
   ]
  },
  {
   "cell_type": "code",
   "execution_count": null,
   "metadata": {},
   "outputs": [],
   "source": [
    "t[:5]"
   ]
  },
  {
   "cell_type": "code",
   "execution_count": null,
   "metadata": {},
   "outputs": [],
   "source": [
    "w = np.where(t[\"night\"] < 356)\n",
    "\n",
    "t_y1 = t[w] ## just consider the first year"
   ]
  },
  {
   "cell_type": "code",
   "execution_count": null,
   "metadata": {},
   "outputs": [],
   "source": [
    "snname = \"SN1998bw\"             ## Name of the SN Template to use\n",
    "mjdmax = 90                     ## Time that peak set by specphase() occurs at, relative to the first observation\n",
    "mjd_obs = t_y1[\"expMJD\"]-np.nanmin(t_y1[\"expMJD\"])\n",
    "                                                                                        ## The filters must be a np array of\n",
    "filter_obs = np.array([pcc.utils.b(\"LSST_\"+filter_name) for filter_name in t_y1[\"filter\"]]) ## bytestrings\n",
    "                                                                             \n",
    "z_sim = info.get_sn_info(snname)[\"z_distmod\"] ## simulate at the same redshift as before\n",
    "\n",
    "absmag_offset = 0.0\n",
    "EBV_MW = 0.0\n",
    "EBV_host = 0.0\n",
    "R_v = 3.1"
   ]
  },
  {
   "cell_type": "code",
   "execution_count": null,
   "metadata": {},
   "outputs": [],
   "source": [
    "flux, flux_err = coco.simulate(pcc.utils.b(snname),\n",
    "                               z_sim, \n",
    "                               absmag_offset, \n",
    "                               EBV_MW, EBV_host, R_v,\n",
    "                               mjdmax, mjd_obs,\n",
    "                               filter_obs)"
   ]
  },
  {
   "cell_type": "code",
   "execution_count": null,
   "metadata": {},
   "outputs": [],
   "source": [
    "sn_sim = pcc.classes.SNClass(\"SN1998bw\")\n",
    "sn_sim.load_phot(phot_table = pcc.utils.simulate_out_to_ap_table(mjd_obs, flux, flux_err, filter_obs))\n",
    "sn_sim.phot.data"
   ]
  },
  {
   "cell_type": "code",
   "execution_count": null,
   "metadata": {
    "scrolled": false
   },
   "outputs": [],
   "source": [
    "sn_sim.plot_lc()"
   ]
  },
  {
   "cell_type": "markdown",
   "metadata": {},
   "source": [
    "## Exporting\n",
    "____\n",
    "\n",
    "You can take a bit more of a look at the PhotometryClass and SNClass in [./3 - pycoco_SNClass.ipynb](./3 - pycoco_SNClass.ipynb)[]()"
   ]
  },
  {
   "cell_type": "code",
   "execution_count": null,
   "metadata": {},
   "outputs": [],
   "source": []
  }
 ],
 "metadata": {
  "kernelspec": {
   "display_name": "Python [default]",
   "language": "python",
   "name": "python3"
  },
  "language_info": {
   "codemirror_mode": {
    "name": "ipython",
    "version": 3
   },
   "file_extension": ".py",
   "mimetype": "text/x-python",
   "name": "python",
   "nbconvert_exporter": "python",
   "pygments_lexer": "ipython3",
   "version": "3.5.4"
  }
 },
 "nbformat": 4,
 "nbformat_minor": 2
}
