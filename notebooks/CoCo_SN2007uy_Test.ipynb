{
 "cells": [
  {
   "cell_type": "code",
   "execution_count": null,
   "metadata": {
    "collapsed": true
   },
   "outputs": [],
   "source": [
    "%matplotlib inline\n",
    "# %matplotlib notebook\n",
    "\n",
    "try:\n",
    "    from importlib import reload\n",
    "except:\n",
    "    pass\n",
    "\n",
    "from __future__ import print_function ## Force python3-like printing\n",
    "\n",
    "import os\n",
    "\n",
    "from matplotlib import pyplot as plt\n",
    "from matplotlib import rc\n",
    "rc('text', usetex=True)\n",
    "\n",
    "import sfdmap\n",
    "\n",
    "import numpy as np\n",
    "from astropy.table import Table,Column\n",
    "\n",
    "import pycoco as pcc\n",
    "\n",
    "reload(pcc) ## FOR DEV\n",
    "# reload(pcc.defaults)\n",
    "# reload(pcc.functions)\n",
    "# reload(pcc.classes)\n",
    "# reload(pcc.utils)\n",
    "\n",
    "\n",
    "import pyCoCo as pccsims"
   ]
  },
  {
   "cell_type": "code",
   "execution_count": null,
   "metadata": {
    "collapsed": true
   },
   "outputs": [],
   "source": [
    "pccsims.__file__"
   ]
  },
  {
   "cell_type": "code",
   "execution_count": null,
   "metadata": {
    "collapsed": true
   },
   "outputs": [],
   "source": [
    "def convert_column_string_encoding(column):\n",
    "    column = Column([pcc.utils.b(x) for x in column.data], name = column.name)\n",
    "    return column\n",
    "\n",
    "def get_mjdmax_BessellV(sn):\n",
    "    v = sn.lcfit.spline[\"BessellV\"]    \n",
    "    mjd_spline = np.arange(np.nanmin(sn.phot.data[\"BessellV\"][\"MJD\"]), \n",
    "                 np.nanmax(sn.phot.data[\"BessellV\"][\"MJD\"]),\n",
    "                 0.001)\n",
    "    w = np.where(v(mjd_spline) == np.nanmax(v(mjd_spline)))\n",
    "\n",
    "    mjdmax = mjd_spline[w]\n",
    "    \n",
    "    return mjdmax"
   ]
  },
  {
   "cell_type": "code",
   "execution_count": null,
   "metadata": {
    "collapsed": true
   },
   "outputs": [],
   "source": [
    "filter_path = pcc._default_filter_dir_path\n",
    "coco_root_path = pcc._default_coco_dir_path\n",
    "\n",
    "reload(pccsims)\n",
    "coco = pccsims.pyCoCo(pcc.utils.b(filter_path), pcc.utils.b(coco_root_path))"
   ]
  },
  {
   "cell_type": "code",
   "execution_count": null,
   "metadata": {
    "collapsed": true
   },
   "outputs": [],
   "source": []
  },
  {
   "cell_type": "markdown",
   "metadata": {},
   "source": [
    "Load in an templates object "
   ]
  },
  {
   "cell_type": "code",
   "execution_count": null,
   "metadata": {
    "collapsed": true,
    "scrolled": false
   },
   "outputs": [],
   "source": [
    "snname = \"SN2007uy\"\n",
    "\n",
    "sn = pcc.SNClass(snname)\n",
    "\n",
    "phot_path = os.path.join(coco_root_path, \"data/lc/\", snname + \".dat\")\n",
    "speclist_path = os.path.join(str(coco_root_path),\"lists/\" + snname + \".list\")\n",
    "recon_filename = os.path.abspath(os.path.join(str(coco_root_path), \"recon/\", snname + \".dat\"))\n",
    "\n",
    "print(phot_path)\n",
    "sn.load_phot(path = phot_path)\n",
    "# sn.phot.plot()\n",
    "sn.get_lcfit(recon_filename)\n",
    "\n",
    "sn.load_list(path = speclist_path)\n",
    "sn.load_spec()\n",
    "# sn.load_mangledspec()\n",
    "# sn.plot_spec()\n",
    "# sn.plot_mangledspec()\n",
    "# sn.plot_lc(multiplot = False, mark_spectra=True, savepng=True, outpath = \"/Users/berto/projects/LSST/SN2007uy\")\n",
    "sn.plot_lc(multiplot = False, mark_spectra=True)"
   ]
  },
  {
   "cell_type": "code",
   "execution_count": null,
   "metadata": {
    "collapsed": true
   },
   "outputs": [],
   "source": [
    "# sn.plot_lc(multiplot = True, lock_axis=True)"
   ]
  },
  {
   "cell_type": "code",
   "execution_count": null,
   "metadata": {
    "collapsed": true,
    "scrolled": true
   },
   "outputs": [],
   "source": [
    "sn.load_mangledspec()\n",
    "# sn.plot_spec()"
   ]
  },
  {
   "cell_type": "code",
   "execution_count": null,
   "metadata": {
    "collapsed": true
   },
   "outputs": [],
   "source": [
    "# sn.plot_mangledspec()"
   ]
  },
  {
   "cell_type": "code",
   "execution_count": null,
   "metadata": {
    "collapsed": true,
    "scrolled": false
   },
   "outputs": [],
   "source": [
    "# for i in zip(sn.spec, sn.mangledspec):\n",
    "#     print(i)\n",
    "#     pcc.compare_spec(sn.spec[i[0]], sn.mangledspec[i[1]], normalise=True)"
   ]
  },
  {
   "cell_type": "code",
   "execution_count": null,
   "metadata": {
    "collapsed": true
   },
   "outputs": [],
   "source": [
    "# pcc.plot_mangle(sn.spec[\"2009jf_-7.64.txt\"], sn.mangledspec[\"SN2009jf_55114.060000.spec\"])"
   ]
  },
  {
   "cell_type": "code",
   "execution_count": null,
   "metadata": {
    "collapsed": true
   },
   "outputs": [],
   "source": [
    "from scipy.integrate import simps\n",
    "\n",
    "def calc_spectrum_filter_flux(filter_name, SpecClass):\n",
    "    filter_object = pcc.load_filter(\"/Users/berto/Code/CoCo/data/filters/\" + filter_name + \".dat\")\n",
    "    filter_object.resample_response(new_wavelength = SpecClass.wavelength)\n",
    "    filter_area = simps(filter_object.throughput, filter_object.wavelength)\n",
    "    \n",
    "    transmitted_spec = filter_object.throughput * SpecClass.flux\n",
    "\n",
    "    integrated_flux = simps(transmitted_spec, SpecClass.wavelength)\n",
    "    \n",
    "    return  integrated_flux/filter_area\n",
    "\n",
    "def calc_specphot(sn, filtername):\n",
    "\n",
    "    specphot = np.array([])\n",
    "    specepoch = np.array([])\n",
    "\n",
    "    for spec in sn.mangledspec:\n",
    "        specphot = np.append(specphot, calc_spectrum_filter_flux(filtername, sn.mangledspec[spec]))\n",
    "        specepoch = np.append(specepoch, sn.mangledspec[spec].mjd_obs)\n",
    "    \n",
    "    return specepoch, specphot\n",
    "\n",
    "def compare_phot_specphot(sn, filtername):\n",
    "    \"\"\"\"\"\"\n",
    "    specepoch, specphot =  calc_specphot(sn, filtername)\n",
    "    \n",
    "    fig = plt.figure()\n",
    "    ax = fig.add_subplot(111)\n",
    "\n",
    "    ax.scatter(specepoch, specphot, label = \"specphot\")\n",
    "    ax.scatter(sn.phot.data[filtername][\"MJD\"], sn.phot.data[filtername][\"flux\"], label = filtername)\n",
    "\n",
    "    ax.set_ylim(0, 1.05 * np.nanmax(np.append(sn.phot.data[filtername][\"flux\"], specphot)))\n",
    "    ax.legend()\n",
    "#     plt.show()"
   ]
  },
  {
   "cell_type": "code",
   "execution_count": null,
   "metadata": {
    "collapsed": true,
    "scrolled": false
   },
   "outputs": [],
   "source": [
    "# compare_phot_specphot(sn, \"BessellB\")\n",
    "# compare_phot_specphot(sn, \"BessellV\")\n",
    "# compare_phot_specphot(sn, \"SDSS_r\")\n",
    "# compare_phot_specphot(sn, \"SDSS_i\")\n"
   ]
  },
  {
   "cell_type": "markdown",
   "metadata": {},
   "source": [
    "inputs:\n",
    "\n",
    "* **`snname`**\n",
    "* **`redshift`**\n",
    "* **`absmag offset`**\n",
    "* **`EBV MW`**\n",
    "* **`EBV Host`**\n",
    "* **`Rv`**\n",
    "* **`MJD at Peak`**\n",
    "\n",
    "* **`MJD to simulate`**\n",
    "* **`filters to simulate`**"
   ]
  },
  {
   "cell_type": "code",
   "execution_count": null,
   "metadata": {
    "collapsed": true
   },
   "outputs": [],
   "source": [
    "sn.lcfit.get_fit_splines()"
   ]
  },
  {
   "cell_type": "markdown",
   "metadata": {},
   "source": [
    "Quick check that the fit spline fits the fit (in Bessell V).\n",
    "Note: spline sampled at MJDOBS so looks slightly linear."
   ]
  },
  {
   "cell_type": "code",
   "execution_count": null,
   "metadata": {
    "collapsed": true
   },
   "outputs": [],
   "source": [
    "# plt.plot(sn.phot.data[\"BessellV\"][\"MJD\"], sn.lcfit.spline[\"BessellV\"](sn.phot.data[\"BessellV\"][\"MJD\"]), label = r\"$\\textnormal{Spline}$\")\n",
    "# plt.scatter(sn.phot.data[\"BessellV\"][\"MJD\"], sn.phot.data[\"BessellV\"][\"flux\"], label = r\"$\\textnormal{Photometry}$\")\n",
    "# plt.plot(sn.lcfit.data[\"BessellV\"][\"MJD\"], sn.lcfit.data[\"BessellV\"][\"flux\"], label = r\"$\\textnormal{Fit}$\")\n",
    "# plt.legend()"
   ]
  },
  {
   "cell_type": "code",
   "execution_count": null,
   "metadata": {
    "collapsed": true
   },
   "outputs": [],
   "source": [
    "mjdmax = get_mjdmax_BessellV(sn)[0]\n",
    "\n",
    "filters_to_sim = convert_column_string_encoding(sn.phot.phot[\"filter\"]).data\n",
    "mjd_to_sim = sn.phot.phot[\"MJD\"].data"
   ]
  },
  {
   "cell_type": "code",
   "execution_count": null,
   "metadata": {
    "collapsed": true
   },
   "outputs": [],
   "source": [
    "verbose = False\n",
    "# verbose = True\n",
    "for i, f in enumerate(filters_to_sim):\n",
    "    filters_to_sim[i] = f.replace(b\"SDSS\", b\"LSST\").replace(b\"BessellV\", b\"LSST_g\")\n",
    "#     filters_to_sim[i] = pcc.utils.b(str(f).replace(\"BessellV\", \"LSST_g\").replace(\"SDSS_r\", \"LSST_r\")) \n",
    "if verbose:\n",
    "    print(mjdmax)\n",
    "    print(mjd_to_sim)\n",
    "    print(filters_to_sim)"
   ]
  },
  {
   "cell_type": "code",
   "execution_count": null,
   "metadata": {
    "collapsed": true
   },
   "outputs": [],
   "source": [
    "# tablepath = \"/Users/berto/Code/verbose-enigma/testdata/info/info.dat\"\n",
    "\n",
    "# info = Table.read(tablepath, format = \"ascii.commented_header\")\n",
    "info = pcc.load_info()"
   ]
  },
  {
   "cell_type": "code",
   "execution_count": null,
   "metadata": {
    "collapsed": true
   },
   "outputs": [],
   "source": [
    "z_obs = info.get_sn_info(\"SN2007uy\")[\"z_obs\"]\n",
    "m = sfdmap.SFDMap()\n",
    "\n",
    "print(z_obs)"
   ]
  },
  {
   "cell_type": "code",
   "execution_count": null,
   "metadata": {
    "collapsed": true
   },
   "outputs": [],
   "source": [
    "reload(pccsims)\n",
    "coco = pccsims.pyCoCo(pcc.utils.b(filter_path), pcc.utils.b(coco_root_path))\n",
    "\n",
    "# flux, flux_err = coco.simulate(b\"SN2009jf\", \n",
    "#                     0.008, 0.0, 0.0, 0.0, 3.1, \n",
    "#                     mjdmax, mjd_to_sim, \n",
    "#                     filters_to_sim)\n",
    "\n",
    "flux, flux_err = coco.simulate(b\"SN2007uy\", \n",
    "                    z_obs, 0.0, 0.0, 0.0, 3.1, \n",
    "                    mjdmax, mjd_to_sim, \n",
    "                    filters_to_sim)\n",
    "\n",
    "# flux, flux_err = coco.simulate(b\"SN2009jf\", \n",
    "#                     0.008, 0.0, 0.1, 0.1, 3.1, \n",
    "#                     mjdmax, mjd_to_sim, \n",
    "#                     filters_to_sim)"
   ]
  },
  {
   "cell_type": "code",
   "execution_count": null,
   "metadata": {
    "collapsed": true
   },
   "outputs": [],
   "source": [
    "specphot = coco.spec_photometry(b\"SN2007uy\", \n",
    "                    z_obs, b\"LSST_g\")\n",
    "\n",
    "# plt.scatter(specphot[0], specphot[1])\n",
    "# plt.ylim(0, 1.02 *np.nanmax(specphot[1]))\n"
   ]
  },
  {
   "cell_type": "code",
   "execution_count": null,
   "metadata": {
    "collapsed": true
   },
   "outputs": [],
   "source": [
    "p = pcc.PhotometryClass()\n",
    "\n",
    "p.load_table(pcc.utils.simulate_out_to_ap_table(mjd_to_sim, flux, flux_err, filters_to_sim))\n",
    "\n",
    "# plt.scatter(p.data[\"BessellV\"][\"MJD\"], p.data[\"BessellV\"][\"flux\"], label = \"Synthetic Bessell V\")\n",
    "plt.scatter(p.data[\"LSST_g\"][\"MJD\"], p.data[\"LSST_g\"][\"flux\"], label = \"Synthetic LSST g\")\n",
    "plt.scatter(sn.phot.data[\"BessellV\"][\"MJD\"], sn.phot.data[\"BessellV\"][\"flux\"], label = \"Real Bessell V\")\n",
    "plt.scatter(specphot[0] + mjdmax, specphot[1])\n",
    "\n",
    "plt.ylim(0, 1.02 *np.nanmax(np.append(p.data[\"LSST_g\"][\"flux\"], sn.phot.data[\"BessellB\"][\"flux\"])))\n",
    "plt.legend()"
   ]
  },
  {
   "cell_type": "code",
   "execution_count": null,
   "metadata": {
    "collapsed": true
   },
   "outputs": [],
   "source": [
    "# p.plot()"
   ]
  },
  {
   "cell_type": "code",
   "execution_count": null,
   "metadata": {
    "collapsed": true
   },
   "outputs": [],
   "source": [
    "# p.save(filename = \"SN2007uy_sim_LSST.dat\", path = \"/Users/berto/projects/LSST/cadence/\")"
   ]
  },
  {
   "cell_type": "code",
   "execution_count": null,
   "metadata": {
    "collapsed": true
   },
   "outputs": [],
   "source": [
    "sn_fake = pcc.SNClass(\"SN2007uy_sim\")\n",
    "\n",
    "sn_fake.load_phot(path = \"/Users/berto/projects/LSST/cadence/SN2007uy_sim_LSST.dat\")\n",
    "sn_fake.plot_lc(multiplot = False)"
   ]
  },
  {
   "cell_type": "code",
   "execution_count": null,
   "metadata": {
    "collapsed": true
   },
   "outputs": [],
   "source": [
    "from matplotlib.ticker import MultipleLocator\n",
    "\n",
    "# filters = [\"BessellV\"]\n",
    "filters = [\"SDSS_r\"]\n",
    "\n",
    "alpha = 1.0\n",
    "xminorticks = 10\n",
    "\n",
    "pcc.setup_plot_defaults()\n",
    "\n",
    "fig = plt.figure(figsize=[8, 4])\n",
    "fig.subplots_adjust(left = 0.1, bottom = 0.13, top = 0.93,\n",
    "                right = 0.91, hspace=0, wspace = 0)\n",
    "## Label the axes\n",
    "xaxis_label_string = r'$\\textnormal{Time, MJD (days)}$'\n",
    "yaxis_label_string = r'$\\textnormal{Flux, erg s}^{-1}\\textnormal{\\AA}^{-1}\\textnormal{cm}^{-2}$'\n",
    "\n",
    "ax1 = fig.add_subplot(111)\n",
    "axes_list = [ax1]\n",
    "\n",
    "for filter_key in filters:\n",
    "    plot_label_string = r'$\\rm{' + sn.phot.data_filters[filter_key].filter_name.replace('_', '\\\\_') + '}$'\n",
    "    plot_label_string_fake = r'$\\rm{' + sn_fake.phot.data_filters[filter_key].filter_name.replace('_', '\\\\_') + ', simulated}$'\n",
    "\n",
    "    ax1.errorbar(sn.phot.data[filter_key]['MJD'], sn.phot.data[filter_key]['flux'],\n",
    "                 yerr = sn.phot.data[filter_key]['flux_err'],\n",
    "                 capsize = 0, fmt = 'x', color = sn.phot.data_filters[filter_key]._plot_colour,\n",
    "                 label = plot_label_string, ecolor = pcc.hex['batman'], mec = pcc.hex[\"batman\"],\n",
    "                 alpha = alpha)\n",
    "    ax1.fill_between(sn.lcfit.data[filter_key]['MJD'], sn.lcfit.data[filter_key]['flux_upper'], sn.lcfit.data[filter_key]['flux_lower'],\n",
    "                     color = pcc.hex[\"batman\"],\n",
    "                     alpha = 0.8, zorder = 0)\n",
    "    \n",
    "ax1.errorbar(sn_fake.phot.data[filter_key]['MJD'], sn_fake.phot.data[filter_key]['flux'],\n",
    "         yerr = sn_fake.phot.data[filter_key]['flux_err'],\n",
    "#              capsize = 0, fmt = 'o', color = sn_fake.phot.data_filters[filter_key]._plot_colour,\n",
    "         capsize = 0, fmt = 'o', color = pcc.hex['r'],\n",
    "         label = plot_label_string_fake, ecolor = pcc.hex['batman'], mec = pcc.hex[\"batman\"],\n",
    "         alpha = alpha)\n",
    "    \n",
    "xminorLocator = MultipleLocator(xminorticks)\n",
    "ax1.spines['top'].set_visible(True)\n",
    "ax1.xaxis.set_minor_locator(xminorLocator)\n",
    "\n",
    "plot_legend = ax1.legend(loc = 'upper right', scatterpoints = 1, markerfirst = False,\n",
    "                  numpoints = 1, frameon = False, bbox_to_anchor=(1., 1.),\n",
    "                  fontsize = 12.)\n",
    "\n",
    "ax1.set_ylabel(yaxis_label_string)\n",
    "ax1.set_xlabel(xaxis_label_string)\n",
    "\n",
    "outpath = \"/Users/berto/projects/LSST/cadence/SN2007uy_consistency_check_SDSS_r\"\n",
    "\n",
    "fig.savefig(outpath + \".png\", format = 'png', dpi=500)\n"
   ]
  },
  {
   "cell_type": "code",
   "execution_count": null,
   "metadata": {
    "collapsed": true
   },
   "outputs": [],
   "source": [
    "from matplotlib.ticker import MultipleLocator\n",
    "\n",
    "# filters = [\"BessellV\"]\n",
    "filters = [\"LSST_g\"]\n",
    "\n",
    "alpha = 1.0\n",
    "xminorticks = 10\n",
    "\n",
    "pcc.setup_plot_defaults()\n",
    "\n",
    "fig = plt.figure(figsize=[8, 4])\n",
    "fig.subplots_adjust(left = 0.1, bottom = 0.13, top = 0.93,\n",
    "                right = 0.91, hspace=0, wspace = 0)\n",
    "## Label the axes\n",
    "xaxis_label_string = r'$\\textnormal{Time, MJD (days)}$'\n",
    "yaxis_label_string = r'$\\textnormal{Flux, erg s}^{-1}\\textnormal{\\AA}^{-1}\\textnormal{cm}^{-2}$'\n",
    "\n",
    "ax1 = fig.add_subplot(111)\n",
    "axes_list = [ax1]\n",
    "\n",
    "for filter_key in filters:\n",
    "    plot_label_string = r'$\\rm{' + sn.phot.data_filters[\"BessellV\"].filter_name.replace('_', '\\\\_') + '}$'\n",
    "    plot_label_string_fake = r'$\\rm{' + sn_fake.phot.data_filters[filter_key].filter_name.replace('_', '\\\\_') + ', simulated}$'\n",
    "\n",
    "    ax1.errorbar(sn.phot.data[\"BessellV\"]['MJD'], sn.phot.data[\"BessellV\"]['flux'],\n",
    "                 yerr = sn.phot.data[\"BessellV\"]['flux_err'],\n",
    "                 capsize = 0, fmt = 'x', color = sn.phot.data_filters[\"BessellV\"]._plot_colour,\n",
    "                 label = plot_label_string, ecolor = pcc.hex['batman'], mec = pcc.hex[\"batman\"],\n",
    "                 alpha = alpha)\n",
    "    ax1.fill_between(sn.lcfit.data[\"BessellV\"]['MJD'], sn.lcfit.data[\"BessellV\"]['flux_upper'], sn.lcfit.data[\"BessellV\"]['flux_lower'],\n",
    "                     color = pcc.hex[\"batman\"],\n",
    "                     alpha = 0.8, zorder = 0)\n",
    "    \n",
    "    ax1.errorbar(sn_fake.phot.data[filter_key]['MJD'], sn_fake.phot.data[filter_key]['flux'],\n",
    "             yerr = sn_fake.phot.data[filter_key]['flux_err'],\n",
    "#              capsize = 0, fmt = 'o', color = sn_fake.phot.data_filters[filter_key]._plot_colour,\n",
    "             capsize = 0, fmt = 'o', color = pcc.hex['LSST_g'],\n",
    "             label = plot_label_string_fake, ecolor = pcc.hex['batman'], mec = pcc.hex[\"batman\"],\n",
    "             alpha = alpha)\n",
    "    \n",
    "xminorLocator = MultipleLocator(xminorticks)\n",
    "ax1.spines['top'].set_visible(True)\n",
    "ax1.xaxis.set_minor_locator(xminorLocator)\n",
    "\n",
    "plot_legend = ax1.legend(loc = 'upper right', scatterpoints = 1, markerfirst = False,\n",
    "                  numpoints = 1, frameon = False, bbox_to_anchor=(1., 1.),\n",
    "                  fontsize = 12.)\n",
    "\n",
    "ax1.set_ylabel(yaxis_label_string)\n",
    "ax1.set_xlabel(xaxis_label_string)\n",
    "print(ax1.get_xlim())\n",
    "outpath = \"/Users/berto/projects/LSST/cadence/SN2007uy_consistency_check_BessellV_LSSTg\"\n",
    "\n",
    "# fig.savefig(outpath + \".png\", format = 'png', dpi=500)\n"
   ]
  },
  {
   "cell_type": "code",
   "execution_count": null,
   "metadata": {
    "collapsed": true
   },
   "outputs": [],
   "source": []
  },
  {
   "cell_type": "code",
   "execution_count": null,
   "metadata": {
    "collapsed": true
   },
   "outputs": [],
   "source": [
    "cadencepath = \"/Users/berto/projects/LSST/cadence/LSST_DDF_2786_cadence.dat\"\n",
    "\n",
    "data = Table.read(cadencepath, format = \"ascii.commented_header\")\n",
    "w = np.logical_or(data[\"filter\"] == \"LSST_g\", data[\"filter\"] == \"LSST_r\")\n",
    "\n",
    "mjd_to_sim = data[w][\"MJD\"].data\n",
    "filters_to_sim = convert_column_string_encoding(data[w][\"filter\"]).data"
   ]
  },
  {
   "cell_type": "code",
   "execution_count": null,
   "metadata": {
    "collapsed": true
   },
   "outputs": [],
   "source": [
    "# mjd_to_sim\n",
    "mjd_to_sim = mjd_to_sim - (mjd_to_sim[0] - 54450)"
   ]
  },
  {
   "cell_type": "code",
   "execution_count": null,
   "metadata": {
    "collapsed": true
   },
   "outputs": [],
   "source": [
    "#\n",
    "flux, flux_err = coco.simulate(b\"SN2007uy\", \n",
    "                    z_obs, 0.0, 0.0, 0.0, 3.1, \n",
    "                    mjdmax, mjd_to_sim, \n",
    "                    filters_to_sim)"
   ]
  },
  {
   "cell_type": "code",
   "execution_count": null,
   "metadata": {
    "collapsed": true
   },
   "outputs": [],
   "source": []
  },
  {
   "cell_type": "code",
   "execution_count": null,
   "metadata": {
    "collapsed": true
   },
   "outputs": [],
   "source": [
    "p = pcc.PhotometryClass()\n",
    "\n",
    "p.load_table(pcc.utils.simulate_out_to_ap_table(mjd_to_sim, flux, flux_err, filters_to_sim))\n"
   ]
  },
  {
   "cell_type": "code",
   "execution_count": null,
   "metadata": {
    "collapsed": true
   },
   "outputs": [],
   "source": [
    "p.plot()"
   ]
  },
  {
   "cell_type": "code",
   "execution_count": null,
   "metadata": {
    "collapsed": true
   },
   "outputs": [],
   "source": [
    "p.save(filename = \"SN2007uy_sim_LSST_gr.dat\", path = \"/Users/berto/projects/LSST/cadence/\")"
   ]
  },
  {
   "cell_type": "code",
   "execution_count": null,
   "metadata": {
    "collapsed": true
   },
   "outputs": [],
   "source": [
    "sn_fake = pcc.SNClass(\"SN2007uy_sim\")\n",
    "\n",
    "sn_fake.load_phot(path = \"/Users/berto/projects/LSST/cadence/SN2007uy_sim_LSST_gr.dat\")\n",
    "sn_fake.plot_lc(multiplot = False)"
   ]
  },
  {
   "cell_type": "code",
   "execution_count": null,
   "metadata": {
    "collapsed": true
   },
   "outputs": [],
   "source": [
    "from matplotlib.ticker import MultipleLocator\n",
    "\n",
    "filters = [\"BessellV\", \"SDSS_r\"]\n",
    "markers = [\"x\", \"o\"]\n",
    "# filters = [\"LSST_g\"]\n",
    "\n",
    "alpha = 1.0\n",
    "xminorticks = 10\n",
    "\n",
    "pcc.setup_plot_defaults()\n",
    "\n",
    "fig = plt.figure(figsize=[8, 4])\n",
    "fig.subplots_adjust(left = 0.1, bottom = 0.13, top = 0.93,\n",
    "                right = 0.91, hspace=0, wspace = 0)\n",
    "## Label the axes\n",
    "xaxis_label_string = r'$\\textnormal{Time, MJD (days)}$'\n",
    "yaxis_label_string = r'$\\textnormal{Flux, erg s}^{-1}\\textnormal{\\AA}^{-1}\\textnormal{cm}^{-2}$'\n",
    "\n",
    "ax1 = fig.add_subplot(111)\n",
    "axes_list = [ax1]\n",
    "\n",
    "for j, filter_key in enumerate(filters):\n",
    "    plot_label_string = r'$\\rm{' + sn.phot.data_filters[filter_key].filter_name.replace('_', '\\\\_') + '}$'\n",
    "\n",
    "    ax1.errorbar(sn.phot.data[filter_key]['MJD'], sn.phot.data[filter_key]['flux'],\n",
    "                 yerr = sn.phot.data[filter_key]['flux_err'],\n",
    "                 capsize = 0, fmt = markers[j], color = \"none\",\n",
    "                 label = plot_label_string, ecolor = pcc.hex['batman'], mec = pcc.hex[\"batman\"],\n",
    "                 alpha = alpha,)\n",
    "    ax1.fill_between(sn.lcfit.data[filter_key]['MJD'], sn.lcfit.data[filter_key]['flux_upper'], sn.lcfit.data[filter_key]['flux_lower'],\n",
    "                     color = pcc.hex[\"batman\"],\n",
    "                     alpha = 0.8, zorder = 0)\n",
    "\n",
    "fake_filters = [\"LSST_g\", \"LSST_r\"]\n",
    "for j, filter_key in enumerate(fake_filters):\n",
    "    plot_label_string_fake = r'$\\rm{' + sn_fake.phot.data_filters[filter_key].filter_name.replace('_', '\\\\_') + ', simulated}$'\n",
    "    \n",
    "    ax1.errorbar(sn_fake.phot.data[filter_key]['MJD'], sn_fake.phot.data[filter_key]['flux'],\n",
    "             yerr = sn_fake.phot.data[filter_key]['flux_err'],\n",
    "             capsize = 0, fmt = 'o', color = sn_fake.phot.data_filters[filter_key]._plot_colour,\n",
    "#              capsize = 0, fmt = 'o', color = pcc.hex['LSST_g'],\n",
    "             label = plot_label_string_fake, ecolor = pcc.hex['batman'], mec = pcc.hex[\"batman\"],\n",
    "             alpha = alpha)\n",
    "    \n",
    "xminorLocator = MultipleLocator(xminorticks)\n",
    "ax1.spines['top'].set_visible(True)\n",
    "ax1.xaxis.set_minor_locator(xminorLocator)\n",
    "\n",
    "plot_legend = ax1.legend(loc = 'upper right', scatterpoints = 1, markerfirst = False,\n",
    "                  numpoints = 1, frameon = False, bbox_to_anchor=(1., 1.),\n",
    "                  fontsize = 12.)\n",
    "\n",
    "ax1.set_ylabel(yaxis_label_string)\n",
    "ax1.set_xlabel(xaxis_label_string)\n",
    "\n",
    "ax1.set_xlim(ax1.get_xlim()[0], 54643.724999999999 )\n",
    "outpath = \"/Users/berto/projects/LSST/cadence/SN2007uy_cadence_check_LSSTr_LSSTg\"\n",
    "\n",
    "fig.savefig(outpath + \".png\", format = 'png', dpi=500)\n"
   ]
  },
  {
   "cell_type": "code",
   "execution_count": null,
   "metadata": {
    "collapsed": true
   },
   "outputs": [],
   "source": [
    "# flux"
   ]
  },
  {
   "cell_type": "code",
   "execution_count": null,
   "metadata": {
    "collapsed": true
   },
   "outputs": [],
   "source": [
    "# pccsims.__file__"
   ]
  },
  {
   "cell_type": "code",
   "execution_count": null,
   "metadata": {
    "collapsed": true
   },
   "outputs": [],
   "source": []
  },
  {
   "cell_type": "code",
   "execution_count": null,
   "metadata": {
    "collapsed": true
   },
   "outputs": [],
   "source": [
    "# p.plot([\"Bessellv\"], legend=True)"
   ]
  },
  {
   "cell_type": "code",
   "execution_count": null,
   "metadata": {
    "collapsed": true
   },
   "outputs": [],
   "source": [
    "sn.plot_lc([\"BessellV\"], multiplot = False)\n",
    "plt.scatter(p.data[\"BessellV\"][\"MJD\"], p.data[\"BessellV\"][\"flux\"], label = \"Synthetic Bessell V\")\n"
   ]
  },
  {
   "cell_type": "code",
   "execution_count": null,
   "metadata": {
    "collapsed": true
   },
   "outputs": [],
   "source": [
    "p.plot([\"BessellB\"])"
   ]
  },
  {
   "cell_type": "code",
   "execution_count": null,
   "metadata": {
    "collapsed": true
   },
   "outputs": [],
   "source": [
    "sn.plot_lc(multiplot=False)"
   ]
  },
  {
   "cell_type": "code",
   "execution_count": null,
   "metadata": {
    "collapsed": true
   },
   "outputs": [],
   "source": [
    "sn.load_mangledspec()"
   ]
  },
  {
   "cell_type": "code",
   "execution_count": null,
   "metadata": {
    "collapsed": true
   },
   "outputs": [],
   "source": [
    "sn.plot_mangledspec()"
   ]
  },
  {
   "cell_type": "code",
   "execution_count": null,
   "metadata": {
    "collapsed": true
   },
   "outputs": [],
   "source": [
    "sn.plot_spec()"
   ]
  },
  {
   "cell_type": "code",
   "execution_count": null,
   "metadata": {
    "collapsed": true
   },
   "outputs": [],
   "source": [
    "mjdmax = get_mjdmax_BessellV(sn)[0]\n",
    "\n",
    "filters_to_sim = convert_column_string_encoding(sn.phot.data[\"BessellB\"][\"filter\"]).data\n",
    "mjd_to_sim = sn.phot.data[\"BessellB\"][\"MJD\"].data\n",
    "\n",
    "flux, flux_err = coco.simulate(b\"SN2009jf\", \n",
    "                    z_obs, -0.0, 0.2, 0.3, 3.1, \n",
    "                    mjdmax, mjd_to_sim, \n",
    "                    filters_to_sim)"
   ]
  },
  {
   "cell_type": "code",
   "execution_count": null,
   "metadata": {
    "collapsed": true
   },
   "outputs": [],
   "source": [
    "plt.scatter(mjd_to_sim,sn.phot.data[\"BessellB\"][\"flux\"])\n",
    "plt.plot(sn.lcfit.data[\"BessellB\"][\"MJD\"], sn.lcfit.data[\"BessellB\"][\"flux\"])\n",
    "\n",
    "plt.ylim(0, np.nanmax(sn.phot.data[\"BessellB\"][\"flux\"])*1.1)"
   ]
  },
  {
   "cell_type": "code",
   "execution_count": null,
   "metadata": {
    "collapsed": true
   },
   "outputs": [],
   "source": []
  },
  {
   "cell_type": "code",
   "execution_count": null,
   "metadata": {
    "collapsed": true
   },
   "outputs": [],
   "source": []
  },
  {
   "cell_type": "code",
   "execution_count": null,
   "metadata": {
    "collapsed": true
   },
   "outputs": [],
   "source": [
    "p = pcc.PhotometryClass()\n",
    "\n",
    "p.load_table(pcc.utils.simulate_out_to_ap_table(mjd_to_sim, flux, flux_err, filters_to_sim))"
   ]
  },
  {
   "cell_type": "code",
   "execution_count": null,
   "metadata": {
    "collapsed": true
   },
   "outputs": [],
   "source": [
    "p.plot()"
   ]
  },
  {
   "cell_type": "code",
   "execution_count": null,
   "metadata": {
    "collapsed": true
   },
   "outputs": [],
   "source": [
    "# s = pcc.SpectrumClass()\n",
    "\n",
    "# s.load(\"SN2009jf_55106.120000.spec\", directory=\"/Users/berto/Code/CoCo/spectra/\")\n",
    "\n",
    "# s.plot()"
   ]
  },
  {
   "cell_type": "code",
   "execution_count": null,
   "metadata": {
    "collapsed": true
   },
   "outputs": [],
   "source": [
    "# s = pcc.SpectrumClass()\n",
    "# s.load(\"SN2009jf_55108.130000.spec\", directory=\"/Users/berto/Code/CoCo/spectra/\")\n",
    "# s.plot()"
   ]
  },
  {
   "cell_type": "code",
   "execution_count": null,
   "metadata": {
    "collapsed": true
   },
   "outputs": [],
   "source": [
    "# s = pcc.SpectrumClass()\n",
    "# s.load(\"SN2009jf_55114.060000.spec\", directory=\"/Users/berto/Code/CoCo/spectra/\")\n",
    "# s.plot()"
   ]
  },
  {
   "cell_type": "code",
   "execution_count": null,
   "metadata": {
    "collapsed": true
   },
   "outputs": [],
   "source": []
  },
  {
   "cell_type": "code",
   "execution_count": null,
   "metadata": {
    "collapsed": true
   },
   "outputs": [],
   "source": [
    "from astropy import units as u\n",
    "from astropy.coordinates import SkyCoord\n",
    "\n",
    "from astropy.table import Table\n",
    "def load_coords(filename = \"sncoordinates.list\"):\n",
    "    \"\"\"\n",
    "\n",
    "    \"\"\"\n",
    "    path = os.path.abspath(os.path.join(pcc.__path__[0], os.path.pardir, filename))\n",
    "    coordtable = Table.read(path, format = 'ascii.commented_header')\n",
    "    return coordtable"
   ]
  },
  {
   "cell_type": "code",
   "execution_count": null,
   "metadata": {
    "collapsed": true
   },
   "outputs": [],
   "source": [
    "# %timeit load_coords()"
   ]
  },
  {
   "cell_type": "code",
   "execution_count": null,
   "metadata": {
    "collapsed": true
   },
   "outputs": [],
   "source": [
    "cootable = load_coords()"
   ]
  },
  {
   "cell_type": "code",
   "execution_count": null,
   "metadata": {
    "collapsed": true
   },
   "outputs": [],
   "source": [
    "%%timeit\n",
    "\n",
    "snname = \"SN2009jf\"\n",
    "w = np.where(cootable[\"snname\"] == snname)\n",
    "c = SkyCoord(cootable[\"RA\"][w], cootable[\"Dec\"][w], frame='icrs')\n"
   ]
  },
  {
   "cell_type": "code",
   "execution_count": null,
   "metadata": {
    "collapsed": true
   },
   "outputs": [],
   "source": [
    "c.ra.deg[0], c.dec.deg[0]"
   ]
  },
  {
   "cell_type": "code",
   "execution_count": null,
   "metadata": {
    "collapsed": true
   },
   "outputs": [],
   "source": [
    "import sfdmap"
   ]
  },
  {
   "cell_type": "code",
   "execution_count": null,
   "metadata": {
    "collapsed": true
   },
   "outputs": [],
   "source": [
    "m = sfdmap.SFDMap()"
   ]
  },
  {
   "cell_type": "code",
   "execution_count": null,
   "metadata": {
    "collapsed": true
   },
   "outputs": [],
   "source": [
    "m.ebv(c.ra.deg[0], c.dec.deg[0], unit = 'degree')"
   ]
  },
  {
   "cell_type": "code",
   "execution_count": null,
   "metadata": {
    "collapsed": true
   },
   "outputs": [],
   "source": [
    "\n"
   ]
  },
  {
   "cell_type": "code",
   "execution_count": null,
   "metadata": {
    "collapsed": true
   },
   "outputs": [],
   "source": []
  },
  {
   "cell_type": "code",
   "execution_count": null,
   "metadata": {
    "collapsed": true
   },
   "outputs": [],
   "source": []
  },
  {
   "cell_type": "code",
   "execution_count": null,
   "metadata": {
    "collapsed": true
   },
   "outputs": [],
   "source": []
  },
  {
   "cell_type": "code",
   "execution_count": null,
   "metadata": {
    "collapsed": true
   },
   "outputs": [],
   "source": []
  },
  {
   "cell_type": "code",
   "execution_count": null,
   "metadata": {
    "collapsed": true
   },
   "outputs": [],
   "source": []
  },
  {
   "cell_type": "code",
   "execution_count": null,
   "metadata": {
    "collapsed": true
   },
   "outputs": [],
   "source": []
  }
 ],
 "metadata": {
  "anaconda-cloud": {},
  "kernelspec": {
   "display_name": "Python 3",
   "language": "python",
   "name": "python3"
  },
  "language_info": {
   "codemirror_mode": {
    "name": "ipython",
    "version": 3
   },
   "file_extension": ".py",
   "mimetype": "text/x-python",
   "name": "python",
   "nbconvert_exporter": "python",
   "pygments_lexer": "ipython3",
   "version": "3.6.0"
  }
 },
 "nbformat": 4,
 "nbformat_minor": 1
}
