{
 "cells": [
  {
   "cell_type": "markdown",
   "metadata": {},
   "source": [
    "# CoCo Fits\n",
    "___\n",
    "\n",
    "## ./lcfit Visual inspection"
   ]
  },
  {
   "cell_type": "code",
   "execution_count": null,
   "metadata": {
    "collapsed": true
   },
   "outputs": [],
   "source": [
    "# %matplotlib inline\n",
    "%matplotlib notebook\n",
    "\n",
    "try:\n",
    "    reload  # Python 2.7\n",
    "except NameError:\n",
    "    try:\n",
    "        from importlib import reload  # Python 3.4+\n",
    "    except ImportError:\n",
    "        from imp import reload  # Python 3.0 - 3.3\n",
    "       \n",
    "from matplotlib import pyplot as plt\n",
    "from matplotlib import rc\n",
    "rc('text', usetex=True)\n",
    "\n",
    "import os\n",
    "import numpy as np\n",
    "from astropy.table import Table\n",
    "\n",
    "import pycoco as pcc\n",
    "\n",
    "# reload(pcc) ## FOR DEV\n",
    "# reload(pcc.defaults)\n",
    "# reload(pcc.functions)"
   ]
  },
  {
   "cell_type": "code",
   "execution_count": null,
   "metadata": {
    "scrolled": false
   },
   "outputs": [],
   "source": [
    "plot_out_dir = \"/Users/berto/plots/CoCo-pycoco-debugging/\"\n",
    "\n",
    "sn_to_check = [\"SN1993J\",\n",
    "\"SN1994I\",\n",
    "\"SN1996cb\",\n",
    "\"SN1998bw\",\n",
    "\"SN1999dn\",\n",
    "\"SN2002ap\",\n",
    "\"SN2003jd\",\n",
    "\"SN2004aw\",\n",
    "\"SN2005bf\",\n",
    "\"SN2005hg\",\n",
    "\"SN2006aj\",\n",
    "\"SN2007C\",\n",
    "\"SN2007Y\",\n",
    "\"SN2007uy\",\n",
    "\"SN2007gr\",\n",
    "\"SN2008D\",\n",
    "\"SN2008bo\",\n",
    "\"SN2008ax\",\n",
    "\"SN2009bb\",\n",
    "\"SN2009er\",\n",
    "\"SN2009iz\",\n",
    "\"SN2009jf\",\n",
    "\"SN2010al\",\n",
    "\"SN2010as\",\n",
    "\"SN2011bm\",\n",
    "\"SN2011dh\",\n",
    "\"SN2011ei\",\n",
    "\"SN2011fu\",\n",
    "\"SN2012ap\",\n",
    "\"SN2013ge\",\n",
    "\"iPTF13bvn\"]\n",
    "\n",
    "# sn_to_check = [\"SN1998bw\",]\n",
    "# sn_to_check = [\"SN2006aj\",]\n",
    "# sn_to_check = [\"SN2007uy\",]\n",
    "# sn_to_check = [\"SN2011dh\",]\n",
    "# sn_to_check = [\"SN1994I\",]\n",
    "# sn_to_check = [\"SN2002ap\",]\n",
    "# sn_to_check = [\"SN2009jf\",]\n",
    "# sn_to_check = [\"SN2015U\",]\n",
    "\n",
    "\n",
    "for snname in sn_to_check:\n",
    "    sn = pcc.classes.SNClass(snname)\n",
    "    sn.load_phot( path = os.path.join(pcc.defaults._default_data_dir_path, \"lc/\"+ snname + \".dat\"))\n",
    "    try:\n",
    "        sn.load_list(os.path.join(pcc.defaults._default_list_dir_path, snname + \".list\"))\n",
    "    except:\n",
    "        pass\n",
    "    sn.load_spec()\n",
    "    sn.get_lcfit(os.path.join(pcc.defaults._default_recon_dir_path, snname + \".dat\"))\n",
    "    sn.check_overlaps()\n",
    "    print(sn.name)\n",
    "#     sn.plot_lc()    \n",
    "#     sn.plot_lc(xextent=60, savepdf=False, outpath=os.path.join(plot_out_dir, snname+\"karpenka10\"), showsnname=True)\n",
    "    sn.plot_lc(xextent=60, savepdf=True, outpath=os.path.join(plot_out_dir, snname+\"_default\"), showsnname=True)\n",
    "#     sn.plot_lc(xextent=60, savepdf=True, outpath=os.path.join(plot_out_dir, snname+\"_bazin09\"), showsnname=True)\n",
    "#     sn.plot_lc([\"SDSS_g\"], xextent=60, savepdf=True, outpath=os.path.join(plot_out_dir, snname+\"_kessler10\"), showsnname=True, multiplot=False)"
   ]
  },
  {
   "cell_type": "code",
   "execution_count": null,
   "metadata": {
    "collapsed": true
   },
   "outputs": [],
   "source": [
    "plt.close(\"all\")"
   ]
  },
  {
   "cell_type": "markdown",
   "metadata": {},
   "source": [
    "## Look at the ones that didn't work\n",
    "___\n"
   ]
  },
  {
   "cell_type": "code",
   "execution_count": null,
   "metadata": {
    "scrolled": false
   },
   "outputs": [],
   "source": [
    "save_bool = True\n",
    "# refit = True\n",
    "refit = False\n",
    "\n",
    "sn_to_check = [\"SN1993J\", ## Catastrophic in B\n",
    "\"SN1994I\", ## Driven by tail\n",
    "\"SN1996cb\", ## Pretty Good\n",
    "\"SN1999dn\", ## No Turnover\n",
    "\"SN2002ap\", ## R?\n",
    "\"SN2003jd\", ## No B/G Turnover - Driven By Tail\n",
    "\"SN2004aw\", ## No B/G Turnover\n",
    "\"SN2005bf\", ## Pre Emission\n",
    "\"SN2007C\", ## No Turnover\n",
    "\"SN2007Y\", ## Missed Peak\n",
    "\"SN2007uy\", ## Missed Peak\n",
    "\"SN2007gr\", ## Driven By Tail\n",
    "\"SN2008D\",  ## Pre Preak Emission\n",
    "\"SN2008bo\", ## Driven By Tail + Pre Peak Emission\n",
    "\"SN2008ax\", ## Driven By Tail\n",
    "\"SN2009er\", ## No B-Band Turnover\n",
    "\"SN2011dh\", ## Driven By Tail\n",
    "\"SN2011fu\", ## Two Peaks\n",
    "\"SN2013ge\", ## BADå\n",
    "\"iPTF13bvn\"] ## SDSS_R/I BAND\n",
    "\n",
    "for snname in sn_to_check:\n",
    "    sn = pcc.classes.SNClass(snname)\n",
    "    sn.load_phot( path = os.path.join(pcc.defaults._default_data_dir_path, \"lc/\"+ snname + \".dat\"))\n",
    "    try:\n",
    "        sn.load_list(os.path.join(pcc.defaults._default_list_dir_path, snname + \".list\"))\n",
    "    except:\n",
    "        pass\n",
    "    sn.load_spec()\n",
    "    \n",
    "    ## Run Fit\n",
    "    if refit:\n",
    "        pcc.coco.run_LCfit(os.path.join(pcc.defaults._default_data_dir_path, \"lc/\"+snname+\".dat\"), model=\"Karpenka12\")\n",
    "    \n",
    "    sn.get_lcfit(os.path.join(pcc.defaults._default_recon_dir_path, snname + \".dat\"))\n",
    "    sn.check_overlaps()\n",
    "    print(sn.name)\n",
    "#     sn.plot_lc()    \n",
    "#     sn.plot_lc(xextent=60, savepdf=False, outpath=os.path.join(plot_out_dir, snname+\"karpenka10\"), showsnname=True)\n",
    "    sn.plot_lc(xextent=60, savepdf=save_bool, outpath=os.path.join(plot_out_dir, snname+\"_karpenka\"), showsnname=True)\n",
    "#     sn.plot_lc(xextent=60, savepdf=True, outpath=os.path.join(plot_out_dir, snname+\"_bazin09\"), showsnname=True)\n",
    "#     sn.plot_lc([\"SDSS_g\"], xextent=60, savepdf=True, outpath=os.path.join(plot_out_dir, snname+\"_kessler10\"), showsnname=True, multiplot=False)"
   ]
  },
  {
   "cell_type": "code",
   "execution_count": null,
   "metadata": {
    "collapsed": true
   },
   "outputs": [],
   "source": [
    "plt.close(\"all\")"
   ]
  },
  {
   "cell_type": "markdown",
   "metadata": {},
   "source": [
    "___\n"
   ]
  },
  {
   "cell_type": "code",
   "execution_count": null,
   "metadata": {
    "scrolled": false
   },
   "outputs": [],
   "source": [
    "save_bool = True\n",
    "# refit = True\n",
    "refit = False\n",
    "sn_to_check = [\"SN1999dn\", ## No Turnover (in B)\n",
    "\"SN2004aw\", ## No B Turnover\n",
    "\"SN2009er\", ## No B-Band Turnover\n",
    "\"SN2011fu\", ## Two Peaks\n",
    "\"SN2013ge\", ## BADå\n",
    "\n",
    "\"iPTF13bvn\"] ## SDSS_R/I BAND\n",
    "\n",
    "for snname in sn_to_check:\n",
    "    sn = pcc.classes.SNClass(snname)\n",
    "    sn.load_phot( path = os.path.join(pcc.defaults._default_data_dir_path, \"lc/\"+ snname + \".dat\"))\n",
    "    try:\n",
    "        sn.load_list(os.path.join(pcc.defaults._default_list_dir_path, snname + \".list\"))\n",
    "    except:\n",
    "        pass\n",
    "    sn.load_spec()\n",
    "    ## Run Fit\n",
    "    if refit:\n",
    "        pcc.coco.run_LCfit(os.path.join(pcc.defaults._default_data_dir_path, \"lc/\"+snname+\".dat\"), model=\"Karpenka12\")\n",
    "    \n",
    "    sn.get_lcfit(os.path.join(pcc.defaults._default_recon_dir_path, snname + \".dat\"))\n",
    "    sn.check_overlaps()\n",
    "    print(sn.name)\n",
    "#     sn.plot_lc()    \n",
    "#     sn.plot_lc(xextent=60, savepdf=False, outpath=os.path.join(plot_out_dir, snname+\"karpenka10\"), showsnname=True)\n",
    "    sn.plot_lc(xextent=60, savepdf=save_bool, outpath=os.path.join(plot_out_dir, snname+\"_karpenka\"), showsnname=True)\n",
    "#     sn.plot_lc(xextent=60, savepdf=True, outpath=os.path.join(plot_out_dir, snname+\"_bazin09\"), showsnname=True)\n",
    "#     sn.plot_lc([\"SDSS_g\"], xextent=60, savepdf=True, outpath=os.path.join(plot_out_dir, snname+\"_kessler10\"), showsnname=True, multiplot=False)"
   ]
  },
  {
   "cell_type": "code",
   "execution_count": null,
   "metadata": {
    "collapsed": true
   },
   "outputs": [],
   "source": [
    "pcc.utils.get_max_info(sn, \"BessellB\")"
   ]
  },
  {
   "cell_type": "code",
   "execution_count": null,
   "metadata": {
    "collapsed": true
   },
   "outputs": [],
   "source": [
    "plt.scatter(sn.phot.data[\"BessellB\"][\"MJD\"], sn.phot.data[\"BessellB\"][\"flux\"] - sn.lcfit.spline[\"BessellB\"](sn.phot.data[\"BessellB\"][\"MJD\"]))"
   ]
  },
  {
   "cell_type": "code",
   "execution_count": null,
   "metadata": {
    "collapsed": true
   },
   "outputs": [],
   "source": [
    "sn = pcc.classes.SNClass(\"SN2008D\")\n",
    "sn.load_phot( path = os.path.join(pcc.defaults._default_data_dir_path, \"lc/SN2008D.dat\"))\n",
    "sn.plot_lc()"
   ]
  },
  {
   "cell_type": "code",
   "execution_count": null,
   "metadata": {
    "collapsed": true
   },
   "outputs": [],
   "source": [
    "sn = pcc.classes.SNClass(\"SN2006aj\")\n",
    "sn.load_phot( path = os.path.join(pcc.defaults._default_data_dir_path,\"lc/SN2006aj.dat\"))\n",
    "sn.load_list(os.path.join(pcc.defaults._default_list_dir_path, \"SN2006aj.list\"))\n",
    "sn.load_spec()\n",
    "# sn.check_overlaps()"
   ]
  },
  {
   "cell_type": "code",
   "execution_count": null,
   "metadata": {
    "collapsed": true
   },
   "outputs": [],
   "source": [
    "sn.get_lcfit(os.path.join(pcc.defaults._default_recon_dir_path, \"SN2006aj.dat\"))\n",
    "sn.plot_lc()"
   ]
  },
  {
   "cell_type": "code",
   "execution_count": null,
   "metadata": {
    "collapsed": true
   },
   "outputs": [],
   "source": [
    "sn.plot_spec()"
   ]
  },
  {
   "cell_type": "code",
   "execution_count": null,
   "metadata": {
    "collapsed": true
   },
   "outputs": [],
   "source": [
    "sn.load_mangledspec()\n",
    "sn.plot_mangledspec()"
   ]
  },
  {
   "cell_type": "code",
   "execution_count": null,
   "metadata": {
    "collapsed": true
   },
   "outputs": [],
   "source": []
  },
  {
   "cell_type": "code",
   "execution_count": null,
   "metadata": {
    "collapsed": true
   },
   "outputs": [],
   "source": []
  },
  {
   "cell_type": "code",
   "execution_count": null,
   "metadata": {
    "collapsed": true
   },
   "outputs": [],
   "source": []
  },
  {
   "cell_type": "code",
   "execution_count": null,
   "metadata": {
    "collapsed": true
   },
   "outputs": [],
   "source": []
  },
  {
   "cell_type": "code",
   "execution_count": null,
   "metadata": {
    "collapsed": true
   },
   "outputs": [],
   "source": []
  },
  {
   "cell_type": "code",
   "execution_count": null,
   "metadata": {
    "collapsed": true,
    "scrolled": true
   },
   "outputs": [],
   "source": [
    "# snname = \"SN1993J\" ## POOR FIT IN B\n",
    "# snname = \"SN1994I\" ## data/spec/SN1994I/1994I_6.69.txt is too short\n",
    "# snname = \"SN1996cb\"## Good - best example of uncertainties\n",
    "# snname = \"SN1998bw\"\n",
    "# snname = \"SN1999dn\"## Poor fit in B - unconstrained rise\n",
    "# snname = \"SN2002ap\"## Poor fit post-max in B\n",
    "# snname = \"SN2003jd\"\n",
    "# snname = \"SN2004aw\"## Poor fit in B - unconstrained rise\n",
    "# snname = \"SN2005bf\"## Weirdo - not bad fit, but not great\n",
    "snname = \"SN2005hg\"## Poor I-spectra\n",
    "# snname = \"SN2006aj\"## Good even with bump in R\n",
    "# snname = \"SN2007C\" ## Good - Sparse phot pre max\n",
    "# snname = \"SN2007Y\"\n",
    "# snname = \"SN2007uy\"## Perfect!\n",
    "# snname = \"SN2007gr\"## Poor fit to B-band post-peak\n",
    "# snname = \"SN2008D\" ## Early bump drives fit - poor around peak\n",
    "# snname = \"SN2008bo\"\n",
    "# snname = \"SN2008ax\"## Poor fit around peak\n",
    "# snname = \"SN2009bb\"\n",
    "# snname = \"SN2009er\"## poor fit - NO PRE-MAX BESSELLB\n",
    "# snname = \"SN2009iz\"\n",
    "# snname = \"SN2009jf\"\n",
    "# snname = \"SN2010al\" \n",
    "# snname = \"SN2010as\"## NEED LIST FILE AND SPEC CALIBRATED\n",
    "# snname = \"SN2011bm\"\n",
    "# snname = \"SN2011dh\"## poor fit around peak\n",
    "# snname = \"SN2011ei\"## B blows up\n",
    "# snname = \"SN2011fu\" ## Huge pre-max burst missed in all bands, phot uncertainties too small\n",
    "# snname = \"SN2012ap\"\n",
    "# snname = \"SN2013ge\"## poor fit in B, r, i\n",
    "\n",
    "sn = pcc.classes.SNClass(snname)\n",
    "sn.load_phot( path = \"/Users/berto/Code/CoCo/data/lc/\" + snname + \".dat\")\n",
    "sn.load_list(\"/Users/berto/Code/CoCo/lists/\" + snname + \".list\")\n",
    "# sn.load_spec()\n",
    "sn.check_overlaps()\n",
    "print(sn.name)"
   ]
  },
  {
   "cell_type": "code",
   "execution_count": null,
   "metadata": {
    "collapsed": true,
    "scrolled": false
   },
   "outputs": [],
   "source": [
    "sn.get_lcfit(\"/Users/berto/Code/CoCo/recon/\" + snname + \".dat\")\n",
    "sn.plot_lc(xextent=60)"
   ]
  },
  {
   "cell_type": "code",
   "execution_count": null,
   "metadata": {
    "collapsed": true
   },
   "outputs": [],
   "source": []
  },
  {
   "cell_type": "code",
   "execution_count": null,
   "metadata": {
    "collapsed": true,
    "scrolled": true
   },
   "outputs": [],
   "source": [
    "# sn.plot_spec()"
   ]
  },
  {
   "cell_type": "code",
   "execution_count": null,
   "metadata": {
    "collapsed": true
   },
   "outputs": [],
   "source": [
    "# sn.load_mangledspec(verbose = True)"
   ]
  },
  {
   "cell_type": "code",
   "execution_count": null,
   "metadata": {
    "collapsed": true
   },
   "outputs": [],
   "source": [
    "# sn.plot_mangledspec()"
   ]
  },
  {
   "cell_type": "code",
   "execution_count": null,
   "metadata": {
    "collapsed": true
   },
   "outputs": [],
   "source": [
    "# for s in sn._mangledspeclist:\n",
    "#     print(s)"
   ]
  },
  {
   "cell_type": "code",
   "execution_count": null,
   "metadata": {
    "collapsed": true
   },
   "outputs": [],
   "source": [
    "# sn.mangledspec[\"SN1994I_49457.990000.spec\"].plot()"
   ]
  },
  {
   "cell_type": "code",
   "execution_count": null,
   "metadata": {
    "collapsed": true
   },
   "outputs": [],
   "source": [
    "# specobj.data.meta['comments']"
   ]
  },
  {
   "cell_type": "code",
   "execution_count": null,
   "metadata": {
    "collapsed": true
   },
   "outputs": [],
   "source": [
    "reload(pcc.classes)"
   ]
  },
  {
   "cell_type": "code",
   "execution_count": null,
   "metadata": {
    "scrolled": false
   },
   "outputs": [],
   "source": [
    "snname = \"SN2011dh\"## poor fit in B, r, i\n",
    "\n",
    "sn = pcc.classes.SNClass(snname)\n",
    "sn.load_phot( path = \"/Users/berto/Code/CoCo/data/lc/\" + snname + \".dat\")\n",
    "sn.load_list(\"/Users/berto/Code/CoCo/lists/\" + snname + \".list\")\n",
    "sn.load_spec()\n",
    "sn.check_overlaps()\n",
    "print(sn.name)\n",
    "sn.load_mangledspec(verbose = True)"
   ]
  },
  {
   "cell_type": "code",
   "execution_count": null,
   "metadata": {},
   "outputs": [],
   "source": [
    "sn.mangledspec"
   ]
  },
  {
   "cell_type": "code",
   "execution_count": null,
   "metadata": {
    "scrolled": false
   },
   "outputs": [],
   "source": [
    "sn.plot_mangledspec(verbose=True)"
   ]
  },
  {
   "cell_type": "code",
   "execution_count": null,
   "metadata": {
    "collapsed": true
   },
   "outputs": [],
   "source": [
    "sn.mangledspec['SN2011dh_55778.930000.spec'].set_MJD_obs("
   ]
  },
  {
   "cell_type": "code",
   "execution_count": null,
   "metadata": {
    "collapsed": true
   },
   "outputs": [],
   "source": [
    "snname = \"SN2009er\"## poor fit in B, r, i\n",
    "\n",
    "sn = pcc.classes.SNClass(snname)\n",
    "sn.load_phot( path = \"/Users/berto/Code/CoCo/data/lc/\" + snname + \".dat\")\n",
    "sn.load_list(\"/Users/berto/Code/CoCo/lists/\" + snname + \".list\")\n",
    "sn.load_spec()\n",
    "sn.check_overlaps()\n",
    "print(sn.name)\n",
    "sn.load_mangledspec()"
   ]
  },
  {
   "cell_type": "code",
   "execution_count": null,
   "metadata": {
    "collapsed": true
   },
   "outputs": [],
   "source": [
    "sn.plot_mangledspec()"
   ]
  },
  {
   "cell_type": "code",
   "execution_count": null,
   "metadata": {
    "collapsed": true
   },
   "outputs": [],
   "source": []
  },
  {
   "cell_type": "code",
   "execution_count": null,
   "metadata": {
    "collapsed": true
   },
   "outputs": [],
   "source": []
  },
  {
   "cell_type": "code",
   "execution_count": null,
   "metadata": {
    "collapsed": true
   },
   "outputs": [],
   "source": []
  },
  {
   "cell_type": "code",
   "execution_count": null,
   "metadata": {
    "collapsed": true
   },
   "outputs": [],
   "source": []
  },
  {
   "cell_type": "code",
   "execution_count": null,
   "metadata": {
    "collapsed": true
   },
   "outputs": [],
   "source": []
  },
  {
   "cell_type": "code",
   "execution_count": null,
   "metadata": {
    "collapsed": true
   },
   "outputs": [],
   "source": []
  },
  {
   "cell_type": "code",
   "execution_count": null,
   "metadata": {
    "collapsed": true
   },
   "outputs": [],
   "source": [
    "\n",
    "# filenamedat = \"/Users/berto/data/DES/des_real_01250017_smp_data.dat\"\n"
   ]
  },
  {
   "cell_type": "code",
   "execution_count": null,
   "metadata": {
    "collapsed": true
   },
   "outputs": [],
   "source": []
  }
 ],
 "metadata": {
  "anaconda-cloud": {},
  "kernelspec": {
   "display_name": "Python 3",
   "language": "python",
   "name": "python3"
  },
  "language_info": {
   "codemirror_mode": {
    "name": "ipython",
    "version": 3
   },
   "file_extension": ".py",
   "mimetype": "text/x-python",
   "name": "python",
   "nbconvert_exporter": "python",
   "pygments_lexer": "ipython3",
   "version": "3.6.2"
  }
 },
 "nbformat": 4,
 "nbformat_minor": 1
}
