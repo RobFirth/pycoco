{
 "cells": [
  {
   "cell_type": "markdown",
   "metadata": {
    "collapsed": true
   },
   "source": [
    "## **`pycoco`** Demo\n",
    "___\n",
    "\n",
    "This notebook will go through adding a SN to the CoCo template framework."
   ]
  },
  {
   "cell_type": "code",
   "execution_count": 1,
   "metadata": {
    "collapsed": true
   },
   "outputs": [],
   "source": [
    "# %matplotlib inline\n",
    "%matplotlib notebook\n",
    "\n",
    "try:\n",
    "    reload  # Python 2.7\n",
    "except NameError:\n",
    "    try:\n",
    "        from importlib import reload  # Python 3.4+\n",
    "    except ImportError:\n",
    "        from imp import reload  # Python 3.0 - 3.3\n",
    "        \n",
    "from matplotlib import pyplot as plt\n",
    "from matplotlib import rc\n",
    "rc('text', usetex=True)\n",
    "\n",
    "import os\n",
    "import json\n",
    "import copy\n",
    "import numpy as np\n",
    "from astropy.table import Table, Column\n",
    "from collections import OrderedDict\n",
    "\n",
    "import pycoco as pcc"
   ]
  },
  {
   "cell_type": "markdown",
   "metadata": {},
   "source": [
    "## Download SN\n",
    "---\n",
    "The example that I will go through is probably the simplest one - from a JSON that I have downloaded from http://sne.space contaning the information for SN2015U."
   ]
  },
  {
   "cell_type": "code",
   "execution_count": 2,
   "metadata": {
    "collapsed": false
   },
   "outputs": [],
   "source": [
    "data_dir = \"/Users/berto/data/CoreCollapse/SNe/\" ## Change this to the directory location of the json\n",
    "# out_data_dir = \"/Users/berto/data/CoreCollapse/data/\"\n",
    "out_data_dir = pcc.defaults._default_data_dir_path\n",
    "\n",
    "snname = \"SN2015U\"\n",
    "path = os.path.join(data_dir, \"SN2015U.json\")\n",
    "\n",
    "sndict = json.load(open(path, 'r'))[snname]"
   ]
  },
  {
   "cell_type": "markdown",
   "metadata": {},
   "source": [
    "The `json` file contains quite a bit of information"
   ]
  },
  {
   "cell_type": "code",
   "execution_count": 3,
   "metadata": {
    "collapsed": false
   },
   "outputs": [
    {
     "data": {
      "text/plain": [
       "dict_keys(['schema', 'name', 'sources', 'alias', 'claimedtype', 'comovingdist', 'dec', 'discoverdate', 'discoverer', 'ebv', 'host', 'hostdec', 'hostoffsetang', 'hostoffsetdist', 'hostra', 'hostvelocity', 'lumdist', 'maxabsmag', 'maxappmag', 'maxband', 'maxdate', 'maxvisualabsmag', 'maxvisualappmag', 'maxvisualband', 'maxvisualdate', 'ra', 'redshift', 'velocity', 'photometry', 'spectra'])"
      ]
     },
     "execution_count": 3,
     "metadata": {},
     "output_type": "execute_result"
    }
   ],
   "source": [
    "sndict.keys()"
   ]
  },
  {
   "cell_type": "code",
   "execution_count": 4,
   "metadata": {
    "collapsed": false
   },
   "outputs": [
    {
     "data": {
      "text/plain": [
       "'0.01379'"
      ]
     },
     "execution_count": 4,
     "metadata": {},
     "output_type": "execute_result"
    }
   ],
   "source": [
    "sndict[\"redshift\"][0][\"value\"]"
   ]
  },
  {
   "cell_type": "markdown",
   "metadata": {},
   "source": [
    "## Spectra\n",
    "----\n",
    "How many Spectra do we have?"
   ]
  },
  {
   "cell_type": "code",
   "execution_count": 5,
   "metadata": {
    "collapsed": false
   },
   "outputs": [
    {
     "data": {
      "text/plain": [
       "21"
      ]
     },
     "execution_count": 5,
     "metadata": {},
     "output_type": "execute_result"
    }
   ],
   "source": [
    "len(sndict[\"spectra\"])"
   ]
  },
  {
   "cell_type": "code",
   "execution_count": 6,
   "metadata": {
    "collapsed": true
   },
   "outputs": [],
   "source": [
    "S1 = sndict[\"spectra\"][0]"
   ]
  },
  {
   "cell_type": "code",
   "execution_count": 7,
   "metadata": {
    "collapsed": false
   },
   "outputs": [
    {
     "data": {
      "text/plain": [
       "dict_keys(['time', 'filename', 'instrument', 'observer', 'reducer', 'snr', 'u_errors', 'u_fluxes', 'u_time', 'u_wavelengths', 'data', 'source'])"
      ]
     },
     "execution_count": 7,
     "metadata": {},
     "output_type": "execute_result"
    }
   ],
   "source": [
    "S1.keys()"
   ]
  },
  {
   "cell_type": "code",
   "execution_count": 8,
   "metadata": {
    "collapsed": true
   },
   "outputs": [],
   "source": [
    "w = np.array(S1[\"data\"], dtype=np.float64).T[0]\n",
    "f = np.array(S1[\"data\"], dtype=np.float64).T[1]"
   ]
  },
  {
   "cell_type": "code",
   "execution_count": 9,
   "metadata": {
    "collapsed": false
   },
   "outputs": [
    {
     "data": {
      "text/plain": [
       "array([ 0.17578192,  0.24098685,  0.15754801, ...,  0.15758722,\n",
       "        0.14430489,  0.1320765 ])"
      ]
     },
     "execution_count": 9,
     "metadata": {},
     "output_type": "execute_result"
    }
   ],
   "source": [
    "f"
   ]
  },
  {
   "cell_type": "code",
   "execution_count": 10,
   "metadata": {
    "collapsed": true
   },
   "outputs": [],
   "source": [
    "from astropy.table import Table, Column, Row\n",
    "import astropy.units as u"
   ]
  },
  {
   "cell_type": "code",
   "execution_count": 11,
   "metadata": {
    "collapsed": true
   },
   "outputs": [],
   "source": [
    "wavelength = Column(w, name = (\"wavelength\"), unit=u.Angstrom)\n",
    "flux = Column(f, name = (\"flux\"), unit=u.cgs.erg / u.si.cm ** 2 / u.si.s / u.angstrom)"
   ]
  },
  {
   "cell_type": "code",
   "execution_count": 12,
   "metadata": {
    "collapsed": false
   },
   "outputs": [
    {
     "data": {
      "text/html": [
       "&lt;Table length=3680&gt;\n",
       "<table id=\"table4655428832\" class=\"table-striped table-bordered table-condensed\">\n",
       "<thead><tr><th>wavelength</th><th>flux</th></tr></thead>\n",
       "<thead><tr><th>Angstrom</th><th>erg / (Angstrom cm2 s)</th></tr></thead>\n",
       "<thead><tr><th>float64</th><th>float64</th></tr></thead>\n",
       "<tr><td>3440.0</td><td>0.17578192</td></tr>\n",
       "<tr><td>3442.0</td><td>0.24098685</td></tr>\n",
       "<tr><td>3444.0</td><td>0.15754801</td></tr>\n",
       "<tr><td>3446.0</td><td>0.1271165</td></tr>\n",
       "<tr><td>3448.0</td><td>0.16798687</td></tr>\n",
       "<tr><td>3450.0</td><td>0.15301467</td></tr>\n",
       "<tr><td>3452.0</td><td>0.11438128</td></tr>\n",
       "<tr><td>3454.0</td><td>0.14230451</td></tr>\n",
       "<tr><td>3456.0</td><td>0.18006554</td></tr>\n",
       "<tr><td>...</td><td>...</td></tr>\n",
       "<tr><td>10852.0</td><td>0.24701688</td></tr>\n",
       "<tr><td>10854.0</td><td>0.25830618</td></tr>\n",
       "<tr><td>10856.0</td><td>0.23047128</td></tr>\n",
       "<tr><td>10858.0</td><td>0.19340973</td></tr>\n",
       "<tr><td>10860.0</td><td>0.18078496</td></tr>\n",
       "<tr><td>10862.0</td><td>0.18116309</td></tr>\n",
       "<tr><td>10864.0</td><td>0.17143889</td></tr>\n",
       "<tr><td>10866.0</td><td>0.15758722</td></tr>\n",
       "<tr><td>10868.0</td><td>0.14430489</td></tr>\n",
       "<tr><td>10870.0</td><td>0.1320765</td></tr>\n",
       "</table>"
      ],
      "text/plain": [
       "<Table length=3680>\n",
       "wavelength          flux         \n",
       " Angstrom  erg / (Angstrom cm2 s)\n",
       " float64          float64        \n",
       "---------- ----------------------\n",
       "    3440.0             0.17578192\n",
       "    3442.0             0.24098685\n",
       "    3444.0             0.15754801\n",
       "    3446.0              0.1271165\n",
       "    3448.0             0.16798687\n",
       "    3450.0             0.15301467\n",
       "    3452.0             0.11438128\n",
       "    3454.0             0.14230451\n",
       "    3456.0             0.18006554\n",
       "       ...                    ...\n",
       "   10852.0             0.24701688\n",
       "   10854.0             0.25830618\n",
       "   10856.0             0.23047128\n",
       "   10858.0             0.19340973\n",
       "   10860.0             0.18078496\n",
       "   10862.0             0.18116309\n",
       "   10864.0             0.17143889\n",
       "   10866.0             0.15758722\n",
       "   10868.0             0.14430489\n",
       "   10870.0              0.1320765"
      ]
     },
     "execution_count": 12,
     "metadata": {},
     "output_type": "execute_result"
    }
   ],
   "source": [
    "Table([wavelength, flux])"
   ]
  },
  {
   "cell_type": "code",
   "execution_count": 13,
   "metadata": {
    "collapsed": false
   },
   "outputs": [
    {
     "name": "stdout",
     "output_type": "stream",
     "text": [
      "57068.3 psn0728+3349-20150215.256-ui.flm\n",
      "57068.3 psn0728+3349.gal-20150215.256-ui.flm\n",
      "57070.0 PSNJ07285387p3349106_20150217_Ekar182_AFOSC_cal.ascii\n",
      "57070.0 SN2015U_2015-02-17_20:01:56_Asiago.ascii\n",
      "57071.0 PSNJ07285387p3349106_20150218_Ekar182_AFOSC_cal.ascii\n",
      "57071.2 psn0728+3349-20150218.211-ir.flm\n",
      "57071.2 psn0728+3349.gal-20150218.211-ir.flm\n",
      "57072.0 PSNJ07285387p3349106_20150219_Ekar182_AFOSC_cal.ascii\n",
      "57074.2 psn0728+3349-20150221.207-ui.flm\n",
      "57074.2 psn0728+3349.gal-20150221.207-ui.flm\n",
      "57074.2 psn0728+3349.sn+gal-20150221.207-ui.flm\n",
      "57075.0 PSNJ07285387p3349106_20150222_NOT_ALFOSC_cal.ascii\n",
      "57076.0 PSNJ07285387p3349106_20150223_TNG_LRS_cal.ascii\n",
      "57077.2 psn0728+3349-20150224.224-ui.flm\n",
      "57077.4 psn0728+3349-20150224.414-uh.flm\n",
      "57078.0 PSNJ07285387p3349106_20150225_TNG_LRS_cal.ascii\n",
      "57078.2 psn0728+3349-20150225.171-ui.flm\n",
      "57080.3 psn0728+3349-20150227.34.deimos.flm\n",
      "57081.0 PSNJ07285387p3349106_20150228_TNG_LRS_cal.ascii\n",
      "57084.0 PSNJ07285387p3349106_20150303_NOT_ALFOSC_cal.ascii\n",
      "57092.0 PSNJ07285387p3349106_20150311_NOT_ALFOSC_cal.ascii\n"
     ]
    }
   ],
   "source": [
    "spec_dict_list = sndict[\"spectra\"]\n",
    "for s in spec_dict_list:\n",
    "    print(s[\"time\"], s[\"filename\"])"
   ]
  },
  {
   "cell_type": "markdown",
   "metadata": {},
   "source": [
    "## Duplicates\n",
    "---\n",
    "\n",
    "There are a number of duplicates, some with extra calibration steps etc."
   ]
  },
  {
   "cell_type": "code",
   "execution_count": 14,
   "metadata": {
    "collapsed": false
   },
   "outputs": [
    {
     "data": {
      "text/plain": [
       "False"
      ]
     },
     "execution_count": 14,
     "metadata": {},
     "output_type": "execute_result"
    }
   ],
   "source": [
    "len(np.unique([s[\"time\"] for s in spec_dict_list])) == len(spec_dict_list)"
   ]
  },
  {
   "cell_type": "markdown",
   "metadata": {},
   "source": [
    "Taking a look at the filenames, I'll skip over the following (one of the duplicate MJDs seems to be a genuine concurrent observation)"
   ]
  },
  {
   "cell_type": "code",
   "execution_count": 15,
   "metadata": {
    "collapsed": false
   },
   "outputs": [],
   "source": [
    "skip_spec = [\"psn0728+3349.gal-20150215.256-ui.flm\",\n",
    "             \"psn0728+3349.gal-20150218.211-ir.flm\",\n",
    "             \"psn0728+3349.gal-20150221.207-ui.flm\",\n",
    "             \"psn0728+3349.sn+gal-20150221.207-ui.flm\"]"
   ]
  },
  {
   "cell_type": "code",
   "execution_count": 16,
   "metadata": {
    "collapsed": false
   },
   "outputs": [
    {
     "name": "stdout",
     "output_type": "stream",
     "text": [
      "there are  17 spectra\n"
     ]
    }
   ],
   "source": [
    "out_dict = OrderedDict()\n",
    "\n",
    "uncombined=np.array([])\n",
    "spec_filenames = [spec[\"filename\"] for spec in sndict[\"spectra\"]]\n",
    "# print(spec_filenames)\n",
    "spec_dir = os.path.join(out_data_dir, \"spec/SN2015U/\")\n",
    "\n",
    "# if not os.path.isdir(os.path.abspath(os.path.join(spec_dir, os.path.pardir))):\n",
    "#     os.mkdir(os.path.abspath(os.path.join(spec_dir, os.path.pardir)))\n",
    "if not os.path.isdir(spec_dir):\n",
    "    os.makedirs(spec_dir)\n",
    "    \n",
    "good_spec_filenames = [spec for spec in spec_filenames if spec not in skip_spec]\n",
    "\n",
    "print(\"there are \", len(good_spec_filenames), \"spectra\")"
   ]
  },
  {
   "cell_type": "markdown",
   "metadata": {
    "collapsed": false,
    "scrolled": false
   },
   "source": [
    "## Moving to **`pycoco`**\n",
    "___\n",
    "Now we have identified the good spectra, we can load them into `pycoco` format"
   ]
  },
  {
   "cell_type": "code",
   "execution_count": 17,
   "metadata": {
    "collapsed": false,
    "scrolled": false
   },
   "outputs": [
    {
     "name": "stdout",
     "output_type": "stream",
     "text": [
      "psn0728+3349-20150215.256-ui.flm\n",
      "0\n",
      "/Users/berto/Code/CoCo/data/spec/SN2015U/psn0728+3349-20150215.256-ui.flm\n",
      "has data\n",
      "redshift  0.01379\n",
      "57068.3\n"
     ]
    },
    {
     "name": "stderr",
     "output_type": "stream",
     "text": [
      "/Users/berto/Code/verbose-enigma/pycoco/classes.py:490: UserWarning: Found existing file matching /Users/berto/Code/CoCo/data/spec/SN2015U/psn0728+3349-20150215.256-ui.flm. Run with squash = True to overwrite\n",
      "  filename) + \". Run with squash = True to overwrite\")\n"
     ]
    },
    {
     "data": {
      "text/plain": [
       "<IPython.core.display.Javascript object>"
      ]
     },
     "metadata": {},
     "output_type": "display_data"
    },
    {
     "data": {
      "text/html": [
       "<div id='9090d0a5-ebcd-4792-bd07-fa28060aa038'></div>"
      ],
      "text/plain": [
       "<IPython.core.display.HTML object>"
      ]
     },
     "metadata": {},
     "output_type": "execute_result"
    },
    {
     "name": "stdout",
     "output_type": "stream",
     "text": [
      "PSNJ07285387p3349106_20150217_Ekar182_AFOSC_cal.ascii\n",
      "2\n",
      "/Users/berto/Code/CoCo/data/spec/SN2015U/PSNJ07285387p3349106_20150217_Ekar182_AFOSC_cal.ascii\n",
      "has data\n",
      "redshift  0.01379\n",
      "57070.0\n"
     ]
    },
    {
     "name": "stderr",
     "output_type": "stream",
     "text": [
      "/Users/berto/Code/verbose-enigma/pycoco/classes.py:490: UserWarning: Found existing file matching /Users/berto/Code/CoCo/data/spec/SN2015U/PSNJ07285387p3349106_20150217_Ekar182_AFOSC_cal.ascii. Run with squash = True to overwrite\n",
      "  filename) + \". Run with squash = True to overwrite\")\n"
     ]
    },
    {
     "data": {
      "text/plain": [
       "<IPython.core.display.Javascript object>"
      ]
     },
     "metadata": {},
     "output_type": "display_data"
    },
    {
     "data": {
      "text/html": [
       "<div id='3eb7efab-949a-4f0b-a35c-d8c3453fadf0'></div>"
      ],
      "text/plain": [
       "<IPython.core.display.HTML object>"
      ]
     },
     "metadata": {},
     "output_type": "execute_result"
    },
    {
     "name": "stdout",
     "output_type": "stream",
     "text": [
      "SN2015U_2015-02-17_20:01:56_Asiago.ascii\n",
      "3\n",
      "/Users/berto/Code/CoCo/data/spec/SN2015U/SN2015U_2015-02-17_20:01:56_Asiago.ascii\n",
      "has data\n",
      "redshift  0.01379\n",
      "57070.0\n"
     ]
    },
    {
     "name": "stderr",
     "output_type": "stream",
     "text": [
      "/Users/berto/Code/verbose-enigma/pycoco/classes.py:490: UserWarning: Found existing file matching /Users/berto/Code/CoCo/data/spec/SN2015U/SN2015U_2015-02-17_20:01:56_Asiago.ascii. Run with squash = True to overwrite\n",
      "  filename) + \". Run with squash = True to overwrite\")\n"
     ]
    },
    {
     "data": {
      "text/plain": [
       "<IPython.core.display.Javascript object>"
      ]
     },
     "metadata": {},
     "output_type": "display_data"
    },
    {
     "data": {
      "text/html": [
       "<div id='e5ce890f-a775-4440-89b6-d737e47cd815'></div>"
      ],
      "text/plain": [
       "<IPython.core.display.HTML object>"
      ]
     },
     "metadata": {},
     "output_type": "execute_result"
    },
    {
     "name": "stdout",
     "output_type": "stream",
     "text": [
      "PSNJ07285387p3349106_20150218_Ekar182_AFOSC_cal.ascii\n",
      "4\n",
      "/Users/berto/Code/CoCo/data/spec/SN2015U/PSNJ07285387p3349106_20150218_Ekar182_AFOSC_cal.ascii\n",
      "has data\n",
      "redshift  0.01379\n",
      "57071.0\n"
     ]
    },
    {
     "name": "stderr",
     "output_type": "stream",
     "text": [
      "/Users/berto/Code/verbose-enigma/pycoco/classes.py:490: UserWarning: Found existing file matching /Users/berto/Code/CoCo/data/spec/SN2015U/PSNJ07285387p3349106_20150218_Ekar182_AFOSC_cal.ascii. Run with squash = True to overwrite\n",
      "  filename) + \". Run with squash = True to overwrite\")\n"
     ]
    },
    {
     "data": {
      "text/plain": [
       "<IPython.core.display.Javascript object>"
      ]
     },
     "metadata": {},
     "output_type": "display_data"
    },
    {
     "data": {
      "text/html": [
       "<div id='24280679-eb33-4495-85b3-d6d36fcc01fd'></div>"
      ],
      "text/plain": [
       "<IPython.core.display.HTML object>"
      ]
     },
     "metadata": {},
     "output_type": "execute_result"
    },
    {
     "name": "stdout",
     "output_type": "stream",
     "text": [
      "psn0728+3349-20150218.211-ir.flm\n",
      "5\n",
      "/Users/berto/Code/CoCo/data/spec/SN2015U/psn0728+3349-20150218.211-ir.flm\n",
      "has data\n",
      "redshift  0.01379\n",
      "57071.2\n"
     ]
    },
    {
     "name": "stderr",
     "output_type": "stream",
     "text": [
      "/Users/berto/Code/verbose-enigma/pycoco/classes.py:490: UserWarning: Found existing file matching /Users/berto/Code/CoCo/data/spec/SN2015U/psn0728+3349-20150218.211-ir.flm. Run with squash = True to overwrite\n",
      "  filename) + \". Run with squash = True to overwrite\")\n"
     ]
    },
    {
     "data": {
      "text/plain": [
       "<IPython.core.display.Javascript object>"
      ]
     },
     "metadata": {},
     "output_type": "display_data"
    },
    {
     "data": {
      "text/html": [
       "<div id='5a1273b5-dc48-48a5-9b64-60bb90256cdc'></div>"
      ],
      "text/plain": [
       "<IPython.core.display.HTML object>"
      ]
     },
     "metadata": {},
     "output_type": "execute_result"
    },
    {
     "name": "stdout",
     "output_type": "stream",
     "text": [
      "PSNJ07285387p3349106_20150219_Ekar182_AFOSC_cal.ascii\n",
      "7\n",
      "/Users/berto/Code/CoCo/data/spec/SN2015U/PSNJ07285387p3349106_20150219_Ekar182_AFOSC_cal.ascii\n",
      "has data\n",
      "redshift  0.01379\n",
      "57072.0\n"
     ]
    },
    {
     "name": "stderr",
     "output_type": "stream",
     "text": [
      "/Users/berto/Code/verbose-enigma/pycoco/classes.py:490: UserWarning: Found existing file matching /Users/berto/Code/CoCo/data/spec/SN2015U/PSNJ07285387p3349106_20150219_Ekar182_AFOSC_cal.ascii. Run with squash = True to overwrite\n",
      "  filename) + \". Run with squash = True to overwrite\")\n"
     ]
    },
    {
     "data": {
      "text/plain": [
       "<IPython.core.display.Javascript object>"
      ]
     },
     "metadata": {},
     "output_type": "display_data"
    },
    {
     "data": {
      "text/html": [
       "<div id='2b6319a7-8a46-4b54-8b95-3eef572d899e'></div>"
      ],
      "text/plain": [
       "<IPython.core.display.HTML object>"
      ]
     },
     "metadata": {},
     "output_type": "execute_result"
    },
    {
     "name": "stdout",
     "output_type": "stream",
     "text": [
      "psn0728+3349-20150221.207-ui.flm\n",
      "8\n",
      "/Users/berto/Code/CoCo/data/spec/SN2015U/psn0728+3349-20150221.207-ui.flm\n",
      "has data\n",
      "redshift  0.01379\n",
      "57074.2\n"
     ]
    },
    {
     "name": "stderr",
     "output_type": "stream",
     "text": [
      "/Users/berto/Code/verbose-enigma/pycoco/classes.py:490: UserWarning: Found existing file matching /Users/berto/Code/CoCo/data/spec/SN2015U/psn0728+3349-20150221.207-ui.flm. Run with squash = True to overwrite\n",
      "  filename) + \". Run with squash = True to overwrite\")\n"
     ]
    },
    {
     "data": {
      "text/plain": [
       "<IPython.core.display.Javascript object>"
      ]
     },
     "metadata": {},
     "output_type": "display_data"
    },
    {
     "data": {
      "text/html": [
       "<div id='b439a940-2162-4481-ac9d-16b8fc62e399'></div>"
      ],
      "text/plain": [
       "<IPython.core.display.HTML object>"
      ]
     },
     "metadata": {},
     "output_type": "execute_result"
    },
    {
     "name": "stdout",
     "output_type": "stream",
     "text": [
      "PSNJ07285387p3349106_20150222_NOT_ALFOSC_cal.ascii\n",
      "11\n",
      "/Users/berto/Code/CoCo/data/spec/SN2015U/PSNJ07285387p3349106_20150222_NOT_ALFOSC_cal.ascii\n",
      "has data\n",
      "redshift  0.01379\n",
      "57075.0\n"
     ]
    },
    {
     "name": "stderr",
     "output_type": "stream",
     "text": [
      "/Users/berto/Code/verbose-enigma/pycoco/classes.py:490: UserWarning: Found existing file matching /Users/berto/Code/CoCo/data/spec/SN2015U/PSNJ07285387p3349106_20150222_NOT_ALFOSC_cal.ascii. Run with squash = True to overwrite\n",
      "  filename) + \". Run with squash = True to overwrite\")\n"
     ]
    },
    {
     "data": {
      "text/plain": [
       "<IPython.core.display.Javascript object>"
      ]
     },
     "metadata": {},
     "output_type": "display_data"
    },
    {
     "data": {
      "text/html": [
       "<div id='49d5935f-a09a-450e-b6fb-d0d512b3620c'></div>"
      ],
      "text/plain": [
       "<IPython.core.display.HTML object>"
      ]
     },
     "metadata": {},
     "output_type": "execute_result"
    },
    {
     "name": "stdout",
     "output_type": "stream",
     "text": [
      "PSNJ07285387p3349106_20150223_TNG_LRS_cal.ascii\n",
      "12\n",
      "/Users/berto/Code/CoCo/data/spec/SN2015U/PSNJ07285387p3349106_20150223_TNG_LRS_cal.ascii\n",
      "has data\n",
      "redshift  0.01379\n",
      "57076.0\n"
     ]
    },
    {
     "name": "stderr",
     "output_type": "stream",
     "text": [
      "/Users/berto/Code/verbose-enigma/pycoco/classes.py:490: UserWarning: Found existing file matching /Users/berto/Code/CoCo/data/spec/SN2015U/PSNJ07285387p3349106_20150223_TNG_LRS_cal.ascii. Run with squash = True to overwrite\n",
      "  filename) + \". Run with squash = True to overwrite\")\n"
     ]
    },
    {
     "data": {
      "text/plain": [
       "<IPython.core.display.Javascript object>"
      ]
     },
     "metadata": {},
     "output_type": "display_data"
    },
    {
     "data": {
      "text/html": [
       "<div id='1891ff80-f063-4694-b42a-c6c8a680c15f'></div>"
      ],
      "text/plain": [
       "<IPython.core.display.HTML object>"
      ]
     },
     "metadata": {},
     "output_type": "execute_result"
    },
    {
     "name": "stdout",
     "output_type": "stream",
     "text": [
      "psn0728+3349-20150224.224-ui.flm\n",
      "13\n",
      "/Users/berto/Code/CoCo/data/spec/SN2015U/psn0728+3349-20150224.224-ui.flm\n",
      "has data\n",
      "redshift  0.01379\n",
      "57077.2\n"
     ]
    },
    {
     "name": "stderr",
     "output_type": "stream",
     "text": [
      "/Users/berto/Code/verbose-enigma/pycoco/classes.py:490: UserWarning: Found existing file matching /Users/berto/Code/CoCo/data/spec/SN2015U/psn0728+3349-20150224.224-ui.flm. Run with squash = True to overwrite\n",
      "  filename) + \". Run with squash = True to overwrite\")\n"
     ]
    },
    {
     "data": {
      "text/plain": [
       "<IPython.core.display.Javascript object>"
      ]
     },
     "metadata": {},
     "output_type": "display_data"
    },
    {
     "data": {
      "text/html": [
       "<div id='b3670630-be09-4419-9b57-a98039b35ccb'></div>"
      ],
      "text/plain": [
       "<IPython.core.display.HTML object>"
      ]
     },
     "metadata": {},
     "output_type": "execute_result"
    },
    {
     "name": "stdout",
     "output_type": "stream",
     "text": [
      "psn0728+3349-20150224.414-uh.flm\n",
      "14\n",
      "/Users/berto/Code/CoCo/data/spec/SN2015U/psn0728+3349-20150224.414-uh.flm\n",
      "has data\n",
      "redshift  0.01379\n",
      "57077.4\n"
     ]
    },
    {
     "name": "stderr",
     "output_type": "stream",
     "text": [
      "/Users/berto/Code/verbose-enigma/pycoco/classes.py:490: UserWarning: Found existing file matching /Users/berto/Code/CoCo/data/spec/SN2015U/psn0728+3349-20150224.414-uh.flm. Run with squash = True to overwrite\n",
      "  filename) + \". Run with squash = True to overwrite\")\n"
     ]
    },
    {
     "data": {
      "text/plain": [
       "<IPython.core.display.Javascript object>"
      ]
     },
     "metadata": {},
     "output_type": "display_data"
    },
    {
     "data": {
      "text/html": [
       "<div id='105e6ba8-a611-4298-b8e8-ae9aa6a704f1'></div>"
      ],
      "text/plain": [
       "<IPython.core.display.HTML object>"
      ]
     },
     "metadata": {},
     "output_type": "execute_result"
    },
    {
     "name": "stdout",
     "output_type": "stream",
     "text": [
      "PSNJ07285387p3349106_20150225_TNG_LRS_cal.ascii\n",
      "15\n",
      "/Users/berto/Code/CoCo/data/spec/SN2015U/PSNJ07285387p3349106_20150225_TNG_LRS_cal.ascii\n",
      "has data\n",
      "redshift  0.01379\n",
      "57078.0\n"
     ]
    },
    {
     "name": "stderr",
     "output_type": "stream",
     "text": [
      "/Users/berto/Code/verbose-enigma/pycoco/classes.py:490: UserWarning: Found existing file matching /Users/berto/Code/CoCo/data/spec/SN2015U/PSNJ07285387p3349106_20150225_TNG_LRS_cal.ascii. Run with squash = True to overwrite\n",
      "  filename) + \". Run with squash = True to overwrite\")\n"
     ]
    },
    {
     "data": {
      "text/plain": [
       "<IPython.core.display.Javascript object>"
      ]
     },
     "metadata": {},
     "output_type": "display_data"
    },
    {
     "data": {
      "text/html": [
       "<div id='f23cd596-5824-4cbc-a3af-09e5a7835631'></div>"
      ],
      "text/plain": [
       "<IPython.core.display.HTML object>"
      ]
     },
     "metadata": {},
     "output_type": "execute_result"
    },
    {
     "name": "stdout",
     "output_type": "stream",
     "text": [
      "psn0728+3349-20150225.171-ui.flm\n",
      "16\n",
      "/Users/berto/Code/CoCo/data/spec/SN2015U/psn0728+3349-20150225.171-ui.flm\n",
      "has data\n",
      "redshift  0.01379\n",
      "57078.2\n"
     ]
    },
    {
     "name": "stderr",
     "output_type": "stream",
     "text": [
      "/Users/berto/Code/verbose-enigma/pycoco/classes.py:490: UserWarning: Found existing file matching /Users/berto/Code/CoCo/data/spec/SN2015U/psn0728+3349-20150225.171-ui.flm. Run with squash = True to overwrite\n",
      "  filename) + \". Run with squash = True to overwrite\")\n"
     ]
    },
    {
     "data": {
      "text/plain": [
       "<IPython.core.display.Javascript object>"
      ]
     },
     "metadata": {},
     "output_type": "display_data"
    },
    {
     "data": {
      "text/html": [
       "<div id='41cfa569-5e47-4c87-97d6-80bba83c23d5'></div>"
      ],
      "text/plain": [
       "<IPython.core.display.HTML object>"
      ]
     },
     "metadata": {},
     "output_type": "execute_result"
    },
    {
     "name": "stdout",
     "output_type": "stream",
     "text": [
      "psn0728+3349-20150227.34.deimos.flm\n",
      "17\n",
      "/Users/berto/Code/CoCo/data/spec/SN2015U/psn0728+3349-20150227.34.deimos.flm\n",
      "has data\n",
      "redshift  0.01379\n",
      "57080.3\n"
     ]
    },
    {
     "name": "stderr",
     "output_type": "stream",
     "text": [
      "/Users/berto/Code/verbose-enigma/pycoco/classes.py:490: UserWarning: Found existing file matching /Users/berto/Code/CoCo/data/spec/SN2015U/psn0728+3349-20150227.34.deimos.flm. Run with squash = True to overwrite\n",
      "  filename) + \". Run with squash = True to overwrite\")\n"
     ]
    },
    {
     "data": {
      "text/plain": [
       "<IPython.core.display.Javascript object>"
      ]
     },
     "metadata": {},
     "output_type": "display_data"
    },
    {
     "data": {
      "text/html": [
       "<div id='eca7c25f-d919-42eb-81b0-1f08c5f62222'></div>"
      ],
      "text/plain": [
       "<IPython.core.display.HTML object>"
      ]
     },
     "metadata": {},
     "output_type": "execute_result"
    },
    {
     "name": "stdout",
     "output_type": "stream",
     "text": [
      "PSNJ07285387p3349106_20150228_TNG_LRS_cal.ascii\n",
      "18\n",
      "/Users/berto/Code/CoCo/data/spec/SN2015U/PSNJ07285387p3349106_20150228_TNG_LRS_cal.ascii\n",
      "has data\n",
      "redshift  0.01379\n",
      "57081.0\n"
     ]
    },
    {
     "name": "stderr",
     "output_type": "stream",
     "text": [
      "/Users/berto/Code/verbose-enigma/pycoco/classes.py:490: UserWarning: Found existing file matching /Users/berto/Code/CoCo/data/spec/SN2015U/PSNJ07285387p3349106_20150228_TNG_LRS_cal.ascii. Run with squash = True to overwrite\n",
      "  filename) + \". Run with squash = True to overwrite\")\n"
     ]
    },
    {
     "data": {
      "text/plain": [
       "<IPython.core.display.Javascript object>"
      ]
     },
     "metadata": {},
     "output_type": "display_data"
    },
    {
     "data": {
      "text/html": [
       "<div id='ba11f614-e717-4b8b-9a64-f6df203ab6e8'></div>"
      ],
      "text/plain": [
       "<IPython.core.display.HTML object>"
      ]
     },
     "metadata": {},
     "output_type": "execute_result"
    },
    {
     "name": "stdout",
     "output_type": "stream",
     "text": [
      "PSNJ07285387p3349106_20150303_NOT_ALFOSC_cal.ascii\n",
      "19\n",
      "/Users/berto/Code/CoCo/data/spec/SN2015U/PSNJ07285387p3349106_20150303_NOT_ALFOSC_cal.ascii\n",
      "has data\n",
      "redshift  0.01379\n",
      "57084.0\n"
     ]
    },
    {
     "name": "stderr",
     "output_type": "stream",
     "text": [
      "/Users/berto/Code/verbose-enigma/pycoco/classes.py:490: UserWarning: Found existing file matching /Users/berto/Code/CoCo/data/spec/SN2015U/PSNJ07285387p3349106_20150303_NOT_ALFOSC_cal.ascii. Run with squash = True to overwrite\n",
      "  filename) + \". Run with squash = True to overwrite\")\n"
     ]
    },
    {
     "data": {
      "text/plain": [
       "<IPython.core.display.Javascript object>"
      ]
     },
     "metadata": {},
     "output_type": "display_data"
    },
    {
     "data": {
      "text/html": [
       "<div id='ab28de2a-0cfe-420c-a0dd-2a470814482b'></div>"
      ],
      "text/plain": [
       "<IPython.core.display.HTML object>"
      ]
     },
     "metadata": {},
     "output_type": "execute_result"
    },
    {
     "name": "stdout",
     "output_type": "stream",
     "text": [
      "PSNJ07285387p3349106_20150311_NOT_ALFOSC_cal.ascii\n",
      "20\n",
      "/Users/berto/Code/CoCo/data/spec/SN2015U/PSNJ07285387p3349106_20150311_NOT_ALFOSC_cal.ascii\n",
      "has data\n",
      "redshift  0.01379\n",
      "57092.0\n"
     ]
    },
    {
     "name": "stderr",
     "output_type": "stream",
     "text": [
      "/Users/berto/Code/verbose-enigma/pycoco/classes.py:490: UserWarning: Found existing file matching /Users/berto/Code/CoCo/data/spec/SN2015U/PSNJ07285387p3349106_20150311_NOT_ALFOSC_cal.ascii. Run with squash = True to overwrite\n",
      "  filename) + \". Run with squash = True to overwrite\")\n"
     ]
    },
    {
     "data": {
      "text/plain": [
       "<IPython.core.display.Javascript object>"
      ]
     },
     "metadata": {},
     "output_type": "display_data"
    },
    {
     "data": {
      "text/html": [
       "<div id='002d225a-bfa0-43c6-aa7a-46385a15d940'></div>"
      ],
      "text/plain": [
       "<IPython.core.display.HTML object>"
      ]
     },
     "metadata": {},
     "output_type": "execute_result"
    }
   ],
   "source": [
    "plot_all = True\n",
    "save = True\n",
    "# for spec_file in np.array(spec_filenames):\n",
    "for spec_file in np.array(good_spec_filenames):\n",
    "    print(spec_file)\n",
    "    \n",
    "    w = np.where(np.array(spec_filenames) == spec_file)[0][0]\n",
    "    print(w)\n",
    "    \n",
    "    wavl = np.array(spec_dict_list[w][\"data\"], dtype=np.float64).T[0]\n",
    "    flux = np.array(spec_dict_list[w][\"data\"], dtype=np.float64).T[1]\n",
    "\n",
    "    wavelength = Column(wavl, name = (\"wavelength\"), unit=u.Angstrom)\n",
    "    flux = Column(flux, name = (\"flux\"), unit=u.cgs.erg / u.si.cm ** 2 / u.si.s / u.angstrom)\n",
    "\n",
    "    spec_table = Table([wavelength, flux])\n",
    "\n",
    "    s = pcc.SpectrumClass()\n",
    "\n",
    "    s.load_table(spec_table, path=\"\")\n",
    "    print(os.path.join(spec_dir, spec_file))\n",
    "    if save:\n",
    "        s.save(spec_file, path=spec_dir, )\n",
    "    out_dict = OrderedDict()\n",
    "    out_dict[\"filename\"] = os.path.join(spec_dir, spec_file)\n",
    "    out_dict[\"time\"] = np.float64(spec_dict_list[w][\"time\"])\n",
    "    out_dict[\"redshift\"] = np.float64(sndict[\"redshift\"][0][\"value\"])\n",
    "    print(\"redshift \", out_dict[\"redshift\"])\n",
    "    out_dict[\"snname\"] = snname\n",
    "    print(spec_dict_list[w][\"time\"])\n",
    "    uncombined = np.append(uncombined, out_dict)\n",
    "    \n",
    "    if plot_all:\n",
    "        s.plot()"
   ]
  },
  {
   "cell_type": "markdown",
   "metadata": {},
   "source": [
    "We now have an array of Dictionaries containing the info for the list file"
   ]
  },
  {
   "cell_type": "code",
   "execution_count": 18,
   "metadata": {
    "collapsed": false
   },
   "outputs": [
    {
     "data": {
      "text/plain": [
       "array([ OrderedDict([('filename', '/Users/berto/Code/CoCo/data/spec/SN2015U/psn0728+3349-20150215.256-ui.flm'), ('time', 57068.300000000003), ('redshift', 0.01379), ('snname', 'SN2015U')]),\n",
       "       OrderedDict([('filename', '/Users/berto/Code/CoCo/data/spec/SN2015U/PSNJ07285387p3349106_20150217_Ekar182_AFOSC_cal.ascii'), ('time', 57070.0), ('redshift', 0.01379), ('snname', 'SN2015U')]),\n",
       "       OrderedDict([('filename', '/Users/berto/Code/CoCo/data/spec/SN2015U/SN2015U_2015-02-17_20:01:56_Asiago.ascii'), ('time', 57070.0), ('redshift', 0.01379), ('snname', 'SN2015U')]),\n",
       "       OrderedDict([('filename', '/Users/berto/Code/CoCo/data/spec/SN2015U/PSNJ07285387p3349106_20150218_Ekar182_AFOSC_cal.ascii'), ('time', 57071.0), ('redshift', 0.01379), ('snname', 'SN2015U')]),\n",
       "       OrderedDict([('filename', '/Users/berto/Code/CoCo/data/spec/SN2015U/psn0728+3349-20150218.211-ir.flm'), ('time', 57071.199999999997), ('redshift', 0.01379), ('snname', 'SN2015U')]),\n",
       "       OrderedDict([('filename', '/Users/berto/Code/CoCo/data/spec/SN2015U/PSNJ07285387p3349106_20150219_Ekar182_AFOSC_cal.ascii'), ('time', 57072.0), ('redshift', 0.01379), ('snname', 'SN2015U')]),\n",
       "       OrderedDict([('filename', '/Users/berto/Code/CoCo/data/spec/SN2015U/psn0728+3349-20150221.207-ui.flm'), ('time', 57074.199999999997), ('redshift', 0.01379), ('snname', 'SN2015U')]),\n",
       "       OrderedDict([('filename', '/Users/berto/Code/CoCo/data/spec/SN2015U/PSNJ07285387p3349106_20150222_NOT_ALFOSC_cal.ascii'), ('time', 57075.0), ('redshift', 0.01379), ('snname', 'SN2015U')]),\n",
       "       OrderedDict([('filename', '/Users/berto/Code/CoCo/data/spec/SN2015U/PSNJ07285387p3349106_20150223_TNG_LRS_cal.ascii'), ('time', 57076.0), ('redshift', 0.01379), ('snname', 'SN2015U')]),\n",
       "       OrderedDict([('filename', '/Users/berto/Code/CoCo/data/spec/SN2015U/psn0728+3349-20150224.224-ui.flm'), ('time', 57077.199999999997), ('redshift', 0.01379), ('snname', 'SN2015U')]),\n",
       "       OrderedDict([('filename', '/Users/berto/Code/CoCo/data/spec/SN2015U/psn0728+3349-20150224.414-uh.flm'), ('time', 57077.400000000001), ('redshift', 0.01379), ('snname', 'SN2015U')]),\n",
       "       OrderedDict([('filename', '/Users/berto/Code/CoCo/data/spec/SN2015U/PSNJ07285387p3349106_20150225_TNG_LRS_cal.ascii'), ('time', 57078.0), ('redshift', 0.01379), ('snname', 'SN2015U')]),\n",
       "       OrderedDict([('filename', '/Users/berto/Code/CoCo/data/spec/SN2015U/psn0728+3349-20150225.171-ui.flm'), ('time', 57078.199999999997), ('redshift', 0.01379), ('snname', 'SN2015U')]),\n",
       "       OrderedDict([('filename', '/Users/berto/Code/CoCo/data/spec/SN2015U/psn0728+3349-20150227.34.deimos.flm'), ('time', 57080.300000000003), ('redshift', 0.01379), ('snname', 'SN2015U')]),\n",
       "       OrderedDict([('filename', '/Users/berto/Code/CoCo/data/spec/SN2015U/PSNJ07285387p3349106_20150228_TNG_LRS_cal.ascii'), ('time', 57081.0), ('redshift', 0.01379), ('snname', 'SN2015U')]),\n",
       "       OrderedDict([('filename', '/Users/berto/Code/CoCo/data/spec/SN2015U/PSNJ07285387p3349106_20150303_NOT_ALFOSC_cal.ascii'), ('time', 57084.0), ('redshift', 0.01379), ('snname', 'SN2015U')]),\n",
       "       OrderedDict([('filename', '/Users/berto/Code/CoCo/data/spec/SN2015U/PSNJ07285387p3349106_20150311_NOT_ALFOSC_cal.ascii'), ('time', 57092.0), ('redshift', 0.01379), ('snname', 'SN2015U')])], dtype=object)"
      ]
     },
     "execution_count": 18,
     "metadata": {},
     "output_type": "execute_result"
    }
   ],
   "source": [
    "out_array = uncombined\n",
    "\n",
    "out_array"
   ]
  },
  {
   "cell_type": "code",
   "execution_count": 19,
   "metadata": {
    "collapsed": true
   },
   "outputs": [],
   "source": [
    "keys = [\"filename\",\n",
    "        \"snname\",\n",
    "        \"time\",\n",
    "        \"redshift\"]\n",
    "columns = []\n",
    "for key in keys:\n",
    "    columns.append([i[key] for i in out_array])"
   ]
  },
  {
   "cell_type": "markdown",
   "metadata": {},
   "source": [
    "Change 'time' to 'MJD' as is our convention, we can take a look at our listfile by adding all of the columns together"
   ]
  },
  {
   "cell_type": "code",
   "execution_count": 20,
   "metadata": {
    "collapsed": false,
    "scrolled": false
   },
   "outputs": [
    {
     "data": {
      "text/html": [
       "&lt;Table length=17&gt;\n",
       "<table id=\"table4657276576\" class=\"table-striped table-bordered table-condensed\">\n",
       "<thead><tr><th>filename</th><th>snname</th><th>MJD</th><th>redshift</th></tr></thead>\n",
       "<thead><tr><th>str94</th><th>str7</th><th>float64</th><th>float64</th></tr></thead>\n",
       "<tr><td>/Users/berto/Code/CoCo/data/spec/SN2015U/psn0728+3349-20150215.256-ui.flm</td><td>SN2015U</td><td>57068.3</td><td>0.01379</td></tr>\n",
       "<tr><td>/Users/berto/Code/CoCo/data/spec/SN2015U/PSNJ07285387p3349106_20150217_Ekar182_AFOSC_cal.ascii</td><td>SN2015U</td><td>57070.0</td><td>0.01379</td></tr>\n",
       "<tr><td>/Users/berto/Code/CoCo/data/spec/SN2015U/SN2015U_2015-02-17_20:01:56_Asiago.ascii</td><td>SN2015U</td><td>57070.0</td><td>0.01379</td></tr>\n",
       "<tr><td>/Users/berto/Code/CoCo/data/spec/SN2015U/PSNJ07285387p3349106_20150218_Ekar182_AFOSC_cal.ascii</td><td>SN2015U</td><td>57071.0</td><td>0.01379</td></tr>\n",
       "<tr><td>/Users/berto/Code/CoCo/data/spec/SN2015U/psn0728+3349-20150218.211-ir.flm</td><td>SN2015U</td><td>57071.2</td><td>0.01379</td></tr>\n",
       "<tr><td>/Users/berto/Code/CoCo/data/spec/SN2015U/PSNJ07285387p3349106_20150219_Ekar182_AFOSC_cal.ascii</td><td>SN2015U</td><td>57072.0</td><td>0.01379</td></tr>\n",
       "<tr><td>/Users/berto/Code/CoCo/data/spec/SN2015U/psn0728+3349-20150221.207-ui.flm</td><td>SN2015U</td><td>57074.2</td><td>0.01379</td></tr>\n",
       "<tr><td>/Users/berto/Code/CoCo/data/spec/SN2015U/PSNJ07285387p3349106_20150222_NOT_ALFOSC_cal.ascii</td><td>SN2015U</td><td>57075.0</td><td>0.01379</td></tr>\n",
       "<tr><td>/Users/berto/Code/CoCo/data/spec/SN2015U/PSNJ07285387p3349106_20150223_TNG_LRS_cal.ascii</td><td>SN2015U</td><td>57076.0</td><td>0.01379</td></tr>\n",
       "<tr><td>/Users/berto/Code/CoCo/data/spec/SN2015U/psn0728+3349-20150224.224-ui.flm</td><td>SN2015U</td><td>57077.2</td><td>0.01379</td></tr>\n",
       "<tr><td>/Users/berto/Code/CoCo/data/spec/SN2015U/psn0728+3349-20150224.414-uh.flm</td><td>SN2015U</td><td>57077.4</td><td>0.01379</td></tr>\n",
       "<tr><td>/Users/berto/Code/CoCo/data/spec/SN2015U/PSNJ07285387p3349106_20150225_TNG_LRS_cal.ascii</td><td>SN2015U</td><td>57078.0</td><td>0.01379</td></tr>\n",
       "<tr><td>/Users/berto/Code/CoCo/data/spec/SN2015U/psn0728+3349-20150225.171-ui.flm</td><td>SN2015U</td><td>57078.2</td><td>0.01379</td></tr>\n",
       "<tr><td>/Users/berto/Code/CoCo/data/spec/SN2015U/psn0728+3349-20150227.34.deimos.flm</td><td>SN2015U</td><td>57080.3</td><td>0.01379</td></tr>\n",
       "<tr><td>/Users/berto/Code/CoCo/data/spec/SN2015U/PSNJ07285387p3349106_20150228_TNG_LRS_cal.ascii</td><td>SN2015U</td><td>57081.0</td><td>0.01379</td></tr>\n",
       "<tr><td>/Users/berto/Code/CoCo/data/spec/SN2015U/PSNJ07285387p3349106_20150303_NOT_ALFOSC_cal.ascii</td><td>SN2015U</td><td>57084.0</td><td>0.01379</td></tr>\n",
       "<tr><td>/Users/berto/Code/CoCo/data/spec/SN2015U/PSNJ07285387p3349106_20150311_NOT_ALFOSC_cal.ascii</td><td>SN2015U</td><td>57092.0</td><td>0.01379</td></tr>\n",
       "</table>"
      ],
      "text/plain": [
       "<Table length=17>\n",
       "                                           filename                                            ...\n",
       "                                            str94                                              ...\n",
       "---------------------------------------------------------------------------------------------- ...\n",
       "                     /Users/berto/Code/CoCo/data/spec/SN2015U/psn0728+3349-20150215.256-ui.flm ...\n",
       "/Users/berto/Code/CoCo/data/spec/SN2015U/PSNJ07285387p3349106_20150217_Ekar182_AFOSC_cal.ascii ...\n",
       "             /Users/berto/Code/CoCo/data/spec/SN2015U/SN2015U_2015-02-17_20:01:56_Asiago.ascii ...\n",
       "/Users/berto/Code/CoCo/data/spec/SN2015U/PSNJ07285387p3349106_20150218_Ekar182_AFOSC_cal.ascii ...\n",
       "                     /Users/berto/Code/CoCo/data/spec/SN2015U/psn0728+3349-20150218.211-ir.flm ...\n",
       "/Users/berto/Code/CoCo/data/spec/SN2015U/PSNJ07285387p3349106_20150219_Ekar182_AFOSC_cal.ascii ...\n",
       "                     /Users/berto/Code/CoCo/data/spec/SN2015U/psn0728+3349-20150221.207-ui.flm ...\n",
       "   /Users/berto/Code/CoCo/data/spec/SN2015U/PSNJ07285387p3349106_20150222_NOT_ALFOSC_cal.ascii ...\n",
       "      /Users/berto/Code/CoCo/data/spec/SN2015U/PSNJ07285387p3349106_20150223_TNG_LRS_cal.ascii ...\n",
       "                     /Users/berto/Code/CoCo/data/spec/SN2015U/psn0728+3349-20150224.224-ui.flm ...\n",
       "                     /Users/berto/Code/CoCo/data/spec/SN2015U/psn0728+3349-20150224.414-uh.flm ...\n",
       "      /Users/berto/Code/CoCo/data/spec/SN2015U/PSNJ07285387p3349106_20150225_TNG_LRS_cal.ascii ...\n",
       "                     /Users/berto/Code/CoCo/data/spec/SN2015U/psn0728+3349-20150225.171-ui.flm ...\n",
       "                  /Users/berto/Code/CoCo/data/spec/SN2015U/psn0728+3349-20150227.34.deimos.flm ...\n",
       "      /Users/berto/Code/CoCo/data/spec/SN2015U/PSNJ07285387p3349106_20150228_TNG_LRS_cal.ascii ...\n",
       "   /Users/berto/Code/CoCo/data/spec/SN2015U/PSNJ07285387p3349106_20150303_NOT_ALFOSC_cal.ascii ...\n",
       "   /Users/berto/Code/CoCo/data/spec/SN2015U/PSNJ07285387p3349106_20150311_NOT_ALFOSC_cal.ascii ..."
      ]
     },
     "execution_count": 20,
     "metadata": {},
     "output_type": "execute_result"
    }
   ],
   "source": [
    "keys[2] = \"MJD\"\n",
    "list_table = Table(columns, names = keys)\n",
    "\n",
    "list_table.add_index(\"MJD\")\n",
    "list_table.sort()\n",
    "\n",
    "list_table"
   ]
  },
  {
   "cell_type": "markdown",
   "metadata": {},
   "source": [
    "Since we're happy with this (maybe we can do something with the absolute paths?) we can save it."
   ]
  },
  {
   "cell_type": "code",
   "execution_count": 21,
   "metadata": {
    "collapsed": false
   },
   "outputs": [
    {
     "name": "stderr",
     "output_type": "stream",
     "text": [
      "WARNING: AstropyDeprecationWarning: /Users/berto/Code/CoCo/lists/SN2015U.list already exists. Automatically overwriting ASCII files is deprecated. Use the argument 'overwrite=True' in the future. [astropy.io.ascii.ui]\n"
     ]
    }
   ],
   "source": [
    "list_out_path = os.path.join(pcc.defaults._default_list_dir_path, snname+\".list\")\n",
    "list_table.write(list_out_path, format=\"ascii.no_header\")"
   ]
  },
  {
   "cell_type": "markdown",
   "metadata": {},
   "source": [
    "# Photometry\n",
    "---\n",
    "We have the spectra in hand, now we can faff about with the phot."
   ]
  },
  {
   "cell_type": "code",
   "execution_count": 22,
   "metadata": {
    "collapsed": false,
    "scrolled": true
   },
   "outputs": [
    {
     "data": {
      "text/plain": [
       "[{'band': 'clear',\n",
       "  'e_magnitude': '0.1515',\n",
       "  'magnitude': '18.0616',\n",
       "  'source': '1,13',\n",
       "  'telescope': 'KAIT',\n",
       "  'time': '57064.24',\n",
       "  'u_time': 'MJD'},\n",
       " {'band': 'clear',\n",
       "  'e_magnitude': '0.0646',\n",
       "  'magnitude': '16.8465',\n",
       "  'source': '1,13',\n",
       "  'telescope': 'KAIT',\n",
       "  'time': '57066.22',\n",
       "  'u_time': 'MJD'},\n",
       " {'band': 'B',\n",
       "  'e_magnitude': '0.1749',\n",
       "  'magnitude': '17.7117',\n",
       "  'source': '1,13',\n",
       "  'telescope': 'KAIT',\n",
       "  'time': '57067.35',\n",
       "  'u_time': 'MJD'},\n",
       " {'band': 'R',\n",
       "  'e_magnitude': '0.0592',\n",
       "  'magnitude': '16.4640',\n",
       "  'source': '1,13',\n",
       "  'telescope': 'KAIT',\n",
       "  'time': '57067.35',\n",
       "  'u_time': 'MJD'},\n",
       " {'band': 'V',\n",
       "  'e_magnitude': '0.0891',\n",
       "  'magnitude': '16.9832',\n",
       "  'source': '1,13',\n",
       "  'telescope': 'KAIT',\n",
       "  'time': '57067.35',\n",
       "  'u_time': 'MJD'},\n",
       " {'band': 'clear',\n",
       "  'e_magnitude': '0.0542',\n",
       "  'magnitude': '16.5726',\n",
       "  'source': '1,13',\n",
       "  'telescope': 'KAIT',\n",
       "  'time': '57067.35',\n",
       "  'u_time': 'MJD'},\n",
       " {'band': 'I',\n",
       "  'e_magnitude': '0.0766',\n",
       "  'magnitude': '16.1834',\n",
       "  'source': '1,13',\n",
       "  'telescope': 'KAIT',\n",
       "  'time': '57067.36',\n",
       "  'u_time': 'MJD'},\n",
       " {'band': 'B',\n",
       "  'e_magnitude': '0.1072',\n",
       "  'magnitude': '17.6548',\n",
       "  'source': '1,13',\n",
       "  'telescope': 'KAIT',\n",
       "  'time': '57068.21',\n",
       "  'u_time': 'MJD'},\n",
       " {'band': 'I',\n",
       "  'e_magnitude': '0.0561',\n",
       "  'magnitude': '16.2318',\n",
       "  'source': '1,13',\n",
       "  'telescope': 'KAIT',\n",
       "  'time': '57068.22',\n",
       "  'u_time': 'MJD'},\n",
       " {'band': 'R',\n",
       "  'e_magnitude': '0.0277',\n",
       "  'magnitude': '16.4146',\n",
       "  'source': '1,13',\n",
       "  'telescope': 'KAIT',\n",
       "  'time': '57068.22',\n",
       "  'u_time': 'MJD'},\n",
       " {'band': 'V',\n",
       "  'e_magnitude': '0.0476',\n",
       "  'magnitude': '16.8599',\n",
       "  'source': '1,13',\n",
       "  'telescope': 'KAIT',\n",
       "  'time': '57068.22',\n",
       "  'u_time': 'MJD'},\n",
       " {'band': 'B',\n",
       "  'e_magnitude': '0.0874',\n",
       "  'magnitude': '17.6547',\n",
       "  'source': '1,13',\n",
       "  'telescope': 'KAIT',\n",
       "  'time': '57070.19',\n",
       "  'u_time': 'MJD'},\n",
       " {'band': 'I',\n",
       "  'e_magnitude': '0.0486',\n",
       "  'magnitude': '15.8808',\n",
       "  'source': '1,13',\n",
       "  'telescope': 'KAIT',\n",
       "  'time': '57070.19',\n",
       "  'u_time': 'MJD'},\n",
       " {'band': 'R',\n",
       "  'e_magnitude': '0.0456',\n",
       "  'magnitude': '16.1528',\n",
       "  'source': '1,13',\n",
       "  'telescope': 'KAIT',\n",
       "  'time': '57070.19',\n",
       "  'u_time': 'MJD'},\n",
       " {'band': 'V',\n",
       "  'e_magnitude': '0.0448',\n",
       "  'magnitude': '16.7444',\n",
       "  'source': '1,13',\n",
       "  'telescope': 'KAIT',\n",
       "  'time': '57070.19',\n",
       "  'u_time': 'MJD'},\n",
       " {'band': 'clear',\n",
       "  'e_magnitude': '0.0306',\n",
       "  'magnitude': '16.2282',\n",
       "  'source': '1,13',\n",
       "  'telescope': 'KAIT',\n",
       "  'time': '57070.22',\n",
       "  'u_time': 'MJD'},\n",
       " {'band': 'B',\n",
       "  'e_magnitude': '0.06',\n",
       "  'magnitude': '17.71',\n",
       "  'source': '3,11',\n",
       "  'time': '57070.72',\n",
       "  'u_time': 'MJD'},\n",
       " {'band': 'I',\n",
       "  'e_magnitude': '0.04',\n",
       "  'magnitude': '15.74',\n",
       "  'source': '3,11',\n",
       "  'time': '57070.72',\n",
       "  'u_time': 'MJD'},\n",
       " {'band': 'R',\n",
       "  'e_magnitude': '0.04',\n",
       "  'magnitude': '16.19',\n",
       "  'source': '3,11',\n",
       "  'time': '57070.72',\n",
       "  'u_time': 'MJD'},\n",
       " {'band': 'V',\n",
       "  'e_magnitude': '0.04',\n",
       "  'magnitude': '16.72',\n",
       "  'source': '3,11',\n",
       "  'time': '57070.72',\n",
       "  'u_time': 'MJD'},\n",
       " {'band': 'B',\n",
       "  'e_magnitude': '0.0779',\n",
       "  'magnitude': '17.6867',\n",
       "  'source': '1,13',\n",
       "  'telescope': 'KAIT',\n",
       "  'time': '57071.21',\n",
       "  'u_time': 'MJD'},\n",
       " {'band': 'I',\n",
       "  'e_magnitude': '0.0373',\n",
       "  'magnitude': '15.7717',\n",
       "  'source': '1,13',\n",
       "  'telescope': 'KAIT',\n",
       "  'time': '57071.21',\n",
       "  'u_time': 'MJD'},\n",
       " {'band': 'R',\n",
       "  'e_magnitude': '0.0313',\n",
       "  'magnitude': '16.2086',\n",
       "  'source': '1,13',\n",
       "  'telescope': 'KAIT',\n",
       "  'time': '57071.21',\n",
       "  'u_time': 'MJD'},\n",
       " {'band': 'V',\n",
       "  'e_magnitude': '0.0366',\n",
       "  'magnitude': '16.6743',\n",
       "  'source': '1,13',\n",
       "  'telescope': 'KAIT',\n",
       "  'time': '57071.21',\n",
       "  'u_time': 'MJD'},\n",
       " {'band': 'clear',\n",
       "  'e_magnitude': '0.0269',\n",
       "  'magnitude': '16.1795',\n",
       "  'source': '1,13',\n",
       "  'telescope': 'KAIT',\n",
       "  'time': '57071.21',\n",
       "  'u_time': 'MJD'},\n",
       " {'band': 'B',\n",
       "  'e_magnitude': '0.04',\n",
       "  'magnitude': '17.61',\n",
       "  'source': '3,11',\n",
       "  'time': '57071.81',\n",
       "  'u_time': 'MJD'},\n",
       " {'band': 'I',\n",
       "  'e_magnitude': '0.05',\n",
       "  'magnitude': '15.91',\n",
       "  'source': '3,11',\n",
       "  'time': '57071.81',\n",
       "  'u_time': 'MJD'},\n",
       " {'band': 'R',\n",
       "  'e_magnitude': '0.04',\n",
       "  'magnitude': '16.12',\n",
       "  'source': '3,11',\n",
       "  'time': '57071.81',\n",
       "  'u_time': 'MJD'},\n",
       " {'band': 'V',\n",
       "  'e_magnitude': '0.04',\n",
       "  'magnitude': '16.64',\n",
       "  'source': '3,11',\n",
       "  'time': '57071.81',\n",
       "  'u_time': 'MJD'},\n",
       " {'band': 'B',\n",
       "  'e_magnitude': '0.0918',\n",
       "  'magnitude': '17.6771',\n",
       "  'source': '1,13',\n",
       "  'telescope': 'KAIT',\n",
       "  'time': '57072.23',\n",
       "  'u_time': 'MJD'},\n",
       " {'band': 'I',\n",
       "  'e_magnitude': '0.0406',\n",
       "  'magnitude': '15.8651',\n",
       "  'source': '1,13',\n",
       "  'telescope': 'KAIT',\n",
       "  'time': '57072.23',\n",
       "  'u_time': 'MJD'},\n",
       " {'band': 'R',\n",
       "  'e_magnitude': '0.0278',\n",
       "  'magnitude': '16.2732',\n",
       "  'source': '1,13',\n",
       "  'telescope': 'KAIT',\n",
       "  'time': '57072.23',\n",
       "  'u_time': 'MJD'},\n",
       " {'band': 'V',\n",
       "  'e_magnitude': '0.0448',\n",
       "  'magnitude': '16.7492',\n",
       "  'source': '1,13',\n",
       "  'telescope': 'KAIT',\n",
       "  'time': '57072.23',\n",
       "  'u_time': 'MJD'},\n",
       " {'band': 'clear',\n",
       "  'e_magnitude': '0.0302',\n",
       "  'magnitude': '16.2832',\n",
       "  'source': '1,13',\n",
       "  'telescope': 'KAIT',\n",
       "  'time': '57072.24',\n",
       "  'u_time': 'MJD'},\n",
       " {'band': 'R',\n",
       "  'e_magnitude': '0.0290',\n",
       "  'magnitude': '16.2939',\n",
       "  'source': '1,13',\n",
       "  'telescope': 'KAIT',\n",
       "  'time': '57073.24',\n",
       "  'u_time': 'MJD'},\n",
       " {'band': 'V',\n",
       "  'e_magnitude': '0.0391',\n",
       "  'magnitude': '16.8228',\n",
       "  'source': '1,13',\n",
       "  'telescope': 'KAIT',\n",
       "  'time': '57073.24',\n",
       "  'u_time': 'MJD'},\n",
       " {'band': 'clear',\n",
       "  'e_magnitude': '0.0159',\n",
       "  'magnitude': '16.2797',\n",
       "  'source': '1,13',\n",
       "  'telescope': 'KAIT',\n",
       "  'time': '57073.24',\n",
       "  'u_time': 'MJD'},\n",
       " {'band': 'B',\n",
       "  'e_magnitude': '0.1321',\n",
       "  'magnitude': '17.9040',\n",
       "  'source': '1,13',\n",
       "  'telescope': 'KAIT',\n",
       "  'time': '57073.25',\n",
       "  'u_time': 'MJD'},\n",
       " {'band': 'I',\n",
       "  'e_magnitude': '0.0368',\n",
       "  'magnitude': '15.8771',\n",
       "  'source': '1,13',\n",
       "  'telescope': 'KAIT',\n",
       "  'time': '57073.25',\n",
       "  'u_time': 'MJD'},\n",
       " {'band': 'B',\n",
       "  'e_magnitude': '0.05',\n",
       "  'magnitude': '17.66',\n",
       "  'source': '3,11',\n",
       "  'time': '57073.81',\n",
       "  'u_time': 'MJD'},\n",
       " {'band': 'I',\n",
       "  'e_magnitude': '0.04',\n",
       "  'magnitude': '15.92',\n",
       "  'source': '3,11',\n",
       "  'time': '57073.81',\n",
       "  'u_time': 'MJD'},\n",
       " {'band': 'R',\n",
       "  'e_magnitude': '0.04',\n",
       "  'magnitude': '16.16',\n",
       "  'source': '3,11',\n",
       "  'time': '57073.81',\n",
       "  'u_time': 'MJD'},\n",
       " {'band': 'V',\n",
       "  'e_magnitude': '0.03',\n",
       "  'magnitude': '16.76',\n",
       "  'source': '3,11',\n",
       "  'time': '57073.81',\n",
       "  'u_time': 'MJD'},\n",
       " {'band': 'B',\n",
       "  'e_magnitude': '0.1024',\n",
       "  'magnitude': '17.8597',\n",
       "  'source': '1,13',\n",
       "  'telescope': 'KAIT',\n",
       "  'time': '57074.18',\n",
       "  'u_time': 'MJD'},\n",
       " {'band': 'I',\n",
       "  'e_magnitude': '0.0393',\n",
       "  'magnitude': '15.8593',\n",
       "  'source': '1,13',\n",
       "  'telescope': 'KAIT',\n",
       "  'time': '57074.18',\n",
       "  'u_time': 'MJD'},\n",
       " {'band': 'R',\n",
       "  'e_magnitude': '0.0377',\n",
       "  'magnitude': '16.2889',\n",
       "  'source': '1,13',\n",
       "  'telescope': 'KAIT',\n",
       "  'time': '57074.18',\n",
       "  'u_time': 'MJD'},\n",
       " {'band': 'V',\n",
       "  'e_magnitude': '0.0470',\n",
       "  'magnitude': '16.8533',\n",
       "  'source': '1,13',\n",
       "  'telescope': 'KAIT',\n",
       "  'time': '57074.18',\n",
       "  'u_time': 'MJD'},\n",
       " {'band': 'clear',\n",
       "  'e_magnitude': '0.0224',\n",
       "  'magnitude': '16.3543',\n",
       "  'source': '1,13',\n",
       "  'telescope': 'KAIT',\n",
       "  'time': '57074.19',\n",
       "  'u_time': 'MJD'},\n",
       " {'band': 'B',\n",
       "  'e_magnitude': '0.0947',\n",
       "  'magnitude': '17.9449',\n",
       "  'source': '1,13',\n",
       "  'telescope': 'KAIT',\n",
       "  'time': '57075.20',\n",
       "  'u_time': 'MJD'},\n",
       " {'band': 'I',\n",
       "  'e_magnitude': '0.0368',\n",
       "  'magnitude': '15.9706',\n",
       "  'source': '1,13',\n",
       "  'telescope': 'KAIT',\n",
       "  'time': '57075.20',\n",
       "  'u_time': 'MJD'},\n",
       " {'band': 'R',\n",
       "  'e_magnitude': '0.0330',\n",
       "  'magnitude': '16.4309',\n",
       "  'source': '1,13',\n",
       "  'telescope': 'KAIT',\n",
       "  'time': '57075.20',\n",
       "  'u_time': 'MJD'},\n",
       " {'band': 'V',\n",
       "  'e_magnitude': '0.0403',\n",
       "  'magnitude': '17.0206',\n",
       "  'source': '1,13',\n",
       "  'telescope': 'KAIT',\n",
       "  'time': '57075.20',\n",
       "  'u_time': 'MJD'},\n",
       " {'band': 'clear',\n",
       "  'e_magnitude': '0.0230',\n",
       "  'magnitude': '16.4839',\n",
       "  'source': '1,13',\n",
       "  'telescope': 'KAIT',\n",
       "  'time': '57075.20',\n",
       "  'u_time': 'MJD'},\n",
       " {'band': 'B',\n",
       "  'e_magnitude': '0.0168',\n",
       "  'magnitude': '18.0282',\n",
       "  'source': '1,13',\n",
       "  'telescope': 'Nick',\n",
       "  'time': '57075.31',\n",
       "  'u_time': 'MJD'},\n",
       " {'band': 'I',\n",
       "  'e_magnitude': '0.0075',\n",
       "  'magnitude': '15.9683',\n",
       "  'source': '1,13',\n",
       "  'telescope': 'Nick',\n",
       "  'time': '57075.32',\n",
       "  'u_time': 'MJD'},\n",
       " {'band': 'R',\n",
       "  'e_magnitude': '0.0061',\n",
       "  'magnitude': '16.4421',\n",
       "  'source': '1,13',\n",
       "  'telescope': 'Nick',\n",
       "  'time': '57075.32',\n",
       "  'u_time': 'MJD'},\n",
       " {'band': 'V',\n",
       "  'e_magnitude': '0.0086',\n",
       "  'magnitude': '17.0530',\n",
       "  'source': '1,13',\n",
       "  'telescope': 'Nick',\n",
       "  'time': '57075.32',\n",
       "  'u_time': 'MJD'},\n",
       " {'band': 'B',\n",
       "  'e_magnitude': '0.04',\n",
       "  'magnitude': '17.82',\n",
       "  'source': '3,11',\n",
       "  'time': '57075.89',\n",
       "  'u_time': 'MJD'},\n",
       " {'band': 'I',\n",
       "  'e_magnitude': '0.04',\n",
       "  'magnitude': '15.94',\n",
       "  'source': '3,11',\n",
       "  'time': '57075.89',\n",
       "  'u_time': 'MJD'},\n",
       " {'band': 'R',\n",
       "  'e_magnitude': '0.03',\n",
       "  'magnitude': '16.4',\n",
       "  'source': '3,11',\n",
       "  'time': '57075.89',\n",
       "  'u_time': 'MJD'},\n",
       " {'band': 'V',\n",
       "  'e_magnitude': '0.04',\n",
       "  'magnitude': '16.86',\n",
       "  'source': '3,11',\n",
       "  'time': '57075.89',\n",
       "  'u_time': 'MJD'},\n",
       " {'band': 'B',\n",
       "  'e_magnitude': '0.1285',\n",
       "  'magnitude': '18.0733',\n",
       "  'source': '1,13',\n",
       "  'telescope': 'KAIT',\n",
       "  'time': '57076.20',\n",
       "  'u_time': 'MJD'},\n",
       " {'band': 'I',\n",
       "  'e_magnitude': '0.0448',\n",
       "  'magnitude': '16.0555',\n",
       "  'source': '1,13',\n",
       "  'telescope': 'KAIT',\n",
       "  'time': '57076.20',\n",
       "  'u_time': 'MJD'},\n",
       " {'band': 'R',\n",
       "  'e_magnitude': '0.0350',\n",
       "  'magnitude': '16.4603',\n",
       "  'source': '1,13',\n",
       "  'telescope': 'KAIT',\n",
       "  'time': '57076.20',\n",
       "  'u_time': 'MJD'},\n",
       " {'band': 'V',\n",
       "  'e_magnitude': '0.0529',\n",
       "  'magnitude': '17.0246',\n",
       "  'source': '1,13',\n",
       "  'telescope': 'KAIT',\n",
       "  'time': '57076.20',\n",
       "  'u_time': 'MJD'},\n",
       " {'band': 'clear',\n",
       "  'e_magnitude': '0.0304',\n",
       "  'magnitude': '16.4759',\n",
       "  'source': '1,13',\n",
       "  'telescope': 'KAIT',\n",
       "  'time': '57076.21',\n",
       "  'u_time': 'MJD'},\n",
       " {'band': 'B',\n",
       "  'e_magnitude': '0.1441',\n",
       "  'magnitude': '18.1106',\n",
       "  'source': '1,13',\n",
       "  'telescope': 'KAIT',\n",
       "  'time': '57077.19',\n",
       "  'u_time': 'MJD'},\n",
       " {'band': 'I',\n",
       "  'e_magnitude': '0.0480',\n",
       "  'magnitude': '16.1347',\n",
       "  'source': '1,13',\n",
       "  'telescope': 'KAIT',\n",
       "  'time': '57077.19',\n",
       "  'u_time': 'MJD'},\n",
       " {'band': 'R',\n",
       "  'e_magnitude': '0.0388',\n",
       "  'magnitude': '16.5394',\n",
       "  'source': '1,13',\n",
       "  'telescope': 'KAIT',\n",
       "  'time': '57077.19',\n",
       "  'u_time': 'MJD'},\n",
       " {'band': 'V',\n",
       "  'e_magnitude': '0.0529',\n",
       "  'magnitude': '17.1759',\n",
       "  'source': '1,13',\n",
       "  'telescope': 'KAIT',\n",
       "  'time': '57077.19',\n",
       "  'u_time': 'MJD'},\n",
       " {'band': 'clear',\n",
       "  'e_magnitude': '0.0243',\n",
       "  'magnitude': '16.6425',\n",
       "  'source': '1,13',\n",
       "  'telescope': 'KAIT',\n",
       "  'time': '57077.19',\n",
       "  'u_time': 'MJD'},\n",
       " {'band': 'B',\n",
       "  'e_magnitude': '0.05',\n",
       "  'magnitude': '18.17',\n",
       "  'source': '3,11',\n",
       "  'time': '57077.78',\n",
       "  'u_time': 'MJD'},\n",
       " {'band': 'I',\n",
       "  'e_magnitude': '0.04',\n",
       "  'magnitude': '16.15',\n",
       "  'source': '3,11',\n",
       "  'time': '57077.78',\n",
       "  'u_time': 'MJD'},\n",
       " {'band': 'R',\n",
       "  'e_magnitude': '0.04',\n",
       "  'magnitude': '16.55',\n",
       "  'source': '3,11',\n",
       "  'time': '57077.78',\n",
       "  'u_time': 'MJD'},\n",
       " {'band': 'V',\n",
       "  'e_magnitude': '0.03',\n",
       "  'magnitude': '17.24',\n",
       "  'source': '3,11',\n",
       "  'time': '57077.78',\n",
       "  'u_time': 'MJD'},\n",
       " {'band': 'clear',\n",
       "  'e_magnitude': '0.0312',\n",
       "  'magnitude': '16.6341',\n",
       "  'source': '1,13',\n",
       "  'telescope': 'KAIT',\n",
       "  'time': '57078.17',\n",
       "  'u_time': 'MJD'},\n",
       " {'band': 'B',\n",
       "  'e_magnitude': '0.1530',\n",
       "  'magnitude': '18.2235',\n",
       "  'source': '1,13',\n",
       "  'telescope': 'KAIT',\n",
       "  'time': '57078.19',\n",
       "  'u_time': 'MJD'},\n",
       " {'band': 'R',\n",
       "  'e_magnitude': '0.0419',\n",
       "  'magnitude': '16.6174',\n",
       "  'source': '1,13',\n",
       "  'telescope': 'KAIT',\n",
       "  'time': '57078.19',\n",
       "  'u_time': 'MJD'},\n",
       " {'band': 'V',\n",
       "  'e_magnitude': '0.0566',\n",
       "  'magnitude': '17.2449',\n",
       "  'source': '1,13',\n",
       "  'telescope': 'KAIT',\n",
       "  'time': '57078.19',\n",
       "  'u_time': 'MJD'},\n",
       " {'band': 'I',\n",
       "  'e_magnitude': '0.0417',\n",
       "  'magnitude': '16.1638',\n",
       "  'source': '1,13',\n",
       "  'telescope': 'KAIT',\n",
       "  'time': '57078.20',\n",
       "  'u_time': 'MJD'},\n",
       " {'band': 'R',\n",
       "  'e_magnitude': '0.09',\n",
       "  'magnitude': '16.55',\n",
       "  'source': '3,11',\n",
       "  'time': '57078.65',\n",
       "  'u_time': 'MJD'},\n",
       " {'band': 'B',\n",
       "  'e_magnitude': '0.2433',\n",
       "  'magnitude': '18.4493',\n",
       "  'source': '1,13',\n",
       "  'telescope': 'KAIT',\n",
       "  'time': '57079.21',\n",
       "  'u_time': 'MJD'},\n",
       " {'band': 'I',\n",
       "  'e_magnitude': '0.0550',\n",
       "  'magnitude': '16.2618',\n",
       "  'source': '1,13',\n",
       "  'telescope': 'KAIT',\n",
       "  'time': '57079.21',\n",
       "  'u_time': 'MJD'},\n",
       " {'band': 'R',\n",
       "  'e_magnitude': '0.0464',\n",
       "  'magnitude': '16.7881',\n",
       "  'source': '1,13',\n",
       "  'telescope': 'KAIT',\n",
       "  'time': '57079.21',\n",
       "  'u_time': 'MJD'},\n",
       " {'band': 'V',\n",
       "  'e_magnitude': '0.0828',\n",
       "  'magnitude': '17.3975',\n",
       "  'source': '1,13',\n",
       "  'telescope': 'KAIT',\n",
       "  'time': '57079.21',\n",
       "  'u_time': 'MJD'},\n",
       " {'band': 'clear',\n",
       "  'e_magnitude': '0.0333',\n",
       "  'magnitude': '16.7395',\n",
       "  'source': '1,13',\n",
       "  'telescope': 'KAIT',\n",
       "  'time': '57079.21',\n",
       "  'u_time': 'MJD'},\n",
       " {'band': 'B',\n",
       "  'e_magnitude': '0.0379',\n",
       "  'magnitude': '18.5111',\n",
       "  'source': '1,13',\n",
       "  'telescope': 'Nick',\n",
       "  'time': '57079.30',\n",
       "  'u_time': 'MJD'},\n",
       " {'band': 'R',\n",
       "  'e_magnitude': '0.0119',\n",
       "  'magnitude': '16.7911',\n",
       "  'source': '1,13',\n",
       "  'telescope': 'Nick',\n",
       "  'time': '57079.30',\n",
       "  'u_time': 'MJD'},\n",
       " {'band': 'V',\n",
       "  'e_magnitude': '0.0176',\n",
       "  'magnitude': '17.4653',\n",
       "  'source': '1,13',\n",
       "  'telescope': 'Nick',\n",
       "  'time': '57079.30',\n",
       "  'u_time': 'MJD'},\n",
       " {'band': 'I',\n",
       "  'e_magnitude': '0.0221',\n",
       "  'magnitude': '16.2658',\n",
       "  'source': '1,13',\n",
       "  'telescope': 'Nick',\n",
       "  'time': '57079.31',\n",
       "  'u_time': 'MJD'},\n",
       " {'band': 'B',\n",
       "  'e_magnitude': '0.11',\n",
       "  'magnitude': '18.65',\n",
       "  'source': '3,11',\n",
       "  'time': '57079.66',\n",
       "  'u_time': 'MJD'},\n",
       " {'band': 'I',\n",
       "  'e_magnitude': '0.06',\n",
       "  'magnitude': '16.36',\n",
       "  'source': '3,11',\n",
       "  'time': '57079.66',\n",
       "  'u_time': 'MJD'},\n",
       " {'band': 'R',\n",
       "  'e_magnitude': '0.05',\n",
       "  'magnitude': '16.81',\n",
       "  'source': '3,11',\n",
       "  'time': '57079.66',\n",
       "  'u_time': 'MJD'},\n",
       " {'band': 'V',\n",
       "  'e_magnitude': '0.09',\n",
       "  'magnitude': '17.37',\n",
       "  'source': '3,11',\n",
       "  'time': '57079.66',\n",
       "  'u_time': 'MJD'},\n",
       " {'band': 'B',\n",
       "  'e_magnitude': '0.2330',\n",
       "  'magnitude': '18.5313',\n",
       "  'source': '1,13',\n",
       "  'telescope': 'KAIT',\n",
       "  'time': '57080.21',\n",
       "  'u_time': 'MJD'},\n",
       " {'band': 'I',\n",
       "  'e_magnitude': '0.0557',\n",
       "  'magnitude': '16.4097',\n",
       "  'source': '1,13',\n",
       "  'telescope': 'KAIT',\n",
       "  'time': '57080.21',\n",
       "  'u_time': 'MJD'},\n",
       " {'band': 'R',\n",
       "  'e_magnitude': '0.0521',\n",
       "  'magnitude': '16.8854',\n",
       "  'source': '1,13',\n",
       "  'telescope': 'KAIT',\n",
       "  'time': '57080.21',\n",
       "  'u_time': 'MJD'},\n",
       " {'band': 'V',\n",
       "  'e_magnitude': '0.0691',\n",
       "  'magnitude': '17.4432',\n",
       "  'source': '1,13',\n",
       "  'telescope': 'KAIT',\n",
       "  'time': '57080.21',\n",
       "  'u_time': 'MJD'},\n",
       " {'band': 'clear',\n",
       "  'e_magnitude': '0.0379',\n",
       "  'magnitude': '16.9051',\n",
       "  'source': '1,13',\n",
       "  'telescope': 'KAIT',\n",
       "  'time': '57080.22',\n",
       "  'u_time': 'MJD'},\n",
       " {'band': 'I',\n",
       "  'e_magnitude': '0.1552',\n",
       "  'magnitude': '17.0336',\n",
       "  'source': '1,13',\n",
       "  'telescope': 'KAIT',\n",
       "  'time': '57084.23',\n",
       "  'u_time': 'MJD'},\n",
       " {'band': 'R',\n",
       "  'e_magnitude': '0.1262',\n",
       "  'magnitude': '17.4188',\n",
       "  'source': '1,13',\n",
       "  'telescope': 'KAIT',\n",
       "  'time': '57084.23',\n",
       "  'u_time': 'MJD'},\n",
       " {'band': 'V',\n",
       "  'e_magnitude': '0.2656',\n",
       "  'magnitude': '17.9939',\n",
       "  'source': '1,13',\n",
       "  'telescope': 'KAIT',\n",
       "  'time': '57084.23',\n",
       "  'u_time': 'MJD'},\n",
       " {'band': 'clear',\n",
       "  'e_magnitude': '0.1044',\n",
       "  'magnitude': '17.2140',\n",
       "  'source': '1,13',\n",
       "  'telescope': 'KAIT',\n",
       "  'time': '57084.25',\n",
       "  'u_time': 'MJD'},\n",
       " {'band': 'B',\n",
       "  'e_magnitude': '0.1087',\n",
       "  'magnitude': '18.9517',\n",
       "  'source': '1,13',\n",
       "  'telescope': 'Nick',\n",
       "  'time': '57084.35',\n",
       "  'u_time': 'MJD'},\n",
       " {'band': 'V',\n",
       "  'e_magnitude': '0.0502',\n",
       "  'magnitude': '18.1519',\n",
       "  'source': '1,13',\n",
       "  'telescope': 'Nick',\n",
       "  'time': '57084.35',\n",
       "  'u_time': 'MJD'},\n",
       " {'band': 'I',\n",
       "  'e_magnitude': '0.0193',\n",
       "  'magnitude': '16.7364',\n",
       "  'source': '1,13',\n",
       "  'telescope': 'Nick',\n",
       "  'time': '57084.36',\n",
       "  'u_time': 'MJD'},\n",
       " {'band': 'R',\n",
       "  'e_magnitude': '0.0283',\n",
       "  'magnitude': '17.4395',\n",
       "  'source': '1,13',\n",
       "  'telescope': 'Nick',\n",
       "  'time': '57084.36',\n",
       "  'u_time': 'MJD'},\n",
       " {'band': 'I',\n",
       "  'e_magnitude': '0.1346',\n",
       "  'magnitude': '17.2390',\n",
       "  'source': '1,13',\n",
       "  'telescope': 'KAIT',\n",
       "  'time': '57085.21',\n",
       "  'u_time': 'MJD'},\n",
       " {'band': 'R',\n",
       "  'e_magnitude': '0.1164',\n",
       "  'magnitude': '17.6252',\n",
       "  'source': '1,13',\n",
       "  'telescope': 'KAIT',\n",
       "  'time': '57085.21',\n",
       "  'u_time': 'MJD'},\n",
       " {'band': 'V',\n",
       "  'e_magnitude': '0.1529',\n",
       "  'magnitude': '18.0094',\n",
       "  'source': '1,13',\n",
       "  'telescope': 'KAIT',\n",
       "  'time': '57085.21',\n",
       "  'u_time': 'MJD'},\n",
       " {'band': 'clear',\n",
       "  'e_magnitude': '0.0760',\n",
       "  'magnitude': '17.5569',\n",
       "  'source': '1,13',\n",
       "  'telescope': 'KAIT',\n",
       "  'time': '57085.24',\n",
       "  'u_time': 'MJD'},\n",
       " {'band': 'R',\n",
       "  'e_magnitude': '0.1557',\n",
       "  'magnitude': '17.8391',\n",
       "  'source': '1,13',\n",
       "  'telescope': 'KAIT',\n",
       "  'time': '57086.18',\n",
       "  'u_time': 'MJD'},\n",
       " {'band': 'V',\n",
       "  'e_magnitude': '0.2191',\n",
       "  'magnitude': '18.1469',\n",
       "  'source': '1,13',\n",
       "  'telescope': 'KAIT',\n",
       "  'time': '57086.19',\n",
       "  'u_time': 'MJD'},\n",
       " {'band': 'clear',\n",
       "  'e_magnitude': '0.0918',\n",
       "  'magnitude': '17.8184',\n",
       "  'source': '1,13',\n",
       "  'telescope': 'KAIT',\n",
       "  'time': '57086.21',\n",
       "  'u_time': 'MJD'},\n",
       " {'band': 'I',\n",
       "  'e_magnitude': '0.1331',\n",
       "  'magnitude': '17.6989',\n",
       "  'source': '1,13',\n",
       "  'telescope': 'KAIT',\n",
       "  'time': '57087.20',\n",
       "  'u_time': 'MJD'},\n",
       " {'band': 'R',\n",
       "  'e_magnitude': '0.1681',\n",
       "  'magnitude': '18.1496',\n",
       "  'source': '1,13',\n",
       "  'telescope': 'KAIT',\n",
       "  'time': '57087.20',\n",
       "  'u_time': 'MJD'},\n",
       " {'band': 'V',\n",
       "  'e_magnitude': '0.1939',\n",
       "  'magnitude': '18.7344',\n",
       "  'source': '1,13',\n",
       "  'telescope': 'KAIT',\n",
       "  'time': '57087.20',\n",
       "  'u_time': 'MJD'},\n",
       " {'band': 'clear',\n",
       "  'e_magnitude': '0.1291',\n",
       "  'magnitude': '17.8062',\n",
       "  'source': '1,13',\n",
       "  'telescope': 'KAIT',\n",
       "  'time': '57087.25',\n",
       "  'u_time': 'MJD'},\n",
       " {'band': 'I',\n",
       "  'e_magnitude': '0.3254',\n",
       "  'magnitude': '18.1446',\n",
       "  'source': '1,13',\n",
       "  'telescope': 'KAIT',\n",
       "  'time': '57088.21',\n",
       "  'u_time': 'MJD'},\n",
       " {'band': 'R',\n",
       "  'e_magnitude': '0.1802',\n",
       "  'magnitude': '18.2639',\n",
       "  'source': '1,13',\n",
       "  'telescope': 'KAIT',\n",
       "  'time': '57088.21',\n",
       "  'u_time': 'MJD'},\n",
       " {'band': 'V',\n",
       "  'e_magnitude': '0.2386',\n",
       "  'magnitude': '18.6242',\n",
       "  'source': '1,13',\n",
       "  'telescope': 'KAIT',\n",
       "  'time': '57088.21',\n",
       "  'u_time': 'MJD'},\n",
       " {'band': 'R',\n",
       "  'e_magnitude': '0.2174',\n",
       "  'magnitude': '18.6191',\n",
       "  'source': '1,13',\n",
       "  'telescope': 'KAIT',\n",
       "  'time': '57089.18',\n",
       "  'u_time': 'MJD'},\n",
       " {'band': 'clear',\n",
       "  'e_magnitude': '0.1662',\n",
       "  'magnitude': '18.3348',\n",
       "  'source': '1,13',\n",
       "  'telescope': 'KAIT',\n",
       "  'time': '57089.20',\n",
       "  'u_time': 'MJD'},\n",
       " {'band': 'R',\n",
       "  'e_magnitude': '0.0563',\n",
       "  'magnitude': '18.7836',\n",
       "  'source': '1,13',\n",
       "  'telescope': 'Nick',\n",
       "  'time': '57089.28',\n",
       "  'u_time': 'MJD'},\n",
       " {'band': 'V',\n",
       "  'e_magnitude': '0.1284',\n",
       "  'magnitude': '19.7519',\n",
       "  'source': '1,13',\n",
       "  'telescope': 'Nick',\n",
       "  'time': '57089.28',\n",
       "  'u_time': 'MJD'},\n",
       " {'band': 'I',\n",
       "  'e_magnitude': '0.0664',\n",
       "  'magnitude': '17.9578',\n",
       "  'source': '1,13',\n",
       "  'telescope': 'Nick',\n",
       "  'time': '57089.29',\n",
       "  'u_time': 'MJD'},\n",
       " {'band': 'R',\n",
       "  'e_magnitude': '0.12',\n",
       "  'magnitude': '19.8',\n",
       "  'source': '3,11',\n",
       "  'time': '57091.72',\n",
       "  'u_time': 'MJD'},\n",
       " {'band': 'V',\n",
       "  'e_magnitude': '0.21',\n",
       "  'magnitude': '20.23',\n",
       "  'source': '3,11',\n",
       "  'time': '57091.72',\n",
       "  'u_time': 'MJD'}]"
      ]
     },
     "execution_count": 22,
     "metadata": {},
     "output_type": "execute_result"
    }
   ],
   "source": [
    "sndict[\"photometry\"]"
   ]
  },
  {
   "cell_type": "markdown",
   "metadata": {},
   "source": [
    "We can tweak the dicts into a slightly less fiddly structure and load it into a table."
   ]
  },
  {
   "cell_type": "code",
   "execution_count": 23,
   "metadata": {
    "collapsed": false
   },
   "outputs": [
    {
     "data": {
      "text/html": [
       "&lt;Table length=128&gt;\n",
       "<table id=\"table4657246952\" class=\"table-striped table-bordered table-condensed\">\n",
       "<thead><tr><th>MJD</th><th>dmag</th><th>filter</th><th>mag</th></tr></thead>\n",
       "<thead><tr><th>float64</th><th>float64</th><th>str5</th><th>float64</th></tr></thead>\n",
       "<tr><td>57064.24</td><td>0.1515</td><td>clear</td><td>18.0616</td></tr>\n",
       "<tr><td>57066.22</td><td>0.0646</td><td>clear</td><td>16.8465</td></tr>\n",
       "<tr><td>57067.35</td><td>0.1749</td><td>B</td><td>17.7117</td></tr>\n",
       "<tr><td>57067.35</td><td>0.0592</td><td>R</td><td>16.464</td></tr>\n",
       "<tr><td>57067.35</td><td>0.0891</td><td>V</td><td>16.9832</td></tr>\n",
       "<tr><td>57067.35</td><td>0.0542</td><td>clear</td><td>16.5726</td></tr>\n",
       "<tr><td>57067.36</td><td>0.0766</td><td>I</td><td>16.1834</td></tr>\n",
       "<tr><td>57068.21</td><td>0.1072</td><td>B</td><td>17.6548</td></tr>\n",
       "<tr><td>57068.22</td><td>0.0561</td><td>I</td><td>16.2318</td></tr>\n",
       "<tr><td>57068.22</td><td>0.0277</td><td>R</td><td>16.4146</td></tr>\n",
       "<tr><td>...</td><td>...</td><td>...</td><td>...</td></tr>\n",
       "<tr><td>57088.21</td><td>0.3254</td><td>I</td><td>18.1446</td></tr>\n",
       "<tr><td>57088.21</td><td>0.1802</td><td>R</td><td>18.2639</td></tr>\n",
       "<tr><td>57088.21</td><td>0.2386</td><td>V</td><td>18.6242</td></tr>\n",
       "<tr><td>57089.18</td><td>0.2174</td><td>R</td><td>18.6191</td></tr>\n",
       "<tr><td>57089.2</td><td>0.1662</td><td>clear</td><td>18.3348</td></tr>\n",
       "<tr><td>57089.28</td><td>0.0563</td><td>R</td><td>18.7836</td></tr>\n",
       "<tr><td>57089.28</td><td>0.1284</td><td>V</td><td>19.7519</td></tr>\n",
       "<tr><td>57089.29</td><td>0.0664</td><td>I</td><td>17.9578</td></tr>\n",
       "<tr><td>57091.72</td><td>0.12</td><td>R</td><td>19.8</td></tr>\n",
       "<tr><td>57091.72</td><td>0.21</td><td>V</td><td>20.23</td></tr>\n",
       "</table>"
      ],
      "text/plain": [
       "<Table length=128>\n",
       "  MJD      dmag  filter   mag  \n",
       "float64  float64  str5  float64\n",
       "-------- ------- ------ -------\n",
       "57064.24  0.1515  clear 18.0616\n",
       "57066.22  0.0646  clear 16.8465\n",
       "57067.35  0.1749      B 17.7117\n",
       "57067.35  0.0592      R  16.464\n",
       "57067.35  0.0891      V 16.9832\n",
       "57067.35  0.0542  clear 16.5726\n",
       "57067.36  0.0766      I 16.1834\n",
       "57068.21  0.1072      B 17.6548\n",
       "57068.22  0.0561      I 16.2318\n",
       "57068.22  0.0277      R 16.4146\n",
       "     ...     ...    ...     ...\n",
       "57088.21  0.3254      I 18.1446\n",
       "57088.21  0.1802      R 18.2639\n",
       "57088.21  0.2386      V 18.6242\n",
       "57089.18  0.2174      R 18.6191\n",
       " 57089.2  0.1662  clear 18.3348\n",
       "57089.28  0.0563      R 18.7836\n",
       "57089.28  0.1284      V 19.7519\n",
       "57089.29  0.0664      I 17.9578\n",
       "57091.72    0.12      R    19.8\n",
       "57091.72    0.21      V   20.23"
      ]
     },
     "execution_count": 23,
     "metadata": {},
     "output_type": "execute_result"
    }
   ],
   "source": [
    "phot_dict_list = sndict[\"photometry\"]\n",
    "new_phot_dict_list = []\n",
    "for i in phot_dict_list:\n",
    "    out_dict = OrderedDict()\n",
    "    \n",
    "    out_dict[\"MJD\"] = np.float64(i[\"time\"])\n",
    "    out_dict[\"mag\"] = np.float64(i[\"magnitude\"])\n",
    "    out_dict[\"dmag\"] = np.float64(i[\"e_magnitude\"])\n",
    "    out_dict[\"filter\"] = i[\"band\"]\n",
    "    \n",
    "    new_phot_dict_list.append(out_dict)\n",
    "\n",
    "phot_table=Table(rows=new_phot_dict_list)\n",
    "\n",
    "phot_table"
   ]
  },
  {
   "cell_type": "markdown",
   "metadata": {},
   "source": [
    "### Filters\n",
    "___\n",
    "\n",
    "Don't yet know how to deal with \"clear\" filters so I'll put it to one side (i.e. ditch it). The other filters need to be converted into ones that are in the filter registry. If you've forgotten what is in there:"
   ]
  },
  {
   "cell_type": "code",
   "execution_count": 24,
   "metadata": {
    "collapsed": false
   },
   "outputs": [
    {
     "data": {
      "text/plain": [
       "array(['2MASS_H.dat', '2MASS_J.dat', '2MASS_Ks.dat', 'all_filters.list',\n",
       "       'B.dat', 'BessellB.dat', 'BessellI.dat', 'BessellR.dat',\n",
       "       'BessellU.dat', 'BessellV.dat', 'Bol.dat', 'DES_g.dat', 'DES_i.dat',\n",
       "       'DES_r.dat', 'DES_y.dat', 'DES_z.dat', 'DESg.dat', 'DESi.dat',\n",
       "       'DESr.dat', 'DESu.dat', 'DESy.dat', 'DESz.dat', 'F2_Y.dat', 'g.dat',\n",
       "       'gaussian_6000_500.dat', 'gsSAGEMrf4.dat', 'H.dat',\n",
       "       'hardware_g.dat', 'hardware_i.dat', 'hardware_r.dat',\n",
       "       'hardware_u.dat', 'hardware_y.dat', 'hardware_z.dat', 'hawki_Y.dat',\n",
       "       'HST_F755.abs', 'HST_F775W.dat', 'HST_F850.dat', \"i'.dat\", 'i.dat',\n",
       "       'isSAGEMrf4.dat', 'J.dat', 'K.dat', 'LSQ_gr.dat', 'LSST_g.dat',\n",
       "       'LSST_i.dat', 'LSST_r.dat', 'LSST_u.dat', 'LSST_y.dat',\n",
       "       'LSST_z.dat', 'PS1_g.dat', 'PS1_i.dat', 'PS1_r.dat', 'PS1_y.dat',\n",
       "       'PS1_z.dat', 'PS1g.dat', 'PS1i.dat', 'PS1r.dat', 'PS1y.dat',\n",
       "       'PS1z.dat', 'PTF48_g.dat', 'PTF48_R.dat', \"r'.dat\", 'r.dat',\n",
       "       'rsSAGEMrf4.dat', 'SDSS_g.dat', 'SDSS_i.dat', 'SDSS_r.dat',\n",
       "       'SDSS_u.dat', 'SDSS_z.dat', 'SDSSg.dat', 'SDSSi.dat', 'SDSSr.dat',\n",
       "       'SDSSu.dat', 'SDSSz.dat', 'SNLS_g.dat', 'SNLS_i.dat', 'SNLS_r.dat',\n",
       "       'SNLS_u.dat', 'SNLS_z.dat', 'SNLSg.dat', 'SNLSi.dat', 'SNLSr.dat',\n",
       "       'SNLSz.dat', 'swift_U.dat', 'swift_UVW1.dat', 'swift_V.dat',\n",
       "       \"u'.dat\", 'u.dat', 'V.dat', 'z.dat', 'zsSAGEMrf4.dat'], \n",
       "      dtype='<U21')"
      ]
     },
     "execution_count": 24,
     "metadata": {},
     "output_type": "execute_result"
    }
   ],
   "source": [
    "pcc.utils._get_current_filter_registry()"
   ]
  },
  {
   "cell_type": "code",
   "execution_count": 25,
   "metadata": {
    "collapsed": true
   },
   "outputs": [],
   "source": [
    "w = np.where(phot_table[\"filter\"] != \"clear\")\n",
    "# print(w)\n",
    "\n",
    "phot_table_filtered = phot_table[w]"
   ]
  },
  {
   "cell_type": "markdown",
   "metadata": {},
   "source": [
    "## Converting to Flux\n",
    "___\n",
    "\n",
    "All of the reported phot is in Mags. We need to work out Zeropoints and convert to flux."
   ]
  },
  {
   "cell_type": "code",
   "execution_count": 26,
   "metadata": {
    "collapsed": false
   },
   "outputs": [
    {
     "name": "stdout",
     "output_type": "stream",
     "text": [
      "B\n",
      "I\n",
      "R\n",
      "V\n"
     ]
    }
   ],
   "source": [
    "# pcc.kcorr.calc_AB_zp?\n",
    "filt_dict = OrderedDict()\n",
    "\n",
    "for filter_name in np.unique(phot_table_filtered[\"filter\"]):\n",
    "#     filter_name = \"Bessell\"+filter_name\n",
    "#     filter_dir_path = os.path.join(pcc.defaults._default_filter_dir_path, \"Bessell\"+filter_name+\".dat\")\n",
    "    print(filter_name)\n",
    "    filter_object = pcc.classes.FilterClass()\n",
    "    filter_object.load(path=os.path.join(pcc.defaults._default_filter_dir_path, \"Bessell\"+filter_name+\".dat\"), fmt=\"ascii\",\n",
    "                      name=\"Bessell\"+filter_name)\n",
    "    filter_object.calculate_AB_zp()\n",
    "    filt_dict[\"Bessell\"+filter_name]=filter_object"
   ]
  },
  {
   "cell_type": "code",
   "execution_count": 27,
   "metadata": {
    "collapsed": false
   },
   "outputs": [
    {
     "data": {
      "text/html": [
       "&lt;Table length=109&gt;\n",
       "<table id=\"table4671231312\" class=\"table-striped table-bordered table-condensed\">\n",
       "<thead><tr><th>MJD</th><th>dmag</th><th>filter</th><th>mag</th></tr></thead>\n",
       "<thead><tr><th>float64</th><th>float64</th><th>str8</th><th>float64</th></tr></thead>\n",
       "<tr><td>57067.35</td><td>0.1749</td><td>BessellB</td><td>17.7117</td></tr>\n",
       "<tr><td>57067.35</td><td>0.0592</td><td>BessellR</td><td>16.464</td></tr>\n",
       "<tr><td>57067.35</td><td>0.0891</td><td>BessellV</td><td>16.9832</td></tr>\n",
       "<tr><td>57067.36</td><td>0.0766</td><td>BessellI</td><td>16.1834</td></tr>\n",
       "<tr><td>57068.21</td><td>0.1072</td><td>BessellB</td><td>17.6548</td></tr>\n",
       "<tr><td>57068.22</td><td>0.0561</td><td>BessellI</td><td>16.2318</td></tr>\n",
       "<tr><td>57068.22</td><td>0.0277</td><td>BessellR</td><td>16.4146</td></tr>\n",
       "<tr><td>57068.22</td><td>0.0476</td><td>BessellV</td><td>16.8599</td></tr>\n",
       "<tr><td>57070.19</td><td>0.0874</td><td>BessellB</td><td>17.6547</td></tr>\n",
       "<tr><td>57070.19</td><td>0.0486</td><td>BessellI</td><td>15.8808</td></tr>\n",
       "<tr><td>...</td><td>...</td><td>...</td><td>...</td></tr>\n",
       "<tr><td>57087.2</td><td>0.1939</td><td>BessellV</td><td>18.7344</td></tr>\n",
       "<tr><td>57088.21</td><td>0.3254</td><td>BessellI</td><td>18.1446</td></tr>\n",
       "<tr><td>57088.21</td><td>0.1802</td><td>BessellR</td><td>18.2639</td></tr>\n",
       "<tr><td>57088.21</td><td>0.2386</td><td>BessellV</td><td>18.6242</td></tr>\n",
       "<tr><td>57089.18</td><td>0.2174</td><td>BessellR</td><td>18.6191</td></tr>\n",
       "<tr><td>57089.28</td><td>0.0563</td><td>BessellR</td><td>18.7836</td></tr>\n",
       "<tr><td>57089.28</td><td>0.1284</td><td>BessellV</td><td>19.7519</td></tr>\n",
       "<tr><td>57089.29</td><td>0.0664</td><td>BessellI</td><td>17.9578</td></tr>\n",
       "<tr><td>57091.72</td><td>0.12</td><td>BessellR</td><td>19.8</td></tr>\n",
       "<tr><td>57091.72</td><td>0.21</td><td>BessellV</td><td>20.23</td></tr>\n",
       "</table>"
      ],
      "text/plain": [
       "<Table length=109>\n",
       "  MJD      dmag   filter    mag  \n",
       "float64  float64   str8   float64\n",
       "-------- ------- -------- -------\n",
       "57067.35  0.1749 BessellB 17.7117\n",
       "57067.35  0.0592 BessellR  16.464\n",
       "57067.35  0.0891 BessellV 16.9832\n",
       "57067.36  0.0766 BessellI 16.1834\n",
       "57068.21  0.1072 BessellB 17.6548\n",
       "57068.22  0.0561 BessellI 16.2318\n",
       "57068.22  0.0277 BessellR 16.4146\n",
       "57068.22  0.0476 BessellV 16.8599\n",
       "57070.19  0.0874 BessellB 17.6547\n",
       "57070.19  0.0486 BessellI 15.8808\n",
       "     ...     ...      ...     ...\n",
       " 57087.2  0.1939 BessellV 18.7344\n",
       "57088.21  0.3254 BessellI 18.1446\n",
       "57088.21  0.1802 BessellR 18.2639\n",
       "57088.21  0.2386 BessellV 18.6242\n",
       "57089.18  0.2174 BessellR 18.6191\n",
       "57089.28  0.0563 BessellR 18.7836\n",
       "57089.28  0.1284 BessellV 19.7519\n",
       "57089.29  0.0664 BessellI 17.9578\n",
       "57091.72    0.12 BessellR    19.8\n",
       "57091.72    0.21 BessellV   20.23"
      ]
     },
     "execution_count": 27,
     "metadata": {},
     "output_type": "execute_result"
    }
   ],
   "source": [
    "phot_table_filtered[\"filter\"] = Column(list(map(lambda x: \"Bessell\"+x, phot_table_filtered[\"filter\"])))\n",
    "\n",
    "phot_table_filtered"
   ]
  },
  {
   "cell_type": "code",
   "execution_count": 28,
   "metadata": {
    "collapsed": true
   },
   "outputs": [],
   "source": [
    "# filt_dict[\"BessellB\"].zp_AB\n",
    "phot_table_filtered[\"zp_AB\"] = Column(list(map(lambda x: filt_dict[x].zp_AB, phot_table_filtered[\"filter\"])),\n",
    "                                      name=\"zp_AB\")"
   ]
  },
  {
   "cell_type": "code",
   "execution_count": 29,
   "metadata": {
    "collapsed": false
   },
   "outputs": [
    {
     "data": {
      "text/html": [
       "&lt;Table length=109&gt;\n",
       "<table id=\"table4671231312\" class=\"table-striped table-bordered table-condensed\">\n",
       "<thead><tr><th>MJD</th><th>dmag</th><th>filter</th><th>mag</th><th>zp_AB</th><th>flux</th><th>flux_err</th></tr></thead>\n",
       "<thead><tr><th></th><th></th><th></th><th></th><th></th><th>erg / (Angstrom cm2 s)</th><th>erg / (Angstrom cm2 s)</th></tr></thead>\n",
       "<thead><tr><th>float64</th><th>float64</th><th>str8</th><th>float64</th><th>float64</th><th>float64</th><th>float64</th></tr></thead>\n",
       "<tr><td>57067.35</td><td>0.1749</td><td>BessellB</td><td>17.7117</td><td>20.6107448455</td><td>4.68837198092e-16</td><td>4.26306346876e-18</td></tr>\n",
       "<tr><td>57067.35</td><td>0.0592</td><td>BessellR</td><td>16.464</td><td>21.4714328359</td><td>6.69617608692e-16</td><td>2.21709033978e-18</td></tr>\n",
       "<tr><td>57067.35</td><td>0.0891</td><td>BessellV</td><td>16.9832</td><td>21.1007523635</td><td>5.84008347334e-16</td><td>2.82128792012e-18</td></tr>\n",
       "<tr><td>57067.36</td><td>0.0766</td><td>BessellI</td><td>16.1834</td><td>21.9208217455</td><td>5.73206757725e-16</td><td>2.49827635499e-18</td></tr>\n",
       "<tr><td>57068.21</td><td>0.1072</td><td>BessellB</td><td>17.6548</td><td>20.6107448455</td><td>4.9406269362e-16</td><td>2.76238508105e-18</td></tr>\n",
       "<tr><td>57068.22</td><td>0.0561</td><td>BessellI</td><td>16.2318</td><td>21.9208217455</td><td>5.48215489109e-16</td><td>1.74468752157e-18</td></tr>\n",
       "<tr><td>57068.22</td><td>0.0277</td><td>BessellR</td><td>16.4146</td><td>21.4714328359</td><td>7.00788337365e-16</td><td>1.08894640471e-18</td></tr>\n",
       "<tr><td>57068.22</td><td>0.0476</td><td>BessellV</td><td>16.8599</td><td>21.1007523635</td><td>6.54242954735e-16</td><td>1.70083109715e-18</td></tr>\n",
       "<tr><td>57070.19</td><td>0.0874</td><td>BessellB</td><td>17.6547</td><td>20.6107448455</td><td>4.94108200571e-16</td><td>2.25238863349e-18</td></tr>\n",
       "<tr><td>...</td><td>...</td><td>...</td><td>...</td><td>...</td><td>...</td><td>...</td></tr>\n",
       "<tr><td>57087.2</td><td>0.1939</td><td>BessellV</td><td>18.7344</td><td>21.1007523635</td><td>1.16396267678e-16</td><td>1.1092954963e-18</td></tr>\n",
       "<tr><td>57088.21</td><td>0.3254</td><td>BessellI</td><td>18.1446</td><td>21.9208217455</td><td>9.41523798126e-17</td><td>1.55478959861e-18</td></tr>\n",
       "<tr><td>57088.21</td><td>0.1802</td><td>BessellR</td><td>18.2639</td><td>21.4714328359</td><td>1.27604757233e-16</td><td>1.15930659485e-18</td></tr>\n",
       "<tr><td>57088.21</td><td>0.2386</td><td>BessellV</td><td>18.6242</td><td>21.1007523635</td><td>1.28830607469e-16</td><td>1.51978460854e-18</td></tr>\n",
       "<tr><td>57089.18</td><td>0.2174</td><td>BessellR</td><td>18.6191</td><td>21.4714328359</td><td>9.19997962704e-17</td><td>9.89140298205e-19</td></tr>\n",
       "<tr><td>57089.28</td><td>0.0563</td><td>BessellR</td><td>18.7836</td><td>21.4714328359</td><td>7.90654715846e-17</td><td>2.1821600665e-19</td></tr>\n",
       "<tr><td>57089.28</td><td>0.1284</td><td>BessellV</td><td>19.7519</td><td>21.1007523635</td><td>4.55972923887e-17</td><td>2.72938861024e-19</td></tr>\n",
       "<tr><td>57089.29</td><td>0.0664</td><td>BessellI</td><td>17.9578</td><td>21.9208217455</td><td>1.1182819158e-16</td><td>3.80746943355e-19</td></tr>\n",
       "<tr><td>57091.72</td><td>0.12</td><td>BessellR</td><td>19.8</td><td>21.4714328359</td><td>3.10046523201e-17</td><td>1.73026688544e-19</td></tr>\n",
       "<tr><td>57091.72</td><td>0.21</td><td>BessellV</td><td>20.23</td><td>21.1007523635</td><td>2.93561470578e-17</td><td>2.80603214148e-19</td></tr>\n",
       "</table>"
      ],
      "text/plain": [
       "<Table length=109>\n",
       "  MJD      dmag   filter  ...          flux                 flux_err       \n",
       "                          ... erg / (Angstrom cm2 s) erg / (Angstrom cm2 s)\n",
       "float64  float64   str8   ...        float64                float64        \n",
       "-------- ------- -------- ... ---------------------- ----------------------\n",
       "57067.35  0.1749 BessellB ...      4.68837198092e-16      4.26306346876e-18\n",
       "57067.35  0.0592 BessellR ...      6.69617608692e-16      2.21709033978e-18\n",
       "57067.35  0.0891 BessellV ...      5.84008347334e-16      2.82128792012e-18\n",
       "57067.36  0.0766 BessellI ...      5.73206757725e-16      2.49827635499e-18\n",
       "57068.21  0.1072 BessellB ...       4.9406269362e-16      2.76238508105e-18\n",
       "57068.22  0.0561 BessellI ...      5.48215489109e-16      1.74468752157e-18\n",
       "57068.22  0.0277 BessellR ...      7.00788337365e-16      1.08894640471e-18\n",
       "57068.22  0.0476 BessellV ...      6.54242954735e-16      1.70083109715e-18\n",
       "57070.19  0.0874 BessellB ...      4.94108200571e-16      2.25238863349e-18\n",
       "     ...     ...      ... ...                    ...                    ...\n",
       " 57087.2  0.1939 BessellV ...      1.16396267678e-16       1.1092954963e-18\n",
       "57088.21  0.3254 BessellI ...      9.41523798126e-17      1.55478959861e-18\n",
       "57088.21  0.1802 BessellR ...      1.27604757233e-16      1.15930659485e-18\n",
       "57088.21  0.2386 BessellV ...      1.28830607469e-16      1.51978460854e-18\n",
       "57089.18  0.2174 BessellR ...      9.19997962704e-17      9.89140298205e-19\n",
       "57089.28  0.0563 BessellR ...      7.90654715846e-17       2.1821600665e-19\n",
       "57089.28  0.1284 BessellV ...      4.55972923887e-17      2.72938861024e-19\n",
       "57089.29  0.0664 BessellI ...       1.1182819158e-16      3.80746943355e-19\n",
       "57091.72    0.12 BessellR ...      3.10046523201e-17      1.73026688544e-19\n",
       "57091.72    0.21 BessellV ...      2.93561470578e-17      2.80603214148e-19"
      ]
     },
     "execution_count": 29,
     "metadata": {},
     "output_type": "execute_result"
    }
   ],
   "source": [
    "phot_table_filtered[\"flux\"] = Column(np.power(10.0, -(phot_table_filtered[\"mag\"]+phot_table_filtered[\"zp_AB\"])/2.5),\n",
    "                                      name=\"flux\", unit=u.cgs.erg / u.si.angstrom / u.si.cm ** 2 / u.si.s)\n",
    "phot_table_filtered[\"flux_err\"] = Column(phot_table_filtered[\"flux\"] / (1.086 * phot_table_filtered[\"mag\"]/phot_table_filtered[\"dmag\"]),\n",
    "                                        name=\"flux_error\", unit=u.cgs.erg / u.si.angstrom / u.si.cm ** 2 / u.si.s)\n",
    "\n",
    "phot_table_filtered"
   ]
  },
  {
   "cell_type": "code",
   "execution_count": 30,
   "metadata": {
    "collapsed": false
   },
   "outputs": [
    {
     "data": {
      "text/html": [
       "&lt;Table length=109&gt;\n",
       "<table id=\"table4657275232\" class=\"table-striped table-bordered table-condensed\">\n",
       "<thead><tr><th>MJD</th><th>flux</th><th>flux_err</th><th>filter</th></tr></thead>\n",
       "<thead><tr><th></th><th>erg / (Angstrom cm2 s)</th><th>erg / (Angstrom cm2 s)</th><th></th></tr></thead>\n",
       "<thead><tr><th>float64</th><th>float64</th><th>float64</th><th>str8</th></tr></thead>\n",
       "<tr><td>57067.35</td><td>4.68837198092e-16</td><td>4.26306346876e-18</td><td>BessellB</td></tr>\n",
       "<tr><td>57067.35</td><td>6.69617608692e-16</td><td>2.21709033978e-18</td><td>BessellR</td></tr>\n",
       "<tr><td>57067.35</td><td>5.84008347334e-16</td><td>2.82128792012e-18</td><td>BessellV</td></tr>\n",
       "<tr><td>57067.36</td><td>5.73206757725e-16</td><td>2.49827635499e-18</td><td>BessellI</td></tr>\n",
       "<tr><td>57068.21</td><td>4.9406269362e-16</td><td>2.76238508105e-18</td><td>BessellB</td></tr>\n",
       "<tr><td>57068.22</td><td>5.48215489109e-16</td><td>1.74468752157e-18</td><td>BessellI</td></tr>\n",
       "<tr><td>57068.22</td><td>7.00788337365e-16</td><td>1.08894640471e-18</td><td>BessellR</td></tr>\n",
       "<tr><td>57068.22</td><td>6.54242954735e-16</td><td>1.70083109715e-18</td><td>BessellV</td></tr>\n",
       "<tr><td>57070.19</td><td>4.94108200571e-16</td><td>2.25238863349e-18</td><td>BessellB</td></tr>\n",
       "<tr><td>...</td><td>...</td><td>...</td><td>...</td></tr>\n",
       "<tr><td>57087.2</td><td>1.16396267678e-16</td><td>1.1092954963e-18</td><td>BessellV</td></tr>\n",
       "<tr><td>57088.21</td><td>9.41523798126e-17</td><td>1.55478959861e-18</td><td>BessellI</td></tr>\n",
       "<tr><td>57088.21</td><td>1.27604757233e-16</td><td>1.15930659485e-18</td><td>BessellR</td></tr>\n",
       "<tr><td>57088.21</td><td>1.28830607469e-16</td><td>1.51978460854e-18</td><td>BessellV</td></tr>\n",
       "<tr><td>57089.18</td><td>9.19997962704e-17</td><td>9.89140298205e-19</td><td>BessellR</td></tr>\n",
       "<tr><td>57089.28</td><td>7.90654715846e-17</td><td>2.1821600665e-19</td><td>BessellR</td></tr>\n",
       "<tr><td>57089.28</td><td>4.55972923887e-17</td><td>2.72938861024e-19</td><td>BessellV</td></tr>\n",
       "<tr><td>57089.29</td><td>1.1182819158e-16</td><td>3.80746943355e-19</td><td>BessellI</td></tr>\n",
       "<tr><td>57091.72</td><td>3.10046523201e-17</td><td>1.73026688544e-19</td><td>BessellR</td></tr>\n",
       "<tr><td>57091.72</td><td>2.93561470578e-17</td><td>2.80603214148e-19</td><td>BessellV</td></tr>\n",
       "</table>"
      ],
      "text/plain": [
       "<Table length=109>\n",
       "  MJD             flux                 flux_err         filter \n",
       "         erg / (Angstrom cm2 s) erg / (Angstrom cm2 s)         \n",
       "float64         float64                float64           str8  \n",
       "-------- ---------------------- ---------------------- --------\n",
       "57067.35      4.68837198092e-16      4.26306346876e-18 BessellB\n",
       "57067.35      6.69617608692e-16      2.21709033978e-18 BessellR\n",
       "57067.35      5.84008347334e-16      2.82128792012e-18 BessellV\n",
       "57067.36      5.73206757725e-16      2.49827635499e-18 BessellI\n",
       "57068.21       4.9406269362e-16      2.76238508105e-18 BessellB\n",
       "57068.22      5.48215489109e-16      1.74468752157e-18 BessellI\n",
       "57068.22      7.00788337365e-16      1.08894640471e-18 BessellR\n",
       "57068.22      6.54242954735e-16      1.70083109715e-18 BessellV\n",
       "57070.19      4.94108200571e-16      2.25238863349e-18 BessellB\n",
       "     ...                    ...                    ...      ...\n",
       " 57087.2      1.16396267678e-16       1.1092954963e-18 BessellV\n",
       "57088.21      9.41523798126e-17      1.55478959861e-18 BessellI\n",
       "57088.21      1.27604757233e-16      1.15930659485e-18 BessellR\n",
       "57088.21      1.28830607469e-16      1.51978460854e-18 BessellV\n",
       "57089.18      9.19997962704e-17      9.89140298205e-19 BessellR\n",
       "57089.28      7.90654715846e-17       2.1821600665e-19 BessellR\n",
       "57089.28      4.55972923887e-17      2.72938861024e-19 BessellV\n",
       "57089.29       1.1182819158e-16      3.80746943355e-19 BessellI\n",
       "57091.72      3.10046523201e-17      1.73026688544e-19 BessellR\n",
       "57091.72      2.93561470578e-17      2.80603214148e-19 BessellV"
      ]
     },
     "execution_count": 30,
     "metadata": {},
     "output_type": "execute_result"
    }
   ],
   "source": [
    "out_phot = phot_table_filtered[(\"MJD\", \"flux\", \"flux_err\", \"filter\")]\n",
    "out_phot"
   ]
  },
  {
   "cell_type": "code",
   "execution_count": 31,
   "metadata": {
    "collapsed": false
   },
   "outputs": [
    {
     "name": "stderr",
     "output_type": "stream",
     "text": [
      "WARNING: AstropyDeprecationWarning: /Users/berto/Code/CoCo/data/lc/SN2015U.dat already exists. Automatically overwriting ASCII files is deprecated. Use the argument 'overwrite=True' in the future. [astropy.io.ascii.ui]\n"
     ]
    }
   ],
   "source": [
    "phot_dir = os.path.join(out_data_dir, \"lc/\")\n",
    "\n",
    "if not os.path.isdir(phot_dir):\n",
    "    os.makedirs(phot_dir)\n",
    "    \n",
    "phot_filename = \"SN2015U.dat\"\n",
    "phot_outpath = os.path.join(phot_dir, phot_filename)\n",
    "out_phot.write(phot_outpath, format = \"ascii.fast_commented_header\")\n"
   ]
  },
  {
   "cell_type": "markdown",
   "metadata": {},
   "source": [
    "## The Infofile\n",
    "----\n",
    "This is needed for the simulation and a few other bits (_citation needed_)"
   ]
  },
  {
   "cell_type": "code",
   "execution_count": 32,
   "metadata": {
    "collapsed": true
   },
   "outputs": [],
   "source": [
    "info = pcc.classes.InfoClass()\n",
    "info.load()"
   ]
  },
  {
   "cell_type": "code",
   "execution_count": 33,
   "metadata": {
    "collapsed": false
   },
   "outputs": [
    {
     "data": {
      "text/html": [
       "&lt;Table length=30&gt;\n",
       "<table id=\"table4671878368\" class=\"table-striped table-bordered table-condensed\">\n",
       "<thead><tr><th>snname</th><th>z_obs</th><th>mu</th><th>RA</th><th>Dec</th><th>Type</th><th>z_distmod</th><th>SkyCoords</th></tr></thead>\n",
       "<thead><tr><th></th><th></th><th></th><th></th><th></th><th></th><th></th><th>deg,deg</th></tr></thead>\n",
       "<thead><tr><th>str9</th><th>float64</th><th>float64</th><th>str13</th><th>str13</th><th>str3</th><th>float64</th><th>object</th></tr></thead>\n",
       "<tr><td>SN1993J</td><td>-0.0001</td><td>27.82</td><td>09:55:24.7747</td><td>+69:01:13.702</td><td>IIb</td><td>0.000846738572565</td><td>148.85322791666664,69.02047277777778</td></tr>\n",
       "<tr><td>SN1994I</td><td>0.0015</td><td>29.5</td><td>13:29:54.072</td><td>+47:11:30.50</td><td>Ic</td><td>0.00183405936245</td><td>202.47529999999995,47.191805555555554</td></tr>\n",
       "<tr><td>SN1996cb</td><td>0.0024</td><td>30.69</td><td>11:03:41.98</td><td>+28:54:13.7</td><td>IIb</td><td>0.00316927429656</td><td>165.92491666666666,28.903805555555554</td></tr>\n",
       "<tr><td>SN1998bw</td><td>0.0085</td><td>32.69</td><td>19:35:03.17</td><td>-52:50:46.1</td><td>Ic</td><td>0.00793139066351</td><td>293.76320833333324,-52.846138888888895</td></tr>\n",
       "<tr><td>SN1999dn</td><td>0.0093</td><td>32.44</td><td>23:36:14.70</td><td>+02:09:08.8</td><td>Ib</td><td>0.00707356943452</td><td>354.06125,2.1524444444444444</td></tr>\n",
       "<tr><td>SN2002ap</td><td>0.0022</td><td>29.76</td><td>01:36:23.85</td><td>+15:45:13.2</td><td>Ic</td><td>0.00206697015014</td><td>24.099375,15.753666666666666</td></tr>\n",
       "<tr><td>SN2003jd</td><td>0.0188</td><td>34.33</td><td>23:21:03.38</td><td>-04:53:45.5</td><td>Ic</td><td>0.01676453466</td><td>350.2640833333333,-4.8959722222222215</td></tr>\n",
       "<tr><td>SN2004aw</td><td>0.0159</td><td>34.48</td><td>11:57:50.24</td><td>+25:15:55.1</td><td>Ic</td><td>0.0179472672379</td><td>179.45933333333332,25.265305555555557</td></tr>\n",
       "<tr><td>SN2005bf</td><td>0.0189</td><td>34.73</td><td>10:23:56.99</td><td>-03:11:29.3</td><td>Ib</td><td>0.0201040285508</td><td>155.9874583333333,-3.191472222222222</td></tr>\n",
       "<tr><td>...</td><td>...</td><td>...</td><td>...</td><td>...</td><td>...</td><td>...</td><td>...</td></tr>\n",
       "<tr><td>SN2009iz</td><td>0.0142</td><td>33.75</td><td>02:42:15.41</td><td>+42:23:50.1</td><td>Ib</td><td>0.0128732980981</td><td>40.564208333333326,42.39725</td></tr>\n",
       "<tr><td>SN2009jf</td><td>0.008</td><td>32.58</td><td>23:04:52.98</td><td>+12:19:59.5</td><td>Ib</td><td>0.00754189788211</td><td>346.22074999999995,12.333194444444445</td></tr>\n",
       "<tr><td>SN2010al</td><td>0.017</td><td>34.74</td><td>08:14:15.91</td><td>+18:26:18.2</td><td>Ib</td><td>0.0201954171702</td><td>123.56629166666664,18.438388888888888</td></tr>\n",
       "<tr><td>SN2011bm</td><td>0.0022</td><td>35.53</td><td>12:56:53.89</td><td>+22:22:28.2</td><td>Ic</td><td>0.0288668876597</td><td>194.22454166666665,22.3745</td></tr>\n",
       "<tr><td>SN2011dh</td><td>0.0015</td><td>29.5</td><td>13:30:05.1055</td><td>+47:10:10.922</td><td>IIb</td><td>0.00183405936245</td><td>202.52127291666665,47.16970055555555</td></tr>\n",
       "<tr><td>SN2011ei</td><td>0.0093</td><td>32.41</td><td>20:34:22.62</td><td>-31:58:23.6</td><td>IIb</td><td>0.00697703973932</td><td>308.59424999999993,-31.97322222222222</td></tr>\n",
       "<tr><td>SN2011fu</td><td>0.0185</td><td>34.46</td><td>02:08:21.41</td><td>+41:29:12.3</td><td>IIb</td><td>0.0177849337761</td><td>32.08920833333333,41.48675</td></tr>\n",
       "<tr><td>SN2012ap</td><td>0.0121</td><td>32.96</td><td>05:00:13.72</td><td>-03:20:51.2</td><td>Ib</td><td>0.00897424974731</td><td>75.05716666666666,-3.3475555555555556</td></tr>\n",
       "<tr><td>SN2013ge</td><td>0.0043</td><td>31.36</td><td>10:34:48.46</td><td>+21:39:41.9</td><td>Ib</td><td>0.00431094726025</td><td>158.70191666666665,21.661638888888888</td></tr>\n",
       "<tr><td>iPTF13bvn</td><td>0.00449</td><td>32.14</td><td>15:00:00.15</td><td>+01:52:53.17</td><td>Ib</td><td>0.00616517411033</td><td>225.00062499999996,1.881436111111111</td></tr>\n",
       "</table>"
      ],
      "text/plain": [
       "<Table length=30>\n",
       "  snname   z_obs  ...     z_distmod                   SkyCoords               \n",
       "                  ...                                  deg,deg                \n",
       "   str9   float64 ...      float64                      object                \n",
       "--------- ------- ... ----------------- --------------------------------------\n",
       "  SN1993J -0.0001 ... 0.000846738572565   148.85322791666664,69.02047277777778\n",
       "  SN1994I  0.0015 ...  0.00183405936245  202.47529999999995,47.191805555555554\n",
       " SN1996cb  0.0024 ...  0.00316927429656  165.92491666666666,28.903805555555554\n",
       " SN1998bw  0.0085 ...  0.00793139066351 293.76320833333324,-52.846138888888895\n",
       " SN1999dn  0.0093 ...  0.00707356943452           354.06125,2.1524444444444444\n",
       " SN2002ap  0.0022 ...  0.00206697015014           24.099375,15.753666666666666\n",
       " SN2003jd  0.0188 ...     0.01676453466  350.2640833333333,-4.8959722222222215\n",
       " SN2004aw  0.0159 ...   0.0179472672379  179.45933333333332,25.265305555555557\n",
       " SN2005bf  0.0189 ...   0.0201040285508   155.9874583333333,-3.191472222222222\n",
       "      ...     ... ...               ...                                    ...\n",
       " SN2009iz  0.0142 ...   0.0128732980981            40.564208333333326,42.39725\n",
       " SN2009jf   0.008 ...  0.00754189788211  346.22074999999995,12.333194444444445\n",
       " SN2010al   0.017 ...   0.0201954171702  123.56629166666664,18.438388888888888\n",
       " SN2011bm  0.0022 ...   0.0288668876597             194.22454166666665,22.3745\n",
       " SN2011dh  0.0015 ...  0.00183405936245   202.52127291666665,47.16970055555555\n",
       " SN2011ei  0.0093 ...  0.00697703973932  308.59424999999993,-31.97322222222222\n",
       " SN2011fu  0.0185 ...   0.0177849337761             32.08920833333333,41.48675\n",
       " SN2012ap  0.0121 ...  0.00897424974731  75.05716666666666,-3.3475555555555556\n",
       " SN2013ge  0.0043 ...  0.00431094726025  158.70191666666665,21.661638888888888\n",
       "iPTF13bvn 0.00449 ...  0.00616517411033   225.00062499999996,1.881436111111111"
      ]
     },
     "execution_count": 33,
     "metadata": {},
     "output_type": "execute_result"
    }
   ],
   "source": [
    "info._data"
   ]
  },
  {
   "cell_type": "code",
   "execution_count": 34,
   "metadata": {
    "collapsed": true
   },
   "outputs": [],
   "source": [
    "small_table = info._data[(\"snname\", \"z_obs\", \"mu\", \"RA\", \"Dec\", \"Type\", \"z_distmod\")]"
   ]
  },
  {
   "cell_type": "code",
   "execution_count": 35,
   "metadata": {
    "collapsed": false
   },
   "outputs": [
    {
     "data": {
      "text/html": [
       "&lt;Table length=30&gt;\n",
       "<table id=\"table4671233104\" class=\"table-striped table-bordered table-condensed\">\n",
       "<thead><tr><th>snname</th><th>z_obs</th><th>mu</th><th>RA</th><th>Dec</th><th>Type</th><th>z_distmod</th></tr></thead>\n",
       "<thead><tr><th>str9</th><th>float64</th><th>float64</th><th>str13</th><th>str13</th><th>str3</th><th>float64</th></tr></thead>\n",
       "<tr><td>SN1993J</td><td>-0.0001</td><td>27.82</td><td>09:55:24.7747</td><td>+69:01:13.702</td><td>IIb</td><td>0.000846738572565</td></tr>\n",
       "<tr><td>SN1994I</td><td>0.0015</td><td>29.5</td><td>13:29:54.072</td><td>+47:11:30.50</td><td>Ic</td><td>0.00183405936245</td></tr>\n",
       "<tr><td>SN1996cb</td><td>0.0024</td><td>30.69</td><td>11:03:41.98</td><td>+28:54:13.7</td><td>IIb</td><td>0.00316927429656</td></tr>\n",
       "<tr><td>SN1998bw</td><td>0.0085</td><td>32.69</td><td>19:35:03.17</td><td>-52:50:46.1</td><td>Ic</td><td>0.00793139066351</td></tr>\n",
       "<tr><td>SN1999dn</td><td>0.0093</td><td>32.44</td><td>23:36:14.70</td><td>+02:09:08.8</td><td>Ib</td><td>0.00707356943452</td></tr>\n",
       "<tr><td>SN2002ap</td><td>0.0022</td><td>29.76</td><td>01:36:23.85</td><td>+15:45:13.2</td><td>Ic</td><td>0.00206697015014</td></tr>\n",
       "<tr><td>SN2003jd</td><td>0.0188</td><td>34.33</td><td>23:21:03.38</td><td>-04:53:45.5</td><td>Ic</td><td>0.01676453466</td></tr>\n",
       "<tr><td>SN2004aw</td><td>0.0159</td><td>34.48</td><td>11:57:50.24</td><td>+25:15:55.1</td><td>Ic</td><td>0.0179472672379</td></tr>\n",
       "<tr><td>SN2005bf</td><td>0.0189</td><td>34.73</td><td>10:23:56.99</td><td>-03:11:29.3</td><td>Ib</td><td>0.0201040285508</td></tr>\n",
       "<tr><td>SN2005hg</td><td>0.021</td><td>34.54</td><td>01:55:41.87</td><td>+46:47:47.4</td><td>Ib</td><td>0.0184430908334</td></tr>\n",
       "<tr><td>...</td><td>...</td><td>...</td><td>...</td><td>...</td><td>...</td><td>...</td></tr>\n",
       "<tr><td>SN2009iz</td><td>0.0142</td><td>33.75</td><td>02:42:15.41</td><td>+42:23:50.1</td><td>Ib</td><td>0.0128732980981</td></tr>\n",
       "<tr><td>SN2009jf</td><td>0.008</td><td>32.58</td><td>23:04:52.98</td><td>+12:19:59.5</td><td>Ib</td><td>0.00754189788211</td></tr>\n",
       "<tr><td>SN2010al</td><td>0.017</td><td>34.74</td><td>08:14:15.91</td><td>+18:26:18.2</td><td>Ib</td><td>0.0201954171702</td></tr>\n",
       "<tr><td>SN2011bm</td><td>0.0022</td><td>35.53</td><td>12:56:53.89</td><td>+22:22:28.2</td><td>Ic</td><td>0.0288668876597</td></tr>\n",
       "<tr><td>SN2011dh</td><td>0.0015</td><td>29.5</td><td>13:30:05.1055</td><td>+47:10:10.922</td><td>IIb</td><td>0.00183405936245</td></tr>\n",
       "<tr><td>SN2011ei</td><td>0.0093</td><td>32.41</td><td>20:34:22.62</td><td>-31:58:23.6</td><td>IIb</td><td>0.00697703973932</td></tr>\n",
       "<tr><td>SN2011fu</td><td>0.0185</td><td>34.46</td><td>02:08:21.41</td><td>+41:29:12.3</td><td>IIb</td><td>0.0177849337761</td></tr>\n",
       "<tr><td>SN2012ap</td><td>0.0121</td><td>32.96</td><td>05:00:13.72</td><td>-03:20:51.2</td><td>Ib</td><td>0.00897424974731</td></tr>\n",
       "<tr><td>SN2013ge</td><td>0.0043</td><td>31.36</td><td>10:34:48.46</td><td>+21:39:41.9</td><td>Ib</td><td>0.00431094726025</td></tr>\n",
       "<tr><td>iPTF13bvn</td><td>0.00449</td><td>32.14</td><td>15:00:00.15</td><td>+01:52:53.17</td><td>Ib</td><td>0.00616517411033</td></tr>\n",
       "</table>"
      ],
      "text/plain": [
       "<Table length=30>\n",
       "  snname   z_obs     mu         RA           Dec      Type     z_distmod    \n",
       "   str9   float64 float64     str13         str13     str3      float64     \n",
       "--------- ------- ------- ------------- ------------- ---- -----------------\n",
       "  SN1993J -0.0001   27.82 09:55:24.7747 +69:01:13.702  IIb 0.000846738572565\n",
       "  SN1994I  0.0015    29.5  13:29:54.072  +47:11:30.50   Ic  0.00183405936245\n",
       " SN1996cb  0.0024   30.69   11:03:41.98   +28:54:13.7  IIb  0.00316927429656\n",
       " SN1998bw  0.0085   32.69   19:35:03.17   -52:50:46.1   Ic  0.00793139066351\n",
       " SN1999dn  0.0093   32.44   23:36:14.70   +02:09:08.8   Ib  0.00707356943452\n",
       " SN2002ap  0.0022   29.76   01:36:23.85   +15:45:13.2   Ic  0.00206697015014\n",
       " SN2003jd  0.0188   34.33   23:21:03.38   -04:53:45.5   Ic     0.01676453466\n",
       " SN2004aw  0.0159   34.48   11:57:50.24   +25:15:55.1   Ic   0.0179472672379\n",
       " SN2005bf  0.0189   34.73   10:23:56.99   -03:11:29.3   Ib   0.0201040285508\n",
       " SN2005hg   0.021   34.54   01:55:41.87   +46:47:47.4   Ib   0.0184430908334\n",
       "      ...     ...     ...           ...           ...  ...               ...\n",
       " SN2009iz  0.0142   33.75   02:42:15.41   +42:23:50.1   Ib   0.0128732980981\n",
       " SN2009jf   0.008   32.58   23:04:52.98   +12:19:59.5   Ib  0.00754189788211\n",
       " SN2010al   0.017   34.74   08:14:15.91   +18:26:18.2   Ib   0.0201954171702\n",
       " SN2011bm  0.0022   35.53   12:56:53.89   +22:22:28.2   Ic   0.0288668876597\n",
       " SN2011dh  0.0015    29.5 13:30:05.1055 +47:10:10.922  IIb  0.00183405936245\n",
       " SN2011ei  0.0093   32.41   20:34:22.62   -31:58:23.6  IIb  0.00697703973932\n",
       " SN2011fu  0.0185   34.46   02:08:21.41   +41:29:12.3  IIb   0.0177849337761\n",
       " SN2012ap  0.0121   32.96   05:00:13.72   -03:20:51.2   Ib  0.00897424974731\n",
       " SN2013ge  0.0043   31.36   10:34:48.46   +21:39:41.9   Ib  0.00431094726025\n",
       "iPTF13bvn 0.00449   32.14   15:00:00.15  +01:52:53.17   Ib  0.00616517411033"
      ]
     },
     "execution_count": 35,
     "metadata": {},
     "output_type": "execute_result"
    }
   ],
   "source": [
    "small_table"
   ]
  },
  {
   "cell_type": "code",
   "execution_count": 36,
   "metadata": {
    "collapsed": false
   },
   "outputs": [
    {
     "data": {
      "text/plain": [
       "dict_keys(['schema', 'name', 'sources', 'alias', 'claimedtype', 'comovingdist', 'dec', 'discoverdate', 'discoverer', 'ebv', 'host', 'hostdec', 'hostoffsetang', 'hostoffsetdist', 'hostra', 'hostvelocity', 'lumdist', 'maxabsmag', 'maxappmag', 'maxband', 'maxdate', 'maxvisualabsmag', 'maxvisualappmag', 'maxvisualband', 'maxvisualdate', 'ra', 'redshift', 'velocity', 'photometry', 'spectra'])"
      ]
     },
     "execution_count": 36,
     "metadata": {},
     "output_type": "execute_result"
    }
   ],
   "source": [
    "sndict.keys()"
   ]
  },
  {
   "cell_type": "code",
   "execution_count": 37,
   "metadata": {
    "collapsed": false
   },
   "outputs": [
    {
     "data": {
      "text/plain": [
       "[{'derived': True,\n",
       "  'source': '2,4,9,10,12,14,16',\n",
       "  'u_value': 'Mpc',\n",
       "  'value': '61.673'}]"
      ]
     },
     "execution_count": 37,
     "metadata": {},
     "output_type": "execute_result"
    }
   ],
   "source": [
    "sndict[\"lumdist\"]"
   ]
  },
  {
   "cell_type": "code",
   "execution_count": 38,
   "metadata": {
    "collapsed": true
   },
   "outputs": [],
   "source": [
    "from astropy.cosmology import LambdaCDM\n",
    "from astropy.coordinates import Distance\n",
    "\n",
    "mu = 33.92 ## from NED -- https://ned.ipac.caltech.edu/cgi-bin/objsearch?objname=NGC+2388&extend=no&hconst=70.5&omegam=0.27&omegav=0.73&corr_z=1&out_csys=Equatorial&out_equinox=J2000.0&obj_sort=RA+or+Longitude&of=pre_text&zv_breaker=30000.0&list_limit=5&img_stamp=YES#NR_Distances_0\n",
    "d = Distance(distmod=mu)\n",
    "\n",
    "z_distmod = d.z"
   ]
  },
  {
   "cell_type": "code",
   "execution_count": 39,
   "metadata": {
    "collapsed": false
   },
   "outputs": [
    {
     "data": {
      "text/plain": [
       "('SN2015U',\n",
       " '0.01379',\n",
       " 33.92,\n",
       " '07:28:53.87',\n",
       " '+33:49:10.6',\n",
       " 'Ibn',\n",
       " 0.013910509585698595)"
      ]
     },
     "execution_count": 39,
     "metadata": {},
     "output_type": "execute_result"
    }
   ],
   "source": [
    "(snname, sndict[\"redshift\"][0][\"value\"], mu, sndict[\"ra\"][0][\"value\"], sndict[\"dec\"][0][\"value\"], sndict[\"claimedtype\"][0][\"value\"].replace(\"/\", \"\"), z_distmod)"
   ]
  },
  {
   "cell_type": "code",
   "execution_count": 40,
   "metadata": {
    "collapsed": true
   },
   "outputs": [],
   "source": [
    "small_table.add_row((snname, sndict[\"redshift\"][0][\"value\"], mu, sndict[\"ra\"][0][\"value\"], sndict[\"dec\"][0][\"value\"], sndict[\"claimedtype\"][0][\"value\"].replace(\"/\", \"\"), z_distmod))"
   ]
  },
  {
   "cell_type": "code",
   "execution_count": 41,
   "metadata": {
    "collapsed": false
   },
   "outputs": [
    {
     "data": {
      "text/html": [
       "&lt;Table length=31&gt;\n",
       "<table id=\"table4671233104\" class=\"table-striped table-bordered table-condensed\">\n",
       "<thead><tr><th>snname</th><th>z_obs</th><th>mu</th><th>RA</th><th>Dec</th><th>Type</th><th>z_distmod</th></tr></thead>\n",
       "<thead><tr><th>str9</th><th>float64</th><th>float64</th><th>str13</th><th>str13</th><th>str3</th><th>float64</th></tr></thead>\n",
       "<tr><td>SN1993J</td><td>-0.0001</td><td>27.82</td><td>09:55:24.7747</td><td>+69:01:13.702</td><td>IIb</td><td>0.000846738572565</td></tr>\n",
       "<tr><td>SN1994I</td><td>0.0015</td><td>29.5</td><td>13:29:54.072</td><td>+47:11:30.50</td><td>Ic</td><td>0.00183405936245</td></tr>\n",
       "<tr><td>SN1996cb</td><td>0.0024</td><td>30.69</td><td>11:03:41.98</td><td>+28:54:13.7</td><td>IIb</td><td>0.00316927429656</td></tr>\n",
       "<tr><td>SN1998bw</td><td>0.0085</td><td>32.69</td><td>19:35:03.17</td><td>-52:50:46.1</td><td>Ic</td><td>0.00793139066351</td></tr>\n",
       "<tr><td>SN1999dn</td><td>0.0093</td><td>32.44</td><td>23:36:14.70</td><td>+02:09:08.8</td><td>Ib</td><td>0.00707356943452</td></tr>\n",
       "<tr><td>SN2002ap</td><td>0.0022</td><td>29.76</td><td>01:36:23.85</td><td>+15:45:13.2</td><td>Ic</td><td>0.00206697015014</td></tr>\n",
       "<tr><td>SN2003jd</td><td>0.0188</td><td>34.33</td><td>23:21:03.38</td><td>-04:53:45.5</td><td>Ic</td><td>0.01676453466</td></tr>\n",
       "<tr><td>SN2004aw</td><td>0.0159</td><td>34.48</td><td>11:57:50.24</td><td>+25:15:55.1</td><td>Ic</td><td>0.0179472672379</td></tr>\n",
       "<tr><td>SN2005bf</td><td>0.0189</td><td>34.73</td><td>10:23:56.99</td><td>-03:11:29.3</td><td>Ib</td><td>0.0201040285508</td></tr>\n",
       "<tr><td>SN2005hg</td><td>0.021</td><td>34.54</td><td>01:55:41.87</td><td>+46:47:47.4</td><td>Ib</td><td>0.0184430908334</td></tr>\n",
       "<tr><td>...</td><td>...</td><td>...</td><td>...</td><td>...</td><td>...</td><td>...</td></tr>\n",
       "<tr><td>SN2009jf</td><td>0.008</td><td>32.58</td><td>23:04:52.98</td><td>+12:19:59.5</td><td>Ib</td><td>0.00754189788211</td></tr>\n",
       "<tr><td>SN2010al</td><td>0.017</td><td>34.74</td><td>08:14:15.91</td><td>+18:26:18.2</td><td>Ib</td><td>0.0201954171702</td></tr>\n",
       "<tr><td>SN2011bm</td><td>0.0022</td><td>35.53</td><td>12:56:53.89</td><td>+22:22:28.2</td><td>Ic</td><td>0.0288668876597</td></tr>\n",
       "<tr><td>SN2011dh</td><td>0.0015</td><td>29.5</td><td>13:30:05.1055</td><td>+47:10:10.922</td><td>IIb</td><td>0.00183405936245</td></tr>\n",
       "<tr><td>SN2011ei</td><td>0.0093</td><td>32.41</td><td>20:34:22.62</td><td>-31:58:23.6</td><td>IIb</td><td>0.00697703973932</td></tr>\n",
       "<tr><td>SN2011fu</td><td>0.0185</td><td>34.46</td><td>02:08:21.41</td><td>+41:29:12.3</td><td>IIb</td><td>0.0177849337761</td></tr>\n",
       "<tr><td>SN2012ap</td><td>0.0121</td><td>32.96</td><td>05:00:13.72</td><td>-03:20:51.2</td><td>Ib</td><td>0.00897424974731</td></tr>\n",
       "<tr><td>SN2013ge</td><td>0.0043</td><td>31.36</td><td>10:34:48.46</td><td>+21:39:41.9</td><td>Ib</td><td>0.00431094726025</td></tr>\n",
       "<tr><td>iPTF13bvn</td><td>0.00449</td><td>32.14</td><td>15:00:00.15</td><td>+01:52:53.17</td><td>Ib</td><td>0.00616517411033</td></tr>\n",
       "<tr><td>SN2015U</td><td>0.01379</td><td>33.92</td><td>07:28:53.87</td><td>+33:49:10.6</td><td>Ibn</td><td>0.0139105095857</td></tr>\n",
       "</table>"
      ],
      "text/plain": [
       "<Table length=31>\n",
       "  snname   z_obs     mu         RA           Dec      Type     z_distmod    \n",
       "   str9   float64 float64     str13         str13     str3      float64     \n",
       "--------- ------- ------- ------------- ------------- ---- -----------------\n",
       "  SN1993J -0.0001   27.82 09:55:24.7747 +69:01:13.702  IIb 0.000846738572565\n",
       "  SN1994I  0.0015    29.5  13:29:54.072  +47:11:30.50   Ic  0.00183405936245\n",
       " SN1996cb  0.0024   30.69   11:03:41.98   +28:54:13.7  IIb  0.00316927429656\n",
       " SN1998bw  0.0085   32.69   19:35:03.17   -52:50:46.1   Ic  0.00793139066351\n",
       " SN1999dn  0.0093   32.44   23:36:14.70   +02:09:08.8   Ib  0.00707356943452\n",
       " SN2002ap  0.0022   29.76   01:36:23.85   +15:45:13.2   Ic  0.00206697015014\n",
       " SN2003jd  0.0188   34.33   23:21:03.38   -04:53:45.5   Ic     0.01676453466\n",
       " SN2004aw  0.0159   34.48   11:57:50.24   +25:15:55.1   Ic   0.0179472672379\n",
       " SN2005bf  0.0189   34.73   10:23:56.99   -03:11:29.3   Ib   0.0201040285508\n",
       " SN2005hg   0.021   34.54   01:55:41.87   +46:47:47.4   Ib   0.0184430908334\n",
       "      ...     ...     ...           ...           ...  ...               ...\n",
       " SN2009jf   0.008   32.58   23:04:52.98   +12:19:59.5   Ib  0.00754189788211\n",
       " SN2010al   0.017   34.74   08:14:15.91   +18:26:18.2   Ib   0.0201954171702\n",
       " SN2011bm  0.0022   35.53   12:56:53.89   +22:22:28.2   Ic   0.0288668876597\n",
       " SN2011dh  0.0015    29.5 13:30:05.1055 +47:10:10.922  IIb  0.00183405936245\n",
       " SN2011ei  0.0093   32.41   20:34:22.62   -31:58:23.6  IIb  0.00697703973932\n",
       " SN2011fu  0.0185   34.46   02:08:21.41   +41:29:12.3  IIb   0.0177849337761\n",
       " SN2012ap  0.0121   32.96   05:00:13.72   -03:20:51.2   Ib  0.00897424974731\n",
       " SN2013ge  0.0043   31.36   10:34:48.46   +21:39:41.9   Ib  0.00431094726025\n",
       "iPTF13bvn 0.00449   32.14   15:00:00.15  +01:52:53.17   Ib  0.00616517411033\n",
       "  SN2015U 0.01379   33.92   07:28:53.87   +33:49:10.6  Ibn   0.0139105095857"
      ]
     },
     "execution_count": 41,
     "metadata": {},
     "output_type": "execute_result"
    }
   ],
   "source": [
    "small_table"
   ]
  },
  {
   "cell_type": "code",
   "execution_count": 42,
   "metadata": {
    "collapsed": false
   },
   "outputs": [
    {
     "name": "stderr",
     "output_type": "stream",
     "text": [
      "WARNING: AstropyDeprecationWarning: /Users/berto/Code/CoCo/data/info/info_new.dat already exists. Automatically overwriting ASCII files is deprecated. Use the argument 'overwrite=True' in the future. [astropy.io.ascii.ui]\n"
     ]
    }
   ],
   "source": [
    "outfile = pcc.defaults._default_info_path.replace(\".dat\", \"_new.dat\")\n",
    "small_table.write(outfile, format=\"ascii.commented_header\")\n"
   ]
  },
  {
   "cell_type": "markdown",
   "metadata": {},
   "source": [
    "## Phasefile\n",
    "___\n",
    "\n",
    "Similarly, we must add to the phase file."
   ]
  },
  {
   "cell_type": "code",
   "execution_count": 43,
   "metadata": {
    "collapsed": false
   },
   "outputs": [
    {
     "data": {
      "text/html": [
       "&lt;Table length=48&gt;\n",
       "<table id=\"table4671565608\" class=\"table-striped table-bordered table-condensed\">\n",
       "<thead><tr><th>snname</th><th>z_obs</th><th>mu</th></tr></thead>\n",
       "<thead><tr><th>str9</th><th>float64</th><th>float64</th></tr></thead>\n",
       "<tr><td>SN1993J</td><td>-0.0001</td><td>27.82</td></tr>\n",
       "<tr><td>SN1994I</td><td>0.0015</td><td>29.5</td></tr>\n",
       "<tr><td>SN1996cb</td><td>0.0024</td><td>30.69</td></tr>\n",
       "<tr><td>SN1998bw</td><td>0.0085</td><td>32.69</td></tr>\n",
       "<tr><td>SN1999dn</td><td>0.0093</td><td>32.44</td></tr>\n",
       "<tr><td>SN2002ap</td><td>0.0022</td><td>29.76</td></tr>\n",
       "<tr><td>SN2003jd</td><td>0.0188</td><td>34.33</td></tr>\n",
       "<tr><td>SN2004aw</td><td>0.0159</td><td>34.48</td></tr>\n",
       "<tr><td>SN2005bf</td><td>0.0189</td><td>34.73</td></tr>\n",
       "<tr><td>SN2005hg</td><td>0.021</td><td>34.54</td></tr>\n",
       "<tr><td>...</td><td>...</td><td>...</td></tr>\n",
       "<tr><td>SN2015U</td><td>0.01379</td><td>33.92</td></tr>\n",
       "<tr><td>SN2015U</td><td>0.01379</td><td>33.92</td></tr>\n",
       "<tr><td>SN2015U</td><td>0.01379</td><td>33.92</td></tr>\n",
       "<tr><td>SN2015U</td><td>0.01379</td><td>33.92</td></tr>\n",
       "<tr><td>SN2015U</td><td>0.01379</td><td>33.92</td></tr>\n",
       "<tr><td>SN2015U</td><td>0.01379</td><td>33.92</td></tr>\n",
       "<tr><td>SN2015U</td><td>0.01379</td><td>33.92</td></tr>\n",
       "<tr><td>SN2015U</td><td>0.01379</td><td>33.92</td></tr>\n",
       "<tr><td>SN2015U</td><td>0.01379</td><td>33.92</td></tr>\n",
       "<tr><td>SN2015U</td><td>0.01379</td><td>33.92</td></tr>\n",
       "</table>"
      ],
      "text/plain": [
       "<Table length=48>\n",
       " snname   z_obs     mu  \n",
       "  str9   float64 float64\n",
       "-------- ------- -------\n",
       " SN1993J -0.0001   27.82\n",
       " SN1994I  0.0015    29.5\n",
       "SN1996cb  0.0024   30.69\n",
       "SN1998bw  0.0085   32.69\n",
       "SN1999dn  0.0093   32.44\n",
       "SN2002ap  0.0022   29.76\n",
       "SN2003jd  0.0188   34.33\n",
       "SN2004aw  0.0159   34.48\n",
       "SN2005bf  0.0189   34.73\n",
       "SN2005hg   0.021   34.54\n",
       "     ...     ...     ...\n",
       " SN2015U 0.01379   33.92\n",
       " SN2015U 0.01379   33.92\n",
       " SN2015U 0.01379   33.92\n",
       " SN2015U 0.01379   33.92\n",
       " SN2015U 0.01379   33.92\n",
       " SN2015U 0.01379   33.92\n",
       " SN2015U 0.01379   33.92\n",
       " SN2015U 0.01379   33.92\n",
       " SN2015U 0.01379   33.92\n",
       " SN2015U 0.01379   33.92"
      ]
     },
     "execution_count": 43,
     "metadata": {},
     "output_type": "execute_result"
    }
   ],
   "source": [
    "phasefile_path = os.path.join(pcc.defaults._default_coco_dir_path, \"examples/phase.list\")\n",
    "phase_table = pcc.utils.read_phasefile(phasefile_path)\n",
    "phase_table"
   ]
  },
  {
   "cell_type": "code",
   "execution_count": 44,
   "metadata": {
    "collapsed": false
   },
   "outputs": [
    {
     "data": {
      "text/html": [
       "&lt;Table length=49&gt;\n",
       "<table id=\"table4671565608\" class=\"table-striped table-bordered table-condensed\">\n",
       "<thead><tr><th>snname</th><th>z_obs</th><th>mu</th></tr></thead>\n",
       "<thead><tr><th>str9</th><th>float64</th><th>float64</th></tr></thead>\n",
       "<tr><td>SN1993J</td><td>-0.0001</td><td>27.82</td></tr>\n",
       "<tr><td>SN1994I</td><td>0.0015</td><td>29.5</td></tr>\n",
       "<tr><td>SN1996cb</td><td>0.0024</td><td>30.69</td></tr>\n",
       "<tr><td>SN1998bw</td><td>0.0085</td><td>32.69</td></tr>\n",
       "<tr><td>SN1999dn</td><td>0.0093</td><td>32.44</td></tr>\n",
       "<tr><td>SN2002ap</td><td>0.0022</td><td>29.76</td></tr>\n",
       "<tr><td>SN2003jd</td><td>0.0188</td><td>34.33</td></tr>\n",
       "<tr><td>SN2004aw</td><td>0.0159</td><td>34.48</td></tr>\n",
       "<tr><td>SN2005bf</td><td>0.0189</td><td>34.73</td></tr>\n",
       "<tr><td>SN2005hg</td><td>0.021</td><td>34.54</td></tr>\n",
       "<tr><td>...</td><td>...</td><td>...</td></tr>\n",
       "<tr><td>SN2015U</td><td>0.01379</td><td>33.92</td></tr>\n",
       "<tr><td>SN2015U</td><td>0.01379</td><td>33.92</td></tr>\n",
       "<tr><td>SN2015U</td><td>0.01379</td><td>33.92</td></tr>\n",
       "<tr><td>SN2015U</td><td>0.01379</td><td>33.92</td></tr>\n",
       "<tr><td>SN2015U</td><td>0.01379</td><td>33.92</td></tr>\n",
       "<tr><td>SN2015U</td><td>0.01379</td><td>33.92</td></tr>\n",
       "<tr><td>SN2015U</td><td>0.01379</td><td>33.92</td></tr>\n",
       "<tr><td>SN2015U</td><td>0.01379</td><td>33.92</td></tr>\n",
       "<tr><td>SN2015U</td><td>0.01379</td><td>33.92</td></tr>\n",
       "<tr><td>SN2015U</td><td>0.01379</td><td>33.92</td></tr>\n",
       "</table>"
      ],
      "text/plain": [
       "<Table length=49>\n",
       " snname   z_obs     mu  \n",
       "  str9   float64 float64\n",
       "-------- ------- -------\n",
       " SN1993J -0.0001   27.82\n",
       " SN1994I  0.0015    29.5\n",
       "SN1996cb  0.0024   30.69\n",
       "SN1998bw  0.0085   32.69\n",
       "SN1999dn  0.0093   32.44\n",
       "SN2002ap  0.0022   29.76\n",
       "SN2003jd  0.0188   34.33\n",
       "SN2004aw  0.0159   34.48\n",
       "SN2005bf  0.0189   34.73\n",
       "SN2005hg   0.021   34.54\n",
       "     ...     ...     ...\n",
       " SN2015U 0.01379   33.92\n",
       " SN2015U 0.01379   33.92\n",
       " SN2015U 0.01379   33.92\n",
       " SN2015U 0.01379   33.92\n",
       " SN2015U 0.01379   33.92\n",
       " SN2015U 0.01379   33.92\n",
       " SN2015U 0.01379   33.92\n",
       " SN2015U 0.01379   33.92\n",
       " SN2015U 0.01379   33.92\n",
       " SN2015U 0.01379   33.92"
      ]
     },
     "execution_count": 44,
     "metadata": {},
     "output_type": "execute_result"
    }
   ],
   "source": [
    "phase_table.add_row((snname, sndict[\"redshift\"][0][\"value\"], mu))\n",
    "phase_table"
   ]
  },
  {
   "cell_type": "code",
   "execution_count": 45,
   "metadata": {
    "collapsed": false
   },
   "outputs": [],
   "source": [
    "overwrite=True\n",
    "phase_table.write(phasefile_path, format=\"ascii.fast_no_header\", overwrite=overwrite)"
   ]
  },
  {
   "cell_type": "markdown",
   "metadata": {},
   "source": [
    "# **`CoCo`**\n",
    "___\n"
   ]
  },
  {
   "cell_type": "code",
   "execution_count": 46,
   "metadata": {
    "collapsed": false,
    "scrolled": false
   },
   "outputs": [
    {
     "name": "stdout",
     "output_type": "stream",
     "text": [
      "/Users/berto/Code/CoCo/\n",
      "Looks like you have done a fit, I found  /Users/berto/Code/CoCo/recon/SN2015U.stat\n",
      "Looks like you have done a fit, I found  /Users/berto/Code/CoCo/recon/SN2015U.dat\n"
     ]
    },
    {
     "data": {
      "text/plain": [
       "True"
      ]
     },
     "execution_count": 46,
     "metadata": {},
     "output_type": "execute_result"
    }
   ],
   "source": [
    "pcc.functions.test_LCfit(\"SN2015U\")"
   ]
  },
  {
   "cell_type": "code",
   "execution_count": 47,
   "metadata": {
    "collapsed": false
   },
   "outputs": [
    {
     "name": "stdout",
     "output_type": "stream",
     "text": [
      "/Users/berto/Code/CoCo/\n",
      "Looks like you have done a fit, I found  /Users/berto/Code/CoCo/recon/SN2015U.stat\n",
      "Looks like you have done a fit, I found  /Users/berto/Code/CoCo/recon/SN2015U.dat\n"
     ]
    }
   ],
   "source": [
    "if not pcc.functions.test_LCfit(\"SN2015U\"):\n",
    "    pcc.functions.run_LCfit(phot_outpath)"
   ]
  },
  {
   "cell_type": "code",
   "execution_count": 48,
   "metadata": {
    "collapsed": false
   },
   "outputs": [
    {
     "data": {
      "text/plain": [
       "<IPython.core.display.Javascript object>"
      ]
     },
     "metadata": {},
     "output_type": "display_data"
    },
    {
     "data": {
      "text/html": [
       "<div id='86d39efe-c997-4f6d-a73f-615ad665f554'></div>"
      ],
      "text/plain": [
       "<IPython.core.display.HTML object>"
      ]
     },
     "metadata": {},
     "output_type": "execute_result"
    }
   ],
   "source": [
    "SN = pcc.classes.SNClass(snname)\n",
    "SN.load_phot()\n",
    "SN.plot_lc()"
   ]
  },
  {
   "cell_type": "code",
   "execution_count": 49,
   "metadata": {
    "collapsed": false
   },
   "outputs": [
    {
     "data": {
      "text/plain": [
       "<IPython.core.display.Javascript object>"
      ]
     },
     "metadata": {},
     "output_type": "display_data"
    },
    {
     "data": {
      "text/html": [
       "<div id='5314d5b3-b26a-49c4-ad84-9b43c300566c'></div>"
      ],
      "text/plain": [
       "<IPython.core.display.HTML object>"
      ]
     },
     "metadata": {},
     "output_type": "execute_result"
    }
   ],
   "source": [
    "recon_filename = '/Users/berto/Code/CoCo/recon/SN2015U.dat'\n",
    "SN.get_lcfit(recon_filename)\n",
    "\n",
    "SN.plot_lc()"
   ]
  },
  {
   "cell_type": "code",
   "execution_count": 50,
   "metadata": {
    "collapsed": false
   },
   "outputs": [],
   "source": [
    "list_file_path = \"/Users/berto/Code/CoCo/lists/\"+snname+\".list\"\n",
    "SN.load_list(path=list_file_path)"
   ]
  },
  {
   "cell_type": "code",
   "execution_count": 51,
   "metadata": {
    "collapsed": false
   },
   "outputs": [],
   "source": [
    "SN.load_spec()"
   ]
  },
  {
   "cell_type": "code",
   "execution_count": 52,
   "metadata": {
    "collapsed": false
   },
   "outputs": [
    {
     "data": {
      "text/plain": [
       "<IPython.core.display.Javascript object>"
      ]
     },
     "metadata": {},
     "output_type": "display_data"
    },
    {
     "data": {
      "text/html": [
       "<div id='26cb4eea-ea57-4efa-aff0-3e69410601a4'></div>"
      ],
      "text/plain": [
       "<IPython.core.display.HTML object>"
      ]
     },
     "metadata": {},
     "output_type": "execute_result"
    }
   ],
   "source": [
    "SN.plot_lc(multiplot=False)"
   ]
  },
  {
   "cell_type": "code",
   "execution_count": 53,
   "metadata": {
    "collapsed": false
   },
   "outputs": [
    {
     "name": "stderr",
     "output_type": "stream",
     "text": [
      "/Users/berto/anaconda3/lib/python3.6/site-packages/matplotlib/pyplot.py:524: RuntimeWarning: More than 20 figures have been opened. Figures created through the pyplot interface (`matplotlib.pyplot.figure`) are retained until explicitly closed and may consume too much memory. (To control this warning, see the rcParam `figure.max_open_warning`).\n",
      "  max_open_warning, RuntimeWarning)\n"
     ]
    },
    {
     "data": {
      "text/plain": [
       "<IPython.core.display.Javascript object>"
      ]
     },
     "metadata": {},
     "output_type": "display_data"
    },
    {
     "data": {
      "text/html": [
       "<div id='f0723256-2977-4cd7-ab03-766d8c11099d'></div>"
      ],
      "text/plain": [
       "<IPython.core.display.HTML object>"
      ]
     },
     "metadata": {},
     "output_type": "execute_result"
    }
   ],
   "source": [
    "SN.plot_spec()"
   ]
  },
  {
   "cell_type": "code",
   "execution_count": 54,
   "metadata": {
    "collapsed": false
   },
   "outputs": [
    {
     "data": {
      "text/plain": [
       "OrderedDict([('psn0728+3349-20150215.256-ui.flm',\n",
       "              <pycoco.classes.SpectrumClass at 0x11680b0f0>),\n",
       "             ('PSNJ07285387p3349106_20150217_Ekar182_AFOSC_cal.ascii',\n",
       "              <pycoco.classes.SpectrumClass at 0x104482668>),\n",
       "             ('SN2015U_2015-02-17_20:01:56_Asiago.ascii',\n",
       "              <pycoco.classes.SpectrumClass at 0x116837320>),\n",
       "             ('PSNJ07285387p3349106_20150218_Ekar182_AFOSC_cal.ascii',\n",
       "              <pycoco.classes.SpectrumClass at 0x116c2e048>),\n",
       "             ('psn0728+3349-20150218.211-ir.flm',\n",
       "              <pycoco.classes.SpectrumClass at 0x116c2ee10>),\n",
       "             ('PSNJ07285387p3349106_20150219_Ekar182_AFOSC_cal.ascii',\n",
       "              <pycoco.classes.SpectrumClass at 0x116fc5550>),\n",
       "             ('psn0728+3349-20150221.207-ui.flm',\n",
       "              <pycoco.classes.SpectrumClass at 0x116fc51d0>),\n",
       "             ('PSNJ07285387p3349106_20150222_NOT_ALFOSC_cal.ascii',\n",
       "              <pycoco.classes.SpectrumClass at 0x116c17c50>),\n",
       "             ('PSNJ07285387p3349106_20150223_TNG_LRS_cal.ascii',\n",
       "              <pycoco.classes.SpectrumClass at 0x116c1ddd8>),\n",
       "             ('psn0728+3349-20150224.224-ui.flm',\n",
       "              <pycoco.classes.SpectrumClass at 0x116b83b70>),\n",
       "             ('psn0728+3349-20150224.414-uh.flm',\n",
       "              <pycoco.classes.SpectrumClass at 0x116bb18d0>),\n",
       "             ('PSNJ07285387p3349106_20150225_TNG_LRS_cal.ascii',\n",
       "              <pycoco.classes.SpectrumClass at 0x116c3aa20>),\n",
       "             ('psn0728+3349-20150225.171-ui.flm',\n",
       "              <pycoco.classes.SpectrumClass at 0x116c2ed68>),\n",
       "             ('psn0728+3349-20150227.34.deimos.flm',\n",
       "              <pycoco.classes.SpectrumClass at 0x116c2e160>),\n",
       "             ('PSNJ07285387p3349106_20150228_TNG_LRS_cal.ascii',\n",
       "              <pycoco.classes.SpectrumClass at 0x116fc5898>),\n",
       "             ('PSNJ07285387p3349106_20150303_NOT_ALFOSC_cal.ascii',\n",
       "              <pycoco.classes.SpectrumClass at 0x116fc5a58>),\n",
       "             ('PSNJ07285387p3349106_20150311_NOT_ALFOSC_cal.ascii',\n",
       "              <pycoco.classes.SpectrumClass at 0x116c1d518>)])"
      ]
     },
     "execution_count": 54,
     "metadata": {},
     "output_type": "execute_result"
    }
   ],
   "source": [
    "SN.spec"
   ]
  },
  {
   "cell_type": "markdown",
   "metadata": {},
   "source": [
    "# Mangle the Spectra\n",
    "___"
   ]
  },
  {
   "cell_type": "code",
   "execution_count": 55,
   "metadata": {
    "collapsed": false,
    "scrolled": true
   },
   "outputs": [
    {
     "name": "stdout",
     "output_type": "stream",
     "text": [
      " filter  fitflux spec_filterflux ... mask knot_colours   lambda_eff \n",
      "-------- ------- --------------- ... ---- ------------ -------------\n",
      "BessellB     1.0             1.0 ... True      #0000ff 4354.41054934\n",
      "BessellI 1.35501        0.997084 ... True      #8e44ad 8011.65864198\n",
      "BessellR 1.53103          1.2988 ... True      #c0392b 6416.11806798\n",
      "BessellV 1.37761         1.35636 ... True      #2ca02c  5436.8698117\n",
      "SN2015U_57068.300000.spec\n",
      "has data\n",
      "No directory specified, assuming /Users/berto/Code/CoCo/recon/\n"
     ]
    },
    {
     "name": "stderr",
     "output_type": "stream",
     "text": [
      "/Users/berto/Code/verbose-enigma/pycoco/kcorr.py:598: UserWarning: Found existing file matching /Users/berto/Code/CoCo/recon/SN2015U_57068.300000.spec. Run with squash = True to overwrite\n",
      "  filename) + \". Run with squash = True to overwrite\")\n",
      "/Users/berto/Code/verbose-enigma/pycoco/kcorr.py:598: UserWarning: Found existing file matching /Users/berto/Code/CoCo/recon/SN2015U_57070.000000.spec. Run with squash = True to overwrite\n",
      "  filename) + \". Run with squash = True to overwrite\")\n"
     ]
    },
    {
     "name": "stdout",
     "output_type": "stream",
     "text": [
      " filter  fitflux spec_filterflux ... mask knot_colours   lambda_eff \n",
      "-------- ------- --------------- ... ---- ------------ -------------\n",
      "BessellB     1.0             1.0 ... True      #0000ff 4354.41054934\n",
      "BessellR 1.55079         1.53606 ... True      #c0392b 6416.11806798\n",
      "BessellV 1.48088         1.51364 ... True      #2ca02c  5436.8698117\n",
      "SN2015U_57070.000000.spec\n",
      "has data\n",
      "No directory specified, assuming /Users/berto/Code/CoCo/recon/\n",
      " filter  fitflux spec_filterflux ... mask knot_colours   lambda_eff \n",
      "-------- ------- --------------- ... ---- ------------ -------------\n",
      "BessellB     1.0             1.0 ... True      #0000ff 4354.41054934\n",
      "BessellR 1.55079         1.50914 ... True      #c0392b 6416.11806798\n",
      "BessellV 1.48088         1.53286 ... True      #2ca02c  5436.8698117\n",
      "SN2015U_57070.000010.spec\n",
      "has data\n",
      "No directory specified, assuming /Users/berto/Code/CoCo/recon/\n",
      " filter  fitflux spec_filterflux ... mask knot_colours   lambda_eff \n",
      "-------- ------- --------------- ... ---- ------------ -------------\n",
      "BessellB     1.0             1.0 ... True      #0000ff 4354.41054934\n",
      "BessellI 1.47085         1.25724 ... True      #8e44ad 8011.65864198\n",
      "BessellR 1.58973          1.5912 ... True      #c0392b 6416.11806798\n",
      "BessellV 1.50384         1.61443 ... True      #2ca02c  5436.8698117\n",
      "SN2015U_57071.000000.spec\n",
      "has data\n",
      "No directory specified, assuming /Users/berto/Code/CoCo/recon/\n"
     ]
    },
    {
     "name": "stderr",
     "output_type": "stream",
     "text": [
      "/Users/berto/Code/verbose-enigma/pycoco/kcorr.py:598: UserWarning: Found existing file matching /Users/berto/Code/CoCo/recon/SN2015U_57070.000010.spec. Run with squash = True to overwrite\n",
      "  filename) + \". Run with squash = True to overwrite\")\n",
      "/Users/berto/Code/verbose-enigma/pycoco/kcorr.py:598: UserWarning: Found existing file matching /Users/berto/Code/CoCo/recon/SN2015U_57071.000000.spec. Run with squash = True to overwrite\n",
      "  filename) + \". Run with squash = True to overwrite\")\n"
     ]
    },
    {
     "name": "stdout",
     "output_type": "stream",
     "text": [
      " filter  fitflux spec_filterflux ... mask knot_colours   lambda_eff \n",
      "-------- ------- --------------- ... ---- ------------ -------------\n",
      "BessellI     1.0             1.0 ... True      #8e44ad 8011.65864198\n",
      "BessellR 1.07666         1.38672 ... True      #c0392b 6416.11806798\n",
      "BessellV 1.01401         1.40272 ... True      #2ca02c  5436.8698117\n",
      "SN2015U_57071.200000.spec\n",
      "has data\n",
      "No directory specified, assuming /Users/berto/Code/CoCo/recon/\n",
      " filter  fitflux spec_filterflux ... mask knot_colours   lambda_eff \n",
      "-------- ------- --------------- ... ---- ------------ -------------\n",
      "BessellB     1.0             1.0 ... True      #0000ff 4354.41054934\n",
      "BessellR  1.6455         1.66962 ... True      #c0392b 6416.11806798\n",
      "BessellV 1.51424         1.74835 ... True      #2ca02c  5436.8698117\n"
     ]
    },
    {
     "name": "stderr",
     "output_type": "stream",
     "text": [
      "/Users/berto/Code/verbose-enigma/pycoco/kcorr.py:598: UserWarning: Found existing file matching /Users/berto/Code/CoCo/recon/SN2015U_57071.200000.spec. Run with squash = True to overwrite\n",
      "  filename) + \". Run with squash = True to overwrite\")\n",
      "/Users/berto/Code/verbose-enigma/pycoco/kcorr.py:598: UserWarning: Found existing file matching /Users/berto/Code/CoCo/recon/SN2015U_57072.000000.spec. Run with squash = True to overwrite\n",
      "  filename) + \". Run with squash = True to overwrite\")\n"
     ]
    },
    {
     "name": "stdout",
     "output_type": "stream",
     "text": [
      "SN2015U_57072.000000.spec\n",
      "has data\n",
      "No directory specified, assuming /Users/berto/Code/CoCo/recon/\n",
      " filter  fitflux spec_filterflux ... mask knot_colours   lambda_eff \n",
      "-------- ------- --------------- ... ---- ------------ -------------\n",
      "BessellB     1.0             1.0 ... True      #0000ff 4354.41054934\n",
      "BessellI 1.79148         1.21664 ... True      #8e44ad 8011.65864198\n",
      "BessellR 1.81054         1.72115 ... True      #c0392b 6416.11806798\n",
      "BessellV  1.5339         1.70038 ... True      #2ca02c  5436.8698117\n",
      "SN2015U_57074.200000.spec\n",
      "has data\n",
      "No directory specified, assuming /Users/berto/Code/CoCo/recon/\n"
     ]
    },
    {
     "name": "stderr",
     "output_type": "stream",
     "text": [
      "/Users/berto/Code/verbose-enigma/pycoco/kcorr.py:598: UserWarning: Found existing file matching /Users/berto/Code/CoCo/recon/SN2015U_57074.200000.spec. Run with squash = True to overwrite\n",
      "  filename) + \". Run with squash = True to overwrite\")\n",
      "/Users/berto/Code/verbose-enigma/pycoco/kcorr.py:598: UserWarning: Found existing file matching /Users/berto/Code/CoCo/recon/SN2015U_57075.000000.spec. Run with squash = True to overwrite\n",
      "  filename) + \". Run with squash = True to overwrite\")\n"
     ]
    },
    {
     "name": "stdout",
     "output_type": "stream",
     "text": [
      " filter  fitflux spec_filterflux ... mask knot_colours   lambda_eff \n",
      "-------- ------- --------------- ... ---- ------------ -------------\n",
      "BessellB     1.0             1.0 ... True      #0000ff 4354.41054934\n",
      "BessellI 1.89224         1.50162 ... True      #8e44ad 8011.65864198\n",
      "BessellR 1.87873         1.80966 ... True      #c0392b 6416.11806798\n",
      "BessellV 1.54553         1.71803 ... True      #2ca02c  5436.8698117\n",
      "SN2015U_57075.000000.spec\n",
      "has data\n",
      "No directory specified, assuming /Users/berto/Code/CoCo/recon/\n",
      " filter  fitflux spec_filterflux ... mask knot_colours   lambda_eff \n",
      "-------- ------- --------------- ... ---- ------------ -------------\n",
      "BessellB     1.0             1.0 ... True      #0000ff 4354.41054934\n",
      "BessellI 2.02332         1.02071 ... True      #8e44ad 8011.65864198\n",
      "BessellR 1.96467         1.64464 ... True      #c0392b 6416.11806798\n",
      "BessellV 1.56332         1.77935 ... True      #2ca02c  5436.8698117\n",
      "SN2015U_57076.000000.spec\n",
      "has data\n",
      "No directory specified, assuming /Users/berto/Code/CoCo/recon/\n",
      " filter  fitflux spec_filterflux ... mask knot_colours   lambda_eff \n",
      "-------- ------- --------------- ... ---- ------------ -------------\n",
      "BessellB     1.0             1.0 ... True      #0000ff 4354.41054934\n",
      "BessellI 2.18014         1.66152 ... True      #8e44ad 8011.65864198\n",
      "BessellR 2.06139         1.78445 ... True      #c0392b 6416.11806798\n",
      "BessellV   1.586         1.63009 ... True      #2ca02c  5436.8698117\n",
      "SN2015U_57077.200000.spec\n",
      "has data\n",
      "No directory specified, assuming /Users/berto/Code/CoCo/recon/\n"
     ]
    },
    {
     "name": "stderr",
     "output_type": "stream",
     "text": [
      "/Users/berto/Code/verbose-enigma/pycoco/kcorr.py:598: UserWarning: Found existing file matching /Users/berto/Code/CoCo/recon/SN2015U_57076.000000.spec. Run with squash = True to overwrite\n",
      "  filename) + \". Run with squash = True to overwrite\")\n",
      "/Users/berto/Code/verbose-enigma/pycoco/kcorr.py:598: UserWarning: Found existing file matching /Users/berto/Code/CoCo/recon/SN2015U_57077.200000.spec. Run with squash = True to overwrite\n",
      "  filename) + \". Run with squash = True to overwrite\")\n"
     ]
    },
    {
     "name": "stdout",
     "output_type": "stream",
     "text": [
      " filter  fitflux spec_filterflux ... mask knot_colours   lambda_eff \n",
      "-------- ------- --------------- ... ---- ------------ -------------\n",
      "BessellB     1.0             1.0 ... True      #0000ff 4354.41054934\n",
      "BessellV 1.58949         1.75571 ... True      #2ca02c  5436.8698117\n",
      "SN2015U_57077.400000.spec\n",
      "has data\n",
      "No directory specified, assuming /Users/berto/Code/CoCo/recon/\n",
      " filter  fitflux spec_filterflux ... mask knot_colours   lambda_eff \n",
      "-------- ------- --------------- ... ---- ------------ -------------\n",
      "BessellB     1.0             1.0 ... True      #0000ff 4354.41054934\n",
      "BessellR 2.11645         1.60355 ... True      #c0392b 6416.11806798\n",
      "BessellV 1.59862         1.71031 ... True      #2ca02c  5436.8698117\n"
     ]
    },
    {
     "name": "stderr",
     "output_type": "stream",
     "text": [
      "/Users/berto/Code/verbose-enigma/pycoco/kcorr.py:598: UserWarning: Found existing file matching /Users/berto/Code/CoCo/recon/SN2015U_57077.400000.spec. Run with squash = True to overwrite\n",
      "  filename) + \". Run with squash = True to overwrite\")\n",
      "/Users/berto/Code/verbose-enigma/pycoco/kcorr.py:598: UserWarning: Found existing file matching /Users/berto/Code/CoCo/recon/SN2015U_57078.000000.spec. Run with squash = True to overwrite\n",
      "  filename) + \". Run with squash = True to overwrite\")\n"
     ]
    },
    {
     "name": "stdout",
     "output_type": "stream",
     "text": [
      "SN2015U_57078.000000.spec\n",
      "has data\n",
      "No directory specified, assuming /Users/berto/Code/CoCo/recon/\n",
      " filter  fitflux spec_filterflux ... mask knot_colours   lambda_eff \n",
      "-------- ------- --------------- ... ---- ------------ -------------\n",
      "BessellB     1.0             1.0 ... True      #0000ff 4354.41054934\n",
      "BessellI  2.3012         1.45408 ... True      #8e44ad 8011.65864198\n",
      "BessellR 2.12844         1.77109 ... True      #c0392b 6416.11806798\n",
      "BessellV 1.60107         1.70233 ... True      #2ca02c  5436.8698117\n",
      "SN2015U_57078.200000.spec\n",
      "has data\n",
      "No directory specified, assuming /Users/berto/Code/CoCo/recon/\n"
     ]
    },
    {
     "name": "stderr",
     "output_type": "stream",
     "text": [
      "/Users/berto/Code/verbose-enigma/pycoco/kcorr.py:598: UserWarning: Found existing file matching /Users/berto/Code/CoCo/recon/SN2015U_57078.200000.spec. Run with squash = True to overwrite\n",
      "  filename) + \". Run with squash = True to overwrite\")\n",
      "/Users/berto/Code/verbose-enigma/pycoco/kcorr.py:598: UserWarning: Found existing file matching /Users/berto/Code/CoCo/recon/SN2015U_57080.300000.spec. Run with squash = True to overwrite\n",
      "  filename) + \". Run with squash = True to overwrite\")\n"
     ]
    },
    {
     "name": "stdout",
     "output_type": "stream",
     "text": [
      " filter  fitflux spec_filterflux ... mask knot_colours  lambda_eff \n",
      "-------- ------- --------------- ... ---- ------------ ------------\n",
      "BessellV     1.0             1.0 ... True      #2ca02c 5436.8698117\n",
      "SN2015U_57080.300000.spec\n",
      "has data\n",
      "No directory specified, assuming /Users/berto/Code/CoCo/recon/\n",
      " filter  fitflux spec_filterflux ... mask knot_colours   lambda_eff \n",
      "-------- ------- --------------- ... ---- ------------ -------------\n",
      "BessellB     1.0             1.0 ... True      #0000ff 4354.41054934\n",
      "BessellR 2.16581          1.8833 ... True      #c0392b 6416.11806798\n",
      "BessellV 1.56728         1.63354 ... True      #2ca02c  5436.8698117\n",
      "SN2015U_57081.000000.spec\n",
      "has data\n",
      "No directory specified, assuming /Users/berto/Code/CoCo/recon/\n"
     ]
    },
    {
     "name": "stderr",
     "output_type": "stream",
     "text": [
      "/Users/berto/Code/verbose-enigma/pycoco/kcorr.py:598: UserWarning: Found existing file matching /Users/berto/Code/CoCo/recon/SN2015U_57081.000000.spec. Run with squash = True to overwrite\n",
      "  filename) + \". Run with squash = True to overwrite\")\n",
      "/Users/berto/Code/verbose-enigma/pycoco/kcorr.py:598: UserWarning: Found existing file matching /Users/berto/Code/CoCo/recon/SN2015U_57084.000000.spec. Run with squash = True to overwrite\n",
      "  filename) + \". Run with squash = True to overwrite\")\n"
     ]
    },
    {
     "name": "stdout",
     "output_type": "stream",
     "text": [
      " filter  fitflux spec_filterflux ... mask knot_colours   lambda_eff \n",
      "-------- ------- --------------- ... ---- ------------ -------------\n",
      "BessellB     1.0             1.0 ... True      #0000ff 4354.41054934\n",
      "BessellI 2.18256         2.19935 ... True      #8e44ad 8011.65864198\n",
      "BessellR 1.76178         2.29928 ... True      #c0392b 6416.11806798\n",
      "BessellV 1.26467         2.02152 ... True      #2ca02c  5436.8698117\n",
      "SN2015U_57084.000000.spec\n",
      "has data\n",
      "No directory specified, assuming /Users/berto/Code/CoCo/recon/\n",
      " filter  fitflux  spec_filterflux ... mask knot_colours   lambda_eff \n",
      "-------- -------- --------------- ... ---- ------------ -------------\n",
      "BessellB      1.0             1.0 ... True      #0000ff 4354.41054934\n",
      "BessellI 0.250588         1.30564 ... True      #8e44ad 8011.65864198\n",
      "BessellR 0.124126         1.52637 ... True      #c0392b 6416.11806798\n",
      "BessellV 0.108862         1.39256 ... True      #2ca02c  5436.8698117\n",
      "SN2015U_57092.000000.spec\n",
      "has data\n",
      "No directory specified, assuming /Users/berto/Code/CoCo/recon/\n"
     ]
    },
    {
     "name": "stderr",
     "output_type": "stream",
     "text": [
      "/Users/berto/Code/verbose-enigma/pycoco/kcorr.py:598: UserWarning: Found existing file matching /Users/berto/Code/CoCo/recon/SN2015U_57092.000000.spec. Run with squash = True to overwrite\n",
      "  filename) + \". Run with squash = True to overwrite\")\n"
     ]
    }
   ],
   "source": [
    "plot = False\n",
    "wantedfilters = SN.phot.filter_names.data\n",
    "anchor_distance = 1000\n",
    "outfile_log = []\n",
    "\n",
    "for name, mS in SN.spec.items():\n",
    "#     print(name, mS)\n",
    "        \n",
    "    S = copy.deepcopy(mS)\n",
    "    fit_dict = pcc.kcorr.mangle(SN, mS, mS.mjd_obs, wantedfilters, anchor_distance=anchor_distance)\n",
    "    if plot:   \n",
    "        pcc.functions.plot_mangledata(S, fit_dict[\"data_table\"], mS=fit_dict[\"SpectrumObject\"], spl=fit_dict[\"final_spl\"],\n",
    "                        show_linear_extrap=True, normalise=True)\n",
    "        \n",
    "    outfile = snname+\"_\"+str(fit_dict[\"SpectrumObject\"].mjd_obs).ljust(12, \"0\") + \".spec\"\n",
    "    \n",
    "    \n",
    "    while outfile in outfile_log:\n",
    "        j=1\n",
    "        outfile = snname+\"_\"+str(fit_dict[\"SpectrumObject\"].mjd_obs+j*0.00001).ljust(12, \"0\") + \".spec\"\n",
    "        j+=1\n",
    "    print(outfile) \n",
    "    outfile_log.append(outfile)\n",
    "    \n",
    "        \n",
    "    pcc.kcorr.save_mangle(fit_dict[\"SpectrumObject\"], outfile, fit_dict[\"SpectrumObject\"].infile)"
   ]
  },
  {
   "cell_type": "markdown",
   "metadata": {},
   "source": [
    "# **`CoCo specphase`**\n",
    "---\n"
   ]
  },
  {
   "cell_type": "code",
   "execution_count": 56,
   "metadata": {
    "collapsed": false
   },
   "outputs": [
    {
     "name": "stdout",
     "output_type": "stream",
     "text": [
      "current list.txt is up to date. re run with force = True to force.\n"
     ]
    }
   ],
   "source": [
    "# run = True\n",
    "run = False\n",
    "if run:\n",
    "    phase_path = os.path.join(pcc.defaults._default_coco_dir_path, \"examples/phase.list\")\n",
    "    pcc.functions.run_specphase(\"BessellV\", phase_path)"
   ]
  },
  {
   "cell_type": "code",
   "execution_count": 57,
   "metadata": {
    "collapsed": false
   },
   "outputs": [
    {
     "name": "stdout",
     "output_type": "stream",
     "text": [
      "18 files found matching SN2015U\n",
      "['SN2015U_57068.300000.spec', 'SN2015U_57068.300010.spec', 'SN2015U_57070.000000.spec', 'SN2015U_57070.000010.spec', 'SN2015U_57071.000000.spec', 'SN2015U_57071.200000.spec', 'SN2015U_57072.000000.spec', 'SN2015U_57074.200000.spec', 'SN2015U_57075.000000.spec', 'SN2015U_57076.000000.spec', 'SN2015U_57077.200000.spec', 'SN2015U_57077.400000.spec', 'SN2015U_57078.000000.spec', 'SN2015U_57078.200000.spec', 'SN2015U_57080.300000.spec', 'SN2015U_57081.000000.spec', 'SN2015U_57084.000000.spec', 'SN2015U_57092.000000.spec']\n"
     ]
    }
   ],
   "source": [
    "snname = \"SN2015U\"\n",
    "spectra_dir=\"spectra/\"\n",
    "coco_dir=pcc.defaults._default_coco_dir_path\n",
    "absolute_path=False\n",
    "spectra_dir = os.path.join(coco_dir, spectra_dir)\n",
    "\n",
    "pcc.check_dir_path(spectra_dir)\n",
    "\n",
    "dir_list = [spec for spec in os.listdir(spectra_dir) if spec[:len(snname)] == snname]\n",
    "\n",
    "dir_list\n",
    "\n",
    "if True:\n",
    "    print(len(dir_list), \"files found matching\", snname)\n",
    "    print(dir_list)"
   ]
  },
  {
   "cell_type": "code",
   "execution_count": 58,
   "metadata": {
    "collapsed": false
   },
   "outputs": [
    {
     "ename": "AttributeError",
     "evalue": "module 'pycoco' has no attribute 'check_specphase'",
     "traceback": [
      "\u001b[0;31m---------------------------------------------------------------------------\u001b[0m",
      "\u001b[0;31mAttributeError\u001b[0m                            Traceback (most recent call last)",
      "\u001b[0;32m<ipython-input-58-70f5f5d655c7>\u001b[0m in \u001b[0;36m<module>\u001b[0;34m()\u001b[0m\n\u001b[0;32m----> 1\u001b[0;31m \u001b[0mpcc\u001b[0m\u001b[0;34m.\u001b[0m\u001b[0mcheck_specphase\u001b[0m\u001b[0;34m(\u001b[0m\u001b[0msnname\u001b[0m\u001b[0;34m)\u001b[0m\u001b[0;34m\u001b[0m\u001b[0m\n\u001b[0m",
      "\u001b[0;31mAttributeError\u001b[0m: module 'pycoco' has no attribute 'check_specphase'"
     ],
     "output_type": "error"
    }
   ],
   "source": [
    "pcc.check_specphase(snname)"
   ]
  },
  {
   "cell_type": "markdown",
   "metadata": {},
   "source": [
    "# Simulate"
   ]
  },
  {
   "cell_type": "code",
   "execution_count": null,
   "metadata": {
    "collapsed": false,
    "scrolled": true
   },
   "outputs": [],
   "source": [
    "SN.spec[\"psn0728+3349-20150227.34.deimos.flm\"].plot()"
   ]
  },
  {
   "cell_type": "code",
   "execution_count": null,
   "metadata": {
    "collapsed": false
   },
   "outputs": [],
   "source": [
    "# data_table"
   ]
  },
  {
   "cell_type": "code",
   "execution_count": null,
   "metadata": {
    "collapsed": false,
    "scrolled": false
   },
   "outputs": [],
   "source": []
  },
  {
   "cell_type": "code",
   "execution_count": null,
   "metadata": {
    "collapsed": false
   },
   "outputs": [],
   "source": []
  },
  {
   "cell_type": "code",
   "execution_count": null,
   "metadata": {
    "collapsed": false
   },
   "outputs": [],
   "source": []
  },
  {
   "cell_type": "code",
   "execution_count": null,
   "metadata": {
    "collapsed": false
   },
   "outputs": [],
   "source": [
    "# S.plot()\n",
    "fit_dict[\"SpectrumObject\"].scale_factor"
   ]
  },
  {
   "cell_type": "code",
   "execution_count": null,
   "metadata": {
    "collapsed": false
   },
   "outputs": [],
   "source": [
    "fit_dict[\"SpectrumObject\"].norm_factor"
   ]
  },
  {
   "cell_type": "code",
   "execution_count": null,
   "metadata": {
    "collapsed": true
   },
   "outputs": [],
   "source": [
    "# fit_path = \"/Users/berto/Code/CoCo/recon/\"+snname+\".dat\"\n",
    "# SN.get_lcfit(fit_path)\n",
    "\n",
    "# SN.plot_lc()"
   ]
  },
  {
   "cell_type": "code",
   "execution_count": null,
   "metadata": {
    "collapsed": true
   },
   "outputs": [],
   "source": [
    "# pcc.functions.run_specfit(list_file_path)"
   ]
  },
  {
   "cell_type": "code",
   "execution_count": null,
   "metadata": {
    "collapsed": true
   },
   "outputs": [],
   "source": [
    "# plt.close(\"all\")"
   ]
  },
  {
   "cell_type": "code",
   "execution_count": null,
   "metadata": {
    "collapsed": true
   },
   "outputs": [],
   "source": []
  }
 ],
 "metadata": {
  "anaconda-cloud": {},
  "kernelspec": {
   "display_name": "Python 3",
   "language": "python",
   "name": "python3"
  },
  "language_info": {
   "codemirror_mode": {
    "name": "ipython",
    "version": 3
   },
   "file_extension": ".py",
   "mimetype": "text/x-python",
   "name": "python",
   "nbconvert_exporter": "python",
   "pygments_lexer": "ipython3",
   "version": "3.6.0"
  }
 },
 "nbformat": 4,
 "nbformat_minor": 1
}
