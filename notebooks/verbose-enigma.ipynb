{
 "cells": [
  {
   "cell_type": "code",
   "execution_count": 1,
   "metadata": {
    "collapsed": true
   },
   "outputs": [],
   "source": [
    "from __future__ import print_function ## Force python3-like printing\n",
    "\n",
    "import numpy as np\n",
    "import rfutils as rfu\n",
    "import rfcolours as rfc\n",
    "from matplotlib import pyplot as plt"
   ]
  },
  {
   "cell_type": "code",
   "execution_count": 2,
   "metadata": {
    "collapsed": false
   },
   "outputs": [
    {
     "ename": "ImportError",
     "evalue": "No module named PyCoCo",
     "output_type": "error",
     "traceback": [
      "\u001b[0;31m---------------------------------------------------------------------------\u001b[0m",
      "\u001b[0;31mImportError\u001b[0m                               Traceback (most recent call last)",
      "\u001b[0;32m<ipython-input-2-92ad5670791c>\u001b[0m in \u001b[0;36m<module>\u001b[0;34m()\u001b[0m\n\u001b[0;32m----> 1\u001b[0;31m \u001b[0;32mimport\u001b[0m \u001b[0mPyCoCo\u001b[0m \u001b[0;32mas\u001b[0m \u001b[0mpcc\u001b[0m\u001b[0;34m\u001b[0m\u001b[0m\n\u001b[0m",
      "\u001b[0;31mImportError\u001b[0m: No module named PyCoCo"
     ]
    }
   ],
   "source": [
    "import PyCoCo as pcc"
   ]
  },
  {
   "cell_type": "code",
   "execution_count": 3,
   "metadata": {
    "collapsed": true
   },
   "outputs": [],
   "source": [
    "import sys"
   ]
  },
  {
   "cell_type": "code",
   "execution_count": 4,
   "metadata": {
    "collapsed": false
   },
   "outputs": [
    {
     "data": {
      "text/plain": [
       "['',\n",
       " '/Users/berto/nttpipeline/lib/python2.7/site-packages/ntt-2.2.10-py2.7.egg',\n",
       " '/Users/berto/nttpipeline/lib/python2.7/site-packages',\n",
       " '/usr/local/lib/python2.7/site-packages',\n",
       " '/Users/berto/anaconda2/lib/python27.zip',\n",
       " '/Users/berto/anaconda2/lib/python2.7',\n",
       " '/Users/berto/anaconda2/lib/python2.7/plat-darwin',\n",
       " '/Users/berto/anaconda2/lib/python2.7/plat-mac',\n",
       " '/Users/berto/anaconda2/lib/python2.7/plat-mac/lib-scriptpackages',\n",
       " '/Users/berto/anaconda2/lib/python2.7/lib-tk',\n",
       " '/Users/berto/anaconda2/lib/python2.7/lib-old',\n",
       " '/Users/berto/anaconda2/lib/python2.7/lib-dynload',\n",
       " '/Users/berto/.local/lib/python2.7/site-packages',\n",
       " '/Users/berto/anaconda2/lib/python2.7/site-packages',\n",
       " '/Users/berto/anaconda2/lib/python2.7/site-packages/Sphinx-1.3.5-py2.7.egg',\n",
       " '/Users/berto/anaconda2/lib/python2.7/site-packages/aeosa',\n",
       " '/Users/berto/anaconda2/lib/python2.7/site-packages/setuptools-27.2.0-py2.7.egg',\n",
       " '/usr/local/lib/python2.7/site-packages',\n",
       " '/Users/berto/anaconda2/lib/python2.7/site-packages/IPython/extensions',\n",
       " '/Users/berto/.ipython',\n",
       " '/Users/berto/RobsPythonCode',\n",
       " '/Users/berto/Google_Drive/Code/flaming-octo-tyrion/Python',\n",
       " '/home/firth/RobsPythonCode',\n",
       " '/Users/berto/RobsPythonCode',\n",
       " '/Users/berto/Google_Drive/Code/flaming-octo-tyrion/Python',\n",
       " '/home/firth/RobsPythonCode']"
      ]
     },
     "execution_count": 4,
     "metadata": {},
     "output_type": "execute_result"
    }
   ],
   "source": [
    "sys.path"
   ]
  },
  {
   "cell_type": "code",
   "execution_count": null,
   "metadata": {
    "collapsed": true
   },
   "outputs": [],
   "source": []
  }
 ],
 "metadata": {
  "anaconda-cloud": {},
  "kernelspec": {
   "display_name": "Python [default]",
   "language": "python",
   "name": "python2"
  }
 },
 "nbformat": 4,
 "nbformat_minor": 1
}
