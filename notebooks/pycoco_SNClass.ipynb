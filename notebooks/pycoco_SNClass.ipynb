{
 "cells": [
  {
   "cell_type": "code",
   "execution_count": 39,
   "metadata": {
    "collapsed": false
   },
   "outputs": [
    {
     "data": {
      "text/plain": [
       "<module 'pycoco' from '/Users/berto/Code/verbose-enigma/pycoco/__init__.py'>"
      ]
     },
     "execution_count": 39,
     "metadata": {},
     "output_type": "execute_result"
    }
   ],
   "source": [
    "from __future__ import print_function ## Force python3-like printing\n",
    "\n",
    "%matplotlib inline\n",
    "from matplotlib import pyplot as plt\n",
    "\n",
    "import os\n",
    "import numpy as np\n",
    "from astropy.table import Table\n",
    "\n",
    "import pycoco as pcc\n",
    "\n",
    "reload(pcc) ## FOR DEV"
   ]
  },
  {
   "cell_type": "code",
   "execution_count": 40,
   "metadata": {
    "collapsed": false
   },
   "outputs": [
    {
     "data": {
      "text/plain": [
       "'SN2011dh'"
      ]
     },
     "execution_count": 40,
     "metadata": {},
     "output_type": "execute_result"
    }
   ],
   "source": [
    "# sn = pcc.SNClass('SN2011dh')\n",
    "sn = pcc.SNClass('SN2011dh')\n",
    "# sn = pcc.SNClass('SN2006aj')\n",
    "\n",
    "sn.name"
   ]
  },
  {
   "cell_type": "code",
   "execution_count": 41,
   "metadata": {
    "collapsed": false
   },
   "outputs": [
    {
     "name": "stdout",
     "output_type": "stream",
     "text": [
      "/Users/berto/Code/verbose-enigma/testdata/lc/SN2011dh.dat\n"
     ]
    }
   ],
   "source": [
    "sn.load_phot( path = '/Users/berto/Code/verbose-enigma/testdata/lc/SN2011dh.dat', verbose = True)\n",
    "# sn.load_phot( path = '/Users/berto/Code/verbose-enigma//testdata/lc/SN2006aj.dat', verbose = True)"
   ]
  },
  {
   "cell_type": "code",
   "execution_count": 42,
   "metadata": {
    "collapsed": false
   },
   "outputs": [
    {
     "ename": "KeyError",
     "evalue": "'BessellB'",
     "output_type": "error",
     "traceback": [
      "\u001b[0;31m---------------------------------------------------------------------------\u001b[0m",
      "\u001b[0;31mKeyError\u001b[0m                                  Traceback (most recent call last)",
      "\u001b[0;32m<ipython-input-42-5d1dd4e473d5>\u001b[0m in \u001b[0;36m<module>\u001b[0;34m()\u001b[0m\n\u001b[0;32m----> 1\u001b[0;31m \u001b[0msn\u001b[0m\u001b[0;34m.\u001b[0m\u001b[0mphot\u001b[0m\u001b[0;34m.\u001b[0m\u001b[0mdata_filters\u001b[0m\u001b[0;34m[\u001b[0m\u001b[0;34m'BessellB'\u001b[0m\u001b[0;34m]\u001b[0m\u001b[0;34m.\u001b[0m\u001b[0m__dict__\u001b[0m\u001b[0;34m\u001b[0m\u001b[0m\n\u001b[0m",
      "\u001b[0;31mKeyError\u001b[0m: 'BessellB'"
     ]
    }
   ],
   "source": [
    "sn.phot.data_filters['BessellB'].__dict__"
   ]
  },
  {
   "cell_type": "code",
   "execution_count": null,
   "metadata": {
    "collapsed": false
   },
   "outputs": [],
   "source": [
    "sn.phot.plot()"
   ]
  },
  {
   "cell_type": "code",
   "execution_count": null,
   "metadata": {
    "collapsed": false,
    "scrolled": false
   },
   "outputs": [],
   "source": [
    "# sn.load_list(\"/Users/berto/Code/CoCo/lists/SN2006aj.list\")\n",
    "sn.load_list(\"/Users/berto/Code/CoCo/data/spec/SN2011dh.list\")\n",
    "\n",
    "sn.load_spec()\n",
    "\n",
    "sn.plot_lc(lock_axis=True)"
   ]
  },
  {
   "cell_type": "code",
   "execution_count": null,
   "metadata": {
    "collapsed": false,
    "scrolled": false
   },
   "outputs": [],
   "source": [
    "sn.plot_lc(['BessellB'], multiplot = False, verbose = True)"
   ]
  },
  {
   "cell_type": "code",
   "execution_count": null,
   "metadata": {
    "collapsed": false
   },
   "outputs": [],
   "source": [
    "recon_filename = os.path.abspath(os.path.join('/Users/berto/Code/CoCo/recon/', 'SN2011dh.dat'))\n",
    "sn.get_lcfit(recon_filename)"
   ]
  },
  {
   "cell_type": "code",
   "execution_count": null,
   "metadata": {
    "collapsed": false
   },
   "outputs": [],
   "source": [
    "sn.plot_lc()"
   ]
  },
  {
   "cell_type": "code",
   "execution_count": null,
   "metadata": {
    "collapsed": false
   },
   "outputs": [],
   "source": [
    "sn.plot_lc(np.array('BessellB'), verbose = True)"
   ]
  },
  {
   "cell_type": "code",
   "execution_count": null,
   "metadata": {
    "collapsed": false
   },
   "outputs": [],
   "source": [
    "sn.phot.data.keys()"
   ]
  },
  {
   "cell_type": "code",
   "execution_count": null,
   "metadata": {
    "collapsed": false
   },
   "outputs": [],
   "source": [
    "sn.plot_lc(filters = ['BessellB', 'BessellV', 'BessellR', 'BessellI'])"
   ]
  },
  {
   "cell_type": "code",
   "execution_count": null,
   "metadata": {
    "collapsed": false
   },
   "outputs": [],
   "source": [
    "sn.plot_lc(filters = ['SDSS_g', 'SDSS_r', 'SDSS_i', 'SDSS_z'])"
   ]
  },
  {
   "cell_type": "code",
   "execution_count": null,
   "metadata": {
    "collapsed": false
   },
   "outputs": [],
   "source": [
    "# sn.load_list(\"/Users/berto/Code/CoCo/lists/SN2011dh_no_iz.list\")\n",
    "sn.load_list(\"/Users/berto/Code/CoCo/lists/SN2011dh.list\")"
   ]
  },
  {
   "cell_type": "code",
   "execution_count": null,
   "metadata": {
    "collapsed": true
   },
   "outputs": [],
   "source": [
    "sn.load_spec()"
   ]
  },
  {
   "cell_type": "code",
   "execution_count": null,
   "metadata": {
    "collapsed": false
   },
   "outputs": [],
   "source": [
    "sn.plot_spec(legend = False, verbose = False, add_mjd = True)"
   ]
  },
  {
   "cell_type": "code",
   "execution_count": null,
   "metadata": {
    "collapsed": false
   },
   "outputs": [],
   "source": [
    "sn.spec['11eon_20110603_Keck1_v1.ascii'].plot()"
   ]
  },
  {
   "cell_type": "code",
   "execution_count": null,
   "metadata": {
    "collapsed": false
   },
   "outputs": [],
   "source": [
    "sn.plot_lc(filters = ['SDSS_g', 'SDSS_r', 'SDSS_i', 'SDSS_z'])"
   ]
  },
  {
   "cell_type": "code",
   "execution_count": null,
   "metadata": {
    "collapsed": false
   },
   "outputs": [],
   "source": [
    "sn.plot_lc(lock_axis=True, filter_uncertainty=10)"
   ]
  },
  {
   "cell_type": "code",
   "execution_count": null,
   "metadata": {
    "collapsed": false
   },
   "outputs": [],
   "source": [
    "print(len(sn.spec.keys()))"
   ]
  },
  {
   "cell_type": "code",
   "execution_count": null,
   "metadata": {
    "collapsed": false
   },
   "outputs": [],
   "source": [
    "sn.spec['SN2011dh-2011-06-25-NOT-ALFOSC-Grism_4-Grism_5.dat'].plot()"
   ]
  },
  {
   "cell_type": "code",
   "execution_count": null,
   "metadata": {
    "collapsed": false
   },
   "outputs": [],
   "source": [
    "spec_key = 'SN2011dh-2011-06-25-NOT-ALFOSC-Grism_4-Grism_5.dat'\n",
    "filter_key = 'I'\n",
    "too_red = sn.phot.data_filters[filter_key]._upper_edge > np.nanmax(sn.spec[spec_key].wavelength)\n",
    "print(sn.phot.data_filters[filter_key]._upper_edge)\n",
    "print(np.nanmax(sn.spec[spec_key].wavelength))\n",
    "print(too_red)"
   ]
  },
  {
   "cell_type": "code",
   "execution_count": null,
   "metadata": {
    "collapsed": false
   },
   "outputs": [],
   "source": [
    "sn.plot_filters(show_lims = True)"
   ]
  },
  {
   "cell_type": "code",
   "execution_count": null,
   "metadata": {
    "collapsed": true
   },
   "outputs": [],
   "source": []
  }
 ],
 "metadata": {
  "anaconda-cloud": {},
  "kernelspec": {
   "display_name": "Python [default]",
   "language": "python",
   "name": "python2"
  },
  "language_info": {
   "codemirror_mode": {
    "name": "ipython",
    "version": 2
   },
   "file_extension": ".py",
   "mimetype": "text/x-python",
   "name": "python",
   "nbconvert_exporter": "python",
   "pygments_lexer": "ipython2",
   "version": "2.7.12"
  }
 },
 "nbformat": 4,
 "nbformat_minor": 1
}
