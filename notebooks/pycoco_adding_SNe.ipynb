{
 "cells": [
  {
   "cell_type": "markdown",
   "metadata": {
    "collapsed": true
   },
   "source": [
    "## Adding SNe to CoCo\n",
    "___\n",
    "\n",
    "This notebook will go through adding a SN to the CoCo template framework."
   ]
  },
  {
   "cell_type": "code",
   "execution_count": 1,
   "metadata": {
    "collapsed": true
   },
   "outputs": [],
   "source": [
    "%matplotlib inline\n",
    "# %matplotlib notebook\n",
    "\n",
    "try:\n",
    "    reload  # Python 2.7\n",
    "except NameError:\n",
    "    try:\n",
    "        from importlib import reload  # Python 3.4+\n",
    "    except ImportError:\n",
    "        from imp import reload  # Python 3.0 - 3.3\n",
    "        \n",
    "from matplotlib import pyplot as plt\n",
    "from matplotlib import rc\n",
    "rc('text', usetex=True)\n",
    "\n",
    "import os\n",
    "import numpy as np\n",
    "from astropy.table import Table\n",
    "\n",
    "import pycoco as pcc"
   ]
  },
  {
   "cell_type": "markdown",
   "metadata": {},
   "source": [
    "## Download SN\n",
    "---\n",
    "The example that I will go through is probably the simplest one - from a JSON that I have downloaded from http://sne.space contaning the information for SN2010as."
   ]
  },
  {
   "cell_type": "code",
   "execution_count": 2,
   "metadata": {
    "collapsed": true
   },
   "outputs": [],
   "source": [
    "import json"
   ]
  },
  {
   "cell_type": "code",
   "execution_count": 3,
   "metadata": {
    "collapsed": false
   },
   "outputs": [],
   "source": [
    "snname = \"SN2010as\"\n",
    "path = \"/Users/berto/data/CoreCollapse/SNe/SN2010as.json\"\n",
    "\n",
    "sndict = json.load(open(path, 'r'))[snname]"
   ]
  },
  {
   "cell_type": "code",
   "execution_count": 4,
   "metadata": {
    "collapsed": false
   },
   "outputs": [
    {
     "data": {
      "text/plain": [
       "26"
      ]
     },
     "execution_count": 4,
     "metadata": {},
     "output_type": "execute_result"
    }
   ],
   "source": [
    "len(sndict[\"spectra\"])"
   ]
  },
  {
   "cell_type": "code",
   "execution_count": 5,
   "metadata": {
    "collapsed": true
   },
   "outputs": [],
   "source": [
    "S1 = sndict[\"spectra\"][0]"
   ]
  },
  {
   "cell_type": "code",
   "execution_count": 6,
   "metadata": {
    "collapsed": false
   },
   "outputs": [
    {
     "data": {
      "text/plain": [
       "dict_keys(['time', 'filename', 'instrument', 'observer', 'redshift', 'reducer', 'reduction', 'u_fluxes', 'u_time', 'u_wavelengths', 'data', 'source'])"
      ]
     },
     "execution_count": 6,
     "metadata": {},
     "output_type": "execute_result"
    }
   ],
   "source": [
    "S1.keys()"
   ]
  },
  {
   "cell_type": "code",
   "execution_count": 7,
   "metadata": {
    "collapsed": false
   },
   "outputs": [],
   "source": [
    "w = np.array(S1[\"data\"], dtype=np.float64).T[0]\n",
    "f = np.array(S1[\"data\"], dtype=np.float64).T[1]"
   ]
  },
  {
   "cell_type": "code",
   "execution_count": 8,
   "metadata": {
    "collapsed": false
   },
   "outputs": [
    {
     "data": {
      "text/plain": [
       "array([  1.99488800e-16,   2.74730800e-16,   2.80291500e-16, ...,\n",
       "         5.54147300e-16,   5.59090900e-16,   5.63390900e-16])"
      ]
     },
     "execution_count": 8,
     "metadata": {},
     "output_type": "execute_result"
    }
   ],
   "source": [
    "f"
   ]
  },
  {
   "cell_type": "code",
   "execution_count": 23,
   "metadata": {
    "collapsed": true
   },
   "outputs": [],
   "source": [
    "from astropy.table import Table, Column, Row\n",
    "import astropy.units as u"
   ]
  },
  {
   "cell_type": "code",
   "execution_count": 10,
   "metadata": {
    "collapsed": false
   },
   "outputs": [],
   "source": [
    "wavelength = Column(w, name = (\"wavelength\"), unit=u.Angstrom)\n",
    "flux = Column(f, name = (\"flux\"), unit=u.cgs.erg / u.si.cm ** 2 / u.si.s / u.angstrom)"
   ]
  },
  {
   "cell_type": "code",
   "execution_count": 11,
   "metadata": {
    "collapsed": false
   },
   "outputs": [
    {
     "data": {
      "text/html": [
       "&lt;Table length=2900&gt;\n",
       "<table id=\"table4466776440\" class=\"table-striped table-bordered table-condensed\">\n",
       "<thead><tr><th>wavelength</th><th>flux</th></tr></thead>\n",
       "<thead><tr><th>Angstrom</th><th>erg / (Angstrom cm2 s)</th></tr></thead>\n",
       "<thead><tr><th>float64</th><th>float64</th></tr></thead>\n",
       "<tr><td>3674.0</td><td>1.994888e-16</td></tr>\n",
       "<tr><td>3675.92575</td><td>2.747308e-16</td></tr>\n",
       "<tr><td>3677.851501</td><td>2.802915e-16</td></tr>\n",
       "<tr><td>3679.777251</td><td>2.936676e-16</td></tr>\n",
       "<tr><td>3681.703001</td><td>3.203338e-16</td></tr>\n",
       "<tr><td>3683.628751</td><td>2.445988e-16</td></tr>\n",
       "<tr><td>3685.554502</td><td>3.125971e-16</td></tr>\n",
       "<tr><td>3687.480252</td><td>2.8318e-16</td></tr>\n",
       "<tr><td>3689.406002</td><td>2.273818e-16</td></tr>\n",
       "<tr><td>...</td><td>...</td></tr>\n",
       "<tr><td>9239.418248</td><td>5.810535e-16</td></tr>\n",
       "<tr><td>9241.343998</td><td>5.740354e-16</td></tr>\n",
       "<tr><td>9243.269748</td><td>5.723371e-16</td></tr>\n",
       "<tr><td>9245.195498</td><td>5.63852e-16</td></tr>\n",
       "<tr><td>9247.121249</td><td>6.08394e-16</td></tr>\n",
       "<tr><td>9249.046999</td><td>5.673893e-16</td></tr>\n",
       "<tr><td>9250.972749</td><td>5.704144e-16</td></tr>\n",
       "<tr><td>9252.898499</td><td>5.541473e-16</td></tr>\n",
       "<tr><td>9254.82425</td><td>5.590909e-16</td></tr>\n",
       "<tr><td>9256.75</td><td>5.633909e-16</td></tr>\n",
       "</table>"
      ],
      "text/plain": [
       "<Table length=2900>\n",
       " wavelength          flux         \n",
       "  Angstrom  erg / (Angstrom cm2 s)\n",
       "  float64          float64        \n",
       "----------- ----------------------\n",
       "     3674.0           1.994888e-16\n",
       " 3675.92575           2.747308e-16\n",
       "3677.851501           2.802915e-16\n",
       "3679.777251           2.936676e-16\n",
       "3681.703001           3.203338e-16\n",
       "3683.628751           2.445988e-16\n",
       "3685.554502           3.125971e-16\n",
       "3687.480252             2.8318e-16\n",
       "3689.406002           2.273818e-16\n",
       "        ...                    ...\n",
       "9239.418248           5.810535e-16\n",
       "9241.343998           5.740354e-16\n",
       "9243.269748           5.723371e-16\n",
       "9245.195498            5.63852e-16\n",
       "9247.121249            6.08394e-16\n",
       "9249.046999           5.673893e-16\n",
       "9250.972749           5.704144e-16\n",
       "9252.898499           5.541473e-16\n",
       " 9254.82425           5.590909e-16\n",
       "    9256.75           5.633909e-16"
      ]
     },
     "execution_count": 11,
     "metadata": {},
     "output_type": "execute_result"
    }
   ],
   "source": [
    "Table([wavelength, flux])"
   ]
  },
  {
   "cell_type": "code",
   "execution_count": 12,
   "metadata": {
    "collapsed": false
   },
   "outputs": [
    {
     "name": "stdout",
     "output_type": "stream",
     "text": [
      "55275.0 SN10as_100320_DUP_WF_b01.dat\n",
      "55276.0 SN10as_100321_GEM_GM_r01.dat\n",
      "55277.0 SN10as_100322_DUP_WF_b01.dat\n",
      "55278.0 SN10as_100323_DUP_WF_b01.dat\n",
      "55279.0 SN10as_100324_DUP_WF_b01.dat\n",
      "55280.0 SN10as_100325_DUP_WF_b01.dat\n",
      "55280.0 SN10as_100325_VLT_XS_nir.dat\n",
      "55280.0 SN10as_100325_VLT_XS_uvb.dat\n",
      "55280.0 SN10as_100325_VLT_XS_vis.dat\n",
      "55281.0 SN10as_100326_VLT_XS_nir.dat\n",
      "55281.0 SN10as_100326_VLT_XS_uvb.dat\n",
      "55281.0 SN10as_100326_VLT_XS_vis.dat\n",
      "55283.0 SN10as_100328_VLT_XS_nir.dat\n",
      "55283.0 SN10as_100328_VLT_XS_uvb.dat\n",
      "55283.0 SN10as_100328_VLT_XS_vis.dat\n",
      "55284.0 SN10as_100329_VLT_XS_nir.dat\n",
      "55284.0 SN10as_100329_VLT_XS_uvb.dat\n",
      "55284.0 SN10as_100329_VLT_XS_vis.dat\n",
      "55295.0 SN10as_100409_SOA_GO_g01.dat\n",
      "55308.0 SN10as_100422_GEM_GM_c01.dat\n",
      "55385.0 SN10as_100708_GEM_GM_c01.dat\n",
      "55400.0 SN10as_100723_SOA_GO_g01.dat\n",
      "55410.0 SN10as_100802_GEM_GM_c01.dat\n",
      "55413.0 SN10as_100805_SOA_GO_g01.dat\n",
      "55597.0 SN10as_110205_BAA_IM_b01.dat\n",
      "55597.0 SN10as_110205_BAA_IM_r01.dat\n"
     ]
    }
   ],
   "source": [
    "for s in sndict[\"spectra\"]:\n",
    "    print(s[\"time\"], s[\"filename\"])"
   ]
  },
  {
   "cell_type": "markdown",
   "metadata": {},
   "source": [
    "We need a (rough) estimate of the time of maximum light (only to ensure the spectra adhere to our naming convention), so from Folatelli et al. 2014 (http://iopscience.iop.org/article/10.1088/0004-637X/792/1/7/pdf) we have:"
   ]
  },
  {
   "cell_type": "code",
   "execution_count": 13,
   "metadata": {
    "collapsed": true
   },
   "outputs": [],
   "source": [
    "mjdmax = 55286.4"
   ]
  },
  {
   "cell_type": "code",
   "execution_count": 14,
   "metadata": {
    "collapsed": false
   },
   "outputs": [],
   "source": [
    "fname_offset = 0.01\n",
    "phase_list = []\n",
    "for s in sndict[\"spectra\"]:\n",
    "    phase = np.float64(s[\"time\"])-mjdmax\n",
    "    \n",
    "    if phase not in phase_list:\n",
    "        phase_list.append(phase)\n",
    "        \n",
    "    else:\n",
    "        i=1\n",
    "        \n",
    "        while phase in phase_list:\n",
    "            phase = phase + fname_offset*i\n",
    "            i+=1\n",
    "        phase_list.append(phase)\n",
    "            \n",
    "    "
   ]
  },
  {
   "cell_type": "code",
   "execution_count": 15,
   "metadata": {
    "collapsed": false
   },
   "outputs": [
    {
     "data": {
      "text/plain": [
       "[-11.400000000001455,\n",
       " -10.400000000001455,\n",
       " -9.4000000000014552,\n",
       " -8.4000000000014552,\n",
       " -7.4000000000014552,\n",
       " -6.4000000000014552,\n",
       " -6.3900000000014554,\n",
       " -6.3700000000014558,\n",
       " -6.3400000000014556,\n",
       " -5.4000000000014552,\n",
       " -5.3900000000014554,\n",
       " -5.3700000000014558,\n",
       " -3.4000000000014552,\n",
       " -3.3900000000014554,\n",
       " -3.3700000000014554,\n",
       " -2.4000000000014552,\n",
       " -2.3900000000014554,\n",
       " -2.3700000000014554,\n",
       " 8.5999999999985448,\n",
       " 21.599999999998545,\n",
       " 98.599999999998545,\n",
       " 113.59999999999854,\n",
       " 123.59999999999854,\n",
       " 126.59999999999854,\n",
       " 310.59999999999854,\n",
       " 310.60999999999854]"
      ]
     },
     "execution_count": 15,
     "metadata": {},
     "output_type": "execute_result"
    }
   ],
   "source": [
    "phase_list"
   ]
  },
  {
   "cell_type": "code",
   "execution_count": 16,
   "metadata": {
    "collapsed": false,
    "scrolled": false
   },
   "outputs": [
    {
     "name": "stdout",
     "output_type": "stream",
     "text": [
      "SN2010as_-11.4.txt SN2010as 55275.0 0.007315\n",
      "has data\n",
      "SN2010as_-10.4.txt SN2010as 55276.0 0.007315\n",
      "has data\n",
      "SN2010as_-9.4.txt SN2010as 55277.0 0.007315\n",
      "has data\n",
      "SN2010as_-8.4.txt SN2010as 55278.0 0.007315\n",
      "has data\n",
      "SN2010as_-7.4.txt SN2010as 55279.0 0.007315\n",
      "has data\n",
      "SN2010as_-6.4.txt SN2010as 55280.0 0.007315\n",
      "has data\n",
      "SN2010as_-6.39.txt SN2010as 55280.0 0.007315\n",
      "has data\n",
      "SN2010as_-6.37.txt SN2010as 55280.0 0.007315\n",
      "has data\n",
      "SN2010as_-6.34.txt SN2010as 55280.0 0.007315\n",
      "has data\n",
      "SN2010as_-5.4.txt SN2010as 55281.0 0.007315\n",
      "has data\n",
      "SN2010as_-5.39.txt SN2010as 55281.0 0.007315\n",
      "has data\n",
      "SN2010as_-5.37.txt"
     ]
    },
    {
     "name": "stderr",
     "output_type": "stream",
     "text": [
      "/Users/berto/Code/verbose-enigma/pycoco/classes.py:489: UserWarning: Found existing file matching /Users/berto/data/CoreCollapse/data/spectra/SN2010as/. Run with squash = True to overwrite\n",
      "  warnings.warn(\"Found existing file matching \" + path + \". Run with squash = True to overwrite\")\n"
     ]
    },
    {
     "name": "stdout",
     "output_type": "stream",
     "text": [
      " SN2010as 55281.0 0.007315\n",
      "has data\n",
      "SN2010as_-3.4.txt SN2010as 55283.0 0.007315\n",
      "has data\n",
      "SN2010as_-3.39.txt SN2010as 55283.0 0.007315\n",
      "has data\n",
      "SN2010as_-3.37.txt SN2010as 55283.0 0.007315\n",
      "has data\n",
      "SN2010as_-2.4.txt SN2010as 55284.0 0.007315\n",
      "has data\n",
      "SN2010as_-2.39.txt SN2010as 55284.0 0.007315\n",
      "has data\n",
      "SN2010as_-2.37.txt SN2010as 55284.0 0.007315\n",
      "has data\n",
      "SN2010as_8.6.txt SN2010as 55295.0 0.007315\n",
      "has data\n",
      "SN2010as_21.6.txt SN2010as 55308.0 0.007315\n",
      "has data\n",
      "SN2010as_98.6.txt SN2010as 55385.0 0.007315\n",
      "SN2010as_113.6.txt SN2010as 55400.0 0.007315\n",
      "SN2010as_123.6.txt SN2010as 55410.0 0.007315\n",
      "SN2010as_126.6.txt SN2010as 55413.0 0.007315\n",
      "SN2010as_310.6.txt SN2010as 55597.0 0.007315\n",
      "SN2010as_310.61.txt SN2010as 55597.0 0.007315\n"
     ]
    },
    {
     "name": "stderr",
     "output_type": "stream",
     "text": [
      "WARNING: AstropyDeprecationWarning: /Users/berto/data/CoreCollapse/SNe/SN2010as.list already exists. Automatically overwriting ASCII files is deprecated. Use the argument 'overwrite=True' in the future. [astropy.io.ascii.ui]\n"
     ]
    }
   ],
   "source": [
    "list_file_path = \"/Users/berto/data/CoreCollapse/SNe/SN2010as.list\"\n",
    "outdir = \"/Users/berto/data/CoreCollapse/data/spectra/SN2010as/\"\n",
    "\n",
    "max_phase = 50.\n",
    "\n",
    "spec_path_out_list = []\n",
    "snname_list = []\n",
    "mjd_list = []\n",
    "z_list = []\n",
    "\n",
    "for i, s in enumerate(sndict[\"spectra\"]):\n",
    "    \n",
    "    w = np.array(s[\"data\"], dtype=np.float64).T[0]\n",
    "    f = np.array(s[\"data\"], dtype=np.float64).T[1]\n",
    "    \n",
    "    wavelength = Column(w, name = (\"wavelength\"), unit=u.Angstrom)\n",
    "    flux = Column(f, name = (\"flux\"), unit=u.cgs.erg / u.si.cm ** 2 / u.si.s / u.angstrom)\n",
    "    \n",
    "    spec_table = Table([wavelength, flux])\n",
    "    \n",
    "    S = pcc.SpectrumClass()\n",
    "    \n",
    "    spec_file = s[\"filename\"]\n",
    "    \n",
    "    S.load_table(spec_table, path=spec_file)\n",
    "    #S.plot()\n",
    "    newname = snname+\"_\"+str(round(phase_list[i], 2))+\".txt\"\n",
    "    \n",
    "    print(newname, snname, s[\"time\"], s[\"redshift\"])\n",
    "\n",
    "    if phase_list[i] < max_phase:\n",
    "        spec_path_out_list.append(os.path.join(outdir, newname))\n",
    "        snname_list.append(snname)\n",
    "        mjd_list.append(s[\"time\"])\n",
    "        z_list.append(s[\"redshift\"])\n",
    "        \n",
    "        S.save(filename=newname, path=outdir, format=\"ascii.commented_header\")\n",
    "\n",
    "list_table = Table([spec_path_out_list, snname_list, mjd_list, z_list])\n",
    "list_table.write(filename=list_file_path, format=\"ascii.fast_no_header\")  "
   ]
  },
  {
   "cell_type": "code",
   "execution_count": 17,
   "metadata": {
    "collapsed": false
   },
   "outputs": [
    {
     "data": {
      "text/html": [
       "&lt;Table length=20&gt;\n",
       "<table id=\"table4765656064\" class=\"table-striped table-bordered table-condensed\">\n",
       "<thead><tr><th>col0</th><th>col1</th><th>col2</th><th>col3</th></tr></thead>\n",
       "<thead><tr><th>str71</th><th>str8</th><th>str7</th><th>str8</th></tr></thead>\n",
       "<tr><td>/Users/berto/data/CoreCollapse/data/spectra/SN2010as/SN2010as_-11.4.txt</td><td>SN2010as</td><td>55275.0</td><td>0.007315</td></tr>\n",
       "<tr><td>/Users/berto/data/CoreCollapse/data/spectra/SN2010as/SN2010as_-10.4.txt</td><td>SN2010as</td><td>55276.0</td><td>0.007315</td></tr>\n",
       "<tr><td>/Users/berto/data/CoreCollapse/data/spectra/SN2010as/SN2010as_-9.4.txt</td><td>SN2010as</td><td>55277.0</td><td>0.007315</td></tr>\n",
       "<tr><td>/Users/berto/data/CoreCollapse/data/spectra/SN2010as/SN2010as_-8.4.txt</td><td>SN2010as</td><td>55278.0</td><td>0.007315</td></tr>\n",
       "<tr><td>/Users/berto/data/CoreCollapse/data/spectra/SN2010as/SN2010as_-7.4.txt</td><td>SN2010as</td><td>55279.0</td><td>0.007315</td></tr>\n",
       "<tr><td>/Users/berto/data/CoreCollapse/data/spectra/SN2010as/SN2010as_-6.4.txt</td><td>SN2010as</td><td>55280.0</td><td>0.007315</td></tr>\n",
       "<tr><td>/Users/berto/data/CoreCollapse/data/spectra/SN2010as/SN2010as_-6.39.txt</td><td>SN2010as</td><td>55280.0</td><td>0.007315</td></tr>\n",
       "<tr><td>/Users/berto/data/CoreCollapse/data/spectra/SN2010as/SN2010as_-6.37.txt</td><td>SN2010as</td><td>55280.0</td><td>0.007315</td></tr>\n",
       "<tr><td>/Users/berto/data/CoreCollapse/data/spectra/SN2010as/SN2010as_-6.34.txt</td><td>SN2010as</td><td>55280.0</td><td>0.007315</td></tr>\n",
       "<tr><td>/Users/berto/data/CoreCollapse/data/spectra/SN2010as/SN2010as_-5.4.txt</td><td>SN2010as</td><td>55281.0</td><td>0.007315</td></tr>\n",
       "<tr><td>/Users/berto/data/CoreCollapse/data/spectra/SN2010as/SN2010as_-5.39.txt</td><td>SN2010as</td><td>55281.0</td><td>0.007315</td></tr>\n",
       "<tr><td>/Users/berto/data/CoreCollapse/data/spectra/SN2010as/SN2010as_-5.37.txt</td><td>SN2010as</td><td>55281.0</td><td>0.007315</td></tr>\n",
       "<tr><td>/Users/berto/data/CoreCollapse/data/spectra/SN2010as/SN2010as_-3.4.txt</td><td>SN2010as</td><td>55283.0</td><td>0.007315</td></tr>\n",
       "<tr><td>/Users/berto/data/CoreCollapse/data/spectra/SN2010as/SN2010as_-3.39.txt</td><td>SN2010as</td><td>55283.0</td><td>0.007315</td></tr>\n",
       "<tr><td>/Users/berto/data/CoreCollapse/data/spectra/SN2010as/SN2010as_-3.37.txt</td><td>SN2010as</td><td>55283.0</td><td>0.007315</td></tr>\n",
       "<tr><td>/Users/berto/data/CoreCollapse/data/spectra/SN2010as/SN2010as_-2.4.txt</td><td>SN2010as</td><td>55284.0</td><td>0.007315</td></tr>\n",
       "<tr><td>/Users/berto/data/CoreCollapse/data/spectra/SN2010as/SN2010as_-2.39.txt</td><td>SN2010as</td><td>55284.0</td><td>0.007315</td></tr>\n",
       "<tr><td>/Users/berto/data/CoreCollapse/data/spectra/SN2010as/SN2010as_-2.37.txt</td><td>SN2010as</td><td>55284.0</td><td>0.007315</td></tr>\n",
       "<tr><td>/Users/berto/data/CoreCollapse/data/spectra/SN2010as/SN2010as_8.6.txt</td><td>SN2010as</td><td>55295.0</td><td>0.007315</td></tr>\n",
       "<tr><td>/Users/berto/data/CoreCollapse/data/spectra/SN2010as/SN2010as_21.6.txt</td><td>SN2010as</td><td>55308.0</td><td>0.007315</td></tr>\n",
       "</table>"
      ],
      "text/plain": [
       "<Table length=20>\n",
       "                                  col0                                  ...\n",
       "                                 str71                                  ...\n",
       "----------------------------------------------------------------------- ...\n",
       "/Users/berto/data/CoreCollapse/data/spectra/SN2010as/SN2010as_-11.4.txt ...\n",
       "/Users/berto/data/CoreCollapse/data/spectra/SN2010as/SN2010as_-10.4.txt ...\n",
       " /Users/berto/data/CoreCollapse/data/spectra/SN2010as/SN2010as_-9.4.txt ...\n",
       " /Users/berto/data/CoreCollapse/data/spectra/SN2010as/SN2010as_-8.4.txt ...\n",
       " /Users/berto/data/CoreCollapse/data/spectra/SN2010as/SN2010as_-7.4.txt ...\n",
       " /Users/berto/data/CoreCollapse/data/spectra/SN2010as/SN2010as_-6.4.txt ...\n",
       "/Users/berto/data/CoreCollapse/data/spectra/SN2010as/SN2010as_-6.39.txt ...\n",
       "/Users/berto/data/CoreCollapse/data/spectra/SN2010as/SN2010as_-6.37.txt ...\n",
       "/Users/berto/data/CoreCollapse/data/spectra/SN2010as/SN2010as_-6.34.txt ...\n",
       " /Users/berto/data/CoreCollapse/data/spectra/SN2010as/SN2010as_-5.4.txt ...\n",
       "/Users/berto/data/CoreCollapse/data/spectra/SN2010as/SN2010as_-5.39.txt ...\n",
       "/Users/berto/data/CoreCollapse/data/spectra/SN2010as/SN2010as_-5.37.txt ...\n",
       " /Users/berto/data/CoreCollapse/data/spectra/SN2010as/SN2010as_-3.4.txt ...\n",
       "/Users/berto/data/CoreCollapse/data/spectra/SN2010as/SN2010as_-3.39.txt ...\n",
       "/Users/berto/data/CoreCollapse/data/spectra/SN2010as/SN2010as_-3.37.txt ...\n",
       " /Users/berto/data/CoreCollapse/data/spectra/SN2010as/SN2010as_-2.4.txt ...\n",
       "/Users/berto/data/CoreCollapse/data/spectra/SN2010as/SN2010as_-2.39.txt ...\n",
       "/Users/berto/data/CoreCollapse/data/spectra/SN2010as/SN2010as_-2.37.txt ...\n",
       "  /Users/berto/data/CoreCollapse/data/spectra/SN2010as/SN2010as_8.6.txt ...\n",
       " /Users/berto/data/CoreCollapse/data/spectra/SN2010as/SN2010as_21.6.txt ..."
      ]
     },
     "execution_count": 17,
     "metadata": {},
     "output_type": "execute_result"
    }
   ],
   "source": [
    "list_table"
   ]
  },
  {
   "cell_type": "code",
   "execution_count": 18,
   "metadata": {
    "collapsed": true
   },
   "outputs": [],
   "source": [
    "info = pcc.InfoClass()\n",
    "info.load()"
   ]
  },
  {
   "cell_type": "code",
   "execution_count": 22,
   "metadata": {
    "collapsed": false
   },
   "outputs": [
    {
     "data": {
      "text/html": [
       "&lt;Table length=30&gt;\n",
       "<table id=\"table4765527848\" class=\"table-striped table-bordered table-condensed\">\n",
       "<thead><tr><th>snname</th><th>z_obs</th><th>mu</th><th>RA</th><th>Dec</th><th>Type</th><th>z_distmod</th><th>SkyCoords</th></tr></thead>\n",
       "<thead><tr><th></th><th></th><th></th><th></th><th></th><th></th><th></th><th>deg,deg</th></tr></thead>\n",
       "<thead><tr><th>str9</th><th>float64</th><th>float64</th><th>str13</th><th>str13</th><th>str3</th><th>float64</th><th>object</th></tr></thead>\n",
       "<tr><td>SN1993J</td><td>-0.0001</td><td>27.82</td><td>09:55:24.7747</td><td>+69:01:13.702</td><td>IIb</td><td>0.000846738572565</td><td>148.85322791666664,69.02047277777778</td></tr>\n",
       "<tr><td>SN1994I</td><td>0.0015</td><td>29.5</td><td>13:29:54.072</td><td>+47:11:30.50</td><td>Ic</td><td>0.00183405936245</td><td>202.47529999999995,47.191805555555554</td></tr>\n",
       "<tr><td>SN1996cb</td><td>0.0024</td><td>30.69</td><td>11:03:41.98</td><td>+28:54:13.7</td><td>IIb</td><td>0.00316927429656</td><td>165.92491666666666,28.903805555555554</td></tr>\n",
       "<tr><td>SN1998bw</td><td>0.0085</td><td>32.69</td><td>19:35:03.17</td><td>-52:50:46.1</td><td>Ic</td><td>0.00793139066351</td><td>293.76320833333324,-52.846138888888895</td></tr>\n",
       "<tr><td>SN1999dn</td><td>0.0093</td><td>32.44</td><td>23:36:14.70</td><td>+02:09:08.8</td><td>Ib</td><td>0.00707356943452</td><td>354.06125,2.1524444444444444</td></tr>\n",
       "<tr><td>SN2002ap</td><td>0.0022</td><td>29.76</td><td>01:36:23.85</td><td>+15:45:13.2</td><td>Ic</td><td>0.00206697015014</td><td>24.099375,15.753666666666666</td></tr>\n",
       "<tr><td>SN2003jd</td><td>0.0188</td><td>34.33</td><td>23:21:03.38</td><td>-04:53:45.5</td><td>Ic</td><td>0.01676453466</td><td>350.2640833333333,-4.8959722222222215</td></tr>\n",
       "<tr><td>SN2004aw</td><td>0.0159</td><td>34.48</td><td>11:57:50.24</td><td>+25:15:55.1</td><td>Ic</td><td>0.0179472672379</td><td>179.45933333333332,25.265305555555557</td></tr>\n",
       "<tr><td>SN2005bf</td><td>0.0189</td><td>34.73</td><td>10:23:56.99</td><td>-03:11:29.3</td><td>Ib</td><td>0.0201040285508</td><td>155.9874583333333,-3.191472222222222</td></tr>\n",
       "<tr><td>...</td><td>...</td><td>...</td><td>...</td><td>...</td><td>...</td><td>...</td><td>...</td></tr>\n",
       "<tr><td>SN2009iz</td><td>0.0142</td><td>33.75</td><td>02:42:15.41</td><td>+42:23:50.1</td><td>Ib</td><td>0.0128732980981</td><td>40.564208333333326,42.39725</td></tr>\n",
       "<tr><td>SN2009jf</td><td>0.008</td><td>32.58</td><td>23:04:52.98</td><td>+12:19:59.5</td><td>Ib</td><td>0.00754189788211</td><td>346.22074999999995,12.333194444444445</td></tr>\n",
       "<tr><td>SN2010al</td><td>0.017</td><td>34.74</td><td>08:14:15.91</td><td>+18:26:18.2</td><td>Ib</td><td>0.0201954171702</td><td>123.56629166666664,18.438388888888888</td></tr>\n",
       "<tr><td>SN2011bm</td><td>0.0022</td><td>35.53</td><td>12:56:53.89</td><td>+22:22:28.2</td><td>Ic</td><td>0.0288668876597</td><td>194.22454166666665,22.3745</td></tr>\n",
       "<tr><td>SN2011dh</td><td>0.0015</td><td>29.5</td><td>13:30:05.1055</td><td>+47:10:10.922</td><td>IIb</td><td>0.00183405936245</td><td>202.52127291666665,47.16970055555555</td></tr>\n",
       "<tr><td>SN2011ei</td><td>0.0093</td><td>32.41</td><td>20:34:22.62</td><td>-31:58:23.6</td><td>IIb</td><td>0.00697703973932</td><td>308.59424999999993,-31.97322222222222</td></tr>\n",
       "<tr><td>SN2011fu</td><td>0.0185</td><td>34.46</td><td>02:08:21.41</td><td>+41:29:12.3</td><td>IIb</td><td>0.0177849337761</td><td>32.08920833333333,41.48675</td></tr>\n",
       "<tr><td>SN2012ap</td><td>0.0121</td><td>32.96</td><td>05:00:13.72</td><td>-03:20:51.2</td><td>Ib</td><td>0.00897424974731</td><td>75.05716666666666,-3.3475555555555556</td></tr>\n",
       "<tr><td>SN2013ge</td><td>0.0043</td><td>31.36</td><td>10:34:48.46</td><td>+21:39:41.9</td><td>Ib</td><td>0.00431094726025</td><td>158.70191666666665,21.661638888888888</td></tr>\n",
       "<tr><td>iPTF13bvn</td><td>0.00449</td><td>32.14</td><td>15:00:00.15</td><td>+01:52:53.17</td><td>Ib</td><td>0.00616517411033</td><td>225.00062499999996,1.881436111111111</td></tr>\n",
       "</table>"
      ],
      "text/plain": [
       "<Table length=30>\n",
       "  snname   z_obs  ...     z_distmod                   SkyCoords               \n",
       "                  ...                                  deg,deg                \n",
       "   str9   float64 ...      float64                      object                \n",
       "--------- ------- ... ----------------- --------------------------------------\n",
       "  SN1993J -0.0001 ... 0.000846738572565   148.85322791666664,69.02047277777778\n",
       "  SN1994I  0.0015 ...  0.00183405936245  202.47529999999995,47.191805555555554\n",
       " SN1996cb  0.0024 ...  0.00316927429656  165.92491666666666,28.903805555555554\n",
       " SN1998bw  0.0085 ...  0.00793139066351 293.76320833333324,-52.846138888888895\n",
       " SN1999dn  0.0093 ...  0.00707356943452           354.06125,2.1524444444444444\n",
       " SN2002ap  0.0022 ...  0.00206697015014           24.099375,15.753666666666666\n",
       " SN2003jd  0.0188 ...     0.01676453466  350.2640833333333,-4.8959722222222215\n",
       " SN2004aw  0.0159 ...   0.0179472672379  179.45933333333332,25.265305555555557\n",
       " SN2005bf  0.0189 ...   0.0201040285508   155.9874583333333,-3.191472222222222\n",
       "      ...     ... ...               ...                                    ...\n",
       " SN2009iz  0.0142 ...   0.0128732980981            40.564208333333326,42.39725\n",
       " SN2009jf   0.008 ...  0.00754189788211  346.22074999999995,12.333194444444445\n",
       " SN2010al   0.017 ...   0.0201954171702  123.56629166666664,18.438388888888888\n",
       " SN2011bm  0.0022 ...   0.0288668876597             194.22454166666665,22.3745\n",
       " SN2011dh  0.0015 ...  0.00183405936245   202.52127291666665,47.16970055555555\n",
       " SN2011ei  0.0093 ...  0.00697703973932  308.59424999999993,-31.97322222222222\n",
       " SN2011fu  0.0185 ...   0.0177849337761             32.08920833333333,41.48675\n",
       " SN2012ap  0.0121 ...  0.00897424974731  75.05716666666666,-3.3475555555555556\n",
       " SN2013ge  0.0043 ...  0.00431094726025  158.70191666666665,21.661638888888888\n",
       "iPTF13bvn 0.00449 ...  0.00616517411033   225.00062499999996,1.881436111111111"
      ]
     },
     "execution_count": 22,
     "metadata": {},
     "output_type": "execute_result"
    }
   ],
   "source": [
    "info._data"
   ]
  },
  {
   "cell_type": "code",
   "execution_count": 66,
   "metadata": {
    "collapsed": false
   },
   "outputs": [],
   "source": [
    "small_table = info._data[(\"snname\", \"z_obs\", \"mu\", \"RA\", \"Dec\", \"Type\", \"z_distmod\")]"
   ]
  },
  {
   "cell_type": "code",
   "execution_count": 62,
   "metadata": {
    "collapsed": false
   },
   "outputs": [
    {
     "data": {
      "text/html": [
       "&lt;Table length=30&gt;\n",
       "<table id=\"table4792511176\" class=\"table-striped table-bordered table-condensed\">\n",
       "<thead><tr><th>snname</th><th>z_obs</th><th>mu</th><th>RA</th><th>Dec</th><th>Type</th><th>z_distmod</th></tr></thead>\n",
       "<thead><tr><th>str9</th><th>float64</th><th>float64</th><th>str13</th><th>str13</th><th>str3</th><th>float64</th></tr></thead>\n",
       "<tr><td>SN1993J</td><td>-0.0001</td><td>27.82</td><td>09:55:24.7747</td><td>+69:01:13.702</td><td>IIb</td><td>0.000846738572565</td></tr>\n",
       "<tr><td>SN1994I</td><td>0.0015</td><td>29.5</td><td>13:29:54.072</td><td>+47:11:30.50</td><td>Ic</td><td>0.00183405936245</td></tr>\n",
       "<tr><td>SN1996cb</td><td>0.0024</td><td>30.69</td><td>11:03:41.98</td><td>+28:54:13.7</td><td>IIb</td><td>0.00316927429656</td></tr>\n",
       "<tr><td>SN1998bw</td><td>0.0085</td><td>32.69</td><td>19:35:03.17</td><td>-52:50:46.1</td><td>Ic</td><td>0.00793139066351</td></tr>\n",
       "<tr><td>SN1999dn</td><td>0.0093</td><td>32.44</td><td>23:36:14.70</td><td>+02:09:08.8</td><td>Ib</td><td>0.00707356943452</td></tr>\n",
       "<tr><td>SN2002ap</td><td>0.0022</td><td>29.76</td><td>01:36:23.85</td><td>+15:45:13.2</td><td>Ic</td><td>0.00206697015014</td></tr>\n",
       "<tr><td>SN2003jd</td><td>0.0188</td><td>34.33</td><td>23:21:03.38</td><td>-04:53:45.5</td><td>Ic</td><td>0.01676453466</td></tr>\n",
       "<tr><td>SN2004aw</td><td>0.0159</td><td>34.48</td><td>11:57:50.24</td><td>+25:15:55.1</td><td>Ic</td><td>0.0179472672379</td></tr>\n",
       "<tr><td>SN2005bf</td><td>0.0189</td><td>34.73</td><td>10:23:56.99</td><td>-03:11:29.3</td><td>Ib</td><td>0.0201040285508</td></tr>\n",
       "<tr><td>SN2005hg</td><td>0.021</td><td>34.54</td><td>01:55:41.87</td><td>+46:47:47.4</td><td>Ib</td><td>0.0184430908334</td></tr>\n",
       "<tr><td>...</td><td>...</td><td>...</td><td>...</td><td>...</td><td>...</td><td>...</td></tr>\n",
       "<tr><td>SN2009iz</td><td>0.0142</td><td>33.75</td><td>02:42:15.41</td><td>+42:23:50.1</td><td>Ib</td><td>0.0128732980981</td></tr>\n",
       "<tr><td>SN2009jf</td><td>0.008</td><td>32.58</td><td>23:04:52.98</td><td>+12:19:59.5</td><td>Ib</td><td>0.00754189788211</td></tr>\n",
       "<tr><td>SN2010al</td><td>0.017</td><td>34.74</td><td>08:14:15.91</td><td>+18:26:18.2</td><td>Ib</td><td>0.0201954171702</td></tr>\n",
       "<tr><td>SN2011bm</td><td>0.0022</td><td>35.53</td><td>12:56:53.89</td><td>+22:22:28.2</td><td>Ic</td><td>0.0288668876597</td></tr>\n",
       "<tr><td>SN2011dh</td><td>0.0015</td><td>29.5</td><td>13:30:05.1055</td><td>+47:10:10.922</td><td>IIb</td><td>0.00183405936245</td></tr>\n",
       "<tr><td>SN2011ei</td><td>0.0093</td><td>32.41</td><td>20:34:22.62</td><td>-31:58:23.6</td><td>IIb</td><td>0.00697703973932</td></tr>\n",
       "<tr><td>SN2011fu</td><td>0.0185</td><td>34.46</td><td>02:08:21.41</td><td>+41:29:12.3</td><td>IIb</td><td>0.0177849337761</td></tr>\n",
       "<tr><td>SN2012ap</td><td>0.0121</td><td>32.96</td><td>05:00:13.72</td><td>-03:20:51.2</td><td>Ib</td><td>0.00897424974731</td></tr>\n",
       "<tr><td>SN2013ge</td><td>0.0043</td><td>31.36</td><td>10:34:48.46</td><td>+21:39:41.9</td><td>Ib</td><td>0.00431094726025</td></tr>\n",
       "<tr><td>iPTF13bvn</td><td>0.00449</td><td>32.14</td><td>15:00:00.15</td><td>+01:52:53.17</td><td>Ib</td><td>0.00616517411033</td></tr>\n",
       "</table>"
      ],
      "text/plain": [
       "<Table length=30>\n",
       "  snname   z_obs     mu         RA           Dec      Type     z_distmod    \n",
       "   str9   float64 float64     str13         str13     str3      float64     \n",
       "--------- ------- ------- ------------- ------------- ---- -----------------\n",
       "  SN1993J -0.0001   27.82 09:55:24.7747 +69:01:13.702  IIb 0.000846738572565\n",
       "  SN1994I  0.0015    29.5  13:29:54.072  +47:11:30.50   Ic  0.00183405936245\n",
       " SN1996cb  0.0024   30.69   11:03:41.98   +28:54:13.7  IIb  0.00316927429656\n",
       " SN1998bw  0.0085   32.69   19:35:03.17   -52:50:46.1   Ic  0.00793139066351\n",
       " SN1999dn  0.0093   32.44   23:36:14.70   +02:09:08.8   Ib  0.00707356943452\n",
       " SN2002ap  0.0022   29.76   01:36:23.85   +15:45:13.2   Ic  0.00206697015014\n",
       " SN2003jd  0.0188   34.33   23:21:03.38   -04:53:45.5   Ic     0.01676453466\n",
       " SN2004aw  0.0159   34.48   11:57:50.24   +25:15:55.1   Ic   0.0179472672379\n",
       " SN2005bf  0.0189   34.73   10:23:56.99   -03:11:29.3   Ib   0.0201040285508\n",
       " SN2005hg   0.021   34.54   01:55:41.87   +46:47:47.4   Ib   0.0184430908334\n",
       "      ...     ...     ...           ...           ...  ...               ...\n",
       " SN2009iz  0.0142   33.75   02:42:15.41   +42:23:50.1   Ib   0.0128732980981\n",
       " SN2009jf   0.008   32.58   23:04:52.98   +12:19:59.5   Ib  0.00754189788211\n",
       " SN2010al   0.017   34.74   08:14:15.91   +18:26:18.2   Ib   0.0201954171702\n",
       " SN2011bm  0.0022   35.53   12:56:53.89   +22:22:28.2   Ic   0.0288668876597\n",
       " SN2011dh  0.0015    29.5 13:30:05.1055 +47:10:10.922  IIb  0.00183405936245\n",
       " SN2011ei  0.0093   32.41   20:34:22.62   -31:58:23.6  IIb  0.00697703973932\n",
       " SN2011fu  0.0185   34.46   02:08:21.41   +41:29:12.3  IIb   0.0177849337761\n",
       " SN2012ap  0.0121   32.96   05:00:13.72   -03:20:51.2   Ib  0.00897424974731\n",
       " SN2013ge  0.0043   31.36   10:34:48.46   +21:39:41.9   Ib  0.00431094726025\n",
       "iPTF13bvn 0.00449   32.14   15:00:00.15  +01:52:53.17   Ib  0.00616517411033"
      ]
     },
     "execution_count": 62,
     "metadata": {},
     "output_type": "execute_result"
    }
   ],
   "source": [
    "small_table"
   ]
  },
  {
   "cell_type": "code",
   "execution_count": 34,
   "metadata": {
    "collapsed": false
   },
   "outputs": [
    {
     "data": {
      "text/plain": [
       "dict_keys(['schema', 'name', 'sources', 'alias', 'claimedtype', 'comovingdist', 'dec', 'discoverdate', 'discoverer', 'ebv', 'host', 'hostcomovingdist', 'hostdec', 'hostlumdist', 'hostoffsetang', 'hostoffsetdist', 'hostra', 'hostredshift', 'hostvelocity', 'lumdist', 'maxabsmag', 'maxappmag', 'maxdate', 'maxvisualabsmag', 'maxvisualappmag', 'maxvisualdate', 'ra', 'redshift', 'velocity', 'photometry', 'spectra'])"
      ]
     },
     "execution_count": 34,
     "metadata": {},
     "output_type": "execute_result"
    }
   ],
   "source": [
    "sndict.keys()"
   ]
  },
  {
   "cell_type": "code",
   "execution_count": 35,
   "metadata": {
    "collapsed": false
   },
   "outputs": [
    {
     "data": {
      "text/plain": [
       "[{'e_value': '11',\n",
       "  'kind': 'host',\n",
       "  'source': '3',\n",
       "  'u_value': 'Mpc',\n",
       "  'value': '30'}]"
      ]
     },
     "execution_count": 35,
     "metadata": {},
     "output_type": "execute_result"
    }
   ],
   "source": [
    "sndict[\"lumdist\"]"
   ]
  },
  {
   "cell_type": "code",
   "execution_count": 36,
   "metadata": {
    "collapsed": true
   },
   "outputs": [],
   "source": [
    "from astropy.cosmology import LambdaCDM\n",
    "from astropy.coordinates import Distance\n",
    "\n",
    "mu = 32.16 ## from NED -- https://ned.ipac.caltech.edu/ui/?q=objsearch&omegav=0.73&obj_sort=RA%20or%20Longitude&omegam=0.27&extend=no&hconst=73&out_csys=Equatorial&of=pre_text&img_stamp=YES&list_limit=5&out_equinox=J2000.0&corr_z=1&objname=NGC%206000\n",
    "\n",
    "d = Distance(distmod=mu)\n",
    "\n",
    "z_distmod = d.z"
   ]
  },
  {
   "cell_type": "code",
   "execution_count": 63,
   "metadata": {
    "collapsed": false
   },
   "outputs": [
    {
     "data": {
      "text/plain": [
       "('SN2010as',\n",
       " '0.007315',\n",
       " 32.16,\n",
       " '15:49:49.23',\n",
       " '-29:23:09.7',\n",
       " 'Ibc',\n",
       " 0.0062219449351045312)"
      ]
     },
     "execution_count": 63,
     "metadata": {},
     "output_type": "execute_result"
    }
   ],
   "source": [
    "(snname, sndict[\"redshift\"][0][\"value\"], mu, sndict[\"ra\"][0][\"value\"], sndict[\"dec\"][0][\"value\"], sndict[\"claimedtype\"][0][\"value\"].replace(\"/\", \"\"), z_distmod)"
   ]
  },
  {
   "cell_type": "code",
   "execution_count": null,
   "metadata": {
    "collapsed": false
   },
   "outputs": [],
   "source": []
  },
  {
   "cell_type": "code",
   "execution_count": 67,
   "metadata": {
    "collapsed": false
   },
   "outputs": [],
   "source": [
    "small_table.add_row((snname, sndict[\"redshift\"][0][\"value\"], mu, sndict[\"ra\"][0][\"value\"], sndict[\"dec\"][0][\"value\"], sndict[\"claimedtype\"][0][\"value\"].replace(\"/\", \"\"), z_distmod))"
   ]
  },
  {
   "cell_type": "code",
   "execution_count": 68,
   "metadata": {
    "collapsed": false
   },
   "outputs": [
    {
     "data": {
      "text/html": [
       "&lt;Table length=31&gt;\n",
       "<table id=\"table4792509944\" class=\"table-striped table-bordered table-condensed\">\n",
       "<thead><tr><th>snname</th><th>z_obs</th><th>mu</th><th>RA</th><th>Dec</th><th>Type</th><th>z_distmod</th></tr></thead>\n",
       "<thead><tr><th>str9</th><th>float64</th><th>float64</th><th>str13</th><th>str13</th><th>str3</th><th>float64</th></tr></thead>\n",
       "<tr><td>SN1993J</td><td>-0.0001</td><td>27.82</td><td>09:55:24.7747</td><td>+69:01:13.702</td><td>IIb</td><td>0.000846738572565</td></tr>\n",
       "<tr><td>SN1994I</td><td>0.0015</td><td>29.5</td><td>13:29:54.072</td><td>+47:11:30.50</td><td>Ic</td><td>0.00183405936245</td></tr>\n",
       "<tr><td>SN1996cb</td><td>0.0024</td><td>30.69</td><td>11:03:41.98</td><td>+28:54:13.7</td><td>IIb</td><td>0.00316927429656</td></tr>\n",
       "<tr><td>SN1998bw</td><td>0.0085</td><td>32.69</td><td>19:35:03.17</td><td>-52:50:46.1</td><td>Ic</td><td>0.00793139066351</td></tr>\n",
       "<tr><td>SN1999dn</td><td>0.0093</td><td>32.44</td><td>23:36:14.70</td><td>+02:09:08.8</td><td>Ib</td><td>0.00707356943452</td></tr>\n",
       "<tr><td>SN2002ap</td><td>0.0022</td><td>29.76</td><td>01:36:23.85</td><td>+15:45:13.2</td><td>Ic</td><td>0.00206697015014</td></tr>\n",
       "<tr><td>SN2003jd</td><td>0.0188</td><td>34.33</td><td>23:21:03.38</td><td>-04:53:45.5</td><td>Ic</td><td>0.01676453466</td></tr>\n",
       "<tr><td>SN2004aw</td><td>0.0159</td><td>34.48</td><td>11:57:50.24</td><td>+25:15:55.1</td><td>Ic</td><td>0.0179472672379</td></tr>\n",
       "<tr><td>SN2005bf</td><td>0.0189</td><td>34.73</td><td>10:23:56.99</td><td>-03:11:29.3</td><td>Ib</td><td>0.0201040285508</td></tr>\n",
       "<tr><td>SN2005hg</td><td>0.021</td><td>34.54</td><td>01:55:41.87</td><td>+46:47:47.4</td><td>Ib</td><td>0.0184430908334</td></tr>\n",
       "<tr><td>...</td><td>...</td><td>...</td><td>...</td><td>...</td><td>...</td><td>...</td></tr>\n",
       "<tr><td>SN2009jf</td><td>0.008</td><td>32.58</td><td>23:04:52.98</td><td>+12:19:59.5</td><td>Ib</td><td>0.00754189788211</td></tr>\n",
       "<tr><td>SN2010al</td><td>0.017</td><td>34.74</td><td>08:14:15.91</td><td>+18:26:18.2</td><td>Ib</td><td>0.0201954171702</td></tr>\n",
       "<tr><td>SN2011bm</td><td>0.0022</td><td>35.53</td><td>12:56:53.89</td><td>+22:22:28.2</td><td>Ic</td><td>0.0288668876597</td></tr>\n",
       "<tr><td>SN2011dh</td><td>0.0015</td><td>29.5</td><td>13:30:05.1055</td><td>+47:10:10.922</td><td>IIb</td><td>0.00183405936245</td></tr>\n",
       "<tr><td>SN2011ei</td><td>0.0093</td><td>32.41</td><td>20:34:22.62</td><td>-31:58:23.6</td><td>IIb</td><td>0.00697703973932</td></tr>\n",
       "<tr><td>SN2011fu</td><td>0.0185</td><td>34.46</td><td>02:08:21.41</td><td>+41:29:12.3</td><td>IIb</td><td>0.0177849337761</td></tr>\n",
       "<tr><td>SN2012ap</td><td>0.0121</td><td>32.96</td><td>05:00:13.72</td><td>-03:20:51.2</td><td>Ib</td><td>0.00897424974731</td></tr>\n",
       "<tr><td>SN2013ge</td><td>0.0043</td><td>31.36</td><td>10:34:48.46</td><td>+21:39:41.9</td><td>Ib</td><td>0.00431094726025</td></tr>\n",
       "<tr><td>iPTF13bvn</td><td>0.00449</td><td>32.14</td><td>15:00:00.15</td><td>+01:52:53.17</td><td>Ib</td><td>0.00616517411033</td></tr>\n",
       "<tr><td>SN2010as</td><td>0.007315</td><td>32.16</td><td>15:49:49.23</td><td>-29:23:09.7</td><td>Ibc</td><td>0.0062219449351</td></tr>\n",
       "</table>"
      ],
      "text/plain": [
       "<Table length=31>\n",
       "  snname   z_obs      mu         RA           Dec      Type     z_distmod    \n",
       "   str9   float64  float64     str13         str13     str3      float64     \n",
       "--------- -------- ------- ------------- ------------- ---- -----------------\n",
       "  SN1993J  -0.0001   27.82 09:55:24.7747 +69:01:13.702  IIb 0.000846738572565\n",
       "  SN1994I   0.0015    29.5  13:29:54.072  +47:11:30.50   Ic  0.00183405936245\n",
       " SN1996cb   0.0024   30.69   11:03:41.98   +28:54:13.7  IIb  0.00316927429656\n",
       " SN1998bw   0.0085   32.69   19:35:03.17   -52:50:46.1   Ic  0.00793139066351\n",
       " SN1999dn   0.0093   32.44   23:36:14.70   +02:09:08.8   Ib  0.00707356943452\n",
       " SN2002ap   0.0022   29.76   01:36:23.85   +15:45:13.2   Ic  0.00206697015014\n",
       " SN2003jd   0.0188   34.33   23:21:03.38   -04:53:45.5   Ic     0.01676453466\n",
       " SN2004aw   0.0159   34.48   11:57:50.24   +25:15:55.1   Ic   0.0179472672379\n",
       " SN2005bf   0.0189   34.73   10:23:56.99   -03:11:29.3   Ib   0.0201040285508\n",
       " SN2005hg    0.021   34.54   01:55:41.87   +46:47:47.4   Ib   0.0184430908334\n",
       "      ...      ...     ...           ...           ...  ...               ...\n",
       " SN2009jf    0.008   32.58   23:04:52.98   +12:19:59.5   Ib  0.00754189788211\n",
       " SN2010al    0.017   34.74   08:14:15.91   +18:26:18.2   Ib   0.0201954171702\n",
       " SN2011bm   0.0022   35.53   12:56:53.89   +22:22:28.2   Ic   0.0288668876597\n",
       " SN2011dh   0.0015    29.5 13:30:05.1055 +47:10:10.922  IIb  0.00183405936245\n",
       " SN2011ei   0.0093   32.41   20:34:22.62   -31:58:23.6  IIb  0.00697703973932\n",
       " SN2011fu   0.0185   34.46   02:08:21.41   +41:29:12.3  IIb   0.0177849337761\n",
       " SN2012ap   0.0121   32.96   05:00:13.72   -03:20:51.2   Ib  0.00897424974731\n",
       " SN2013ge   0.0043   31.36   10:34:48.46   +21:39:41.9   Ib  0.00431094726025\n",
       "iPTF13bvn  0.00449   32.14   15:00:00.15  +01:52:53.17   Ib  0.00616517411033\n",
       " SN2010as 0.007315   32.16   15:49:49.23   -29:23:09.7  Ibc   0.0062219449351"
      ]
     },
     "execution_count": 68,
     "metadata": {},
     "output_type": "execute_result"
    }
   ],
   "source": [
    "small_table"
   ]
  },
  {
   "cell_type": "code",
   "execution_count": null,
   "metadata": {
    "collapsed": true
   },
   "outputs": [],
   "source": []
  }
 ],
 "metadata": {
  "anaconda-cloud": {},
  "kernelspec": {
   "display_name": "Python 3",
   "language": "python",
   "name": "python3"
  },
  "language_info": {
   "codemirror_mode": {
    "name": "ipython",
    "version": 3
   },
   "file_extension": ".py",
   "mimetype": "text/x-python",
   "name": "python",
   "nbconvert_exporter": "python",
   "pygments_lexer": "ipython3",
   "version": "3.6.0"
  }
 },
 "nbformat": 4,
 "nbformat_minor": 1
}
