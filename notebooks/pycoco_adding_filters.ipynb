{
 "cells": [
  {
   "cell_type": "markdown",
   "metadata": {
    "collapsed": true
   },
   "source": [
    "# Adding Filters in pycoco\n",
    "\n",
    "---------------------\n",
    "\n",
    "## Introduction\n",
    "\n",
    "This notebook aims to serve as a short tutorial (along with the others in this directory). In this notebook, the tools for adding/testing/plotting filters in `pycoco`, as a companion to the `c` code `CoCo`\n"
   ]
  },
  {
   "cell_type": "code",
   "execution_count": 1,
   "metadata": {
    "collapsed": true
   },
   "outputs": [],
   "source": [
    "from __future__ import print_function ## Force python3-like printing\n",
    "\n",
    "import pycoco as pcc"
   ]
  },
  {
   "cell_type": "markdown",
   "metadata": {},
   "source": [
    "## Using `FilterClass`\n",
    "\n",
    "### `FilterClass` Methods and Variables\n",
    "\n",
    "Filters in **`pycoco`** are handled using a **`FilterClass()`**, which has the methods:\n",
    "\n",
    "```\n",
    "    **FilterClass.__init__()**\n",
    "\n",
    "    **FilterClass.read_filter_file()**\n",
    "\n",
    "    **FilterClass.calculate_effective_wavelength()**\n",
    "\n",
    "    **FilterClass.plot()**\n",
    " \n",
    "    **FilterClass.resample_response()**\n",
    "\n",
    "    **FilterClass.calculate_plot_colour()**\n",
    "\n",
    "```\n",
    "\n",
    "and variables:\n",
    "\n",
    "```\n",
    "    **FilterClass._wavelength_units**\n",
    "    **FilterClass._filter_file_path**\n",
    "\n",
    "    **FilterClass.lambda_effective**\n",
    "    **FilterClass.wavelength**\n",
    "    **FilterClass.throughput**\n",
    "```\n"
   ]
  },
  {
   "cell_type": "markdown",
   "metadata": {},
   "source": [
    "### Loading a Filter\n",
    "\n",
    "We can use `pcc.load_filter()` to intialise a FilterClass instance and load in a response function given a valid path to that filter."
   ]
  },
  {
   "cell_type": "code",
   "execution_count": null,
   "metadata": {
    "collapsed": true
   },
   "outputs": [],
   "source": []
  }
 ],
 "metadata": {
  "anaconda-cloud": {},
  "kernelspec": {
   "display_name": "Python [default]",
   "language": "python",
   "name": "python2"
  },
  "language_info": {
   "codemirror_mode": {
    "name": "ipython",
    "version": 2
   },
   "file_extension": ".py",
   "mimetype": "text/x-python",
   "name": "python",
   "nbconvert_exporter": "python",
   "pygments_lexer": "ipython2",
   "version": "2.7.12"
  }
 },
 "nbformat": 4,
 "nbformat_minor": 1
}
