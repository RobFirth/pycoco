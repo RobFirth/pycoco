{
 "cells": [
  {
   "cell_type": "markdown",
   "metadata": {
    "collapsed": true
   },
   "source": [
    "# Adding Filters in pycoco\n",
    "\n",
    "---------------------\n",
    "\n",
    "## Introduction\n",
    "\n",
    "This notebook aims to serve as a short tutorial (along with the others in this directory). In this notebook, the tools for adding/testing/plotting filters in `pycoco`, as a companion to the `c` code `CoCo`\n"
   ]
  },
  {
   "cell_type": "code",
   "execution_count": 7,
   "metadata": {
    "collapsed": true
   },
   "outputs": [],
   "source": [
    "from __future__ import print_function ## Force python3-like printing\n",
    "\n",
    "%matplotlib inline\n",
    "from matplotlib import pyplot as plt\n",
    "\n",
    "import os\n",
    "\n",
    "import pycoco as pcc"
   ]
  },
  {
   "cell_type": "markdown",
   "metadata": {},
   "source": [
    "## Using `FilterClass`\n",
    "\n",
    "### `FilterClass` Methods and Variables\n",
    "\n",
    "Filters in **`pycoco`** are handled using a **`FilterClass()`**, which has the methods:\n",
    "\n",
    "```\n",
    "    **FilterClass.__init__()**\n",
    "\n",
    "    **FilterClass.read_filter_file()**\n",
    "\n",
    "    **FilterClass.calculate_effective_wavelength()**\n",
    "\n",
    "    **FilterClass.plot()**\n",
    " \n",
    "    **FilterClass.resample_response()**\n",
    "\n",
    "    **FilterClass.calculate_plot_colour()**\n",
    "\n",
    "```\n",
    "\n",
    "and variables:\n",
    "\n",
    "```\n",
    "    **FilterClass._wavelength_units**\n",
    "    **FilterClass._filter_file_path**\n",
    "\n",
    "    **FilterClass.lambda_effective**\n",
    "    **FilterClass.wavelength**\n",
    "    **FilterClass.throughput**\n",
    "```\n"
   ]
  },
  {
   "cell_type": "markdown",
   "metadata": {},
   "source": [
    "### Loading a Filter\n",
    "\n",
    "We can use `pcc.load_filter()` to intialise a FilterClass instance and load in a response function given a valid path to that filter."
   ]
  },
  {
   "cell_type": "code",
   "execution_count": 15,
   "metadata": {
    "collapsed": false
   },
   "outputs": [
    {
     "name": "stdout",
     "output_type": "stream",
     "text": [
      "Path to the filter:  /Users/berto/Code/CoCo/data/filters/B.dat\n"
     ]
    }
   ],
   "source": [
    "verbose = True\n",
    "\n",
    "if \"PYCOCO_FILTER_DIR\" not in os.environ:\n",
    "    filter_dir = \"/Users/berto/Code/CoCo/data/filters/\"\n",
    "else:\n",
    "    filter_dir = os.environ[\"PYCOCO_FILTER_DIR\"]\n",
    "    \n",
    "filter_filename = \"B.dat\"\n",
    "\n",
    "path_to_filter = os.path.join(os.path.abspath(filter_dir), filter_filename)\n",
    "\n",
    "if verbose: print(\"Path to the filter: \", path_to_filter)"
   ]
  },
  {
   "cell_type": "code",
   "execution_count": 16,
   "metadata": {
    "collapsed": false
   },
   "outputs": [
    {
     "name": "stdout",
     "output_type": "stream",
     "text": [
      "foo\n",
      "foo\n"
     ]
    }
   ],
   "source": [
    "B = pcc.load_filter(path = path_to_filter)"
   ]
  },
  {
   "cell_type": "code",
   "execution_count": 22,
   "metadata": {
    "collapsed": false
   },
   "outputs": [
    {
     "data": {
      "text/plain": [
       "{'_filter_file_path': '/Users/berto/Code/CoCo/data/filters/B.dat',\n",
       " '_wavelength_units': Unit(\"Angstrom\"),\n",
       " 'lambda_effective': <Quantity 4354.410549343705 Angstrom>,\n",
       " 'throughput': array([ 0.   ,  0.03 ,  0.134,  0.567,  0.92 ,  0.978,  1.   ,  0.978,\n",
       "         0.935,  0.853,  0.74 ,  0.64 ,  0.536,  0.424,  0.325,  0.235,\n",
       "         0.15 ,  0.095,  0.043,  0.009,  0.   ]),\n",
       " 'wavelength': array([ 3600.,  3700.,  3800.,  3900.,  4000.,  4100.,  4200.,  4300.,\n",
       "         4400.,  4500.,  4600.,  4700.,  4800.,  4900.,  5000.,  5100.,\n",
       "         5200.,  5300.,  5400.,  5500.,  5600.])}"
      ]
     },
     "execution_count": 22,
     "metadata": {},
     "output_type": "execute_result"
    }
   ],
   "source": [
    "B.__dict__"
   ]
  },
  {
   "cell_type": "code",
   "execution_count": null,
   "metadata": {
    "collapsed": true
   },
   "outputs": [],
   "source": []
  }
 ],
 "metadata": {
  "anaconda-cloud": {},
  "kernelspec": {
   "display_name": "Python [default]",
   "language": "python",
   "name": "python2"
  },
  "language_info": {
   "codemirror_mode": {
    "name": "ipython",
    "version": 2
   },
   "file_extension": ".py",
   "mimetype": "text/x-python",
   "name": "python",
   "nbconvert_exporter": "python",
   "pygments_lexer": "ipython2",
   "version": "2.7.12"
  }
 },
 "nbformat": 4,
 "nbformat_minor": 1
}
