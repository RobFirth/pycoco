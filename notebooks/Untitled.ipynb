{
 "cells": [
  {
   "cell_type": "code",
   "execution_count": 9,
   "metadata": {
    "collapsed": true
   },
   "outputs": [],
   "source": [
    "from __future__ import print_function ## Force python3-like printing\n",
    "\n",
    "%matplotlib inline\n",
    "from matplotlib import pyplot as plt\n",
    "\n",
    "import os\n",
    "import warnings\n",
    "\n",
    "import numpy as np\n",
    "from astropy.table import Table\n",
    "\n",
    "import pycoco as pcc\n",
    "\n",
    "reload(pcc) ## FOR DEV\n",
    "\n",
    "warnings.resetwarnings()"
   ]
  },
  {
   "cell_type": "code",
   "execution_count": 10,
   "metadata": {
    "collapsed": false
   },
   "outputs": [
    {
     "name": "stdout",
     "output_type": "stream",
     "text": [
      "SN2009jf\n",
      "/Users/berto/Code/verbose-enigma/testdata/lc/SN2009jf.dat\n"
     ]
    }
   ],
   "source": [
    "sn = pcc.SNClass(\"SN2009jf\")\n",
    "print(sn.name)\n",
    "sn.load_phot(verbose = True)\n",
    "\n",
    "# sn.load_list(\"/Users/berto/Code/CoCo/lists/SN2009jf.list\")\n",
    "# sn.load_spec()\n",
    "# sn.get_lcfit('/Users/berto/Code/CoCo/recon/SN2009jf.dat')\n",
    "\n",
    "# sn.plot_spec()"
   ]
  },
  {
   "cell_type": "code",
   "execution_count": 34,
   "metadata": {
    "collapsed": false
   },
   "outputs": [
    {
     "data": {
      "text/plain": [
       "{'coco_directory': '/Users/berto/Code/CoCo',\n",
       " 'name': 'SN2009jf',\n",
       " 'phot': <pycoco.PhotometryClass instance at 0x10fbf67a0>,\n",
       " 'recon_directory': '/Users/berto/Code/CoCo/recon/',\n",
       " 'spec': OrderedDict()}"
      ]
     },
     "execution_count": 34,
     "metadata": {},
     "output_type": "execute_result"
    }
   ],
   "source": [
    "sn.__dict__\n",
    "# sn.plot_filters()"
   ]
  },
  {
   "cell_type": "code",
   "execution_count": 35,
   "metadata": {
    "collapsed": true
   },
   "outputs": [],
   "source": [
    "phottable = sn.phot._phot_format_for_save()"
   ]
  },
  {
   "cell_type": "code",
   "execution_count": 24,
   "metadata": {
    "collapsed": false
   },
   "outputs": [
    {
     "name": "stdout",
     "output_type": "stream",
     "text": [
      "[   2.    5.    8.   16.   19.   21.   24.   31.   34.   36.   40.   49.\n",
      "   50.   51.   60.   66.   72.   79.   84.   89.   94.  106.  107.  111.\n",
      "  116.  119.  125.  136.  138.  139.  146.  151.  155.  158.  160.  162.\n",
      "  167.  171.  179.  183.  187.  194.  197.  204.  205.  215.  222.  225.\n",
      "  229.  231.  234.  237.  242.  249.  251.  259.  262.  271.  272.  273.\n",
      "  277.  283.  290.  291.  303.  308.  318.  322.  326.  330.  331.  339.\n",
      "  345.  349.  350.  357.  359.  365.  368.  377.  383.  385.  393.  402.\n",
      "  405.  414.  418.  422.  426.  430.  434.  442.  447.  448.  452.   58.\n",
      "   62.   80.   86.   95.   99.  121.  129.  173.  191.  196.  206.  212.\n",
      "  217.  245.  258.  265.  298.  304.  372.  389.  408.]\n"
     ]
    }
   ],
   "source": [
    "Filters = [\"BessellB\", \"SDSS_g\"]\n",
    "w = np.array([])\n",
    "for i, f in enumerate(Filters):\n",
    "    w = np.append(w, np.where(phottable[\"filter\"] == f))\n",
    "print(w)"
   ]
  },
  {
   "cell_type": "code",
   "execution_count": 40,
   "metadata": {
    "collapsed": false
   },
   "outputs": [
    {
     "data": {
      "text/html": [
       "&lt;Table length=459&gt;\n",
       "<table id=\"table4554522192\" class=\"table-striped table-bordered table-condensed\">\n",
       "<thead><tr><th>MJD</th><th>flux</th><th>flux_err</th><th>filter</th></tr></thead>\n",
       "<thead><tr><th>d</th><th>erg / (Angstrom cm2 s)</th><th>erg / (Angstrom cm2 s)</th><th></th></tr></thead>\n",
       "<thead><tr><th>float64</th><th>float64</th><th>float64</th><th>str8</th></tr></thead>\n",
       "<tr><td>55100.50000</td><td>1.32190e-16</td><td>6.81811e-17</td><td>BessellV</td></tr>\n",
       "<tr><td>55100.50000</td><td>1.16842e-16</td><td>3.44370e-17</td><td>BessellR</td></tr>\n",
       "<tr><td>55100.50000</td><td>1.99710e-16</td><td>9.19699e-17</td><td>BessellB</td></tr>\n",
       "<tr><td>55101.61000</td><td>2.41880e-16</td><td>5.12393e-17</td><td>BessellR</td></tr>\n",
       "<tr><td>55101.61000</td><td>3.25987e-16</td><td>1.17095e-16</td><td>BessellV</td></tr>\n",
       "<tr><td>55101.61000</td><td>4.25011e-16</td><td>2.34870e-16</td><td>BessellB</td></tr>\n",
       "<tr><td>55103.58000</td><td>5.46009e-16</td><td>1.00579e-16</td><td>BessellV</td></tr>\n",
       "<tr><td>55104.58000</td><td>7.60677e-16</td><td>7.00609e-17</td><td>BessellV</td></tr>\n",
       "<tr><td>55104.68000</td><td>1.05779e-15</td><td>4.87131e-17</td><td>BessellB</td></tr>\n",
       "<tr><td>...</td><td>...</td><td>...</td><td>...</td></tr>\n",
       "<tr><td>55368.90000</td><td>2.60136e-17</td><td>1.22193e-18</td><td>BessellI</td></tr>\n",
       "<tr><td>55368.90000</td><td>4.12667e-17</td><td>3.07865e-18</td><td>BessellV</td></tr>\n",
       "<tr><td>55368.90000</td><td>4.87978e-17</td><td>1.88767e-18</td><td>BessellR</td></tr>\n",
       "<tr><td>55392.57000</td><td>2.35722e-17</td><td>1.23751e-17</td><td>BessellB</td></tr>\n",
       "<tr><td>55392.57000</td><td>3.24788e-17</td><td>4.78625e-18</td><td>BessellR</td></tr>\n",
       "<tr><td>55392.57000</td><td>2.56566e-17</td><td>9.92487e-18</td><td>BessellV</td></tr>\n",
       "<tr><td>55392.57000</td><td>1.36899e-17</td><td>1.89133e-18</td><td>BessellI</td></tr>\n",
       "<tr><td>55473.78000</td><td>7.57879e-18</td><td>1.11685e-18</td><td>BessellR</td></tr>\n",
       "<tr><td>55473.78000</td><td>7.60677e-18</td><td>1.40122e-18</td><td>BessellV</td></tr>\n",
       "<tr><td>55480.54000</td><td>8.23379e-18</td><td>3.26095e-18</td><td>BessellR</td></tr>\n",
       "</table>"
      ],
      "text/plain": [
       "<Table length=459>\n",
       "    MJD              flux                 flux_err         filter \n",
       "     d      erg / (Angstrom cm2 s) erg / (Angstrom cm2 s)         \n",
       "  float64          float64                float64           str8  \n",
       "----------- ---------------------- ---------------------- --------\n",
       "55100.50000            1.32190e-16            6.81811e-17 BessellV\n",
       "55100.50000            1.16842e-16            3.44370e-17 BessellR\n",
       "55100.50000            1.99710e-16            9.19699e-17 BessellB\n",
       "55101.61000            2.41880e-16            5.12393e-17 BessellR\n",
       "55101.61000            3.25987e-16            1.17095e-16 BessellV\n",
       "55101.61000            4.25011e-16            2.34870e-16 BessellB\n",
       "55103.58000            5.46009e-16            1.00579e-16 BessellV\n",
       "55104.58000            7.60677e-16            7.00609e-17 BessellV\n",
       "55104.68000            1.05779e-15            4.87131e-17 BessellB\n",
       "        ...                    ...                    ...      ...\n",
       "55368.90000            2.60136e-17            1.22193e-18 BessellI\n",
       "55368.90000            4.12667e-17            3.07865e-18 BessellV\n",
       "55368.90000            4.87978e-17            1.88767e-18 BessellR\n",
       "55392.57000            2.35722e-17            1.23751e-17 BessellB\n",
       "55392.57000            3.24788e-17            4.78625e-18 BessellR\n",
       "55392.57000            2.56566e-17            9.92487e-18 BessellV\n",
       "55392.57000            1.36899e-17            1.89133e-18 BessellI\n",
       "55473.78000            7.57879e-18            1.11685e-18 BessellR\n",
       "55473.78000            7.60677e-18            1.40122e-18 BessellV\n",
       "55480.54000            8.23379e-18            3.26095e-18 BessellR"
      ]
     },
     "execution_count": 40,
     "metadata": {},
     "output_type": "execute_result"
    }
   ],
   "source": [
    "phottable[\"MJD\", \"flux\", \"flux_err\", \"filter\"]"
   ]
  },
  {
   "cell_type": "code",
   "execution_count": 28,
   "metadata": {
    "collapsed": true
   },
   "outputs": [
    {
     "data": {
      "text/plain": [
       "['BessellB',\n",
       " 'SDSS_g',\n",
       " 'BessellV',\n",
       " 'SDSS_r',\n",
       " 'BessellR',\n",
       " 'SDSS_i',\n",
       " 'BessellI',\n",
       " 'SDSS_z']"
      ]
     },
     "execution_count": 28,
     "metadata": {},
     "output_type": "execute_result"
    }
   ],
   "source": [
    "# sn.phot.data.keys()\n",
    "\n",
    "# sn.plot_lc(filter_uncertainty = 0)\n",
    "\n",
    "# sn.plot_lc(xextent = 100)\n",
    "\n",
    "# mnest_out = '/Users/berto/Code/CoCo/chains/SN2011dh_Bessell/BessellB-post_equal_weights.dat'\n",
    "# data = np.loadtxt(mnest_out)\n",
    "\n",
    "# data.T[0]\n",
    "\n",
    "# plt.hist(data.T[1], bins = 20)\n",
    "\n",
    "# recon_spec_path = '/Users/berto/Code/CoCo/recon/SN2011dh_SDSS_55737.000000.spec'\n",
    "# mS = pcc.specfitClass()\n",
    "# mS.load(filename = recon_spec_path)\n",
    "# mS.plot()\n",
    "\n",
    "# obs_spec_path = '/Users/berto/Code/CoCo/data/spec/SN2011dh/SN2011dh-2011-06-25-NOT-ALFOSC-Grism_4-Grism_5.dat'\n",
    "# S = pcc.SpectrumClass()\n",
    "# S.load(filename = obs_spec_path)\n",
    "# S.plot()\n",
    "\n",
    "# import rfutils as rfu\n",
    "# F_g = pcc.load_filter(path = \"/Users/berto/Code/CoCo/data/filters/SDSS_g.dat\")\n",
    "# F_r = pcc.load_filter(path = \"/Users/berto/Code/CoCo/data/filters/SDSS_r.dat\")\n",
    "\n",
    "# rfu.resample_response(F_g.throughput, F_g.wavelength)\n",
    "\n",
    "# F_g.plot()\n",
    "\n",
    "# from scipy.integrate import simps\n",
    "\n",
    "# F_g.resample_response(mS.wavelength)\n",
    "# F_r.resample_response(mS.wavelength)\n",
    "# # plt.plot(mS.wavelength, mS.flux*F_g.throughput)\n",
    "# plt.plot(mS.wavelength, mS.flux*F_g.throughput, color = \"Green\", ls = \"-\")\n",
    "# plt.plot(S.wavelength, S.flux*F_g.throughput, color = \"Green\", ls = \":\")\n",
    "\n",
    "# plt.plot(mS.wavelength, mS.flux*F_r.throughput, color = \"Red\", ls = \"-\")\n",
    "# plt.plot(S.wavelength, S.flux*F_r.throughput, color = \"Red\", ls = \":\")\n",
    "\n",
    "# newgflux = simps(mS.flux*F_g.throughput, F_g.wavelength)\n",
    "# oldgflux = simps(S.flux*F_g.throughput, F_g.wavelength)\n",
    "# newrflux = simps(mS.flux*F_r.throughput, F_r.wavelength)\n",
    "# oldrflux = simps(S.flux*F_r.throughput, F_r.wavelength)\n",
    "\n",
    "# print(np.sum(newrflux), np.sum(oldrflux))\n",
    "# print(np.sum(newgflux), np.sum(oldgflux))\n",
    "\n",
    "# print(np.sum(oldgflux) - np.sum(oldrflux))\n",
    "# print(np.sum(newgflux) - np.sum(newrflux))\n",
    "\n",
    "# plt.plot(mS.wavelength, mS.flux, color = \"Red\", ls = \"-\")\n",
    "# plt.plot(S.wavelength, S.flux, color = \"green\", ls = \":\")\n",
    "\n",
    "# sn = pcc.SNClass('SN2011dh_SDSS')\n",
    "# sn.name\n",
    "# # sn.load_list(\"/Users/berto/Code/CoCo/lists/SN2011dh.list\")\n",
    "# sn.load_list(\"/Users/berto/Code/CoCo/SN2011dh.list\")\n",
    "\n",
    "# print(sn.list)\n",
    "# sn.load_spec(verbose = False)\n",
    "\n",
    "# sn.get_specfit()\n",
    "\n",
    "# sn.specfit['SN2011dh_SDSS_55724.000000.spec'].plot()\n",
    "# sn.specfit['SN2011dh_SDSS_55724.000000.spec'].data\n",
    "\n",
    "# sn.spec[sn.specfit['SN2011dh_SDSS_55724.000000.spec'].orig_specpath].plot()\n",
    "# sn.spec.keys()\n",
    "\n",
    "\n",
    "\n",
    "# s = sn.specfit['SN2011dh_SDSS_55724.000000.spec']\n",
    "\n",
    "# sn.specfit['SN2011dh_SDSS_55724.000000.spec'].plot_comparision(sn.spec[sn.specfit['SN2011dh_SDSS_55724.000000.spec'].orig_specpath])\n",
    "\n",
    "# sn.spec[sn.specfit['SN2011dh_SDSS_55724.000000.spec'].orig_specpath].plot()\n",
    "\n",
    "# import os\n",
    "\n",
    "# os.listdir\n",
    "\n",
    "# sn = pcc.SNClass(\"SN1993J\")\n",
    "# print(sn.name)\n",
    "# sn.load_phot(verbose = True)\n",
    "\n",
    "# sn.load_list(\"/Users/berto/Code/CoCo/lists/SN1993J.list\")\n",
    "# sn.load_spec()\n",
    "\n",
    "# sn.plot_lc()\n",
    "\n",
    "# sn.plot_spec()\n",
    "\n"
   ]
  }
 ],
 "metadata": {
  "anaconda-cloud": {},
  "celltoolbar": "Raw Cell Format",
  "kernelspec": {
   "display_name": "Python [default]",
   "language": "python",
   "name": "python2"
  },
  "language_info": {
   "codemirror_mode": {
    "name": "ipython",
    "version": 2
   },
   "file_extension": ".py",
   "mimetype": "text/x-python",
   "name": "python",
   "nbconvert_exporter": "python",
   "pygments_lexer": "ipython2",
   "version": "2.7.12"
  }
 },
 "nbformat": 4,
 "nbformat_minor": 1
}
