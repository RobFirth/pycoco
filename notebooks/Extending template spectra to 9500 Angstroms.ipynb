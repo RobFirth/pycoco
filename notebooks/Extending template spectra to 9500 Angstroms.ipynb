{
 "cells": [
  {
   "cell_type": "code",
   "execution_count": null,
   "metadata": {},
   "outputs": [],
   "source": [
    "%matplotlib notebook\n",
    "from imp import reload  # Python 3.0 - 3.3\n",
    "       \n",
    "from matplotlib import pyplot as plt\n",
    "from matplotlib import rc\n",
    "# rc('text', usetex=True)\n",
    "\n",
    "import os\n",
    "import numpy as np\n",
    "from astropy.table import Table\n",
    "\n",
    "import pycoco as pcc"
   ]
  },
  {
   "cell_type": "code",
   "execution_count": null,
   "metadata": {},
   "outputs": [],
   "source": [
    "snname = \"SN2007uy\"\n",
    "\n",
    "sn = pcc.classes.SNClass(snname)\n",
    "sn.load_phot( path = os.path.join(pcc.defaults._default_data_dir_path, \"lc/\"+ snname + \".dat\"))\n",
    "sn.load_list(os.path.join(pcc.defaults._default_list_dir_path, snname + \".list\"))\n",
    "\n",
    "sn.load_spec()\n",
    "sn.get_lcfit(os.path.join(pcc.defaults._default_recon_dir_path, snname + \".dat\"))\n",
    "sn.check_overlaps()\n",
    "\n",
    "sn.plot_lc(xextent=60, showsnname=True)"
   ]
  },
  {
   "cell_type": "code",
   "execution_count": null,
   "metadata": {},
   "outputs": [],
   "source": [
    "sn.plot_spec()"
   ]
  },
  {
   "cell_type": "code",
   "execution_count": null,
   "metadata": {},
   "outputs": [],
   "source": [
    "[sn.spec[i].mjd_obs for i in sn.spec]"
   ]
  },
  {
   "cell_type": "code",
   "execution_count": null,
   "metadata": {},
   "outputs": [],
   "source": [
    "sn.spec[\"2007uy_-5.06.txt\"].max_wavelength"
   ]
  },
  {
   "cell_type": "code",
   "execution_count": null,
   "metadata": {
    "collapsed": true
   },
   "outputs": [],
   "source": [
    "spec = sn.spec[\"2007uy_-5.06.txt\"]"
   ]
  },
  {
   "cell_type": "code",
   "execution_count": null,
   "metadata": {},
   "outputs": [],
   "source": [
    "spec.__dict__"
   ]
  },
  {
   "cell_type": "code",
   "execution_count": null,
   "metadata": {
    "collapsed": true
   },
   "outputs": [],
   "source": []
  }
 ],
 "metadata": {
  "kernelspec": {
   "display_name": "Python 3",
   "language": "python",
   "name": "python3"
  },
  "language_info": {
   "codemirror_mode": {
    "name": "ipython",
    "version": 3
   },
   "file_extension": ".py",
   "mimetype": "text/x-python",
   "name": "python",
   "nbconvert_exporter": "python",
   "pygments_lexer": "ipython3",
   "version": "3.6.2"
  }
 },
 "nbformat": 4,
 "nbformat_minor": 2
}
