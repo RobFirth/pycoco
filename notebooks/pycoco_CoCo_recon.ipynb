{
 "cells": [
  {
   "cell_type": "markdown",
   "metadata": {},
   "source": [
    "# **`pycoco`** and **`CoCo`** 'recon' files\n",
    "\n",
    "___\n",
    "\n",
    "## Introduction\n",
    "\n",
    "**`CoCo`** generates as an output, a series of files in `$COCO_ROOT_DIR/recon/`. In this notebook, we will interact with the reconstructed light curve file, the `$SNNAME.dat` and the `$SNNAME.stat` file."
   ]
  },
  {
   "cell_type": "code",
   "execution_count": 84,
   "metadata": {
    "collapsed": false
   },
   "outputs": [
    {
     "data": {
      "text/plain": [
       "<module 'pycoco' from '/Users/berto/Code/verbose-enigma/pycoco/__init__.py'>"
      ]
     },
     "execution_count": 84,
     "metadata": {},
     "output_type": "execute_result"
    }
   ],
   "source": [
    "from __future__ import print_function ## Force python3-like printing\n",
    "\n",
    "%matplotlib inline\n",
    "from matplotlib import pyplot as plt\n",
    "\n",
    "import os\n",
    "import numpy as np\n",
    "from astropy.table import Table\n",
    "\n",
    "import pycoco as pcc\n",
    "\n",
    "reload(pcc) ## FOR DEV"
   ]
  },
  {
   "cell_type": "code",
   "execution_count": null,
   "metadata": {
    "collapsed": false
   },
   "outputs": [],
   "source": []
  },
  {
   "cell_type": "code",
   "execution_count": 85,
   "metadata": {
    "collapsed": false
   },
   "outputs": [],
   "source": [
    "L = pcc.LCfitClass()"
   ]
  },
  {
   "cell_type": "code",
   "execution_count": 86,
   "metadata": {
    "collapsed": false
   },
   "outputs": [
    {
     "data": {
      "text/plain": [
       "'/Users/berto/Code/CoCo/recon'"
      ]
     },
     "execution_count": 86,
     "metadata": {},
     "output_type": "execute_result"
    }
   ],
   "source": [
    "L.recon_directory"
   ]
  },
  {
   "cell_type": "code",
   "execution_count": 87,
   "metadata": {
    "collapsed": false
   },
   "outputs": [
    {
     "name": "stdout",
     "output_type": "stream",
     "text": [
      "/Users/berto/Code/CoCo/recon/SN2011dh_Bessell.dat\n",
      "[ 1  2  3  4  5  6  7  8  9 10 11 12 13 14 15 16 17 18 19]\n",
      "[ 1  2  3  4  5  6  7  8  9 10 11 12 13 14 15 16 17 18 19 20 21]\n",
      "[ 1  2  3  4  5  6  7  8  9 10 11 12 13 14 15 16 17 18 19 20 21 22]\n",
      "[ 1  2  3  4  5  6  7  8  9 10 11 12 13 14 15 16 17 18 19 20 21 22]\n"
     ]
    }
   ],
   "source": [
    "# recon_filename = os.path.abspath(os.path.join(L.recon_directory, 'SN2005bf.dat'))\n",
    "# recon_filename = os.path.abspath(os.path.join(L.recon_directory, 'SN2011dh.dat'))\n",
    "recon_filename = os.path.abspath(os.path.join(L.recon_directory, 'SN2011dh_Bessell.dat'))\n",
    "\n",
    "\n",
    "print(recon_filename)\n",
    "L.load_formatted_phot(recon_filename)\n",
    "L.unpack()"
   ]
  },
  {
   "cell_type": "code",
   "execution_count": 88,
   "metadata": {
    "collapsed": false
   },
   "outputs": [
    {
     "data": {
      "text/plain": [
       "OrderedDict([('BessellB', <Table length=132>\n",
       "                MJD            flux          ...       flux_upper             flux_lower      \n",
       "                 d    erg / (Angstrom cm2 s) ... erg / (Angstrom cm2 s) erg / (Angstrom cm2 s)\n",
       "              float64        float64         ...        float64                float64        \n",
       "              ------- ---------------------- ... ---------------------- ----------------------\n",
       "              55701.0            4.68428e-18 ...            5.68893e-18            3.67963e-18\n",
       "              55702.0            7.70185e-18 ...            9.23922e-18            6.16448e-18\n",
       "              55703.0            1.26445e-17 ...           1.498023e-17           1.030877e-17\n",
       "              55704.0            2.07196e-17 ...            2.42376e-17            1.72016e-17\n",
       "              55705.0            3.38671e-17 ...           3.910987e-17           2.862433e-17\n",
       "              55706.0            5.51776e-17 ...            6.28891e-17            4.74661e-17\n",
       "              55707.0            8.95145e-17 ...           1.006736e-16            7.83554e-17\n",
       "              55708.0            1.44409e-16 ...           1.602298e-16           1.285882e-16\n",
       "              55709.0            2.31274e-16 ...           2.531314e-16           2.094166e-16\n",
       "                  ...                    ... ...                    ...                    ...\n",
       "              55823.0            1.77545e-15 ...          1.7892043e-15          1.7616957e-15\n",
       "              55824.0             1.7249e-15 ...          1.7386331e-15          1.7111669e-15\n",
       "              55825.0            1.67525e-15 ...          1.6889491e-15          1.6615509e-15\n",
       "              55826.0            1.62651e-15 ...          1.6401628e-15          1.6128572e-15\n",
       "              55827.0            1.57869e-15 ...          1.5922845e-15          1.5650955e-15\n",
       "              55828.0            1.53182e-15 ...           1.545345e-15           1.518295e-15\n",
       "              55829.0             1.4859e-15 ...          1.4993446e-15          1.4724554e-15\n",
       "              55830.0            1.44093e-15 ...          1.4542839e-15          1.4275761e-15\n",
       "              55831.0            1.39693e-15 ...          1.4101835e-15          1.3836765e-15\n",
       "              55832.0             1.3539e-15 ...          1.3670439e-15          1.3407561e-15),\n",
       "             ('BessellI', <Table length=131>\n",
       "                MJD            flux          ...       flux_upper             flux_lower      \n",
       "                 d    erg / (Angstrom cm2 s) ... erg / (Angstrom cm2 s) erg / (Angstrom cm2 s)\n",
       "              float64        float64         ...        float64                float64        \n",
       "              ------- ---------------------- ... ---------------------- ----------------------\n",
       "              55701.4            2.79729e-17 ...           2.909735e-17           2.684845e-17\n",
       "              55702.4            3.76427e-17 ...           3.905794e-17           3.622746e-17\n",
       "              55703.4             5.0606e-17 ...            5.23774e-17            4.88346e-17\n",
       "              55704.4            6.79577e-17 ...           7.016097e-17           6.575443e-17\n",
       "              55705.4             9.1141e-17 ...           9.386181e-17           8.842019e-17\n",
       "              55706.4            1.22049e-16 ...          1.2538127e-16          1.1871673e-16\n",
       "              55707.4            1.63152e-16 ...          1.6719428e-16          1.5910972e-16\n",
       "              55708.4            2.17646e-16 ...          2.2249524e-16          2.1279676e-16\n",
       "              55709.4            2.89632e-16 ...          2.9537376e-16          2.8389024e-16\n",
       "                  ...                    ... ...                    ...                    ...\n",
       "              55822.4            2.35591e-15 ...          2.3751453e-15          2.3366747e-15\n",
       "              55823.4            2.30253e-15 ...          2.3221358e-15          2.2829242e-15\n",
       "              55824.4             2.2499e-15 ...          2.2698582e-15          2.2299418e-15\n",
       "              55825.4            2.19804e-15 ...          2.2183319e-15          2.1777481e-15\n",
       "              55826.4            2.14695e-15 ...          2.1675565e-15          2.1263435e-15\n",
       "              55827.4            2.09665e-15 ...          2.1175518e-15          2.0757482e-15\n",
       "              55828.4            2.04713e-15 ...          2.0683075e-15          2.0259525e-15\n",
       "              55829.4             1.9984e-15 ...          2.0198334e-15          1.9769666e-15\n",
       "              55830.4            1.95046e-15 ...          1.9721297e-15          1.9287903e-15\n",
       "              55831.4            1.90333e-15 ...          1.9252161e-15          1.8814439e-15),\n",
       "             ('BessellR', <Table length=131>\n",
       "                MJD            flux          ...       flux_upper             flux_lower      \n",
       "                 d    erg / (Angstrom cm2 s) ... erg / (Angstrom cm2 s) erg / (Angstrom cm2 s)\n",
       "              float64        float64         ...        float64                float64        \n",
       "              ------- ---------------------- ... ---------------------- ----------------------\n",
       "              55701.4            3.21753e-18 ...           3.902449e-18           2.532611e-18\n",
       "              55702.4            5.31266e-18 ...            6.36155e-18            4.26377e-18\n",
       "              55703.4            8.76568e-18 ...           1.036107e-17            7.17029e-18\n",
       "              55704.4            1.44487e-17 ...           1.685556e-17           1.204184e-17\n",
       "              55705.4            2.37835e-17 ...           2.737846e-17           2.018854e-17\n",
       "              55706.4            3.90748e-17 ...           4.437829e-17           3.377131e-17\n",
       "              55707.4             6.4027e-17 ...            7.17302e-17            5.63238e-17\n",
       "              55708.4            1.04523e-16 ...           1.154919e-16            9.35541e-17\n",
       "              55709.4            1.69749e-16 ...           1.849728e-16           1.545252e-16\n",
       "                  ...                    ... ...                    ...                    ...\n",
       "              55822.4            2.58377e-15 ...          2.6057321e-15          2.5618079e-15\n",
       "              55823.4            2.51117e-15 ...           2.533357e-15           2.488983e-15\n",
       "              55824.4            2.44003e-15 ...          2.4624162e-15          2.4176438e-15\n",
       "              55825.4            2.37037e-15 ...          2.3929299e-15          2.3478101e-15\n",
       "              55826.4            2.30217e-15 ...          2.3248784e-15          2.2794616e-15\n",
       "              55827.4            2.23544e-15 ...          2.2582721e-15          2.2126079e-15\n",
       "              55828.4            2.17017e-15 ...          2.1931013e-15          2.1472387e-15\n",
       "              55829.4            2.10635e-15 ...          2.1293566e-15          2.0833434e-15\n",
       "              55830.4            2.04397e-15 ...          2.0670287e-15          2.0209113e-15\n",
       "              55831.4            1.98303e-15 ...           2.006118e-15           1.959942e-15),\n",
       "             ('BessellV', <Table length=132>\n",
       "                MJD            flux          ...       flux_upper             flux_lower      \n",
       "                 d    erg / (Angstrom cm2 s) ... erg / (Angstrom cm2 s) erg / (Angstrom cm2 s)\n",
       "              float64        float64         ...        float64                float64        \n",
       "              ------- ---------------------- ... ---------------------- ----------------------\n",
       "              55701.0            1.26286e-18 ...            1.48396e-18            1.04176e-18\n",
       "              55702.0            2.20768e-18 ...           2.567989e-18           1.847371e-18\n",
       "              55703.0            3.85691e-18 ...           4.440605e-18           3.273215e-18\n",
       "              55704.0            6.73277e-18 ...           7.671744e-18           5.793796e-18\n",
       "              55705.0            1.17407e-17 ...           1.323855e-17           1.024285e-17\n",
       "              55706.0             2.0445e-17 ...           2.280992e-17           1.808008e-17\n",
       "              55707.0            3.55342e-17 ...           3.922067e-17           3.184773e-17\n",
       "              55708.0            6.15934e-17 ...           6.724736e-17           5.593944e-17\n",
       "              55709.0            1.06354e-16 ...          1.1484523e-16           9.786277e-17\n",
       "                  ...                    ... ...                    ...                    ...\n",
       "              55823.0            2.44768e-15 ...          2.4678551e-15          2.4275049e-15\n",
       "              55824.0            2.37464e-15 ...          2.3948654e-15          2.3544146e-15\n",
       "              55825.0            2.30313e-15 ...          2.3233836e-15          2.2828764e-15\n",
       "              55826.0            2.23314e-15 ...          2.2534003e-15          2.2128797e-15\n",
       "              55827.0            2.16469e-15 ...           2.184936e-15           2.144444e-15\n",
       "              55828.0            2.09777e-15 ...          2.1179817e-15          2.0775583e-15\n",
       "              55829.0            2.03238e-15 ...          2.0525379e-15          2.0122221e-15\n",
       "              55830.0            1.96852e-15 ...          1.9886056e-15          1.9484344e-15\n",
       "              55831.0            1.90619e-15 ...          1.9261854e-15          1.8861946e-15\n",
       "              55832.0            1.84537e-15 ...          1.8652582e-15          1.8254818e-15)])"
      ]
     },
     "execution_count": 88,
     "metadata": {},
     "output_type": "execute_result"
    }
   ],
   "source": [
    "L.data"
   ]
  },
  {
   "cell_type": "code",
   "execution_count": 89,
   "metadata": {
    "collapsed": false
   },
   "outputs": [
    {
     "data": {
      "text/plain": [
       "OrderedDict([('BessellB', <pycoco.FilterClass instance at 0x11297b440>),\n",
       "             ('BessellI', <pycoco.FilterClass instance at 0x1108d6bd8>),\n",
       "             ('BessellR', <pycoco.FilterClass instance at 0x1094c8e60>),\n",
       "             ('BessellV', <pycoco.FilterClass instance at 0x1066fa518>)])"
      ]
     },
     "execution_count": 89,
     "metadata": {},
     "output_type": "execute_result"
    }
   ],
   "source": [
    "L.data_filters"
   ]
  },
  {
   "cell_type": "code",
   "execution_count": 90,
   "metadata": {
    "collapsed": false
   },
   "outputs": [
    {
     "name": "stdout",
     "output_type": "stream",
     "text": [
      "(0, 'BessellB')\n",
      "(1, 'BessellI')\n",
      "(2, 'BessellR')\n",
      "(3, 'BessellV')\n"
     ]
    }
   ],
   "source": [
    "L.get_fit_splines()"
   ]
  },
  {
   "cell_type": "code",
   "execution_count": 91,
   "metadata": {
    "collapsed": false
   },
   "outputs": [
    {
     "ename": "AttributeError",
     "evalue": "FilterClass instance has no attribute '_plot_colour'",
     "output_type": "error",
     "traceback": [
      "\u001b[0;31m---------------------------------------------------------------------------\u001b[0m",
      "\u001b[0;31mAttributeError\u001b[0m                            Traceback (most recent call last)",
      "\u001b[0;32m<ipython-input-91-93963e342c8e>\u001b[0m in \u001b[0;36m<module>\u001b[0;34m()\u001b[0m\n\u001b[0;32m----> 1\u001b[0;31m \u001b[0mL\u001b[0m\u001b[0;34m.\u001b[0m\u001b[0mplot\u001b[0m\u001b[0;34m(\u001b[0m\u001b[0;34m)\u001b[0m\u001b[0;34m\u001b[0m\u001b[0m\n\u001b[0m",
      "\u001b[0;32m/Users/berto/Code/verbose-enigma/pycoco/__init__.py\u001b[0m in \u001b[0;36mplot\u001b[0;34m(self, legend, xminorticks, verbose, *args, **kwargs)\u001b[0m\n\u001b[1;32m   2101\u001b[0m                 \u001b[0;31m## With error\u001b[0m\u001b[0;34m\u001b[0m\u001b[0;34m\u001b[0m\u001b[0m\n\u001b[1;32m   2102\u001b[0m                 ax1.fill_between(self.data[filter_key]['MJD'], self.data[filter_key]['flux_upper'], self.data[filter_key]['flux_lower'],\n\u001b[0;32m-> 2103\u001b[0;31m                                  \u001b[0mlabel\u001b[0m \u001b[0;34m=\u001b[0m \u001b[0mplot_label_string\u001b[0m\u001b[0;34m,\u001b[0m \u001b[0mcolor\u001b[0m \u001b[0;34m=\u001b[0m \u001b[0mself\u001b[0m\u001b[0;34m.\u001b[0m\u001b[0mdata_filters\u001b[0m\u001b[0;34m[\u001b[0m\u001b[0mfilter_key\u001b[0m\u001b[0;34m]\u001b[0m\u001b[0;34m.\u001b[0m\u001b[0m_plot_colour\u001b[0m\u001b[0;34m,\u001b[0m\u001b[0;34m\u001b[0m\u001b[0m\n\u001b[0m\u001b[1;32m   2104\u001b[0m                                  \u001b[0malpha\u001b[0m \u001b[0;34m=\u001b[0m \u001b[0;36m0.8\u001b[0m\u001b[0;34m,\u001b[0m\u001b[0;34m\u001b[0m\u001b[0m\n\u001b[1;32m   2105\u001b[0m                                  *args, **kwargs)\n",
      "\u001b[0;31mAttributeError\u001b[0m: FilterClass instance has no attribute '_plot_colour'"
     ]
    },
    {
     "data": {
      "image/png": "[encoded data removed]",
      "text/plain": [
       "<matplotlib.figure.Figure at 0x1102d6ad0>"
      ]
     },
     "metadata": {},
     "output_type": "display_data"
    }
   ],
   "source": [
    "L.plot()"
   ]
  },
  {
   "cell_type": "code",
   "execution_count": null,
   "metadata": {
    "collapsed": false
   },
   "outputs": [],
   "source": [
    "recon_spec_path = '/Users/berto/Code/CoCo/recon/SN2011dh_Bessell_55715.000000.spec'\n",
    "mS = pcc.specfitClass()\n",
    "mS.load(filename = recon_spec_path)\n",
    "mS.plot()"
   ]
  },
  {
   "cell_type": "code",
   "execution_count": null,
   "metadata": {
    "collapsed": false
   },
   "outputs": [],
   "source": [
    "recon_spec_path = '/Users/berto/Code/CoCo/recon/SN2011dh_SDSS_55715.000000.spec'\n",
    "mS = pcc.specfitClass()\n",
    "mS.load(filename = recon_spec_path)\n",
    "mS.plot()"
   ]
  },
  {
   "cell_type": "code",
   "execution_count": null,
   "metadata": {
    "collapsed": false
   },
   "outputs": [],
   "source": [
    "# recon_spec_path = '/Users/berto/Code/CoCo/recon/SN2011dh_SDSS_55715.000000.spec'\n",
    "recon_spec_path = '/Users/berto/Code/CoCo/recon/SN2011dh_SDSS_55737.000000.spec'\n",
    "mS = pcc.specfitClass()\n",
    "mS.load(filename = recon_spec_path)\n",
    "mS.plot()\n",
    "# spec_table = Table.read(recon_spec_path, format = fmt, names = names)\n",
    "# spec_table."
   ]
  },
  {
   "cell_type": "code",
   "execution_count": null,
   "metadata": {
    "collapsed": false
   },
   "outputs": [],
   "source": [
    "obs_spec_path = '/Users/berto/Code/CoCo/data/spec/SN2011dh/SN2011dh-2011-06-25-NOT-ALFOSC-Grism_4-Grism_5.dat'\n",
    "S = pcc.SpectrumClass()\n",
    "S.load(filename = obs_spec_path)\n",
    "S.plot()"
   ]
  },
  {
   "cell_type": "code",
   "execution_count": null,
   "metadata": {
    "collapsed": false
   },
   "outputs": [],
   "source": [
    "reload(pcc)\n",
    "pcc.compare_spec(S, mS)"
   ]
  },
  {
   "cell_type": "code",
   "execution_count": null,
   "metadata": {
    "collapsed": false
   },
   "outputs": [],
   "source": [
    "# sn = pcc.SNClass('SN2009jf')\n",
    "sn = pcc.SNClass('SN2005hg')\n",
    "\n",
    "sn.name"
   ]
  },
  {
   "cell_type": "code",
   "execution_count": null,
   "metadata": {
    "collapsed": false
   },
   "outputs": [],
   "source": [
    "sn.load_phot()\n",
    "# recon_filename = os.path.abspath(os.path.join('/Users/berto/Code/CoCo/recon/', 'SN2009jf.dat'))\n",
    "recon_filename = os.path.abspath(os.path.join('/Users/berto/Code/CoCo/recon/', 'SN2005hg.dat'))\n",
    "\n",
    "sn.get_lcfit(recon_filename)\n",
    "sn.plot_lc()"
   ]
  },
  {
   "cell_type": "code",
   "execution_count": null,
   "metadata": {
    "collapsed": true
   },
   "outputs": [],
   "source": []
  }
 ],
 "metadata": {
  "anaconda-cloud": {},
  "kernelspec": {
   "display_name": "Python [default]",
   "language": "python",
   "name": "python2"
  },
  "language_info": {
   "codemirror_mode": {
    "name": "ipython",
    "version": 2
   },
   "file_extension": ".py",
   "mimetype": "text/x-python",
   "name": "python",
   "nbconvert_exporter": "python",
   "pygments_lexer": "ipython2",
   "version": "2.7.12"
  }
 },
 "nbformat": 4,
 "nbformat_minor": 1
}
