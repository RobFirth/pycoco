{
 "cells": [
  {
   "cell_type": "markdown",
   "metadata": {},
   "source": [
    "# Photometry in pycoco\n",
    "\n",
    "---------------------\n",
    "\n",
    "## Introduction\n",
    "This notebook aims to serve as a short tutorial (along with the others in this directory). In this notebook, the tools for adding/testing/plotting photometry in **`pycoco`**, as a companion to the **`c`** code **`CoCo`**.\n",
    "\n",
    "**`CoCo`** takes photometry data in one input phot file. **`pycoco`** can be used to (*hopefully*) easily wrangle your exisiting photometry into the correct format."
   ]
  },
  {
   "cell_type": "code",
   "execution_count": 723,
   "metadata": {
    "collapsed": false
   },
   "outputs": [
    {
     "data": {
      "text/plain": [
       "<module 'pycoco' from '/Users/berto/Code/verbose-enigma/pycoco/__init__.py'>"
      ]
     },
     "execution_count": 723,
     "metadata": {},
     "output_type": "execute_result"
    }
   ],
   "source": [
    "from __future__ import print_function ## Force python3-like printing\n",
    "\n",
    "%matplotlib inline\n",
    "from matplotlib import pyplot as plt\n",
    "\n",
    "import os\n",
    "import numpy as np\n",
    "\n",
    "import pycoco as pcc\n",
    "\n",
    "reload(pcc) ## FOR DEV"
   ]
  },
  {
   "cell_type": "markdown",
   "metadata": {},
   "source": [
    "## Using `PhotometryClass`\n",
    "\n",
    "### `PhotometryClass` methods and variables\n",
    "\n",
    "Photometry in **`pycoco`** is handled using **`PhotometryClass`** which has the methods and variables:\n",
    "\n",
    "**`PhotometryClass.__init__`**\n",
    "\n",
    "**`PhotometryClass._get_data_directory`**\n",
    "\n",
    "**`PhotometryClass._combine_phot`**\n",
    "\n",
    "\n",
    "**`PhotometryClass.set_data_directory`**\n",
    "\n",
    "**`PhotometryClass.load_phot_from_file`**\n",
    "\n",
    "**`PhotometryClass.load_phot_ap_tables`**\n",
    "\n",
    "**`PhotometryClass.load`**\n",
    "\n",
    "**`PhotometryClass.save`**\n",
    "\n",
    "**`PhotometryClass.plot`**\n",
    "\n",
    "**`PhotometryClass.save_phot`**\n",
    "\n",
    "\n",
    "**`PhotometryClass._default_data_dir_path`**"
   ]
  },
  {
   "cell_type": "code",
   "execution_count": 724,
   "metadata": {
    "collapsed": false
   },
   "outputs": [],
   "source": [
    "P = pcc.PhotometryClass()"
   ]
  },
  {
   "cell_type": "markdown",
   "metadata": {},
   "source": [
    "You can load in phot files one by one, or you can use the **`PhotometryClass.load()`** method. "
   ]
  },
  {
   "cell_type": "code",
   "execution_count": 725,
   "metadata": {
    "collapsed": false
   },
   "outputs": [],
   "source": [
    "P.load()"
   ]
  },
  {
   "cell_type": "markdown",
   "metadata": {},
   "source": [
    "Oops! We need to provide a SN name!"
   ]
  },
  {
   "cell_type": "code",
   "execution_count": 726,
   "metadata": {
    "collapsed": false
   },
   "outputs": [
    {
     "name": "stdout",
     "output_type": "stream",
     "text": [
      "Found: \n",
      "['SN1998bw.json', 'SN2005bf_B.dat', 'SN2005bf_SDSS_g.dat', 'SN2005bf_SDSS_i.dat', 'SN2005bf_SDSS_r.dat', 'SN2005bf_V.dat']\n",
      "Matched:\n",
      "['/Users/berto/Code/verbose-enigma/testdata/SN2005bf_B.dat', '/Users/berto/Code/verbose-enigma/testdata/SN2005bf_SDSS_g.dat', '/Users/berto/Code/verbose-enigma/testdata/SN2005bf_SDSS_i.dat', '/Users/berto/Code/verbose-enigma/testdata/SN2005bf_SDSS_r.dat', '/Users/berto/Code/verbose-enigma/testdata/SN2005bf_V.dat']\n",
      "/Users/berto/Code/verbose-enigma/testdata/SN2005bf_B.dat\n",
      "1 B B\n",
      "foo\n",
      "foo\n",
      "/Users/berto/Code/verbose-enigma/testdata/SN2005bf_SDSS_g.dat\n",
      "1 SDSS_g SDSS_g\n",
      "foo\n",
      "foo\n",
      "/Users/berto/Code/verbose-enigma/testdata/SN2005bf_SDSS_i.dat\n",
      "1 SDSS_i SDSS_i\n",
      "foo\n",
      "foo\n",
      "/Users/berto/Code/verbose-enigma/testdata/SN2005bf_SDSS_r.dat\n",
      "1 SDSS_r SDSS_r\n",
      "foo\n",
      "foo\n",
      "/Users/berto/Code/verbose-enigma/testdata/SN2005bf_V.dat\n",
      "1 V V\n",
      "foo\n",
      "foo\n"
     ]
    },
    {
     "ename": "TypeError",
     "evalue": "'type' object does not support item assignment",
     "output_type": "error",
     "traceback": [
      "\u001b[0;31m---------------------------------------------------------------------------\u001b[0m",
      "\u001b[0;31mTypeError\u001b[0m                                 Traceback (most recent call last)",
      "\u001b[0;32m<ipython-input-726-62260a93e3df>\u001b[0m in \u001b[0;36m<module>\u001b[0;34m()\u001b[0m\n\u001b[0;32m----> 1\u001b[0;31m \u001b[0mP\u001b[0m\u001b[0;34m.\u001b[0m\u001b[0mload\u001b[0m\u001b[0;34m(\u001b[0m\u001b[0msnname\u001b[0m \u001b[0;34m=\u001b[0m \u001b[0;34m'SN2005bf'\u001b[0m\u001b[0;34m)\u001b[0m\u001b[0;34m\u001b[0m\u001b[0m\n\u001b[0m",
      "\u001b[0;32m/Users/berto/Code/verbose-enigma/pycoco/__init__.py\u001b[0m in \u001b[0;36mload\u001b[0;34m(self, path, snname, prefix, file_type, names, format, filter_file_type, verbose)\u001b[0m\n\u001b[1;32m    384\u001b[0m \u001b[0;34m\u001b[0m\u001b[0m\n\u001b[1;32m    385\u001b[0m                 \u001b[0;31m## Sort the OrderedDict\u001b[0m\u001b[0;34m\u001b[0m\u001b[0;34m\u001b[0m\u001b[0m\n\u001b[0;32m--> 386\u001b[0;31m                 \u001b[0mself\u001b[0m\u001b[0;34m.\u001b[0m\u001b[0msort_phot\u001b[0m\u001b[0;34m(\u001b[0m\u001b[0;34m)\u001b[0m\u001b[0;34m\u001b[0m\u001b[0m\n\u001b[0m\u001b[1;32m    387\u001b[0m             \u001b[0;32melse\u001b[0m\u001b[0;34m:\u001b[0m\u001b[0;34m\u001b[0m\u001b[0m\n\u001b[1;32m    388\u001b[0m                 \u001b[0mwarning\u001b[0m\u001b[0;34m.\u001b[0m\u001b[0mwarn\u001b[0m\u001b[0;34m(\u001b[0m\u001b[0;34m\"Couldn't find any photometry\"\u001b[0m\u001b[0;34m)\u001b[0m\u001b[0;34m\u001b[0m\u001b[0m\n",
      "\u001b[0;32m/Users/berto/Code/verbose-enigma/pycoco/__init__.py\u001b[0m in \u001b[0;36msort_phot\u001b[0;34m(self)\u001b[0m\n\u001b[1;32m    412\u001b[0m \u001b[0;34m\u001b[0m\u001b[0m\n\u001b[1;32m    413\u001b[0m             \u001b[0;32mfor\u001b[0m \u001b[0mnewkey\u001b[0m \u001b[0;32min\u001b[0m \u001b[0mnewkeys\u001b[0m\u001b[0;34m:\u001b[0m\u001b[0;34m\u001b[0m\u001b[0m\n\u001b[0;32m--> 414\u001b[0;31m                 \u001b[0msorted_data\u001b[0m\u001b[0;34m[\u001b[0m\u001b[0mnewkey\u001b[0m\u001b[0;34m]\u001b[0m \u001b[0;34m=\u001b[0m \u001b[0mself\u001b[0m\u001b[0;34m.\u001b[0m\u001b[0mdata\u001b[0m\u001b[0;34m[\u001b[0m\u001b[0mnewkey\u001b[0m\u001b[0;34m]\u001b[0m\u001b[0;34m\u001b[0m\u001b[0m\n\u001b[0m\u001b[1;32m    415\u001b[0m                 \u001b[0msorted_data_filters\u001b[0m\u001b[0;34m[\u001b[0m\u001b[0mnewkey\u001b[0m\u001b[0;34m]\u001b[0m \u001b[0;34m=\u001b[0m \u001b[0mself\u001b[0m\u001b[0;34m.\u001b[0m\u001b[0mdata_filters\u001b[0m\u001b[0;34m[\u001b[0m\u001b[0mnewkey\u001b[0m\u001b[0;34m]\u001b[0m\u001b[0;34m\u001b[0m\u001b[0m\n\u001b[1;32m    416\u001b[0m \u001b[0;34m\u001b[0m\u001b[0m\n",
      "\u001b[0;31mTypeError\u001b[0m: 'type' object does not support item assignment"
     ]
    }
   ],
   "source": [
    "P.load(snname = 'SN2005bf')"
   ]
  },
  {
   "cell_type": "markdown",
   "metadata": {},
   "source": [
    "The operation has run with `verbose = True`, so it has spat out quite a bit of information. Namely, it found 6 files in the (default) data directory. \n",
    "5 of these matched the specified SN name (SN2005bf). The full filepaths of these was printed as the files were iterated over and loaded in to **`astropy`** tables. The filters from the file data and file names are printed, and all seem to match.\n",
    "\n",
    "Let's take a look at what is now in our PhotometryClass instance:"
   ]
  },
  {
   "cell_type": "code",
   "execution_count": null,
   "metadata": {
    "collapsed": false
   },
   "outputs": [],
   "source": [
    "P.__dict__.keys()"
   ]
  },
  {
   "cell_type": "markdown",
   "metadata": {},
   "source": [
    "Let's look at the data that was loaded in:"
   ]
  },
  {
   "cell_type": "code",
   "execution_count": null,
   "metadata": {
    "collapsed": false
   },
   "outputs": [],
   "source": [
    "P.data.keys()"
   ]
  },
  {
   "cell_type": "code",
   "execution_count": null,
   "metadata": {
    "collapsed": false
   },
   "outputs": [],
   "source": [
    "P.data['B'].show_in_notebook()"
   ]
  },
  {
   "cell_type": "markdown",
   "metadata": {},
   "source": [
    "This is good - all of the found photometry has been read in. \n",
    "\n",
    "If you have photometry that is already in **`astropy`** tables, then you can load it in using **`PhotometryClass.load_phot_ap_tables`**. There must be columns labelled `MJD`, `flux`, `flux_err` and `filter`.\n",
    "\n",
    "What we will demonstrate now is associating **`FilterClass`** with the photometry. **`PhotometryClass`** knows about the default filter directory (but another can be specified using **`PhotometryClass.set_filter_directory`**):"
   ]
  },
  {
   "cell_type": "code",
   "execution_count": null,
   "metadata": {
    "collapsed": false
   },
   "outputs": [],
   "source": [
    "P.filter_directory"
   ]
  },
  {
   "cell_type": "markdown",
   "metadata": {},
   "source": [
    "The **`PhotometryClass.load()`** method automatically searches the filter directory for the appropriate filters, and loads them in. For more on **`pycocoo.FilterClass`** see `pycoco_adding_filters.ipynb`.\n",
    "\n",
    "If we take a look, we can see that we have 5 **`FilterClass`** instances, one for each of the photometry files."
   ]
  },
  {
   "cell_type": "code",
   "execution_count": null,
   "metadata": {
    "collapsed": false
   },
   "outputs": [],
   "source": [
    "P.data_filters"
   ]
  },
  {
   "cell_type": "markdown",
   "metadata": {},
   "source": [
    "We can have a look at the spectral coverage of the photometry by using the **`PhotometryClass.plot_filters()`** method:"
   ]
  },
  {
   "cell_type": "code",
   "execution_count": null,
   "metadata": {
    "collapsed": false
   },
   "outputs": [],
   "source": [
    "P.plot_filters(legend = False)"
   ]
  },
  {
   "cell_type": "code",
   "execution_count": null,
   "metadata": {
    "collapsed": false
   },
   "outputs": [],
   "source": [
    "P.phot.show_in_notebook()"
   ]
  },
  {
   "cell_type": "code",
   "execution_count": null,
   "metadata": {
    "collapsed": false,
    "scrolled": true
   },
   "outputs": [],
   "source": [
    "P.plot()"
   ]
  },
  {
   "cell_type": "code",
   "execution_count": null,
   "metadata": {
    "collapsed": false
   },
   "outputs": [],
   "source": [
    "b = P.data['B']\n",
    "v = P.data['V']"
   ]
  },
  {
   "cell_type": "code",
   "execution_count": null,
   "metadata": {
    "collapsed": false,
    "scrolled": true
   },
   "outputs": [],
   "source": [
    "newkeys = np.array(P.data_filters.keys())[np.argsort([P.data_filters[i].lambda_effective.value for i in P.data_filters])]\n",
    "newkeys    \n"
   ]
  },
  {
   "cell_type": "code",
   "execution_count": null,
   "metadata": {
    "collapsed": false
   },
   "outputs": [],
   "source": [
    "P.data[newkeys]"
   ]
  },
  {
   "cell_type": "code",
   "execution_count": null,
   "metadata": {
    "collapsed": false
   },
   "outputs": [],
   "source": []
  },
  {
   "cell_type": "code",
   "execution_count": null,
   "metadata": {
    "collapsed": true
   },
   "outputs": [],
   "source": []
  },
  {
   "cell_type": "code",
   "execution_count": null,
   "metadata": {
    "collapsed": true
   },
   "outputs": [],
   "source": []
  }
 ],
 "metadata": {
  "anaconda-cloud": {},
  "kernelspec": {
   "display_name": "Python [default]",
   "language": "python",
   "name": "python2"
  },
  "language_info": {
   "codemirror_mode": {
    "name": "ipython",
    "version": 2
   },
   "file_extension": ".py",
   "mimetype": "text/x-python",
   "name": "python",
   "nbconvert_exporter": "python",
   "pygments_lexer": "ipython2",
   "version": "2.7.12"
  }
 },
 "nbformat": 4,
 "nbformat_minor": 1
}
