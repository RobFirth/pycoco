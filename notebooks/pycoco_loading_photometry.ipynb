{
 "cells": [
  {
   "cell_type": "markdown",
   "metadata": {},
   "source": [
    "# Photometry in pycoco\n",
    "\n",
    "---------------------\n",
    "\n",
    "## Introduction\n",
    "This notebook aims to serve as a short tutorial (along with the others in this directory). In this notebook, the tools for adding/testing/plotting photometry in **`pycoco`**, as a companion to the **`c`** code **`CoCo`**.\n",
    "\n",
    "**`CoCo`** takes photometry data in one input phot file. **`pycoco`** can be used to (*hopefully*) easily wrangle your exisiting photometry into the correct format."
   ]
  },
  {
   "cell_type": "code",
   "execution_count": 228,
   "metadata": {
    "collapsed": false
   },
   "outputs": [
    {
     "data": {
      "text/plain": [
       "<module 'pycoco' from '/Users/berto/Code/verbose-enigma/pycoco/__init__.py'>"
      ]
     },
     "execution_count": 228,
     "metadata": {},
     "output_type": "execute_result"
    }
   ],
   "source": [
    "from __future__ import print_function ## Force python3-like printing\n",
    "\n",
    "%matplotlib inline\n",
    "from matplotlib import pyplot as plt\n",
    "\n",
    "import os\n",
    "\n",
    "import pycoco as pcc\n",
    "\n",
    "reload(pcc) ## FOR DEV"
   ]
  },
  {
   "cell_type": "markdown",
   "metadata": {},
   "source": [
    "## Using `PhotometryClass`\n",
    "\n",
    "### `PhotometryClass` methods and variables\n",
    "\n",
    "Photometry in **`pycoco`** is handled using **`PhotometryClass`** which has the methods and variables:\n",
    "\n",
    "**`PhotometryClass.__init__`**\n",
    "\n",
    "**`PhotometryClass._get_data_directory`**\n",
    "\n",
    "**`PhotometryClass._combine_phot`**\n",
    "\n",
    "\n",
    "**`PhotometryClass.set_data_directory`**\n",
    "\n",
    "**`PhotometryClass.load_phot_from_file`**\n",
    "\n",
    "**`PhotometryClass.load_phot_ap_tables`**\n",
    "\n",
    "**`PhotometryClass.load`**\n",
    "\n",
    "**`PhotometryClass.save`**\n",
    "\n",
    "**`PhotometryClass.plot`**\n",
    "\n",
    "**`PhotometryClass.save_phot`**\n",
    "\n",
    "\n",
    "**`PhotometryClass._default_data_dir_path`**"
   ]
  },
  {
   "cell_type": "code",
   "execution_count": 229,
   "metadata": {
    "collapsed": false
   },
   "outputs": [],
   "source": [
    "P = pcc.PhotometryClass()"
   ]
  },
  {
   "cell_type": "markdown",
   "metadata": {},
   "source": [
    "You can load in phot files one by one, or you can use the **`PhotometryClass.load()`** method. "
   ]
  },
  {
   "cell_type": "code",
   "execution_count": 230,
   "metadata": {
    "collapsed": false
   },
   "outputs": [],
   "source": [
    "P.load()"
   ]
  },
  {
   "cell_type": "markdown",
   "metadata": {},
   "source": [
    "Oops! We need to provide a SN name!"
   ]
  },
  {
   "cell_type": "code",
   "execution_count": 231,
   "metadata": {
    "collapsed": false
   },
   "outputs": [
    {
     "name": "stdout",
     "output_type": "stream",
     "text": [
      "Found: \n",
      "['SN1998bw.json', 'SN2005bf_B.dat', 'SN2005bf_SDSS_g.dat', 'SN2005bf_SDSS_i.dat', 'SN2005bf_SDSS_r.dat', 'SN2005bf_V.dat']\n",
      "Matched:\n",
      "['/Users/berto/Code/verbose-enigma/testdata/SN2005bf_B.dat', '/Users/berto/Code/verbose-enigma/testdata/SN2005bf_SDSS_g.dat', '/Users/berto/Code/verbose-enigma/testdata/SN2005bf_SDSS_i.dat', '/Users/berto/Code/verbose-enigma/testdata/SN2005bf_SDSS_r.dat', '/Users/berto/Code/verbose-enigma/testdata/SN2005bf_V.dat']\n",
      "/Users/berto/Code/verbose-enigma/testdata/SN2005bf_B.dat\n",
      "1 B B\n",
      "foo\n",
      "foo\n",
      "/Users/berto/Code/verbose-enigma/testdata/SN2005bf_SDSS_g.dat\n",
      "1 SDSS_g SDSS_g\n",
      "foo\n",
      "foo\n",
      "/Users/berto/Code/verbose-enigma/testdata/SN2005bf_SDSS_i.dat\n",
      "1 SDSS_i SDSS_i\n",
      "foo\n",
      "foo\n",
      "/Users/berto/Code/verbose-enigma/testdata/SN2005bf_SDSS_r.dat\n",
      "1 SDSS_r SDSS_r\n",
      "foo\n",
      "foo\n",
      "/Users/berto/Code/verbose-enigma/testdata/SN2005bf_V.dat\n",
      "1 V V\n",
      "foo\n",
      "foo\n"
     ]
    }
   ],
   "source": [
    "P.load(snname = 'SN2005bf')"
   ]
  },
  {
   "cell_type": "markdown",
   "metadata": {},
   "source": [
    "The operation has run with `verbose = True`, so it has spat out quite a bit of information. Namely, it found 6 files in the (default) data directory. \n",
    "5 of these matched the specified SN name (SN2005bf). The full filepaths of these was printed as the files were iterated over and loaded in to **`astropy`** tables. The filters from the file data and file names are printed, and all seem to match.\n",
    "\n",
    "Let's take a look at what is now in our PhotometryClass instance:"
   ]
  },
  {
   "cell_type": "code",
   "execution_count": 232,
   "metadata": {
    "collapsed": false
   },
   "outputs": [
    {
     "data": {
      "text/plain": [
       "['phot',\n",
       " 'filter_directory',\n",
       " '_default_filter_dir_path',\n",
       " 'data_directory',\n",
       " 'data_filters',\n",
       " '_default_data_dir_path',\n",
       " 'data']"
      ]
     },
     "execution_count": 232,
     "metadata": {},
     "output_type": "execute_result"
    }
   ],
   "source": [
    "P.__dict__.keys()"
   ]
  },
  {
   "cell_type": "markdown",
   "metadata": {},
   "source": [
    "Let's look at the data that was loaded in:"
   ]
  },
  {
   "cell_type": "code",
   "execution_count": 233,
   "metadata": {
    "collapsed": false
   },
   "outputs": [
    {
     "data": {
      "text/plain": [
       "['B', 'SDSS_g', 'SDSS_i', 'SDSS_r', 'V']"
      ]
     },
     "execution_count": 233,
     "metadata": {},
     "output_type": "execute_result"
    }
   ],
   "source": [
    "P.data.keys()"
   ]
  },
  {
   "cell_type": "code",
   "execution_count": 234,
   "metadata": {
    "collapsed": false
   },
   "outputs": [
    {
     "data": {
      "text/html": [
       "&lt;Table length=86&gt;\n",
       "<table id=\"table4364861968-939978\" class=\"table-striped table-bordered table-condensed\">\n",
       "<thead><tr><th>idx</th><th>MJD</th><th>flux</th><th>flux_err</th><th>filter</th></tr></thead>\n",
       "<thead><tr><th></th><th></th><th>erg / (Angstrom cm2 s)</th><th>erg / (Angstrom cm2 s)</th><th></th></tr></thead>\n",
       "<tr><td>0</td><td>53467.7</td><td>3.739383e-16</td><td>5.510559e-18</td><td>B</td></tr>\n",
       "<tr><td>1</td><td>53468.6</td><td>4.119078e-16</td><td>6.070097e-18</td><td>B</td></tr>\n",
       "<tr><td>2</td><td>53472.6</td><td>5.613064e-16</td><td>8.271717e-18</td><td>B</td></tr>\n",
       "<tr><td>3</td><td>53473.6</td><td>5.872189e-16</td><td>8.653577e-18</td><td>B</td></tr>\n",
       "<tr><td>4</td><td>53474.6</td><td>5.953879e-16</td><td>8.77396e-18</td><td>B</td></tr>\n",
       "<tr><td>5</td><td>53475.6</td><td>5.997911e-16</td><td>8.838848e-18</td><td>B</td></tr>\n",
       "<tr><td>6</td><td>53476.6</td><td>5.765009e-16</td><td>8.495631e-18</td><td>B</td></tr>\n",
       "<tr><td>7</td><td>53477.6</td><td>5.551368e-16</td><td>8.180798e-18</td><td>B</td></tr>\n",
       "<tr><td>8</td><td>53478.6</td><td>5.330893e-16</td><td>7.855895e-18</td><td>B</td></tr>\n",
       "<tr><td>9</td><td>53479.5</td><td>5.400078e-16</td><td>7.957848e-18</td><td>B</td></tr>\n",
       "<tr><td>10</td><td>53480.5</td><td>5.425003e-16</td><td>7.99458e-18</td><td>B</td></tr>\n",
       "<tr><td>11</td><td>53481.5</td><td>5.4752e-16</td><td>8.068553e-18</td><td>B</td></tr>\n",
       "<tr><td>12</td><td>53482.5</td><td>5.796956e-16</td><td>1.334798e-17</td><td>B</td></tr>\n",
       "<tr><td>13</td><td>53483.5</td><td>6.177319e-16</td><td>9.103233e-18</td><td>B</td></tr>\n",
       "<tr><td>14</td><td>53484.6</td><td>6.350384e-16</td><td>9.358272e-18</td><td>B</td></tr>\n",
       "<tr><td>15</td><td>53489.5</td><td>9.772372e-16</td><td>1.44011e-17</td><td>B</td></tr>\n",
       "<tr><td>16</td><td>53490.5</td><td>1.090436e-15</td><td>1.606925e-17</td><td>B</td></tr>\n",
       "<tr><td>17</td><td>53491.5</td><td>1.202264e-15</td><td>1.771722e-17</td><td>B</td></tr>\n",
       "<tr><td>18</td><td>53493.5</td><td>1.347721e-15</td><td>3.103242e-17</td><td>B</td></tr>\n",
       "<tr><td>19</td><td>53495.5</td><td>1.404753e-15</td><td>2.070121e-17</td><td>B</td></tr>\n",
       "<tr><td>20</td><td>53496.5</td><td>1.444109e-15</td><td>2.128118e-17</td><td>B</td></tr>\n",
       "<tr><td>21</td><td>53497.5</td><td>1.480471e-15</td><td>2.181703e-17</td><td>B</td></tr>\n",
       "<tr><td>22</td><td>53499.4</td><td>1.436151e-15</td><td>2.11639e-17</td><td>B</td></tr>\n",
       "<tr><td>23</td><td>53500.5</td><td>1.419058e-15</td><td>2.0912e-17</td><td>B</td></tr>\n",
       "<tr><td>24</td><td>53501.5</td><td>1.345241e-15</td><td>1.98242e-17</td><td>B</td></tr>\n",
       "<tr><td>25</td><td>53502.5</td><td>1.310992e-15</td><td>1.931949e-17</td><td>B</td></tr>\n",
       "<tr><td>26</td><td>53503.5</td><td>1.256609e-15</td><td>1.851807e-17</td><td>B</td></tr>\n",
       "<tr><td>27</td><td>53504.5</td><td>1.196741e-15</td><td>1.763582e-17</td><td>B</td></tr>\n",
       "<tr><td>28</td><td>53506.5</td><td>1.064633e-15</td><td>1.568901e-17</td><td>B</td></tr>\n",
       "<tr><td>29</td><td>53508.7</td><td>9.471091e-16</td><td>1.395712e-17</td><td>B</td></tr>\n",
       "<tr><td>30</td><td>53509.5</td><td>8.896107e-16</td><td>1.310979e-17</td><td>B</td></tr>\n",
       "<tr><td>31</td><td>53510.5</td><td>8.36373e-16</td><td>1.771754e-17</td><td>B</td></tr>\n",
       "<tr><td>32</td><td>53511.5</td><td>7.585776e-16</td><td>1.117881e-17</td><td>B</td></tr>\n",
       "<tr><td>33</td><td>53512.7</td><td>6.680362e-16</td><td>1.107511e-17</td><td>B</td></tr>\n",
       "<tr><td>34</td><td>53513.5</td><td>6.625215e-16</td><td>9.763278e-18</td><td>B</td></tr>\n",
       "<tr><td>35</td><td>53516.4</td><td>5.058247e-16</td><td>7.454108e-18</td><td>B</td></tr>\n",
       "<tr><td>36</td><td>53517.4</td><td>4.491589e-16</td><td>6.61905e-18</td><td>B</td></tr>\n",
       "<tr><td>37</td><td>53520.5</td><td>3.308263e-16</td><td>4.875236e-18</td><td>B</td></tr>\n",
       "<tr><td>38</td><td>53521.4</td><td>3.08745e-16</td><td>4.549835e-18</td><td>B</td></tr>\n",
       "<tr><td>39</td><td>53522.4</td><td>2.870781e-16</td><td>6.610217e-18</td><td>B</td></tr>\n",
       "<tr><td>40</td><td>53523.5</td><td>2.544486e-16</td><td>4.218404e-18</td><td>B</td></tr>\n",
       "<tr><td>41</td><td>53524.4</td><td>2.261518e-16</td><td>3.540989e-18</td><td>B</td></tr>\n",
       "<tr><td>42</td><td>53525.4</td><td>2.112516e-16</td><td>7.393657e-18</td><td>B</td></tr>\n",
       "<tr><td>43</td><td>53526.4</td><td>1.816352e-16</td><td>8.531902e-18</td><td>B</td></tr>\n",
       "<tr><td>44</td><td>53527.5</td><td>1.796387e-16</td><td>2.647254e-18</td><td>B</td></tr>\n",
       "<tr><td>45</td><td>53528.5</td><td>1.776642e-16</td><td>2.618157e-18</td><td>B</td></tr>\n",
       "<tr><td>46</td><td>53529.5</td><td>1.623305e-16</td><td>2.541702e-18</td><td>B</td></tr>\n",
       "<tr><td>47</td><td>53530.5</td><td>1.521949e-16</td><td>2.52318e-18</td><td>B</td></tr>\n",
       "<tr><td>48</td><td>53538.5</td><td>1.099512e-16</td><td>3.746946e-18</td><td>B</td></tr>\n",
       "<tr><td>49</td><td>53538.5</td><td>1.037528e-16</td><td>4.109076e-18</td><td>B</td></tr>\n",
       "<tr><td>50</td><td>53542.5</td><td>8.685604e-17</td><td>5.439821e-18</td><td>B</td></tr>\n",
       "<tr><td>51</td><td>53565.5</td><td>4.875285e-17</td><td>2.828891e-18</td><td>B</td></tr>\n",
       "<tr><td>52</td><td>53569.5</td><td>3.973745e-17</td><td>4.867739e-18</td><td>B</td></tr>\n",
       "<tr><td>53</td><td>53471.24492</td><td>5.340722e-16</td><td>9.837974e-18</td><td>B</td></tr>\n",
       "<tr><td>54</td><td>53472.24774</td><td>5.791619e-16</td><td>1.013513e-17</td><td>B</td></tr>\n",
       "<tr><td>55</td><td>53473.21264</td><td>5.981361e-16</td><td>1.101807e-17</td><td>B</td></tr>\n",
       "<tr><td>56</td><td>53473.22608</td><td>6.047836e-16</td><td>1.114053e-17</td><td>B</td></tr>\n",
       "<tr><td>57</td><td>53474.21104</td><td>6.171632e-16</td><td>1.080014e-17</td><td>B</td></tr>\n",
       "<tr><td>58</td><td>53474.22442</td><td>5.975854e-16</td><td>1.045753e-17</td><td>B</td></tr>\n",
       "<tr><td>59</td><td>53476.22215</td><td>5.899293e-16</td><td>1.141025e-17</td><td>B</td></tr>\n",
       "<tr><td>60</td><td>53477.19942</td><td>5.556483e-16</td><td>1.023542e-17</td><td>B</td></tr>\n",
       "<tr><td>61</td><td>53477.21258</td><td>5.670221e-16</td><td>1.096718e-17</td><td>B</td></tr>\n",
       "<tr><td>62</td><td>53490.25125</td><td>1.138676e-15</td><td>1.992642e-17</td><td>B</td></tr>\n",
       "<tr><td>63</td><td>53492.1826</td><td>1.268236e-15</td><td>1.98575e-17</td><td>B</td></tr>\n",
       "<tr><td>64</td><td>53492.19964</td><td>1.272917e-15</td><td>2.110319e-17</td><td>B</td></tr>\n",
       "<tr><td>65</td><td>53493.15237</td><td>1.335365e-15</td><td>2.21385e-17</td><td>B</td></tr>\n",
       "<tr><td>66</td><td>53493.1699</td><td>1.347721e-15</td><td>2.234334e-17</td><td>B</td></tr>\n",
       "<tr><td>67</td><td>53494.16177</td><td>1.363955e-15</td><td>2.135623e-17</td><td>B</td></tr>\n",
       "<tr><td>68</td><td>53494.17895</td><td>1.379113e-15</td><td>2.159358e-17</td><td>B</td></tr>\n",
       "<tr><td>69</td><td>53495.16038</td><td>1.428236e-15</td><td>2.499363e-17</td><td>B</td></tr>\n",
       "<tr><td>70</td><td>53496.16993</td><td>1.44278e-15</td><td>2.391928e-17</td><td>B</td></tr>\n",
       "<tr><td>71</td><td>53497.15987</td><td>1.472313e-15</td><td>2.44089e-17</td><td>B</td></tr>\n",
       "<tr><td>72</td><td>53497.17735</td><td>1.476386e-15</td><td>2.583624e-17</td><td>B</td></tr>\n",
       "<tr><td>73</td><td>53498.15053</td><td>1.479108e-15</td><td>2.315926e-17</td><td>B</td></tr>\n",
       "<tr><td>74</td><td>53498.16762</td><td>1.464199e-15</td><td>2.427438e-17</td><td>B</td></tr>\n",
       "<tr><td>75</td><td>53499.14599</td><td>1.444109e-15</td><td>2.261125e-17</td><td>B</td></tr>\n",
       "<tr><td>76</td><td>53499.1631</td><td>1.448105e-15</td><td>2.400757e-17</td><td>B</td></tr>\n",
       "<tr><td>77</td><td>53503.1796</td><td>1.249683e-15</td><td>2.071802e-17</td><td>B</td></tr>\n",
       "<tr><td>78</td><td>53509.16714</td><td>8.480081e-16</td><td>6.482668e-17</td><td>B</td></tr>\n",
       "<tr><td>79</td><td>53510.16382</td><td>8.325302e-16</td><td>1.686935e-17</td><td>B</td></tr>\n",
       "<tr><td>80</td><td>53511.16765</td><td>7.053424e-16</td><td>2.208791e-17</td><td>B</td></tr>\n",
       "<tr><td>81</td><td>53512.16661</td><td>6.873849e-16</td><td>1.772694e-17</td><td>B</td></tr>\n",
       "<tr><td>82</td><td>53516.17168</td><td>4.929467e-16</td><td>8.626394e-18</td><td>B</td></tr>\n",
       "<tr><td>83</td><td>53522.16139</td><td>2.734009e-16</td><td>6.798912e-18</td><td>B</td></tr>\n",
       "<tr><td>84</td><td>53524.15944</td><td>2.344229e-16</td><td>5.397786e-18</td><td>B</td></tr>\n",
       "<tr><td>85</td><td>53526.16081</td><td>1.870682e-16</td><td>5.341182e-18</td><td>B</td></tr>\n",
       "</table><style>table.dataTable {clear: both; width: auto !important; margin: 0 !important;}\n",
       ".dataTables_info, .dataTables_length, .dataTables_filter, .dataTables_paginate{\n",
       "display: inline-block; margin-right: 1em; }\n",
       ".paginate_button { margin-right: 5px; }\n",
       "</style>\n",
       "<script>\n",
       "require.config({paths: {\n",
       "    datatables: 'https://cdn.datatables.net/1.10.9/js/jquery.dataTables.min'\n",
       "}});\n",
       "require([\"datatables\"], function(){\n",
       "    console.log(\"$('#table4364861968-939978').dataTable()\");\n",
       "    $('#table4364861968-939978').dataTable({\n",
       "        \"order\": [],\n",
       "        \"iDisplayLength\": 50,\n",
       "        \"aLengthMenu\": [[10, 25, 50, 100, 500, 1000, -1], [10, 25, 50, 100, 500, 1000, 'All']],\n",
       "        \"pagingType\": \"full_numbers\"\n",
       "    });\n",
       "});\n",
       "</script>\n"
      ],
      "text/plain": [
       "<IPython.core.display.HTML object>"
      ]
     },
     "execution_count": 234,
     "metadata": {},
     "output_type": "execute_result"
    }
   ],
   "source": [
    "P.data['B'].show_in_notebook()"
   ]
  },
  {
   "cell_type": "markdown",
   "metadata": {},
   "source": [
    "This is good - all of the found photometry has been read in. \n",
    "\n",
    "If you have photometry that is already in **`astropy`** tables, then you can load it in using **`PhotometryClass.load_phot_ap_tables`**. There must be columns labelled `MJD`, `flux`, `flux_err` and `filter`.\n",
    "\n",
    "What we will demonstrate now is associating **`FilterClass`** with the photometry. **`PhotometryClass`** knows about the default filter directory (but another can be specified using **`PhotometryClass.set_filter_directory`**):"
   ]
  },
  {
   "cell_type": "code",
   "execution_count": 235,
   "metadata": {
    "collapsed": false
   },
   "outputs": [
    {
     "data": {
      "text/plain": [
       "'/Users/berto/Code/CoCo/data/filters'"
      ]
     },
     "execution_count": 235,
     "metadata": {},
     "output_type": "execute_result"
    }
   ],
   "source": [
    "P.filter_directory"
   ]
  },
  {
   "cell_type": "markdown",
   "metadata": {},
   "source": [
    "The **`PhotometryClass.load()`** method automatically searches the filter directory for the appropriate filters, and loads them in. For more on **`pycocoo.FilterClass`** see `pycoco_adding_filters.ipynb`.\n",
    "\n",
    "If we take a look, we can see that we have 5 **`FilterClass`** instances, one for each of the photometry files."
   ]
  },
  {
   "cell_type": "code",
   "execution_count": 236,
   "metadata": {
    "collapsed": false
   },
   "outputs": [
    {
     "data": {
      "text/plain": [
       "OrderedDict([('B', <pycoco.FilterClass instance at 0x10b1ee9e0>),\n",
       "             ('SDSS_g', <pycoco.FilterClass instance at 0x10b1daa28>),\n",
       "             ('SDSS_i', <pycoco.FilterClass instance at 0x10b1b2758>),\n",
       "             ('SDSS_r', <pycoco.FilterClass instance at 0x10b1e42d8>),\n",
       "             ('V', <pycoco.FilterClass instance at 0x1099d1050>)])"
      ]
     },
     "execution_count": 236,
     "metadata": {},
     "output_type": "execute_result"
    }
   ],
   "source": [
    "P.data_filters"
   ]
  },
  {
   "cell_type": "code",
   "execution_count": 237,
   "metadata": {
    "collapsed": false
   },
   "outputs": [],
   "source": [
    "# P._combine_phot()"
   ]
  },
  {
   "cell_type": "code",
   "execution_count": 238,
   "metadata": {
    "collapsed": false
   },
   "outputs": [
    {
     "data": {
      "text/html": [
       "&lt;Table masked=True length=377&gt;\n",
       "<table id=\"table4364863952-15670\" class=\"table-striped table-bordered table-condensed\">\n",
       "<thead><tr><th>idx</th><th>MJD</th><th>flux</th><th>flux_err</th><th>filter</th></tr></thead>\n",
       "<thead><tr><th></th><th></th><th>erg / (Angstrom cm2 s)</th><th>erg / (Angstrom cm2 s)</th><th></th></tr></thead>\n",
       "<tr><td>0</td><td>53467.7</td><td>3.739383e-16</td><td>5.510559e-18</td><td>B</td></tr>\n",
       "<tr><td>1</td><td>53468.6</td><td>4.119078e-16</td><td>6.070097e-18</td><td>B</td></tr>\n",
       "<tr><td>2</td><td>53472.6</td><td>5.613064e-16</td><td>8.271717e-18</td><td>B</td></tr>\n",
       "<tr><td>3</td><td>53473.6</td><td>5.872189e-16</td><td>8.653577e-18</td><td>B</td></tr>\n",
       "<tr><td>4</td><td>53474.6</td><td>5.953879e-16</td><td>8.77396e-18</td><td>B</td></tr>\n",
       "<tr><td>5</td><td>53475.6</td><td>5.997911e-16</td><td>8.838848e-18</td><td>B</td></tr>\n",
       "<tr><td>6</td><td>53476.6</td><td>5.765009e-16</td><td>8.495631e-18</td><td>B</td></tr>\n",
       "<tr><td>7</td><td>53477.6</td><td>5.551368e-16</td><td>8.180798e-18</td><td>B</td></tr>\n",
       "<tr><td>8</td><td>53478.6</td><td>5.330893e-16</td><td>7.855895e-18</td><td>B</td></tr>\n",
       "<tr><td>9</td><td>53479.5</td><td>5.400078e-16</td><td>7.957848e-18</td><td>B</td></tr>\n",
       "<tr><td>10</td><td>53480.5</td><td>5.425003e-16</td><td>7.99458e-18</td><td>B</td></tr>\n",
       "<tr><td>11</td><td>53481.5</td><td>5.4752e-16</td><td>8.068553e-18</td><td>B</td></tr>\n",
       "<tr><td>12</td><td>53482.5</td><td>5.796956e-16</td><td>1.334798e-17</td><td>B</td></tr>\n",
       "<tr><td>13</td><td>53483.5</td><td>6.177319e-16</td><td>9.103233e-18</td><td>B</td></tr>\n",
       "<tr><td>14</td><td>53484.6</td><td>6.350384e-16</td><td>9.358272e-18</td><td>B</td></tr>\n",
       "<tr><td>15</td><td>53489.5</td><td>9.772372e-16</td><td>1.44011e-17</td><td>B</td></tr>\n",
       "<tr><td>16</td><td>53490.5</td><td>1.090436e-15</td><td>1.606925e-17</td><td>B</td></tr>\n",
       "<tr><td>17</td><td>53491.5</td><td>1.202264e-15</td><td>1.771722e-17</td><td>B</td></tr>\n",
       "<tr><td>18</td><td>53493.5</td><td>1.347721e-15</td><td>3.103242e-17</td><td>B</td></tr>\n",
       "<tr><td>19</td><td>53495.5</td><td>1.404753e-15</td><td>2.070121e-17</td><td>B</td></tr>\n",
       "<tr><td>20</td><td>53496.5</td><td>1.444109e-15</td><td>2.128118e-17</td><td>B</td></tr>\n",
       "<tr><td>21</td><td>53497.5</td><td>1.480471e-15</td><td>2.181703e-17</td><td>B</td></tr>\n",
       "<tr><td>22</td><td>53499.4</td><td>1.436151e-15</td><td>2.11639e-17</td><td>B</td></tr>\n",
       "<tr><td>23</td><td>53500.5</td><td>1.419058e-15</td><td>2.0912e-17</td><td>B</td></tr>\n",
       "<tr><td>24</td><td>53501.5</td><td>1.345241e-15</td><td>1.98242e-17</td><td>B</td></tr>\n",
       "<tr><td>25</td><td>53502.5</td><td>1.310992e-15</td><td>1.931949e-17</td><td>B</td></tr>\n",
       "<tr><td>26</td><td>53503.5</td><td>1.256609e-15</td><td>1.851807e-17</td><td>B</td></tr>\n",
       "<tr><td>27</td><td>53504.5</td><td>1.196741e-15</td><td>1.763582e-17</td><td>B</td></tr>\n",
       "<tr><td>28</td><td>53506.5</td><td>1.064633e-15</td><td>1.568901e-17</td><td>B</td></tr>\n",
       "<tr><td>29</td><td>53508.7</td><td>9.471091e-16</td><td>1.395712e-17</td><td>B</td></tr>\n",
       "<tr><td>30</td><td>53509.5</td><td>8.896107e-16</td><td>1.310979e-17</td><td>B</td></tr>\n",
       "<tr><td>31</td><td>53510.5</td><td>8.36373e-16</td><td>1.771754e-17</td><td>B</td></tr>\n",
       "<tr><td>32</td><td>53511.5</td><td>7.585776e-16</td><td>1.117881e-17</td><td>B</td></tr>\n",
       "<tr><td>33</td><td>53512.7</td><td>6.680362e-16</td><td>1.107511e-17</td><td>B</td></tr>\n",
       "<tr><td>34</td><td>53513.5</td><td>6.625215e-16</td><td>9.763278e-18</td><td>B</td></tr>\n",
       "<tr><td>35</td><td>53516.4</td><td>5.058247e-16</td><td>7.454108e-18</td><td>B</td></tr>\n",
       "<tr><td>36</td><td>53517.4</td><td>4.491589e-16</td><td>6.61905e-18</td><td>B</td></tr>\n",
       "<tr><td>37</td><td>53520.5</td><td>3.308263e-16</td><td>4.875236e-18</td><td>B</td></tr>\n",
       "<tr><td>38</td><td>53521.4</td><td>3.08745e-16</td><td>4.549835e-18</td><td>B</td></tr>\n",
       "<tr><td>39</td><td>53522.4</td><td>2.870781e-16</td><td>6.610217e-18</td><td>B</td></tr>\n",
       "<tr><td>40</td><td>53523.5</td><td>2.544486e-16</td><td>4.218404e-18</td><td>B</td></tr>\n",
       "<tr><td>41</td><td>53524.4</td><td>2.261518e-16</td><td>3.540989e-18</td><td>B</td></tr>\n",
       "<tr><td>42</td><td>53525.4</td><td>2.112516e-16</td><td>7.393657e-18</td><td>B</td></tr>\n",
       "<tr><td>43</td><td>53526.4</td><td>1.816352e-16</td><td>8.531902e-18</td><td>B</td></tr>\n",
       "<tr><td>44</td><td>53527.5</td><td>1.796387e-16</td><td>2.647254e-18</td><td>B</td></tr>\n",
       "<tr><td>45</td><td>53528.5</td><td>1.776642e-16</td><td>2.618157e-18</td><td>B</td></tr>\n",
       "<tr><td>46</td><td>53529.5</td><td>1.623305e-16</td><td>2.541702e-18</td><td>B</td></tr>\n",
       "<tr><td>47</td><td>53530.5</td><td>1.521949e-16</td><td>2.52318e-18</td><td>B</td></tr>\n",
       "<tr><td>48</td><td>53538.5</td><td>1.099512e-16</td><td>3.746946e-18</td><td>B</td></tr>\n",
       "<tr><td>49</td><td>53538.5</td><td>1.037528e-16</td><td>4.109076e-18</td><td>B</td></tr>\n",
       "<tr><td>50</td><td>53542.5</td><td>8.685604e-17</td><td>5.439821e-18</td><td>B</td></tr>\n",
       "<tr><td>51</td><td>53565.5</td><td>4.875285e-17</td><td>2.828891e-18</td><td>B</td></tr>\n",
       "<tr><td>52</td><td>53569.5</td><td>3.973745e-17</td><td>4.867739e-18</td><td>B</td></tr>\n",
       "<tr><td>53</td><td>53471.24492</td><td>5.340722e-16</td><td>9.837974e-18</td><td>B</td></tr>\n",
       "<tr><td>54</td><td>53472.24774</td><td>5.791619e-16</td><td>1.013513e-17</td><td>B</td></tr>\n",
       "<tr><td>55</td><td>53473.21264</td><td>5.981361e-16</td><td>1.101807e-17</td><td>B</td></tr>\n",
       "<tr><td>56</td><td>53473.22608</td><td>6.047836e-16</td><td>1.114053e-17</td><td>B</td></tr>\n",
       "<tr><td>57</td><td>53474.21104</td><td>6.171632e-16</td><td>1.080014e-17</td><td>B</td></tr>\n",
       "<tr><td>58</td><td>53474.22442</td><td>5.975854e-16</td><td>1.045753e-17</td><td>B</td></tr>\n",
       "<tr><td>59</td><td>53476.22215</td><td>5.899293e-16</td><td>1.141025e-17</td><td>B</td></tr>\n",
       "<tr><td>60</td><td>53477.19942</td><td>5.556483e-16</td><td>1.023542e-17</td><td>B</td></tr>\n",
       "<tr><td>61</td><td>53477.21258</td><td>5.670221e-16</td><td>1.096718e-17</td><td>B</td></tr>\n",
       "<tr><td>62</td><td>53490.25125</td><td>1.138676e-15</td><td>1.992642e-17</td><td>B</td></tr>\n",
       "<tr><td>63</td><td>53492.1826</td><td>1.268236e-15</td><td>1.98575e-17</td><td>B</td></tr>\n",
       "<tr><td>64</td><td>53492.19964</td><td>1.272917e-15</td><td>2.110319e-17</td><td>B</td></tr>\n",
       "<tr><td>65</td><td>53493.15237</td><td>1.335365e-15</td><td>2.21385e-17</td><td>B</td></tr>\n",
       "<tr><td>66</td><td>53493.1699</td><td>1.347721e-15</td><td>2.234334e-17</td><td>B</td></tr>\n",
       "<tr><td>67</td><td>53494.16177</td><td>1.363955e-15</td><td>2.135623e-17</td><td>B</td></tr>\n",
       "<tr><td>68</td><td>53494.17895</td><td>1.379113e-15</td><td>2.159358e-17</td><td>B</td></tr>\n",
       "<tr><td>69</td><td>53495.16038</td><td>1.428236e-15</td><td>2.499363e-17</td><td>B</td></tr>\n",
       "<tr><td>70</td><td>53496.16993</td><td>1.44278e-15</td><td>2.391928e-17</td><td>B</td></tr>\n",
       "<tr><td>71</td><td>53497.15987</td><td>1.472313e-15</td><td>2.44089e-17</td><td>B</td></tr>\n",
       "<tr><td>72</td><td>53497.17735</td><td>1.476386e-15</td><td>2.583624e-17</td><td>B</td></tr>\n",
       "<tr><td>73</td><td>53498.15053</td><td>1.479108e-15</td><td>2.315926e-17</td><td>B</td></tr>\n",
       "<tr><td>74</td><td>53498.16762</td><td>1.464199e-15</td><td>2.427438e-17</td><td>B</td></tr>\n",
       "<tr><td>75</td><td>53499.14599</td><td>1.444109e-15</td><td>2.261125e-17</td><td>B</td></tr>\n",
       "<tr><td>76</td><td>53499.1631</td><td>1.448105e-15</td><td>2.400757e-17</td><td>B</td></tr>\n",
       "<tr><td>77</td><td>53503.1796</td><td>1.249683e-15</td><td>2.071802e-17</td><td>B</td></tr>\n",
       "<tr><td>78</td><td>53509.16714</td><td>8.480081e-16</td><td>6.482668e-17</td><td>B</td></tr>\n",
       "<tr><td>79</td><td>53510.16382</td><td>8.325302e-16</td><td>1.686935e-17</td><td>B</td></tr>\n",
       "<tr><td>80</td><td>53511.16765</td><td>7.053424e-16</td><td>2.208791e-17</td><td>B</td></tr>\n",
       "<tr><td>81</td><td>53512.16661</td><td>6.873849e-16</td><td>1.772694e-17</td><td>B</td></tr>\n",
       "<tr><td>82</td><td>53516.17168</td><td>4.929467e-16</td><td>8.626394e-18</td><td>B</td></tr>\n",
       "<tr><td>83</td><td>53522.16139</td><td>2.734009e-16</td><td>6.798912e-18</td><td>B</td></tr>\n",
       "<tr><td>84</td><td>53524.15944</td><td>2.344229e-16</td><td>5.397786e-18</td><td>B</td></tr>\n",
       "<tr><td>85</td><td>53526.16081</td><td>1.870682e-16</td><td>5.341182e-18</td><td>B</td></tr>\n",
       "<tr><td>86</td><td>53467.7</td><td>3.654265e-16</td><td>5.048553e-18</td><td>SDSS_g</td></tr>\n",
       "<tr><td>87</td><td>53468.6</td><td>4.006822e-16</td><td>5.535629e-18</td><td>SDSS_g</td></tr>\n",
       "<tr><td>88</td><td>53472.6</td><td>5.38022e-16</td><td>7.433048e-18</td><td>SDSS_g</td></tr>\n",
       "<tr><td>89</td><td>53473.6</td><td>5.701643e-16</td><td>7.877111e-18</td><td>SDSS_g</td></tr>\n",
       "<tr><td>90</td><td>53474.6</td><td>5.861382e-16</td><td>8.097798e-18</td><td>SDSS_g</td></tr>\n",
       "<tr><td>91</td><td>53475.6</td><td>5.82908e-16</td><td>8.053171e-18</td><td>SDSS_g</td></tr>\n",
       "<tr><td>92</td><td>53476.6</td><td>5.69115e-16</td><td>7.862614e-18</td><td>SDSS_g</td></tr>\n",
       "<tr><td>93</td><td>53477.6</td><td>5.520774e-16</td><td>7.627232e-18</td><td>SDSS_g</td></tr>\n",
       "<tr><td>94</td><td>53478.6</td><td>5.465124e-16</td><td>7.550347e-18</td><td>SDSS_g</td></tr>\n",
       "<tr><td>95</td><td>53479.5</td><td>5.485295e-16</td><td>7.578215e-18</td><td>SDSS_g</td></tr>\n",
       "<tr><td>96</td><td>53480.5</td><td>5.618236e-16</td><td>7.76188e-18</td><td>SDSS_g</td></tr>\n",
       "<tr><td>97</td><td>53481.5</td><td>5.765009e-16</td><td>7.964654e-18</td><td>SDSS_g</td></tr>\n",
       "<tr><td>98</td><td>53482.5</td><td>5.948398e-16</td><td>1.643603e-17</td><td>SDSS_g</td></tr>\n",
       "<tr><td>99</td><td>53483.5</td><td>6.474407e-16</td><td>8.944724e-18</td><td>SDSS_g</td></tr>\n",
       "<tr><td>100</td><td>53484.6</td><td>6.817105e-16</td><td>9.418179e-18</td><td>SDSS_g</td></tr>\n",
       "<tr><td>101</td><td>53489.5</td><td>9.935735e-16</td><td>1.372673e-17</td><td>SDSS_g</td></tr>\n",
       "<tr><td>102</td><td>53490.5</td><td>1.107643e-15</td><td>1.530266e-17</td><td>SDSS_g</td></tr>\n",
       "<tr><td>103</td><td>53491.5</td><td>1.206702e-15</td><td>1.66712e-17</td><td>SDSS_g</td></tr>\n",
       "<tr><td>104</td><td>53493.5</td><td>1.3122e-15</td><td>1.812871e-17</td><td>SDSS_g</td></tr>\n",
       "<tr><td>105</td><td>53495.5</td><td>1.406048e-15</td><td>1.942526e-17</td><td>SDSS_g</td></tr>\n",
       "<tr><td>106</td><td>53496.5</td><td>1.441451e-15</td><td>1.991439e-17</td><td>SDSS_g</td></tr>\n",
       "<tr><td>107</td><td>53497.5</td><td>1.452112e-15</td><td>2.006166e-17</td><td>SDSS_g</td></tr>\n",
       "<tr><td>108</td><td>53499.4</td><td>1.449439e-15</td><td>2.002474e-17</td><td>SDSS_g</td></tr>\n",
       "<tr><td>109</td><td>53500.5</td><td>1.404753e-15</td><td>1.940738e-17</td><td>SDSS_g</td></tr>\n",
       "<tr><td>110</td><td>53501.5</td><td>1.36647e-15</td><td>1.887848e-17</td><td>SDSS_g</td></tr>\n",
       "<tr><td>111</td><td>53502.5</td><td>1.332907e-15</td><td>1.84148e-17</td><td>SDSS_g</td></tr>\n",
       "<tr><td>112</td><td>53503.5</td><td>1.293004e-15</td><td>1.786352e-17</td><td>SDSS_g</td></tr>\n",
       "<tr><td>113</td><td>53504.5</td><td>1.253141e-15</td><td>1.731279e-17</td><td>SDSS_g</td></tr>\n",
       "<tr><td>114</td><td>53506.5</td><td>1.147097e-15</td><td>1.584773e-17</td><td>SDSS_g</td></tr>\n",
       "<tr><td>115</td><td>53512.7</td><td>8.128305e-16</td><td>1.122967e-17</td><td>SDSS_g</td></tr>\n",
       "<tr><td>116</td><td>53516.4</td><td>6.148936e-16</td><td>8.49507e-18</td><td>SDSS_g</td></tr>\n",
       "<tr><td>117</td><td>53517.4</td><td>5.675446e-16</td><td>1.515911e-17</td><td>SDSS_g</td></tr>\n",
       "<tr><td>118</td><td>53520.5</td><td>4.353114e-16</td><td>6.014049e-18</td><td>SDSS_g</td></tr>\n",
       "<tr><td>119</td><td>53521.4</td><td>4.14572e-16</td><td>8.400369e-18</td><td>SDSS_g</td></tr>\n",
       "<tr><td>120</td><td>53529.5</td><td>2.214114e-16</td><td>3.058912e-18</td><td>SDSS_g</td></tr>\n",
       "<tr><td>121</td><td>53530.5</td><td>2.108628e-16</td><td>4.078448e-18</td><td>SDSS_g</td></tr>\n",
       "<tr><td>122</td><td>53467.7</td><td>1.256609e-16</td><td>1.736069e-18</td><td>SDSS_i</td></tr>\n",
       "<tr><td>123</td><td>53468.6</td><td>1.306171e-16</td><td>2.045147e-18</td><td>SDSS_i</td></tr>\n",
       "<tr><td>124</td><td>53472.6</td><td>1.798043e-16</td><td>2.484088e-18</td><td>SDSS_i</td></tr>\n",
       "<tr><td>125</td><td>53473.6</td><td>1.93019e-16</td><td>2.666656e-18</td><td>SDSS_i</td></tr>\n",
       "<tr><td>126</td><td>53474.6</td><td>2.032357e-16</td><td>2.807805e-18</td><td>SDSS_i</td></tr>\n",
       "<tr><td>127</td><td>53475.6</td><td>2.118361e-16</td><td>2.926624e-18</td><td>SDSS_i</td></tr>\n",
       "<tr><td>128</td><td>53476.6</td><td>2.12618e-16</td><td>2.937426e-18</td><td>SDSS_i</td></tr>\n",
       "<tr><td>129</td><td>53477.6</td><td>2.253201e-16</td><td>3.112913e-18</td><td>SDSS_i</td></tr>\n",
       "<tr><td>130</td><td>53478.6</td><td>2.299323e-16</td><td>3.176632e-18</td><td>SDSS_i</td></tr>\n",
       "<tr><td>131</td><td>53479.5</td><td>2.438934e-16</td><td>3.369511e-18</td><td>SDSS_i</td></tr>\n",
       "<tr><td>132</td><td>53480.5</td><td>2.516518e-16</td><td>3.476698e-18</td><td>SDSS_i</td></tr>\n",
       "<tr><td>133</td><td>53481.5</td><td>2.613365e-16</td><td>3.610497e-18</td><td>SDSS_i</td></tr>\n",
       "<tr><td>134</td><td>53482.5</td><td>2.873426e-16</td><td>5.293046e-18</td><td>SDSS_i</td></tr>\n",
       "<tr><td>135</td><td>53483.5</td><td>2.878724e-16</td><td>3.977104e-18</td><td>SDSS_i</td></tr>\n",
       "<tr><td>136</td><td>53484.6</td><td>3.059145e-16</td><td>4.226364e-18</td><td>SDSS_i</td></tr>\n",
       "<tr><td>137</td><td>53489.5</td><td>4.168694e-16</td><td>5.759263e-18</td><td>SDSS_i</td></tr>\n",
       "<tr><td>138</td><td>53490.5</td><td>4.397441e-16</td><td>6.075289e-18</td><td>SDSS_i</td></tr>\n",
       "<tr><td>139</td><td>53491.5</td><td>4.575094e-16</td><td>7.163489e-18</td><td>SDSS_i</td></tr>\n",
       "<tr><td>140</td><td>53508.7</td><td>5.770321e-16</td><td>7.971994e-18</td><td>SDSS_i</td></tr>\n",
       "<tr><td>141</td><td>53509.5</td><td>5.749102e-16</td><td>7.942678e-18</td><td>SDSS_i</td></tr>\n",
       "<tr><td>142</td><td>53510.5</td><td>5.638973e-16</td><td>7.790529e-18</td><td>SDSS_i</td></tr>\n",
       "<tr><td>143</td><td>53511.5</td><td>5.49035e-16</td><td>7.585198e-18</td><td>SDSS_i</td></tr>\n",
       "<tr><td>144</td><td>53512.7</td><td>5.520774e-16</td><td>7.627232e-18</td><td>SDSS_i</td></tr>\n",
       "<tr><td>145</td><td>53513.5</td><td>5.277157e-16</td><td>7.290662e-18</td><td>SDSS_i</td></tr>\n",
       "<tr><td>146</td><td>53522.4</td><td>3.538344e-16</td><td>4.888402e-18</td><td>SDSS_i</td></tr>\n",
       "<tr><td>147</td><td>53523.5</td><td>3.24489e-16</td><td>4.482981e-18</td><td>SDSS_i</td></tr>\n",
       "<tr><td>148</td><td>53524.4</td><td>3.078931e-16</td><td>7.656661e-18</td><td>SDSS_i</td></tr>\n",
       "<tr><td>149</td><td>53525.4</td><td>2.934945e-16</td><td>4.054777e-18</td><td>SDSS_i</td></tr>\n",
       "<tr><td>150</td><td>53526.4</td><td>2.741574e-16</td><td>3.787625e-18</td><td>SDSS_i</td></tr>\n",
       "<tr><td>151</td><td>53527.5</td><td>2.472863e-16</td><td>3.416386e-18</td><td>SDSS_i</td></tr>\n",
       "<tr><td>152</td><td>53565.5</td><td>6.798295e-17</td><td>1.108279e-17</td><td>SDSS_i</td></tr>\n",
       "<tr><td>153</td><td>53471.23685</td><td>1.620317e-16</td><td>4.477101e-18</td><td>SDSS_i</td></tr>\n",
       "<tr><td>154</td><td>53473.2046</td><td>1.85012e-16</td><td>5.452876e-18</td><td>SDSS_i</td></tr>\n",
       "<tr><td>155</td><td>53473.21801</td><td>1.804679e-16</td><td>4.155427e-18</td><td>SDSS_i</td></tr>\n",
       "<tr><td>156</td><td>53474.203</td><td>1.931968e-16</td><td>3.914699e-18</td><td>SDSS_i</td></tr>\n",
       "<tr><td>157</td><td>53474.21638</td><td>1.924864e-16</td><td>5.495882e-18</td><td>SDSS_i</td></tr>\n",
       "<tr><td>158</td><td>53476.21406</td><td>2.122267e-16</td><td>4.495764e-18</td><td>SDSS_i</td></tr>\n",
       "<tr><td>159</td><td>53477.19134</td><td>2.159733e-16</td><td>4.177293e-18</td><td>SDSS_i</td></tr>\n",
       "<tr><td>160</td><td>53477.20463</td><td>2.108628e-16</td><td>4.27266e-18</td><td>SDSS_i</td></tr>\n",
       "<tr><td>161</td><td>53478.16473</td><td>2.238721e-16</td><td>5.36104e-18</td><td>SDSS_i</td></tr>\n",
       "<tr><td>162</td><td>53482.19482</td><td>2.703958e-16</td><td>7.720357e-18</td><td>SDSS_i</td></tr>\n",
       "<tr><td>163</td><td>53482.20846</td><td>2.679168e-16</td><td>5.181971e-18</td><td>SDSS_i</td></tr>\n",
       "<tr><td>164</td><td>53482.22176</td><td>2.637546e-16</td><td>5.344393e-18</td><td>SDSS_i</td></tr>\n",
       "<tr><td>165</td><td>53482.23517</td><td>2.514201e-16</td><td>6.252295e-18</td><td>SDSS_i</td></tr>\n",
       "<tr><td>166</td><td>53483.27005</td><td>2.964831e-16</td><td>9.011345e-18</td><td>SDSS_i</td></tr>\n",
       "<tr><td>167</td><td>53485.19096</td><td>3.127519e-16</td><td>6.337214e-18</td><td>SDSS_i</td></tr>\n",
       "<tr><td>168</td><td>53485.20829</td><td>2.986758e-16</td><td>4.401449e-18</td><td>SDSS_i</td></tr>\n",
       "<tr><td>169</td><td>53490.24961</td><td>4.226686e-16</td><td>8.564428e-18</td><td>SDSS_i</td></tr>\n",
       "<tr><td>170</td><td>53492.17079</td><td>4.554073e-16</td><td>8.388913e-18</td><td>SDSS_i</td></tr>\n",
       "<tr><td>171</td><td>53492.18781</td><td>4.664445e-16</td><td>7.733003e-18</td><td>SDSS_i</td></tr>\n",
       "<tr><td>172</td><td>53493.14057</td><td>4.884274e-16</td><td>8.547307e-18</td><td>SDSS_i</td></tr>\n",
       "<tr><td>173</td><td>53493.1581</td><td>4.848417e-16</td><td>8.038003e-18</td><td>SDSS_i</td></tr>\n",
       "<tr><td>174</td><td>53494.14999</td><td>5.016491e-16</td><td>8.316645e-18</td><td>SDSS_i</td></tr>\n",
       "<tr><td>175</td><td>53494.16713</td><td>4.970499e-16</td><td>8.240398e-18</td><td>SDSS_i</td></tr>\n",
       "<tr><td>176</td><td>53496.13344</td><td>5.395106e-16</td><td>8.44743e-18</td><td>SDSS_i</td></tr>\n",
       "<tr><td>177</td><td>53496.15813</td><td>5.47016e-16</td><td>9.572586e-18</td><td>SDSS_i</td></tr>\n",
       "<tr><td>178</td><td>53497.14807</td><td>5.31129e-16</td><td>1.22297e-17</td><td>SDSS_i</td></tr>\n",
       "<tr><td>179</td><td>53497.16557</td><td>5.142804e-16</td><td>1.421009e-17</td><td>SDSS_i</td></tr>\n",
       "<tr><td>180</td><td>53498.1387</td><td>5.743809e-16</td><td>1.005146e-17</td><td>SDSS_i</td></tr>\n",
       "<tr><td>181</td><td>53498.15581</td><td>5.665001e-16</td><td>9.391786e-18</td><td>SDSS_i</td></tr>\n",
       "<tr><td>182</td><td>53499.13421</td><td>5.738521e-16</td><td>9.513672e-18</td><td>SDSS_i</td></tr>\n",
       "<tr><td>183</td><td>53499.15132</td><td>5.607897e-16</td><td>9.813621e-18</td><td>SDSS_i</td></tr>\n",
       "<tr><td>184</td><td>53501.15992</td><td>5.915616e-16</td><td>9.807271e-18</td><td>SDSS_i</td></tr>\n",
       "<tr><td>185</td><td>53502.18166</td><td>5.948398e-16</td><td>9.313751e-18</td><td>SDSS_i</td></tr>\n",
       "<tr><td>186</td><td>53503.17784</td><td>5.872189e-16</td><td>9.735274e-18</td><td>SDSS_i</td></tr>\n",
       "<tr><td>187</td><td>53508.17027</td><td>5.791619e-16</td><td>4.267423e-17</td><td>SDSS_i</td></tr>\n",
       "<tr><td>188</td><td>53509.15535</td><td>5.49035e-16</td><td>1.01136e-17</td><td>SDSS_i</td></tr>\n",
       "<tr><td>189</td><td>53510.15199</td><td>5.556483e-16</td><td>9.211878e-18</td><td>SDSS_i</td></tr>\n",
       "<tr><td>190</td><td>53512.15478</td><td>5.238416e-16</td><td>1.109695e-17</td><td>SDSS_i</td></tr>\n",
       "<tr><td>191</td><td>53513.15712</td><td>5.248075e-16</td><td>8.70058e-18</td><td>SDSS_i</td></tr>\n",
       "<tr><td>192</td><td>53513.17425</td><td>5.623413e-16</td><td>1.864568e-17</td><td>SDSS_i</td></tr>\n",
       "<tr><td>193</td><td>53524.14756</td><td>2.815788e-16</td><td>6.483592e-18</td><td>SDSS_i</td></tr>\n",
       "<tr><td>194</td><td>53526.14896</td><td>2.594179e-16</td><td>4.778655e-18</td><td>SDSS_i</td></tr>\n",
       "<tr><td>195</td><td>53459.8</td><td>5.25291e-17</td><td>9.531075e-18</td><td>SDSS_r</td></tr>\n",
       "<tr><td>196</td><td>53466.8</td><td>1.856949e-16</td><td>1.060394e-17</td><td>SDSS_r</td></tr>\n",
       "<tr><td>197</td><td>53467.7</td><td>2.10281e-16</td><td>2.905139e-18</td><td>SDSS_r</td></tr>\n",
       "<tr><td>198</td><td>53468.6</td><td>2.210039e-16</td><td>3.053282e-18</td><td>SDSS_r</td></tr>\n",
       "<tr><td>199</td><td>53472.6</td><td>2.929544e-16</td><td>4.047314e-18</td><td>SDSS_r</td></tr>\n",
       "<tr><td>200</td><td>53473.6</td><td>3.101701e-16</td><td>4.285159e-18</td><td>SDSS_r</td></tr>\n",
       "<tr><td>201</td><td>53474.6</td><td>3.250873e-16</td><td>4.491247e-18</td><td>SDSS_r</td></tr>\n",
       "<tr><td>202</td><td>53475.6</td><td>3.413501e-16</td><td>4.715926e-18</td><td>SDSS_r</td></tr>\n",
       "<tr><td>203</td><td>53475.8</td><td>3.382206e-16</td><td>1.931378e-17</td><td>SDSS_r</td></tr>\n",
       "<tr><td>204</td><td>53476.6</td><td>3.422946e-16</td><td>4.728974e-18</td><td>SDSS_r</td></tr>\n",
       "<tr><td>205</td><td>53476.7</td><td>3.36047e-16</td><td>1.021385e-17</td><td>SDSS_r</td></tr>\n",
       "<tr><td>206</td><td>53477.6</td><td>3.535086e-16</td><td>4.883902e-18</td><td>SDSS_r</td></tr>\n",
       "<tr><td>207</td><td>53478.6</td><td>3.624099e-16</td><td>5.006877e-18</td><td>SDSS_r</td></tr>\n",
       "<tr><td>208</td><td>53479.5</td><td>3.780942e-16</td><td>5.223564e-18</td><td>SDSS_r</td></tr>\n",
       "<tr><td>209</td><td>53480.5</td><td>3.861891e-16</td><td>5.335399e-18</td><td>SDSS_r</td></tr>\n",
       "<tr><td>210</td><td>53481.5</td><td>4.107712e-16</td><td>5.675014e-18</td><td>SDSS_r</td></tr>\n",
       "<tr><td>211</td><td>53482.5</td><td>4.397441e-16</td><td>1.05305e-17</td><td>SDSS_r</td></tr>\n",
       "<tr><td>212</td><td>53483.5</td><td>4.483323e-16</td><td>6.193939e-18</td><td>SDSS_r</td></tr>\n",
       "<tr><td>213</td><td>53484.6</td><td>4.707605e-16</td><td>6.503796e-18</td><td>SDSS_r</td></tr>\n",
       "<tr><td>214</td><td>53489.5</td><td>6.534314e-16</td><td>9.027488e-18</td><td>SDSS_r</td></tr>\n",
       "<tr><td>215</td><td>53490.5</td><td>7.046931e-16</td><td>9.735695e-18</td><td>SDSS_r</td></tr>\n",
       "<tr><td>216</td><td>53491.5</td><td>7.516229e-16</td><td>1.038405e-17</td><td>SDSS_r</td></tr>\n",
       "<tr><td>217</td><td>53497.5</td><td>9.069848e-16</td><td>1.253046e-17</td><td>SDSS_r</td></tr>\n",
       "<tr><td>218</td><td>53508.7</td><td>7.965261e-16</td><td>1.100441e-17</td><td>SDSS_r</td></tr>\n",
       "<tr><td>219</td><td>53509.5</td><td>8.076069e-16</td><td>1.11575e-17</td><td>SDSS_r</td></tr>\n",
       "<tr><td>220</td><td>53510.5</td><td>7.87771e-16</td><td>1.088346e-17</td><td>SDSS_r</td></tr>\n",
       "<tr><td>221</td><td>53511.5</td><td>7.530087e-16</td><td>1.04032e-17</td><td>SDSS_r</td></tr>\n",
       "<tr><td>222</td><td>53512.7</td><td>7.331621e-16</td><td>1.012901e-17</td><td>SDSS_r</td></tr>\n",
       "<tr><td>223</td><td>53513.5</td><td>7.021017e-16</td><td>9.699893e-18</td><td>SDSS_r</td></tr>\n",
       "<tr><td>224</td><td>53522.4</td><td>4.157191e-16</td><td>5.743372e-18</td><td>SDSS_r</td></tr>\n",
       "<tr><td>225</td><td>53523.5</td><td>3.904811e-16</td><td>5.394696e-18</td><td>SDSS_r</td></tr>\n",
       "<tr><td>226</td><td>53524.4</td><td>3.515604e-16</td><td>6.475983e-18</td><td>SDSS_r</td></tr>\n",
       "<tr><td>227</td><td>53525.4</td><td>3.375981e-16</td><td>4.66409e-18</td><td>SDSS_r</td></tr>\n",
       "<tr><td>228</td><td>53526.4</td><td>3.262872e-16</td><td>4.507824e-18</td><td>SDSS_r</td></tr>\n",
       "<tr><td>229</td><td>53527.5</td><td>3.02552e-16</td><td>4.17991e-18</td><td>SDSS_r</td></tr>\n",
       "<tr><td>230</td><td>53565.5</td><td>7.454182e-17</td><td>2.856071e-17</td><td>SDSS_r</td></tr>\n",
       "<tr><td>231</td><td>53471.23516</td><td>2.587021e-16</td><td>5.003743e-18</td><td>SDSS_r</td></tr>\n",
       "<tr><td>232</td><td>53473.2029</td><td>2.849706e-16</td><td>5.511819e-18</td><td>SDSS_r</td></tr>\n",
       "<tr><td>233</td><td>53473.21631</td><td>2.908037e-16</td><td>5.356803e-18</td><td>SDSS_r</td></tr>\n",
       "<tr><td>234</td><td>53474.20131</td><td>2.98951e-16</td><td>4.956193e-18</td><td>SDSS_r</td></tr>\n",
       "<tr><td>235</td><td>53474.2147</td><td>3.053515e-16</td><td>5.062304e-18</td><td>SDSS_r</td></tr>\n",
       "<tr><td>236</td><td>53476.21237</td><td>3.229981e-16</td><td>5.949845e-18</td><td>SDSS_r</td></tr>\n",
       "<tr><td>237</td><td>53477.18966</td><td>3.326596e-16</td><td>5.208643e-18</td><td>SDSS_r</td></tr>\n",
       "<tr><td>238</td><td>53477.20295</td><td>3.317416e-16</td><td>5.194271e-18</td><td>SDSS_r</td></tr>\n",
       "<tr><td>239</td><td>53478.16307</td><td>3.435579e-16</td><td>7.594286e-18</td><td>SDSS_r</td></tr>\n",
       "<tr><td>240</td><td>53482.19314</td><td>4.14572e-16</td><td>8.400369e-18</td><td>SDSS_r</td></tr>\n",
       "<tr><td>241</td><td>53482.20677</td><td>4.199523e-16</td><td>8.122598e-18</td><td>SDSS_r</td></tr>\n",
       "<tr><td>242</td><td>53482.22008</td><td>4.115286e-16</td><td>8.717732e-18</td><td>SDSS_r</td></tr>\n",
       "<tr><td>243</td><td>53482.2335</td><td>4.153364e-16</td><td>7.26824e-18</td><td>SDSS_r</td></tr>\n",
       "<tr><td>244</td><td>53483.26834</td><td>4.545692e-16</td><td>1.465358e-17</td><td>SDSS_r</td></tr>\n",
       "<tr><td>245</td><td>53485.18927</td><td>4.902301e-16</td><td>1.083645e-17</td><td>SDSS_r</td></tr>\n",
       "<tr><td>246</td><td>53485.20661</td><td>4.915866e-16</td><td>9.508127e-18</td><td>SDSS_r</td></tr>\n",
       "<tr><td>247</td><td>53486.2123</td><td>5.214348e-16</td><td>8.644665e-18</td><td>SDSS_r</td></tr>\n",
       "<tr><td>248</td><td>53490.24799</td><td>6.931065e-16</td><td>1.085237e-17</td><td>SDSS_r</td></tr>\n",
       "<tr><td>249</td><td>53492.1691</td><td>7.550922e-16</td><td>1.251838e-17</td><td>SDSS_r</td></tr>\n",
       "<tr><td>250</td><td>53492.18612</td><td>7.67715e-16</td><td>1.272765e-17</td><td>SDSS_r</td></tr>\n",
       "<tr><td>251</td><td>53493.13889</td><td>7.776783e-16</td><td>1.36091e-17</td><td>SDSS_r</td></tr>\n",
       "<tr><td>252</td><td>53493.15641</td><td>7.899507e-16</td><td>1.309629e-17</td><td>SDSS_r</td></tr>\n",
       "<tr><td>253</td><td>53494.14829</td><td>8.08351e-16</td><td>1.265682e-17</td><td>SDSS_r</td></tr>\n",
       "<tr><td>254</td><td>53495.16414</td><td>8.441119e-16</td><td>1.39942e-17</td><td>SDSS_r</td></tr>\n",
       "<tr><td>255</td><td>53496.13176</td><td>8.574326e-16</td><td>1.342532e-17</td><td>SDSS_r</td></tr>\n",
       "<tr><td>256</td><td>53496.15645</td><td>8.677607e-16</td><td>1.438627e-17</td><td>SDSS_r</td></tr>\n",
       "<tr><td>257</td><td>53497.14638</td><td>8.782133e-16</td><td>1.375069e-17</td><td>SDSS_r</td></tr>\n",
       "<tr><td>258</td><td>53497.16389</td><td>8.76597e-16</td><td>1.453276e-17</td><td>SDSS_r</td></tr>\n",
       "<tr><td>259</td><td>53498.13703</td><td>8.928942e-16</td><td>1.398056e-17</td><td>SDSS_r</td></tr>\n",
       "<tr><td>260</td><td>53498.15413</td><td>8.896107e-16</td><td>1.392915e-17</td><td>SDSS_r</td></tr>\n",
       "<tr><td>261</td><td>53499.13255</td><td>8.87156e-16</td><td>1.470782e-17</td><td>SDSS_r</td></tr>\n",
       "<tr><td>262</td><td>53499.14964</td><td>8.87156e-16</td><td>1.470782e-17</td><td>SDSS_r</td></tr>\n",
       "<tr><td>263</td><td>53501.15823</td><td>8.945405e-16</td><td>1.647804e-17</td><td>SDSS_r</td></tr>\n",
       "<tr><td>264</td><td>53502.17997</td><td>8.774048e-16</td><td>1.535427e-17</td><td>SDSS_r</td></tr>\n",
       "<tr><td>265</td><td>53503.17616</td><td>8.598051e-16</td><td>1.346247e-17</td><td>SDSS_r</td></tr>\n",
       "<tr><td>266</td><td>53508.16858</td><td>8.371437e-16</td><td>4.240708e-17</td><td>SDSS_r</td></tr>\n",
       "<tr><td>267</td><td>53509.15366</td><td>7.698392e-16</td><td>1.276287e-17</td><td>SDSS_r</td></tr>\n",
       "<tr><td>268</td><td>53509.17348</td><td>7.863212e-16</td><td>1.593303e-17</td><td>SDSS_r</td></tr>\n",
       "<tr><td>269</td><td>53510.1503</td><td>7.592766e-16</td><td>1.468571e-17</td><td>SDSS_r</td></tr>\n",
       "<tr><td>270</td><td>53511.15421</td><td>7.372249e-16</td><td>1.290118e-17</td><td>SDSS_r</td></tr>\n",
       "<tr><td>271</td><td>53512.15308</td><td>7.184557e-16</td><td>1.455789e-17</td><td>SDSS_r</td></tr>\n",
       "<tr><td>272</td><td>53513.15544</td><td>6.576578e-16</td><td>1.272023e-17</td><td>SDSS_r</td></tr>\n",
       "<tr><td>273</td><td>53513.17255</td><td>6.956648e-16</td><td>1.986266e-17</td><td>SDSS_r</td></tr>\n",
       "<tr><td>274</td><td>53516.15816</td><td>5.802298e-16</td><td>9.084993e-18</td><td>SDSS_r</td></tr>\n",
       "<tr><td>275</td><td>53522.15679</td><td>3.777461e-16</td><td>9.39376e-18</td><td>SDSS_r</td></tr>\n",
       "<tr><td>276</td><td>53522.15723</td><td>4.081314e-16</td><td>8.269864e-18</td><td>SDSS_r</td></tr>\n",
       "<tr><td>277</td><td>53522.1748</td><td>4.047622e-16</td><td>1.006559e-17</td><td>SDSS_r</td></tr>\n",
       "<tr><td>278</td><td>53524.14587</td><td>3.544867e-16</td><td>7.182876e-18</td><td>SDSS_r</td></tr>\n",
       "<tr><td>279</td><td>53526.14727</td><td>3.050703e-16</td><td>5.338623e-18</td><td>SDSS_r</td></tr>\n",
       "<tr><td>280</td><td>53467.7</td><td>2.64972e-16</td><td>3.660724e-18</td><td>V</td></tr>\n",
       "<tr><td>281</td><td>53468.6</td><td>2.82098e-16</td><td>3.897328e-18</td><td>V</td></tr>\n",
       "<tr><td>282</td><td>53472.6</td><td>3.76357e-16</td><td>5.199564e-18</td><td>V</td></tr>\n",
       "<tr><td>283</td><td>53473.6</td><td>3.981072e-16</td><td>5.500054e-18</td><td>V</td></tr>\n",
       "<tr><td>284</td><td>53474.6</td><td>4.191795e-16</td><td>5.791178e-18</td><td>V</td></tr>\n",
       "<tr><td>285</td><td>53475.6</td><td>4.242287e-16</td><td>5.860935e-18</td><td>V</td></tr>\n",
       "<tr><td>286</td><td>53476.6</td><td>4.207266e-16</td><td>5.812553e-18</td><td>V</td></tr>\n",
       "<tr><td>287</td><td>53477.6</td><td>4.14954e-16</td><td>5.732802e-18</td><td>V</td></tr>\n",
       "<tr><td>288</td><td>53478.6</td><td>4.218907e-16</td><td>5.828636e-18</td><td>V</td></tr>\n",
       "<tr><td>289</td><td>53479.5</td><td>4.458615e-16</td><td>6.159805e-18</td><td>V</td></tr>\n",
       "<tr><td>290</td><td>53480.5</td><td>4.59198e-16</td><td>6.344055e-18</td><td>V</td></tr>\n",
       "<tr><td>291</td><td>53481.5</td><td>4.673045e-16</td><td>6.456051e-18</td><td>V</td></tr>\n",
       "<tr><td>292</td><td>53482.5</td><td>4.956784e-16</td><td>1.004381e-17</td><td>V</td></tr>\n",
       "<tr><td>293</td><td>53483.5</td><td>5.233594e-16</td><td>7.230477e-18</td><td>V</td></tr>\n",
       "<tr><td>294</td><td>53484.6</td><td>5.515692e-16</td><td>7.62021e-18</td><td>V</td></tr>\n",
       "<tr><td>295</td><td>53489.5</td><td>7.670082e-16</td><td>1.059661e-17</td><td>V</td></tr>\n",
       "<tr><td>296</td><td>53490.5</td><td>8.30233e-16</td><td>1.147009e-17</td><td>V</td></tr>\n",
       "<tr><td>297</td><td>53491.5</td><td>9.036495e-16</td><td>1.248438e-17</td><td>V</td></tr>\n",
       "<tr><td>298</td><td>53493.5</td><td>9.890084e-16</td><td>1.366366e-17</td><td>V</td></tr>\n",
       "<tr><td>299</td><td>53495.5</td><td>1.040399e-15</td><td>1.437365e-17</td><td>V</td></tr>\n",
       "<tr><td>300</td><td>53496.5</td><td>1.045201e-15</td><td>1.443999e-17</td><td>V</td></tr>\n",
       "<tr><td>301</td><td>53497.5</td><td>1.068563e-15</td><td>1.476274e-17</td><td>V</td></tr>\n",
       "<tr><td>302</td><td>53499.4</td><td>1.084426e-15</td><td>1.49819e-17</td><td>V</td></tr>\n",
       "<tr><td>303</td><td>53500.5</td><td>1.056818e-15</td><td>1.460047e-17</td><td>V</td></tr>\n",
       "<tr><td>304</td><td>53501.5</td><td>1.056818e-15</td><td>1.460047e-17</td><td>V</td></tr>\n",
       "<tr><td>305</td><td>53502.5</td><td>1.034666e-15</td><td>1.429443e-17</td><td>V</td></tr>\n",
       "<tr><td>306</td><td>53503.5</td><td>1.016717e-15</td><td>1.404646e-17</td><td>V</td></tr>\n",
       "<tr><td>307</td><td>53504.5</td><td>1.001844e-15</td><td>1.384098e-17</td><td>V</td></tr>\n",
       "<tr><td>308</td><td>53506.5</td><td>9.541134e-16</td><td>1.318156e-17</td><td>V</td></tr>\n",
       "<tr><td>309</td><td>53508.7</td><td>8.986695e-16</td><td>1.241558e-17</td><td>V</td></tr>\n",
       "<tr><td>310</td><td>53509.5</td><td>8.7579e-16</td><td>1.209949e-17</td><td>V</td></tr>\n",
       "<tr><td>311</td><td>53510.5</td><td>8.425584e-16</td><td>1.319242e-17</td><td>V</td></tr>\n",
       "<tr><td>312</td><td>53511.5</td><td>7.9726e-16</td><td>1.101455e-17</td><td>V</td></tr>\n",
       "<tr><td>313</td><td>53512.7</td><td>7.481695e-16</td><td>1.033634e-17</td><td>V</td></tr>\n",
       "<tr><td>314</td><td>53513.5</td><td>7.171335e-16</td><td>9.907565e-18</td><td>V</td></tr>\n",
       "<tr><td>315</td><td>53516.4</td><td>6.126325e-16</td><td>8.46383e-18</td><td>V</td></tr>\n",
       "<tr><td>316</td><td>53517.4</td><td>5.717419e-16</td><td>7.898906e-18</td><td>V</td></tr>\n",
       "<tr><td>317</td><td>53520.5</td><td>4.583529e-16</td><td>6.33238e-18</td><td>V</td></tr>\n",
       "<tr><td>318</td><td>53521.4</td><td>4.289434e-16</td><td>5.926072e-18</td><td>V</td></tr>\n",
       "<tr><td>319</td><td>53522.4</td><td>3.926449e-16</td><td>6.509508e-18</td><td>V</td></tr>\n",
       "<tr><td>320</td><td>53523.5</td><td>3.56123e-16</td><td>4.920021e-18</td><td>V</td></tr>\n",
       "<tr><td>321</td><td>53524.4</td><td>3.382206e-16</td><td>4.67269e-18</td><td>V</td></tr>\n",
       "<tr><td>322</td><td>53525.4</td><td>3.153552e-16</td><td>7.842228e-18</td><td>V</td></tr>\n",
       "<tr><td>323</td><td>53526.4</td><td>2.862859e-16</td><td>4.746223e-18</td><td>V</td></tr>\n",
       "<tr><td>324</td><td>53527.5</td><td>2.671776e-16</td><td>3.691195e-18</td><td>V</td></tr>\n",
       "<tr><td>325</td><td>53528.5</td><td>2.551526e-16</td><td>3.525063e-18</td><td>V</td></tr>\n",
       "<tr><td>326</td><td>53529.5</td><td>2.4188e-16</td><td>3.341696e-18</td><td>V</td></tr>\n",
       "<tr><td>327</td><td>53530.5</td><td>2.322737e-16</td><td>3.636843e-18</td><td>V</td></tr>\n",
       "<tr><td>328</td><td>53538.5</td><td>1.668784e-16</td><td>2.30551e-18</td><td>V</td></tr>\n",
       "<tr><td>329</td><td>53538.5</td><td>1.656533e-16</td><td>2.288584e-18</td><td>V</td></tr>\n",
       "<tr><td>330</td><td>53539.5</td><td>1.638325e-16</td><td>2.86701e-18</td><td>V</td></tr>\n",
       "<tr><td>331</td><td>53542.5</td><td>1.475027e-16</td><td>2.44539e-18</td><td>V</td></tr>\n",
       "<tr><td>332</td><td>53565.5</td><td>7.331621e-17</td><td>1.485588e-18</td><td>V</td></tr>\n",
       "<tr><td>333</td><td>53569.5</td><td>5.959365e-17</td><td>2.305287e-18</td><td>V</td></tr>\n",
       "<tr><td>334</td><td>53471.23865</td><td>3.372873e-16</td><td>6.834368e-18</td><td>V</td></tr>\n",
       "<tr><td>335</td><td>53472.24146</td><td>3.634126e-16</td><td>6.024877e-18</td><td>V</td></tr>\n",
       "<tr><td>336</td><td>53473.20638</td><td>3.88687e-16</td><td>6.801885e-18</td><td>V</td></tr>\n",
       "<tr><td>337</td><td>53473.2198</td><td>3.770509e-16</td><td>6.598258e-18</td><td>V</td></tr>\n",
       "<tr><td>338</td><td>53474.20478</td><td>3.951846e-16</td><td>6.915591e-18</td><td>V</td></tr>\n",
       "<tr><td>339</td><td>53474.21816</td><td>3.959132e-16</td><td>6.199042e-18</td><td>V</td></tr>\n",
       "<tr><td>340</td><td>53476.21587</td><td>4.325138e-16</td><td>7.568839e-18</td><td>V</td></tr>\n",
       "<tr><td>341</td><td>53477.19315</td><td>4.040173e-16</td><td>5.953819e-18</td><td>V</td></tr>\n",
       "<tr><td>342</td><td>53477.20631</td><td>4.062562e-16</td><td>7.483516e-18</td><td>V</td></tr>\n",
       "<tr><td>343</td><td>53482.19648</td><td>4.759924e-16</td><td>1.008332e-17</td><td>V</td></tr>\n",
       "<tr><td>344</td><td>53482.21025</td><td>4.965923e-16</td><td>1.326397e-17</td><td>V</td></tr>\n",
       "<tr><td>345</td><td>53482.22357</td><td>5.209547e-16</td><td>9.116524e-18</td><td>V</td></tr>\n",
       "<tr><td>346</td><td>53482.23696</td><td>4.970499e-16</td><td>1.09872e-17</td><td>V</td></tr>\n",
       "<tr><td>347</td><td>53483.27183</td><td>5.19996e-16</td><td>1.915736e-17</td><td>V</td></tr>\n",
       "<tr><td>348</td><td>53486.21579</td><td>6.397348e-16</td><td>1.119513e-17</td><td>V</td></tr>\n",
       "<tr><td>349</td><td>53490.23475</td><td>8.487895e-16</td><td>2.267116e-17</td><td>V</td></tr>\n",
       "<tr><td>350</td><td>53490.24553</td><td>8.527073e-16</td><td>1.256596e-17</td><td>V</td></tr>\n",
       "<tr><td>351</td><td>53492.17258</td><td>9.471091e-16</td><td>1.482943e-17</td><td>V</td></tr>\n",
       "<tr><td>352</td><td>53492.18961</td><td>9.63829e-16</td><td>1.597895e-17</td><td>V</td></tr>\n",
       "<tr><td>353</td><td>53493.14235</td><td>9.890084e-16</td><td>1.639639e-17</td><td>V</td></tr>\n",
       "<tr><td>354</td><td>53493.1599</td><td>9.926588e-16</td><td>1.554263e-17</td><td>V</td></tr>\n",
       "<tr><td>355</td><td>53494.15177</td><td>1.010183e-15</td><td>1.581702e-17</td><td>V</td></tr>\n",
       "<tr><td>356</td><td>53494.16891</td><td>1.015781e-15</td><td>1.590467e-17</td><td>V</td></tr>\n",
       "<tr><td>357</td><td>53495.16763</td><td>1.063653e-15</td><td>1.763389e-17</td><td>V</td></tr>\n",
       "<tr><td>358</td><td>53496.13523</td><td>1.070533e-15</td><td>1.676195e-17</td><td>V</td></tr>\n",
       "<tr><td>359</td><td>53496.15994</td><td>1.063653e-15</td><td>1.665423e-17</td><td>V</td></tr>\n",
       "<tr><td>360</td><td>53497.14987</td><td>1.092446e-15</td><td>1.811124e-17</td><td>V</td></tr>\n",
       "<tr><td>361</td><td>53497.16735</td><td>1.085425e-15</td><td>1.699513e-17</td><td>V</td></tr>\n",
       "<tr><td>362</td><td>53498.1405</td><td>1.096478e-15</td><td>2.221766e-17</td><td>V</td></tr>\n",
       "<tr><td>363</td><td>53498.15759</td><td>1.097489e-15</td><td>1.718401e-17</td><td>V</td></tr>\n",
       "<tr><td>364</td><td>53499.13601</td><td>1.079444e-15</td><td>1.690147e-17</td><td>V</td></tr>\n",
       "<tr><td>365</td><td>53499.1531</td><td>1.104587e-15</td><td>1.831252e-17</td><td>V</td></tr>\n",
       "<tr><td>366</td><td>53501.15575</td><td>1.071519e-15</td><td>1.77643e-17</td><td>V</td></tr>\n",
       "<tr><td>367</td><td>53502.17749</td><td>1.050026e-15</td><td>1.644086e-17</td><td>V</td></tr>\n",
       "<tr><td>368</td><td>53503.17371</td><td>1.02141e-15</td><td>1.505205e-17</td><td>V</td></tr>\n",
       "<tr><td>369</td><td>53509.15714</td><td>8.495716e-16</td><td>1.330223e-17</td><td>V</td></tr>\n",
       "<tr><td>370</td><td>53509.17698</td><td>8.798325e-16</td><td>1.539676e-17</td><td>V</td></tr>\n",
       "<tr><td>371</td><td>53510.1538</td><td>8.30998e-16</td><td>1.607293e-17</td><td>V</td></tr>\n",
       "<tr><td>372</td><td>53511.15766</td><td>8.061206e-16</td><td>1.633422e-17</td><td>V</td></tr>\n",
       "<tr><td>373</td><td>53512.15657</td><td>7.769624e-16</td><td>1.574339e-17</td><td>V</td></tr>\n",
       "<tr><td>374</td><td>53516.16166</td><td>5.915616e-16</td><td>9.262423e-18</td><td>V</td></tr>\n",
       "<tr><td>375</td><td>53524.14938</td><td>3.407219e-16</td><td>7.531594e-18</td><td>V</td></tr>\n",
       "<tr><td>376</td><td>53526.15076</td><td>2.779713e-16</td><td>4.8644e-18</td><td>V</td></tr>\n",
       "</table><style>table.dataTable {clear: both; width: auto !important; margin: 0 !important;}\n",
       ".dataTables_info, .dataTables_length, .dataTables_filter, .dataTables_paginate{\n",
       "display: inline-block; margin-right: 1em; }\n",
       ".paginate_button { margin-right: 5px; }\n",
       "</style>\n",
       "<script>\n",
       "require.config({paths: {\n",
       "    datatables: 'https://cdn.datatables.net/1.10.9/js/jquery.dataTables.min'\n",
       "}});\n",
       "require([\"datatables\"], function(){\n",
       "    console.log(\"$('#table4364863952-15670').dataTable()\");\n",
       "    $('#table4364863952-15670').dataTable({\n",
       "        \"order\": [],\n",
       "        \"iDisplayLength\": 50,\n",
       "        \"aLengthMenu\": [[10, 25, 50, 100, 500, 1000, -1], [10, 25, 50, 100, 500, 1000, 'All']],\n",
       "        \"pagingType\": \"full_numbers\"\n",
       "    });\n",
       "});\n",
       "</script>\n"
      ],
      "text/plain": [
       "<IPython.core.display.HTML object>"
      ]
     },
     "execution_count": 238,
     "metadata": {},
     "output_type": "execute_result"
    }
   ],
   "source": [
    "P.phot.show_in_notebook()"
   ]
  },
  {
   "cell_type": "code",
   "execution_count": 239,
   "metadata": {
    "collapsed": false
   },
   "outputs": [
    {
     "data": {
      "image/png": "[encoded data removed]",
      "text/plain": [
       "<matplotlib.figure.Figure at 0x10b1a1f10>"
      ]
     },
     "metadata": {},
     "output_type": "display_data"
    }
   ],
   "source": [
    "P.plot_filters()"
   ]
  }
 ],
 "metadata": {
  "anaconda-cloud": {},
  "kernelspec": {
   "display_name": "Python [default]",
   "language": "python",
   "name": "python2"
  },
  "language_info": {
   "codemirror_mode": {
    "name": "ipython",
    "version": 2
   },
   "file_extension": ".py",
   "mimetype": "text/x-python",
   "name": "python",
   "nbconvert_exporter": "python",
   "pygments_lexer": "ipython2",
   "version": "2.7.12"
  }
 },
 "nbformat": 4,
 "nbformat_minor": 1
}
