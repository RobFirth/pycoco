{
 "cells": [
  {
   "cell_type": "markdown",
   "metadata": {},
   "source": [
    "# Photometry in pycoco\n",
    "\n",
    "---------------------\n",
    "\n",
    "## Introduction\n",
    "This notebook aims to serve as a short tutorial (along with the others in this directory). In this notebook, the tools for adding/testing/plotting photometry in **`pycoco`**, as a companion to the **`c`** code **`CoCo`**.\n",
    "\n",
    "**`CoCo`** takes photometry data in one input phot file. **`pycoco`** can be used to (*hopefully*) easily wrangle your exisiting photometry into the correct format."
   ]
  },
  {
   "cell_type": "code",
   "execution_count": 1,
   "metadata": {},
   "outputs": [
    {
     "data": {
      "text/plain": [
       "<module 'pycoco' from '/Users/bertiepwhite/code/pycoco/pycoco/__init__.py'>"
      ]
     },
     "execution_count": 1,
     "metadata": {},
     "output_type": "execute_result"
    }
   ],
   "source": [
    "from __future__ import print_function ## Force python3-like printing\n",
    "\n",
    "%matplotlib inline\n",
    "from matplotlib import pyplot as plt\n",
    "\n",
    "\n",
    "try:\n",
    "    from importlib import reload\n",
    "except:\n",
    "    pass\n",
    "\n",
    "import os\n",
    "import numpy as np\n",
    "from astropy.table import Table\n",
    "\n",
    "import pycoco as pcc\n",
    "\n",
    "reload(pcc) ## FOR DEV"
   ]
  },
  {
   "cell_type": "markdown",
   "metadata": {},
   "source": [
    "## Using `PhotometryClass`\n",
    "----\n",
    "\n",
    "### `PhotometryClass` methods and variables\n",
    "\n",
    "Photometry in **`pycoco`** is handled using **`PhotometryClass`** which has the methods and variables:\n",
    "\n",
    "**`PhotometryClass.__init__`**\n",
    "\n",
    "**`PhotometryClass._get_data_directory`**\n",
    "\n",
    "**`PhotometryClass._combine_phot`**\n",
    "\n",
    "\n",
    "**`PhotometryClass.set_data_directory`**\n",
    "\n",
    "**`PhotometryClass.load_phot_from_file`**\n",
    "\n",
    "**`PhotometryClass.load_phot_ap_tables`**\n",
    "\n",
    "**`PhotometryClass.load`**\n",
    "\n",
    "**`PhotometryClass.save`**\n",
    "\n",
    "**`PhotometryClass.plot`**\n",
    "\n",
    "**`PhotometryClass.save_phot`**\n",
    "\n",
    "\n",
    "**`PhotometryClass._default_data_dir_path`**"
   ]
  },
  {
   "cell_type": "markdown",
   "metadata": {},
   "source": [
    "----\n",
    "# I/O"
   ]
  },
  {
   "cell_type": "markdown",
   "metadata": {},
   "source": [
    "## File Input\n",
    "----\n",
    "### Input from Files for each Filter\n",
    "\n",
    "You can load in phot files one by one, or you can use the **`PhotometryClass.load_phot_from_files()`** method, to find all of those that match a SN, or you can load in an appropriately formatted file with **`PhotometryClass.load_phot()`**. We will try first the individual phot files formatted `$SNNAME_$FILTERNAME.dat`."
   ]
  },
  {
   "cell_type": "code",
   "execution_count": 2,
   "metadata": {},
   "outputs": [
    {
     "name": "stderr",
     "output_type": "stream",
     "text": [
      "/Users/bertiepwhite/code/pycoco/pycoco/classes.py:1281: UserWarning: Provide a SN name\n",
      "  warnings.warn(\"Provide a SN name\")\n"
     ]
    }
   ],
   "source": [
    "P = pcc.PhotometryClass()\n",
    "\n",
    "P.load_phot_from_files()"
   ]
  },
  {
   "cell_type": "markdown",
   "metadata": {},
   "source": [
    "Oops! We need to provide a SN name!"
   ]
  },
  {
   "cell_type": "code",
   "execution_count": 3,
   "metadata": {},
   "outputs": [
    {
     "name": "stdout",
     "output_type": "stream",
     "text": [
      "searching for ^SN2005bf.*.dat\n",
      "Found: \n",
      "['iPTF13bvn.dat', 'README', 'SN1993J.dat', 'SN1994I.dat', 'SN1996cb.dat', 'SN1998bw.dat', 'SN1999dn.dat', 'SN2002ap.dat', 'SN2003jd.dat', 'SN2004aw.dat', 'SN2005bf.dat', 'SN2005hg.dat', 'SN2006aj.dat', 'SN2007C.dat', 'SN2007gr.dat', 'SN2007uy.dat', 'SN2007Y.dat', 'SN2008ax.dat', 'SN2008bo.dat', 'SN2008D.dat', 'SN2009bb.dat', 'SN2009er.dat', 'SN2009iz.dat', 'SN2009jf.dat', 'SN2010al.dat', 'SN2010as.dat', 'SN2011bm.dat', 'SN2011dh.dat', 'SN2011ei.dat', 'SN2011fu.dat', 'SN2012ap.dat', 'SN2013ge.dat']\n",
      "Matched:\n",
      "[]\n"
     ]
    },
    {
     "name": "stderr",
     "output_type": "stream",
     "text": [
      "/Users/bertiepwhite/code/pycoco/pycoco/classes.py:2941: UserWarning: Found /Users/bertiepwhite/code/CoCo/data/lc/SN2005bf.dat - you could just read that in.\n",
      "  warnings.warn(\"Found \" + os.path.join(path,snname + file_type) + \" - you could just read that in.\")\n",
      "/Users/bertiepwhite/code/pycoco/pycoco/classes.py:2950: UserWarning: No matches found.\n",
      "  warnings.warn(\"No matches found.\")\n"
     ]
    },
    {
     "ename": "NameError",
     "evalue": "name 'warning' is not defined",
     "output_type": "error",
     "traceback": [
      "\u001b[0;31m---------------------------------------------------------------------------\u001b[0m",
      "\u001b[0;31mNameError\u001b[0m                                 Traceback (most recent call last)",
      "\u001b[0;32m<ipython-input-3-0c1311503bf9>\u001b[0m in \u001b[0;36m<module>\u001b[0;34m()\u001b[0m\n\u001b[0;32m----> 1\u001b[0;31m \u001b[0mP\u001b[0m\u001b[0;34m.\u001b[0m\u001b[0mload_phot_from_files\u001b[0m\u001b[0;34m(\u001b[0m\u001b[0msnname\u001b[0m \u001b[0;34m=\u001b[0m \u001b[0;34m'SN2005bf'\u001b[0m\u001b[0;34m)\u001b[0m\u001b[0;34m\u001b[0m\u001b[0m\n\u001b[0m",
      "\u001b[0;32m/Users/bertiepwhite/code/pycoco/pycoco/classes.py\u001b[0m in \u001b[0;36mload_phot_from_files\u001b[0;34m(self, path, snname, prefix, file_type, names, format, filter_file_type, verbose)\u001b[0m\n\u001b[1;32m   1277\u001b[0m                 \u001b[0mself\u001b[0m\u001b[0;34m.\u001b[0m\u001b[0m_sort_phot\u001b[0m\u001b[0;34m(\u001b[0m\u001b[0;34m)\u001b[0m\u001b[0;34m\u001b[0m\u001b[0m\n\u001b[1;32m   1278\u001b[0m             \u001b[0;32melse\u001b[0m\u001b[0;34m:\u001b[0m\u001b[0;34m\u001b[0m\u001b[0m\n\u001b[0;32m-> 1279\u001b[0;31m                 \u001b[0mwarning\u001b[0m\u001b[0;34m.\u001b[0m\u001b[0mwarn\u001b[0m\u001b[0;34m(\u001b[0m\u001b[0;34m\"Couldn't find any photometry\"\u001b[0m\u001b[0;34m)\u001b[0m\u001b[0;34m\u001b[0m\u001b[0m\n\u001b[0m\u001b[1;32m   1280\u001b[0m         \u001b[0;32melse\u001b[0m\u001b[0;34m:\u001b[0m\u001b[0;34m\u001b[0m\u001b[0m\n\u001b[1;32m   1281\u001b[0m             \u001b[0mwarnings\u001b[0m\u001b[0;34m.\u001b[0m\u001b[0mwarn\u001b[0m\u001b[0;34m(\u001b[0m\u001b[0;34m\"Provide a SN name\"\u001b[0m\u001b[0;34m)\u001b[0m\u001b[0;34m\u001b[0m\u001b[0m\n",
      "\u001b[0;31mNameError\u001b[0m: name 'warning' is not defined"
     ]
    }
   ],
   "source": [
    "P.load_phot_from_files(snname = 'SN2005bf')"
   ]
  },
  {
   "cell_type": "markdown",
   "metadata": {},
   "source": [
    "The operation has run with `verbose = True`, so it has spat out quite a bit of information. Namely, it found 6 files in the (default) data directory. \n",
    "5 of these matched the specified SN name (SN2005bf). The full filepaths of these was printed as the files were iterated over and loaded in to **`astropy`** tables. The filters from the file data and file names are printed, and all seem to match.\n",
    "\n",
    "if a warning raised, it is because a file matching the naming convention ($SNNAME.dat) of correctly formatted datafile was found, and that might be easier to deal with!\n",
    "\n",
    "All of the individual filter files are read into tables, and unpacked into a combined phot instance. The equivalent operation for a photfile containing all of the photometry is:"
   ]
  },
  {
   "cell_type": "code",
   "execution_count": 1,
   "metadata": {},
   "outputs": [
    {
     "ename": "NameError",
     "evalue": "name 'pcc' is not defined",
     "output_type": "error",
     "traceback": [
      "\u001b[0;31m---------------------------------------------------------------------------\u001b[0m",
      "\u001b[0;31mNameError\u001b[0m                                 Traceback (most recent call last)",
      "\u001b[0;32m<ipython-input-1-6d1e498bf1a6>\u001b[0m in \u001b[0;36m<module>\u001b[0;34m()\u001b[0m\n\u001b[0;32m----> 1\u001b[0;31m \u001b[0mP\u001b[0m \u001b[0;34m=\u001b[0m \u001b[0mpcc\u001b[0m\u001b[0;34m.\u001b[0m\u001b[0mPhotometryClass\u001b[0m\u001b[0;34m(\u001b[0m\u001b[0;34m)\u001b[0m\u001b[0;34m\u001b[0m\u001b[0m\n\u001b[0m\u001b[1;32m      2\u001b[0m \u001b[0;34m\u001b[0m\u001b[0m\n\u001b[1;32m      3\u001b[0m \u001b[0mphot_path\u001b[0m \u001b[0;34m=\u001b[0m \u001b[0mos\u001b[0m\u001b[0;34m.\u001b[0m\u001b[0mpath\u001b[0m\u001b[0;34m.\u001b[0m\u001b[0mjoin\u001b[0m\u001b[0;34m(\u001b[0m\u001b[0mpcc\u001b[0m\u001b[0;34m.\u001b[0m\u001b[0m_default_data_dir_path\u001b[0m\u001b[0;34m,\u001b[0m\u001b[0;34m\"lc/SN2005bf.dat\"\u001b[0m\u001b[0;34m)\u001b[0m\u001b[0;34m\u001b[0m\u001b[0m\n\u001b[1;32m      4\u001b[0m \u001b[0mP\u001b[0m\u001b[0;34m.\u001b[0m\u001b[0mload\u001b[0m\u001b[0;34m(\u001b[0m\u001b[0mphot_path\u001b[0m\u001b[0;34m)\u001b[0m\u001b[0;34m\u001b[0m\u001b[0m\n",
      "\u001b[0;31mNameError\u001b[0m: name 'pcc' is not defined"
     ]
    }
   ],
   "source": [
    "P = pcc.PhotometryClass()\n",
    "\n",
    "phot_path = os.path.join(pcc._default_data_dir_path,\"lc/SN2005bf.dat\")\n",
    "P.load(phot_path)"
   ]
  },
  {
   "cell_type": "markdown",
   "metadata": {},
   "source": [
    "Let's take a look at what is now in our **`PhotometryClass`** instance:"
   ]
  },
  {
   "cell_type": "code",
   "execution_count": 2,
   "metadata": {},
   "outputs": [
    {
     "ename": "NameError",
     "evalue": "name 'P' is not defined",
     "output_type": "error",
     "traceback": [
      "\u001b[0;31m---------------------------------------------------------------------------\u001b[0m",
      "\u001b[0;31mNameError\u001b[0m                                 Traceback (most recent call last)",
      "\u001b[0;32m<ipython-input-2-b357e9505fe9>\u001b[0m in \u001b[0;36m<module>\u001b[0;34m()\u001b[0m\n\u001b[0;32m----> 1\u001b[0;31m \u001b[0mP\u001b[0m\u001b[0;34m.\u001b[0m\u001b[0m__dict__\u001b[0m\u001b[0;34m.\u001b[0m\u001b[0mkeys\u001b[0m\u001b[0;34m(\u001b[0m\u001b[0;34m)\u001b[0m\u001b[0;34m\u001b[0m\u001b[0m\n\u001b[0m",
      "\u001b[0;31mNameError\u001b[0m: name 'P' is not defined"
     ]
    }
   ],
   "source": [
    "P.__dict__.keys()"
   ]
  },
  {
   "cell_type": "markdown",
   "metadata": {},
   "source": [
    "Let's look at the data that was loaded in:"
   ]
  },
  {
   "cell_type": "code",
   "execution_count": 6,
   "metadata": {},
   "outputs": [
    {
     "data": {
      "text/plain": [
       "odict_keys(['BessellB', 'SDSS_g', 'BessellV', 'SDSS_r', 'SDSS_i'])"
      ]
     },
     "execution_count": 6,
     "metadata": {},
     "output_type": "execute_result"
    }
   ],
   "source": [
    "P.data.keys()"
   ]
  },
  {
   "cell_type": "code",
   "execution_count": 7,
   "metadata": {
    "scrolled": false
   },
   "outputs": [
    {
     "data": {
      "text/html": [
       "&lt;Table length=86&gt;\n",
       "<table id=\"table4624379744-896645\" class=\"table-striped table-bordered table-condensed\">\n",
       "<thead><tr><th>idx</th><th>MJD</th><th>flux</th><th>flux_err</th><th>filter</th></tr></thead>\n",
       "<thead><tr><th></th><th>d</th><th>erg / (Angstrom cm2 s)</th><th>erg / (Angstrom cm2 s)</th><th></th></tr></thead>\n",
       "<tr><td>0</td><td>53467.7</td><td>3.73938e-16</td><td>5.51056e-18</td><td>BessellB</td></tr>\n",
       "<tr><td>1</td><td>53468.6</td><td>4.11908e-16</td><td>6.0701e-18</td><td>BessellB</td></tr>\n",
       "<tr><td>2</td><td>53471.24492</td><td>5.34072e-16</td><td>9.83797e-18</td><td>BessellB</td></tr>\n",
       "<tr><td>3</td><td>53472.24774</td><td>5.79162e-16</td><td>1.01351e-17</td><td>BessellB</td></tr>\n",
       "<tr><td>4</td><td>53472.6</td><td>5.61306e-16</td><td>8.27172e-18</td><td>BessellB</td></tr>\n",
       "<tr><td>5</td><td>53473.21264</td><td>5.98136e-16</td><td>1.10181e-17</td><td>BessellB</td></tr>\n",
       "<tr><td>6</td><td>53473.22608</td><td>6.04784e-16</td><td>1.11405e-17</td><td>BessellB</td></tr>\n",
       "<tr><td>7</td><td>53473.6</td><td>5.87219e-16</td><td>8.65358e-18</td><td>BessellB</td></tr>\n",
       "<tr><td>8</td><td>53474.21104</td><td>6.17163e-16</td><td>1.08001e-17</td><td>BessellB</td></tr>\n",
       "<tr><td>9</td><td>53474.22442</td><td>5.97585e-16</td><td>1.04575e-17</td><td>BessellB</td></tr>\n",
       "<tr><td>10</td><td>53474.6</td><td>5.95388e-16</td><td>8.77396e-18</td><td>BessellB</td></tr>\n",
       "<tr><td>11</td><td>53475.6</td><td>5.99791e-16</td><td>8.83885e-18</td><td>BessellB</td></tr>\n",
       "<tr><td>12</td><td>53476.22215</td><td>5.89929e-16</td><td>1.14102e-17</td><td>BessellB</td></tr>\n",
       "<tr><td>13</td><td>53476.6</td><td>5.76501e-16</td><td>8.49563e-18</td><td>BessellB</td></tr>\n",
       "<tr><td>14</td><td>53477.19942</td><td>5.55648e-16</td><td>1.02354e-17</td><td>BessellB</td></tr>\n",
       "<tr><td>15</td><td>53477.21258</td><td>5.67022e-16</td><td>1.09672e-17</td><td>BessellB</td></tr>\n",
       "<tr><td>16</td><td>53477.6</td><td>5.55137e-16</td><td>8.1808e-18</td><td>BessellB</td></tr>\n",
       "<tr><td>17</td><td>53478.6</td><td>5.33089e-16</td><td>7.85589e-18</td><td>BessellB</td></tr>\n",
       "<tr><td>18</td><td>53479.5</td><td>5.40008e-16</td><td>7.95785e-18</td><td>BessellB</td></tr>\n",
       "<tr><td>19</td><td>53480.5</td><td>5.425e-16</td><td>7.99458e-18</td><td>BessellB</td></tr>\n",
       "<tr><td>20</td><td>53481.5</td><td>5.4752e-16</td><td>8.06855e-18</td><td>BessellB</td></tr>\n",
       "<tr><td>21</td><td>53482.5</td><td>5.79696e-16</td><td>1.3348e-17</td><td>BessellB</td></tr>\n",
       "<tr><td>22</td><td>53483.5</td><td>6.17732e-16</td><td>9.10323e-18</td><td>BessellB</td></tr>\n",
       "<tr><td>23</td><td>53484.6</td><td>6.35038e-16</td><td>9.35827e-18</td><td>BessellB</td></tr>\n",
       "<tr><td>24</td><td>53489.5</td><td>9.77237e-16</td><td>1.44011e-17</td><td>BessellB</td></tr>\n",
       "<tr><td>25</td><td>53490.25125</td><td>1.13868e-15</td><td>1.99264e-17</td><td>BessellB</td></tr>\n",
       "<tr><td>26</td><td>53490.5</td><td>1.09044e-15</td><td>1.60693e-17</td><td>BessellB</td></tr>\n",
       "<tr><td>27</td><td>53491.5</td><td>1.20226e-15</td><td>1.77172e-17</td><td>BessellB</td></tr>\n",
       "<tr><td>28</td><td>53492.1826</td><td>1.26824e-15</td><td>1.98575e-17</td><td>BessellB</td></tr>\n",
       "<tr><td>29</td><td>53492.19964</td><td>1.27292e-15</td><td>2.11032e-17</td><td>BessellB</td></tr>\n",
       "<tr><td>30</td><td>53493.15237</td><td>1.33536e-15</td><td>2.21385e-17</td><td>BessellB</td></tr>\n",
       "<tr><td>31</td><td>53493.1699</td><td>1.34772e-15</td><td>2.23433e-17</td><td>BessellB</td></tr>\n",
       "<tr><td>32</td><td>53493.5</td><td>1.34772e-15</td><td>3.10324e-17</td><td>BessellB</td></tr>\n",
       "<tr><td>33</td><td>53494.16177</td><td>1.36396e-15</td><td>2.13562e-17</td><td>BessellB</td></tr>\n",
       "<tr><td>34</td><td>53494.17895</td><td>1.37911e-15</td><td>2.15936e-17</td><td>BessellB</td></tr>\n",
       "<tr><td>35</td><td>53495.16038</td><td>1.42824e-15</td><td>2.49936e-17</td><td>BessellB</td></tr>\n",
       "<tr><td>36</td><td>53495.5</td><td>1.40475e-15</td><td>2.07012e-17</td><td>BessellB</td></tr>\n",
       "<tr><td>37</td><td>53496.16993</td><td>1.44278e-15</td><td>2.39193e-17</td><td>BessellB</td></tr>\n",
       "<tr><td>38</td><td>53496.5</td><td>1.44411e-15</td><td>2.12812e-17</td><td>BessellB</td></tr>\n",
       "<tr><td>39</td><td>53497.15987</td><td>1.47231e-15</td><td>2.44089e-17</td><td>BessellB</td></tr>\n",
       "<tr><td>40</td><td>53497.17735</td><td>1.47639e-15</td><td>2.58362e-17</td><td>BessellB</td></tr>\n",
       "<tr><td>41</td><td>53497.5</td><td>1.48047e-15</td><td>2.1817e-17</td><td>BessellB</td></tr>\n",
       "<tr><td>42</td><td>53498.15053</td><td>1.47911e-15</td><td>2.31593e-17</td><td>BessellB</td></tr>\n",
       "<tr><td>43</td><td>53498.16762</td><td>1.4642e-15</td><td>2.42744e-17</td><td>BessellB</td></tr>\n",
       "<tr><td>44</td><td>53499.14599</td><td>1.44411e-15</td><td>2.26112e-17</td><td>BessellB</td></tr>\n",
       "<tr><td>45</td><td>53499.1631</td><td>1.44811e-15</td><td>2.40076e-17</td><td>BessellB</td></tr>\n",
       "<tr><td>46</td><td>53499.4</td><td>1.43615e-15</td><td>2.11639e-17</td><td>BessellB</td></tr>\n",
       "<tr><td>47</td><td>53500.5</td><td>1.41906e-15</td><td>2.0912e-17</td><td>BessellB</td></tr>\n",
       "<tr><td>48</td><td>53501.5</td><td>1.34524e-15</td><td>1.98242e-17</td><td>BessellB</td></tr>\n",
       "<tr><td>49</td><td>53502.5</td><td>1.31099e-15</td><td>1.93195e-17</td><td>BessellB</td></tr>\n",
       "<tr><td>50</td><td>53503.1796</td><td>1.24968e-15</td><td>2.0718e-17</td><td>BessellB</td></tr>\n",
       "<tr><td>51</td><td>53503.5</td><td>1.25661e-15</td><td>1.85181e-17</td><td>BessellB</td></tr>\n",
       "<tr><td>52</td><td>53504.5</td><td>1.19674e-15</td><td>1.76358e-17</td><td>BessellB</td></tr>\n",
       "<tr><td>53</td><td>53506.5</td><td>1.06463e-15</td><td>1.5689e-17</td><td>BessellB</td></tr>\n",
       "<tr><td>54</td><td>53508.7</td><td>9.47109e-16</td><td>1.39571e-17</td><td>BessellB</td></tr>\n",
       "<tr><td>55</td><td>53509.16714</td><td>8.48008e-16</td><td>6.48267e-17</td><td>BessellB</td></tr>\n",
       "<tr><td>56</td><td>53509.5</td><td>8.89611e-16</td><td>1.31098e-17</td><td>BessellB</td></tr>\n",
       "<tr><td>57</td><td>53510.16382</td><td>8.3253e-16</td><td>1.68694e-17</td><td>BessellB</td></tr>\n",
       "<tr><td>58</td><td>53510.5</td><td>8.36373e-16</td><td>1.77175e-17</td><td>BessellB</td></tr>\n",
       "<tr><td>59</td><td>53511.16765</td><td>7.05342e-16</td><td>2.20879e-17</td><td>BessellB</td></tr>\n",
       "<tr><td>60</td><td>53511.5</td><td>7.58578e-16</td><td>1.11788e-17</td><td>BessellB</td></tr>\n",
       "<tr><td>61</td><td>53512.16661</td><td>6.87385e-16</td><td>1.77269e-17</td><td>BessellB</td></tr>\n",
       "<tr><td>62</td><td>53512.7</td><td>6.68036e-16</td><td>1.10751e-17</td><td>BessellB</td></tr>\n",
       "<tr><td>63</td><td>53513.5</td><td>6.62521e-16</td><td>9.76328e-18</td><td>BessellB</td></tr>\n",
       "<tr><td>64</td><td>53516.17168</td><td>4.92947e-16</td><td>8.62639e-18</td><td>BessellB</td></tr>\n",
       "<tr><td>65</td><td>53516.4</td><td>5.05825e-16</td><td>7.45411e-18</td><td>BessellB</td></tr>\n",
       "<tr><td>66</td><td>53517.4</td><td>4.49159e-16</td><td>6.61905e-18</td><td>BessellB</td></tr>\n",
       "<tr><td>67</td><td>53520.5</td><td>3.30826e-16</td><td>4.87524e-18</td><td>BessellB</td></tr>\n",
       "<tr><td>68</td><td>53521.4</td><td>3.08745e-16</td><td>4.54984e-18</td><td>BessellB</td></tr>\n",
       "<tr><td>69</td><td>53522.16139</td><td>2.73401e-16</td><td>6.79891e-18</td><td>BessellB</td></tr>\n",
       "<tr><td>70</td><td>53522.4</td><td>2.87078e-16</td><td>6.61022e-18</td><td>BessellB</td></tr>\n",
       "<tr><td>71</td><td>53523.5</td><td>2.54449e-16</td><td>4.2184e-18</td><td>BessellB</td></tr>\n",
       "<tr><td>72</td><td>53524.15944</td><td>2.34423e-16</td><td>5.39779e-18</td><td>BessellB</td></tr>\n",
       "<tr><td>73</td><td>53524.4</td><td>2.26152e-16</td><td>3.54099e-18</td><td>BessellB</td></tr>\n",
       "<tr><td>74</td><td>53525.4</td><td>2.11252e-16</td><td>7.39366e-18</td><td>BessellB</td></tr>\n",
       "<tr><td>75</td><td>53526.16081</td><td>1.87068e-16</td><td>5.34118e-18</td><td>BessellB</td></tr>\n",
       "<tr><td>76</td><td>53526.4</td><td>1.81635e-16</td><td>8.5319e-18</td><td>BessellB</td></tr>\n",
       "<tr><td>77</td><td>53527.5</td><td>1.79639e-16</td><td>2.64725e-18</td><td>BessellB</td></tr>\n",
       "<tr><td>78</td><td>53528.5</td><td>1.77664e-16</td><td>2.61816e-18</td><td>BessellB</td></tr>\n",
       "<tr><td>79</td><td>53529.5</td><td>1.62331e-16</td><td>2.5417e-18</td><td>BessellB</td></tr>\n",
       "<tr><td>80</td><td>53530.5</td><td>1.52195e-16</td><td>2.52318e-18</td><td>BessellB</td></tr>\n",
       "<tr><td>81</td><td>53538.5</td><td>1.03753e-16</td><td>4.10908e-18</td><td>BessellB</td></tr>\n",
       "<tr><td>82</td><td>53538.5</td><td>1.09951e-16</td><td>3.74695e-18</td><td>BessellB</td></tr>\n",
       "<tr><td>83</td><td>53542.5</td><td>8.6856e-17</td><td>5.43982e-18</td><td>BessellB</td></tr>\n",
       "<tr><td>84</td><td>53565.5</td><td>4.87529e-17</td><td>2.82889e-18</td><td>BessellB</td></tr>\n",
       "<tr><td>85</td><td>53569.5</td><td>3.97375e-17</td><td>4.86774e-18</td><td>BessellB</td></tr>\n",
       "</table><style>table.dataTable {clear: both; width: auto !important; margin: 0 !important;}\n",
       ".dataTables_info, .dataTables_length, .dataTables_filter, .dataTables_paginate{\n",
       "display: inline-block; margin-right: 1em; }\n",
       ".paginate_button { margin-right: 5px; }\n",
       "</style>\n",
       "<script>\n",
       "require.config({paths: {\n",
       "    datatables: 'https://cdn.datatables.net/1.10.12/js/jquery.dataTables.min'\n",
       "}});\n",
       "require([\"datatables\"], function(){\n",
       "    console.log(\"$('#table4624379744-896645').dataTable()\");\n",
       "    $('#table4624379744-896645').dataTable({\n",
       "        \"order\": [],\n",
       "        \"iDisplayLength\": 10,\n",
       "        \"aLengthMenu\": [[10, 25, 50, 100, 500, 1000, -1], [10, 25, 50, 100, 500, 1000, 'All']],\n",
       "        \"pagingType\": \"full_numbers\"\n",
       "    });\n",
       "});\n",
       "</script>\n"
      ],
      "text/plain": [
       "<IPython.core.display.HTML object>"
      ]
     },
     "execution_count": 7,
     "metadata": {},
     "output_type": "execute_result"
    }
   ],
   "source": [
    "P.data['BessellB'].show_in_notebook(display_length = 10)"
   ]
  },
  {
   "cell_type": "markdown",
   "metadata": {},
   "source": [
    "This is good - all of the found photometry has been read in. \n",
    "\n",
    "## Input From Astropy Tables\n",
    "----\n",
    "If you have photometry that is already in **`astropy`** tables, then you can load it in using **`PhotometryClass.load_phot_ap_tables()`**. There must be columns labelled `MJD`, `flux`, `flux_err` and `filter`.\n",
    "\n",
    "## Input From Single **`CoCo`**-format file\n",
    "----\n",
    "**`CoCo`** takes as an input, one photometry file, with all of the data inside it. So far, we have used **`pycoco`** to read in several *different* photometry files. \n",
    "\n",
    "The **`CoCo`** standard format is the same columns as the individual ones (`MJD`, `flux`, `flux_err` and `filter`), but all of the photometry is in together. When using  **`PhotometryClass.load_phot_from_files()`**, an **`astropy`** table matching this is generated, and stored in **`PhotometryClass.phot`**. "
   ]
  },
  {
   "cell_type": "code",
   "execution_count": 8,
   "metadata": {
    "scrolled": false
   },
   "outputs": [
    {
     "data": {
      "text/html": [
       "&lt;Table length=377&gt;\n",
       "<table id=\"table4624378232-998422\" class=\"table-striped table-bordered table-condensed\">\n",
       "<thead><tr><th>idx</th><th>MJD</th><th>flux</th><th>flux_err</th><th>filter</th></tr></thead>\n",
       "<thead><tr><th></th><th>d</th><th>erg / (Angstrom cm2 s)</th><th>erg / (Angstrom cm2 s)</th><th></th></tr></thead>\n",
       "<tr><td>0</td><td>53459.8</td><td>5.25291e-17</td><td>9.53107e-18</td><td>SDSS_r</td></tr>\n",
       "<tr><td>1</td><td>53466.8</td><td>1.85695e-16</td><td>1.06039e-17</td><td>SDSS_r</td></tr>\n",
       "<tr><td>2</td><td>53467.7</td><td>3.73938e-16</td><td>5.51056e-18</td><td>BessellB</td></tr>\n",
       "<tr><td>3</td><td>53467.7</td><td>1.25661e-16</td><td>1.73607e-18</td><td>SDSS_i</td></tr>\n",
       "<tr><td>4</td><td>53467.7</td><td>3.65426e-16</td><td>5.04855e-18</td><td>SDSS_g</td></tr>\n",
       "<tr><td>5</td><td>53467.7</td><td>2.10281e-16</td><td>2.90514e-18</td><td>SDSS_r</td></tr>\n",
       "<tr><td>6</td><td>53467.7</td><td>2.64972e-16</td><td>3.66072e-18</td><td>BessellV</td></tr>\n",
       "<tr><td>7</td><td>53468.6</td><td>1.30617e-16</td><td>2.04515e-18</td><td>SDSS_i</td></tr>\n",
       "<tr><td>8</td><td>53468.6</td><td>2.21004e-16</td><td>3.05328e-18</td><td>SDSS_r</td></tr>\n",
       "<tr><td>9</td><td>53468.6</td><td>2.82098e-16</td><td>3.89733e-18</td><td>BessellV</td></tr>\n",
       "<tr><td>10</td><td>53468.6</td><td>4.00682e-16</td><td>5.53563e-18</td><td>SDSS_g</td></tr>\n",
       "<tr><td>11</td><td>53468.6</td><td>4.11908e-16</td><td>6.0701e-18</td><td>BessellB</td></tr>\n",
       "<tr><td>12</td><td>53471.23516</td><td>2.58702e-16</td><td>5.00374e-18</td><td>SDSS_r</td></tr>\n",
       "<tr><td>13</td><td>53471.23685</td><td>1.62032e-16</td><td>4.4771e-18</td><td>SDSS_i</td></tr>\n",
       "<tr><td>14</td><td>53471.23865</td><td>3.37287e-16</td><td>6.83437e-18</td><td>BessellV</td></tr>\n",
       "<tr><td>15</td><td>53471.24492</td><td>5.34072e-16</td><td>9.83797e-18</td><td>BessellB</td></tr>\n",
       "<tr><td>16</td><td>53472.24146</td><td>3.63413e-16</td><td>6.02488e-18</td><td>BessellV</td></tr>\n",
       "<tr><td>17</td><td>53472.24774</td><td>5.79162e-16</td><td>1.01351e-17</td><td>BessellB</td></tr>\n",
       "<tr><td>18</td><td>53472.6</td><td>5.61306e-16</td><td>8.27172e-18</td><td>BessellB</td></tr>\n",
       "<tr><td>19</td><td>53472.6</td><td>5.38022e-16</td><td>7.43305e-18</td><td>SDSS_g</td></tr>\n",
       "<tr><td>20</td><td>53472.6</td><td>2.92954e-16</td><td>4.04731e-18</td><td>SDSS_r</td></tr>\n",
       "<tr><td>21</td><td>53472.6</td><td>3.76357e-16</td><td>5.19956e-18</td><td>BessellV</td></tr>\n",
       "<tr><td>22</td><td>53472.6</td><td>1.79804e-16</td><td>2.48409e-18</td><td>SDSS_i</td></tr>\n",
       "<tr><td>23</td><td>53473.2029</td><td>2.84971e-16</td><td>5.51182e-18</td><td>SDSS_r</td></tr>\n",
       "<tr><td>24</td><td>53473.2046</td><td>1.85012e-16</td><td>5.45288e-18</td><td>SDSS_i</td></tr>\n",
       "<tr><td>25</td><td>53473.20638</td><td>3.88687e-16</td><td>6.80189e-18</td><td>BessellV</td></tr>\n",
       "<tr><td>26</td><td>53473.21264</td><td>5.98136e-16</td><td>1.10181e-17</td><td>BessellB</td></tr>\n",
       "<tr><td>27</td><td>53473.21631</td><td>2.90804e-16</td><td>5.3568e-18</td><td>SDSS_r</td></tr>\n",
       "<tr><td>28</td><td>53473.21801</td><td>1.80468e-16</td><td>4.15543e-18</td><td>SDSS_i</td></tr>\n",
       "<tr><td>29</td><td>53473.2198</td><td>3.77051e-16</td><td>6.59826e-18</td><td>BessellV</td></tr>\n",
       "<tr><td>30</td><td>53473.22608</td><td>6.04784e-16</td><td>1.11405e-17</td><td>BessellB</td></tr>\n",
       "<tr><td>31</td><td>53473.6</td><td>3.1017e-16</td><td>4.28516e-18</td><td>SDSS_r</td></tr>\n",
       "<tr><td>32</td><td>53473.6</td><td>5.70164e-16</td><td>7.87711e-18</td><td>SDSS_g</td></tr>\n",
       "<tr><td>33</td><td>53473.6</td><td>3.98107e-16</td><td>5.50005e-18</td><td>BessellV</td></tr>\n",
       "<tr><td>34</td><td>53473.6</td><td>1.93019e-16</td><td>2.66666e-18</td><td>SDSS_i</td></tr>\n",
       "<tr><td>35</td><td>53473.6</td><td>5.87219e-16</td><td>8.65358e-18</td><td>BessellB</td></tr>\n",
       "<tr><td>36</td><td>53474.20131</td><td>2.98951e-16</td><td>4.95619e-18</td><td>SDSS_r</td></tr>\n",
       "<tr><td>37</td><td>53474.203</td><td>1.93197e-16</td><td>3.9147e-18</td><td>SDSS_i</td></tr>\n",
       "<tr><td>38</td><td>53474.20478</td><td>3.95185e-16</td><td>6.91559e-18</td><td>BessellV</td></tr>\n",
       "<tr><td>39</td><td>53474.21104</td><td>6.17163e-16</td><td>1.08001e-17</td><td>BessellB</td></tr>\n",
       "<tr><td>40</td><td>53474.2147</td><td>3.05351e-16</td><td>5.0623e-18</td><td>SDSS_r</td></tr>\n",
       "<tr><td>41</td><td>53474.21638</td><td>1.92486e-16</td><td>5.49588e-18</td><td>SDSS_i</td></tr>\n",
       "<tr><td>42</td><td>53474.21816</td><td>3.95913e-16</td><td>6.19904e-18</td><td>BessellV</td></tr>\n",
       "<tr><td>43</td><td>53474.22442</td><td>5.97585e-16</td><td>1.04575e-17</td><td>BessellB</td></tr>\n",
       "<tr><td>44</td><td>53474.6</td><td>2.03236e-16</td><td>2.80781e-18</td><td>SDSS_i</td></tr>\n",
       "<tr><td>45</td><td>53474.6</td><td>5.95388e-16</td><td>8.77396e-18</td><td>BessellB</td></tr>\n",
       "<tr><td>46</td><td>53474.6</td><td>3.25087e-16</td><td>4.49125e-18</td><td>SDSS_r</td></tr>\n",
       "<tr><td>47</td><td>53474.6</td><td>5.86138e-16</td><td>8.0978e-18</td><td>SDSS_g</td></tr>\n",
       "<tr><td>48</td><td>53474.6</td><td>4.19179e-16</td><td>5.79118e-18</td><td>BessellV</td></tr>\n",
       "<tr><td>49</td><td>53475.6</td><td>5.99791e-16</td><td>8.83885e-18</td><td>BessellB</td></tr>\n",
       "<tr><td>50</td><td>53475.6</td><td>2.11836e-16</td><td>2.92662e-18</td><td>SDSS_i</td></tr>\n",
       "<tr><td>51</td><td>53475.6</td><td>5.82908e-16</td><td>8.05317e-18</td><td>SDSS_g</td></tr>\n",
       "<tr><td>52</td><td>53475.6</td><td>3.4135e-16</td><td>4.71593e-18</td><td>SDSS_r</td></tr>\n",
       "<tr><td>53</td><td>53475.6</td><td>4.24229e-16</td><td>5.86094e-18</td><td>BessellV</td></tr>\n",
       "<tr><td>54</td><td>53475.8</td><td>3.38221e-16</td><td>1.93138e-17</td><td>SDSS_r</td></tr>\n",
       "<tr><td>55</td><td>53476.21237</td><td>3.22998e-16</td><td>5.94985e-18</td><td>SDSS_r</td></tr>\n",
       "<tr><td>56</td><td>53476.21406</td><td>2.12227e-16</td><td>4.49576e-18</td><td>SDSS_i</td></tr>\n",
       "<tr><td>57</td><td>53476.21587</td><td>4.32514e-16</td><td>7.56884e-18</td><td>BessellV</td></tr>\n",
       "<tr><td>58</td><td>53476.22215</td><td>5.89929e-16</td><td>1.14102e-17</td><td>BessellB</td></tr>\n",
       "<tr><td>59</td><td>53476.6</td><td>2.12618e-16</td><td>2.93743e-18</td><td>SDSS_i</td></tr>\n",
       "<tr><td>60</td><td>53476.6</td><td>5.76501e-16</td><td>8.49563e-18</td><td>BessellB</td></tr>\n",
       "<tr><td>61</td><td>53476.6</td><td>5.69115e-16</td><td>7.86261e-18</td><td>SDSS_g</td></tr>\n",
       "<tr><td>62</td><td>53476.6</td><td>3.42295e-16</td><td>4.72897e-18</td><td>SDSS_r</td></tr>\n",
       "<tr><td>63</td><td>53476.6</td><td>4.20727e-16</td><td>5.81255e-18</td><td>BessellV</td></tr>\n",
       "<tr><td>64</td><td>53476.7</td><td>3.36047e-16</td><td>1.02139e-17</td><td>SDSS_r</td></tr>\n",
       "<tr><td>65</td><td>53477.18966</td><td>3.3266e-16</td><td>5.20864e-18</td><td>SDSS_r</td></tr>\n",
       "<tr><td>66</td><td>53477.19134</td><td>2.15973e-16</td><td>4.17729e-18</td><td>SDSS_i</td></tr>\n",
       "<tr><td>67</td><td>53477.19315</td><td>4.04017e-16</td><td>5.95382e-18</td><td>BessellV</td></tr>\n",
       "<tr><td>68</td><td>53477.19942</td><td>5.55648e-16</td><td>1.02354e-17</td><td>BessellB</td></tr>\n",
       "<tr><td>69</td><td>53477.20295</td><td>3.31742e-16</td><td>5.19427e-18</td><td>SDSS_r</td></tr>\n",
       "<tr><td>70</td><td>53477.20463</td><td>2.10863e-16</td><td>4.27266e-18</td><td>SDSS_i</td></tr>\n",
       "<tr><td>71</td><td>53477.20631</td><td>4.06256e-16</td><td>7.48352e-18</td><td>BessellV</td></tr>\n",
       "<tr><td>72</td><td>53477.21258</td><td>5.67022e-16</td><td>1.09672e-17</td><td>BessellB</td></tr>\n",
       "<tr><td>73</td><td>53477.6</td><td>4.14954e-16</td><td>5.7328e-18</td><td>BessellV</td></tr>\n",
       "<tr><td>74</td><td>53477.6</td><td>5.52077e-16</td><td>7.62723e-18</td><td>SDSS_g</td></tr>\n",
       "<tr><td>75</td><td>53477.6</td><td>5.55137e-16</td><td>8.1808e-18</td><td>BessellB</td></tr>\n",
       "<tr><td>76</td><td>53477.6</td><td>3.53509e-16</td><td>4.8839e-18</td><td>SDSS_r</td></tr>\n",
       "<tr><td>77</td><td>53477.6</td><td>2.2532e-16</td><td>3.11291e-18</td><td>SDSS_i</td></tr>\n",
       "<tr><td>78</td><td>53478.16307</td><td>3.43558e-16</td><td>7.59429e-18</td><td>SDSS_r</td></tr>\n",
       "<tr><td>79</td><td>53478.16473</td><td>2.23872e-16</td><td>5.36104e-18</td><td>SDSS_i</td></tr>\n",
       "<tr><td>80</td><td>53478.6</td><td>5.33089e-16</td><td>7.85589e-18</td><td>BessellB</td></tr>\n",
       "<tr><td>81</td><td>53478.6</td><td>3.6241e-16</td><td>5.00688e-18</td><td>SDSS_r</td></tr>\n",
       "<tr><td>82</td><td>53478.6</td><td>2.29932e-16</td><td>3.17663e-18</td><td>SDSS_i</td></tr>\n",
       "<tr><td>83</td><td>53478.6</td><td>5.46512e-16</td><td>7.55035e-18</td><td>SDSS_g</td></tr>\n",
       "<tr><td>84</td><td>53478.6</td><td>4.21891e-16</td><td>5.82864e-18</td><td>BessellV</td></tr>\n",
       "<tr><td>85</td><td>53479.5</td><td>5.48529e-16</td><td>7.57822e-18</td><td>SDSS_g</td></tr>\n",
       "<tr><td>86</td><td>53479.5</td><td>4.45862e-16</td><td>6.15981e-18</td><td>BessellV</td></tr>\n",
       "<tr><td>87</td><td>53479.5</td><td>3.78094e-16</td><td>5.22356e-18</td><td>SDSS_r</td></tr>\n",
       "<tr><td>88</td><td>53479.5</td><td>2.43893e-16</td><td>3.36951e-18</td><td>SDSS_i</td></tr>\n",
       "<tr><td>89</td><td>53479.5</td><td>5.40008e-16</td><td>7.95785e-18</td><td>BessellB</td></tr>\n",
       "<tr><td>90</td><td>53480.5</td><td>2.51652e-16</td><td>3.4767e-18</td><td>SDSS_i</td></tr>\n",
       "<tr><td>91</td><td>53480.5</td><td>4.59198e-16</td><td>6.34405e-18</td><td>BessellV</td></tr>\n",
       "<tr><td>92</td><td>53480.5</td><td>3.86189e-16</td><td>5.3354e-18</td><td>SDSS_r</td></tr>\n",
       "<tr><td>93</td><td>53480.5</td><td>5.61824e-16</td><td>7.76188e-18</td><td>SDSS_g</td></tr>\n",
       "<tr><td>94</td><td>53480.5</td><td>5.425e-16</td><td>7.99458e-18</td><td>BessellB</td></tr>\n",
       "<tr><td>95</td><td>53481.5</td><td>2.61337e-16</td><td>3.6105e-18</td><td>SDSS_i</td></tr>\n",
       "<tr><td>96</td><td>53481.5</td><td>4.67304e-16</td><td>6.45605e-18</td><td>BessellV</td></tr>\n",
       "<tr><td>97</td><td>53481.5</td><td>4.10771e-16</td><td>5.67501e-18</td><td>SDSS_r</td></tr>\n",
       "<tr><td>98</td><td>53481.5</td><td>5.76501e-16</td><td>7.96465e-18</td><td>SDSS_g</td></tr>\n",
       "<tr><td>99</td><td>53481.5</td><td>5.4752e-16</td><td>8.06855e-18</td><td>BessellB</td></tr>\n",
       "<tr><td>100</td><td>53482.19314</td><td>4.14572e-16</td><td>8.40037e-18</td><td>SDSS_r</td></tr>\n",
       "<tr><td>101</td><td>53482.19482</td><td>2.70396e-16</td><td>7.72036e-18</td><td>SDSS_i</td></tr>\n",
       "<tr><td>102</td><td>53482.19648</td><td>4.75992e-16</td><td>1.00833e-17</td><td>BessellV</td></tr>\n",
       "<tr><td>103</td><td>53482.20677</td><td>4.19952e-16</td><td>8.1226e-18</td><td>SDSS_r</td></tr>\n",
       "<tr><td>104</td><td>53482.20846</td><td>2.67917e-16</td><td>5.18197e-18</td><td>SDSS_i</td></tr>\n",
       "<tr><td>105</td><td>53482.21025</td><td>4.96592e-16</td><td>1.3264e-17</td><td>BessellV</td></tr>\n",
       "<tr><td>106</td><td>53482.22008</td><td>4.11529e-16</td><td>8.71773e-18</td><td>SDSS_r</td></tr>\n",
       "<tr><td>107</td><td>53482.22176</td><td>2.63755e-16</td><td>5.34439e-18</td><td>SDSS_i</td></tr>\n",
       "<tr><td>108</td><td>53482.22357</td><td>5.20955e-16</td><td>9.11652e-18</td><td>BessellV</td></tr>\n",
       "<tr><td>109</td><td>53482.2335</td><td>4.15336e-16</td><td>7.26824e-18</td><td>SDSS_r</td></tr>\n",
       "<tr><td>110</td><td>53482.23517</td><td>2.5142e-16</td><td>6.2523e-18</td><td>SDSS_i</td></tr>\n",
       "<tr><td>111</td><td>53482.23696</td><td>4.9705e-16</td><td>1.09872e-17</td><td>BessellV</td></tr>\n",
       "<tr><td>112</td><td>53482.5</td><td>4.39744e-16</td><td>1.05305e-17</td><td>SDSS_r</td></tr>\n",
       "<tr><td>113</td><td>53482.5</td><td>5.9484e-16</td><td>1.6436e-17</td><td>SDSS_g</td></tr>\n",
       "<tr><td>114</td><td>53482.5</td><td>5.79696e-16</td><td>1.3348e-17</td><td>BessellB</td></tr>\n",
       "<tr><td>115</td><td>53482.5</td><td>2.87343e-16</td><td>5.29305e-18</td><td>SDSS_i</td></tr>\n",
       "<tr><td>116</td><td>53482.5</td><td>4.95678e-16</td><td>1.00438e-17</td><td>BessellV</td></tr>\n",
       "<tr><td>117</td><td>53483.26834</td><td>4.54569e-16</td><td>1.46536e-17</td><td>SDSS_r</td></tr>\n",
       "<tr><td>118</td><td>53483.27005</td><td>2.96483e-16</td><td>9.01135e-18</td><td>SDSS_i</td></tr>\n",
       "<tr><td>119</td><td>53483.27183</td><td>5.19996e-16</td><td>1.91574e-17</td><td>BessellV</td></tr>\n",
       "<tr><td>120</td><td>53483.5</td><td>5.23359e-16</td><td>7.23048e-18</td><td>BessellV</td></tr>\n",
       "<tr><td>121</td><td>53483.5</td><td>2.87872e-16</td><td>3.9771e-18</td><td>SDSS_i</td></tr>\n",
       "<tr><td>122</td><td>53483.5</td><td>6.47441e-16</td><td>8.94472e-18</td><td>SDSS_g</td></tr>\n",
       "<tr><td>123</td><td>53483.5</td><td>6.17732e-16</td><td>9.10323e-18</td><td>BessellB</td></tr>\n",
       "<tr><td>124</td><td>53483.5</td><td>4.48332e-16</td><td>6.19394e-18</td><td>SDSS_r</td></tr>\n",
       "<tr><td>125</td><td>53484.6</td><td>6.35038e-16</td><td>9.35827e-18</td><td>BessellB</td></tr>\n",
       "<tr><td>126</td><td>53484.6</td><td>4.7076e-16</td><td>6.5038e-18</td><td>SDSS_r</td></tr>\n",
       "<tr><td>127</td><td>53484.6</td><td>3.05915e-16</td><td>4.22636e-18</td><td>SDSS_i</td></tr>\n",
       "<tr><td>128</td><td>53484.6</td><td>5.51569e-16</td><td>7.62021e-18</td><td>BessellV</td></tr>\n",
       "<tr><td>129</td><td>53484.6</td><td>6.8171e-16</td><td>9.41818e-18</td><td>SDSS_g</td></tr>\n",
       "<tr><td>130</td><td>53485.18927</td><td>4.9023e-16</td><td>1.08365e-17</td><td>SDSS_r</td></tr>\n",
       "<tr><td>131</td><td>53485.19096</td><td>3.12752e-16</td><td>6.33721e-18</td><td>SDSS_i</td></tr>\n",
       "<tr><td>132</td><td>53485.20661</td><td>4.91587e-16</td><td>9.50813e-18</td><td>SDSS_r</td></tr>\n",
       "<tr><td>133</td><td>53485.20829</td><td>2.98676e-16</td><td>4.40145e-18</td><td>SDSS_i</td></tr>\n",
       "<tr><td>134</td><td>53486.2123</td><td>5.21435e-16</td><td>8.64467e-18</td><td>SDSS_r</td></tr>\n",
       "<tr><td>135</td><td>53486.21579</td><td>6.39735e-16</td><td>1.11951e-17</td><td>BessellV</td></tr>\n",
       "<tr><td>136</td><td>53489.5</td><td>9.77237e-16</td><td>1.44011e-17</td><td>BessellB</td></tr>\n",
       "<tr><td>137</td><td>53489.5</td><td>7.67008e-16</td><td>1.05966e-17</td><td>BessellV</td></tr>\n",
       "<tr><td>138</td><td>53489.5</td><td>4.16869e-16</td><td>5.75926e-18</td><td>SDSS_i</td></tr>\n",
       "<tr><td>139</td><td>53489.5</td><td>6.53431e-16</td><td>9.02749e-18</td><td>SDSS_r</td></tr>\n",
       "<tr><td>140</td><td>53489.5</td><td>9.93574e-16</td><td>1.37267e-17</td><td>SDSS_g</td></tr>\n",
       "<tr><td>141</td><td>53490.23475</td><td>8.4879e-16</td><td>2.26712e-17</td><td>BessellV</td></tr>\n",
       "<tr><td>142</td><td>53490.24553</td><td>8.52707e-16</td><td>1.2566e-17</td><td>BessellV</td></tr>\n",
       "<tr><td>143</td><td>53490.24799</td><td>6.93106e-16</td><td>1.08524e-17</td><td>SDSS_r</td></tr>\n",
       "<tr><td>144</td><td>53490.24961</td><td>4.22669e-16</td><td>8.56443e-18</td><td>SDSS_i</td></tr>\n",
       "<tr><td>145</td><td>53490.25125</td><td>1.13868e-15</td><td>1.99264e-17</td><td>BessellB</td></tr>\n",
       "<tr><td>146</td><td>53490.5</td><td>8.30233e-16</td><td>1.14701e-17</td><td>BessellV</td></tr>\n",
       "<tr><td>147</td><td>53490.5</td><td>4.39744e-16</td><td>6.07529e-18</td><td>SDSS_i</td></tr>\n",
       "<tr><td>148</td><td>53490.5</td><td>1.09044e-15</td><td>1.60693e-17</td><td>BessellB</td></tr>\n",
       "<tr><td>149</td><td>53490.5</td><td>1.10764e-15</td><td>1.53027e-17</td><td>SDSS_g</td></tr>\n",
       "<tr><td>150</td><td>53490.5</td><td>7.04693e-16</td><td>9.7357e-18</td><td>SDSS_r</td></tr>\n",
       "<tr><td>151</td><td>53491.5</td><td>7.51623e-16</td><td>1.0384e-17</td><td>SDSS_r</td></tr>\n",
       "<tr><td>152</td><td>53491.5</td><td>9.0365e-16</td><td>1.24844e-17</td><td>BessellV</td></tr>\n",
       "<tr><td>153</td><td>53491.5</td><td>4.57509e-16</td><td>7.16349e-18</td><td>SDSS_i</td></tr>\n",
       "<tr><td>154</td><td>53491.5</td><td>1.2067e-15</td><td>1.66712e-17</td><td>SDSS_g</td></tr>\n",
       "<tr><td>155</td><td>53491.5</td><td>1.20226e-15</td><td>1.77172e-17</td><td>BessellB</td></tr>\n",
       "<tr><td>156</td><td>53492.1691</td><td>7.55092e-16</td><td>1.25184e-17</td><td>SDSS_r</td></tr>\n",
       "<tr><td>157</td><td>53492.17079</td><td>4.55407e-16</td><td>8.38891e-18</td><td>SDSS_i</td></tr>\n",
       "<tr><td>158</td><td>53492.17258</td><td>9.47109e-16</td><td>1.48294e-17</td><td>BessellV</td></tr>\n",
       "<tr><td>159</td><td>53492.1826</td><td>1.26824e-15</td><td>1.98575e-17</td><td>BessellB</td></tr>\n",
       "<tr><td>160</td><td>53492.18612</td><td>7.67715e-16</td><td>1.27277e-17</td><td>SDSS_r</td></tr>\n",
       "<tr><td>161</td><td>53492.18781</td><td>4.66445e-16</td><td>7.733e-18</td><td>SDSS_i</td></tr>\n",
       "<tr><td>162</td><td>53492.18961</td><td>9.63829e-16</td><td>1.5979e-17</td><td>BessellV</td></tr>\n",
       "<tr><td>163</td><td>53492.19964</td><td>1.27292e-15</td><td>2.11032e-17</td><td>BessellB</td></tr>\n",
       "<tr><td>164</td><td>53493.13889</td><td>7.77678e-16</td><td>1.36091e-17</td><td>SDSS_r</td></tr>\n",
       "<tr><td>165</td><td>53493.14057</td><td>4.88427e-16</td><td>8.54731e-18</td><td>SDSS_i</td></tr>\n",
       "<tr><td>166</td><td>53493.14235</td><td>9.89008e-16</td><td>1.63964e-17</td><td>BessellV</td></tr>\n",
       "<tr><td>167</td><td>53493.15237</td><td>1.33536e-15</td><td>2.21385e-17</td><td>BessellB</td></tr>\n",
       "<tr><td>168</td><td>53493.15641</td><td>7.89951e-16</td><td>1.30963e-17</td><td>SDSS_r</td></tr>\n",
       "<tr><td>169</td><td>53493.1581</td><td>4.84842e-16</td><td>8.038e-18</td><td>SDSS_i</td></tr>\n",
       "<tr><td>170</td><td>53493.1599</td><td>9.92659e-16</td><td>1.55426e-17</td><td>BessellV</td></tr>\n",
       "<tr><td>171</td><td>53493.1699</td><td>1.34772e-15</td><td>2.23433e-17</td><td>BessellB</td></tr>\n",
       "<tr><td>172</td><td>53493.5</td><td>9.89008e-16</td><td>1.36637e-17</td><td>BessellV</td></tr>\n",
       "<tr><td>173</td><td>53493.5</td><td>1.3122e-15</td><td>1.81287e-17</td><td>SDSS_g</td></tr>\n",
       "<tr><td>174</td><td>53493.5</td><td>1.34772e-15</td><td>3.10324e-17</td><td>BessellB</td></tr>\n",
       "<tr><td>175</td><td>53494.14829</td><td>8.08351e-16</td><td>1.26568e-17</td><td>SDSS_r</td></tr>\n",
       "<tr><td>176</td><td>53494.14999</td><td>5.01649e-16</td><td>8.31665e-18</td><td>SDSS_i</td></tr>\n",
       "<tr><td>177</td><td>53494.15177</td><td>1.01018e-15</td><td>1.5817e-17</td><td>BessellV</td></tr>\n",
       "<tr><td>178</td><td>53494.16177</td><td>1.36396e-15</td><td>2.13562e-17</td><td>BessellB</td></tr>\n",
       "<tr><td>179</td><td>53494.16713</td><td>4.9705e-16</td><td>8.2404e-18</td><td>SDSS_i</td></tr>\n",
       "<tr><td>180</td><td>53494.16891</td><td>1.01578e-15</td><td>1.59047e-17</td><td>BessellV</td></tr>\n",
       "<tr><td>181</td><td>53494.17895</td><td>1.37911e-15</td><td>2.15936e-17</td><td>BessellB</td></tr>\n",
       "<tr><td>182</td><td>53495.16038</td><td>1.42824e-15</td><td>2.49936e-17</td><td>BessellB</td></tr>\n",
       "<tr><td>183</td><td>53495.16414</td><td>8.44112e-16</td><td>1.39942e-17</td><td>SDSS_r</td></tr>\n",
       "<tr><td>184</td><td>53495.16763</td><td>1.06365e-15</td><td>1.76339e-17</td><td>BessellV</td></tr>\n",
       "<tr><td>185</td><td>53495.5</td><td>1.40475e-15</td><td>2.07012e-17</td><td>BessellB</td></tr>\n",
       "<tr><td>186</td><td>53495.5</td><td>1.0404e-15</td><td>1.43736e-17</td><td>BessellV</td></tr>\n",
       "<tr><td>187</td><td>53495.5</td><td>1.40605e-15</td><td>1.94253e-17</td><td>SDSS_g</td></tr>\n",
       "<tr><td>188</td><td>53496.13176</td><td>8.57433e-16</td><td>1.34253e-17</td><td>SDSS_r</td></tr>\n",
       "<tr><td>189</td><td>53496.13344</td><td>5.39511e-16</td><td>8.44743e-18</td><td>SDSS_i</td></tr>\n",
       "<tr><td>190</td><td>53496.13523</td><td>1.07053e-15</td><td>1.6762e-17</td><td>BessellV</td></tr>\n",
       "<tr><td>191</td><td>53496.15645</td><td>8.67761e-16</td><td>1.43863e-17</td><td>SDSS_r</td></tr>\n",
       "<tr><td>192</td><td>53496.15813</td><td>5.47016e-16</td><td>9.57259e-18</td><td>SDSS_i</td></tr>\n",
       "<tr><td>193</td><td>53496.15994</td><td>1.06365e-15</td><td>1.66542e-17</td><td>BessellV</td></tr>\n",
       "<tr><td>194</td><td>53496.16993</td><td>1.44278e-15</td><td>2.39193e-17</td><td>BessellB</td></tr>\n",
       "<tr><td>195</td><td>53496.5</td><td>1.0452e-15</td><td>1.444e-17</td><td>BessellV</td></tr>\n",
       "<tr><td>196</td><td>53496.5</td><td>1.44145e-15</td><td>1.99144e-17</td><td>SDSS_g</td></tr>\n",
       "<tr><td>197</td><td>53496.5</td><td>1.44411e-15</td><td>2.12812e-17</td><td>BessellB</td></tr>\n",
       "<tr><td>198</td><td>53497.14638</td><td>8.78213e-16</td><td>1.37507e-17</td><td>SDSS_r</td></tr>\n",
       "<tr><td>199</td><td>53497.14807</td><td>5.31129e-16</td><td>1.22297e-17</td><td>SDSS_i</td></tr>\n",
       "<tr><td>200</td><td>53497.14987</td><td>1.09245e-15</td><td>1.81112e-17</td><td>BessellV</td></tr>\n",
       "<tr><td>201</td><td>53497.15987</td><td>1.47231e-15</td><td>2.44089e-17</td><td>BessellB</td></tr>\n",
       "<tr><td>202</td><td>53497.16389</td><td>8.76597e-16</td><td>1.45328e-17</td><td>SDSS_r</td></tr>\n",
       "<tr><td>203</td><td>53497.16557</td><td>5.1428e-16</td><td>1.42101e-17</td><td>SDSS_i</td></tr>\n",
       "<tr><td>204</td><td>53497.16735</td><td>1.08543e-15</td><td>1.69951e-17</td><td>BessellV</td></tr>\n",
       "<tr><td>205</td><td>53497.17735</td><td>1.47639e-15</td><td>2.58362e-17</td><td>BessellB</td></tr>\n",
       "<tr><td>206</td><td>53497.5</td><td>1.06856e-15</td><td>1.47627e-17</td><td>BessellV</td></tr>\n",
       "<tr><td>207</td><td>53497.5</td><td>9.06985e-16</td><td>1.25305e-17</td><td>SDSS_r</td></tr>\n",
       "<tr><td>208</td><td>53497.5</td><td>1.48047e-15</td><td>2.1817e-17</td><td>BessellB</td></tr>\n",
       "<tr><td>209</td><td>53497.5</td><td>1.45211e-15</td><td>2.00617e-17</td><td>SDSS_g</td></tr>\n",
       "<tr><td>210</td><td>53498.13703</td><td>8.92894e-16</td><td>1.39806e-17</td><td>SDSS_r</td></tr>\n",
       "<tr><td>211</td><td>53498.1387</td><td>5.74381e-16</td><td>1.00515e-17</td><td>SDSS_i</td></tr>\n",
       "<tr><td>212</td><td>53498.1405</td><td>1.09648e-15</td><td>2.22177e-17</td><td>BessellV</td></tr>\n",
       "<tr><td>213</td><td>53498.15053</td><td>1.47911e-15</td><td>2.31593e-17</td><td>BessellB</td></tr>\n",
       "<tr><td>214</td><td>53498.15413</td><td>8.89611e-16</td><td>1.39292e-17</td><td>SDSS_r</td></tr>\n",
       "<tr><td>215</td><td>53498.15581</td><td>5.665e-16</td><td>9.39179e-18</td><td>SDSS_i</td></tr>\n",
       "<tr><td>216</td><td>53498.15759</td><td>1.09749e-15</td><td>1.7184e-17</td><td>BessellV</td></tr>\n",
       "<tr><td>217</td><td>53498.16762</td><td>1.4642e-15</td><td>2.42744e-17</td><td>BessellB</td></tr>\n",
       "<tr><td>218</td><td>53499.13255</td><td>8.87156e-16</td><td>1.47078e-17</td><td>SDSS_r</td></tr>\n",
       "<tr><td>219</td><td>53499.13421</td><td>5.73852e-16</td><td>9.51367e-18</td><td>SDSS_i</td></tr>\n",
       "<tr><td>220</td><td>53499.13601</td><td>1.07944e-15</td><td>1.69015e-17</td><td>BessellV</td></tr>\n",
       "<tr><td>221</td><td>53499.14599</td><td>1.44411e-15</td><td>2.26112e-17</td><td>BessellB</td></tr>\n",
       "<tr><td>222</td><td>53499.14964</td><td>8.87156e-16</td><td>1.47078e-17</td><td>SDSS_r</td></tr>\n",
       "<tr><td>223</td><td>53499.15132</td><td>5.6079e-16</td><td>9.81362e-18</td><td>SDSS_i</td></tr>\n",
       "<tr><td>224</td><td>53499.1531</td><td>1.10459e-15</td><td>1.83125e-17</td><td>BessellV</td></tr>\n",
       "<tr><td>225</td><td>53499.1631</td><td>1.44811e-15</td><td>2.40076e-17</td><td>BessellB</td></tr>\n",
       "<tr><td>226</td><td>53499.4</td><td>1.08443e-15</td><td>1.49819e-17</td><td>BessellV</td></tr>\n",
       "<tr><td>227</td><td>53499.4</td><td>1.44944e-15</td><td>2.00247e-17</td><td>SDSS_g</td></tr>\n",
       "<tr><td>228</td><td>53499.4</td><td>1.43615e-15</td><td>2.11639e-17</td><td>BessellB</td></tr>\n",
       "<tr><td>229</td><td>53500.5</td><td>1.41906e-15</td><td>2.0912e-17</td><td>BessellB</td></tr>\n",
       "<tr><td>230</td><td>53500.5</td><td>1.40475e-15</td><td>1.94074e-17</td><td>SDSS_g</td></tr>\n",
       "<tr><td>231</td><td>53500.5</td><td>1.05682e-15</td><td>1.46005e-17</td><td>BessellV</td></tr>\n",
       "<tr><td>232</td><td>53501.15575</td><td>1.07152e-15</td><td>1.77643e-17</td><td>BessellV</td></tr>\n",
       "<tr><td>233</td><td>53501.15823</td><td>8.94541e-16</td><td>1.6478e-17</td><td>SDSS_r</td></tr>\n",
       "<tr><td>234</td><td>53501.15992</td><td>5.91562e-16</td><td>9.80727e-18</td><td>SDSS_i</td></tr>\n",
       "<tr><td>235</td><td>53501.5</td><td>1.36647e-15</td><td>1.88785e-17</td><td>SDSS_g</td></tr>\n",
       "<tr><td>236</td><td>53501.5</td><td>1.05682e-15</td><td>1.46005e-17</td><td>BessellV</td></tr>\n",
       "<tr><td>237</td><td>53501.5</td><td>1.34524e-15</td><td>1.98242e-17</td><td>BessellB</td></tr>\n",
       "<tr><td>238</td><td>53502.17749</td><td>1.05003e-15</td><td>1.64409e-17</td><td>BessellV</td></tr>\n",
       "<tr><td>239</td><td>53502.17997</td><td>8.77405e-16</td><td>1.53543e-17</td><td>SDSS_r</td></tr>\n",
       "<tr><td>240</td><td>53502.18166</td><td>5.9484e-16</td><td>9.31375e-18</td><td>SDSS_i</td></tr>\n",
       "<tr><td>241</td><td>53502.5</td><td>1.03467e-15</td><td>1.42944e-17</td><td>BessellV</td></tr>\n",
       "<tr><td>242</td><td>53502.5</td><td>1.31099e-15</td><td>1.93195e-17</td><td>BessellB</td></tr>\n",
       "<tr><td>243</td><td>53502.5</td><td>1.33291e-15</td><td>1.84148e-17</td><td>SDSS_g</td></tr>\n",
       "<tr><td>244</td><td>53503.17371</td><td>1.02141e-15</td><td>1.5052e-17</td><td>BessellV</td></tr>\n",
       "<tr><td>245</td><td>53503.17616</td><td>8.59805e-16</td><td>1.34625e-17</td><td>SDSS_r</td></tr>\n",
       "<tr><td>246</td><td>53503.17784</td><td>5.87219e-16</td><td>9.73527e-18</td><td>SDSS_i</td></tr>\n",
       "<tr><td>247</td><td>53503.1796</td><td>1.24968e-15</td><td>2.0718e-17</td><td>BessellB</td></tr>\n",
       "<tr><td>248</td><td>53503.5</td><td>1.01672e-15</td><td>1.40465e-17</td><td>BessellV</td></tr>\n",
       "<tr><td>249</td><td>53503.5</td><td>1.25661e-15</td><td>1.85181e-17</td><td>BessellB</td></tr>\n",
       "<tr><td>250</td><td>53503.5</td><td>1.293e-15</td><td>1.78635e-17</td><td>SDSS_g</td></tr>\n",
       "<tr><td>251</td><td>53504.5</td><td>1.25314e-15</td><td>1.73128e-17</td><td>SDSS_g</td></tr>\n",
       "<tr><td>252</td><td>53504.5</td><td>1.00184e-15</td><td>1.3841e-17</td><td>BessellV</td></tr>\n",
       "<tr><td>253</td><td>53504.5</td><td>1.19674e-15</td><td>1.76358e-17</td><td>BessellB</td></tr>\n",
       "<tr><td>254</td><td>53506.5</td><td>1.1471e-15</td><td>1.58477e-17</td><td>SDSS_g</td></tr>\n",
       "<tr><td>255</td><td>53506.5</td><td>9.54113e-16</td><td>1.31816e-17</td><td>BessellV</td></tr>\n",
       "<tr><td>256</td><td>53506.5</td><td>1.06463e-15</td><td>1.5689e-17</td><td>BessellB</td></tr>\n",
       "<tr><td>257</td><td>53508.16858</td><td>8.37144e-16</td><td>4.24071e-17</td><td>SDSS_r</td></tr>\n",
       "<tr><td>258</td><td>53508.17027</td><td>5.79162e-16</td><td>4.26742e-17</td><td>SDSS_i</td></tr>\n",
       "<tr><td>259</td><td>53508.7</td><td>5.77032e-16</td><td>7.97199e-18</td><td>SDSS_i</td></tr>\n",
       "<tr><td>260</td><td>53508.7</td><td>7.96526e-16</td><td>1.10044e-17</td><td>SDSS_r</td></tr>\n",
       "<tr><td>261</td><td>53508.7</td><td>8.98669e-16</td><td>1.24156e-17</td><td>BessellV</td></tr>\n",
       "<tr><td>262</td><td>53508.7</td><td>9.47109e-16</td><td>1.39571e-17</td><td>BessellB</td></tr>\n",
       "<tr><td>263</td><td>53509.15366</td><td>7.69839e-16</td><td>1.27629e-17</td><td>SDSS_r</td></tr>\n",
       "<tr><td>264</td><td>53509.15535</td><td>5.49035e-16</td><td>1.01136e-17</td><td>SDSS_i</td></tr>\n",
       "<tr><td>265</td><td>53509.15714</td><td>8.49572e-16</td><td>1.33022e-17</td><td>BessellV</td></tr>\n",
       "<tr><td>266</td><td>53509.16714</td><td>8.48008e-16</td><td>6.48267e-17</td><td>BessellB</td></tr>\n",
       "<tr><td>267</td><td>53509.17348</td><td>7.86321e-16</td><td>1.5933e-17</td><td>SDSS_r</td></tr>\n",
       "<tr><td>268</td><td>53509.17698</td><td>8.79832e-16</td><td>1.53968e-17</td><td>BessellV</td></tr>\n",
       "<tr><td>269</td><td>53509.5</td><td>8.89611e-16</td><td>1.31098e-17</td><td>BessellB</td></tr>\n",
       "<tr><td>270</td><td>53509.5</td><td>8.7579e-16</td><td>1.20995e-17</td><td>BessellV</td></tr>\n",
       "<tr><td>271</td><td>53509.5</td><td>5.7491e-16</td><td>7.94268e-18</td><td>SDSS_i</td></tr>\n",
       "<tr><td>272</td><td>53509.5</td><td>8.07607e-16</td><td>1.11575e-17</td><td>SDSS_r</td></tr>\n",
       "<tr><td>273</td><td>53510.1503</td><td>7.59277e-16</td><td>1.46857e-17</td><td>SDSS_r</td></tr>\n",
       "<tr><td>274</td><td>53510.15199</td><td>5.55648e-16</td><td>9.21188e-18</td><td>SDSS_i</td></tr>\n",
       "<tr><td>275</td><td>53510.1538</td><td>8.30998e-16</td><td>1.60729e-17</td><td>BessellV</td></tr>\n",
       "<tr><td>276</td><td>53510.16382</td><td>8.3253e-16</td><td>1.68694e-17</td><td>BessellB</td></tr>\n",
       "<tr><td>277</td><td>53510.5</td><td>8.36373e-16</td><td>1.77175e-17</td><td>BessellB</td></tr>\n",
       "<tr><td>278</td><td>53510.5</td><td>8.42558e-16</td><td>1.31924e-17</td><td>BessellV</td></tr>\n",
       "<tr><td>279</td><td>53510.5</td><td>7.87771e-16</td><td>1.08835e-17</td><td>SDSS_r</td></tr>\n",
       "<tr><td>280</td><td>53510.5</td><td>5.63897e-16</td><td>7.79053e-18</td><td>SDSS_i</td></tr>\n",
       "<tr><td>281</td><td>53511.15421</td><td>7.37225e-16</td><td>1.29012e-17</td><td>SDSS_r</td></tr>\n",
       "<tr><td>282</td><td>53511.15766</td><td>8.06121e-16</td><td>1.63342e-17</td><td>BessellV</td></tr>\n",
       "<tr><td>283</td><td>53511.16765</td><td>7.05342e-16</td><td>2.20879e-17</td><td>BessellB</td></tr>\n",
       "<tr><td>284</td><td>53511.5</td><td>5.49035e-16</td><td>7.5852e-18</td><td>SDSS_i</td></tr>\n",
       "<tr><td>285</td><td>53511.5</td><td>7.58578e-16</td><td>1.11788e-17</td><td>BessellB</td></tr>\n",
       "<tr><td>286</td><td>53511.5</td><td>7.9726e-16</td><td>1.10145e-17</td><td>BessellV</td></tr>\n",
       "<tr><td>287</td><td>53511.5</td><td>7.53009e-16</td><td>1.04032e-17</td><td>SDSS_r</td></tr>\n",
       "<tr><td>288</td><td>53512.15308</td><td>7.18456e-16</td><td>1.45579e-17</td><td>SDSS_r</td></tr>\n",
       "<tr><td>289</td><td>53512.15478</td><td>5.23842e-16</td><td>1.1097e-17</td><td>SDSS_i</td></tr>\n",
       "<tr><td>290</td><td>53512.15657</td><td>7.76962e-16</td><td>1.57434e-17</td><td>BessellV</td></tr>\n",
       "<tr><td>291</td><td>53512.16661</td><td>6.87385e-16</td><td>1.77269e-17</td><td>BessellB</td></tr>\n",
       "<tr><td>292</td><td>53512.7</td><td>6.68036e-16</td><td>1.10751e-17</td><td>BessellB</td></tr>\n",
       "<tr><td>293</td><td>53512.7</td><td>5.52077e-16</td><td>7.62723e-18</td><td>SDSS_i</td></tr>\n",
       "<tr><td>294</td><td>53512.7</td><td>7.48169e-16</td><td>1.03363e-17</td><td>BessellV</td></tr>\n",
       "<tr><td>295</td><td>53512.7</td><td>8.12831e-16</td><td>1.12297e-17</td><td>SDSS_g</td></tr>\n",
       "<tr><td>296</td><td>53512.7</td><td>7.33162e-16</td><td>1.0129e-17</td><td>SDSS_r</td></tr>\n",
       "<tr><td>297</td><td>53513.15544</td><td>6.57658e-16</td><td>1.27202e-17</td><td>SDSS_r</td></tr>\n",
       "<tr><td>298</td><td>53513.15712</td><td>5.24807e-16</td><td>8.70058e-18</td><td>SDSS_i</td></tr>\n",
       "<tr><td>299</td><td>53513.17255</td><td>6.95665e-16</td><td>1.98627e-17</td><td>SDSS_r</td></tr>\n",
       "<tr><td>300</td><td>53513.17425</td><td>5.62341e-16</td><td>1.86457e-17</td><td>SDSS_i</td></tr>\n",
       "<tr><td>301</td><td>53513.5</td><td>5.27716e-16</td><td>7.29066e-18</td><td>SDSS_i</td></tr>\n",
       "<tr><td>302</td><td>53513.5</td><td>7.02102e-16</td><td>9.69989e-18</td><td>SDSS_r</td></tr>\n",
       "<tr><td>303</td><td>53513.5</td><td>6.62521e-16</td><td>9.76328e-18</td><td>BessellB</td></tr>\n",
       "<tr><td>304</td><td>53513.5</td><td>7.17134e-16</td><td>9.90756e-18</td><td>BessellV</td></tr>\n",
       "<tr><td>305</td><td>53516.15816</td><td>5.8023e-16</td><td>9.08499e-18</td><td>SDSS_r</td></tr>\n",
       "<tr><td>306</td><td>53516.16166</td><td>5.91562e-16</td><td>9.26242e-18</td><td>BessellV</td></tr>\n",
       "<tr><td>307</td><td>53516.17168</td><td>4.92947e-16</td><td>8.62639e-18</td><td>BessellB</td></tr>\n",
       "<tr><td>308</td><td>53516.4</td><td>5.05825e-16</td><td>7.45411e-18</td><td>BessellB</td></tr>\n",
       "<tr><td>309</td><td>53516.4</td><td>6.12633e-16</td><td>8.46383e-18</td><td>BessellV</td></tr>\n",
       "<tr><td>310</td><td>53516.4</td><td>6.14894e-16</td><td>8.49507e-18</td><td>SDSS_g</td></tr>\n",
       "<tr><td>311</td><td>53517.4</td><td>5.71742e-16</td><td>7.89891e-18</td><td>BessellV</td></tr>\n",
       "<tr><td>312</td><td>53517.4</td><td>4.49159e-16</td><td>6.61905e-18</td><td>BessellB</td></tr>\n",
       "<tr><td>313</td><td>53517.4</td><td>5.67545e-16</td><td>1.51591e-17</td><td>SDSS_g</td></tr>\n",
       "<tr><td>314</td><td>53520.5</td><td>4.58353e-16</td><td>6.33238e-18</td><td>BessellV</td></tr>\n",
       "<tr><td>315</td><td>53520.5</td><td>3.30826e-16</td><td>4.87524e-18</td><td>BessellB</td></tr>\n",
       "<tr><td>316</td><td>53520.5</td><td>4.35311e-16</td><td>6.01405e-18</td><td>SDSS_g</td></tr>\n",
       "<tr><td>317</td><td>53521.4</td><td>4.14572e-16</td><td>8.40037e-18</td><td>SDSS_g</td></tr>\n",
       "<tr><td>318</td><td>53521.4</td><td>4.28943e-16</td><td>5.92607e-18</td><td>BessellV</td></tr>\n",
       "<tr><td>319</td><td>53521.4</td><td>3.08745e-16</td><td>4.54984e-18</td><td>BessellB</td></tr>\n",
       "<tr><td>320</td><td>53522.15679</td><td>3.77746e-16</td><td>9.39376e-18</td><td>SDSS_r</td></tr>\n",
       "<tr><td>321</td><td>53522.15723</td><td>4.08131e-16</td><td>8.26986e-18</td><td>SDSS_r</td></tr>\n",
       "<tr><td>322</td><td>53522.16139</td><td>2.73401e-16</td><td>6.79891e-18</td><td>BessellB</td></tr>\n",
       "<tr><td>323</td><td>53522.1748</td><td>4.04762e-16</td><td>1.00656e-17</td><td>SDSS_r</td></tr>\n",
       "<tr><td>324</td><td>53522.4</td><td>3.53834e-16</td><td>4.8884e-18</td><td>SDSS_i</td></tr>\n",
       "<tr><td>325</td><td>53522.4</td><td>3.92645e-16</td><td>6.50951e-18</td><td>BessellV</td></tr>\n",
       "<tr><td>326</td><td>53522.4</td><td>2.87078e-16</td><td>6.61022e-18</td><td>BessellB</td></tr>\n",
       "<tr><td>327</td><td>53522.4</td><td>4.15719e-16</td><td>5.74337e-18</td><td>SDSS_r</td></tr>\n",
       "<tr><td>328</td><td>53523.5</td><td>2.54449e-16</td><td>4.2184e-18</td><td>BessellB</td></tr>\n",
       "<tr><td>329</td><td>53523.5</td><td>3.90481e-16</td><td>5.3947e-18</td><td>SDSS_r</td></tr>\n",
       "<tr><td>330</td><td>53523.5</td><td>3.24489e-16</td><td>4.48298e-18</td><td>SDSS_i</td></tr>\n",
       "<tr><td>331</td><td>53523.5</td><td>3.56123e-16</td><td>4.92002e-18</td><td>BessellV</td></tr>\n",
       "<tr><td>332</td><td>53524.14587</td><td>3.54487e-16</td><td>7.18288e-18</td><td>SDSS_r</td></tr>\n",
       "<tr><td>333</td><td>53524.14756</td><td>2.81579e-16</td><td>6.48359e-18</td><td>SDSS_i</td></tr>\n",
       "<tr><td>334</td><td>53524.14938</td><td>3.40722e-16</td><td>7.53159e-18</td><td>BessellV</td></tr>\n",
       "<tr><td>335</td><td>53524.15944</td><td>2.34423e-16</td><td>5.39779e-18</td><td>BessellB</td></tr>\n",
       "<tr><td>336</td><td>53524.4</td><td>3.38221e-16</td><td>4.67269e-18</td><td>BessellV</td></tr>\n",
       "<tr><td>337</td><td>53524.4</td><td>3.5156e-16</td><td>6.47598e-18</td><td>SDSS_r</td></tr>\n",
       "<tr><td>338</td><td>53524.4</td><td>2.26152e-16</td><td>3.54099e-18</td><td>BessellB</td></tr>\n",
       "<tr><td>339</td><td>53524.4</td><td>3.07893e-16</td><td>7.65666e-18</td><td>SDSS_i</td></tr>\n",
       "<tr><td>340</td><td>53525.4</td><td>3.37598e-16</td><td>4.66409e-18</td><td>SDSS_r</td></tr>\n",
       "<tr><td>341</td><td>53525.4</td><td>2.93494e-16</td><td>4.05478e-18</td><td>SDSS_i</td></tr>\n",
       "<tr><td>342</td><td>53525.4</td><td>2.11252e-16</td><td>7.39366e-18</td><td>BessellB</td></tr>\n",
       "<tr><td>343</td><td>53525.4</td><td>3.15355e-16</td><td>7.84223e-18</td><td>BessellV</td></tr>\n",
       "<tr><td>344</td><td>53526.14727</td><td>3.0507e-16</td><td>5.33862e-18</td><td>SDSS_r</td></tr>\n",
       "<tr><td>345</td><td>53526.14896</td><td>2.59418e-16</td><td>4.77866e-18</td><td>SDSS_i</td></tr>\n",
       "<tr><td>346</td><td>53526.15076</td><td>2.77971e-16</td><td>4.8644e-18</td><td>BessellV</td></tr>\n",
       "<tr><td>347</td><td>53526.16081</td><td>1.87068e-16</td><td>5.34118e-18</td><td>BessellB</td></tr>\n",
       "<tr><td>348</td><td>53526.4</td><td>1.81635e-16</td><td>8.5319e-18</td><td>BessellB</td></tr>\n",
       "<tr><td>349</td><td>53526.4</td><td>3.26287e-16</td><td>4.50782e-18</td><td>SDSS_r</td></tr>\n",
       "<tr><td>350</td><td>53526.4</td><td>2.74157e-16</td><td>3.78762e-18</td><td>SDSS_i</td></tr>\n",
       "<tr><td>351</td><td>53526.4</td><td>2.86286e-16</td><td>4.74622e-18</td><td>BessellV</td></tr>\n",
       "<tr><td>352</td><td>53527.5</td><td>2.67178e-16</td><td>3.6912e-18</td><td>BessellV</td></tr>\n",
       "<tr><td>353</td><td>53527.5</td><td>1.79639e-16</td><td>2.64725e-18</td><td>BessellB</td></tr>\n",
       "<tr><td>354</td><td>53527.5</td><td>3.02552e-16</td><td>4.17991e-18</td><td>SDSS_r</td></tr>\n",
       "<tr><td>355</td><td>53527.5</td><td>2.47286e-16</td><td>3.41639e-18</td><td>SDSS_i</td></tr>\n",
       "<tr><td>356</td><td>53528.5</td><td>2.55153e-16</td><td>3.52506e-18</td><td>BessellV</td></tr>\n",
       "<tr><td>357</td><td>53528.5</td><td>1.77664e-16</td><td>2.61816e-18</td><td>BessellB</td></tr>\n",
       "<tr><td>358</td><td>53529.5</td><td>2.4188e-16</td><td>3.3417e-18</td><td>BessellV</td></tr>\n",
       "<tr><td>359</td><td>53529.5</td><td>1.62331e-16</td><td>2.5417e-18</td><td>BessellB</td></tr>\n",
       "<tr><td>360</td><td>53529.5</td><td>2.21411e-16</td><td>3.05891e-18</td><td>SDSS_g</td></tr>\n",
       "<tr><td>361</td><td>53530.5</td><td>2.10863e-16</td><td>4.07845e-18</td><td>SDSS_g</td></tr>\n",
       "<tr><td>362</td><td>53530.5</td><td>1.52195e-16</td><td>2.52318e-18</td><td>BessellB</td></tr>\n",
       "<tr><td>363</td><td>53530.5</td><td>2.32274e-16</td><td>3.63684e-18</td><td>BessellV</td></tr>\n",
       "<tr><td>364</td><td>53538.5</td><td>1.65653e-16</td><td>2.28858e-18</td><td>BessellV</td></tr>\n",
       "<tr><td>365</td><td>53538.5</td><td>1.09951e-16</td><td>3.74695e-18</td><td>BessellB</td></tr>\n",
       "<tr><td>366</td><td>53538.5</td><td>1.03753e-16</td><td>4.10908e-18</td><td>BessellB</td></tr>\n",
       "<tr><td>367</td><td>53538.5</td><td>1.66878e-16</td><td>2.30551e-18</td><td>BessellV</td></tr>\n",
       "<tr><td>368</td><td>53539.5</td><td>1.63833e-16</td><td>2.86701e-18</td><td>BessellV</td></tr>\n",
       "<tr><td>369</td><td>53542.5</td><td>1.47503e-16</td><td>2.44539e-18</td><td>BessellV</td></tr>\n",
       "<tr><td>370</td><td>53542.5</td><td>8.6856e-17</td><td>5.43982e-18</td><td>BessellB</td></tr>\n",
       "<tr><td>371</td><td>53565.5</td><td>7.45418e-17</td><td>2.85607e-17</td><td>SDSS_r</td></tr>\n",
       "<tr><td>372</td><td>53565.5</td><td>7.33162e-17</td><td>1.48559e-18</td><td>BessellV</td></tr>\n",
       "<tr><td>373</td><td>53565.5</td><td>6.79829e-17</td><td>1.10828e-17</td><td>SDSS_i</td></tr>\n",
       "<tr><td>374</td><td>53565.5</td><td>4.87529e-17</td><td>2.82889e-18</td><td>BessellB</td></tr>\n",
       "<tr><td>375</td><td>53569.5</td><td>3.97375e-17</td><td>4.86774e-18</td><td>BessellB</td></tr>\n",
       "<tr><td>376</td><td>53569.5</td><td>5.95936e-17</td><td>2.30529e-18</td><td>BessellV</td></tr>\n",
       "</table><style>table.dataTable {clear: both; width: auto !important; margin: 0 !important;}\n",
       ".dataTables_info, .dataTables_length, .dataTables_filter, .dataTables_paginate{\n",
       "display: inline-block; margin-right: 1em; }\n",
       ".paginate_button { margin-right: 5px; }\n",
       "</style>\n",
       "<script>\n",
       "require.config({paths: {\n",
       "    datatables: 'https://cdn.datatables.net/1.10.12/js/jquery.dataTables.min'\n",
       "}});\n",
       "require([\"datatables\"], function(){\n",
       "    console.log(\"$('#table4624378232-998422').dataTable()\");\n",
       "    $('#table4624378232-998422').dataTable({\n",
       "        \"order\": [],\n",
       "        \"iDisplayLength\": 10,\n",
       "        \"aLengthMenu\": [[10, 25, 50, 100, 500, 1000, -1], [10, 25, 50, 100, 500, 1000, 'All']],\n",
       "        \"pagingType\": \"full_numbers\"\n",
       "    });\n",
       "});\n",
       "</script>\n"
      ],
      "text/plain": [
       "<IPython.core.display.HTML object>"
      ]
     },
     "execution_count": 8,
     "metadata": {},
     "output_type": "execute_result"
    }
   ],
   "source": [
    "P.phot.show_in_notebook(display_length = 10)"
   ]
  },
  {
   "cell_type": "markdown",
   "metadata": {},
   "source": [
    "It is ordered by time (MJD).\n",
    "\n",
    "If the photometry is already in this format, and you want to interact with it, you can use **`pycoco.load()`**, which is a wrapper for **`pycoco.load_formatted_phot()`**."
   ]
  },
  {
   "cell_type": "code",
   "execution_count": 10,
   "metadata": {
    "scrolled": false
   },
   "outputs": [
    {
     "data": {
      "text/html": [
       "&lt;Table length=377&gt;\n",
       "<table id=\"table4625449256-304998\" class=\"table-striped table-bordered table-condensed\">\n",
       "<thead><tr><th>idx</th><th>MJD</th><th>flux</th><th>flux_err</th><th>filter</th></tr></thead>\n",
       "<thead><tr><th></th><th>d</th><th>erg / (Angstrom cm2 s)</th><th>erg / (Angstrom cm2 s)</th><th></th></tr></thead>\n",
       "<tr><td>0</td><td>53459.8</td><td>5.25291e-17</td><td>9.53107e-18</td><td>SDSS_r</td></tr>\n",
       "<tr><td>1</td><td>53466.8</td><td>1.85695e-16</td><td>1.06039e-17</td><td>SDSS_r</td></tr>\n",
       "<tr><td>2</td><td>53467.7</td><td>3.73938e-16</td><td>5.51056e-18</td><td>BessellB</td></tr>\n",
       "<tr><td>3</td><td>53467.7</td><td>1.25661e-16</td><td>1.73607e-18</td><td>SDSS_i</td></tr>\n",
       "<tr><td>4</td><td>53467.7</td><td>3.65426e-16</td><td>5.04855e-18</td><td>SDSS_g</td></tr>\n",
       "<tr><td>5</td><td>53467.7</td><td>2.10281e-16</td><td>2.90514e-18</td><td>SDSS_r</td></tr>\n",
       "<tr><td>6</td><td>53467.7</td><td>2.64972e-16</td><td>3.66072e-18</td><td>BessellV</td></tr>\n",
       "<tr><td>7</td><td>53468.6</td><td>1.30617e-16</td><td>2.04515e-18</td><td>SDSS_i</td></tr>\n",
       "<tr><td>8</td><td>53468.6</td><td>2.21004e-16</td><td>3.05328e-18</td><td>SDSS_r</td></tr>\n",
       "<tr><td>9</td><td>53468.6</td><td>2.82098e-16</td><td>3.89733e-18</td><td>BessellV</td></tr>\n",
       "<tr><td>10</td><td>53468.6</td><td>4.00682e-16</td><td>5.53563e-18</td><td>SDSS_g</td></tr>\n",
       "<tr><td>11</td><td>53468.6</td><td>4.11908e-16</td><td>6.0701e-18</td><td>BessellB</td></tr>\n",
       "<tr><td>12</td><td>53471.23516</td><td>2.58702e-16</td><td>5.00374e-18</td><td>SDSS_r</td></tr>\n",
       "<tr><td>13</td><td>53471.23685</td><td>1.62032e-16</td><td>4.4771e-18</td><td>SDSS_i</td></tr>\n",
       "<tr><td>14</td><td>53471.23865</td><td>3.37287e-16</td><td>6.83437e-18</td><td>BessellV</td></tr>\n",
       "<tr><td>15</td><td>53471.24492</td><td>5.34072e-16</td><td>9.83797e-18</td><td>BessellB</td></tr>\n",
       "<tr><td>16</td><td>53472.24146</td><td>3.63413e-16</td><td>6.02488e-18</td><td>BessellV</td></tr>\n",
       "<tr><td>17</td><td>53472.24774</td><td>5.79162e-16</td><td>1.01351e-17</td><td>BessellB</td></tr>\n",
       "<tr><td>18</td><td>53472.6</td><td>5.61306e-16</td><td>8.27172e-18</td><td>BessellB</td></tr>\n",
       "<tr><td>19</td><td>53472.6</td><td>5.38022e-16</td><td>7.43305e-18</td><td>SDSS_g</td></tr>\n",
       "<tr><td>20</td><td>53472.6</td><td>2.92954e-16</td><td>4.04731e-18</td><td>SDSS_r</td></tr>\n",
       "<tr><td>21</td><td>53472.6</td><td>3.76357e-16</td><td>5.19956e-18</td><td>BessellV</td></tr>\n",
       "<tr><td>22</td><td>53472.6</td><td>1.79804e-16</td><td>2.48409e-18</td><td>SDSS_i</td></tr>\n",
       "<tr><td>23</td><td>53473.2029</td><td>2.84971e-16</td><td>5.51182e-18</td><td>SDSS_r</td></tr>\n",
       "<tr><td>24</td><td>53473.2046</td><td>1.85012e-16</td><td>5.45288e-18</td><td>SDSS_i</td></tr>\n",
       "<tr><td>25</td><td>53473.20638</td><td>3.88687e-16</td><td>6.80189e-18</td><td>BessellV</td></tr>\n",
       "<tr><td>26</td><td>53473.21264</td><td>5.98136e-16</td><td>1.10181e-17</td><td>BessellB</td></tr>\n",
       "<tr><td>27</td><td>53473.21631</td><td>2.90804e-16</td><td>5.3568e-18</td><td>SDSS_r</td></tr>\n",
       "<tr><td>28</td><td>53473.21801</td><td>1.80468e-16</td><td>4.15543e-18</td><td>SDSS_i</td></tr>\n",
       "<tr><td>29</td><td>53473.2198</td><td>3.77051e-16</td><td>6.59826e-18</td><td>BessellV</td></tr>\n",
       "<tr><td>30</td><td>53473.22608</td><td>6.04784e-16</td><td>1.11405e-17</td><td>BessellB</td></tr>\n",
       "<tr><td>31</td><td>53473.6</td><td>3.1017e-16</td><td>4.28516e-18</td><td>SDSS_r</td></tr>\n",
       "<tr><td>32</td><td>53473.6</td><td>5.70164e-16</td><td>7.87711e-18</td><td>SDSS_g</td></tr>\n",
       "<tr><td>33</td><td>53473.6</td><td>3.98107e-16</td><td>5.50005e-18</td><td>BessellV</td></tr>\n",
       "<tr><td>34</td><td>53473.6</td><td>1.93019e-16</td><td>2.66666e-18</td><td>SDSS_i</td></tr>\n",
       "<tr><td>35</td><td>53473.6</td><td>5.87219e-16</td><td>8.65358e-18</td><td>BessellB</td></tr>\n",
       "<tr><td>36</td><td>53474.20131</td><td>2.98951e-16</td><td>4.95619e-18</td><td>SDSS_r</td></tr>\n",
       "<tr><td>37</td><td>53474.203</td><td>1.93197e-16</td><td>3.9147e-18</td><td>SDSS_i</td></tr>\n",
       "<tr><td>38</td><td>53474.20478</td><td>3.95185e-16</td><td>6.91559e-18</td><td>BessellV</td></tr>\n",
       "<tr><td>39</td><td>53474.21104</td><td>6.17163e-16</td><td>1.08001e-17</td><td>BessellB</td></tr>\n",
       "<tr><td>40</td><td>53474.2147</td><td>3.05351e-16</td><td>5.0623e-18</td><td>SDSS_r</td></tr>\n",
       "<tr><td>41</td><td>53474.21638</td><td>1.92486e-16</td><td>5.49588e-18</td><td>SDSS_i</td></tr>\n",
       "<tr><td>42</td><td>53474.21816</td><td>3.95913e-16</td><td>6.19904e-18</td><td>BessellV</td></tr>\n",
       "<tr><td>43</td><td>53474.22442</td><td>5.97585e-16</td><td>1.04575e-17</td><td>BessellB</td></tr>\n",
       "<tr><td>44</td><td>53474.6</td><td>2.03236e-16</td><td>2.80781e-18</td><td>SDSS_i</td></tr>\n",
       "<tr><td>45</td><td>53474.6</td><td>5.95388e-16</td><td>8.77396e-18</td><td>BessellB</td></tr>\n",
       "<tr><td>46</td><td>53474.6</td><td>3.25087e-16</td><td>4.49125e-18</td><td>SDSS_r</td></tr>\n",
       "<tr><td>47</td><td>53474.6</td><td>5.86138e-16</td><td>8.0978e-18</td><td>SDSS_g</td></tr>\n",
       "<tr><td>48</td><td>53474.6</td><td>4.19179e-16</td><td>5.79118e-18</td><td>BessellV</td></tr>\n",
       "<tr><td>49</td><td>53475.6</td><td>5.99791e-16</td><td>8.83885e-18</td><td>BessellB</td></tr>\n",
       "<tr><td>50</td><td>53475.6</td><td>2.11836e-16</td><td>2.92662e-18</td><td>SDSS_i</td></tr>\n",
       "<tr><td>51</td><td>53475.6</td><td>5.82908e-16</td><td>8.05317e-18</td><td>SDSS_g</td></tr>\n",
       "<tr><td>52</td><td>53475.6</td><td>3.4135e-16</td><td>4.71593e-18</td><td>SDSS_r</td></tr>\n",
       "<tr><td>53</td><td>53475.6</td><td>4.24229e-16</td><td>5.86094e-18</td><td>BessellV</td></tr>\n",
       "<tr><td>54</td><td>53475.8</td><td>3.38221e-16</td><td>1.93138e-17</td><td>SDSS_r</td></tr>\n",
       "<tr><td>55</td><td>53476.21237</td><td>3.22998e-16</td><td>5.94985e-18</td><td>SDSS_r</td></tr>\n",
       "<tr><td>56</td><td>53476.21406</td><td>2.12227e-16</td><td>4.49576e-18</td><td>SDSS_i</td></tr>\n",
       "<tr><td>57</td><td>53476.21587</td><td>4.32514e-16</td><td>7.56884e-18</td><td>BessellV</td></tr>\n",
       "<tr><td>58</td><td>53476.22215</td><td>5.89929e-16</td><td>1.14102e-17</td><td>BessellB</td></tr>\n",
       "<tr><td>59</td><td>53476.6</td><td>2.12618e-16</td><td>2.93743e-18</td><td>SDSS_i</td></tr>\n",
       "<tr><td>60</td><td>53476.6</td><td>5.76501e-16</td><td>8.49563e-18</td><td>BessellB</td></tr>\n",
       "<tr><td>61</td><td>53476.6</td><td>5.69115e-16</td><td>7.86261e-18</td><td>SDSS_g</td></tr>\n",
       "<tr><td>62</td><td>53476.6</td><td>3.42295e-16</td><td>4.72897e-18</td><td>SDSS_r</td></tr>\n",
       "<tr><td>63</td><td>53476.6</td><td>4.20727e-16</td><td>5.81255e-18</td><td>BessellV</td></tr>\n",
       "<tr><td>64</td><td>53476.7</td><td>3.36047e-16</td><td>1.02139e-17</td><td>SDSS_r</td></tr>\n",
       "<tr><td>65</td><td>53477.18966</td><td>3.3266e-16</td><td>5.20864e-18</td><td>SDSS_r</td></tr>\n",
       "<tr><td>66</td><td>53477.19134</td><td>2.15973e-16</td><td>4.17729e-18</td><td>SDSS_i</td></tr>\n",
       "<tr><td>67</td><td>53477.19315</td><td>4.04017e-16</td><td>5.95382e-18</td><td>BessellV</td></tr>\n",
       "<tr><td>68</td><td>53477.19942</td><td>5.55648e-16</td><td>1.02354e-17</td><td>BessellB</td></tr>\n",
       "<tr><td>69</td><td>53477.20295</td><td>3.31742e-16</td><td>5.19427e-18</td><td>SDSS_r</td></tr>\n",
       "<tr><td>70</td><td>53477.20463</td><td>2.10863e-16</td><td>4.27266e-18</td><td>SDSS_i</td></tr>\n",
       "<tr><td>71</td><td>53477.20631</td><td>4.06256e-16</td><td>7.48352e-18</td><td>BessellV</td></tr>\n",
       "<tr><td>72</td><td>53477.21258</td><td>5.67022e-16</td><td>1.09672e-17</td><td>BessellB</td></tr>\n",
       "<tr><td>73</td><td>53477.6</td><td>4.14954e-16</td><td>5.7328e-18</td><td>BessellV</td></tr>\n",
       "<tr><td>74</td><td>53477.6</td><td>5.52077e-16</td><td>7.62723e-18</td><td>SDSS_g</td></tr>\n",
       "<tr><td>75</td><td>53477.6</td><td>5.55137e-16</td><td>8.1808e-18</td><td>BessellB</td></tr>\n",
       "<tr><td>76</td><td>53477.6</td><td>3.53509e-16</td><td>4.8839e-18</td><td>SDSS_r</td></tr>\n",
       "<tr><td>77</td><td>53477.6</td><td>2.2532e-16</td><td>3.11291e-18</td><td>SDSS_i</td></tr>\n",
       "<tr><td>78</td><td>53478.16307</td><td>3.43558e-16</td><td>7.59429e-18</td><td>SDSS_r</td></tr>\n",
       "<tr><td>79</td><td>53478.16473</td><td>2.23872e-16</td><td>5.36104e-18</td><td>SDSS_i</td></tr>\n",
       "<tr><td>80</td><td>53478.6</td><td>5.33089e-16</td><td>7.85589e-18</td><td>BessellB</td></tr>\n",
       "<tr><td>81</td><td>53478.6</td><td>3.6241e-16</td><td>5.00688e-18</td><td>SDSS_r</td></tr>\n",
       "<tr><td>82</td><td>53478.6</td><td>2.29932e-16</td><td>3.17663e-18</td><td>SDSS_i</td></tr>\n",
       "<tr><td>83</td><td>53478.6</td><td>5.46512e-16</td><td>7.55035e-18</td><td>SDSS_g</td></tr>\n",
       "<tr><td>84</td><td>53478.6</td><td>4.21891e-16</td><td>5.82864e-18</td><td>BessellV</td></tr>\n",
       "<tr><td>85</td><td>53479.5</td><td>5.48529e-16</td><td>7.57822e-18</td><td>SDSS_g</td></tr>\n",
       "<tr><td>86</td><td>53479.5</td><td>4.45862e-16</td><td>6.15981e-18</td><td>BessellV</td></tr>\n",
       "<tr><td>87</td><td>53479.5</td><td>3.78094e-16</td><td>5.22356e-18</td><td>SDSS_r</td></tr>\n",
       "<tr><td>88</td><td>53479.5</td><td>2.43893e-16</td><td>3.36951e-18</td><td>SDSS_i</td></tr>\n",
       "<tr><td>89</td><td>53479.5</td><td>5.40008e-16</td><td>7.95785e-18</td><td>BessellB</td></tr>\n",
       "<tr><td>90</td><td>53480.5</td><td>2.51652e-16</td><td>3.4767e-18</td><td>SDSS_i</td></tr>\n",
       "<tr><td>91</td><td>53480.5</td><td>4.59198e-16</td><td>6.34405e-18</td><td>BessellV</td></tr>\n",
       "<tr><td>92</td><td>53480.5</td><td>3.86189e-16</td><td>5.3354e-18</td><td>SDSS_r</td></tr>\n",
       "<tr><td>93</td><td>53480.5</td><td>5.61824e-16</td><td>7.76188e-18</td><td>SDSS_g</td></tr>\n",
       "<tr><td>94</td><td>53480.5</td><td>5.425e-16</td><td>7.99458e-18</td><td>BessellB</td></tr>\n",
       "<tr><td>95</td><td>53481.5</td><td>2.61337e-16</td><td>3.6105e-18</td><td>SDSS_i</td></tr>\n",
       "<tr><td>96</td><td>53481.5</td><td>4.67304e-16</td><td>6.45605e-18</td><td>BessellV</td></tr>\n",
       "<tr><td>97</td><td>53481.5</td><td>4.10771e-16</td><td>5.67501e-18</td><td>SDSS_r</td></tr>\n",
       "<tr><td>98</td><td>53481.5</td><td>5.76501e-16</td><td>7.96465e-18</td><td>SDSS_g</td></tr>\n",
       "<tr><td>99</td><td>53481.5</td><td>5.4752e-16</td><td>8.06855e-18</td><td>BessellB</td></tr>\n",
       "<tr><td>100</td><td>53482.19314</td><td>4.14572e-16</td><td>8.40037e-18</td><td>SDSS_r</td></tr>\n",
       "<tr><td>101</td><td>53482.19482</td><td>2.70396e-16</td><td>7.72036e-18</td><td>SDSS_i</td></tr>\n",
       "<tr><td>102</td><td>53482.19648</td><td>4.75992e-16</td><td>1.00833e-17</td><td>BessellV</td></tr>\n",
       "<tr><td>103</td><td>53482.20677</td><td>4.19952e-16</td><td>8.1226e-18</td><td>SDSS_r</td></tr>\n",
       "<tr><td>104</td><td>53482.20846</td><td>2.67917e-16</td><td>5.18197e-18</td><td>SDSS_i</td></tr>\n",
       "<tr><td>105</td><td>53482.21025</td><td>4.96592e-16</td><td>1.3264e-17</td><td>BessellV</td></tr>\n",
       "<tr><td>106</td><td>53482.22008</td><td>4.11529e-16</td><td>8.71773e-18</td><td>SDSS_r</td></tr>\n",
       "<tr><td>107</td><td>53482.22176</td><td>2.63755e-16</td><td>5.34439e-18</td><td>SDSS_i</td></tr>\n",
       "<tr><td>108</td><td>53482.22357</td><td>5.20955e-16</td><td>9.11652e-18</td><td>BessellV</td></tr>\n",
       "<tr><td>109</td><td>53482.2335</td><td>4.15336e-16</td><td>7.26824e-18</td><td>SDSS_r</td></tr>\n",
       "<tr><td>110</td><td>53482.23517</td><td>2.5142e-16</td><td>6.2523e-18</td><td>SDSS_i</td></tr>\n",
       "<tr><td>111</td><td>53482.23696</td><td>4.9705e-16</td><td>1.09872e-17</td><td>BessellV</td></tr>\n",
       "<tr><td>112</td><td>53482.5</td><td>4.39744e-16</td><td>1.05305e-17</td><td>SDSS_r</td></tr>\n",
       "<tr><td>113</td><td>53482.5</td><td>5.9484e-16</td><td>1.6436e-17</td><td>SDSS_g</td></tr>\n",
       "<tr><td>114</td><td>53482.5</td><td>5.79696e-16</td><td>1.3348e-17</td><td>BessellB</td></tr>\n",
       "<tr><td>115</td><td>53482.5</td><td>2.87343e-16</td><td>5.29305e-18</td><td>SDSS_i</td></tr>\n",
       "<tr><td>116</td><td>53482.5</td><td>4.95678e-16</td><td>1.00438e-17</td><td>BessellV</td></tr>\n",
       "<tr><td>117</td><td>53483.26834</td><td>4.54569e-16</td><td>1.46536e-17</td><td>SDSS_r</td></tr>\n",
       "<tr><td>118</td><td>53483.27005</td><td>2.96483e-16</td><td>9.01135e-18</td><td>SDSS_i</td></tr>\n",
       "<tr><td>119</td><td>53483.27183</td><td>5.19996e-16</td><td>1.91574e-17</td><td>BessellV</td></tr>\n",
       "<tr><td>120</td><td>53483.5</td><td>5.23359e-16</td><td>7.23048e-18</td><td>BessellV</td></tr>\n",
       "<tr><td>121</td><td>53483.5</td><td>2.87872e-16</td><td>3.9771e-18</td><td>SDSS_i</td></tr>\n",
       "<tr><td>122</td><td>53483.5</td><td>6.47441e-16</td><td>8.94472e-18</td><td>SDSS_g</td></tr>\n",
       "<tr><td>123</td><td>53483.5</td><td>6.17732e-16</td><td>9.10323e-18</td><td>BessellB</td></tr>\n",
       "<tr><td>124</td><td>53483.5</td><td>4.48332e-16</td><td>6.19394e-18</td><td>SDSS_r</td></tr>\n",
       "<tr><td>125</td><td>53484.6</td><td>6.35038e-16</td><td>9.35827e-18</td><td>BessellB</td></tr>\n",
       "<tr><td>126</td><td>53484.6</td><td>4.7076e-16</td><td>6.5038e-18</td><td>SDSS_r</td></tr>\n",
       "<tr><td>127</td><td>53484.6</td><td>3.05915e-16</td><td>4.22636e-18</td><td>SDSS_i</td></tr>\n",
       "<tr><td>128</td><td>53484.6</td><td>5.51569e-16</td><td>7.62021e-18</td><td>BessellV</td></tr>\n",
       "<tr><td>129</td><td>53484.6</td><td>6.8171e-16</td><td>9.41818e-18</td><td>SDSS_g</td></tr>\n",
       "<tr><td>130</td><td>53485.18927</td><td>4.9023e-16</td><td>1.08365e-17</td><td>SDSS_r</td></tr>\n",
       "<tr><td>131</td><td>53485.19096</td><td>3.12752e-16</td><td>6.33721e-18</td><td>SDSS_i</td></tr>\n",
       "<tr><td>132</td><td>53485.20661</td><td>4.91587e-16</td><td>9.50813e-18</td><td>SDSS_r</td></tr>\n",
       "<tr><td>133</td><td>53485.20829</td><td>2.98676e-16</td><td>4.40145e-18</td><td>SDSS_i</td></tr>\n",
       "<tr><td>134</td><td>53486.2123</td><td>5.21435e-16</td><td>8.64467e-18</td><td>SDSS_r</td></tr>\n",
       "<tr><td>135</td><td>53486.21579</td><td>6.39735e-16</td><td>1.11951e-17</td><td>BessellV</td></tr>\n",
       "<tr><td>136</td><td>53489.5</td><td>9.77237e-16</td><td>1.44011e-17</td><td>BessellB</td></tr>\n",
       "<tr><td>137</td><td>53489.5</td><td>7.67008e-16</td><td>1.05966e-17</td><td>BessellV</td></tr>\n",
       "<tr><td>138</td><td>53489.5</td><td>4.16869e-16</td><td>5.75926e-18</td><td>SDSS_i</td></tr>\n",
       "<tr><td>139</td><td>53489.5</td><td>6.53431e-16</td><td>9.02749e-18</td><td>SDSS_r</td></tr>\n",
       "<tr><td>140</td><td>53489.5</td><td>9.93574e-16</td><td>1.37267e-17</td><td>SDSS_g</td></tr>\n",
       "<tr><td>141</td><td>53490.23475</td><td>8.4879e-16</td><td>2.26712e-17</td><td>BessellV</td></tr>\n",
       "<tr><td>142</td><td>53490.24553</td><td>8.52707e-16</td><td>1.2566e-17</td><td>BessellV</td></tr>\n",
       "<tr><td>143</td><td>53490.24799</td><td>6.93106e-16</td><td>1.08524e-17</td><td>SDSS_r</td></tr>\n",
       "<tr><td>144</td><td>53490.24961</td><td>4.22669e-16</td><td>8.56443e-18</td><td>SDSS_i</td></tr>\n",
       "<tr><td>145</td><td>53490.25125</td><td>1.13868e-15</td><td>1.99264e-17</td><td>BessellB</td></tr>\n",
       "<tr><td>146</td><td>53490.5</td><td>8.30233e-16</td><td>1.14701e-17</td><td>BessellV</td></tr>\n",
       "<tr><td>147</td><td>53490.5</td><td>4.39744e-16</td><td>6.07529e-18</td><td>SDSS_i</td></tr>\n",
       "<tr><td>148</td><td>53490.5</td><td>1.09044e-15</td><td>1.60693e-17</td><td>BessellB</td></tr>\n",
       "<tr><td>149</td><td>53490.5</td><td>1.10764e-15</td><td>1.53027e-17</td><td>SDSS_g</td></tr>\n",
       "<tr><td>150</td><td>53490.5</td><td>7.04693e-16</td><td>9.7357e-18</td><td>SDSS_r</td></tr>\n",
       "<tr><td>151</td><td>53491.5</td><td>7.51623e-16</td><td>1.0384e-17</td><td>SDSS_r</td></tr>\n",
       "<tr><td>152</td><td>53491.5</td><td>9.0365e-16</td><td>1.24844e-17</td><td>BessellV</td></tr>\n",
       "<tr><td>153</td><td>53491.5</td><td>4.57509e-16</td><td>7.16349e-18</td><td>SDSS_i</td></tr>\n",
       "<tr><td>154</td><td>53491.5</td><td>1.2067e-15</td><td>1.66712e-17</td><td>SDSS_g</td></tr>\n",
       "<tr><td>155</td><td>53491.5</td><td>1.20226e-15</td><td>1.77172e-17</td><td>BessellB</td></tr>\n",
       "<tr><td>156</td><td>53492.1691</td><td>7.55092e-16</td><td>1.25184e-17</td><td>SDSS_r</td></tr>\n",
       "<tr><td>157</td><td>53492.17079</td><td>4.55407e-16</td><td>8.38891e-18</td><td>SDSS_i</td></tr>\n",
       "<tr><td>158</td><td>53492.17258</td><td>9.47109e-16</td><td>1.48294e-17</td><td>BessellV</td></tr>\n",
       "<tr><td>159</td><td>53492.1826</td><td>1.26824e-15</td><td>1.98575e-17</td><td>BessellB</td></tr>\n",
       "<tr><td>160</td><td>53492.18612</td><td>7.67715e-16</td><td>1.27277e-17</td><td>SDSS_r</td></tr>\n",
       "<tr><td>161</td><td>53492.18781</td><td>4.66445e-16</td><td>7.733e-18</td><td>SDSS_i</td></tr>\n",
       "<tr><td>162</td><td>53492.18961</td><td>9.63829e-16</td><td>1.5979e-17</td><td>BessellV</td></tr>\n",
       "<tr><td>163</td><td>53492.19964</td><td>1.27292e-15</td><td>2.11032e-17</td><td>BessellB</td></tr>\n",
       "<tr><td>164</td><td>53493.13889</td><td>7.77678e-16</td><td>1.36091e-17</td><td>SDSS_r</td></tr>\n",
       "<tr><td>165</td><td>53493.14057</td><td>4.88427e-16</td><td>8.54731e-18</td><td>SDSS_i</td></tr>\n",
       "<tr><td>166</td><td>53493.14235</td><td>9.89008e-16</td><td>1.63964e-17</td><td>BessellV</td></tr>\n",
       "<tr><td>167</td><td>53493.15237</td><td>1.33536e-15</td><td>2.21385e-17</td><td>BessellB</td></tr>\n",
       "<tr><td>168</td><td>53493.15641</td><td>7.89951e-16</td><td>1.30963e-17</td><td>SDSS_r</td></tr>\n",
       "<tr><td>169</td><td>53493.1581</td><td>4.84842e-16</td><td>8.038e-18</td><td>SDSS_i</td></tr>\n",
       "<tr><td>170</td><td>53493.1599</td><td>9.92659e-16</td><td>1.55426e-17</td><td>BessellV</td></tr>\n",
       "<tr><td>171</td><td>53493.1699</td><td>1.34772e-15</td><td>2.23433e-17</td><td>BessellB</td></tr>\n",
       "<tr><td>172</td><td>53493.5</td><td>9.89008e-16</td><td>1.36637e-17</td><td>BessellV</td></tr>\n",
       "<tr><td>173</td><td>53493.5</td><td>1.3122e-15</td><td>1.81287e-17</td><td>SDSS_g</td></tr>\n",
       "<tr><td>174</td><td>53493.5</td><td>1.34772e-15</td><td>3.10324e-17</td><td>BessellB</td></tr>\n",
       "<tr><td>175</td><td>53494.14829</td><td>8.08351e-16</td><td>1.26568e-17</td><td>SDSS_r</td></tr>\n",
       "<tr><td>176</td><td>53494.14999</td><td>5.01649e-16</td><td>8.31665e-18</td><td>SDSS_i</td></tr>\n",
       "<tr><td>177</td><td>53494.15177</td><td>1.01018e-15</td><td>1.5817e-17</td><td>BessellV</td></tr>\n",
       "<tr><td>178</td><td>53494.16177</td><td>1.36396e-15</td><td>2.13562e-17</td><td>BessellB</td></tr>\n",
       "<tr><td>179</td><td>53494.16713</td><td>4.9705e-16</td><td>8.2404e-18</td><td>SDSS_i</td></tr>\n",
       "<tr><td>180</td><td>53494.16891</td><td>1.01578e-15</td><td>1.59047e-17</td><td>BessellV</td></tr>\n",
       "<tr><td>181</td><td>53494.17895</td><td>1.37911e-15</td><td>2.15936e-17</td><td>BessellB</td></tr>\n",
       "<tr><td>182</td><td>53495.16038</td><td>1.42824e-15</td><td>2.49936e-17</td><td>BessellB</td></tr>\n",
       "<tr><td>183</td><td>53495.16414</td><td>8.44112e-16</td><td>1.39942e-17</td><td>SDSS_r</td></tr>\n",
       "<tr><td>184</td><td>53495.16763</td><td>1.06365e-15</td><td>1.76339e-17</td><td>BessellV</td></tr>\n",
       "<tr><td>185</td><td>53495.5</td><td>1.40475e-15</td><td>2.07012e-17</td><td>BessellB</td></tr>\n",
       "<tr><td>186</td><td>53495.5</td><td>1.0404e-15</td><td>1.43736e-17</td><td>BessellV</td></tr>\n",
       "<tr><td>187</td><td>53495.5</td><td>1.40605e-15</td><td>1.94253e-17</td><td>SDSS_g</td></tr>\n",
       "<tr><td>188</td><td>53496.13176</td><td>8.57433e-16</td><td>1.34253e-17</td><td>SDSS_r</td></tr>\n",
       "<tr><td>189</td><td>53496.13344</td><td>5.39511e-16</td><td>8.44743e-18</td><td>SDSS_i</td></tr>\n",
       "<tr><td>190</td><td>53496.13523</td><td>1.07053e-15</td><td>1.6762e-17</td><td>BessellV</td></tr>\n",
       "<tr><td>191</td><td>53496.15645</td><td>8.67761e-16</td><td>1.43863e-17</td><td>SDSS_r</td></tr>\n",
       "<tr><td>192</td><td>53496.15813</td><td>5.47016e-16</td><td>9.57259e-18</td><td>SDSS_i</td></tr>\n",
       "<tr><td>193</td><td>53496.15994</td><td>1.06365e-15</td><td>1.66542e-17</td><td>BessellV</td></tr>\n",
       "<tr><td>194</td><td>53496.16993</td><td>1.44278e-15</td><td>2.39193e-17</td><td>BessellB</td></tr>\n",
       "<tr><td>195</td><td>53496.5</td><td>1.0452e-15</td><td>1.444e-17</td><td>BessellV</td></tr>\n",
       "<tr><td>196</td><td>53496.5</td><td>1.44145e-15</td><td>1.99144e-17</td><td>SDSS_g</td></tr>\n",
       "<tr><td>197</td><td>53496.5</td><td>1.44411e-15</td><td>2.12812e-17</td><td>BessellB</td></tr>\n",
       "<tr><td>198</td><td>53497.14638</td><td>8.78213e-16</td><td>1.37507e-17</td><td>SDSS_r</td></tr>\n",
       "<tr><td>199</td><td>53497.14807</td><td>5.31129e-16</td><td>1.22297e-17</td><td>SDSS_i</td></tr>\n",
       "<tr><td>200</td><td>53497.14987</td><td>1.09245e-15</td><td>1.81112e-17</td><td>BessellV</td></tr>\n",
       "<tr><td>201</td><td>53497.15987</td><td>1.47231e-15</td><td>2.44089e-17</td><td>BessellB</td></tr>\n",
       "<tr><td>202</td><td>53497.16389</td><td>8.76597e-16</td><td>1.45328e-17</td><td>SDSS_r</td></tr>\n",
       "<tr><td>203</td><td>53497.16557</td><td>5.1428e-16</td><td>1.42101e-17</td><td>SDSS_i</td></tr>\n",
       "<tr><td>204</td><td>53497.16735</td><td>1.08543e-15</td><td>1.69951e-17</td><td>BessellV</td></tr>\n",
       "<tr><td>205</td><td>53497.17735</td><td>1.47639e-15</td><td>2.58362e-17</td><td>BessellB</td></tr>\n",
       "<tr><td>206</td><td>53497.5</td><td>1.06856e-15</td><td>1.47627e-17</td><td>BessellV</td></tr>\n",
       "<tr><td>207</td><td>53497.5</td><td>9.06985e-16</td><td>1.25305e-17</td><td>SDSS_r</td></tr>\n",
       "<tr><td>208</td><td>53497.5</td><td>1.48047e-15</td><td>2.1817e-17</td><td>BessellB</td></tr>\n",
       "<tr><td>209</td><td>53497.5</td><td>1.45211e-15</td><td>2.00617e-17</td><td>SDSS_g</td></tr>\n",
       "<tr><td>210</td><td>53498.13703</td><td>8.92894e-16</td><td>1.39806e-17</td><td>SDSS_r</td></tr>\n",
       "<tr><td>211</td><td>53498.1387</td><td>5.74381e-16</td><td>1.00515e-17</td><td>SDSS_i</td></tr>\n",
       "<tr><td>212</td><td>53498.1405</td><td>1.09648e-15</td><td>2.22177e-17</td><td>BessellV</td></tr>\n",
       "<tr><td>213</td><td>53498.15053</td><td>1.47911e-15</td><td>2.31593e-17</td><td>BessellB</td></tr>\n",
       "<tr><td>214</td><td>53498.15413</td><td>8.89611e-16</td><td>1.39292e-17</td><td>SDSS_r</td></tr>\n",
       "<tr><td>215</td><td>53498.15581</td><td>5.665e-16</td><td>9.39179e-18</td><td>SDSS_i</td></tr>\n",
       "<tr><td>216</td><td>53498.15759</td><td>1.09749e-15</td><td>1.7184e-17</td><td>BessellV</td></tr>\n",
       "<tr><td>217</td><td>53498.16762</td><td>1.4642e-15</td><td>2.42744e-17</td><td>BessellB</td></tr>\n",
       "<tr><td>218</td><td>53499.13255</td><td>8.87156e-16</td><td>1.47078e-17</td><td>SDSS_r</td></tr>\n",
       "<tr><td>219</td><td>53499.13421</td><td>5.73852e-16</td><td>9.51367e-18</td><td>SDSS_i</td></tr>\n",
       "<tr><td>220</td><td>53499.13601</td><td>1.07944e-15</td><td>1.69015e-17</td><td>BessellV</td></tr>\n",
       "<tr><td>221</td><td>53499.14599</td><td>1.44411e-15</td><td>2.26112e-17</td><td>BessellB</td></tr>\n",
       "<tr><td>222</td><td>53499.14964</td><td>8.87156e-16</td><td>1.47078e-17</td><td>SDSS_r</td></tr>\n",
       "<tr><td>223</td><td>53499.15132</td><td>5.6079e-16</td><td>9.81362e-18</td><td>SDSS_i</td></tr>\n",
       "<tr><td>224</td><td>53499.1531</td><td>1.10459e-15</td><td>1.83125e-17</td><td>BessellV</td></tr>\n",
       "<tr><td>225</td><td>53499.1631</td><td>1.44811e-15</td><td>2.40076e-17</td><td>BessellB</td></tr>\n",
       "<tr><td>226</td><td>53499.4</td><td>1.08443e-15</td><td>1.49819e-17</td><td>BessellV</td></tr>\n",
       "<tr><td>227</td><td>53499.4</td><td>1.44944e-15</td><td>2.00247e-17</td><td>SDSS_g</td></tr>\n",
       "<tr><td>228</td><td>53499.4</td><td>1.43615e-15</td><td>2.11639e-17</td><td>BessellB</td></tr>\n",
       "<tr><td>229</td><td>53500.5</td><td>1.41906e-15</td><td>2.0912e-17</td><td>BessellB</td></tr>\n",
       "<tr><td>230</td><td>53500.5</td><td>1.40475e-15</td><td>1.94074e-17</td><td>SDSS_g</td></tr>\n",
       "<tr><td>231</td><td>53500.5</td><td>1.05682e-15</td><td>1.46005e-17</td><td>BessellV</td></tr>\n",
       "<tr><td>232</td><td>53501.15575</td><td>1.07152e-15</td><td>1.77643e-17</td><td>BessellV</td></tr>\n",
       "<tr><td>233</td><td>53501.15823</td><td>8.94541e-16</td><td>1.6478e-17</td><td>SDSS_r</td></tr>\n",
       "<tr><td>234</td><td>53501.15992</td><td>5.91562e-16</td><td>9.80727e-18</td><td>SDSS_i</td></tr>\n",
       "<tr><td>235</td><td>53501.5</td><td>1.36647e-15</td><td>1.88785e-17</td><td>SDSS_g</td></tr>\n",
       "<tr><td>236</td><td>53501.5</td><td>1.05682e-15</td><td>1.46005e-17</td><td>BessellV</td></tr>\n",
       "<tr><td>237</td><td>53501.5</td><td>1.34524e-15</td><td>1.98242e-17</td><td>BessellB</td></tr>\n",
       "<tr><td>238</td><td>53502.17749</td><td>1.05003e-15</td><td>1.64409e-17</td><td>BessellV</td></tr>\n",
       "<tr><td>239</td><td>53502.17997</td><td>8.77405e-16</td><td>1.53543e-17</td><td>SDSS_r</td></tr>\n",
       "<tr><td>240</td><td>53502.18166</td><td>5.9484e-16</td><td>9.31375e-18</td><td>SDSS_i</td></tr>\n",
       "<tr><td>241</td><td>53502.5</td><td>1.03467e-15</td><td>1.42944e-17</td><td>BessellV</td></tr>\n",
       "<tr><td>242</td><td>53502.5</td><td>1.31099e-15</td><td>1.93195e-17</td><td>BessellB</td></tr>\n",
       "<tr><td>243</td><td>53502.5</td><td>1.33291e-15</td><td>1.84148e-17</td><td>SDSS_g</td></tr>\n",
       "<tr><td>244</td><td>53503.17371</td><td>1.02141e-15</td><td>1.5052e-17</td><td>BessellV</td></tr>\n",
       "<tr><td>245</td><td>53503.17616</td><td>8.59805e-16</td><td>1.34625e-17</td><td>SDSS_r</td></tr>\n",
       "<tr><td>246</td><td>53503.17784</td><td>5.87219e-16</td><td>9.73527e-18</td><td>SDSS_i</td></tr>\n",
       "<tr><td>247</td><td>53503.1796</td><td>1.24968e-15</td><td>2.0718e-17</td><td>BessellB</td></tr>\n",
       "<tr><td>248</td><td>53503.5</td><td>1.01672e-15</td><td>1.40465e-17</td><td>BessellV</td></tr>\n",
       "<tr><td>249</td><td>53503.5</td><td>1.25661e-15</td><td>1.85181e-17</td><td>BessellB</td></tr>\n",
       "<tr><td>250</td><td>53503.5</td><td>1.293e-15</td><td>1.78635e-17</td><td>SDSS_g</td></tr>\n",
       "<tr><td>251</td><td>53504.5</td><td>1.25314e-15</td><td>1.73128e-17</td><td>SDSS_g</td></tr>\n",
       "<tr><td>252</td><td>53504.5</td><td>1.00184e-15</td><td>1.3841e-17</td><td>BessellV</td></tr>\n",
       "<tr><td>253</td><td>53504.5</td><td>1.19674e-15</td><td>1.76358e-17</td><td>BessellB</td></tr>\n",
       "<tr><td>254</td><td>53506.5</td><td>1.1471e-15</td><td>1.58477e-17</td><td>SDSS_g</td></tr>\n",
       "<tr><td>255</td><td>53506.5</td><td>9.54113e-16</td><td>1.31816e-17</td><td>BessellV</td></tr>\n",
       "<tr><td>256</td><td>53506.5</td><td>1.06463e-15</td><td>1.5689e-17</td><td>BessellB</td></tr>\n",
       "<tr><td>257</td><td>53508.16858</td><td>8.37144e-16</td><td>4.24071e-17</td><td>SDSS_r</td></tr>\n",
       "<tr><td>258</td><td>53508.17027</td><td>5.79162e-16</td><td>4.26742e-17</td><td>SDSS_i</td></tr>\n",
       "<tr><td>259</td><td>53508.7</td><td>5.77032e-16</td><td>7.97199e-18</td><td>SDSS_i</td></tr>\n",
       "<tr><td>260</td><td>53508.7</td><td>7.96526e-16</td><td>1.10044e-17</td><td>SDSS_r</td></tr>\n",
       "<tr><td>261</td><td>53508.7</td><td>8.98669e-16</td><td>1.24156e-17</td><td>BessellV</td></tr>\n",
       "<tr><td>262</td><td>53508.7</td><td>9.47109e-16</td><td>1.39571e-17</td><td>BessellB</td></tr>\n",
       "<tr><td>263</td><td>53509.15366</td><td>7.69839e-16</td><td>1.27629e-17</td><td>SDSS_r</td></tr>\n",
       "<tr><td>264</td><td>53509.15535</td><td>5.49035e-16</td><td>1.01136e-17</td><td>SDSS_i</td></tr>\n",
       "<tr><td>265</td><td>53509.15714</td><td>8.49572e-16</td><td>1.33022e-17</td><td>BessellV</td></tr>\n",
       "<tr><td>266</td><td>53509.16714</td><td>8.48008e-16</td><td>6.48267e-17</td><td>BessellB</td></tr>\n",
       "<tr><td>267</td><td>53509.17348</td><td>7.86321e-16</td><td>1.5933e-17</td><td>SDSS_r</td></tr>\n",
       "<tr><td>268</td><td>53509.17698</td><td>8.79832e-16</td><td>1.53968e-17</td><td>BessellV</td></tr>\n",
       "<tr><td>269</td><td>53509.5</td><td>8.89611e-16</td><td>1.31098e-17</td><td>BessellB</td></tr>\n",
       "<tr><td>270</td><td>53509.5</td><td>8.7579e-16</td><td>1.20995e-17</td><td>BessellV</td></tr>\n",
       "<tr><td>271</td><td>53509.5</td><td>5.7491e-16</td><td>7.94268e-18</td><td>SDSS_i</td></tr>\n",
       "<tr><td>272</td><td>53509.5</td><td>8.07607e-16</td><td>1.11575e-17</td><td>SDSS_r</td></tr>\n",
       "<tr><td>273</td><td>53510.1503</td><td>7.59277e-16</td><td>1.46857e-17</td><td>SDSS_r</td></tr>\n",
       "<tr><td>274</td><td>53510.15199</td><td>5.55648e-16</td><td>9.21188e-18</td><td>SDSS_i</td></tr>\n",
       "<tr><td>275</td><td>53510.1538</td><td>8.30998e-16</td><td>1.60729e-17</td><td>BessellV</td></tr>\n",
       "<tr><td>276</td><td>53510.16382</td><td>8.3253e-16</td><td>1.68694e-17</td><td>BessellB</td></tr>\n",
       "<tr><td>277</td><td>53510.5</td><td>8.36373e-16</td><td>1.77175e-17</td><td>BessellB</td></tr>\n",
       "<tr><td>278</td><td>53510.5</td><td>8.42558e-16</td><td>1.31924e-17</td><td>BessellV</td></tr>\n",
       "<tr><td>279</td><td>53510.5</td><td>7.87771e-16</td><td>1.08835e-17</td><td>SDSS_r</td></tr>\n",
       "<tr><td>280</td><td>53510.5</td><td>5.63897e-16</td><td>7.79053e-18</td><td>SDSS_i</td></tr>\n",
       "<tr><td>281</td><td>53511.15421</td><td>7.37225e-16</td><td>1.29012e-17</td><td>SDSS_r</td></tr>\n",
       "<tr><td>282</td><td>53511.15766</td><td>8.06121e-16</td><td>1.63342e-17</td><td>BessellV</td></tr>\n",
       "<tr><td>283</td><td>53511.16765</td><td>7.05342e-16</td><td>2.20879e-17</td><td>BessellB</td></tr>\n",
       "<tr><td>284</td><td>53511.5</td><td>5.49035e-16</td><td>7.5852e-18</td><td>SDSS_i</td></tr>\n",
       "<tr><td>285</td><td>53511.5</td><td>7.58578e-16</td><td>1.11788e-17</td><td>BessellB</td></tr>\n",
       "<tr><td>286</td><td>53511.5</td><td>7.9726e-16</td><td>1.10145e-17</td><td>BessellV</td></tr>\n",
       "<tr><td>287</td><td>53511.5</td><td>7.53009e-16</td><td>1.04032e-17</td><td>SDSS_r</td></tr>\n",
       "<tr><td>288</td><td>53512.15308</td><td>7.18456e-16</td><td>1.45579e-17</td><td>SDSS_r</td></tr>\n",
       "<tr><td>289</td><td>53512.15478</td><td>5.23842e-16</td><td>1.1097e-17</td><td>SDSS_i</td></tr>\n",
       "<tr><td>290</td><td>53512.15657</td><td>7.76962e-16</td><td>1.57434e-17</td><td>BessellV</td></tr>\n",
       "<tr><td>291</td><td>53512.16661</td><td>6.87385e-16</td><td>1.77269e-17</td><td>BessellB</td></tr>\n",
       "<tr><td>292</td><td>53512.7</td><td>6.68036e-16</td><td>1.10751e-17</td><td>BessellB</td></tr>\n",
       "<tr><td>293</td><td>53512.7</td><td>5.52077e-16</td><td>7.62723e-18</td><td>SDSS_i</td></tr>\n",
       "<tr><td>294</td><td>53512.7</td><td>7.48169e-16</td><td>1.03363e-17</td><td>BessellV</td></tr>\n",
       "<tr><td>295</td><td>53512.7</td><td>8.12831e-16</td><td>1.12297e-17</td><td>SDSS_g</td></tr>\n",
       "<tr><td>296</td><td>53512.7</td><td>7.33162e-16</td><td>1.0129e-17</td><td>SDSS_r</td></tr>\n",
       "<tr><td>297</td><td>53513.15544</td><td>6.57658e-16</td><td>1.27202e-17</td><td>SDSS_r</td></tr>\n",
       "<tr><td>298</td><td>53513.15712</td><td>5.24807e-16</td><td>8.70058e-18</td><td>SDSS_i</td></tr>\n",
       "<tr><td>299</td><td>53513.17255</td><td>6.95665e-16</td><td>1.98627e-17</td><td>SDSS_r</td></tr>\n",
       "<tr><td>300</td><td>53513.17425</td><td>5.62341e-16</td><td>1.86457e-17</td><td>SDSS_i</td></tr>\n",
       "<tr><td>301</td><td>53513.5</td><td>5.27716e-16</td><td>7.29066e-18</td><td>SDSS_i</td></tr>\n",
       "<tr><td>302</td><td>53513.5</td><td>7.02102e-16</td><td>9.69989e-18</td><td>SDSS_r</td></tr>\n",
       "<tr><td>303</td><td>53513.5</td><td>6.62521e-16</td><td>9.76328e-18</td><td>BessellB</td></tr>\n",
       "<tr><td>304</td><td>53513.5</td><td>7.17134e-16</td><td>9.90756e-18</td><td>BessellV</td></tr>\n",
       "<tr><td>305</td><td>53516.15816</td><td>5.8023e-16</td><td>9.08499e-18</td><td>SDSS_r</td></tr>\n",
       "<tr><td>306</td><td>53516.16166</td><td>5.91562e-16</td><td>9.26242e-18</td><td>BessellV</td></tr>\n",
       "<tr><td>307</td><td>53516.17168</td><td>4.92947e-16</td><td>8.62639e-18</td><td>BessellB</td></tr>\n",
       "<tr><td>308</td><td>53516.4</td><td>5.05825e-16</td><td>7.45411e-18</td><td>BessellB</td></tr>\n",
       "<tr><td>309</td><td>53516.4</td><td>6.12633e-16</td><td>8.46383e-18</td><td>BessellV</td></tr>\n",
       "<tr><td>310</td><td>53516.4</td><td>6.14894e-16</td><td>8.49507e-18</td><td>SDSS_g</td></tr>\n",
       "<tr><td>311</td><td>53517.4</td><td>5.71742e-16</td><td>7.89891e-18</td><td>BessellV</td></tr>\n",
       "<tr><td>312</td><td>53517.4</td><td>4.49159e-16</td><td>6.61905e-18</td><td>BessellB</td></tr>\n",
       "<tr><td>313</td><td>53517.4</td><td>5.67545e-16</td><td>1.51591e-17</td><td>SDSS_g</td></tr>\n",
       "<tr><td>314</td><td>53520.5</td><td>4.58353e-16</td><td>6.33238e-18</td><td>BessellV</td></tr>\n",
       "<tr><td>315</td><td>53520.5</td><td>3.30826e-16</td><td>4.87524e-18</td><td>BessellB</td></tr>\n",
       "<tr><td>316</td><td>53520.5</td><td>4.35311e-16</td><td>6.01405e-18</td><td>SDSS_g</td></tr>\n",
       "<tr><td>317</td><td>53521.4</td><td>4.14572e-16</td><td>8.40037e-18</td><td>SDSS_g</td></tr>\n",
       "<tr><td>318</td><td>53521.4</td><td>4.28943e-16</td><td>5.92607e-18</td><td>BessellV</td></tr>\n",
       "<tr><td>319</td><td>53521.4</td><td>3.08745e-16</td><td>4.54984e-18</td><td>BessellB</td></tr>\n",
       "<tr><td>320</td><td>53522.15679</td><td>3.77746e-16</td><td>9.39376e-18</td><td>SDSS_r</td></tr>\n",
       "<tr><td>321</td><td>53522.15723</td><td>4.08131e-16</td><td>8.26986e-18</td><td>SDSS_r</td></tr>\n",
       "<tr><td>322</td><td>53522.16139</td><td>2.73401e-16</td><td>6.79891e-18</td><td>BessellB</td></tr>\n",
       "<tr><td>323</td><td>53522.1748</td><td>4.04762e-16</td><td>1.00656e-17</td><td>SDSS_r</td></tr>\n",
       "<tr><td>324</td><td>53522.4</td><td>3.53834e-16</td><td>4.8884e-18</td><td>SDSS_i</td></tr>\n",
       "<tr><td>325</td><td>53522.4</td><td>3.92645e-16</td><td>6.50951e-18</td><td>BessellV</td></tr>\n",
       "<tr><td>326</td><td>53522.4</td><td>2.87078e-16</td><td>6.61022e-18</td><td>BessellB</td></tr>\n",
       "<tr><td>327</td><td>53522.4</td><td>4.15719e-16</td><td>5.74337e-18</td><td>SDSS_r</td></tr>\n",
       "<tr><td>328</td><td>53523.5</td><td>2.54449e-16</td><td>4.2184e-18</td><td>BessellB</td></tr>\n",
       "<tr><td>329</td><td>53523.5</td><td>3.90481e-16</td><td>5.3947e-18</td><td>SDSS_r</td></tr>\n",
       "<tr><td>330</td><td>53523.5</td><td>3.24489e-16</td><td>4.48298e-18</td><td>SDSS_i</td></tr>\n",
       "<tr><td>331</td><td>53523.5</td><td>3.56123e-16</td><td>4.92002e-18</td><td>BessellV</td></tr>\n",
       "<tr><td>332</td><td>53524.14587</td><td>3.54487e-16</td><td>7.18288e-18</td><td>SDSS_r</td></tr>\n",
       "<tr><td>333</td><td>53524.14756</td><td>2.81579e-16</td><td>6.48359e-18</td><td>SDSS_i</td></tr>\n",
       "<tr><td>334</td><td>53524.14938</td><td>3.40722e-16</td><td>7.53159e-18</td><td>BessellV</td></tr>\n",
       "<tr><td>335</td><td>53524.15944</td><td>2.34423e-16</td><td>5.39779e-18</td><td>BessellB</td></tr>\n",
       "<tr><td>336</td><td>53524.4</td><td>3.38221e-16</td><td>4.67269e-18</td><td>BessellV</td></tr>\n",
       "<tr><td>337</td><td>53524.4</td><td>3.5156e-16</td><td>6.47598e-18</td><td>SDSS_r</td></tr>\n",
       "<tr><td>338</td><td>53524.4</td><td>2.26152e-16</td><td>3.54099e-18</td><td>BessellB</td></tr>\n",
       "<tr><td>339</td><td>53524.4</td><td>3.07893e-16</td><td>7.65666e-18</td><td>SDSS_i</td></tr>\n",
       "<tr><td>340</td><td>53525.4</td><td>3.37598e-16</td><td>4.66409e-18</td><td>SDSS_r</td></tr>\n",
       "<tr><td>341</td><td>53525.4</td><td>2.93494e-16</td><td>4.05478e-18</td><td>SDSS_i</td></tr>\n",
       "<tr><td>342</td><td>53525.4</td><td>2.11252e-16</td><td>7.39366e-18</td><td>BessellB</td></tr>\n",
       "<tr><td>343</td><td>53525.4</td><td>3.15355e-16</td><td>7.84223e-18</td><td>BessellV</td></tr>\n",
       "<tr><td>344</td><td>53526.14727</td><td>3.0507e-16</td><td>5.33862e-18</td><td>SDSS_r</td></tr>\n",
       "<tr><td>345</td><td>53526.14896</td><td>2.59418e-16</td><td>4.77866e-18</td><td>SDSS_i</td></tr>\n",
       "<tr><td>346</td><td>53526.15076</td><td>2.77971e-16</td><td>4.8644e-18</td><td>BessellV</td></tr>\n",
       "<tr><td>347</td><td>53526.16081</td><td>1.87068e-16</td><td>5.34118e-18</td><td>BessellB</td></tr>\n",
       "<tr><td>348</td><td>53526.4</td><td>1.81635e-16</td><td>8.5319e-18</td><td>BessellB</td></tr>\n",
       "<tr><td>349</td><td>53526.4</td><td>3.26287e-16</td><td>4.50782e-18</td><td>SDSS_r</td></tr>\n",
       "<tr><td>350</td><td>53526.4</td><td>2.74157e-16</td><td>3.78762e-18</td><td>SDSS_i</td></tr>\n",
       "<tr><td>351</td><td>53526.4</td><td>2.86286e-16</td><td>4.74622e-18</td><td>BessellV</td></tr>\n",
       "<tr><td>352</td><td>53527.5</td><td>2.67178e-16</td><td>3.6912e-18</td><td>BessellV</td></tr>\n",
       "<tr><td>353</td><td>53527.5</td><td>1.79639e-16</td><td>2.64725e-18</td><td>BessellB</td></tr>\n",
       "<tr><td>354</td><td>53527.5</td><td>3.02552e-16</td><td>4.17991e-18</td><td>SDSS_r</td></tr>\n",
       "<tr><td>355</td><td>53527.5</td><td>2.47286e-16</td><td>3.41639e-18</td><td>SDSS_i</td></tr>\n",
       "<tr><td>356</td><td>53528.5</td><td>2.55153e-16</td><td>3.52506e-18</td><td>BessellV</td></tr>\n",
       "<tr><td>357</td><td>53528.5</td><td>1.77664e-16</td><td>2.61816e-18</td><td>BessellB</td></tr>\n",
       "<tr><td>358</td><td>53529.5</td><td>2.4188e-16</td><td>3.3417e-18</td><td>BessellV</td></tr>\n",
       "<tr><td>359</td><td>53529.5</td><td>1.62331e-16</td><td>2.5417e-18</td><td>BessellB</td></tr>\n",
       "<tr><td>360</td><td>53529.5</td><td>2.21411e-16</td><td>3.05891e-18</td><td>SDSS_g</td></tr>\n",
       "<tr><td>361</td><td>53530.5</td><td>2.10863e-16</td><td>4.07845e-18</td><td>SDSS_g</td></tr>\n",
       "<tr><td>362</td><td>53530.5</td><td>1.52195e-16</td><td>2.52318e-18</td><td>BessellB</td></tr>\n",
       "<tr><td>363</td><td>53530.5</td><td>2.32274e-16</td><td>3.63684e-18</td><td>BessellV</td></tr>\n",
       "<tr><td>364</td><td>53538.5</td><td>1.65653e-16</td><td>2.28858e-18</td><td>BessellV</td></tr>\n",
       "<tr><td>365</td><td>53538.5</td><td>1.09951e-16</td><td>3.74695e-18</td><td>BessellB</td></tr>\n",
       "<tr><td>366</td><td>53538.5</td><td>1.03753e-16</td><td>4.10908e-18</td><td>BessellB</td></tr>\n",
       "<tr><td>367</td><td>53538.5</td><td>1.66878e-16</td><td>2.30551e-18</td><td>BessellV</td></tr>\n",
       "<tr><td>368</td><td>53539.5</td><td>1.63833e-16</td><td>2.86701e-18</td><td>BessellV</td></tr>\n",
       "<tr><td>369</td><td>53542.5</td><td>1.47503e-16</td><td>2.44539e-18</td><td>BessellV</td></tr>\n",
       "<tr><td>370</td><td>53542.5</td><td>8.6856e-17</td><td>5.43982e-18</td><td>BessellB</td></tr>\n",
       "<tr><td>371</td><td>53565.5</td><td>7.45418e-17</td><td>2.85607e-17</td><td>SDSS_r</td></tr>\n",
       "<tr><td>372</td><td>53565.5</td><td>7.33162e-17</td><td>1.48559e-18</td><td>BessellV</td></tr>\n",
       "<tr><td>373</td><td>53565.5</td><td>6.79829e-17</td><td>1.10828e-17</td><td>SDSS_i</td></tr>\n",
       "<tr><td>374</td><td>53565.5</td><td>4.87529e-17</td><td>2.82889e-18</td><td>BessellB</td></tr>\n",
       "<tr><td>375</td><td>53569.5</td><td>3.97375e-17</td><td>4.86774e-18</td><td>BessellB</td></tr>\n",
       "<tr><td>376</td><td>53569.5</td><td>5.95936e-17</td><td>2.30529e-18</td><td>BessellV</td></tr>\n",
       "</table><style>table.dataTable {clear: both; width: auto !important; margin: 0 !important;}\n",
       ".dataTables_info, .dataTables_length, .dataTables_filter, .dataTables_paginate{\n",
       "display: inline-block; margin-right: 1em; }\n",
       ".paginate_button { margin-right: 5px; }\n",
       "</style>\n",
       "<script>\n",
       "require.config({paths: {\n",
       "    datatables: 'https://cdn.datatables.net/1.10.12/js/jquery.dataTables.min'\n",
       "}});\n",
       "require([\"datatables\"], function(){\n",
       "    console.log(\"$('#table4625449256-304998').dataTable()\");\n",
       "    $('#table4625449256-304998').dataTable({\n",
       "        \"order\": [],\n",
       "        \"iDisplayLength\": 10,\n",
       "        \"aLengthMenu\": [[10, 25, 50, 100, 500, 1000, -1], [10, 25, 50, 100, 500, 1000, 'All']],\n",
       "        \"pagingType\": \"full_numbers\"\n",
       "    });\n",
       "});\n",
       "</script>\n"
      ],
      "text/plain": [
       "<IPython.core.display.HTML object>"
      ]
     },
     "execution_count": 10,
     "metadata": {},
     "output_type": "execute_result"
    }
   ],
   "source": [
    "P_new = pcc.load(os.path.join(pcc._default_data_dir_path,\"lc/SN2005bf.dat\"), verbose = False)\n",
    "P_new.phot.show_in_notebook(display_length = 10)"
   ]
  },
  {
   "cell_type": "markdown",
   "metadata": {},
   "source": [
    "This uses **`PhotometryClass.unpack()`** to convert back from this format to individual filter files, putting them in an `OrderedDict`, **`PhotometryClass.data`**."
   ]
  },
  {
   "cell_type": "code",
   "execution_count": 11,
   "metadata": {
    "collapsed": true
   },
   "outputs": [],
   "source": [
    "P_new.unpack()"
   ]
  },
  {
   "cell_type": "code",
   "execution_count": 12,
   "metadata": {
    "scrolled": true
   },
   "outputs": [
    {
     "data": {
      "text/plain": [
       "odict_keys(['BessellB', 'BessellV', 'SDSS_g', 'SDSS_i', 'SDSS_r'])"
      ]
     },
     "execution_count": 12,
     "metadata": {},
     "output_type": "execute_result"
    }
   ],
   "source": [
    "P_new.data.keys()"
   ]
  },
  {
   "cell_type": "code",
   "execution_count": 13,
   "metadata": {},
   "outputs": [
    {
     "data": {
      "text/plain": [
       "OrderedDict([('BessellB', <pycoco.classes.FilterClass at 0x113ab5278>),\n",
       "             ('BessellV', <pycoco.classes.FilterClass at 0x113b525c0>),\n",
       "             ('SDSS_g', <pycoco.classes.FilterClass at 0x113b71978>),\n",
       "             ('SDSS_i', <pycoco.classes.FilterClass at 0x113ab5978>),\n",
       "             ('SDSS_r', <pycoco.classes.FilterClass at 0x113b2cc18>)])"
      ]
     },
     "execution_count": 13,
     "metadata": {},
     "output_type": "execute_result"
    }
   ],
   "source": [
    "P_new.data_filters"
   ]
  },
  {
   "cell_type": "markdown",
   "metadata": {},
   "source": [
    "# File Output\n",
    "----\n",
    "\n",
    "File out to a directory of choice can be done using **`PhotometryClass.save()`**, using the default directory: "
   ]
  },
  {
   "cell_type": "code",
   "execution_count": 14,
   "metadata": {},
   "outputs": [
    {
     "name": "stdout",
     "output_type": "stream",
     "text": [
      "has data\n",
      "No directory specified, assuming /Users/berto/Code/CoCo/data/lc/\n",
      "/Users/berto/Code/CoCo/data/lc/SN2005bf.dat\n",
      "Overwriting /Users/berto/Code/CoCo/data/lc/SN2005bf.dat\n"
     ]
    },
    {
     "name": "stderr",
     "output_type": "stream",
     "text": [
      "/Users/berto/Code/verbose-enigma/pycoco/classes.py:751: UserWarning: Found existing file matching /Users/berto/Code/CoCo/data/lc/SN2005bf.dat. Run with squash = True to overwrite\n",
      "  warnings.warn(\"Found existing file matching \" + outpath + \". Run with squash = True to overwrite\")\n"
     ]
    }
   ],
   "source": [
    "P.save(\"SN2005bf.dat\", squash = True)"
   ]
  },
  {
   "cell_type": "markdown",
   "metadata": {
    "scrolled": false
   },
   "source": [
    "# Plotting Photometry\n",
    "----\n",
    "\n",
    "Once the photometry is loaded in, you can view it using **`PhotometryClass.plot()`**, which accepts **`matplotlib.pyplot`** **`args`** and **`kwargs`**."
   ]
  },
  {
   "cell_type": "code",
   "execution_count": 15,
   "metadata": {
    "scrolled": false
   },
   "outputs": [
    {
     "data": {
      "image/png": "[encoded data removed]",
      "text/plain": [
       "<matplotlib.figure.Figure at 0x113a264a8>"
      ]
     },
     "metadata": {},
     "output_type": "display_data"
    }
   ],
   "source": [
    "P.plot()"
   ]
  },
  {
   "cell_type": "markdown",
   "metadata": {},
   "source": [
    "Looks good!"
   ]
  },
  {
   "cell_type": "markdown",
   "metadata": {},
   "source": [
    "## Associating **`FilterClass`** with Photometry\n",
    "----"
   ]
  },
  {
   "cell_type": "markdown",
   "metadata": {
    "collapsed": true
   },
   "source": [
    "What we will demonstrate now is associating **`FilterClass`** with the photometry. **`PhotometryClass`** knows about the default filter directory (but another can be specified using **`PhotometryClass.set_filter_directory`**):"
   ]
  },
  {
   "cell_type": "code",
   "execution_count": 16,
   "metadata": {},
   "outputs": [
    {
     "data": {
      "text/plain": [
       "'/Users/berto/Code/CoCo/data/filters'"
      ]
     },
     "execution_count": 16,
     "metadata": {},
     "output_type": "execute_result"
    }
   ],
   "source": [
    "P.filter_directory"
   ]
  },
  {
   "cell_type": "markdown",
   "metadata": {},
   "source": [
    "The **`PhotometryClass.load_phot_from_files()`** and **`PhotometryClass.load_formatted_phot()`** (the latter is used by **`pcc.load()`**) methods automatically search the filter directory for the appropriate filters using **`pcc.load_filter()`**, and loads them in. For more on **`pycocoo.FilterClass`** see `pycoco_adding_filters.ipynb`.\n",
    "\n",
    "If we take a look, we can see that we have 5 **`FilterClass`** instances, one for each of the photometry files."
   ]
  },
  {
   "cell_type": "code",
   "execution_count": 17,
   "metadata": {},
   "outputs": [
    {
     "data": {
      "text/plain": [
       "OrderedDict([('BessellB', <pycoco.classes.FilterClass at 0x113a26fd0>),\n",
       "             ('SDSS_g', <pycoco.classes.FilterClass at 0x113ac6ba8>),\n",
       "             ('BessellV', <pycoco.classes.FilterClass at 0x113ab5da0>),\n",
       "             ('SDSS_r', <pycoco.classes.FilterClass at 0x113add240>),\n",
       "             ('SDSS_i', <pycoco.classes.FilterClass at 0x113ab5c88>)])"
      ]
     },
     "execution_count": 17,
     "metadata": {},
     "output_type": "execute_result"
    }
   ],
   "source": [
    "P.data_filters"
   ]
  },
  {
   "cell_type": "markdown",
   "metadata": {},
   "source": [
    "We can have a look at the spectral coverage of the photometry by using the **`PhotometryClass.plot_filters()`** method:"
   ]
  },
  {
   "cell_type": "code",
   "execution_count": 18,
   "metadata": {
    "scrolled": false
   },
   "outputs": [
    {
     "data": {
      "image/png": "[encoded data removed]",
      "text/plain": [
       "<matplotlib.figure.Figure at 0x113bee940>"
      ]
     },
     "metadata": {},
     "output_type": "display_data"
    }
   ],
   "source": [
    "P.plot_filters(legend = True)"
   ]
  },
  {
   "cell_type": "markdown",
   "metadata": {
    "collapsed": true
   },
   "source": [
    "This looks good! We have good spectral coverage."
   ]
  },
  {
   "cell_type": "code",
   "execution_count": null,
   "metadata": {
    "collapsed": true
   },
   "outputs": [],
   "source": []
  }
 ],
 "metadata": {
  "anaconda-cloud": {},
  "kernelspec": {
   "display_name": "Python 3",
   "language": "python",
   "name": "python3"
  },
  "language_info": {
   "codemirror_mode": {
    "name": "ipython",
    "version": 3
   },
   "file_extension": ".py",
   "mimetype": "text/x-python",
   "name": "python",
   "nbconvert_exporter": "python",
   "pygments_lexer": "ipython3",
   "version": "3.6.1"
  }
 },
 "nbformat": 4,
 "nbformat_minor": 1
}
