{
 "cells": [
  {
   "cell_type": "markdown",
   "metadata": {},
   "source": [
    "# **`pycoco`** InfoClass\n",
    "----"
   ]
  },
  {
   "cell_type": "code",
   "execution_count": 1,
   "metadata": {
    "collapsed": true
   },
   "outputs": [],
   "source": [
    "# %matplotlib inline\n",
    "%matplotlib notebook\n",
    "\n",
    "try:\n",
    "    from importlib import reload\n",
    "except:\n",
    "    pass\n",
    "\n",
    "from __future__ import print_function ## Force python3-like printing\n",
    "\n",
    "import os\n",
    "\n",
    "from matplotlib import pyplot as plt\n",
    "from matplotlib import rc\n",
    "rc('text', usetex=True)\n",
    "\n",
    "from astropy.table import Table,Column"
   ]
  },
  {
   "cell_type": "code",
   "execution_count": 2,
   "metadata": {},
   "outputs": [],
   "source": [
    "import json\n",
    "import pandas as pd\n",
    "import numpy as np\n",
    "\n",
    "import pycoco as pcc\n",
    "import pyCoCo as pccsim\n",
    "\n",
    "from astropy.cosmology import LambdaCDM\n",
    "from astropy.coordinates import Distance\n",
    "from scipy.interpolate import InterpolatedUnivariateSpline\n",
    "\n",
    "import lsst_tools as lsstt\n",
    "from lcsim.simlib import SIMLIBReader\n",
    "from lcsim.lcsim import LCSim\n",
    "from datetime import datetime"
   ]
  },
  {
   "cell_type": "code",
   "execution_count": 3,
   "metadata": {
    "collapsed": true
   },
   "outputs": [],
   "source": [
    "info = pcc.InfoClass()\n",
    "info.load()"
   ]
  },
  {
   "cell_type": "code",
   "execution_count": 8,
   "metadata": {},
   "outputs": [
    {
     "data": {
      "text/html": [
       "&lt;Table length=29&gt;\n",
       "<table id=\"table4805546616\" class=\"table-striped table-bordered table-condensed\">\n",
       "<thead><tr><th>snname</th><th>z_obs</th><th>mu</th><th>RA</th><th>Dec</th><th>Type</th><th>z_distmod</th><th>SkyCoords</th></tr></thead>\n",
       "<thead><tr><th></th><th></th><th></th><th></th><th></th><th></th><th></th><th>deg,deg</th></tr></thead>\n",
       "<thead><tr><th>str8</th><th>float64</th><th>float64</th><th>str13</th><th>str13</th><th>str3</th><th>float64</th><th>object</th></tr></thead>\n",
       "<tr><td>SN1993J</td><td>-0.0001</td><td>27.82</td><td>09:55:24.7747</td><td>+69:01:13.702</td><td>IIb</td><td>0.000846738572565</td><td>148.85322791666664,69.02047277777778</td></tr>\n",
       "<tr><td>SN1994I</td><td>0.0015</td><td>29.5</td><td>13:29:54.072</td><td>+47:11:30.50</td><td>Ic</td><td>0.00183405936245</td><td>202.47529999999995,47.191805555555554</td></tr>\n",
       "<tr><td>SN1996cb</td><td>0.0024</td><td>30.69</td><td>11:03:41.98</td><td>+28:54:13.7</td><td>IIb</td><td>0.00316927429656</td><td>165.92491666666666,28.903805555555554</td></tr>\n",
       "<tr><td>SN1998bw</td><td>0.0085</td><td>32.69</td><td>19:35:03.17</td><td>-52:50:46.1</td><td>Ic</td><td>0.00793139066351</td><td>293.76320833333324,-52.846138888888895</td></tr>\n",
       "<tr><td>SN1999dn</td><td>0.0093</td><td>32.44</td><td>23:36:14.70</td><td>+02:09:08.8</td><td>Ib</td><td>0.00707356943452</td><td>354.06125,2.1524444444444444</td></tr>\n",
       "<tr><td>SN2002ap</td><td>0.0022</td><td>29.76</td><td>01:36:23.85</td><td>+15:45:13.2</td><td>Ic</td><td>0.00206697015014</td><td>24.099375,15.753666666666666</td></tr>\n",
       "<tr><td>SN2003jd</td><td>0.0188</td><td>34.33</td><td>23:21:03.38</td><td>-04:53:45.5</td><td>Ic</td><td>0.01676453466</td><td>350.2640833333333,-4.8959722222222215</td></tr>\n",
       "<tr><td>SN2004aw</td><td>0.0159</td><td>34.48</td><td>11:57:50.24</td><td>+25:15:55.1</td><td>Ic</td><td>0.0179472672379</td><td>179.45933333333332,25.265305555555557</td></tr>\n",
       "<tr><td>SN2005bf</td><td>0.0189</td><td>34.73</td><td>10:23:56.99</td><td>-03:11:29.3</td><td>Ib</td><td>0.0201040285508</td><td>155.9874583333333,-3.191472222222222</td></tr>\n",
       "<tr><td>...</td><td>...</td><td>...</td><td>...</td><td>...</td><td>...</td><td>...</td><td>...</td></tr>\n",
       "<tr><td>SN2009er</td><td>0.035</td><td>36.01</td><td>15:39:29.84</td><td>+24:26:05.3</td><td>Ib</td><td>0.0358210027658</td><td>234.8743333333333,24.434805555555556</td></tr>\n",
       "<tr><td>SN2009iz</td><td>0.0142</td><td>33.75</td><td>02:42:15.41</td><td>+42:23:50.1</td><td>Ib</td><td>0.0128732980981</td><td>40.564208333333326,42.39725</td></tr>\n",
       "<tr><td>SN2009jf</td><td>0.008</td><td>32.58</td><td>23:04:52.98</td><td>+12:19:59.5</td><td>Ib</td><td>0.00754189788211</td><td>346.22074999999995,12.333194444444445</td></tr>\n",
       "<tr><td>SN2010al</td><td>0.017</td><td>34.74</td><td>08:14:15.91</td><td>+18:26:18.2</td><td>Ib</td><td>0.0201954171702</td><td>123.56629166666664,18.438388888888888</td></tr>\n",
       "<tr><td>SN2011bm</td><td>0.0022</td><td>35.53</td><td>12:56:53.89</td><td>+22:22:28.2</td><td>Ic</td><td>0.0288668876597</td><td>194.22454166666665,22.3745</td></tr>\n",
       "<tr><td>SN2011dh</td><td>0.0015</td><td>29.5</td><td>13:30:05.1055</td><td>+47:10:10.922</td><td>IIb</td><td>0.00183405936245</td><td>202.52127291666665,47.16970055555555</td></tr>\n",
       "<tr><td>SN2011ei</td><td>0.0093</td><td>32.41</td><td>20:34:22.62</td><td>-31:58:23.6</td><td>IIb</td><td>0.00697703973932</td><td>308.59424999999993,-31.97322222222222</td></tr>\n",
       "<tr><td>SN2011fu</td><td>0.0185</td><td>34.46</td><td>02:08:21.41</td><td>+41:29:12.3</td><td>IIb</td><td>0.0177849337761</td><td>32.08920833333333,41.48675</td></tr>\n",
       "<tr><td>SN2012ap</td><td>0.0121</td><td>32.96</td><td>05:00:13.72</td><td>-03:20:51.2</td><td>Ib</td><td>0.00897424974731</td><td>75.05716666666666,-3.3475555555555556</td></tr>\n",
       "<tr><td>SN2013ge</td><td>0.0043</td><td>31.36</td><td>10:34:48.46</td><td>+21:39:41.9</td><td>Ib</td><td>0.00431094726025</td><td>158.70191666666665,21.661638888888888</td></tr>\n",
       "</table>"
      ],
      "text/plain": [
       "<Table length=29>\n",
       " snname   z_obs  ...     z_distmod                   SkyCoords               \n",
       "                 ...                                  deg,deg                \n",
       "  str8   float64 ...      float64                      object                \n",
       "-------- ------- ... ----------------- --------------------------------------\n",
       " SN1993J -0.0001 ... 0.000846738572565   148.85322791666664,69.02047277777778\n",
       " SN1994I  0.0015 ...  0.00183405936245  202.47529999999995,47.191805555555554\n",
       "SN1996cb  0.0024 ...  0.00316927429656  165.92491666666666,28.903805555555554\n",
       "SN1998bw  0.0085 ...  0.00793139066351 293.76320833333324,-52.846138888888895\n",
       "SN1999dn  0.0093 ...  0.00707356943452           354.06125,2.1524444444444444\n",
       "SN2002ap  0.0022 ...  0.00206697015014           24.099375,15.753666666666666\n",
       "SN2003jd  0.0188 ...     0.01676453466  350.2640833333333,-4.8959722222222215\n",
       "SN2004aw  0.0159 ...   0.0179472672379  179.45933333333332,25.265305555555557\n",
       "SN2005bf  0.0189 ...   0.0201040285508   155.9874583333333,-3.191472222222222\n",
       "     ...     ... ...               ...                                    ...\n",
       "SN2009er   0.035 ...   0.0358210027658   234.8743333333333,24.434805555555556\n",
       "SN2009iz  0.0142 ...   0.0128732980981            40.564208333333326,42.39725\n",
       "SN2009jf   0.008 ...  0.00754189788211  346.22074999999995,12.333194444444445\n",
       "SN2010al   0.017 ...   0.0201954171702  123.56629166666664,18.438388888888888\n",
       "SN2011bm  0.0022 ...   0.0288668876597             194.22454166666665,22.3745\n",
       "SN2011dh  0.0015 ...  0.00183405936245   202.52127291666665,47.16970055555555\n",
       "SN2011ei  0.0093 ...  0.00697703973932  308.59424999999993,-31.97322222222222\n",
       "SN2011fu  0.0185 ...   0.0177849337761             32.08920833333333,41.48675\n",
       "SN2012ap  0.0121 ...  0.00897424974731  75.05716666666666,-3.3475555555555556\n",
       "SN2013ge  0.0043 ...  0.00431094726025  158.70191666666665,21.661638888888888"
      ]
     },
     "execution_count": 8,
     "metadata": {},
     "output_type": "execute_result"
    }
   ],
   "source": [
    "info.table"
   ]
  },
  {
   "cell_type": "code",
   "execution_count": null,
   "metadata": {},
   "outputs": [],
   "source": []
  },
  {
   "cell_type": "code",
   "execution_count": null,
   "metadata": {},
   "outputs": [],
   "source": []
  },
  {
   "cell_type": "code",
   "execution_count": null,
   "metadata": {},
   "outputs": [],
   "source": []
  },
  {
   "cell_type": "code",
   "execution_count": null,
   "metadata": {
    "collapsed": true
   },
   "outputs": [],
   "source": []
  }
 ],
 "metadata": {
  "anaconda-cloud": {},
  "kernelspec": {
   "display_name": "Python 3",
   "language": "python",
   "name": "python3"
  },
  "language_info": {
   "codemirror_mode": {
    "name": "ipython",
    "version": 3
   },
   "file_extension": ".py",
   "mimetype": "text/x-python",
   "name": "python",
   "nbconvert_exporter": "python",
   "pygments_lexer": "ipython3",
   "version": "3.6.1"
  }
 },
 "nbformat": 4,
 "nbformat_minor": 1
}
