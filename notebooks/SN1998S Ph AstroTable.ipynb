{
 "cells": [
  {
   "cell_type": "markdown",
   "metadata": {},
   "source": [
    "# SN1998S and Template"
   ]
  },
  {
   "cell_type": "code",
   "execution_count": 1,
   "metadata": {
    "collapsed": true
   },
   "outputs": [],
   "source": [
    "import matplotlib.pyplot as plt\n",
    "import os\n",
    "import numpy as np\n",
    "from astropy.table import Table, Column\n",
    "import astropy.units as u\n",
    "import pycoco as pcc\n",
    "import json\n",
    "from scipy.integrate import simps"
   ]
  },
  {
   "cell_type": "markdown",
   "metadata": {},
   "source": [
    "Change SN_name to retrieve data from that super nova provided its stored in the data file"
   ]
  },
  {
   "cell_type": "code",
   "execution_count": 2,
   "metadata": {},
   "outputs": [
    {
     "name": "stdout",
     "output_type": "stream",
     "text": [
      "SN1998S.dat /Users/bertiepwhite/code/Data/SN1998S.dat\n"
     ]
    }
   ],
   "source": [
    "SN_folder = \"/Users/bertiepwhite/code/Data/\"    #The location where the .jsonn files are stored before handling\n",
    "SN_name = \"SN1998S\"                             #Current Supernova being worked on \n",
    "SN_file_name = SN_name + \".json\"                #Produces the file name\n",
    "path = os.path.join(SN_folder,SN_file_name)     #Produces the file location\n",
    "\n",
    "\n",
    "#Creating the file for the data to be deposited\n",
    "dat_file_name = SN_name +'.dat'\n",
    "file_location = SN_folder + dat_file_name\n",
    "print(dat_file_name,file_location)\n",
    "f = open(file_location,'w+')\n",
    "f.close()\n"
   ]
  },
  {
   "cell_type": "markdown",
   "metadata": {},
   "source": [
    "Retrieving the data and splitting into 2 ditionaries one for photometry (ph) one for spectra (sp)"
   ]
  },
  {
   "cell_type": "code",
   "execution_count": 3,
   "metadata": {},
   "outputs": [
    {
     "data": {
      "text/plain": [
       "{'band': 'V',\n",
       " 'magnitude': '13.39',\n",
       " 'source': '14,18',\n",
       " 'time': '50877.79',\n",
       " 'u_time': 'MJD'}"
      ]
     },
     "execution_count": 3,
     "metadata": {},
     "output_type": "execute_result"
    }
   ],
   "source": [
    "data = json.load(open(path,'r'))                #Grabs the file\n",
    "\n",
    "ph_dict = data[SN_name][\"photometry\"]           #Spits the file into the 2 components\n",
    "sp_dict = data[SN_name][\"spectra\"]              \n",
    "\n",
    "ph_dict[3] #This is included to check the general form is as expected"
   ]
  },
  {
   "cell_type": "markdown",
   "metadata": {},
   "source": [
    "Generating a list of the filters used"
   ]
  },
  {
   "cell_type": "code",
   "execution_count": 4,
   "metadata": {},
   "outputs": [
    {
     "data": {
      "text/plain": [
       "['C', 'B', 'V', 'R', 'I']"
      ]
     },
     "execution_count": 4,
     "metadata": {},
     "output_type": "execute_result"
    }
   ],
   "source": [
    "j = 0\n",
    "filter_list = []\n",
    "\n",
    "for i in range (0,528):\n",
    "    if ph_dict[j]['magnitude'] != 0:\n",
    "        band = ph_dict[j]['band']\n",
    "        if band not in filter_list:\n",
    "            filter_list.append(band)\n",
    "        j += 1\n",
    "filter_list"
   ]
  },
  {
   "cell_type": "markdown",
   "metadata": {},
   "source": [
    "Producing a list of the full names corrosponding to the list above"
   ]
  },
  {
   "cell_type": "code",
   "execution_count": 5,
   "metadata": {
    "collapsed": true
   },
   "outputs": [],
   "source": [
    "filt_dict = {\"B\" : \"BessellB\",\n",
    "             \"V\" : \"BessellV\",\n",
    "             \"R\" : \"BessellR\",\n",
    "             \"I\" : \"BessellI\",\n",
    "             \"U\" : \"BessellU\"}"
   ]
  },
  {
   "cell_type": "markdown",
   "metadata": {},
   "source": [
    "Generating the data columns, We see they take the form Band, magnitude, errror, time"
   ]
  },
  {
   "cell_type": "code",
   "execution_count": null,
   "metadata": {},
   "outputs": [],
   "source": [
    "band_list = []\n",
    "mag_list = []\n",
    "mag_err_list = []\n",
    "time_list = []\n",
    "j = 0\n",
    "\n",
    "\n",
    "for a in range(0,528):\n",
    "    data_entry = []\n",
    "    \n",
    "    #Using the band shorthand given and converting that into the full name\n",
    "    key = (ph_dict[j]['band'])\n",
    "    if key in filt_dict.keys():\n",
    "        band = filt_dict[key]\n",
    "        band_list.append(band)\n",
    "    else:\n",
    "        band = 'skip'\n",
    "        \n",
    "    if band != 'skip':\n",
    "        mag_list.append(float(ph_dict[j]['magnitude'])) #Simply apppending the magnitude\n",
    "\n",
    "        try:\n",
    "            mag_err_list.append(float(ph_dict[j]['e_magnitude'])) #Appending the error on the magnitude and putting n/a \n",
    "        except KeyError:                                 #if that information is unavailable\n",
    "            mag_err_list.append(\"n/a\")\n",
    "        \n",
    "        \n",
    "        time_list.append(ph_dict[j]['time']) #Appending the time into the row\n",
    "        \n",
    "    j += 1\n",
    "    \n",
    "    "
   ]
  },
  {
   "cell_type": "code",
   "execution_count": 7,
   "metadata": {
    "scrolled": false
   },
   "outputs": [
    {
     "data": {
      "text/plain": [
       "<bound method Table.show_in_notebook of <Table length=124>\n",
       " filter    mag   mag_err   MJD   \n",
       "  str8   float64   str3    str8  \n",
       "-------- ------- ------- --------\n",
       "BessellB   13.48     n/a 50877.79\n",
       "BessellV   13.39     n/a 50877.79\n",
       "BessellV   13.17     n/a 50878.61\n",
       "BessellB   13.25     n/a 50878.66\n",
       "BessellV   12.94     n/a 50879.55\n",
       "BessellB   13.07     n/a 50879.61\n",
       "BessellV   12.29     n/a 50882.69\n",
       "BessellB   12.76     n/a  50884.7\n",
       "BessellV   12.46     n/a 50884.71\n",
       "BessellB   12.77     n/a 50885.53\n",
       "     ...     ...     ...      ...\n",
       "BessellV    16.3     n/a  50998.9\n",
       "BessellB   16.85     n/a  51000.0\n",
       "BessellI    15.1     n/a  51000.0\n",
       "BessellR   15.35     n/a  51000.0\n",
       "BessellV   16.14     n/a  51000.0\n",
       "BessellB   17.29     n/a  51021.0\n",
       "BessellI   15.53     n/a  51021.0\n",
       "BessellR   15.67     n/a  51021.0\n",
       "BessellV   16.64     n/a  51021.0\n",
       "BessellV    18.5     n/a 51137.13>"
      ]
     },
     "execution_count": 7,
     "metadata": {},
     "output_type": "execute_result"
    }
   ],
   "source": [
    "t = Table([band_list,mag_list,mag_err_list,time_list], names = ('filter','mag','mag_err', 'MJD'))\n",
    "t.show_in_notebook"
   ]
  },
  {
   "cell_type": "code",
   "execution_count": 8,
   "metadata": {},
   "outputs": [
    {
     "data": {
      "text/plain": [
       "{'band': 'C',\n",
       " 'magnitude': '16',\n",
       " 'source': '14,18',\n",
       " 'time': '50874.7',\n",
       " 'u_time': 'MJD'}"
      ]
     },
     "execution_count": 8,
     "metadata": {},
     "output_type": "execute_result"
    }
   ],
   "source": [
    "ph_dict[0]"
   ]
  },
  {
   "cell_type": "code",
   "execution_count": 9,
   "metadata": {},
   "outputs": [
    {
     "data": {
      "image/png": "[encoded data removed]",
      "text/plain": [
       "<matplotlib.figure.Figure at 0x11532e5f8>"
      ]
     },
     "metadata": {},
     "output_type": "display_data"
    },
    {
     "name": "stderr",
     "output_type": "stream",
     "text": [
      "/Users/bertiepwhite/code/pycoco/pycoco/utils.py:192: UserWarning: /Users/berto/Code/CoCo/data/filters/BessellI.dat is not a valid file. Returning 'False'.\n",
      "  \" is not a valid file. Returning 'False'.\")\n",
      "/Users/bertiepwhite/code/pycoco/pycoco/functions.py:86: UserWarning: Couldn't load the filter\n",
      "  warnings.warn(\"Couldn't load the filter\")\n"
     ]
    },
    {
     "ename": "AttributeError",
     "evalue": "'NoneType' object has no attribute 'resample_response'",
     "output_type": "error",
     "traceback": [
      "\u001b[0;31m---------------------------------------------------------------------------\u001b[0m",
      "\u001b[0;31mAttributeError\u001b[0m                            Traceback (most recent call last)",
      "\u001b[0;32m<ipython-input-9-e26d6b3bc201>\u001b[0m in \u001b[0;36m<module>\u001b[0;34m()\u001b[0m\n\u001b[1;32m     11\u001b[0m \u001b[0mV\u001b[0m\u001b[0;34m.\u001b[0m\u001b[0mread_filter_file\u001b[0m\u001b[0;34m(\u001b[0m\u001b[0mos\u001b[0m\u001b[0;34m.\u001b[0m\u001b[0mpath\u001b[0m\u001b[0;34m.\u001b[0m\u001b[0mjoin\u001b[0m\u001b[0;34m(\u001b[0m\u001b[0mpcc\u001b[0m\u001b[0;34m.\u001b[0m\u001b[0m_default_filter_dir_path\u001b[0m\u001b[0;34m,\u001b[0m \u001b[0;34m\"BessellI.dat\"\u001b[0m\u001b[0;34m)\u001b[0m\u001b[0;34m)\u001b[0m\u001b[0;34m\u001b[0m\u001b[0m\n\u001b[1;32m     12\u001b[0m \u001b[0mV\u001b[0m\u001b[0;34m.\u001b[0m\u001b[0mplot\u001b[0m\u001b[0;34m(\u001b[0m\u001b[0;34m)\u001b[0m\u001b[0;34m\u001b[0m\u001b[0m\n\u001b[0;32m---> 13\u001b[0;31m \u001b[0mzp\u001b[0m \u001b[0;34m=\u001b[0m \u001b[0mpcc\u001b[0m\u001b[0;34m.\u001b[0m\u001b[0mkcorr\u001b[0m\u001b[0;34m.\u001b[0m\u001b[0mcalc_vega_zp\u001b[0m\u001b[0;34m(\u001b[0m\u001b[0mfilter_name\u001b[0m \u001b[0;34m=\u001b[0m \u001b[0;34m\"BessellI\"\u001b[0m\u001b[0;34m,\u001b[0m \u001b[0mfilter_object\u001b[0m \u001b[0;34m=\u001b[0m \u001b[0mV\u001b[0m\u001b[0;34m)\u001b[0m\u001b[0;34m\u001b[0m\u001b[0m\n\u001b[0m\u001b[1;32m     14\u001b[0m \u001b[0;34m\u001b[0m\u001b[0m\n\u001b[1;32m     15\u001b[0m \u001b[0mdata\u001b[0m\u001b[0;34m[\u001b[0m\u001b[0;34m\"flux\"\u001b[0m\u001b[0;34m]\u001b[0m \u001b[0;34m=\u001b[0m \u001b[0mnp\u001b[0m\u001b[0;34m.\u001b[0m\u001b[0mpower\u001b[0m\u001b[0;34m(\u001b[0m\u001b[0;36m10.\u001b[0m\u001b[0;34m,\u001b[0m \u001b[0;34m(\u001b[0m\u001b[0mdata\u001b[0m\u001b[0;34m[\u001b[0m\u001b[0;34m\"mag\"\u001b[0m\u001b[0;34m]\u001b[0m \u001b[0;34m+\u001b[0m \u001b[0mzp\u001b[0m\u001b[0;34m)\u001b[0m\u001b[0;34m/\u001b[0m\u001b[0;34m-\u001b[0m\u001b[0;36m2.5\u001b[0m\u001b[0;34m)\u001b[0m\u001b[0;34m\u001b[0m\u001b[0m\n",
      "\u001b[0;32m/Users/bertiepwhite/code/pycoco/pycoco/kcorr.py\u001b[0m in \u001b[0;36mcalc_vega_zp\u001b[0;34m(filter_name, filter_object, vega_Vmag)\u001b[0m\n\u001b[1;32m    210\u001b[0m         \u001b[0mfilter_object\u001b[0m \u001b[0;34m=\u001b[0m \u001b[0mload_filter\u001b[0m\u001b[0;34m(\u001b[0m\u001b[0mos\u001b[0m\u001b[0;34m.\u001b[0m\u001b[0mpath\u001b[0m\u001b[0;34m.\u001b[0m\u001b[0mjoin\u001b[0m\u001b[0;34m(\u001b[0m\u001b[0m_default_filter_dir_path\u001b[0m\u001b[0;34m,\u001b[0m \u001b[0mfilter_name\u001b[0m \u001b[0;34m+\u001b[0m \u001b[0;34m\".dat\"\u001b[0m\u001b[0;34m)\u001b[0m\u001b[0;34m)\u001b[0m\u001b[0;34m\u001b[0m\u001b[0m\n\u001b[1;32m    211\u001b[0m \u001b[0;34m\u001b[0m\u001b[0m\n\u001b[0;32m--> 212\u001b[0;31m     \u001b[0mintegrated_flux\u001b[0m \u001b[0;34m=\u001b[0m \u001b[0mcalc_vega_flux\u001b[0m\u001b[0;34m(\u001b[0m\u001b[0mfilter_name\u001b[0m\u001b[0;34m)\u001b[0m\u001b[0;34m\u001b[0m\u001b[0m\n\u001b[0m\u001b[1;32m    213\u001b[0m     \u001b[0marea_corr_integrated_flux\u001b[0m \u001b[0;34m=\u001b[0m \u001b[0mintegrated_flux\u001b[0m \u001b[0;34m/\u001b[0m \u001b[0mcalc_filter_area\u001b[0m\u001b[0;34m(\u001b[0m\u001b[0mfilter_name\u001b[0m\u001b[0;34m)\u001b[0m\u001b[0;34m\u001b[0m\u001b[0m\n\u001b[1;32m    214\u001b[0m \u001b[0;34m\u001b[0m\u001b[0m\n",
      "\u001b[0;32m/Users/bertiepwhite/code/pycoco/pycoco/kcorr.py\u001b[0m in \u001b[0;36mcalc_vega_flux\u001b[0;34m(filter_name, filter_object)\u001b[0m\n\u001b[1;32m    193\u001b[0m     \u001b[0;31m# else if hasattr(filter_object, \"wavelength\"):\u001b[0m\u001b[0;34m\u001b[0m\u001b[0;34m\u001b[0m\u001b[0m\n\u001b[1;32m    194\u001b[0m \u001b[0;34m\u001b[0m\u001b[0m\n\u001b[0;32m--> 195\u001b[0;31m     \u001b[0mfilter_object\u001b[0m\u001b[0;34m.\u001b[0m\u001b[0mresample_response\u001b[0m\u001b[0;34m(\u001b[0m\u001b[0mnew_wavelength\u001b[0m \u001b[0;34m=\u001b[0m \u001b[0mvega\u001b[0m\u001b[0;34m.\u001b[0m\u001b[0mwavelength\u001b[0m\u001b[0;34m)\u001b[0m\u001b[0;34m\u001b[0m\u001b[0m\n\u001b[0m\u001b[1;32m    196\u001b[0m \u001b[0;34m\u001b[0m\u001b[0m\n\u001b[1;32m    197\u001b[0m     \u001b[0mtransmitted_spec\u001b[0m \u001b[0;34m=\u001b[0m \u001b[0mfilter_object\u001b[0m\u001b[0;34m.\u001b[0m\u001b[0mthroughput\u001b[0m \u001b[0;34m*\u001b[0m \u001b[0mvega\u001b[0m\u001b[0;34m.\u001b[0m\u001b[0mflux\u001b[0m\u001b[0;34m\u001b[0m\u001b[0m\n",
      "\u001b[0;31mAttributeError\u001b[0m: 'NoneType' object has no attribute 'resample_response'"
     ]
    }
   ],
   "source": [
    "# j = 0\n",
    "# for band in band_list:\n",
    "#     print(band)\n",
    "#     filter_object = pcc.load()\n",
    "#     zero_point = pcc.kcorr.calc_vega_zp(band)\n",
    "#     mag_list[j] = 10**((zero_point - mag_list[j])/2.5)\n",
    "#     j += 1\n",
    "#     print(band)\n",
    "    \n",
    "V = pcc.FilterClass()\n",
    "V.read_filter_file(os.path.join(pcc._default_filter_dir_path, \"BessellI.dat\"))\n",
    "V.plot()\n",
    "zp = pcc.kcorr.calc_vega_zp(filter_name = \"BessellI\", filter_object = V)\n",
    "\n",
    "data[\"flux\"] = np.power(10., (data[\"mag\"] + zp)/-2.5)\n",
    "data[\"flux_err\"] = 1.086 * data[\"flux\"]*(data[\"dmag\"]/data[\"mag\"])\n",
    "data[\"zp\"] = zp \n",
    "\n",
    "phot = pcc.PhotometryClass()\n",
    "\n",
    "phot.load_table(data, verbose = True)\n",
    "\n",
    "phot.plot()\n",
    "\n",
    "plot.show()"
   ]
  },
  {
   "cell_type": "code",
   "execution_count": null,
   "metadata": {},
   "outputs": [],
   "source": [
    "V = pcc.FilterClass()\n",
    "V.read_filter_file(os.path.join(pcc._default_filter_dir_path, \"BessellI.dat\"))\n",
    "V.plot()"
   ]
  },
  {
   "cell_type": "code",
   "execution_count": 13,
   "metadata": {},
   "outputs": [
    {
     "name": "stderr",
     "output_type": "stream",
     "text": [
      "/Users/bertiepwhite/code/pycoco/pycoco/utils.py:192: UserWarning: /Users/berto/Code/CoCo/data/filters/BessellB.dat is not a valid file. Returning 'False'.\n",
      "  \" is not a valid file. Returning 'False'.\")\n",
      "/Users/bertiepwhite/code/pycoco/pycoco/functions.py:86: UserWarning: Couldn't load the filter\n",
      "  warnings.warn(\"Couldn't load the filter\")\n"
     ]
    },
    {
     "ename": "AttributeError",
     "evalue": "'NoneType' object has no attribute 'resample_response'",
     "output_type": "error",
     "traceback": [
      "\u001b[0;31m---------------------------------------------------------------------------\u001b[0m",
      "\u001b[0;31mAttributeError\u001b[0m                            Traceback (most recent call last)",
      "\u001b[0;32m<ipython-input-13-db0ed9eb7ba3>\u001b[0m in \u001b[0;36m<module>\u001b[0;34m()\u001b[0m\n\u001b[1;32m      3\u001b[0m \u001b[0mband_location\u001b[0m \u001b[0;34m=\u001b[0m \u001b[0mfilter_file_location\u001b[0m \u001b[0;34m+\u001b[0m \u001b[0mband\u001b[0m \u001b[0;34m+\u001b[0m \u001b[0;34m\".dat\"\u001b[0m\u001b[0;34m\u001b[0m\u001b[0m\n\u001b[1;32m      4\u001b[0m \u001b[0mfilter_obj\u001b[0m \u001b[0;34m=\u001b[0m \u001b[0mpcc\u001b[0m\u001b[0;34m.\u001b[0m\u001b[0mkcorr\u001b[0m\u001b[0;34m.\u001b[0m\u001b[0mload_filter\u001b[0m\u001b[0;34m(\u001b[0m\u001b[0mband_location\u001b[0m\u001b[0;34m)\u001b[0m\u001b[0;34m\u001b[0m\u001b[0m\n\u001b[0;32m----> 5\u001b[0;31m \u001b[0mzp\u001b[0m \u001b[0;34m=\u001b[0m \u001b[0mpcc\u001b[0m\u001b[0;34m.\u001b[0m\u001b[0mkcorr\u001b[0m\u001b[0;34m.\u001b[0m\u001b[0mcalc_vega_zp\u001b[0m\u001b[0;34m(\u001b[0m\u001b[0mfilter_name\u001b[0m \u001b[0;34m=\u001b[0m \u001b[0;34m\"BessellB\"\u001b[0m\u001b[0;34m,\u001b[0m \u001b[0mfilter_object\u001b[0m \u001b[0;34m=\u001b[0m \u001b[0mfilter_obj\u001b[0m \u001b[0;34m)\u001b[0m\u001b[0;34m\u001b[0m\u001b[0m\n\u001b[0m\u001b[1;32m      6\u001b[0m \u001b[0;34m\u001b[0m\u001b[0m\n\u001b[1;32m      7\u001b[0m \u001b[0mprint\u001b[0m\u001b[0;34m(\u001b[0m\u001b[0mzp\u001b[0m\u001b[0;34m)\u001b[0m\u001b[0;34m\u001b[0m\u001b[0m\n",
      "\u001b[0;32m/Users/bertiepwhite/code/pycoco/pycoco/kcorr.py\u001b[0m in \u001b[0;36mcalc_vega_zp\u001b[0;34m(filter_name, filter_object, vega_Vmag)\u001b[0m\n\u001b[1;32m    210\u001b[0m         \u001b[0mfilter_object\u001b[0m \u001b[0;34m=\u001b[0m \u001b[0mload_filter\u001b[0m\u001b[0;34m(\u001b[0m\u001b[0mos\u001b[0m\u001b[0;34m.\u001b[0m\u001b[0mpath\u001b[0m\u001b[0;34m.\u001b[0m\u001b[0mjoin\u001b[0m\u001b[0;34m(\u001b[0m\u001b[0m_default_filter_dir_path\u001b[0m\u001b[0;34m,\u001b[0m \u001b[0mfilter_name\u001b[0m \u001b[0;34m+\u001b[0m \u001b[0;34m\".dat\"\u001b[0m\u001b[0;34m)\u001b[0m\u001b[0;34m)\u001b[0m\u001b[0;34m\u001b[0m\u001b[0m\n\u001b[1;32m    211\u001b[0m \u001b[0;34m\u001b[0m\u001b[0m\n\u001b[0;32m--> 212\u001b[0;31m     \u001b[0mintegrated_flux\u001b[0m \u001b[0;34m=\u001b[0m \u001b[0mcalc_vega_flux\u001b[0m\u001b[0;34m(\u001b[0m\u001b[0mfilter_name\u001b[0m\u001b[0;34m)\u001b[0m\u001b[0;34m\u001b[0m\u001b[0m\n\u001b[0m\u001b[1;32m    213\u001b[0m     \u001b[0marea_corr_integrated_flux\u001b[0m \u001b[0;34m=\u001b[0m \u001b[0mintegrated_flux\u001b[0m \u001b[0;34m/\u001b[0m \u001b[0mcalc_filter_area\u001b[0m\u001b[0;34m(\u001b[0m\u001b[0mfilter_name\u001b[0m\u001b[0;34m)\u001b[0m\u001b[0;34m\u001b[0m\u001b[0m\n\u001b[1;32m    214\u001b[0m \u001b[0;34m\u001b[0m\u001b[0m\n",
      "\u001b[0;32m/Users/bertiepwhite/code/pycoco/pycoco/kcorr.py\u001b[0m in \u001b[0;36mcalc_vega_flux\u001b[0;34m(filter_name, filter_object)\u001b[0m\n\u001b[1;32m    193\u001b[0m     \u001b[0;31m# else if hasattr(filter_object, \"wavelength\"):\u001b[0m\u001b[0;34m\u001b[0m\u001b[0;34m\u001b[0m\u001b[0m\n\u001b[1;32m    194\u001b[0m \u001b[0;34m\u001b[0m\u001b[0m\n\u001b[0;32m--> 195\u001b[0;31m     \u001b[0mfilter_object\u001b[0m\u001b[0;34m.\u001b[0m\u001b[0mresample_response\u001b[0m\u001b[0;34m(\u001b[0m\u001b[0mnew_wavelength\u001b[0m \u001b[0;34m=\u001b[0m \u001b[0mvega\u001b[0m\u001b[0;34m.\u001b[0m\u001b[0mwavelength\u001b[0m\u001b[0;34m)\u001b[0m\u001b[0;34m\u001b[0m\u001b[0m\n\u001b[0m\u001b[1;32m    196\u001b[0m \u001b[0;34m\u001b[0m\u001b[0m\n\u001b[1;32m    197\u001b[0m     \u001b[0mtransmitted_spec\u001b[0m \u001b[0;34m=\u001b[0m \u001b[0mfilter_object\u001b[0m\u001b[0;34m.\u001b[0m\u001b[0mthroughput\u001b[0m \u001b[0;34m*\u001b[0m \u001b[0mvega\u001b[0m\u001b[0;34m.\u001b[0m\u001b[0mflux\u001b[0m\u001b[0;34m\u001b[0m\u001b[0m\n",
      "\u001b[0;31mAttributeError\u001b[0m: 'NoneType' object has no attribute 'resample_response'"
     ]
    }
   ],
   "source": [
    "band = \"BessellB\"\n",
    "filter_file_location = \"/Users/bertiepwhite/code/coco/data/filters/\"\n",
    "band_location = filter_file_location + band + \".dat\"\n",
    "filter_obj = pcc.kcorr.load_filter(band_location)\n",
    "zp = pcc.kcorr.calc_vega_zp(filter_name = \"BessellB\", filter_object = filter_obj )\n",
    "\n",
    "print(zp)"
   ]
  },
  {
   "cell_type": "code",
   "execution_count": null,
   "metadata": {},
   "outputs": [],
   "source": [
    "zp = pcc.kcorr.calc_vega_zp(filter_name = \"BessellI\", filter_object = V)"
   ]
  },
  {
   "cell_type": "code",
   "execution_count": 10,
   "metadata": {},
   "outputs": [
    {
     "name": "stdout",
     "output_type": "stream",
     "text": [
      "R\n"
     ]
    }
   ],
   "source": [
    "j=-7\n",
    "try:\n",
    "    key = ph_dict[j]['band']\n",
    "    print(key)\n",
    "except KeyError:\n",
    "    print(\"Nah\")\n",
    "    \n",
    "    "
   ]
  },
  {
   "cell_type": "code",
   "execution_count": null,
   "metadata": {},
   "outputs": [],
   "source": [
    "filt_dict = {\"B\" : \"BessellB\",\n",
    "             \"V\" : \"BessellV\",\n",
    "             \"R\" : \"BessellR\",\n",
    "             \"I\" : \"BessellI\",\n",
    "             \"U\" : \"BessellU\"}\n",
    "t.add_index('filter')\n",
    "\n",
    "filter_list = []\n",
    "for band in band_list:\n",
    "    if band not in filter_list:\n",
    "        filter_list.append(band)\n",
    "        \n",
    "print(filter_list)"
   ]
  },
  {
   "cell_type": "code",
   "execution_count": null,
   "metadata": {
    "collapsed": true
   },
   "outputs": [],
   "source": [
    "print(filter_list)"
   ]
  },
  {
   "cell_type": "code",
   "execution_count": null,
   "metadata": {
    "collapsed": true
   },
   "outputs": [],
   "source": [
    "# filter_file_location = \"/Users/bertiepwhite/code/coco/data/filters/\"\n",
    "# j = 0\n",
    "# filter_obj_list = []\n",
    "# # AB = pcc.kcorr.load_AB()\n",
    "# vega = pcc.kcorr.load_vega()\n",
    "\n",
    "# for i in filter_names:\n",
    "#     filter_name = filter_names[j]\n",
    "#     if filter_name != \"Blank\":\n",
    "#         filter_obj_location = filter_file_location + filter_name +\".dat\"\n",
    "#         filter_obj = pcc.kcorr.load_filter(filter_obj_location)\n",
    "#         filter_obj_list .append(filter_obj)\n",
    "#     else:\n",
    "#         filter_obj_list .append(\"Filter N/A\")\n",
    "#     j += 1\n",
    "\n",
    "\n",
    "# j = 1\n",
    "# for i in range(len(data_rows)-1):\n",
    "#     filter_name = data_rows[j][0] \n",
    "#     if filter_name != 'Blank':\n",
    "#         filter_index = filter_names.index(filter_name)\n",
    "#         filter_obj = filter_obj_list[index]\n",
    "\n",
    "#         filter_obj.resample_response(new_wavelength = AB.wavelength)\n",
    "        \n",
    "#         transmitted_spec = filter_obj.throughput * AB.flux\n",
    "#         integrated_flux = simps(transmitted_spec,AB.wavelength)\n",
    "        \n",
    "#     j += 1"
   ]
  }
 ],
 "metadata": {
  "kernelspec": {
   "display_name": "Python 3",
   "language": "python",
   "name": "python3"
  },
  "language_info": {
   "codemirror_mode": {
    "name": "ipython",
    "version": 3
   },
   "file_extension": ".py",
   "mimetype": "text/x-python",
   "name": "python",
   "nbconvert_exporter": "python",
   "pygments_lexer": "ipython3",
   "version": "3.6.1"
  }
 },
 "nbformat": 4,
 "nbformat_minor": 2
}
