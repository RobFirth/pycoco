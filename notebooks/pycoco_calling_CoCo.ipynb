{
 "cells": [
  {
   "cell_type": "markdown",
   "metadata": {},
   "source": [
    "# **`pycoco`** calling **`CoCo`**\n",
    "\n",
    "___\n",
    "\n",
    "## Introduction\n",
    "\n",
    "---\n",
    "**`pycoco.coco_calls`**"
   ]
  },
  {
   "cell_type": "code",
   "execution_count": 1,
   "metadata": {
    "collapsed": true
   },
   "outputs": [],
   "source": [
    "try:\n",
    "    from importlib import reload\n",
    "except:\n",
    "    pass\n",
    "\n",
    "# %matplotlib inline\n",
    "%matplotlib notebook\n",
    "\n",
    "from matplotlib import pyplot as plt\n",
    "\n",
    "import os\n",
    "import numpy as np\n",
    "from astropy.table import Table\n",
    "\n",
    "import pycoco as pcc"
   ]
  },
  {
   "cell_type": "code",
   "execution_count": 2,
   "metadata": {
    "collapsed": false
   },
   "outputs": [
    {
     "data": {
      "text/plain": [
       "<module 'pycoco' from '/Users/berto/Code/verbose-enigma/pycoco/__init__.py'>"
      ]
     },
     "execution_count": 2,
     "metadata": {},
     "output_type": "execute_result"
    }
   ],
   "source": [
    "reload(pcc) ## FOR DEV"
   ]
  },
  {
   "cell_type": "markdown",
   "metadata": {},
   "source": [
    "## Run Light Curve Fits\n",
    "___\n",
    "### Individual SNe\n",
    "First test"
   ]
  },
  {
   "cell_type": "code",
   "execution_count": 3,
   "metadata": {
    "collapsed": false
   },
   "outputs": [
    {
     "name": "stdout",
     "output_type": "stream",
     "text": [
      "/Users/berto/Code/CoCo/\n",
      "Looks like you have done a fit, I found  /Users/berto/Code/CoCo/recon/SN2006aj.stat\n",
      "Looks like you have done a fit, I found  /Users/berto/Code/CoCo/recon/SN2006aj.dat\n"
     ]
    },
    {
     "data": {
      "text/plain": [
       "True"
      ]
     },
     "execution_count": 3,
     "metadata": {},
     "output_type": "execute_result"
    }
   ],
   "source": [
    "pcc.test_LCfit(\"SN2006aj\")"
   ]
  },
  {
   "cell_type": "markdown",
   "metadata": {},
   "source": [
    "Then run"
   ]
  },
  {
   "cell_type": "code",
   "execution_count": null,
   "metadata": {
    "collapsed": true
   },
   "outputs": [],
   "source": [
    "# pcc.run_LCfit(os.path.join(pcc._default_data_dir_path, \"lc/SN2007uy.dat\"))\n",
    "pcc.run_LCfit(os.path.join(pcc._default_data_dir_path, \"lc/SN2013ge.dat\"))"
   ]
  },
  {
   "cell_type": "code",
   "execution_count": null,
   "metadata": {
    "collapsed": true
   },
   "outputs": [],
   "source": [
    "pcc.test_LCfit(\"SN2007uy\")"
   ]
  },
  {
   "cell_type": "markdown",
   "metadata": {},
   "source": [
    "### All SNe"
   ]
  },
  {
   "cell_type": "code",
   "execution_count": null,
   "metadata": {
    "collapsed": true,
    "scrolled": false
   },
   "outputs": [],
   "source": [
    "pcc.run_LCfit_fileinput(os.path.join(pcc._default_coco_dir_path, \"examples/lc.list\"))\n",
    "print(\"Done.\")"
   ]
  },
  {
   "cell_type": "code",
   "execution_count": null,
   "metadata": {
    "collapsed": true
   },
   "outputs": [],
   "source": []
  },
  {
   "cell_type": "code",
   "execution_count": null,
   "metadata": {
    "collapsed": true
   },
   "outputs": [],
   "source": [
    "reload(pcc) ## FOR DEV\n",
    "reload(pcc.classes)\n",
    "reload(pcc.defaults) ## FOR DEV"
   ]
  },
  {
   "cell_type": "markdown",
   "metadata": {},
   "source": [
    "\n",
    "## Call Specfits\n",
    "---\n",
    "### individual speclists"
   ]
  },
  {
   "cell_type": "code",
   "execution_count": 4,
   "metadata": {
    "collapsed": false
   },
   "outputs": [
    {
     "data": {
      "text/plain": [
       "['/Users/berto/Code/CoCo/lists/iPTF13bvn.list',\n",
       " '/Users/berto/Code/CoCo/lists/SN1993J.list',\n",
       " '/Users/berto/Code/CoCo/lists/SN1994I.list',\n",
       " '/Users/berto/Code/CoCo/lists/SN1996cb.list',\n",
       " '/Users/berto/Code/CoCo/lists/SN1998bw.list',\n",
       " '/Users/berto/Code/CoCo/lists/SN1999dn.list',\n",
       " '/Users/berto/Code/CoCo/lists/SN2002ap.list',\n",
       " '/Users/berto/Code/CoCo/lists/SN2003jd.list',\n",
       " '/Users/berto/Code/CoCo/lists/SN2004aw.list',\n",
       " '/Users/berto/Code/CoCo/lists/SN2005bf.list',\n",
       " '/Users/berto/Code/CoCo/lists/SN2005hg.list',\n",
       " '/Users/berto/Code/CoCo/lists/SN2006aj.list',\n",
       " '/Users/berto/Code/CoCo/lists/SN2007C.list',\n",
       " '/Users/berto/Code/CoCo/lists/SN2007gr.list',\n",
       " '/Users/berto/Code/CoCo/lists/SN2007uy.list',\n",
       " '/Users/berto/Code/CoCo/lists/SN2007Y.list',\n",
       " '/Users/berto/Code/CoCo/lists/SN2008ax.list',\n",
       " '/Users/berto/Code/CoCo/lists/SN2008bo.list',\n",
       " '/Users/berto/Code/CoCo/lists/SN2008D.list',\n",
       " '/Users/berto/Code/CoCo/lists/SN2009bb.list',\n",
       " '/Users/berto/Code/CoCo/lists/SN2009er.list',\n",
       " '/Users/berto/Code/CoCo/lists/SN2009iz.list',\n",
       " '/Users/berto/Code/CoCo/lists/SN2009jf.list',\n",
       " '/Users/berto/Code/CoCo/lists/SN2010al.list',\n",
       " '/Users/berto/Code/CoCo/lists/SN2010as.list',\n",
       " '/Users/berto/Code/CoCo/lists/SN2011bm.list',\n",
       " '/Users/berto/Code/CoCo/lists/SN2011dh.list',\n",
       " '/Users/berto/Code/CoCo/lists/SN2011ei.list',\n",
       " '/Users/berto/Code/CoCo/lists/SN2011fu.list',\n",
       " '/Users/berto/Code/CoCo/lists/SN2012ap.list',\n",
       " '/Users/berto/Code/CoCo/lists/SN2013ge.list']"
      ]
     },
     "execution_count": 4,
     "metadata": {},
     "output_type": "execute_result"
    }
   ],
   "source": [
    "pcc.get_all_spec_lists()"
   ]
  },
  {
   "cell_type": "code",
   "execution_count": null,
   "metadata": {
    "collapsed": true
   },
   "outputs": [],
   "source": [
    "# pcc.run_specfit('/Users/berto/Code/CoCo/lists/SN2013ge.list')\n",
    "pcc.run_specfit('/Users/berto/Code/CoCo/lists/iPTF13bvn.list')"
   ]
  },
  {
   "cell_type": "markdown",
   "metadata": {},
   "source": [
    "## All Speclists\n",
    "___"
   ]
  },
  {
   "cell_type": "code",
   "execution_count": 5,
   "metadata": {
    "collapsed": false
   },
   "outputs": [
    {
     "name": "stdout",
     "output_type": "stream",
     "text": [
      "0 /Users/berto/Code/CoCo/lists/iPTF13bvn.list\n",
      "Running CoCo specfit on /Users/berto/Code/CoCo/lists/iPTF13bvn.list\n",
      "Done\n",
      "1 /Users/berto/Code/CoCo/lists/SN1993J.list\n",
      "current list.txt is up to date. re run with force = True to force.\n",
      "Running CoCo specfit on /Users/berto/Code/CoCo/lists/SN1993J.list\n",
      "Done\n",
      "2 /Users/berto/Code/CoCo/lists/SN1994I.list\n",
      "current list.txt is up to date. re run with force = True to force.\n",
      "Running CoCo specfit on /Users/berto/Code/CoCo/lists/SN1994I.list\n",
      "Done\n",
      "3 /Users/berto/Code/CoCo/lists/SN1996cb.list\n",
      "current list.txt is up to date. re run with force = True to force.\n",
      "Running CoCo specfit on /Users/berto/Code/CoCo/lists/SN1996cb.list\n",
      "Done\n",
      "4 /Users/berto/Code/CoCo/lists/SN1998bw.list\n",
      "current list.txt is up to date. re run with force = True to force.\n",
      "Running CoCo specfit on /Users/berto/Code/CoCo/lists/SN1998bw.list\n",
      "Done\n",
      "5 /Users/berto/Code/CoCo/lists/SN1999dn.list\n",
      "current list.txt is up to date. re run with force = True to force.\n",
      "Running CoCo specfit on /Users/berto/Code/CoCo/lists/SN1999dn.list\n",
      "Done\n",
      "6 /Users/berto/Code/CoCo/lists/SN2002ap.list\n",
      "current list.txt is up to date. re run with force = True to force.\n",
      "Running CoCo specfit on /Users/berto/Code/CoCo/lists/SN2002ap.list\n",
      "Done\n",
      "7 /Users/berto/Code/CoCo/lists/SN2003jd.list\n",
      "current list.txt is up to date. re run with force = True to force.\n",
      "Running CoCo specfit on /Users/berto/Code/CoCo/lists/SN2003jd.list\n",
      "Done\n",
      "8 /Users/berto/Code/CoCo/lists/SN2004aw.list\n",
      "current list.txt is up to date. re run with force = True to force.\n",
      "Running CoCo specfit on /Users/berto/Code/CoCo/lists/SN2004aw.list\n",
      "Done\n",
      "9 /Users/berto/Code/CoCo/lists/SN2005bf.list\n",
      "current list.txt is up to date. re run with force = True to force.\n",
      "Running CoCo specfit on /Users/berto/Code/CoCo/lists/SN2005bf.list\n",
      "Done\n",
      "10 /Users/berto/Code/CoCo/lists/SN2005hg.list\n",
      "current list.txt is up to date. re run with force = True to force.\n",
      "Running CoCo specfit on /Users/berto/Code/CoCo/lists/SN2005hg.list\n",
      "Done\n",
      "11 /Users/berto/Code/CoCo/lists/SN2006aj.list\n",
      "current list.txt is up to date. re run with force = True to force.\n",
      "Running CoCo specfit on /Users/berto/Code/CoCo/lists/SN2006aj.list\n",
      "Done\n",
      "12 /Users/berto/Code/CoCo/lists/SN2007C.list\n",
      "current list.txt is up to date. re run with force = True to force.\n",
      "Running CoCo specfit on /Users/berto/Code/CoCo/lists/SN2007C.list\n",
      "Done\n",
      "13 /Users/berto/Code/CoCo/lists/SN2007gr.list\n",
      "current list.txt is up to date. re run with force = True to force.\n",
      "Running CoCo specfit on /Users/berto/Code/CoCo/lists/SN2007gr.list\n",
      "Done\n",
      "14 /Users/berto/Code/CoCo/lists/SN2007uy.list\n",
      "current list.txt is up to date. re run with force = True to force.\n",
      "Running CoCo specfit on /Users/berto/Code/CoCo/lists/SN2007uy.list\n",
      "Done\n",
      "15 /Users/berto/Code/CoCo/lists/SN2007Y.list\n",
      "current list.txt is up to date. re run with force = True to force.\n",
      "Running CoCo specfit on /Users/berto/Code/CoCo/lists/SN2007Y.list\n",
      "Done\n",
      "16 /Users/berto/Code/CoCo/lists/SN2008ax.list\n",
      "current list.txt is up to date. re run with force = True to force.\n",
      "Running CoCo specfit on /Users/berto/Code/CoCo/lists/SN2008ax.list\n",
      "Done\n",
      "17 /Users/berto/Code/CoCo/lists/SN2008bo.list\n",
      "current list.txt is up to date. re run with force = True to force.\n",
      "Running CoCo specfit on /Users/berto/Code/CoCo/lists/SN2008bo.list\n",
      "Done\n",
      "18 /Users/berto/Code/CoCo/lists/SN2008D.list\n",
      "current list.txt is up to date. re run with force = True to force.\n",
      "Running CoCo specfit on /Users/berto/Code/CoCo/lists/SN2008D.list\n",
      "Done\n",
      "19 /Users/berto/Code/CoCo/lists/SN2009bb.list\n",
      "current list.txt is up to date. re run with force = True to force.\n",
      "Running CoCo specfit on /Users/berto/Code/CoCo/lists/SN2009bb.list\n",
      "Done\n",
      "20 /Users/berto/Code/CoCo/lists/SN2009er.list\n",
      "current list.txt is up to date. re run with force = True to force.\n",
      "Running CoCo specfit on /Users/berto/Code/CoCo/lists/SN2009er.list\n",
      "Done\n",
      "21 /Users/berto/Code/CoCo/lists/SN2009iz.list\n",
      "current list.txt is up to date. re run with force = True to force.\n",
      "Running CoCo specfit on /Users/berto/Code/CoCo/lists/SN2009iz.list\n",
      "Done\n",
      "22 /Users/berto/Code/CoCo/lists/SN2009jf.list\n",
      "current list.txt is up to date. re run with force = True to force.\n",
      "Running CoCo specfit on /Users/berto/Code/CoCo/lists/SN2009jf.list\n",
      "Done\n",
      "23 /Users/berto/Code/CoCo/lists/SN2010al.list\n",
      "current list.txt is up to date. re run with force = True to force.\n",
      "Running CoCo specfit on /Users/berto/Code/CoCo/lists/SN2010al.list\n",
      "Done\n",
      "24 /Users/berto/Code/CoCo/lists/SN2010as.list\n",
      "current list.txt is up to date. re run with force = True to force.\n",
      "Running CoCo specfit on /Users/berto/Code/CoCo/lists/SN2010as.list\n",
      "Done\n",
      "25 /Users/berto/Code/CoCo/lists/SN2011bm.list\n",
      "current list.txt is up to date. re run with force = True to force.\n",
      "Running CoCo specfit on /Users/berto/Code/CoCo/lists/SN2011bm.list\n",
      "Done\n",
      "26 /Users/berto/Code/CoCo/lists/SN2011dh.list\n",
      "current list.txt is up to date. re run with force = True to force.\n",
      "Running CoCo specfit on /Users/berto/Code/CoCo/lists/SN2011dh.list\n",
      "Done\n",
      "27 /Users/berto/Code/CoCo/lists/SN2011ei.list\n",
      "current list.txt is up to date. re run with force = True to force.\n",
      "Running CoCo specfit on /Users/berto/Code/CoCo/lists/SN2011ei.list\n",
      "Done\n",
      "28 /Users/berto/Code/CoCo/lists/SN2011fu.list\n",
      "current list.txt is up to date. re run with force = True to force.\n",
      "Running CoCo specfit on /Users/berto/Code/CoCo/lists/SN2011fu.list\n",
      "Done\n",
      "29 /Users/berto/Code/CoCo/lists/SN2012ap.list\n",
      "current list.txt is up to date. re run with force = True to force.\n",
      "Running CoCo specfit on /Users/berto/Code/CoCo/lists/SN2012ap.list\n",
      "Done\n",
      "30 /Users/berto/Code/CoCo/lists/SN2013ge.list\n",
      "current list.txt is up to date. re run with force = True to force.\n",
      "Running CoCo specfit on /Users/berto/Code/CoCo/lists/SN2013ge.list\n",
      "Done\n"
     ]
    }
   ],
   "source": [
    "pcc.specfit_all()"
   ]
  },
  {
   "cell_type": "markdown",
   "metadata": {},
   "source": [
    "# Specphase"
   ]
  },
  {
   "cell_type": "code",
   "execution_count": 6,
   "metadata": {
    "collapsed": false
   },
   "outputs": [
    {
     "name": "stdout",
     "output_type": "stream",
     "text": [
      "current list.txt is up to date. re run with force = True to force.\n"
     ]
    }
   ],
   "source": [
    "phase_path = os.path.join(pcc._default_coco_dir_path, \"examples/phase.list\")\n",
    "pcc.run_specphase(\"BessellV\", phase_path)"
   ]
  },
  {
   "cell_type": "code",
   "execution_count": 5,
   "metadata": {
    "collapsed": false
   },
   "outputs": [
    {
     "data": {
      "text/plain": [
       "<module 'pycoco.utils' from '/Users/berto/Code/verbose-enigma/pycoco/utils.py'>"
      ]
     },
     "execution_count": 5,
     "metadata": {},
     "output_type": "execute_result"
    }
   ],
   "source": [
    "pcc.utils"
   ]
  },
  {
   "cell_type": "code",
   "execution_count": null,
   "metadata": {
    "collapsed": true
   },
   "outputs": [],
   "source": [
    " "
   ]
  },
  {
   "cell_type": "code",
   "execution_count": null,
   "metadata": {
    "collapsed": true
   },
   "outputs": [],
   "source": []
  },
  {
   "cell_type": "code",
   "execution_count": null,
   "metadata": {
    "collapsed": true
   },
   "outputs": [],
   "source": []
  },
  {
   "cell_type": "code",
   "execution_count": null,
   "metadata": {
    "collapsed": true
   },
   "outputs": [],
   "source": []
  },
  {
   "cell_type": "code",
   "execution_count": null,
   "metadata": {
    "collapsed": true
   },
   "outputs": [],
   "source": []
  },
  {
   "cell_type": "code",
   "execution_count": null,
   "metadata": {
    "collapsed": true
   },
   "outputs": [],
   "source": []
  },
  {
   "cell_type": "code",
   "execution_count": null,
   "metadata": {
    "collapsed": true
   },
   "outputs": [],
   "source": []
  }
 ],
 "metadata": {
  "anaconda-cloud": {},
  "kernelspec": {
   "display_name": "Python 3",
   "language": "python",
   "name": "python3"
  },
  "language_info": {
   "codemirror_mode": {
    "name": "ipython",
    "version": 3
   },
   "file_extension": ".py",
   "mimetype": "text/x-python",
   "name": "python",
   "nbconvert_exporter": "python",
   "pygments_lexer": "ipython3",
   "version": "3.6.0"
  }
 },
 "nbformat": 4,
 "nbformat_minor": 1
}
