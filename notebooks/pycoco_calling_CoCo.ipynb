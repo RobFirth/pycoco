{
 "cells": [
  {
   "cell_type": "markdown",
   "metadata": {},
   "source": [
    "# **`pycoco`** calling **`CoCo`**\n",
    "\n",
    "___\n",
    "\n",
    "## Introduction\n",
    "\n"
   ]
  },
  {
   "cell_type": "code",
   "execution_count": 1,
   "metadata": {
    "collapsed": false
   },
   "outputs": [
    {
     "data": {
      "text/plain": [
       "<module 'pycoco' from '/Users/berto/Code/verbose-enigma/pycoco/__init__.pyc'>"
      ]
     },
     "execution_count": 1,
     "metadata": {},
     "output_type": "execute_result"
    }
   ],
   "source": [
    "from __future__ import print_function ## Force python3-like printing\n",
    "\n",
    "%matplotlib inline\n",
    "from matplotlib import pyplot as plt\n",
    "\n",
    "import os\n",
    "import numpy as np\n",
    "from astropy.table import Table\n",
    "\n",
    "import pycoco as pcc\n",
    "\n",
    "reload(pcc) ## FOR DEV"
   ]
  },
  {
   "cell_type": "code",
   "execution_count": 2,
   "metadata": {
    "collapsed": true
   },
   "outputs": [],
   "source": []
  },
  {
   "cell_type": "code",
   "execution_count": 33,
   "metadata": {
    "collapsed": false
   },
   "outputs": [
    {
     "name": "stdout",
     "output_type": "stream",
     "text": [
      "LICENSE\n",
      "Makefile\n",
      "README.md\n",
      "SN2011dh.list\n",
      "chains\n",
      "data\n",
      "lc.list\n",
      "lcfit\n",
      "lcsim\n",
      "log.dat\n",
      "recon\n",
      "scripts\n",
      "spec.list\n",
      "specfit\n",
      "specphase\n",
      "src\n",
      "\n"
     ]
    }
   ],
   "source": []
  },
  {
   "cell_type": "code",
   "execution_count": 34,
   "metadata": {
    "collapsed": false
   },
   "outputs": [
    {
     "name": "stdout",
     "output_type": "stream",
     "text": [
      "LICENSE\n",
      "Makefile\n",
      "README.md\n",
      "SN2011dh.list\n",
      "chains\n",
      "data\n",
      "lc.list\n",
      "lcfit\n",
      "lcsim\n",
      "log.dat\n",
      "recon\n",
      "scripts\n",
      "spec.list\n",
      "specfit\n",
      "specphase\n",
      "src\n",
      "\n",
      "/Users/berto/Code/CoCo\n",
      "\n"
     ]
    }
   ],
   "source": []
  },
  {
   "cell_type": "code",
   "execution_count": 40,
   "metadata": {
    "collapsed": false
   },
   "outputs": [],
   "source": [
    "# print(subprocess.check_output(['ls']))\n",
    "# print(subprocess.check_output(['pwd']))\n",
    "# print(subprocess.check_output(['ls', '-lrt', '/'], cwd='/Users/berto/'))"
   ]
  },
  {
   "cell_type": "code",
   "execution_count": null,
   "metadata": {
    "collapsed": false
   },
   "outputs": [],
   "source": []
  },
  {
   "cell_type": "code",
   "execution_count": 41,
   "metadata": {
    "collapsed": false
   },
   "outputs": [
    {
     "name": "stdout",
     "output_type": "stream",
     "text": [
      "/Users/berto/Code/CoCo\n"
     ]
    }
   ],
   "source": [
    "cd ~/Code/CoCo"
   ]
  },
  {
   "cell_type": "code",
   "execution_count": 8,
   "metadata": {
    "collapsed": false
   },
   "outputs": [
    {
     "name": "stdout",
     "output_type": "stream",
     "text": [
      "LICENSE       SN2011dh.list lc.list       \u001b[34mrecon\u001b[m\u001b[m         \u001b[31mspecfit\u001b[m\u001b[m\r\n",
      "Makefile      \u001b[34mchains\u001b[m\u001b[m        \u001b[31mlcfit\u001b[m\u001b[m         \u001b[34mscripts\u001b[m\u001b[m       \u001b[31mspecphase\u001b[m\u001b[m\r\n",
      "README.md     \u001b[35mdata\u001b[m\u001b[m          \u001b[31mlcsim\u001b[m\u001b[m         spec.list     \u001b[34msrc\u001b[m\u001b[m\r\n"
     ]
    }
   ],
   "source": []
  },
  {
   "cell_type": "code",
   "execution_count": null,
   "metadata": {
    "collapsed": false
   },
   "outputs": [],
   "source": []
  },
  {
   "cell_type": "code",
   "execution_count": 10,
   "metadata": {
    "collapsed": false
   },
   "outputs": [
    {
     "data": {
      "text/plain": [
       "'/Users/berto/Code/CoCo/'"
      ]
     },
     "execution_count": 10,
     "metadata": {},
     "output_type": "execute_result"
    }
   ],
   "source": [
    "# os.environ.get(\"COCO_ROOT_DIR\")"
   ]
  },
  {
   "cell_type": "code",
   "execution_count": 31,
   "metadata": {
    "collapsed": false
   },
   "outputs": [],
   "source": [
    "# !pwd\n",
    "# !ls\n",
    "# !echo $COCO_ROOT_DIR\n",
    "# !./lcfit ./data/lc/SN2011dh.dat"
   ]
  },
  {
   "cell_type": "code",
   "execution_count": 14,
   "metadata": {
    "collapsed": true
   },
   "outputs": [],
   "source": []
  },
  {
   "cell_type": "code",
   "execution_count": 15,
   "metadata": {
    "collapsed": false
   },
   "outputs": [
    {
     "name": "stdout",
     "output_type": "stream",
     "text": [
      "LICENSE       \u001b[34mchains\u001b[m\u001b[m        \u001b[31mlcsim\u001b[m\u001b[m         spec.list     test.dat\r\n",
      "Makefile      \u001b[35mdata\u001b[m\u001b[m          log.dat       \u001b[31mspecfit\u001b[m\u001b[m\r\n",
      "README.md     lc.list       \u001b[34mrecon\u001b[m\u001b[m         \u001b[31mspecphase\u001b[m\u001b[m\r\n",
      "SN2011dh.list \u001b[31mlcfit\u001b[m\u001b[m         \u001b[34mscripts\u001b[m\u001b[m       \u001b[34msrc\u001b[m\u001b[m\r\n"
     ]
    }
   ],
   "source": []
  },
  {
   "cell_type": "code",
   "execution_count": 19,
   "metadata": {
    "collapsed": true
   },
   "outputs": [],
   "source": [
    "\n"
   ]
  },
  {
   "cell_type": "code",
   "execution_count": 29,
   "metadata": {
    "collapsed": false
   },
   "outputs": [
    {
     "data": {
      "text/plain": [
       "0"
      ]
     },
     "execution_count": 29,
     "metadata": {},
     "output_type": "execute_result"
    }
   ],
   "source": []
  },
  {
   "cell_type": "code",
   "execution_count": null,
   "metadata": {
    "collapsed": true
   },
   "outputs": [],
   "source": []
  }
 ],
 "metadata": {
  "anaconda-cloud": {},
  "kernelspec": {
   "display_name": "Python [default]",
   "language": "python",
   "name": "python2"
  },
  "language_info": {
   "codemirror_mode": {
    "name": "ipython",
    "version": 2
   },
   "file_extension": ".py",
   "mimetype": "text/x-python",
   "name": "python",
   "nbconvert_exporter": "python",
   "pygments_lexer": "ipython2",
   "version": "2.7.12"
  }
 },
 "nbformat": 4,
 "nbformat_minor": 1
}
