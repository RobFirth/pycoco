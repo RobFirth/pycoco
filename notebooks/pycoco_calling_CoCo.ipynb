{
 "cells": [
  {
   "cell_type": "markdown",
   "metadata": {},
   "source": [
    "# **`pycoco`** calling **`CoCo`**\n",
    "\n",
    "___\n",
    "\n",
    "## Introduction\n",
    "\n",
    "---\n",
    "**`pycoco.coco_calls`**"
   ]
  },
  {
   "cell_type": "code",
   "execution_count": 1,
   "metadata": {
    "collapsed": false
   },
   "outputs": [],
   "source": [
    "try:\n",
    "    from importlib import reload\n",
    "except:\n",
    "    pass\n",
    "\n",
    "# %matplotlib inline\n",
    "%matplotlib notebook\n",
    "\n",
    "from matplotlib import pyplot as plt\n",
    "\n",
    "import os\n",
    "import numpy as np\n",
    "from astropy.table import Table\n",
    "\n",
    "import pycoco as pcc"
   ]
  },
  {
   "cell_type": "code",
   "execution_count": 2,
   "metadata": {
    "collapsed": false
   },
   "outputs": [
    {
     "data": {
      "text/plain": [
       "<module 'pycoco' from '/Users/berto/Code/verbose-enigma/pycoco/__init__.py'>"
      ]
     },
     "execution_count": 2,
     "metadata": {},
     "output_type": "execute_result"
    }
   ],
   "source": [
    "reload(pcc) ## FOR DEV"
   ]
  },
  {
   "cell_type": "markdown",
   "metadata": {},
   "source": [
    "## Run Light Curve Fits\n",
    "___\n",
    "### Individual SNe\n",
    "First test"
   ]
  },
  {
   "cell_type": "code",
   "execution_count": 3,
   "metadata": {
    "collapsed": false
   },
   "outputs": [
    {
     "name": "stdout",
     "output_type": "stream",
     "text": [
      "/Users/berto/Code/CoCo/\n",
      "Looks like you have done a fit, I found  /Users/berto/Code/CoCo/recon/SN2006aj.stat\n",
      "Looks like you have done a fit, I found  /Users/berto/Code/CoCo/recon/SN2006aj.dat\n"
     ]
    },
    {
     "data": {
      "text/plain": [
       "True"
      ]
     },
     "execution_count": 3,
     "metadata": {},
     "output_type": "execute_result"
    }
   ],
   "source": [
    "pcc.test_LCfit(\"SN2006aj\")"
   ]
  },
  {
   "cell_type": "markdown",
   "metadata": {},
   "source": [
    "Then run"
   ]
  },
  {
   "cell_type": "code",
   "execution_count": 4,
   "metadata": {
    "collapsed": false
   },
   "outputs": [
    {
     "name": "stdout",
     "output_type": "stream",
     "text": [
      "Running CoCo lcfit on /Users/berto/Code/CoCo/data/lc/SN2007uy.dat\n",
      "Fit complete\n"
     ]
    }
   ],
   "source": [
    "pcc.run_LCfit(os.path.join(pcc._default_data_dir_path, \"lc/SN2007uy.dat\"))"
   ]
  },
  {
   "cell_type": "code",
   "execution_count": 5,
   "metadata": {
    "collapsed": false
   },
   "outputs": [
    {
     "name": "stdout",
     "output_type": "stream",
     "text": [
      "/Users/berto/Code/CoCo/\n",
      "Looks like you have done a fit, I found  /Users/berto/Code/CoCo/recon/SN2007uy.stat\n",
      "Looks like you have done a fit, I found  /Users/berto/Code/CoCo/recon/SN2007uy.dat\n"
     ]
    },
    {
     "data": {
      "text/plain": [
       "True"
      ]
     },
     "execution_count": 5,
     "metadata": {},
     "output_type": "execute_result"
    }
   ],
   "source": [
    "pcc.test_LCfit(\"SN2007uy\")"
   ]
  },
  {
   "cell_type": "markdown",
   "metadata": {},
   "source": [
    "### All SNe"
   ]
  },
  {
   "cell_type": "code",
   "execution_count": 6,
   "metadata": {
    "collapsed": false
   },
   "outputs": [
    {
     "name": "stdout",
     "output_type": "stream",
     "text": [
      "Reading  /Users/berto/Code/CoCo/examples/lc.list\n",
      "/Users/berto/Code/CoCo/data/../data/lc/SN1993J.dat\n",
      "/Users/berto/Code/CoCo/data/../data/lc/SN1994I.dat\n",
      "/Users/berto/Code/CoCo/data/../data/lc/SN1996cb.dat\n",
      "/Users/berto/Code/CoCo/data/../data/lc/SN1998bw.dat\n",
      "/Users/berto/Code/CoCo/data/../data/lc/SN1999dn.dat\n",
      "/Users/berto/Code/CoCo/data/../data/lc/SN2002ap.dat\n",
      "/Users/berto/Code/CoCo/data/../data/lc/SN2003jd.dat\n",
      "/Users/berto/Code/CoCo/data/../data/lc/SN2004aw.dat\n",
      "/Users/berto/Code/CoCo/data/../data/lc/SN2005bf.dat\n",
      "/Users/berto/Code/CoCo/data/../data/lc/SN2005hg.dat\n",
      "/Users/berto/Code/CoCo/data/../data/lc/SN2006aj.dat\n",
      "/Users/berto/Code/CoCo/data/../data/lc/SN2007C.dat\n",
      "/Users/berto/Code/CoCo/data/../data/lc/SN2007Y.dat\n",
      "/Users/berto/Code/CoCo/data/../data/lc/SN2007gr.dat\n",
      "/Users/berto/Code/CoCo/data/../data/lc/SN2007uy.dat\n",
      "/Users/berto/Code/CoCo/data/../data/lc/SN2008D.dat\n",
      "/Users/berto/Code/CoCo/data/../data/lc/SN2008ax.dat\n",
      "/Users/berto/Code/CoCo/data/../data/lc/SN2008bo.dat\n",
      "/Users/berto/Code/CoCo/data/../data/lc/SN2009bb.dat\n",
      "/Users/berto/Code/CoCo/data/../data/lc/SN2009er.dat\n",
      "/Users/berto/Code/CoCo/data/../data/lc/SN2009iz.dat\n",
      "/Users/berto/Code/CoCo/data/../data/lc/SN2009jf.dat\n",
      "/Users/berto/Code/CoCo/data/../data/lc/SN2010al.dat\n",
      "/Users/berto/Code/CoCo/data/../data/lc/SN2010as.dat\n",
      "/Users/berto/Code/CoCo/data/../data/lc/SN2011bm.dat\n",
      "/Users/berto/Code/CoCo/data/../data/lc/SN2011dh.dat\n",
      "/Users/berto/Code/CoCo/data/../data/lc/SN2011ei.dat\n",
      "/Users/berto/Code/CoCo/data/../data/lc/SN2011fu.dat\n",
      "/Users/berto/Code/CoCo/data/../data/lc/SN2012ap.dat\n",
      "/Users/berto/Code/CoCo/data/../data/lc/SN2013ge.dat\n",
      "current list.txt is up to date. re run with force = True to force.\n",
      "Running CoCo lcfit on /Users/berto/Code/CoCo/data/../data/lc/SN1993J.dat\n",
      "Fit complete\n",
      "current list.txt is up to date. re run with force = True to force.\n",
      "Running CoCo lcfit on /Users/berto/Code/CoCo/data/../data/lc/SN1994I.dat\n",
      "Fit complete\n",
      "current list.txt is up to date. re run with force = True to force.\n",
      "Running CoCo lcfit on /Users/berto/Code/CoCo/data/../data/lc/SN1996cb.dat\n",
      "Fit complete\n",
      "current list.txt is up to date. re run with force = True to force.\n",
      "Running CoCo lcfit on /Users/berto/Code/CoCo/data/../data/lc/SN1998bw.dat\n",
      "Fit complete\n",
      "current list.txt is up to date. re run with force = True to force.\n",
      "Running CoCo lcfit on /Users/berto/Code/CoCo/data/../data/lc/SN1999dn.dat\n",
      "Fit complete\n",
      "current list.txt is up to date. re run with force = True to force.\n",
      "Running CoCo lcfit on /Users/berto/Code/CoCo/data/../data/lc/SN2002ap.dat\n",
      "Fit complete\n",
      "current list.txt is up to date. re run with force = True to force.\n",
      "Running CoCo lcfit on /Users/berto/Code/CoCo/data/../data/lc/SN2003jd.dat\n",
      "Fit complete\n",
      "current list.txt is up to date. re run with force = True to force.\n",
      "Running CoCo lcfit on /Users/berto/Code/CoCo/data/../data/lc/SN2004aw.dat\n",
      "Fit complete\n",
      "current list.txt is up to date. re run with force = True to force.\n",
      "Running CoCo lcfit on /Users/berto/Code/CoCo/data/../data/lc/SN2005bf.dat\n",
      "Fit complete\n",
      "current list.txt is up to date. re run with force = True to force.\n",
      "Running CoCo lcfit on /Users/berto/Code/CoCo/data/../data/lc/SN2005hg.dat\n",
      "Fit complete\n",
      "current list.txt is up to date. re run with force = True to force.\n",
      "Running CoCo lcfit on /Users/berto/Code/CoCo/data/../data/lc/SN2006aj.dat\n",
      "Fit complete\n",
      "current list.txt is up to date. re run with force = True to force.\n",
      "Running CoCo lcfit on /Users/berto/Code/CoCo/data/../data/lc/SN2007C.dat\n",
      "Fit complete\n",
      "current list.txt is up to date. re run with force = True to force.\n",
      "Running CoCo lcfit on /Users/berto/Code/CoCo/data/../data/lc/SN2007Y.dat\n",
      "Fit complete\n",
      "current list.txt is up to date. re run with force = True to force.\n",
      "Running CoCo lcfit on /Users/berto/Code/CoCo/data/../data/lc/SN2007gr.dat\n",
      "Fit complete\n",
      "current list.txt is up to date. re run with force = True to force.\n",
      "Running CoCo lcfit on /Users/berto/Code/CoCo/data/../data/lc/SN2007uy.dat\n",
      "Fit complete\n",
      "current list.txt is up to date. re run with force = True to force.\n",
      "Running CoCo lcfit on /Users/berto/Code/CoCo/data/../data/lc/SN2008D.dat\n",
      "Fit complete\n",
      "current list.txt is up to date. re run with force = True to force.\n",
      "Running CoCo lcfit on /Users/berto/Code/CoCo/data/../data/lc/SN2008ax.dat\n",
      "Fit complete\n",
      "current list.txt is up to date. re run with force = True to force.\n",
      "Running CoCo lcfit on /Users/berto/Code/CoCo/data/../data/lc/SN2008bo.dat\n",
      "Fit complete\n",
      "current list.txt is up to date. re run with force = True to force.\n",
      "Running CoCo lcfit on /Users/berto/Code/CoCo/data/../data/lc/SN2009bb.dat\n",
      "Fit complete\n",
      "current list.txt is up to date. re run with force = True to force.\n",
      "Running CoCo lcfit on /Users/berto/Code/CoCo/data/../data/lc/SN2009er.dat\n",
      "Fit complete\n",
      "current list.txt is up to date. re run with force = True to force.\n",
      "Running CoCo lcfit on /Users/berto/Code/CoCo/data/../data/lc/SN2009iz.dat\n",
      "Fit complete\n",
      "current list.txt is up to date. re run with force = True to force.\n",
      "Running CoCo lcfit on /Users/berto/Code/CoCo/data/../data/lc/SN2009jf.dat\n",
      "Fit complete\n",
      "current list.txt is up to date. re run with force = True to force.\n",
      "Running CoCo lcfit on /Users/berto/Code/CoCo/data/../data/lc/SN2010al.dat\n",
      "Fit complete\n",
      "current list.txt is up to date. re run with force = True to force.\n",
      "Running CoCo lcfit on /Users/berto/Code/CoCo/data/../data/lc/SN2010as.dat\n",
      "Fit complete\n",
      "current list.txt is up to date. re run with force = True to force.\n",
      "Running CoCo lcfit on /Users/berto/Code/CoCo/data/../data/lc/SN2011bm.dat\n",
      "Fit complete\n",
      "current list.txt is up to date. re run with force = True to force.\n",
      "Running CoCo lcfit on /Users/berto/Code/CoCo/data/../data/lc/SN2011dh.dat\n",
      "Fit complete\n",
      "current list.txt is up to date. re run with force = True to force.\n",
      "Running CoCo lcfit on /Users/berto/Code/CoCo/data/../data/lc/SN2011ei.dat\n",
      "Fit complete\n",
      "current list.txt is up to date. re run with force = True to force.\n",
      "Running CoCo lcfit on /Users/berto/Code/CoCo/data/../data/lc/SN2011fu.dat\n",
      "Fit complete\n",
      "current list.txt is up to date. re run with force = True to force.\n",
      "Running CoCo lcfit on /Users/berto/Code/CoCo/data/../data/lc/SN2012ap.dat\n",
      "Fit complete\n",
      "current list.txt is up to date. re run with force = True to force.\n",
      "Running CoCo lcfit on /Users/berto/Code/CoCo/data/../data/lc/SN2013ge.dat\n",
      "Fit complete\n"
     ]
    }
   ],
   "source": [
    "pcc.run_LCfit_fileinput(os.path.join(pcc._default_coco_dir_path, \"examples/lc.list\"))"
   ]
  },
  {
   "cell_type": "code",
   "execution_count": null,
   "metadata": {
    "collapsed": false
   },
   "outputs": [],
   "source": [
    "reload(pcc) ## FOR DEV\n",
    "reload(pcc.classes)\n",
    "reload(pcc.defaults) ## FOR DEV"
   ]
  },
  {
   "cell_type": "markdown",
   "metadata": {
    "collapsed": false
   },
   "source": [
    "\n",
    "## Call Specfits\n",
    "---\n",
    "### individual speclists"
   ]
  },
  {
   "cell_type": "code",
   "execution_count": null,
   "metadata": {
    "collapsed": false
   },
   "outputs": [],
   "source": []
  },
  {
   "cell_type": "code",
   "execution_count": null,
   "metadata": {
    "collapsed": false
   },
   "outputs": [],
   "source": []
  },
  {
   "cell_type": "code",
   "execution_count": null,
   "metadata": {
    "collapsed": false
   },
   "outputs": [],
   "source": []
  },
  {
   "cell_type": "code",
   "execution_count": null,
   "metadata": {
    "collapsed": false
   },
   "outputs": [],
   "source": []
  },
  {
   "cell_type": "code",
   "execution_count": null,
   "metadata": {
    "collapsed": true
   },
   "outputs": [],
   "source": []
  },
  {
   "cell_type": "code",
   "execution_count": null,
   "metadata": {
    "collapsed": false
   },
   "outputs": [],
   "source": []
  },
  {
   "cell_type": "code",
   "execution_count": null,
   "metadata": {
    "collapsed": true
   },
   "outputs": [],
   "source": [
    "\n"
   ]
  },
  {
   "cell_type": "code",
   "execution_count": null,
   "metadata": {
    "collapsed": false
   },
   "outputs": [],
   "source": []
  },
  {
   "cell_type": "code",
   "execution_count": null,
   "metadata": {
    "collapsed": true
   },
   "outputs": [],
   "source": []
  },
  {
   "cell_type": "code",
   "execution_count": null,
   "metadata": {
    "collapsed": true
   },
   "outputs": [],
   "source": []
  },
  {
   "cell_type": "code",
   "execution_count": null,
   "metadata": {
    "collapsed": true
   },
   "outputs": [],
   "source": []
  },
  {
   "cell_type": "code",
   "execution_count": null,
   "metadata": {
    "collapsed": true
   },
   "outputs": [],
   "source": []
  },
  {
   "cell_type": "code",
   "execution_count": null,
   "metadata": {
    "collapsed": true
   },
   "outputs": [],
   "source": []
  }
 ],
 "metadata": {
  "anaconda-cloud": {},
  "kernelspec": {
   "display_name": "Python 3",
   "language": "python",
   "name": "python3"
  },
  "language_info": {
   "codemirror_mode": {
    "name": "ipython",
    "version": 3
   },
   "file_extension": ".py",
   "mimetype": "text/x-python",
   "name": "python",
   "nbconvert_exporter": "python",
   "pygments_lexer": "ipython3",
   "version": "3.6.0"
  }
 },
 "nbformat": 4,
 "nbformat_minor": 1
}
