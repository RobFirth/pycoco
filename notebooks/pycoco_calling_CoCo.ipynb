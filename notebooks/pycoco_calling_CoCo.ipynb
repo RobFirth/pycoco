{
 "cells": [
  {
   "cell_type": "markdown",
   "metadata": {},
   "source": [
    "# **`pycoco`** calling **`CoCo`**\n",
    "\n",
    "___\n",
    "\n",
    "## Introduction\n",
    "\n",
    "---\n",
    "**`pycoco.coco_calls`**"
   ]
  },
  {
   "cell_type": "code",
   "execution_count": 1,
   "metadata": {
    "collapsed": true
   },
   "outputs": [],
   "source": [
    "try:\n",
    "    from importlib import reload\n",
    "except:\n",
    "    pass\n",
    "\n",
    "# %matplotlib inline\n",
    "%matplotlib notebook\n",
    "\n",
    "from matplotlib import pyplot as plt\n",
    "\n",
    "import os\n",
    "import numpy as np\n",
    "from astropy.table import Table\n",
    "\n",
    "import pycoco as pcc"
   ]
  },
  {
   "cell_type": "code",
   "execution_count": null,
   "metadata": {
    "collapsed": false
   },
   "outputs": [],
   "source": [
    "reload(pcc) ## FOR DEV"
   ]
  },
  {
   "cell_type": "markdown",
   "metadata": {},
   "source": [
    "# Run Light Curve Fits\n",
    "___\n",
    "## Individual SNe\n",
    "First test"
   ]
  },
  {
   "cell_type": "code",
   "execution_count": null,
   "metadata": {
    "collapsed": false
   },
   "outputs": [],
   "source": [
    "snname = \"SN2006aj\"\n",
    "pcc.coco.run_LCfit(snname)"
   ]
  },
  {
   "cell_type": "markdown",
   "metadata": {},
   "source": [
    "Then run"
   ]
  },
  {
   "cell_type": "code",
   "execution_count": null,
   "metadata": {
    "collapsed": false
   },
   "outputs": [],
   "source": [
    "pcc.coco.run_LCfit(os.path.join(pcc.defaults._default_data_dir_path, \"lc/\"+snname+\".dat\"))"
   ]
  },
  {
   "cell_type": "code",
   "execution_count": null,
   "metadata": {
    "collapsed": false
   },
   "outputs": [],
   "source": [
    "pcc.coco.run_LCfit(snname)"
   ]
  },
  {
   "cell_type": "code",
   "execution_count": null,
   "metadata": {
    "collapsed": false
   },
   "outputs": [],
   "source": [
    "sn = pcc.classes.SNClass(snname)\n",
    "sn.load_phot(verbose=False)\n",
    "sn.get_lcfit(\"/Users/berto/Code/CoCo/recon/\" + snname + \".dat\")\n",
    "\n",
    "sn.plot_lc(multiplot=False)"
   ]
  },
  {
   "cell_type": "markdown",
   "metadata": {},
   "source": [
    "## Model Choice\n",
    "----\n",
    "You can also pass a model to **`CoCo lcfit`**, this is possible through **`pycoco`** using the `model` arg. This will only take models that are defined in CoCo/src/models and match the filenames. So, currently the valid models are:"
   ]
  },
  {
   "cell_type": "code",
   "execution_count": null,
   "metadata": {
    "collapsed": false
   },
   "outputs": [],
   "source": [
    "models = np.unique([i.split(\".\")[0] for i in os.listdir(os.path.join(pcc.defaults._default_coco_dir_path, \"src/models\"))])\n",
    "models"
   ]
  },
  {
   "cell_type": "code",
   "execution_count": null,
   "metadata": {
    "collapsed": false
   },
   "outputs": [],
   "source": [
    "model_name = \"Karpenka12\"\n",
    "# model_name = \"Karpenka12Afterglow\"\n",
    "# model_name = \"Kessler10\"\n",
    "pcc.coco.run_LCfit(os.path.join(pcc.defaults._default_data_dir_path, \"lc/\"+snname+\".dat\"), model=model_name, verbose=True)"
   ]
  },
  {
   "cell_type": "code",
   "execution_count": null,
   "metadata": {
    "collapsed": false
   },
   "outputs": [],
   "source": [
    "sn = pcc.classes.SNClass(snname)\n",
    "sn.load_phot(verbose=False)\n",
    "sn.get_lcfit(\"/Users/berto/Code/CoCo/recon/\" + snname + \".dat\")\n",
    "\n",
    "sn.plot_lc(multiplot=False)"
   ]
  },
  {
   "cell_type": "markdown",
   "metadata": {},
   "source": [
    "## All SNe as Batch\n",
    "___"
   ]
  },
  {
   "cell_type": "code",
   "execution_count": null,
   "metadata": {
    "collapsed": false,
    "scrolled": false
   },
   "outputs": [],
   "source": [
    "pcc.coco.run_LCfit_fileinput(os.path.join(pcc.defaults._default_coco_dir_path, \"examples/lc.list\"))\n",
    "print(\"Done.\")"
   ]
  },
  {
   "cell_type": "code",
   "execution_count": null,
   "metadata": {
    "collapsed": true
   },
   "outputs": [],
   "source": []
  },
  {
   "cell_type": "code",
   "execution_count": null,
   "metadata": {
    "collapsed": false
   },
   "outputs": [],
   "source": [
    "reload(pcc) ## FOR DEV\n",
    "reload(pcc.classes)\n",
    "reload(pcc.defaults) ## FOR DEV"
   ]
  },
  {
   "cell_type": "markdown",
   "metadata": {},
   "source": [
    "## Call Specfit\n",
    "---\n",
    "\n",
    "### individual speclists"
   ]
  },
  {
   "cell_type": "code",
   "execution_count": null,
   "metadata": {
    "collapsed": false
   },
   "outputs": [],
   "source": [
    "pcc.coco.get_all_spec_lists()"
   ]
  },
  {
   "cell_type": "code",
   "execution_count": null,
   "metadata": {
    "collapsed": false
   },
   "outputs": [],
   "source": [
    "# pcc.coco.run_specfit('/Users/berto/Code/CoCo/lists/SN2013ge.list')\n",
    "pcc.coco.run_specfit('/Users/berto/Code/CoCo/lists/iPTF13bvn.list')"
   ]
  },
  {
   "cell_type": "markdown",
   "metadata": {},
   "source": [
    "## All Speclists\n",
    "___"
   ]
  },
  {
   "cell_type": "code",
   "execution_count": null,
   "metadata": {
    "collapsed": false
   },
   "outputs": [],
   "source": [
    "pcc.coco.specfit_all()"
   ]
  },
  {
   "cell_type": "markdown",
   "metadata": {},
   "source": [
    "# Specphase"
   ]
  },
  {
   "cell_type": "code",
   "execution_count": 2,
   "metadata": {
    "collapsed": false
   },
   "outputs": [
    {
     "name": "stdout",
     "output_type": "stream",
     "text": [
      "No Model supplied - running with default\n",
      "current list.txt is up to date. re run with force = True to force.\n",
      "['/Users/berto/Code/CoCo/./specphase', '/Users/berto/Code/CoCo/examples/phase.list', 'BessellV']\n"
     ]
    }
   ],
   "source": [
    "phase_path = os.path.join(pcc.defaults._default_coco_dir_path, \"examples/phase.list\")\n",
    "pcc.coco.run_specphase(\"BessellV\", phase_path)"
   ]
  },
  {
   "cell_type": "code",
   "execution_count": 3,
   "metadata": {
    "collapsed": false
   },
   "outputs": [
    {
     "name": "stdout",
     "output_type": "stream",
     "text": [
      "Model Foo not recognised.\n"
     ]
    },
    {
     "data": {
      "text/plain": [
       "False"
      ]
     },
     "execution_count": 3,
     "metadata": {},
     "output_type": "execute_result"
    }
   ],
   "source": [
    "pcc.coco.run_specphase(\"BessellV\", phase_path, model=\"Foo\")"
   ]
  },
  {
   "cell_type": "code",
   "execution_count": 4,
   "metadata": {
    "collapsed": false
   },
   "outputs": [
    {
     "name": "stdout",
     "output_type": "stream",
     "text": [
      "running with Bazin09\n",
      "current list.txt is up to date. re run with force = True to force.\n",
      "['/Users/berto/Code/CoCo/./specphase', '/Users/berto/Code/CoCo/examples/phase.list', 'BessellV', '-m', 'Bazin09']\n"
     ]
    }
   ],
   "source": [
    "pcc.coco.run_specphase(\"BessellV\", phase_path, model=\"Bazin09\")"
   ]
  },
  {
   "cell_type": "code",
   "execution_count": null,
   "metadata": {
    "collapsed": true
   },
   "outputs": [],
   "source": [
    " "
   ]
  },
  {
   "cell_type": "code",
   "execution_count": null,
   "metadata": {
    "collapsed": true
   },
   "outputs": [],
   "source": []
  },
  {
   "cell_type": "code",
   "execution_count": null,
   "metadata": {
    "collapsed": true
   },
   "outputs": [],
   "source": []
  },
  {
   "cell_type": "code",
   "execution_count": null,
   "metadata": {
    "collapsed": true
   },
   "outputs": [],
   "source": []
  },
  {
   "cell_type": "code",
   "execution_count": null,
   "metadata": {
    "collapsed": true
   },
   "outputs": [],
   "source": []
  },
  {
   "cell_type": "code",
   "execution_count": null,
   "metadata": {
    "collapsed": true
   },
   "outputs": [],
   "source": []
  },
  {
   "cell_type": "code",
   "execution_count": null,
   "metadata": {
    "collapsed": true
   },
   "outputs": [],
   "source": []
  }
 ],
 "metadata": {
  "anaconda-cloud": {},
  "kernelspec": {
   "display_name": "Python 3",
   "language": "python",
   "name": "python3"
  },
  "language_info": {
   "codemirror_mode": {
    "name": "ipython",
    "version": 3
   },
   "file_extension": ".py",
   "mimetype": "text/x-python",
   "name": "python",
   "nbconvert_exporter": "python",
   "pygments_lexer": "ipython3",
   "version": "3.6.0"
  }
 },
 "nbformat": 4,
 "nbformat_minor": 1
}
