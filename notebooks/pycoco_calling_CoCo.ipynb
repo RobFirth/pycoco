{
 "cells": [
  {
   "cell_type": "markdown",
   "metadata": {},
   "source": [
    "# **`pycoco`** calling **`CoCo`**\n",
    "\n",
    "___\n",
    "\n",
    "## Introduction\n",
    "\n",
    "---\n",
    "**`pycoco.coco_calls`**"
   ]
  },
  {
   "cell_type": "code",
   "execution_count": 38,
   "metadata": {
    "collapsed": false
   },
   "outputs": [],
   "source": [
    "try:\n",
    "    from importlib import reload\n",
    "except:\n",
    "    pass\n",
    "\n",
    "# %matplotlib inline\n",
    "%matplotlib notebook\n",
    "\n",
    "from matplotlib import pyplot as plt\n",
    "\n",
    "import os\n",
    "import numpy as np\n",
    "from astropy.table import Table\n",
    "\n",
    "import pycoco as pcc"
   ]
  },
  {
   "cell_type": "code",
   "execution_count": 43,
   "metadata": {
    "collapsed": false
   },
   "outputs": [
    {
     "data": {
      "text/plain": [
       "<module 'pycoco.coco_calls' from '/Users/berto/Code/verbose-enigma/pycoco/coco_calls.py'>"
      ]
     },
     "execution_count": 43,
     "metadata": {},
     "output_type": "execute_result"
    }
   ],
   "source": [
    "reload(pcc) ## FOR DEV\n",
    "reload(pcc.coco_calls) ## FOR DEV"
   ]
  },
  {
   "cell_type": "markdown",
   "metadata": {},
   "source": [
    "## Run Light Curve Fits\n",
    "___\n",
    "### Individual SNe\n",
    "First test"
   ]
  },
  {
   "cell_type": "code",
   "execution_count": 29,
   "metadata": {
    "collapsed": false
   },
   "outputs": [
    {
     "name": "stdout",
     "output_type": "stream",
     "text": [
      "/Users/berto/Code/CoCo\n",
      "Looks like you have done a fit, I found  /Users/berto/Code/CoCo/recon/SN2006aj.stat\n",
      "Looks like you have done a fit, I found  /Users/berto/Code/CoCo/recon/SN2006aj.dat\n"
     ]
    },
    {
     "data": {
      "text/plain": [
       "True"
      ]
     },
     "execution_count": 29,
     "metadata": {},
     "output_type": "execute_result"
    }
   ],
   "source": [
    "pcc.test_LCfit(\"SN2006aj\")"
   ]
  },
  {
   "cell_type": "markdown",
   "metadata": {},
   "source": [
    "Then run"
   ]
  },
  {
   "cell_type": "code",
   "execution_count": 32,
   "metadata": {
    "collapsed": false
   },
   "outputs": [
    {
     "name": "stdout",
     "output_type": "stream",
     "text": [
      "current list.txt is up to date. re run with force = True to force.\n",
      "Running CoCo lcfit on /Users/berto/Code/verbose-enigma/testdata/lc/SN2007uy.dat\n"
     ]
    }
   ],
   "source": [
    "pcc.run_LCfit(os.path.join(pcc._default_data_dir_path, \"lc/SN2007uy.dat\"))"
   ]
  },
  {
   "cell_type": "code",
   "execution_count": 33,
   "metadata": {
    "collapsed": false
   },
   "outputs": [
    {
     "name": "stdout",
     "output_type": "stream",
     "text": [
      "/Users/berto/Code/CoCo\n",
      "Looks like you have done a fit, I found  /Users/berto/Code/CoCo/recon/SN2007uy.stat\n",
      "Looks like you have done a fit, I found  /Users/berto/Code/CoCo/recon/SN2007uy.dat\n"
     ]
    },
    {
     "data": {
      "text/plain": [
       "True"
      ]
     },
     "execution_count": 33,
     "metadata": {},
     "output_type": "execute_result"
    }
   ],
   "source": [
    "pcc.test_LCfit(\"SN2007uy\")"
   ]
  },
  {
   "cell_type": "markdown",
   "metadata": {},
   "source": [
    "### All SNe"
   ]
  },
  {
   "cell_type": "code",
   "execution_count": 59,
   "metadata": {
    "collapsed": false
   },
   "outputs": [
    {
     "name": "stdout",
     "output_type": "stream",
     "text": [
      "Reading  /Users/berto/Code/CoCo/examples/lc.list\n",
      "/Users/berto/Code/CoCo/data/../data/lc/SN1993J.dat\n",
      "/Users/berto/Code/CoCo/data/../data/lc/SN1994I.dat\n",
      "/Users/berto/Code/CoCo/data/../data/lc/SN1996cb.dat\n",
      "/Users/berto/Code/CoCo/data/../data/lc/SN1998bw.dat\n",
      "/Users/berto/Code/CoCo/data/../data/lc/SN1999dn.dat\n",
      "/Users/berto/Code/CoCo/data/../data/lc/SN2002ap.dat\n",
      "/Users/berto/Code/CoCo/data/../data/lc/SN2003jd.dat\n",
      "/Users/berto/Code/CoCo/data/../data/lc/SN2004aw.dat\n",
      "/Users/berto/Code/CoCo/data/../data/lc/SN2005bf.dat\n",
      "/Users/berto/Code/CoCo/data/../data/lc/SN2005hg.dat\n",
      "/Users/berto/Code/CoCo/data/../data/lc/SN2006aj.dat\n",
      "/Users/berto/Code/CoCo/data/../data/lc/SN2007C.dat\n",
      "/Users/berto/Code/CoCo/data/../data/lc/SN2007Y.dat\n",
      "/Users/berto/Code/CoCo/data/../data/lc/SN2007gr.dat\n",
      "/Users/berto/Code/CoCo/data/../data/lc/SN2007uy.dat\n",
      "/Users/berto/Code/CoCo/data/../data/lc/SN2008D.dat\n",
      "/Users/berto/Code/CoCo/data/../data/lc/SN2008ax.dat\n",
      "/Users/berto/Code/CoCo/data/../data/lc/SN2008bo.dat\n",
      "/Users/berto/Code/CoCo/data/../data/lc/SN2009bb.dat\n",
      "/Users/berto/Code/CoCo/data/../data/lc/SN2009er.dat\n",
      "/Users/berto/Code/CoCo/data/../data/lc/SN2009iz.dat\n",
      "/Users/berto/Code/CoCo/data/../data/lc/SN2009jf.dat\n",
      "/Users/berto/Code/CoCo/data/../data/lc/SN2010al.dat\n",
      "/Users/berto/Code/CoCo/data/../data/lc/SN2010as.dat\n",
      "/Users/berto/Code/CoCo/data/../data/lc/SN2011bm.dat\n",
      "/Users/berto/Code/CoCo/data/../data/lc/SN2011dh.dat\n",
      "/Users/berto/Code/CoCo/data/../data/lc/SN2011ei.dat\n",
      "/Users/berto/Code/CoCo/data/../data/lc/SN2011fu.dat\n",
      "/Users/berto/Code/CoCo/data/../data/lc/SN2012ap.dat\n",
      "/Users/berto/Code/CoCo/data/../data/lc/SN2013ge.dat\n",
      "current list.txt is up to date. re run with force = True to force.\n",
      "Running CoCo lcfit on /Users/berto/Code/CoCo/data/../data/lc/SN1993J.dat\n",
      "Fit complete\n",
      "current list.txt is up to date. re run with force = True to force.\n",
      "Running CoCo lcfit on /Users/berto/Code/CoCo/data/../data/lc/SN1994I.dat\n",
      "Fit complete\n",
      "current list.txt is up to date. re run with force = True to force.\n",
      "Running CoCo lcfit on /Users/berto/Code/CoCo/data/../data/lc/SN1996cb.dat\n",
      "Fit complete\n",
      "current list.txt is up to date. re run with force = True to force.\n",
      "Running CoCo lcfit on /Users/berto/Code/CoCo/data/../data/lc/SN1998bw.dat\n",
      "Fit complete\n",
      "current list.txt is up to date. re run with force = True to force.\n",
      "Running CoCo lcfit on /Users/berto/Code/CoCo/data/../data/lc/SN1999dn.dat\n",
      "Fit complete\n",
      "current list.txt is up to date. re run with force = True to force.\n",
      "Running CoCo lcfit on /Users/berto/Code/CoCo/data/../data/lc/SN2002ap.dat\n",
      "Fit complete\n",
      "current list.txt is up to date. re run with force = True to force.\n",
      "Running CoCo lcfit on /Users/berto/Code/CoCo/data/../data/lc/SN2003jd.dat\n",
      "Fit complete\n",
      "current list.txt is up to date. re run with force = True to force.\n",
      "Running CoCo lcfit on /Users/berto/Code/CoCo/data/../data/lc/SN2004aw.dat\n",
      "Fit complete\n",
      "current list.txt is up to date. re run with force = True to force.\n",
      "Running CoCo lcfit on /Users/berto/Code/CoCo/data/../data/lc/SN2005bf.dat\n",
      "Fit complete\n",
      "current list.txt is up to date. re run with force = True to force.\n",
      "Running CoCo lcfit on /Users/berto/Code/CoCo/data/../data/lc/SN2005hg.dat\n",
      "Fit complete\n",
      "current list.txt is up to date. re run with force = True to force.\n",
      "Running CoCo lcfit on /Users/berto/Code/CoCo/data/../data/lc/SN2006aj.dat\n",
      "Fit complete\n",
      "current list.txt is up to date. re run with force = True to force.\n",
      "Running CoCo lcfit on /Users/berto/Code/CoCo/data/../data/lc/SN2007C.dat\n",
      "Fit complete\n",
      "current list.txt is up to date. re run with force = True to force.\n",
      "Running CoCo lcfit on /Users/berto/Code/CoCo/data/../data/lc/SN2007Y.dat\n",
      "Fit complete\n",
      "current list.txt is up to date. re run with force = True to force.\n",
      "Running CoCo lcfit on /Users/berto/Code/CoCo/data/../data/lc/SN2007gr.dat\n",
      "Fit complete\n",
      "current list.txt is up to date. re run with force = True to force.\n",
      "Running CoCo lcfit on /Users/berto/Code/CoCo/data/../data/lc/SN2007uy.dat\n",
      "Fit complete\n",
      "current list.txt is up to date. re run with force = True to force.\n",
      "Running CoCo lcfit on /Users/berto/Code/CoCo/data/../data/lc/SN2008D.dat\n",
      "Fit complete\n",
      "current list.txt is up to date. re run with force = True to force.\n",
      "Running CoCo lcfit on /Users/berto/Code/CoCo/data/../data/lc/SN2008ax.dat\n",
      "Fit complete\n",
      "current list.txt is up to date. re run with force = True to force.\n",
      "Running CoCo lcfit on /Users/berto/Code/CoCo/data/../data/lc/SN2008bo.dat\n",
      "Fit complete\n",
      "current list.txt is up to date. re run with force = True to force.\n",
      "Running CoCo lcfit on /Users/berto/Code/CoCo/data/../data/lc/SN2009bb.dat\n",
      "Fit complete\n",
      "current list.txt is up to date. re run with force = True to force.\n",
      "Running CoCo lcfit on /Users/berto/Code/CoCo/data/../data/lc/SN2009er.dat\n",
      "Fit complete\n",
      "current list.txt is up to date. re run with force = True to force.\n",
      "Running CoCo lcfit on /Users/berto/Code/CoCo/data/../data/lc/SN2009iz.dat\n",
      "Fit complete\n",
      "current list.txt is up to date. re run with force = True to force.\n",
      "Running CoCo lcfit on /Users/berto/Code/CoCo/data/../data/lc/SN2009jf.dat\n",
      "Fit complete\n",
      "current list.txt is up to date. re run with force = True to force.\n",
      "Running CoCo lcfit on /Users/berto/Code/CoCo/data/../data/lc/SN2010al.dat\n",
      "Fit complete\n",
      "current list.txt is up to date. re run with force = True to force.\n",
      "Running CoCo lcfit on /Users/berto/Code/CoCo/data/../data/lc/SN2010as.dat\n",
      "Fit complete\n",
      "current list.txt is up to date. re run with force = True to force.\n",
      "Running CoCo lcfit on /Users/berto/Code/CoCo/data/../data/lc/SN2011bm.dat\n",
      "Fit complete\n",
      "current list.txt is up to date. re run with force = True to force.\n",
      "Running CoCo lcfit on /Users/berto/Code/CoCo/data/../data/lc/SN2011dh.dat\n",
      "Fit complete\n",
      "current list.txt is up to date. re run with force = True to force.\n",
      "Running CoCo lcfit on /Users/berto/Code/CoCo/data/../data/lc/SN2011ei.dat\n",
      "Fit complete\n",
      "current list.txt is up to date. re run with force = True to force.\n",
      "Running CoCo lcfit on /Users/berto/Code/CoCo/data/../data/lc/SN2011fu.dat\n",
      "Fit complete\n",
      "current list.txt is up to date. re run with force = True to force.\n",
      "Running CoCo lcfit on /Users/berto/Code/CoCo/data/../data/lc/SN2012ap.dat\n",
      "Fit complete\n",
      "current list.txt is up to date. re run with force = True to force.\n",
      "Running CoCo lcfit on /Users/berto/Code/CoCo/data/../data/lc/SN2013ge.dat\n",
      "Fit complete\n"
     ]
    }
   ],
   "source": [
    "pcc.run_LCfit_fileinput(os.path.join(pcc._default_coco_dir_path, \"examples/lc.list\"))"
   ]
  },
  {
   "cell_type": "code",
   "execution_count": 60,
   "metadata": {
    "collapsed": false
   },
   "outputs": [
    {
     "name": "stderr",
     "output_type": "stream",
     "text": [
      "/Users/berto/Code/verbose-enigma/pycoco/classes.py:309: DeprecationWarning: invalid escape sequence \\_\n",
      "  plot_label_string = r'$\\rm{' + self.data.meta[\"filename\"].split('/')[-1].replace('_', '\\_') + '}$'\n",
      "/Users/berto/Code/verbose-enigma/pycoco/classes.py:1798: DeprecationWarning: invalid escape sequence \\_\n",
      "  plot_label_string = r'$\\rm{' + self.data.meta[\"filename\"].replace('_', '\\_') + '}$'\n",
      "/Users/berto/Code/verbose-enigma/pycoco/classes.py:1799: DeprecationWarning: invalid escape sequence \\_\n",
      "  plot_label_string_compare = r'$\\rm{' + SpectrumClassInstance.data.meta[\"filename\"].replace('_', '\\_') + '}$'\n",
      "/Users/berto/Code/verbose-enigma/pycoco/classes.py:2404: DeprecationWarning: invalid escape sequence \\_\n",
      "  plot_label_string = r'$\\rm{' + self.spec[spec_key].data.meta[\"filename\"].split('/')[-1].replace('_', '\\_') + '}$'\n",
      "/Users/berto/Code/verbose-enigma/pycoco/classes.py:2514: DeprecationWarning: invalid escape sequence \\_\n",
      "  plot_label_string = r'$\\rm{' + self.mangledspec[spec_key].data.meta[\"filename\"].split('/')[-1].replace('_', '\\_') + '}$'\n"
     ]
    },
    {
     "data": {
      "text/plain": [
       "<module 'pycoco.coco_calls' from '/Users/berto/Code/verbose-enigma/pycoco/coco_calls.py'>"
      ]
     },
     "execution_count": 60,
     "metadata": {},
     "output_type": "execute_result"
    }
   ],
   "source": [
    "reload(pcc) ## FOR DEV\n",
    "reload(pcc.classes)\n",
    "reload(pcc.defaults) ## FOR DEV\n",
    "reload(pcc.coco_calls) ## FOR DEV"
   ]
  },
  {
   "cell_type": "code",
   "execution_count": 63,
   "metadata": {
    "collapsed": false
   },
   "outputs": [
    {
     "data": {
      "text/html": [
       "&lt;Table length=28&gt;\n",
       "<table id=\"table4615286008\" class=\"table-striped table-bordered table-condensed\">\n",
       "<thead><tr><th>snname</th><th>z_obs</th><th>mu</th><th>RA</th><th>Dec</th><th>Type</th><th>SkyCoords</th></tr></thead>\n",
       "<thead><tr><th></th><th></th><th></th><th></th><th></th><th></th><th>deg,deg</th></tr></thead>\n",
       "<thead><tr><th>str8</th><th>float64</th><th>float64</th><th>str13</th><th>str13</th><th>str3</th><th>object</th></tr></thead>\n",
       "<tr><td>SN1993J</td><td>-0.0001</td><td>27.82</td><td>09:55:24.7747</td><td>+69:01:13.702</td><td>IIb</td><td>148.85322791666664,69.02047277777778</td></tr>\n",
       "<tr><td>SN1994I</td><td>0.0015</td><td>29.5</td><td>13:29:54.072</td><td>+47:11:30.50</td><td>Ic</td><td>202.47529999999995,47.191805555555554</td></tr>\n",
       "<tr><td>SN1996cb</td><td>0.0024</td><td>30.69</td><td>11:03:41.98</td><td>+28:54:13.7</td><td>IIb</td><td>165.92491666666666,28.903805555555554</td></tr>\n",
       "<tr><td>SN1999dn</td><td>0.0093</td><td>32.44</td><td>23:36:14.70</td><td>+02:09:08.8</td><td>Ib</td><td>354.06125,2.1524444444444444</td></tr>\n",
       "<tr><td>SN2002ap</td><td>0.0022</td><td>29.76</td><td>01:36:23.85</td><td>+15:45:13.2</td><td>Ic</td><td>24.099375,15.753666666666666</td></tr>\n",
       "<tr><td>SN2003jd</td><td>0.0188</td><td>34.33</td><td>23:21:03.38</td><td>-04:53:45.5</td><td>Ic</td><td>350.2640833333333,-4.8959722222222215</td></tr>\n",
       "<tr><td>SN2004aw</td><td>0.0159</td><td>34.48</td><td>11:57:50.24</td><td>+25:15:55.1</td><td>Ic</td><td>179.45933333333332,25.265305555555557</td></tr>\n",
       "<tr><td>SN2005bf</td><td>0.0189</td><td>34.73</td><td>10:23:56.99</td><td>-03:11:29.3</td><td>Ib</td><td>155.9874583333333,-3.191472222222222</td></tr>\n",
       "<tr><td>SN2005hg</td><td>0.021</td><td>34.54</td><td>01:55:41.87</td><td>+46:47:47.4</td><td>Ib</td><td>28.924458333333327,46.796499999999995</td></tr>\n",
       "<tr><td>...</td><td>...</td><td>...</td><td>...</td><td>...</td><td>...</td><td>...</td></tr>\n",
       "<tr><td>SN2009er</td><td>0.035</td><td>36.01</td><td>15:39:29.84</td><td>+24:26:05.3</td><td>Ib</td><td>234.8743333333333,24.434805555555556</td></tr>\n",
       "<tr><td>SN2009iz</td><td>0.0142</td><td>33.75</td><td>02:42:15.41</td><td>+42:23:50.1</td><td>Ib</td><td>40.564208333333326,42.39725</td></tr>\n",
       "<tr><td>SN2009jf</td><td>0.008</td><td>32.58</td><td>23:04:52.98</td><td>+12:19:59.5</td><td>Ib</td><td>346.22074999999995,12.333194444444445</td></tr>\n",
       "<tr><td>SN2010al</td><td>0.017</td><td>34.74</td><td>08:14:15.91</td><td>+18:26:18.2</td><td>Ib</td><td>123.56629166666664,18.438388888888888</td></tr>\n",
       "<tr><td>SN2011bm</td><td>0.0022</td><td>35.53</td><td>12:56:53.89</td><td>+22:22:28.2</td><td>Ic</td><td>194.22454166666665,22.3745</td></tr>\n",
       "<tr><td>SN2011dh</td><td>0.0015</td><td>29.5</td><td>13:30:05.1055</td><td>+47:10:10.922</td><td>IIb</td><td>202.52127291666665,47.16970055555555</td></tr>\n",
       "<tr><td>SN2011ei</td><td>0.0093</td><td>32.41</td><td>20:34:22.62</td><td>-31:58:23.6</td><td>IIb</td><td>308.59424999999993,-31.97322222222222</td></tr>\n",
       "<tr><td>SN2011fu</td><td>0.0185</td><td>34.46</td><td>02:08:21.41</td><td>+41:29:12.3</td><td>IIb</td><td>32.08920833333333,41.48675</td></tr>\n",
       "<tr><td>SN2012ap</td><td>0.0121</td><td>32.96</td><td>05:00:13.72</td><td>-03:20:51.2</td><td>Ib</td><td>75.05716666666666,-3.3475555555555556</td></tr>\n",
       "<tr><td>SN2013ge</td><td>0.0043</td><td>31.36</td><td>10:34:48.46</td><td>+21:39:41.9</td><td>Ib</td><td>158.70191666666665,21.661638888888888</td></tr>\n",
       "</table>"
      ],
      "text/plain": [
       "<Table length=28>\n",
       " snname   z_obs     mu   ... Type               SkyCoords              \n",
       "                         ...                     deg,deg               \n",
       "  str8   float64 float64 ... str3                 object               \n",
       "-------- ------- ------- ... ---- -------------------------------------\n",
       " SN1993J -0.0001   27.82 ...  IIb  148.85322791666664,69.02047277777778\n",
       " SN1994I  0.0015    29.5 ...   Ic 202.47529999999995,47.191805555555554\n",
       "SN1996cb  0.0024   30.69 ...  IIb 165.92491666666666,28.903805555555554\n",
       "SN1999dn  0.0093   32.44 ...   Ib          354.06125,2.1524444444444444\n",
       "SN2002ap  0.0022   29.76 ...   Ic          24.099375,15.753666666666666\n",
       "SN2003jd  0.0188   34.33 ...   Ic 350.2640833333333,-4.8959722222222215\n",
       "SN2004aw  0.0159   34.48 ...   Ic 179.45933333333332,25.265305555555557\n",
       "SN2005bf  0.0189   34.73 ...   Ib  155.9874583333333,-3.191472222222222\n",
       "SN2005hg   0.021   34.54 ...   Ib 28.924458333333327,46.796499999999995\n",
       "     ...     ...     ... ...  ...                                   ...\n",
       "SN2009er   0.035   36.01 ...   Ib  234.8743333333333,24.434805555555556\n",
       "SN2009iz  0.0142   33.75 ...   Ib           40.564208333333326,42.39725\n",
       "SN2009jf   0.008   32.58 ...   Ib 346.22074999999995,12.333194444444445\n",
       "SN2010al   0.017   34.74 ...   Ib 123.56629166666664,18.438388888888888\n",
       "SN2011bm  0.0022   35.53 ...   Ic            194.22454166666665,22.3745\n",
       "SN2011dh  0.0015    29.5 ...  IIb  202.52127291666665,47.16970055555555\n",
       "SN2011ei  0.0093   32.41 ...  IIb 308.59424999999993,-31.97322222222222\n",
       "SN2011fu  0.0185   34.46 ...  IIb            32.08920833333333,41.48675\n",
       "SN2012ap  0.0121   32.96 ...   Ib 75.05716666666666,-3.3475555555555556\n",
       "SN2013ge  0.0043   31.36 ...   Ib 158.70191666666665,21.661638888888888"
      ]
     },
     "execution_count": 63,
     "metadata": {},
     "output_type": "execute_result"
    }
   ],
   "source": [
    "\n"
   ]
  },
  {
   "cell_type": "code",
   "execution_count": null,
   "metadata": {
    "collapsed": false
   },
   "outputs": [],
   "source": []
  },
  {
   "cell_type": "code",
   "execution_count": null,
   "metadata": {
    "collapsed": false
   },
   "outputs": [],
   "source": []
  },
  {
   "cell_type": "code",
   "execution_count": 45,
   "metadata": {
    "collapsed": false
   },
   "outputs": [],
   "source": []
  },
  {
   "cell_type": "code",
   "execution_count": 46,
   "metadata": {
    "collapsed": false
   },
   "outputs": [],
   "source": []
  },
  {
   "cell_type": "code",
   "execution_count": 47,
   "metadata": {
    "collapsed": true
   },
   "outputs": [],
   "source": []
  },
  {
   "cell_type": "code",
   "execution_count": null,
   "metadata": {
    "collapsed": false
   },
   "outputs": [],
   "source": []
  },
  {
   "cell_type": "code",
   "execution_count": null,
   "metadata": {
    "collapsed": true
   },
   "outputs": [],
   "source": [
    "\n"
   ]
  },
  {
   "cell_type": "code",
   "execution_count": null,
   "metadata": {
    "collapsed": false
   },
   "outputs": [],
   "source": []
  },
  {
   "cell_type": "code",
   "execution_count": null,
   "metadata": {
    "collapsed": true
   },
   "outputs": [],
   "source": []
  },
  {
   "cell_type": "code",
   "execution_count": null,
   "metadata": {
    "collapsed": true
   },
   "outputs": [],
   "source": []
  },
  {
   "cell_type": "code",
   "execution_count": null,
   "metadata": {
    "collapsed": true
   },
   "outputs": [],
   "source": []
  },
  {
   "cell_type": "code",
   "execution_count": null,
   "metadata": {
    "collapsed": true
   },
   "outputs": [],
   "source": []
  },
  {
   "cell_type": "code",
   "execution_count": null,
   "metadata": {
    "collapsed": true
   },
   "outputs": [],
   "source": []
  }
 ],
 "metadata": {
  "anaconda-cloud": {},
  "kernelspec": {
   "display_name": "Python 3",
   "language": "python",
   "name": "python3"
  },
  "language_info": {
   "codemirror_mode": {
    "name": "ipython",
    "version": 3
   },
   "file_extension": ".py",
   "mimetype": "text/x-python",
   "name": "python",
   "nbconvert_exporter": "python",
   "pygments_lexer": "ipython3",
   "version": "3.6.0"
  }
 },
 "nbformat": 4,
 "nbformat_minor": 1
}
