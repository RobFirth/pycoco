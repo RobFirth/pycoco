{
 "cells": [
  {
   "cell_type": "markdown",
   "metadata": {},
   "source": [
    "# **`pycoco`** calling **`CoCo`**\n",
    "\n",
    "___\n",
    "\n",
    "## Introduction\n",
    "\n",
    "---\n",
    "**`pycoco.coco_calls`**"
   ]
  },
  {
   "cell_type": "code",
   "execution_count": 38,
   "metadata": {
    "collapsed": false
   },
   "outputs": [],
   "source": [
    "try:\n",
    "    from importlib import reload\n",
    "except:\n",
    "    pass\n",
    "\n",
    "# %matplotlib inline\n",
    "%matplotlib notebook\n",
    "\n",
    "from matplotlib import pyplot as plt\n",
    "\n",
    "import os\n",
    "import numpy as np\n",
    "from astropy.table import Table\n",
    "\n",
    "import pycoco as pcc"
   ]
  },
  {
   "cell_type": "code",
   "execution_count": 43,
   "metadata": {
    "collapsed": false
   },
   "outputs": [
    {
     "data": {
      "text/plain": [
       "<module 'pycoco.coco_calls' from '/Users/berto/Code/verbose-enigma/pycoco/coco_calls.py'>"
      ]
     },
     "execution_count": 43,
     "metadata": {},
     "output_type": "execute_result"
    }
   ],
   "source": [
    "reload(pcc) ## FOR DEV\n",
    "reload(pcc.coco_calls) ## FOR DEV"
   ]
  },
  {
   "cell_type": "code",
   "execution_count": 29,
   "metadata": {
    "collapsed": false
   },
   "outputs": [
    {
     "name": "stdout",
     "output_type": "stream",
     "text": [
      "/Users/berto/Code/CoCo\n",
      "Looks like you have done a fit, I found  /Users/berto/Code/CoCo/recon/SN2006aj.stat\n",
      "Looks like you have done a fit, I found  /Users/berto/Code/CoCo/recon/SN2006aj.dat\n"
     ]
    },
    {
     "data": {
      "text/plain": [
       "True"
      ]
     },
     "execution_count": 29,
     "metadata": {},
     "output_type": "execute_result"
    }
   ],
   "source": [
    "pcc.test_LCfit(\"SN2006aj\")"
   ]
  },
  {
   "cell_type": "code",
   "execution_count": 32,
   "metadata": {
    "collapsed": false
   },
   "outputs": [
    {
     "name": "stdout",
     "output_type": "stream",
     "text": [
      "current list.txt is up to date. re run with force = True to force.\n",
      "Running CoCo lcfit on /Users/berto/Code/verbose-enigma/testdata/lc/SN2007uy.dat\n"
     ]
    }
   ],
   "source": [
    "pcc.run_LCfit(os.path.join(pcc._default_data_dir_path, \"lc/SN2007uy.dat\"))"
   ]
  },
  {
   "cell_type": "code",
   "execution_count": 33,
   "metadata": {
    "collapsed": false
   },
   "outputs": [
    {
     "name": "stdout",
     "output_type": "stream",
     "text": [
      "/Users/berto/Code/CoCo\n",
      "Looks like you have done a fit, I found  /Users/berto/Code/CoCo/recon/SN2007uy.stat\n",
      "Looks like you have done a fit, I found  /Users/berto/Code/CoCo/recon/SN2007uy.dat\n"
     ]
    },
    {
     "data": {
      "text/plain": [
       "True"
      ]
     },
     "execution_count": 33,
     "metadata": {},
     "output_type": "execute_result"
    }
   ],
   "source": [
    "pcc.test_LCfit(\"SN2007uy\")"
   ]
  },
  {
   "cell_type": "code",
   "execution_count": null,
   "metadata": {
    "collapsed": false
   },
   "outputs": [
    {
     "name": "stdout",
     "output_type": "stream",
     "text": [
      "Reading  /Users/berto/Code/CoCo/examples/lc.list\n",
      "/Users/berto/Code/CoCo/data/../data/lc/SN1993J.dat\n",
      "/Users/berto/Code/CoCo/data/../data/lc/SN1994I.dat\n",
      "/Users/berto/Code/CoCo/data/../data/lc/SN1996cb.dat\n",
      "/Users/berto/Code/CoCo/data/../data/lc/SN1998bw.dat\n",
      "/Users/berto/Code/CoCo/data/../data/lc/SN1999dn.dat\n",
      "/Users/berto/Code/CoCo/data/../data/lc/SN2002ap.dat\n",
      "/Users/berto/Code/CoCo/data/../data/lc/SN2003jd.dat\n",
      "/Users/berto/Code/CoCo/data/../data/lc/SN2004aw.dat\n",
      "/Users/berto/Code/CoCo/data/../data/lc/SN2005bf.dat\n",
      "/Users/berto/Code/CoCo/data/../data/lc/SN2005hg.dat\n",
      "/Users/berto/Code/CoCo/data/../data/lc/SN2006aj.dat\n",
      "/Users/berto/Code/CoCo/data/../data/lc/SN2007C.dat\n",
      "/Users/berto/Code/CoCo/data/../data/lc/SN2007Y.dat\n",
      "/Users/berto/Code/CoCo/data/../data/lc/SN2007gr.dat\n",
      "/Users/berto/Code/CoCo/data/../data/lc/SN2007uy.dat\n",
      "/Users/berto/Code/CoCo/data/../data/lc/SN2008D.dat\n",
      "/Users/berto/Code/CoCo/data/../data/lc/SN2008ax.dat\n",
      "/Users/berto/Code/CoCo/data/../data/lc/SN2008bo.dat\n",
      "/Users/berto/Code/CoCo/data/../data/lc/SN2009bb.dat\n",
      "/Users/berto/Code/CoCo/data/../data/lc/SN2009er.dat\n",
      "/Users/berto/Code/CoCo/data/../data/lc/SN2009iz.dat\n",
      "/Users/berto/Code/CoCo/data/../data/lc/SN2009jf.dat\n",
      "/Users/berto/Code/CoCo/data/../data/lc/SN2010al.dat\n",
      "/Users/berto/Code/CoCo/data/../data/lc/SN2010as.dat\n",
      "/Users/berto/Code/CoCo/data/../data/lc/SN2011bm.dat\n",
      "/Users/berto/Code/CoCo/data/../data/lc/SN2011dh.dat\n",
      "/Users/berto/Code/CoCo/data/../data/lc/SN2011ei.dat\n",
      "/Users/berto/Code/CoCo/data/../data/lc/SN2011fu.dat\n",
      "/Users/berto/Code/CoCo/data/../data/lc/SN2012ap.dat\n",
      "/Users/berto/Code/CoCo/data/../data/lc/SN2013ge.dat\n",
      "current list.txt is up to date. re run with force = True to force.\n",
      "Running CoCo lcfit on /Users/berto/Code/CoCo/data/../data/lc/SN1993J.dat\n"
     ]
    }
   ],
   "source": [
    "reload(pcc) ## FOR DEV\n",
    "reload(pcc.defaults) ## FOR DEV\n",
    "reload(pcc.coco_calls) ## FOR DEV\n",
    "pcc.run_LCfit_fileinput(os.path.join(pcc._default_coco_dir_path, \"examples/lc.list\"))"
   ]
  },
  {
   "cell_type": "code",
   "execution_count": null,
   "metadata": {
    "collapsed": false
   },
   "outputs": [],
   "source": []
  },
  {
   "cell_type": "code",
   "execution_count": 44,
   "metadata": {
    "collapsed": false
   },
   "outputs": [
    {
     "name": "stdout",
     "output_type": "stream",
     "text": [
      "/Users/berto/Code/CoCo\n"
     ]
    }
   ],
   "source": []
  },
  {
   "cell_type": "code",
   "execution_count": null,
   "metadata": {
    "collapsed": false
   },
   "outputs": [],
   "source": []
  },
  {
   "cell_type": "code",
   "execution_count": null,
   "metadata": {
    "collapsed": false
   },
   "outputs": [],
   "source": []
  },
  {
   "cell_type": "code",
   "execution_count": 45,
   "metadata": {
    "collapsed": false
   },
   "outputs": [],
   "source": []
  },
  {
   "cell_type": "code",
   "execution_count": 46,
   "metadata": {
    "collapsed": false
   },
   "outputs": [],
   "source": [
    "# !pwd\n",
    "# !ls\n",
    "# !echo $COCO_ROOT_DIR\n",
    "# !./lcfit ./data/lc/SN2011dh.dat"
   ]
  },
  {
   "cell_type": "code",
   "execution_count": 47,
   "metadata": {
    "collapsed": true
   },
   "outputs": [],
   "source": []
  },
  {
   "cell_type": "code",
   "execution_count": null,
   "metadata": {
    "collapsed": false
   },
   "outputs": [],
   "source": []
  },
  {
   "cell_type": "code",
   "execution_count": null,
   "metadata": {
    "collapsed": true
   },
   "outputs": [],
   "source": [
    "\n"
   ]
  },
  {
   "cell_type": "code",
   "execution_count": null,
   "metadata": {
    "collapsed": false
   },
   "outputs": [],
   "source": []
  },
  {
   "cell_type": "code",
   "execution_count": null,
   "metadata": {
    "collapsed": true
   },
   "outputs": [],
   "source": []
  },
  {
   "cell_type": "code",
   "execution_count": null,
   "metadata": {
    "collapsed": true
   },
   "outputs": [],
   "source": []
  },
  {
   "cell_type": "code",
   "execution_count": null,
   "metadata": {
    "collapsed": true
   },
   "outputs": [],
   "source": []
  },
  {
   "cell_type": "code",
   "execution_count": null,
   "metadata": {
    "collapsed": true
   },
   "outputs": [],
   "source": []
  },
  {
   "cell_type": "code",
   "execution_count": null,
   "metadata": {
    "collapsed": true
   },
   "outputs": [],
   "source": []
  }
 ],
 "metadata": {
  "anaconda-cloud": {},
  "kernelspec": {
   "display_name": "Python 3",
   "language": "python",
   "name": "python3"
  },
  "language_info": {
   "codemirror_mode": {
    "name": "ipython",
    "version": 3
   },
   "file_extension": ".py",
   "mimetype": "text/x-python",
   "name": "python",
   "nbconvert_exporter": "python",
   "pygments_lexer": "ipython3",
   "version": "3.6.0"
  }
 },
 "nbformat": 4,
 "nbformat_minor": 1
}
