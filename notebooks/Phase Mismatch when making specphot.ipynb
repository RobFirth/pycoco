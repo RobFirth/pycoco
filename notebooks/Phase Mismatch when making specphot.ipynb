{
 "cells": [
  {
   "cell_type": "code",
   "execution_count": 1,
   "metadata": {
    "collapsed": true
   },
   "outputs": [],
   "source": [
    "%matplotlib inline\n",
    "\n",
    "from __future__ import print_function\n",
    "\n",
    "try:\n",
    "    reload  # Python 2.7\n",
    "except NameError:\n",
    "    try:\n",
    "        from importlib import reload  # Python 3.4+\n",
    "    except ImportError:\n",
    "        from imp import reload  # Python 3.0 - 3.3\n",
    "        \n",
    "import os\n",
    "import warnings\n",
    "\n",
    "import numpy as np\n",
    "from astropy.table import Table\n",
    "from matplotlib import pyplot as plt\n",
    "from matplotlib.ticker import MultipleLocator\n",
    "\n",
    "import pycoco as pcc\n",
    "import pyCoCo as pccsim\n",
    "\n",
    "import lsst_tools as lsstt\n",
    "from lcsim.simlib import SIMLIBReader\n",
    "from lcsim.lcsim import LCSim\n",
    "\n",
    "plotdir = os.path.join(os.environ['PYPLOTDIR'], 'SESNePaper/')"
   ]
  },
  {
   "cell_type": "code",
   "execution_count": 2,
   "metadata": {
    "collapsed": true
   },
   "outputs": [],
   "source": [
    "def setup_plot_defaults(font_size=14):\n",
    "    \"\"\"\n",
    "\n",
    "    \"\"\"\n",
    "\n",
    "    plt.rcParams['ps.useafm'] = True\n",
    "    plt.rcParams['pdf.use14corefonts'] = True\n",
    "    plt.rcParams['text.usetex'] = True\n",
    "    plt.rcParams['font.size'] = font_size\n",
    "    plt.rcParams['figure.subplot.hspace'] = 0.1\n",
    "    plt.rc('font', family='sans-serif')\n",
    "    plt.rc('font', serif='Helvetica')\n",
    "    pass\n"
   ]
  },
  {
   "cell_type": "code",
   "execution_count": 6,
   "metadata": {
    "collapsed": true
   },
   "outputs": [],
   "source": [
    "def plot_fig_3(sn, filtername = 'BessellB', legend = True, xminorticks = 5, mark_spectra = True,\n",
    "            fit = True, enforce_zero = True, multiplot = True, yaxis_lim_multiplier = 1.1,\n",
    "            lock_axis = False, xextent = False, filter_uncertainty = 10, yminorticks = 0.5,\n",
    "            outfile = \"Firth+17_fig3.png\", xlim = False, plotdir = os.path.join(os.environ['PYPLOTDIR'], 'SESNePaper/'),\n",
    "            show = True, save = True, scale = 1, \n",
    "            verbose = False, *args, **kwargs):\n",
    "    \"\"\"\n",
    "    Scraped from plotlc\n",
    "    Parameters\n",
    "    ----------\n",
    "\n",
    "    Returns\n",
    "    -------\n",
    "    \"\"\"\n",
    "    if hasattr(sn.phot, \"data\"):\n",
    "\n",
    "        setup_plot_defaults()\n",
    "        outpath = os.path.join(plotdir, outfile)\n",
    "        \n",
    "        fig = plt.figure(figsize=[12, 8])\n",
    "\n",
    "        fig.subplots_adjust(left = 0.09, bottom = 0.13, top = 0.99,\n",
    "                            right = 0.97, hspace=0, wspace = 0)\n",
    "        \n",
    "        ax1 = fig.add_subplot(221)\n",
    "        ax2 = fig.add_subplot(222)\n",
    "        ax3 = fig.add_subplot(223)\n",
    "        ax4 = fig.add_subplot(224)\n",
    "        ## Label the axes\n",
    "        xaxis_label_string = r'$\\textnormal{Time, MJD (days)}$'\n",
    "        yaxis_label_string = r'$\\textnormal{Flux, } 10^{-15}\\textnormal{ erg s}^{-1}\\textnormal{\\AA}^{-1}\\textnormal{cm}^{-2}$'\n",
    "\n",
    "        ## Panel 1\n",
    "\n",
    "        ax1.errorbar(sn.phot.data[filtername]['MJD'], sn.phot.data[filtername]['flux']*scale,\n",
    "                     yerr = sn.phot.data[filtername]['flux_err']*scale,\n",
    "                     capsize = 0, fmt = 'o', color = sn.phot.data_filters[filtername]._plot_colour,\n",
    "                     ecolor = pcc.hex['batman'],\n",
    "                     markeredgecolor = pcc.hex['batman'], markeredgewidth = 1,\n",
    "                     *args, **kwargs)\n",
    "        \n",
    "        ## Panel 2\n",
    "\n",
    "        ax2.errorbar(sn.phot.data[filtername]['MJD'], sn.phot.data[filtername]['flux']*scale,\n",
    "                     yerr = sn.phot.data[filtername]['flux_err']*scale,\n",
    "                     capsize = 0, fmt = 'o', color = sn.phot.data_filters[filtername]._plot_colour,\n",
    "                     ecolor = pcc.hex['batman'],\n",
    "                     markeredgecolor = pcc.hex['batman'], markeredgewidth = 1,\n",
    "                     *args, **kwargs)\n",
    "        \n",
    "        ax2.fill_between(sn.lcfit.data[filtername]['MJD'], sn.lcfit.data[filtername]['flux_upper'], sn.lcfit.data[filtername]['flux_lower'],\n",
    "                 color = sn.phot.data_filters[filtername]._plot_colour,\n",
    "                 alpha = 0.8, zorder = 0,\n",
    "                 *args, **kwargs)\n",
    "    \n",
    "        ## Panel 3\n",
    "   \n",
    "        ax3.errorbar(sn.phot.data[filtername]['MJD'], sn.phot.data[filtername]['flux']*scale,\n",
    "                     yerr = None,\n",
    "                     capsize = 0, fmt = 'o', color = sn.phot.data_filters[filtername]._plot_colour,\n",
    "                     ecolor = pcc.hex['batman'],\n",
    "                     markeredgecolor = pcc.hex['batman'], markeredgewidth = 1, alpha=0.5,\n",
    "                     *args, **kwargs)\n",
    "        \n",
    "        ax3.fill_between(sn.lcfit.data[filtername]['MJD'], sn.lcfit.data[filtername]['flux_upper'], sn.lcfit.data[filtername]['flux_lower'],\n",
    "                 color = sn.phot.data_filters[filtername]._plot_colour,\n",
    "                 alpha = 0.8, zorder = 0,\n",
    "                 *args, **kwargs)\n",
    "\n",
    "        ###\n",
    "        \n",
    "        if verbose: print(sn.spec)\n",
    "        for spec_key in sn.spec:\n",
    "            if verbose: print(spec_key)\n",
    "            too_blue =  sn.phot.data_filters[filtername]._lower_edge < np.nanmin(sn.spec[spec_key].wavelength) - filter_uncertainty\n",
    "            too_red = sn.phot.data_filters[filtername]._upper_edge > np.nanmax(sn.spec[spec_key].wavelength) + filter_uncertainty\n",
    "\n",
    "            if not too_red and not too_blue:\n",
    "                \n",
    "                ax2.plot([sn.spec[spec_key].mjd_obs, sn.spec[spec_key].mjd_obs],\n",
    "                         [0.0, np.nanmax(sn.phot.phot['flux'])*1.5],\n",
    "                         ls = ':', color = pcc.hex['batman'], zorder = 0)\n",
    "                \n",
    "                ax3.plot([sn.spec[spec_key].mjd_obs, sn.spec[spec_key].mjd_obs],\n",
    "                         [0.0, np.nanmax(sn.phot.phot['flux'])*1.5],\n",
    "                         ls = ':', color = pcc.hex['batman'], zorder = 0)\n",
    "                \n",
    "                ax4.plot([sn.spec[spec_key].mjd_obs, sn.spec[spec_key].mjd_obs],\n",
    "                         [0.0, np.nanmax(sn.phot.phot['flux'])*1.5],\n",
    "                         ls = ':', color = pcc.hex['batman'], zorder = 0)                \n",
    "                \n",
    "        ###\n",
    "               \n",
    "        fltPath = b\"/Users/berto/Code/CoCo/data/filters\"\n",
    "        rootPath = b\"/Users/berto/Code/CoCo\"\n",
    "\n",
    "        coco = pccsim.pyCoCo(fltPath, rootPath)\n",
    "        mjdmax_to_sim = pcc.utils.get_mjdmax(sn, \"BessellB\") \n",
    "        mjdmax_v = pcc.utils.get_mjdmax(sn, \"BessellV\") ## Specphase was done relative to V        \n",
    "        print(mjdmax_to_sim, mjdmax_v, mjdmax_to_sim-mjdmax_v)\n",
    "#         mjdmax_to_sim = 0\n",
    "\n",
    "        path_to_filter = os.path.join(pcc.defaults._default_filter_dir_path,\"BessellB.dat\")  \n",
    "        BessellB = pcc.classes.FilterClass()\n",
    "        BessellB.read_filter_file(path_to_filter)\n",
    "        BessellB.calculate_AB_zp()\n",
    "\n",
    "        lcs = LCSim()\n",
    "\n",
    "\n",
    "\n",
    "        mjd_list = np.arange(0.,95,0.1)-30.\n",
    "        mjd_list = mjd_list+mjdmax_to_sim\n",
    "        mjd_to_sim = np.array([])\n",
    "        filters_to_sim = []\n",
    "\n",
    "        for mjd in mjd_list:\n",
    "            filters_to_sim = np.append(filters_to_sim, lsstt.utils.b(BessellB.filter_name))\n",
    "            mjd_to_sim = np.append(mjd_to_sim, mjd)\n",
    "            \n",
    "        info = pcc.classes.InfoClass()\n",
    "        info.load()\n",
    "        z_sim = info.get_sn_info(\"SN1998bw\")[\"z_distmod\"]\n",
    "        z_obs = info.get_sn_info(\"SN1998bw\")[\"z_obs\"]\n",
    "        z_to_sim = z_sim[0]\n",
    "#         z_to_sim=0.01\n",
    "        z_cmap = [0.0]\n",
    "        time_dilation = 1.+z_to_sim\n",
    "\n",
    "        flux, flux_err = coco.simulate(b\"SN1998bw\",\n",
    "                                       z_to_sim, 0.0, 0.0, 0.0, 3.1,\n",
    "                                       mjdmax_to_sim, mjd_to_sim,\n",
    "                                       filters_to_sim)\n",
    "        \n",
    "#         flux, flux_err = coco.simulate_set_params(b\"SN1998bw\",\n",
    "#                                        z_to_sim, 0.0, 0.0, 0.0, 3.1,\n",
    "#                                        mjdmax_to_sim, mjd_to_sim,\n",
    "#                                        filters_to_sim, params)\n",
    "\n",
    "        specphot = coco.spec_photometry(b\"SN1998bw\", \n",
    "                     z_to_sim, b\"BessellB\")\n",
    "\n",
    "        sp = pcc.classes.PhotometryClass()\n",
    "        sp.load_table(pcc.utils.specphot_out_to_ap_table(specphot, mjdmax_to_sim, \"BessellB\"))\n",
    "        \n",
    "        spec_mjd = [sn.spec[spec].mjd_obs for spec in sn.spec]\n",
    "        for i,s in enumerate(spec_mjd):\n",
    "            print((((sp.data[\"BessellB\"][\"MJD\"][i]-mjdmax_to_sim)/((1+z_obs)/(1.-z_sim)))+mjdmax_v)[0],spec_mjd[i]) \n",
    "            \n",
    "#         sp.load_table(pcc.utils.specphot_out_to_ap_table(specphot, mjdmax_v, \"BessellB\")) ## SPECPHASE done wrt BessellV\n",
    "\n",
    "    ### \n",
    "#         ax3.errorbar(sp.phot[\"MJD\"], sp.phot[\"flux\"], yerr=None, color = pcc.hex[\"BessellB\"],\n",
    "#             label = None, ecolor = pcc.hex['batman'], mec = pcc.hex[\"batman\"], fmt=\"o\", capsize=0)\n",
    "\n",
    "## Panel 4      \n",
    "#         ax4.errorbar(sn.simplespecphot.data[filtername]['MJD'], sn.simplespecphot.data[filtername]['flux'],\n",
    "#              yerr = sn.simplespecphot.data[filtername]['flux_err'],\n",
    "#              capsize = 0, fmt = 'o', color = pcc.hex[\"batman\"],\n",
    "#              ecolor = pcc.hex['batman'], mec = pcc.hex[\"batman\"], label = r\"$\\textnormal{SpecPhot}$\",\n",
    "#              *args, **kwargs)\n",
    "        \n",
    "#         ax4.errorbar(sp.phot[\"MJD\"], sp.phot[\"flux\"], yerr=None, color = pcc.hex[\"BessellB\"],\n",
    "#             label = None, ecolor = pcc.hex['batman'], mec = pcc.hex[\"batman\"], fmt=\"o\", capsize=0)\n",
    "\n",
    "#         ax4.errorbar(((sp.phot[\"MJD\"]-mjdmax_to_sim)*time_dilation)+mjdmax_to_sim, sp.phot[\"flux\"], errorbar=None, color = pcc.hex[\"BessellB\"],\n",
    "#             label = None, ecolor = pcc.hex['batman'], mec = pcc.hex[\"batman\"], fmt=\"o\", capsize=0)\n",
    "\n",
    "        ###\n",
    "        \n",
    "        axlist=[ax1, ax2, ax3, ax4]\n",
    "        for ax in axlist:\n",
    "            ax.set_xlim(50915, 51010)\n",
    "            ax.set_ylim(0, 1.6e-14)\n",
    "            \n",
    "    plt.draw()\n",
    "\n",
    "    if save:\n",
    "        plt.savefig(outpath, format = 'png', dpi=300)\n",
    "        fig.savefig(outpath.replace('png', 'pdf'), format = 'pdf', dpi=500)\n",
    "\n",
    "    if show:\n",
    "        plt.show()\n",
    "    else:\n",
    "        plt.close(fig)\n",
    "#     pass\n",
    "    return sn, sp\n",
    "\n",
    "\n",
    "def make_fig3(*args, **kwargs):\n",
    "#     snname = \"SN2009jf\"\n",
    "    snname = \"SN1998bw\"\n",
    "    \n",
    "    sn = pcc.classes.SNClass(snname)\n",
    "    print(sn.name)\n",
    "    sn.load_phot(verbose = False)\n",
    "\n",
    "    sn.load_list(\"/Users/berto/Code/CoCo/lists/\"+snname+\".list\")\n",
    "    sn.load_spec()\n",
    "    sn.get_lcfit(\"/Users/berto/Code/CoCo/recon/\"+snname+\".dat\")\n",
    "    \n",
    "    sn.check_overlaps()\n",
    "    sn.load_mangledspec()\n",
    "    sn.get_simplespecphot()\n",
    "    \n",
    "    sn.phot.data_filters[\"BessellB\"]._plot_colour = pcc.hex[\"BessellB\"]\n",
    "    \n",
    "    xlim = [55115, 55132]\n",
    "    yaxis_lim_multiplier = 1.13\n",
    "#     plot_fig_3(sn,*args, **kwargs)\n",
    "\n",
    "    sn, sp = plot_fig_3(sn,*args, **kwargs)\n",
    "    \n",
    "#     pass\n",
    "    return sn, sp\n"
   ]
  },
  {
   "cell_type": "code",
   "execution_count": 7,
   "metadata": {
    "collapsed": false
   },
   "outputs": [
    {
     "name": "stdout",
     "output_type": "stream",
     "text": [
      "SN1998bw\n"
     ]
    },
    {
     "name": "stderr",
     "output_type": "stream",
     "text": [
      "/Users/berto/Code/verbose-enigma/pycoco/classes.py:220: UserWarning: WARNING: You passed something that was <class 'numpy.str_'>This might go wrong.\n",
      "  StringWarning(filename)\n"
     ]
    },
    {
     "name": "stdout",
     "output_type": "stream",
     "text": [
      "[ 50943.22499996] [ 50944.82199995] [-1.59699999]\n",
      "50936.0432601 50936.07\n",
      "50937.0089162 50937.06\n",
      "50939.9156526 50940.04\n",
      "50940.8813185 50941.03\n",
      "50941.8469844 50942.02\n",
      "50943.7880549 50944.01\n",
      "50945.7193828 50945.99\n",
      "50946.6850428 50946.98\n",
      "50948.6163648 50948.96\n",
      "50951.5231111 50951.94\n",
      "50953.4544331 50953.92\n",
      "50954.4200891 50954.91\n",
      "50955.3857354 50955.9\n",
      "50961.1895089 50961.85\n",
      "50964.096265 50964.83\n",
      "50970.8656454 50971.77\n",
      "50986.345457 50987.64\n",
      "50993.1148374 50994.58\n"
     ]
    },
    {
     "data": {
      "image/png": "[encoded data removed]",
      "text/plain": [
       "<matplotlib.figure.Figure at 0x108b64160>"
      ]
     },
     "metadata": {},
     "output_type": "display_data"
    }
   ],
   "source": [
    "sn, sp = make_fig3(multiplot=False)"
   ]
  },
  {
   "cell_type": "code",
   "execution_count": 9,
   "metadata": {
    "collapsed": false
   },
   "outputs": [
    {
     "name": "stdout",
     "output_type": "stream",
     "text": [
      "50936.0432601 50936.07\n",
      "50937.0089162 50937.06\n",
      "50939.9156526 50940.04\n",
      "50940.8813185 50941.03\n",
      "50941.8469844 50942.02\n",
      "50943.7880549 50944.01\n",
      "50945.7193828 50945.99\n",
      "50946.6850428 50946.98\n",
      "50948.6163648 50948.96\n",
      "50951.5231111 50951.94\n",
      "50953.4544331 50953.92\n",
      "50954.4200891 50954.91\n",
      "50955.3857354 50955.9\n",
      "50961.1895089 50961.85\n",
      "50964.096265 50964.83\n",
      "50970.8656454 50971.77\n",
      "50986.345457 50987.64\n",
      "50993.1148374 50994.58\n"
     ]
    }
   ],
   "source": [
    "info = pcc.classes.InfoClass()\n",
    "info.load()\n",
    "z_sim = info.get_sn_info(\"SN1998bw\")[\"z_distmod\"]\n",
    "z_obs = info.get_sn_info(\"SN1998bw\")[\"z_obs\"]\n",
    "\n",
    "spec_mjd = [sn.spec[spec].mjd_obs for spec in sn.spec]\n",
    "\n",
    "mjdmax_to_sim = pcc.utils.get_mjdmax(sn, \"BessellB\") \n",
    "mjdmax_v = pcc.utils.get_mjdmax(sn, \"BessellV\") ## Specphase was done relative to V     \n",
    "\n",
    "for i,s in enumerate(spec_mjd):\n",
    "    print((((sp.data[\"BessellB\"][\"MJD\"][i]-mjdmax_to_sim)/((1+z_obs)/(1.-z_sim)))+mjdmax_v)[0],spec_mjd[i]) "
   ]
  },
  {
   "cell_type": "code",
   "execution_count": 10,
   "metadata": {
    "collapsed": false
   },
   "outputs": [
    {
     "data": {
      "text/plain": [
       "OrderedDict([('BessellB', <Table length=18>\n",
       "                  MJD             flux       flux_err  filter \n",
       "                float64         float64      float64    str8  \n",
       "              ------------ ----------------- -------- --------\n",
       "               50934.30086 8.03779587621e-15      0.0 BessellB\n",
       "               50935.28251 9.31655076422e-15      0.0 BessellB\n",
       "               50938.23739 1.28151623234e-14      0.0 BessellB\n",
       "               50939.21905 1.35823160246e-14      0.0 BessellB\n",
       "               50940.20071 1.40294432417e-14      0.0 BessellB\n",
       "               50942.17393 1.39996971375e-14      0.0 BessellB\n",
       "              50944.137246 1.30050264764e-14      0.0 BessellB\n",
       "                50945.1189 1.22976277594e-14      0.0 BessellB\n",
       "               50947.08221 1.06898649956e-14      0.0 BessellB\n",
       "                50950.0371 8.39290004661e-15      0.0 BessellB\n",
       "               50952.00041  7.0902510237e-15      0.0 BessellB\n",
       "               50952.98206 6.52077238468e-15      0.0 BessellB\n",
       "                50953.9637 6.00229832152e-15      0.0 BessellB\n",
       "                50959.8636 3.83293648423e-15      0.0 BessellB\n",
       "                50962.8185 3.19460986856e-15      0.0 BessellB\n",
       "                   50969.7               0.0      0.0 BessellB\n",
       "                50985.4362 1.74653995931e-15      0.0 BessellB\n",
       "                50992.3177 1.58837810257e-15      0.0 BessellB)])"
      ]
     },
     "execution_count": 10,
     "metadata": {},
     "output_type": "execute_result"
    }
   ],
   "source": [
    "sp.data"
   ]
  },
  {
   "cell_type": "code",
   "execution_count": 11,
   "metadata": {
    "collapsed": false
   },
   "outputs": [
    {
     "data": {
      "text/plain": [
       "<matplotlib.collections.PathCollection at 0x110d522b0>"
      ]
     },
     "execution_count": 11,
     "metadata": {},
     "output_type": "execute_result"
    },
    {
     "data": {
      "image/png": "[encoded data removed]",
      "text/plain": [
       "<matplotlib.figure.Figure at 0x11165ba20>"
      ]
     },
     "metadata": {},
     "output_type": "display_data"
    }
   ],
   "source": [
    "plt.scatter(spec_mjd, sp.data[\"BessellB\"][\"MJD\"]-spec_mjd)"
   ]
  },
  {
   "cell_type": "code",
   "execution_count": 12,
   "metadata": {
    "collapsed": false
   },
   "outputs": [
    {
     "name": "stdout",
     "output_type": "stream",
     "text": [
      "[-1.62346588]\n"
     ]
    }
   ],
   "source": [
    "print((mjdmax_to_sim- mjdmax_v)*(1.+z_sim[0])/(1.-z_obs[0]))"
   ]
  },
  {
   "cell_type": "code",
   "execution_count": null,
   "metadata": {
    "collapsed": true
   },
   "outputs": [],
   "source": []
  }
 ],
 "metadata": {
  "kernelspec": {
   "display_name": "Python 3",
   "language": "python",
   "name": "python3"
  },
  "language_info": {
   "codemirror_mode": {
    "name": "ipython",
    "version": 3
   },
   "file_extension": ".py",
   "mimetype": "text/x-python",
   "name": "python",
   "nbconvert_exporter": "python",
   "pygments_lexer": "ipython3",
   "version": "3.6.0"
  }
 },
 "nbformat": 4,
 "nbformat_minor": 2
}
