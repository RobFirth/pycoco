{
 "cells": [
  {
   "cell_type": "code",
   "execution_count": 3,
   "metadata": {
    "collapsed": false
   },
   "outputs": [],
   "source": [
    "from __future__ import print_function ## Force python3-like printing\n",
    "\n",
    "try:\n",
    "    from importlib import reload\n",
    "except:\n",
    "    pass\n",
    "\n",
    "%matplotlib inline\n",
    "# %matplotlib notebook\n",
    "from matplotlib import pyplot as plt\n",
    "\n",
    "import os\n",
    "import warnings\n",
    "\n",
    "import numpy as np\n",
    "from astropy.table import Table\n",
    "\n",
    "import pycoco as pcc\n",
    "\n",
    "reload(pcc) ## FOR DEV\n",
    "# reload(pcc.kcorr) ## FOR DEV\n",
    "# reload(pcc.functions) ## FOR DEV\n",
    "# reload(pcc.classes) ## FOR DEV\n",
    "\n",
    "warnings.resetwarnings() ## FOR DEV"
   ]
  },
  {
   "cell_type": "code",
   "execution_count": 4,
   "metadata": {
    "collapsed": false
   },
   "outputs": [
    {
     "ename": "AttributeError",
     "evalue": "module 'pycoco' has no attribute 'kcorr'",
     "output_type": "error",
     "traceback": [
      "\u001b[0;31m---------------------------------------------------------------------------\u001b[0m",
      "\u001b[0;31mAttributeError\u001b[0m                            Traceback (most recent call last)",
      "\u001b[0;32m<ipython-input-4-aed8c0d14939>\u001b[0m in \u001b[0;36m<module>\u001b[0;34m()\u001b[0m\n\u001b[1;32m      2\u001b[0m \u001b[0mB\u001b[0m \u001b[0;34m=\u001b[0m \u001b[0mpcc\u001b[0m\u001b[0;34m.\u001b[0m\u001b[0mload_filter\u001b[0m\u001b[0;34m(\u001b[0m\u001b[0;34m'/Users/berto/Code/CoCo/data/filters/BessellB.dat'\u001b[0m\u001b[0;34m)\u001b[0m\u001b[0;34m\u001b[0m\u001b[0m\n\u001b[1;32m      3\u001b[0m \u001b[0;34m\u001b[0m\u001b[0m\n\u001b[0;32m----> 4\u001b[0;31m \u001b[0mvega\u001b[0m \u001b[0;34m=\u001b[0m \u001b[0mpcc\u001b[0m\u001b[0;34m.\u001b[0m\u001b[0mkcorr\u001b[0m\u001b[0;34m.\u001b[0m\u001b[0mload_vega\u001b[0m\u001b[0;34m(\u001b[0m\u001b[0;34m)\u001b[0m\u001b[0;34m\u001b[0m\u001b[0m\n\u001b[0m\u001b[1;32m      5\u001b[0m \u001b[0mAB\u001b[0m \u001b[0;34m=\u001b[0m \u001b[0mpcc\u001b[0m\u001b[0;34m.\u001b[0m\u001b[0mkcorr\u001b[0m\u001b[0;34m.\u001b[0m\u001b[0mload_AB\u001b[0m\u001b[0;34m(\u001b[0m\u001b[0;34m)\u001b[0m\u001b[0;34m\u001b[0m\u001b[0m\n\u001b[1;32m      6\u001b[0m \u001b[0;34m\u001b[0m\u001b[0m\n",
      "\u001b[0;31mAttributeError\u001b[0m: module 'pycoco' has no attribute 'kcorr'"
     ]
    }
   ],
   "source": [
    "V = pcc.load_filter('/Users/berto/Code/CoCo/data/filters/BessellV.dat')\n",
    "B = pcc.load_filter('/Users/berto/Code/CoCo/data/filters/BessellB.dat')\n",
    "\n",
    "vega = pcc.kcorr.load_vega()\n",
    "AB = pcc.kcorr.load_AB()\n",
    "\n",
    "fig = plt.figure(figsize=[8, 4])\n",
    "fig.subplots_adjust(left = 0.09, bottom = 0.13, top = 0.99,\n",
    "                    right = 0.99, hspace=0, wspace = 0)\n",
    "\n",
    "ax1 = fig.add_subplot(111)\n",
    "ax2 = ax1.twinx()\n",
    "\n",
    "ax1.plot(vega.wavelength, vega.flux)\n",
    "ax1.plot(AB.wavelength, AB.flux)\n",
    "\n",
    "ax2.plot(V.wavelength, V.throughput)\n",
    "ax2.plot([V.lambda_effective.value, V.lambda_effective.value], [0,1], color = hex[\"black\"], ls = \":\")\n",
    "ax2.plot(B.wavelength, B.throughput)\n",
    "ax2.plot([B.lambda_effective.value, B.lambda_effective.value], [0,1], color = hex[\"black\"], ls = \":\")"
   ]
  },
  {
   "cell_type": "code",
   "execution_count": null,
   "metadata": {
    "collapsed": false
   },
   "outputs": [],
   "source": [
    "print(kcorr.calc_offset_AB_minus_Vega(\"BessellV\"))\n",
    "print(kcorr.calc_offset_AB_minus_Vega(\"BessellB\"))\n",
    "print(kcorr.calc_AB_flux(\"BessellB\"))\n",
    "print(kcorr.calc_vega_flux(\"BessellB\"))\n",
    "kcorr.calc_vega_zp(\"BessellB\")\n",
    "# kcorr.calc_vega_mag(\"BessellV\")\n",
    "kcorr.calc_vega_mag(\"BessellB\")"
   ]
  },
  {
   "cell_type": "code",
   "execution_count": null,
   "metadata": {
    "collapsed": true
   },
   "outputs": [],
   "source": [
    "# inpath = \"/Users/berto/data/CoreCollapse/phot/rf/SN2009jf/final/SN2009jf.dat\"\n",
    "# phot = pcc.load(inpath)"
   ]
  },
  {
   "cell_type": "code",
   "execution_count": 1,
   "metadata": {
    "collapsed": false
   },
   "outputs": [
    {
     "ename": "SyntaxError",
     "evalue": "invalid syntax (<ipython-input-1-edac5a2be6a1>, line 1)",
     "output_type": "error",
     "traceback": [
      "\u001b[0;36m  File \u001b[0;32m\"<ipython-input-1-edac5a2be6a1>\"\u001b[0;36m, line \u001b[0;32m1\u001b[0m\n\u001b[0;31m    sn = pcc.\u001b[0m\n\u001b[0m             ^\u001b[0m\n\u001b[0;31mSyntaxError\u001b[0m\u001b[0;31m:\u001b[0m invalid syntax\n"
     ]
    }
   ],
   "source": [
    "sn = pcc."
   ]
  },
  {
   "cell_type": "code",
   "execution_count": null,
   "metadata": {
    "collapsed": false
   },
   "outputs": [],
   "source": []
  },
  {
   "cell_type": "code",
   "execution_count": null,
   "metadata": {
    "collapsed": true
   },
   "outputs": [],
   "source": []
  },
  {
   "cell_type": "code",
   "execution_count": null,
   "metadata": {
    "collapsed": true
   },
   "outputs": [],
   "source": []
  }
 ],
 "metadata": {
  "anaconda-cloud": {},
  "kernelspec": {
   "display_name": "Python 3",
   "language": "python",
   "name": "python3"
  },
  "language_info": {
   "codemirror_mode": {
    "name": "ipython",
    "version": 3
   },
   "file_extension": ".py",
   "mimetype": "text/x-python",
   "name": "python",
   "nbconvert_exporter": "python",
   "pygments_lexer": "ipython3",
   "version": "3.6.0"
  }
 },
 "nbformat": 4,
 "nbformat_minor": 1
}
