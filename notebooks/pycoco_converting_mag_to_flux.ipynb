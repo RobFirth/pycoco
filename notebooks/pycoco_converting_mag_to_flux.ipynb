{
 "cells": [
  {
   "cell_type": "code",
   "execution_count": 23,
   "metadata": {
    "collapsed": true
   },
   "outputs": [],
   "source": [
    "from __future__ import print_function ## Force python3-like printing\n",
    "\n",
    "try:\n",
    "    from importlib import reload\n",
    "except:\n",
    "    pass\n",
    "\n",
    "%matplotlib inline\n",
    "# %matplotlib notebook\n",
    "\n",
    "from matplotlib import pyplot as plt\n",
    "\n",
    "import os\n",
    "import warnings\n",
    "\n",
    "import numpy as np\n",
    "from astropy.table import Table\n",
    "from scipy.integrate import simps\n",
    "\n",
    "import pycoco as pcc\n",
    "\n",
    "reload(pcc) ## FOR DEV\n",
    "reload(pcc.kcorr) ## FOR DEV\n",
    "reload(pcc.functions) ## FOR DEV\n",
    "reload(pcc.classes) ## FOR DEV\n",
    "reload(pcc.colours)\n",
    "\n",
    "warnings.resetwarnings() ## FOR DEV"
   ]
  },
  {
   "cell_type": "code",
   "execution_count": 24,
   "metadata": {},
   "outputs": [
    {
     "name": "stdout",
     "output_type": "stream",
     "text": [
      "<pycoco.classes.FilterClass object at 0x110a68dd8>\n"
     ]
    }
   ],
   "source": [
    "V = pcc.load_filter('/Users/bertiepwhite/code/CoCo/data/filters/BessellV.dat')\n",
    "B = pcc.load_filter('/Users/bertiepwhite/code/CoCo/data/filters/BessellB.dat')\n",
    "\n",
    "vega = pcc.kcorr.load_vega()\n",
    "AB = pcc.kcorr.load_AB()\n",
    "\n",
    "print(V)"
   ]
  },
  {
   "cell_type": "code",
   "execution_count": 25,
   "metadata": {},
   "outputs": [
    {
     "data": {
      "text/plain": [
       "[<matplotlib.lines.Line2D at 0x10a7cf828>]"
      ]
     },
     "execution_count": 25,
     "metadata": {},
     "output_type": "execute_result"
    },
    {
     "data": {
      "image/png": "[encoded data removed]",
      "text/plain": [
       "<matplotlib.figure.Figure at 0x10bb41cc0>"
      ]
     },
     "metadata": {},
     "output_type": "display_data"
    }
   ],
   "source": [
    "fig = plt.figure(figsize=[8, 4])\n",
    "fig.subplots_adjust(left = 0.09, bottom = 0.13, top = 0.99,\n",
    "                    right = 0.99, hspace=0, wspace = 0)\n",
    "\n",
    "ax1 = fig.add_subplot(111)\n",
    "ax2 = ax1.twinx()\n",
    "\n",
    "ax1.plot(vega.wavelength, vega.flux)\n",
    "ax1.plot(AB.wavelength, AB.flux)\n",
    "\n",
    "ax2.plot(V.wavelength, V.throughput)\n",
    "ax2.plot([V.lambda_effective.value, V.lambda_effective.value], [0,1], color = pcc.colours.hex[\"black\"], ls = \":\")\n",
    "ax2.plot(B.wavelength, B.throughput)\n",
    "ax2.plot([B.lambda_effective.value, B.lambda_effective.value], [0,1], color = pcc.colours.hex[\"black\"], ls = \":\")"
   ]
  },
  {
   "cell_type": "markdown",
   "metadata": {},
   "source": [
    "Test whether the scaling matches that in Bohlin & Gilliland, 2004, AJ, 127, 3508 (the source of the spectrum) i.e. absolute flux level is 3.46 × 10-9 ergs cm-2 s-1 at 5556 Angstroms"
   ]
  },
  {
   "cell_type": "code",
   "execution_count": 26,
   "metadata": {},
   "outputs": [
    {
     "data": {
      "text/html": [
       "&lt;Table length=1&gt;\n",
       "<table id=\"table4574204032\" class=\"table-striped table-bordered table-condensed\">\n",
       "<thead><tr><th>wavelength</th><th>flux</th></tr></thead>\n",
       "<thead><tr><th>Angstrom</th><th>erg / (Angstrom cm2 s)</th></tr></thead>\n",
       "<thead><tr><th>float64</th><th>float64</th></tr></thead>\n",
       "<tr><td>5555.0</td><td>3.464e-09</td></tr>\n",
       "</table>"
      ],
      "text/plain": [
       "<Table length=1>\n",
       "wavelength          flux         \n",
       " Angstrom  erg / (Angstrom cm2 s)\n",
       " float64          float64        \n",
       "---------- ----------------------\n",
       "    5555.0              3.464e-09"
      ]
     },
     "execution_count": 26,
     "metadata": {},
     "output_type": "execute_result"
    }
   ],
   "source": [
    "vega.data[np.logical_and(vega.data[\"wavelength\"] > 5550., vega.data[\"wavelength\"] < 5560.)]"
   ]
  },
  {
   "cell_type": "markdown",
   "metadata": {},
   "source": [
    "Want to find the flux in a given band, take Bessell V as an example."
   ]
  },
  {
   "cell_type": "code",
   "execution_count": 27,
   "metadata": {
    "collapsed": true
   },
   "outputs": [],
   "source": [
    "filter_name = \"BessellV\"\n",
    "filter_object = pcc.kcorr.load_filter(\"/Users/bertiepwhite/code/CoCo/data/filters/\" + filter_name + \".dat\")"
   ]
  },
  {
   "cell_type": "markdown",
   "metadata": {},
   "source": [
    "Resample the filter wavelength to that of the spectrum, and calculate the resulting transmission"
   ]
  },
  {
   "cell_type": "code",
   "execution_count": 41,
   "metadata": {
    "collapsed": true
   },
   "outputs": [],
   "source": [
    "filter_object.resample_response(new_wavelength = AB.wavelength)\n",
    "transmitted_spec = filter_object.throughput * AB.flux"
   ]
  },
  {
   "cell_type": "code",
   "execution_count": 29,
   "metadata": {},
   "outputs": [
    {
     "name": "stdout",
     "output_type": "stream",
     "text": [
      "3.24042605185e-06\n"
     ]
    }
   ],
   "source": [
    "integrated_flux = simps(transmitted_spec, AB.wavelength)\n",
    "\n",
    "print(integrated_flux)"
   ]
  },
  {
   "cell_type": "code",
   "execution_count": 30,
   "metadata": {
    "collapsed": true
   },
   "outputs": [],
   "source": [
    "filter_area = simps(filter_object.throughput, filter_object.wavelength)"
   ]
  },
  {
   "cell_type": "code",
   "execution_count": 31,
   "metadata": {},
   "outputs": [
    {
     "name": "stdout",
     "output_type": "stream",
     "text": [
      "21.1007662906\n"
     ]
    }
   ],
   "source": [
    "zp_AB = -2.5*np.log10(integrated_flux/filter_area)\n",
    "print(zp_AB)"
   ]
  },
  {
   "cell_type": "markdown",
   "metadata": {},
   "source": [
    "These steps are combined in **`pycoco.kcorr.calc_AB_zp()`**"
   ]
  },
  {
   "cell_type": "code",
   "execution_count": 32,
   "metadata": {},
   "outputs": [
    {
     "name": "stdout",
     "output_type": "stream",
     "text": [
      "21.1011399643\n"
     ]
    }
   ],
   "source": [
    "print(pcc.kcorr.calc_AB_zp(\"BessellV\"))"
   ]
  },
  {
   "cell_type": "markdown",
   "metadata": {},
   "source": [
    "Equivalently, for Vega Magnitudes - **`pycoco.calc_vega_zp`**"
   ]
  },
  {
   "cell_type": "code",
   "execution_count": 43,
   "metadata": {},
   "outputs": [
    {
     "name": "stderr",
     "output_type": "stream",
     "text": [
      "/Users/bertiepwhite/code/pycoco/pycoco/utils.py:192: UserWarning: /Users/berto/Code/CoCo/data/filters/BessellV.dat is not a valid file. Returning 'False'.\n",
      "  \" is not a valid file. Returning 'False'.\")\n",
      "/Users/bertiepwhite/code/pycoco/pycoco/functions.py:86: UserWarning: Couldn't load the filter\n",
      "  warnings.warn(\"Couldn't load the filter\")\n"
     ]
    },
    {
     "ename": "AttributeError",
     "evalue": "'NoneType' object has no attribute 'resample_response'",
     "output_type": "error",
     "traceback": [
      "\u001b[0;31m---------------------------------------------------------------------------\u001b[0m",
      "\u001b[0;31mAttributeError\u001b[0m                            Traceback (most recent call last)",
      "\u001b[0;32m<ipython-input-43-7ea9a46ea3b1>\u001b[0m in \u001b[0;36m<module>\u001b[0;34m()\u001b[0m\n\u001b[0;32m----> 1\u001b[0;31m \u001b[0mprint\u001b[0m\u001b[0;34m(\u001b[0m\u001b[0mpcc\u001b[0m\u001b[0;34m.\u001b[0m\u001b[0mkcorr\u001b[0m\u001b[0;34m.\u001b[0m\u001b[0mcalc_vega_zp\u001b[0m\u001b[0;34m(\u001b[0m\u001b[0;34m\"BessellV\"\u001b[0m\u001b[0;34m)\u001b[0m\u001b[0;34m)\u001b[0m\u001b[0;34m\u001b[0m\u001b[0m\n\u001b[0m",
      "\u001b[0;32m/Users/bertiepwhite/code/pycoco/pycoco/kcorr.py\u001b[0m in \u001b[0;36mcalc_vega_zp\u001b[0;34m(filter_name, filter_object, vega_Vmag)\u001b[0m\n\u001b[1;32m    210\u001b[0m         \u001b[0mfilter_object\u001b[0m \u001b[0;34m=\u001b[0m \u001b[0mload_filter\u001b[0m\u001b[0;34m(\u001b[0m\u001b[0mos\u001b[0m\u001b[0;34m.\u001b[0m\u001b[0mpath\u001b[0m\u001b[0;34m.\u001b[0m\u001b[0mjoin\u001b[0m\u001b[0;34m(\u001b[0m\u001b[0m_default_filter_dir_path\u001b[0m\u001b[0;34m,\u001b[0m \u001b[0mfilter_name\u001b[0m \u001b[0;34m+\u001b[0m \u001b[0;34m\".dat\"\u001b[0m\u001b[0;34m)\u001b[0m\u001b[0;34m)\u001b[0m\u001b[0;34m\u001b[0m\u001b[0m\n\u001b[1;32m    211\u001b[0m \u001b[0;34m\u001b[0m\u001b[0m\n\u001b[0;32m--> 212\u001b[0;31m     \u001b[0mintegrated_flux\u001b[0m \u001b[0;34m=\u001b[0m \u001b[0mcalc_vega_flux\u001b[0m\u001b[0;34m(\u001b[0m\u001b[0mfilter_name\u001b[0m\u001b[0;34m)\u001b[0m\u001b[0;34m\u001b[0m\u001b[0m\n\u001b[0m\u001b[1;32m    213\u001b[0m     \u001b[0marea_corr_integrated_flux\u001b[0m \u001b[0;34m=\u001b[0m \u001b[0mintegrated_flux\u001b[0m \u001b[0;34m/\u001b[0m \u001b[0mcalc_filter_area\u001b[0m\u001b[0;34m(\u001b[0m\u001b[0mfilter_name\u001b[0m\u001b[0;34m)\u001b[0m\u001b[0;34m\u001b[0m\u001b[0m\n\u001b[1;32m    214\u001b[0m \u001b[0;34m\u001b[0m\u001b[0m\n",
      "\u001b[0;32m/Users/bertiepwhite/code/pycoco/pycoco/kcorr.py\u001b[0m in \u001b[0;36mcalc_vega_flux\u001b[0;34m(filter_name, filter_object)\u001b[0m\n\u001b[1;32m    193\u001b[0m     \u001b[0;31m# else if hasattr(filter_object, \"wavelength\"):\u001b[0m\u001b[0;34m\u001b[0m\u001b[0;34m\u001b[0m\u001b[0m\n\u001b[1;32m    194\u001b[0m \u001b[0;34m\u001b[0m\u001b[0m\n\u001b[0;32m--> 195\u001b[0;31m     \u001b[0mfilter_object\u001b[0m\u001b[0;34m.\u001b[0m\u001b[0mresample_response\u001b[0m\u001b[0;34m(\u001b[0m\u001b[0mnew_wavelength\u001b[0m \u001b[0;34m=\u001b[0m \u001b[0mvega\u001b[0m\u001b[0;34m.\u001b[0m\u001b[0mwavelength\u001b[0m\u001b[0;34m)\u001b[0m\u001b[0;34m\u001b[0m\u001b[0m\n\u001b[0m\u001b[1;32m    196\u001b[0m \u001b[0;34m\u001b[0m\u001b[0m\n\u001b[1;32m    197\u001b[0m     \u001b[0mtransmitted_spec\u001b[0m \u001b[0;34m=\u001b[0m \u001b[0mfilter_object\u001b[0m\u001b[0;34m.\u001b[0m\u001b[0mthroughput\u001b[0m \u001b[0;34m*\u001b[0m \u001b[0mvega\u001b[0m\u001b[0;34m.\u001b[0m\u001b[0mflux\u001b[0m\u001b[0;34m\u001b[0m\u001b[0m\n",
      "\u001b[0;31mAttributeError\u001b[0m: 'NoneType' object has no attribute 'resample_response'"
     ]
    }
   ],
   "source": [
    "print(pcc.kcorr.calc_vega_zp(\"BessellV\"))"
   ]
  },
  {
   "cell_type": "markdown",
   "metadata": {
    "collapsed": true
   },
   "source": [
    "$m = -2.5log_{10}(F) - m_{zp}$\n",
    "\n",
    "so\n",
    "\n",
    "$F = 10^{\\frac{m - m_{zp}}{-2.5}}$\n",
    "\n",
    "and \n",
    "\n",
    "$\\Delta F = 1.086F \\frac{\\Delta m}{m}$"
   ]
  },
  {
   "cell_type": "code",
   "execution_count": null,
   "metadata": {
    "collapsed": true
   },
   "outputs": [],
   "source": []
  },
  {
   "cell_type": "code",
   "execution_count": 34,
   "metadata": {},
   "outputs": [
    {
     "name": "stdout",
     "output_type": "stream",
     "text": [
      "/Users/bertiepwhite/code/CoCo/data/lc/SN2006aj.dat\n"
     ]
    }
   ],
   "source": [
    "sn = pcc.SNClass(\"SN2006aj\")\n",
    "sn.load_phot( path = os.path.join(pcc._default_data_dir_path,\"lc/SN2006aj.dat\"))\n",
    "sn.load_list(os.path.join(pcc._default_coco_dir_path, \"lists/SN2006aj.list\"))\n",
    "# sn.load_spec()\n",
    "# sn.check_overlaps()\n",
    "# sn.get_lcfit(\"/Users/berto/Code/CoCo/recon/SN2006aj.dat\")"
   ]
  },
  {
   "cell_type": "code",
   "execution_count": 35,
   "metadata": {
    "collapsed": true
   },
   "outputs": [],
   "source": [
    "sn.phot.load(os.path.join(pcc._default_data_dir_path,\"lc/SN2006aj.dat\"))"
   ]
  },
  {
   "cell_type": "code",
   "execution_count": 36,
   "metadata": {},
   "outputs": [
    {
     "data": {
      "image/png": "[encoded data removed]",
      "text/plain": [
       "<matplotlib.figure.Figure at 0x10c540908>"
      ]
     },
     "metadata": {},
     "output_type": "display_data"
    }
   ],
   "source": [
    "sn.plot_lc()"
   ]
  },
  {
   "cell_type": "code",
   "execution_count": 37,
   "metadata": {},
   "outputs": [
    {
     "name": "stdout",
     "output_type": "stream",
     "text": [
      "(53786.161999999997, 18.11823445263655)\n",
      "(53786.207999999999, 18.168233416286597)\n",
      "(53786.878700000001, 17.998232374372812)\n",
      "(53787.032299999999, 17.978233217608427)\n",
      "(53787.196000000004, 18.008234672141633)\n",
      "(53788.127699999997, 17.728232521902825)\n",
      "(53788.186000000002, 17.778234046610692)\n",
      "(53789.0573, 17.608233099005275)\n",
      "(53789.126600000003, 17.57823423011056)\n",
      "(53789.196000000004, 17.57823423011056)\n",
      "(53790.127500000002, 17.498233866900861)\n",
      "(53790.871299999999, 17.418233932019874)\n",
      "(53791.048300000002, 17.388233531073041)\n",
      "(53791.112000000001, 17.37823310260972)\n",
      "(53792.041299999997, 17.318234564798807)\n",
      "(53792.139999999999, 17.288234747053679)\n",
      "(53792.872000000003, 17.288234747053679)\n",
      "(53793.015599999999, 17.258234485020708)\n",
      "(53793.049700000003, 17.268233224970075)\n",
      "(53793.167000000001, 17.278233583930252)\n",
      "(53794.005299999997, 17.258234485020708)\n",
      "(53794.167999999998, 17.208233052823445)\n",
      "(53795.035300000003, 17.258234485020708)\n",
      "(53796.031300000002, 17.278233583930252)\n",
      "(53796.142999999996, 17.248234208523748)\n",
      "(53796.867299999998, 17.308234024738191)\n",
      "(53797.034500000002, 17.318234564798807)\n",
      "(53797.101999999999, 17.318234564798807)\n",
      "(53798.033100000001, 17.368233554198376)\n",
      "(53798.097000000002, 17.368233554198376)\n",
      "(53799.013400000003, 17.408233662460319)\n",
      "(53800.037900000003, 17.488233257452983)\n",
      "(53800.118000000002, 17.528233283219386)\n",
      "(53800.891199999998, 17.478233652422624)\n",
      "(53802.001799999998, 17.658233467027408)\n",
      "(53802.034699999997, 17.668233977510994)\n",
      "(53802.999799999998, 17.728232521902825)\n",
      "(53803.006699999998, 17.728232521902825)\n",
      "(53804.002399999998, 17.818233214815805)\n",
      "(53804.008000000002, 17.788233666628784)\n",
      "(53805.998699999996, 17.948233340021723)\n",
      "(53807.015700000004, 18.028232521785377)\n",
      "(53807.112000000001, 18.138233675378999)\n",
      "(53807.999100000001, 18.108234012977661)\n",
      "(53808.999199999998, 18.218232270141506)\n",
      "(53810.0023, 18.22823300813679)\n",
      "(53810.108, 18.348234180210831)\n"
     ]
    }
   ],
   "source": [
    "mag = -2.5*np.log10(sn.phot.data['BessellV'][\"flux\"]) - zp_AB + 0.2\n",
    "t = sn.phot.data['BessellV'][\"MJD\"]\n",
    "\n",
    "for i in zip(t, mag):\n",
    "    print(i)"
   ]
  },
  {
   "cell_type": "code",
   "execution_count": null,
   "metadata": {
    "collapsed": true
   },
   "outputs": [],
   "source": []
  },
  {
   "cell_type": "code",
   "execution_count": null,
   "metadata": {
    "collapsed": true
   },
   "outputs": [],
   "source": []
  },
  {
   "cell_type": "code",
   "execution_count": null,
   "metadata": {
    "collapsed": true
   },
   "outputs": [],
   "source": []
  },
  {
   "cell_type": "code",
   "execution_count": null,
   "metadata": {
    "collapsed": true
   },
   "outputs": [],
   "source": []
  },
  {
   "cell_type": "code",
   "execution_count": null,
   "metadata": {
    "collapsed": true
   },
   "outputs": [],
   "source": []
  },
  {
   "cell_type": "code",
   "execution_count": 38,
   "metadata": {
    "collapsed": true
   },
   "outputs": [],
   "source": [
    "import pycoco.litdata as plit"
   ]
  },
  {
   "cell_type": "code",
   "execution_count": 39,
   "metadata": {
    "collapsed": true
   },
   "outputs": [],
   "source": [
    "def get_lit_sn(snname = \"2006aj\"):\n",
    "    lit_sn = OrderedDict()\n",
    "    \n",
    "    data = plit.load_CfA_phot_table()\n",
    "    \n",
    "    sndata = data[np.where(data[\"SN\"] == snname)]"
   ]
  },
  {
   "cell_type": "code",
   "execution_count": 40,
   "metadata": {},
   "outputs": [
    {
     "ename": "FileNotFoundError",
     "evalue": "[Errno 2] No such file or directory: '/Users/berto/data/CoreCollapse/phot/apjs496616_combined_translated_table_RF.txt'",
     "output_type": "error",
     "traceback": [
      "\u001b[0;31m---------------------------------------------------------------------------\u001b[0m",
      "\u001b[0;31mFileNotFoundError\u001b[0m                         Traceback (most recent call last)",
      "\u001b[0;32m<ipython-input-40-36890c5b4b0d>\u001b[0m in \u001b[0;36m<module>\u001b[0;34m()\u001b[0m\n\u001b[1;32m      1\u001b[0m \u001b[0msnname\u001b[0m \u001b[0;34m=\u001b[0m \u001b[0;34m\"2006aj\"\u001b[0m\u001b[0;34m\u001b[0m\u001b[0m\n\u001b[0;32m----> 2\u001b[0;31m \u001b[0mdata\u001b[0m \u001b[0;34m=\u001b[0m \u001b[0mplit\u001b[0m\u001b[0;34m.\u001b[0m\u001b[0mload_CfA_phot_table\u001b[0m\u001b[0;34m(\u001b[0m\u001b[0;34m)\u001b[0m\u001b[0;34m\u001b[0m\u001b[0m\n\u001b[0m\u001b[1;32m      3\u001b[0m \u001b[0msndata\u001b[0m \u001b[0;34m=\u001b[0m \u001b[0mdata\u001b[0m\u001b[0;34m[\u001b[0m\u001b[0mnp\u001b[0m\u001b[0;34m.\u001b[0m\u001b[0mwhere\u001b[0m\u001b[0;34m(\u001b[0m\u001b[0mdata\u001b[0m\u001b[0;34m[\u001b[0m\u001b[0;34m\"SN\"\u001b[0m\u001b[0;34m]\u001b[0m \u001b[0;34m==\u001b[0m \u001b[0msnname\u001b[0m\u001b[0;34m)\u001b[0m\u001b[0;34m]\u001b[0m\u001b[0;34m\u001b[0m\u001b[0m\n",
      "\u001b[0;32m/Users/bertiepwhite/code/pycoco/pycoco/litdata.py\u001b[0m in \u001b[0;36mload_CfA_phot_table\u001b[0;34m(verbose)\u001b[0m\n\u001b[1;32m    189\u001b[0m \u001b[0;32mdef\u001b[0m \u001b[0mload_CfA_phot_table\u001b[0m\u001b[0;34m(\u001b[0m\u001b[0mverbose\u001b[0m \u001b[0;34m=\u001b[0m \u001b[0;32mFalse\u001b[0m\u001b[0;34m)\u001b[0m\u001b[0;34m:\u001b[0m\u001b[0;34m\u001b[0m\u001b[0m\n\u001b[1;32m    190\u001b[0m     \u001b[0mfname\u001b[0m \u001b[0;34m=\u001b[0m \u001b[0;34m\"/Users/berto/data/CoreCollapse/phot/apjs496616_combined_translated_table_RF.txt\"\u001b[0m\u001b[0;34m\u001b[0m\u001b[0m\n\u001b[0;32m--> 191\u001b[0;31m     \u001b[0mdata\u001b[0m \u001b[0;34m=\u001b[0m \u001b[0mascii\u001b[0m\u001b[0;34m.\u001b[0m\u001b[0mread\u001b[0m\u001b[0;34m(\u001b[0m\u001b[0mfname\u001b[0m\u001b[0;34m)\u001b[0m\u001b[0;34m\u001b[0m\u001b[0m\n\u001b[0m\u001b[1;32m    192\u001b[0m     \u001b[0;32mreturn\u001b[0m \u001b[0mdata\u001b[0m\u001b[0;34m\u001b[0m\u001b[0m\n\u001b[1;32m    193\u001b[0m \u001b[0;34m\u001b[0m\u001b[0m\n",
      "\u001b[0;32m/Users/bertiepwhite/anaconda/lib/python3.6/site-packages/astropy/io/ascii/ui.py\u001b[0m in \u001b[0;36mread\u001b[0;34m(table, guess, **kwargs)\u001b[0m\n\u001b[1;32m    320\u001b[0m         \u001b[0;31m# through below to the non-guess way so that any problems result in a\u001b[0m\u001b[0;34m\u001b[0m\u001b[0;34m\u001b[0m\u001b[0m\n\u001b[1;32m    321\u001b[0m         \u001b[0;31m# more useful traceback.\u001b[0m\u001b[0;34m\u001b[0m\u001b[0;34m\u001b[0m\u001b[0m\n\u001b[0;32m--> 322\u001b[0;31m         \u001b[0mdat\u001b[0m \u001b[0;34m=\u001b[0m \u001b[0m_guess\u001b[0m\u001b[0;34m(\u001b[0m\u001b[0mtable\u001b[0m\u001b[0;34m,\u001b[0m \u001b[0mnew_kwargs\u001b[0m\u001b[0;34m,\u001b[0m \u001b[0mformat\u001b[0m\u001b[0;34m,\u001b[0m \u001b[0mfast_reader_param\u001b[0m\u001b[0;34m)\u001b[0m\u001b[0;34m\u001b[0m\u001b[0m\n\u001b[0m\u001b[1;32m    323\u001b[0m         \u001b[0;32mif\u001b[0m \u001b[0mdat\u001b[0m \u001b[0;32mis\u001b[0m \u001b[0;32mNone\u001b[0m\u001b[0;34m:\u001b[0m\u001b[0;34m\u001b[0m\u001b[0m\n\u001b[1;32m    324\u001b[0m             \u001b[0mguess\u001b[0m \u001b[0;34m=\u001b[0m \u001b[0;32mFalse\u001b[0m\u001b[0;34m\u001b[0m\u001b[0m\n",
      "\u001b[0;32m/Users/bertiepwhite/anaconda/lib/python3.6/site-packages/astropy/io/ascii/ui.py\u001b[0m in \u001b[0;36m_guess\u001b[0;34m(table, read_kwargs, format, fast_reader)\u001b[0m\n\u001b[1;32m    468\u001b[0m             \u001b[0mreader\u001b[0m \u001b[0;34m=\u001b[0m \u001b[0mget_reader\u001b[0m\u001b[0;34m(\u001b[0m\u001b[0;34m**\u001b[0m\u001b[0mguess_kwargs\u001b[0m\u001b[0;34m)\u001b[0m\u001b[0;34m\u001b[0m\u001b[0m\n\u001b[1;32m    469\u001b[0m             \u001b[0mreader\u001b[0m\u001b[0;34m.\u001b[0m\u001b[0mguessing\u001b[0m \u001b[0;34m=\u001b[0m \u001b[0;32mTrue\u001b[0m\u001b[0;34m\u001b[0m\u001b[0m\n\u001b[0;32m--> 470\u001b[0;31m             \u001b[0mdat\u001b[0m \u001b[0;34m=\u001b[0m \u001b[0mreader\u001b[0m\u001b[0;34m.\u001b[0m\u001b[0mread\u001b[0m\u001b[0;34m(\u001b[0m\u001b[0mtable\u001b[0m\u001b[0;34m)\u001b[0m\u001b[0;34m\u001b[0m\u001b[0m\n\u001b[0m\u001b[1;32m    471\u001b[0m             _read_trace.append({'kwargs': guess_kwargs, 'status': 'Success (guessing)',\n\u001b[1;32m    472\u001b[0m                                 'dt': '{0:.3f} ms'.format((time.time() - t0) * 1000)})\n",
      "\u001b[0;32m/Users/bertiepwhite/anaconda/lib/python3.6/site-packages/astropy/io/ascii/core.py\u001b[0m in \u001b[0;36mread\u001b[0;34m(self, table)\u001b[0m\n\u001b[1;32m   1142\u001b[0m \u001b[0;34m\u001b[0m\u001b[0m\n\u001b[1;32m   1143\u001b[0m         \u001b[0;31m# Get a list of the lines (rows) in the table\u001b[0m\u001b[0;34m\u001b[0m\u001b[0;34m\u001b[0m\u001b[0m\n\u001b[0;32m-> 1144\u001b[0;31m         \u001b[0mself\u001b[0m\u001b[0;34m.\u001b[0m\u001b[0mlines\u001b[0m \u001b[0;34m=\u001b[0m \u001b[0mself\u001b[0m\u001b[0;34m.\u001b[0m\u001b[0minputter\u001b[0m\u001b[0;34m.\u001b[0m\u001b[0mget_lines\u001b[0m\u001b[0;34m(\u001b[0m\u001b[0mtable\u001b[0m\u001b[0;34m)\u001b[0m\u001b[0;34m\u001b[0m\u001b[0m\n\u001b[0m\u001b[1;32m   1145\u001b[0m \u001b[0;34m\u001b[0m\u001b[0m\n\u001b[1;32m   1146\u001b[0m         \u001b[0;31m# Set self.data.data_lines to a slice of lines contain the data rows\u001b[0m\u001b[0;34m\u001b[0m\u001b[0;34m\u001b[0m\u001b[0m\n",
      "\u001b[0;32m/Users/bertiepwhite/anaconda/lib/python3.6/site-packages/astropy/io/ascii/core.py\u001b[0m in \u001b[0;36mget_lines\u001b[0;34m(self, table)\u001b[0m\n\u001b[1;32m    281\u001b[0m             if (hasattr(table, 'read') or\n\u001b[1;32m    282\u001b[0m                     ('\\n' not in table + '' and '\\r' not in table + '')):\n\u001b[0;32m--> 283\u001b[0;31m                 \u001b[0;32mwith\u001b[0m \u001b[0mget_readable_fileobj\u001b[0m\u001b[0;34m(\u001b[0m\u001b[0mtable\u001b[0m\u001b[0;34m)\u001b[0m \u001b[0;32mas\u001b[0m \u001b[0mfile_obj\u001b[0m\u001b[0;34m:\u001b[0m\u001b[0;34m\u001b[0m\u001b[0m\n\u001b[0m\u001b[1;32m    284\u001b[0m                     \u001b[0mtable\u001b[0m \u001b[0;34m=\u001b[0m \u001b[0mfile_obj\u001b[0m\u001b[0;34m.\u001b[0m\u001b[0mread\u001b[0m\u001b[0;34m(\u001b[0m\u001b[0;34m)\u001b[0m\u001b[0;34m\u001b[0m\u001b[0m\n\u001b[1;32m    285\u001b[0m             \u001b[0mlines\u001b[0m \u001b[0;34m=\u001b[0m \u001b[0mtable\u001b[0m\u001b[0;34m.\u001b[0m\u001b[0msplitlines\u001b[0m\u001b[0;34m(\u001b[0m\u001b[0;34m)\u001b[0m\u001b[0;34m\u001b[0m\u001b[0m\n",
      "\u001b[0;32m/Users/bertiepwhite/anaconda/lib/python3.6/contextlib.py\u001b[0m in \u001b[0;36m__enter__\u001b[0;34m(self)\u001b[0m\n\u001b[1;32m     80\u001b[0m     \u001b[0;32mdef\u001b[0m \u001b[0m__enter__\u001b[0m\u001b[0;34m(\u001b[0m\u001b[0mself\u001b[0m\u001b[0;34m)\u001b[0m\u001b[0;34m:\u001b[0m\u001b[0;34m\u001b[0m\u001b[0m\n\u001b[1;32m     81\u001b[0m         \u001b[0;32mtry\u001b[0m\u001b[0;34m:\u001b[0m\u001b[0;34m\u001b[0m\u001b[0m\n\u001b[0;32m---> 82\u001b[0;31m             \u001b[0;32mreturn\u001b[0m \u001b[0mnext\u001b[0m\u001b[0;34m(\u001b[0m\u001b[0mself\u001b[0m\u001b[0;34m.\u001b[0m\u001b[0mgen\u001b[0m\u001b[0;34m)\u001b[0m\u001b[0;34m\u001b[0m\u001b[0m\n\u001b[0m\u001b[1;32m     83\u001b[0m         \u001b[0;32mexcept\u001b[0m \u001b[0mStopIteration\u001b[0m\u001b[0;34m:\u001b[0m\u001b[0;34m\u001b[0m\u001b[0m\n\u001b[1;32m     84\u001b[0m             \u001b[0;32mraise\u001b[0m \u001b[0mRuntimeError\u001b[0m\u001b[0;34m(\u001b[0m\u001b[0;34m\"generator didn't yield\"\u001b[0m\u001b[0;34m)\u001b[0m \u001b[0;32mfrom\u001b[0m \u001b[0;32mNone\u001b[0m\u001b[0;34m\u001b[0m\u001b[0m\n",
      "\u001b[0;32m/Users/bertiepwhite/anaconda/lib/python3.6/site-packages/astropy/utils/data.py\u001b[0m in \u001b[0;36mget_readable_fileobj\u001b[0;34m(name_or_obj, encoding, cache, show_progress, remote_timeout)\u001b[0m\n\u001b[1;32m    199\u001b[0m             \u001b[0mfileobj\u001b[0m \u001b[0;34m=\u001b[0m \u001b[0mopen\u001b[0m\u001b[0;34m(\u001b[0m\u001b[0mname_or_obj\u001b[0m\u001b[0;34m,\u001b[0m \u001b[0;34m'rb'\u001b[0m\u001b[0;34m)\u001b[0m\u001b[0;34m\u001b[0m\u001b[0m\n\u001b[1;32m    200\u001b[0m         \u001b[0;32melse\u001b[0m\u001b[0;34m:\u001b[0m\u001b[0;34m\u001b[0m\u001b[0m\n\u001b[0;32m--> 201\u001b[0;31m             \u001b[0mfileobj\u001b[0m \u001b[0;34m=\u001b[0m \u001b[0mio\u001b[0m\u001b[0;34m.\u001b[0m\u001b[0mFileIO\u001b[0m\u001b[0;34m(\u001b[0m\u001b[0mname_or_obj\u001b[0m\u001b[0;34m,\u001b[0m \u001b[0;34m'r'\u001b[0m\u001b[0;34m)\u001b[0m\u001b[0;34m\u001b[0m\u001b[0m\n\u001b[0m\u001b[1;32m    202\u001b[0m         \u001b[0;32mif\u001b[0m \u001b[0mis_url\u001b[0m \u001b[0;32mand\u001b[0m \u001b[0;32mnot\u001b[0m \u001b[0mcache\u001b[0m\u001b[0;34m:\u001b[0m\u001b[0;34m\u001b[0m\u001b[0m\n\u001b[1;32m    203\u001b[0m             \u001b[0mdelete_fds\u001b[0m\u001b[0;34m.\u001b[0m\u001b[0mappend\u001b[0m\u001b[0;34m(\u001b[0m\u001b[0mfileobj\u001b[0m\u001b[0;34m)\u001b[0m\u001b[0;34m\u001b[0m\u001b[0m\n",
      "\u001b[0;31mFileNotFoundError\u001b[0m: [Errno 2] No such file or directory: '/Users/berto/data/CoreCollapse/phot/apjs496616_combined_translated_table_RF.txt'"
     ]
    }
   ],
   "source": [
    "snname = \"2006aj\"\n",
    "data = plit.load_CfA_phot_table()\n",
    "sndata = data[np.where(data[\"SN\"] == snname)]"
   ]
  },
  {
   "cell_type": "code",
   "execution_count": null,
   "metadata": {
    "collapsed": true
   },
   "outputs": [],
   "source": []
  },
  {
   "cell_type": "code",
   "execution_count": null,
   "metadata": {
    "collapsed": true
   },
   "outputs": [],
   "source": [
    "sndata[np.where(sndata[\"Filter\"] == \"BessellV\")]"
   ]
  },
  {
   "cell_type": "code",
   "execution_count": null,
   "metadata": {
    "collapsed": true
   },
   "outputs": [],
   "source": [
    "import pycoco\n",
    "isinstance(pycoco.classes.FilterClass, FilterClass)"
   ]
  },
  {
   "cell_type": "code",
   "execution_count": null,
   "metadata": {
    "collapsed": true
   },
   "outputs": [],
   "source": [
    "from pycoco.classes import FilterClass"
   ]
  },
  {
   "cell_type": "code",
   "execution_count": null,
   "metadata": {
    "collapsed": true
   },
   "outputs": [],
   "source": []
  }
 ],
 "metadata": {
  "anaconda-cloud": {},
  "kernelspec": {
   "display_name": "Python 3",
   "language": "python",
   "name": "python3"
  },
  "language_info": {
   "codemirror_mode": {
    "name": "ipython",
    "version": 3
   },
   "file_extension": ".py",
   "mimetype": "text/x-python",
   "name": "python",
   "nbconvert_exporter": "python",
   "pygments_lexer": "ipython3",
   "version": "3.6.1"
  }
 },
 "nbformat": 4,
 "nbformat_minor": 1
}
