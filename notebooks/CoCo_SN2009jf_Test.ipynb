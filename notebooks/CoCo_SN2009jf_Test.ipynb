{
 "cells": [
  {
   "cell_type": "code",
   "execution_count": null,
   "metadata": {
    "collapsed": false
   },
   "outputs": [],
   "source": [
    "# %matplotlib inline\n",
    "%matplotlib notebook\n",
    "\n",
    "try:\n",
    "    from importlib import reload\n",
    "except:\n",
    "    pass\n",
    "\n",
    "from __future__ import print_function ## Force python3-like printing\n",
    "\n",
    "import os\n",
    "\n",
    "from matplotlib import pyplot as plt\n",
    "from matplotlib import rc\n",
    "rc('text', usetex=True)\n",
    "\n",
    "import sfdmap\n",
    "\n",
    "import numpy as np\n",
    "from astropy.table import Table,Column\n",
    "\n",
    "import pycoco as pcc\n",
    "\n",
    "reload(pcc) ## FOR DEV\n",
    "# reload(pcc.defaults)\n",
    "# reload(pcc.functions)\n",
    "# reload(pcc.classes)\n",
    "# reload(pcc.utils)\n",
    "\n",
    "\n",
    "import pyCoCo as pccsims"
   ]
  },
  {
   "cell_type": "code",
   "execution_count": null,
   "metadata": {
    "collapsed": true
   },
   "outputs": [],
   "source": [
    "def convert_column_string_encoding(column):\n",
    "    column = Column([pcc.utils.b(x) for x in column.data], name = column.name)\n",
    "    return column\n",
    "\n",
    "def get_mjdmax_BessellV(sn):\n",
    "    v = sn.lcfit.spline[\"BessellV\"]    \n",
    "    mjd_spline = np.arange(np.nanmin(sn.phot.data[\"BessellV\"][\"MJD\"]), \n",
    "                 np.nanmax(sn.phot.data[\"BessellV\"][\"MJD\"]),\n",
    "                 0.001)\n",
    "    w = np.where(v(mjd_spline) == np.nanmax(v(mjd_spline)))\n",
    "\n",
    "    mjdmax = mjd_spline[w]\n",
    "    \n",
    "    return mjdmax"
   ]
  },
  {
   "cell_type": "code",
   "execution_count": null,
   "metadata": {
    "collapsed": false
   },
   "outputs": [],
   "source": [
    "filter_path = pcc._default_filter_dir_path\n",
    "coco_root_path = pcc._default_coco_dir_path\n",
    "\n",
    "coco = pccsims.pyCoCo(pcc.utils.b(filter_path), pcc.utils.b(coco_root_path))"
   ]
  },
  {
   "cell_type": "markdown",
   "metadata": {},
   "source": [
    "Load in an templates object "
   ]
  },
  {
   "cell_type": "code",
   "execution_count": null,
   "metadata": {
    "collapsed": false,
    "scrolled": false
   },
   "outputs": [],
   "source": [
    "# snname = \"SN2007uy\"\n",
    "snname = \"SN2009jf\"\n",
    "\n",
    "sn = pcc.SNClass(snname)\n",
    "\n",
    "phot_path = os.path.join(coco_root_path, \"data/lc/\", snname + \".dat\")\n",
    "speclist_path = os.path.join(str(coco_root_path),\"lists/\" + snname + \".list\")\n",
    "recon_filename = os.path.abspath(os.path.join(str(coco_root_path), \"recon/\", snname + \".dat\"))\n",
    "\n",
    "print(phot_path)\n",
    "sn.load_phot(path = phot_path)\n",
    "# sn.phot.plot()\n",
    "sn.get_lcfit(recon_filename)\n",
    "\n",
    "sn.load_list(path = speclist_path)\n",
    "sn.load_spec()\n",
    "# sn.load_mangledspec()\n",
    "# sn.plot_spec()\n",
    "# sn.plot_mangledspec()\n",
    "sn.plot_lc(multiplot = False)"
   ]
  },
  {
   "cell_type": "code",
   "execution_count": null,
   "metadata": {
    "collapsed": false
   },
   "outputs": [],
   "source": [
    "sn.plot_lc(multiplot = True, lock_axis=True)"
   ]
  },
  {
   "cell_type": "code",
   "execution_count": null,
   "metadata": {
    "collapsed": false
   },
   "outputs": [],
   "source": [
    "sn.load_mangledspec()\n",
    "sn.plot_spec()"
   ]
  },
  {
   "cell_type": "code",
   "execution_count": null,
   "metadata": {
    "collapsed": false
   },
   "outputs": [],
   "source": [
    "sn.plot_mangledspec()"
   ]
  },
  {
   "cell_type": "markdown",
   "metadata": {},
   "source": [
    "inputs:\n",
    "\n",
    "* **`snname`**\n",
    "* **`redshift`**\n",
    "* **`absmag offset`**\n",
    "* **`EBV MW`**\n",
    "* **`EBV Host`**\n",
    "* **`Rv`**\n",
    "* **`MJD at Peak`**\n",
    "\n",
    "* **`MJD to simulate`**\n",
    "* **`filters to simulate`**"
   ]
  },
  {
   "cell_type": "code",
   "execution_count": null,
   "metadata": {
    "collapsed": false
   },
   "outputs": [],
   "source": [
    "sn.lcfit.get_fit_splines()"
   ]
  },
  {
   "cell_type": "markdown",
   "metadata": {},
   "source": [
    "Quick check that the fit spline fits the fit (in Bessell V).\n",
    "Note: spline sampled at MJDOBS so looks slightly linear."
   ]
  },
  {
   "cell_type": "code",
   "execution_count": null,
   "metadata": {
    "collapsed": false
   },
   "outputs": [],
   "source": [
    "plt.plot(sn.phot.data[\"BessellV\"][\"MJD\"], sn.lcfit.spline[\"BessellV\"](sn.phot.data[\"BessellV\"][\"MJD\"]), label = r\"$\\textnormal{Spline}$\")\n",
    "plt.scatter(sn.phot.data[\"BessellV\"][\"MJD\"], sn.phot.data[\"BessellV\"][\"flux\"], label = r\"$\\textnormal{Photometry}$\")\n",
    "plt.plot(sn.lcfit.data[\"BessellV\"][\"MJD\"], sn.lcfit.data[\"BessellV\"][\"flux\"], label = r\"$\\textnormal{Fit}$\")\n",
    "plt.legend()"
   ]
  },
  {
   "cell_type": "code",
   "execution_count": null,
   "metadata": {
    "collapsed": false
   },
   "outputs": [],
   "source": [
    "mjdmax = get_mjdmax_BessellV(sn)[0]\n",
    "\n",
    "filters_to_sim = convert_column_string_encoding(sn.phot.phot[\"filter\"]).data\n",
    "mjd_to_sim = sn.phot.phot[\"MJD\"].data"
   ]
  },
  {
   "cell_type": "code",
   "execution_count": null,
   "metadata": {
    "collapsed": false
   },
   "outputs": [],
   "source": [
    "verbose = False\n",
    "# verbose = True\n",
    "\n",
    "if verbose:\n",
    "    print(mjdmax)\n",
    "    print(mjd_to_sim)\n",
    "    print(filters_to_sim)"
   ]
  },
  {
   "cell_type": "code",
   "execution_count": null,
   "metadata": {
    "collapsed": false
   },
   "outputs": [],
   "source": [
    "# tablepath = \"/Users/berto/Code/verbose-enigma/testdata/info/info.dat\"\n",
    "\n",
    "# info = Table.read(tablepath, format = \"ascii.commented_header\")\n",
    "info = pcc.load_info()"
   ]
  },
  {
   "cell_type": "code",
   "execution_count": null,
   "metadata": {
    "collapsed": false
   },
   "outputs": [],
   "source": [
    "z_obs = info.get_sn_info(\"SN2009jf\")[\"z_obs\"]\n",
    "m = sfdmap.SFDMap()\n",
    "\n",
    "print(z_obs)"
   ]
  },
  {
   "cell_type": "code",
   "execution_count": null,
   "metadata": {
    "collapsed": false
   },
   "outputs": [],
   "source": [
    "flux, flux_err = coco.simulate(b\"SN2009jf\", \n",
    "                    0.008, 2.9, 0.0, 0.0, 3.1, \n",
    "                    mjdmax, mjd_to_sim, \n",
    "                    filters_to_sim)\n",
    "\n",
    "# flux, flux_err = coco.simulate(b\"SN2009jf\", \n",
    "#                     0.008, 0.0, 0.1, 0.1, 3.1, \n",
    "#                     mjdmax, mjd_to_sim, \n",
    "#                     filters_to_sim)"
   ]
  },
  {
   "cell_type": "code",
   "execution_count": null,
   "metadata": {
    "collapsed": false
   },
   "outputs": [],
   "source": [
    "# pccsims.__file__"
   ]
  },
  {
   "cell_type": "code",
   "execution_count": null,
   "metadata": {
    "collapsed": false
   },
   "outputs": [],
   "source": [
    "p = pcc.PhotometryClass()\n",
    "\n",
    "p.load_table(pcc.utils.simulate_out_to_ap_table(mjd_to_sim, flux, flux_err, filters_to_sim))"
   ]
  },
  {
   "cell_type": "code",
   "execution_count": null,
   "metadata": {
    "collapsed": false,
    "scrolled": true
   },
   "outputs": [],
   "source": [
    "p.plot(legend=True)"
   ]
  },
  {
   "cell_type": "code",
   "execution_count": null,
   "metadata": {
    "collapsed": false
   },
   "outputs": [],
   "source": [
    "plt.scatter(p.data[\"BessellV\"][\"MJD\"], p.data[\"BessellV\"][\"flux\"], label = \"Synthetic Bessell V\")\n",
    "plt.scatter(sn.phot.data[\"BessellB\"][\"MJD\"], sn.phot.data[\"BessellB\"][\"flux\"], label = \"Real Bessell V\")\n",
    "\n",
    "plt.ylim(0, 1.02 *np.nanmax(np.append(p.data[\"BessellV\"][\"flux\"], sn.phot.data[\"BessellB\"][\"flux\"])))\n",
    "plt.legend()"
   ]
  },
  {
   "cell_type": "code",
   "execution_count": null,
   "metadata": {
    "collapsed": false
   },
   "outputs": [],
   "source": [
    "sn.plot_lc([\"BessellB\"], multiplot = False)"
   ]
  },
  {
   "cell_type": "code",
   "execution_count": null,
   "metadata": {
    "collapsed": false
   },
   "outputs": [],
   "source": [
    "p.plot([\"BessellB\"])"
   ]
  },
  {
   "cell_type": "code",
   "execution_count": null,
   "metadata": {
    "collapsed": false
   },
   "outputs": [],
   "source": [
    "sn.plot_lc(multiplot=False)"
   ]
  },
  {
   "cell_type": "code",
   "execution_count": null,
   "metadata": {
    "collapsed": false
   },
   "outputs": [],
   "source": [
    "sn.load_mangledspec()"
   ]
  },
  {
   "cell_type": "code",
   "execution_count": null,
   "metadata": {
    "collapsed": false
   },
   "outputs": [],
   "source": [
    "sn.plot_mangledspec()"
   ]
  },
  {
   "cell_type": "code",
   "execution_count": null,
   "metadata": {
    "collapsed": false
   },
   "outputs": [],
   "source": [
    "sn.plot_spec()"
   ]
  },
  {
   "cell_type": "code",
   "execution_count": null,
   "metadata": {
    "collapsed": false
   },
   "outputs": [],
   "source": [
    "mjdmax = get_mjdmax_BessellV(sn)[0]\n",
    "\n",
    "filters_to_sim = convert_column_string_encoding(sn.phot.data[\"BessellB\"][\"filter\"]).data\n",
    "mjd_to_sim = sn.phot.data[\"BessellB\"][\"MJD\"].data\n",
    "\n",
    "flux, flux_err = coco.simulate(b\"SN2009jf\", \n",
    "                    z_obs, -0.0, 0.2, 0.3, 3.1, \n",
    "                    mjdmax, mjd_to_sim, \n",
    "                    filters_to_sim)"
   ]
  },
  {
   "cell_type": "code",
   "execution_count": null,
   "metadata": {
    "collapsed": false
   },
   "outputs": [],
   "source": [
    "plt.scatter(mjd_to_sim,sn.phot.data[\"BessellB\"][\"flux\"])\n",
    "plt.plot(sn.lcfit.data[\"BessellB\"][\"MJD\"], sn.lcfit.data[\"BessellB\"][\"flux\"])\n",
    "\n",
    "plt.ylim(0, np.nanmax(sn.phot.data[\"BessellB\"][\"flux\"])*1.1)"
   ]
  },
  {
   "cell_type": "code",
   "execution_count": null,
   "metadata": {
    "collapsed": false
   },
   "outputs": [],
   "source": []
  },
  {
   "cell_type": "code",
   "execution_count": null,
   "metadata": {
    "collapsed": false
   },
   "outputs": [],
   "source": []
  },
  {
   "cell_type": "code",
   "execution_count": null,
   "metadata": {
    "collapsed": true
   },
   "outputs": [],
   "source": [
    "p = pcc.PhotometryClass()\n",
    "\n",
    "p.load_table(pcc.utils.simulate_out_to_ap_table(mjd_to_sim, flux, flux_err, filters_to_sim))"
   ]
  },
  {
   "cell_type": "code",
   "execution_count": null,
   "metadata": {
    "collapsed": false
   },
   "outputs": [],
   "source": [
    "p.plot()"
   ]
  },
  {
   "cell_type": "code",
   "execution_count": null,
   "metadata": {
    "collapsed": false
   },
   "outputs": [],
   "source": [
    "# s = pcc.SpectrumClass()\n",
    "\n",
    "# s.load(\"SN2009jf_55106.120000.spec\", directory=\"/Users/berto/Code/CoCo/spectra/\")\n",
    "\n",
    "# s.plot()"
   ]
  },
  {
   "cell_type": "code",
   "execution_count": null,
   "metadata": {
    "collapsed": false
   },
   "outputs": [],
   "source": [
    "# s = pcc.SpectrumClass()\n",
    "# s.load(\"SN2009jf_55108.130000.spec\", directory=\"/Users/berto/Code/CoCo/spectra/\")\n",
    "# s.plot()"
   ]
  },
  {
   "cell_type": "code",
   "execution_count": null,
   "metadata": {
    "collapsed": false
   },
   "outputs": [],
   "source": [
    "# s = pcc.SpectrumClass()\n",
    "# s.load(\"SN2009jf_55114.060000.spec\", directory=\"/Users/berto/Code/CoCo/spectra/\")\n",
    "# s.plot()"
   ]
  },
  {
   "cell_type": "code",
   "execution_count": null,
   "metadata": {
    "collapsed": false
   },
   "outputs": [],
   "source": []
  },
  {
   "cell_type": "code",
   "execution_count": null,
   "metadata": {
    "collapsed": false
   },
   "outputs": [],
   "source": [
    "from astropy import units as u\n",
    "from astropy.coordinates import SkyCoord\n",
    "\n",
    "from astropy.table import Table\n",
    "def load_coords(filename = \"sncoordinates.list\"):\n",
    "    \"\"\"\n",
    "\n",
    "    \"\"\"\n",
    "    path = os.path.abspath(os.path.join(pcc.__path__[0], os.path.pardir, filename))\n",
    "    coordtable = Table.read(path, format = 'ascii.commented_header')\n",
    "    return coordtable"
   ]
  },
  {
   "cell_type": "code",
   "execution_count": null,
   "metadata": {
    "collapsed": false
   },
   "outputs": [],
   "source": [
    "# %timeit load_coords()"
   ]
  },
  {
   "cell_type": "code",
   "execution_count": null,
   "metadata": {
    "collapsed": false
   },
   "outputs": [],
   "source": [
    "cootable = load_coords()"
   ]
  },
  {
   "cell_type": "code",
   "execution_count": null,
   "metadata": {
    "collapsed": false
   },
   "outputs": [],
   "source": [
    "%%timeit\n",
    "\n",
    "snname = \"SN2009jf\"\n",
    "w = np.where(cootable[\"snname\"] == snname)\n",
    "c = SkyCoord(cootable[\"RA\"][w], cootable[\"Dec\"][w], frame='icrs')\n"
   ]
  },
  {
   "cell_type": "code",
   "execution_count": null,
   "metadata": {
    "collapsed": false
   },
   "outputs": [],
   "source": [
    "c.ra.deg[0], c.dec.deg[0]"
   ]
  },
  {
   "cell_type": "code",
   "execution_count": null,
   "metadata": {
    "collapsed": true
   },
   "outputs": [],
   "source": [
    "import sfdmap"
   ]
  },
  {
   "cell_type": "code",
   "execution_count": null,
   "metadata": {
    "collapsed": true
   },
   "outputs": [],
   "source": [
    "m = sfdmap.SFDMap()"
   ]
  },
  {
   "cell_type": "code",
   "execution_count": null,
   "metadata": {
    "collapsed": false
   },
   "outputs": [],
   "source": [
    "m.ebv(c.ra.deg[0], c.dec.deg[0], unit = 'degree')"
   ]
  },
  {
   "cell_type": "code",
   "execution_count": null,
   "metadata": {
    "collapsed": true
   },
   "outputs": [],
   "source": []
  }
 ],
 "metadata": {
  "anaconda-cloud": {},
  "kernelspec": {
   "display_name": "Python 3",
   "language": "python",
   "name": "python3"
  },
  "language_info": {
   "codemirror_mode": {
    "name": "ipython",
    "version": 3
   },
   "file_extension": ".py",
   "mimetype": "text/x-python",
   "name": "python",
   "nbconvert_exporter": "python",
   "pygments_lexer": "ipython3",
   "version": "3.6.0"
  }
 },
 "nbformat": 4,
 "nbformat_minor": 1
}
